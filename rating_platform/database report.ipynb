{
 "cells": [
  {
   "cell_type": "code",
   "execution_count": 1,
   "metadata": {
    "collapsed": true
   },
   "outputs": [],
   "source": [
    "date = '2017-08-30'\n",
    "fn = 'DB-backup/%s/cyclings_vid1.json' % date"
   ]
  },
  {
   "cell_type": "code",
   "execution_count": 2,
   "metadata": {
    "collapsed": true
   },
   "outputs": [],
   "source": [
    "%matplotlib inline"
   ]
  },
  {
   "cell_type": "code",
   "execution_count": 3,
   "metadata": {
    "collapsed": true
   },
   "outputs": [],
   "source": [
    "import json"
   ]
  },
  {
   "cell_type": "code",
   "execution_count": 4,
   "metadata": {
    "collapsed": true
   },
   "outputs": [],
   "source": [
    "data = json.load(open(fn))"
   ]
  },
  {
   "cell_type": "code",
   "execution_count": 5,
   "metadata": {
    "collapsed": true
   },
   "outputs": [],
   "source": [
    "import pandas as pd"
   ]
  },
  {
   "cell_type": "code",
   "execution_count": 6,
   "metadata": {},
   "outputs": [
    {
     "name": "stdout",
     "output_type": "stream",
     "text": [
      "2 loginLog\n",
      "3 Rating\n",
      "4 RoadSegment\n",
      "5 Users\n",
      "6 Video\n",
      "8 VideoRoadSeg\n"
     ]
    }
   ],
   "source": [
    "dfs = {}\n",
    "for i, item in enumerate(data):\n",
    "    if item['type']=='table':\n",
    "        name = item['name']\n",
    "        if name not in ( 'video2seg_temp'):\n",
    "            print(i,item['name'])\n",
    "            dfs[name] = pd.DataFrame(item['data'])"
   ]
  },
  {
   "cell_type": "markdown",
   "metadata": {},
   "source": [
    "# Statistics of Users:\n",
    "\n",
    "- completeness of survey\n",
    "- number of users in each exp-lvl group"
   ]
  },
  {
   "cell_type": "code",
   "execution_count": 15,
   "metadata": {
    "scrolled": true
   },
   "outputs": [
    {
     "data": {
      "text/plain": [
       "(50, 15)"
      ]
     },
     "execution_count": 15,
     "metadata": {},
     "output_type": "execute_result"
    }
   ],
   "source": [
    "users = dfs['Users']\n",
    "users.shape"
   ]
  },
  {
   "cell_type": "code",
   "execution_count": 16,
   "metadata": {},
   "outputs": [
    {
     "data": {
      "text/plain": [
       "<matplotlib.axes._subplots.AxesSubplot at 0x2cd74584400>"
      ]
     },
     "execution_count": 16,
     "metadata": {},
     "output_type": "execute_result"
    },
    {
     "data": {
      "image/png": "[encoded data removed]",
      "text/plain": [
       "<matplotlib.figure.Figure at 0x2cd74572da0>"
      ]
     },
     "metadata": {},
     "output_type": "display_data"
    }
   ],
   "source": [
    "users.has_survey.fillna(0).value_counts().plot(kind='pie')"
   ]
  },
  {
   "cell_type": "code",
   "execution_count": 17,
   "metadata": {},
   "outputs": [
    {
     "data": {
      "text/plain": [
       "<matplotlib.axes._subplots.AxesSubplot at 0x2cd745d3668>"
      ]
     },
     "execution_count": 17,
     "metadata": {},
     "output_type": "execute_result"
    },
    {
     "data": {
      "image/png": "[encoded data removed]",
      "text/plain": [
       "<matplotlib.figure.Figure at 0x2cd745e8128>"
      ]
     },
     "metadata": {},
     "output_type": "display_data"
    }
   ],
   "source": [
    "users.experienceLevel.fillna(0).value_counts().plot(kind='pie')"
   ]
  },
  {
   "cell_type": "code",
   "execution_count": 18,
   "metadata": {
    "collapsed": true
   },
   "outputs": [],
   "source": [
    "survey_dict = {\n",
    "    'bk_purpose': ['Mainly utility biking – traveling from one location to another', 'Mainly recreational biking – biking for recreation, leisure, and health', '50% utility, 50% recreational'],\n",
    "    'age': ['< 18', '18-24', '25-34', '35-44', '45-54', '55-64', '65-74', '>=75', '', '', '', ],\n",
    "    'ethnicity': ['White', 'Hispanic or Latino', 'Black or African American', 'Native American or American Indian', 'Asian / Pacific Islander', 'Other',],\n",
    "    'edu': ['Nursery school to some high school, no diploma', 'High school graduate, diploma or the equivalent (for example: GED)', 'Some college credit, no degree', 'Associate degree', 'Bachelor’s degree', 'Master’s degree', 'Doctorate degree'],\n",
    "    'marital': ['Single, never married', 'Married or domestic partnership', 'Widowed', 'Divorced', 'Separated'],\n",
    "    'gender': ['Female', 'Male', 'Transgender – Female', 'Transgender – Male', 'Gender-variant / Non-conforming', 'Not listed', ],\n",
    "    'driver': ['yes', 'no'],\n",
    "    'car': ['yes', 'no'],\n",
    "    'household_income': ['Less than $24,999', '$25,000 to $39,999', '$40,000 to $54,999', '$55,000 to $69,999', '$70,000 to $84,999', '$85,000 to $99,999', '$100,000 to $149,999', '$150,000 or more'],\n",
    "    'residence': ['Never', '<3 months', '3-6 months', '6-12 months', '1-3 years', '>=3 years'],\n",
    "    'bk_type': ['CaBi Bike (Shared bike in the DC region)', 'Road Bike', 'Mountain Bike', 'Hybrid Bike', 'Cruiser Bike', 'BMX Bike', 'Folding Bike', 'Recumbent Bike', 'Tandem Bike', 'Do not ride a bike'],\n",
    "}"
   ]
  },
  {
   "cell_type": "code",
   "execution_count": 19,
   "metadata": {},
   "outputs": [
    {
     "data": {
      "text/plain": [
       "<matplotlib.axes._subplots.AxesSubplot at 0x2cd7465d6a0>"
      ]
     },
     "execution_count": 19,
     "metadata": {},
     "output_type": "execute_result"
    },
    {
     "data": {
      "image/png": "[encoded data removed]",
      "text/plain": [
       "<matplotlib.figure.Figure at 0x2cd74639780>"
      ]
     },
     "metadata": {},
     "output_type": "display_data"
    }
   ],
   "source": [
    "survey_cols = ['bk_purpose', 'age', 'ethnicity', 'edu', 'marital', 'gender', 'driver','car', 'household_income', 'residence', 'bk_type']\n",
    "users[survey_cols].isnull().mean().plot(kind='barh')"
   ]
  },
  {
   "cell_type": "markdown",
   "metadata": {},
   "source": [
    "# Statistics of loginLog\n",
    "\n",
    "- distribution of # logins per user\n",
    "- mobile vs PC\n",
    "- distribution over time"
   ]
  },
  {
   "cell_type": "code",
   "execution_count": 35,
   "metadata": {
    "collapsed": true
   },
   "outputs": [],
   "source": [
    "logs = dfs['loginLog']\n",
    "logs = logs.merge(users[['user_id', 'email']])"
   ]
  },
  {
   "cell_type": "code",
   "execution_count": 40,
   "metadata": {},
   "outputs": [
    {
     "data": {
      "text/plain": [
       "<matplotlib.axes._subplots.AxesSubplot at 0x1a805d69cf8>"
      ]
     },
     "execution_count": 40,
     "metadata": {},
     "output_type": "execute_result"
    },
    {
     "data": {
      "image/png": "[encoded data removed]",
      "text/plain": [
       "<matplotlib.figure.Figure at 0x1a8059ff940>"
      ]
     },
     "metadata": {},
     "output_type": "display_data"
    }
   ],
   "source": [
    "logs.groupby('user_id').count().lid.hist()"
   ]
  },
  {
   "cell_type": "code",
   "execution_count": 41,
   "metadata": {},
   "outputs": [
    {
     "data": {
      "text/plain": [
       "0.22727272727272727"
      ]
     },
     "execution_count": 41,
     "metadata": {},
     "output_type": "execute_result"
    },
    {
     "data": {
      "image/png": "[encoded data removed]",
      "text/plain": [
       "<matplotlib.figure.Figure at 0x1a805b91cc0>"
      ]
     },
     "metadata": {},
     "output_type": "display_data"
    }
   ],
   "source": [
    "logs.isMobile.value_counts().plot('pie')\n",
    "logs.isMobile.apply(lambda x: 0 if x=='' else 1).mean()"
   ]
  },
  {
   "cell_type": "code",
   "execution_count": 42,
   "metadata": {
    "collapsed": true
   },
   "outputs": [],
   "source": [
    "logs.timezone = logs.timezone.apply(lambda x: x.replace('GMT', '').strip()).apply(lambda x: 0 if x=='' else int(x))\n",
    "logs['offset'] = logs.timezone.apply(lambda x: abs(x))\n",
    "logs['direction'] = logs.timezone.apply(lambda x: 1 if x>0 else -1)\n",
    "logs['time'] = pd.to_datetime(logs.UTCts)\n",
    "logs['time'] = logs.apply(lambda x: x.time + x.direction * pd.to_timedelta(x.offset, unit='h'), axis=1)"
   ]
  },
  {
   "cell_type": "code",
   "execution_count": 43,
   "metadata": {},
   "outputs": [
    {
     "data": {
      "text/plain": [
       "<matplotlib.axes._subplots.AxesSubplot at 0x1a805d792e8>"
      ]
     },
     "execution_count": 43,
     "metadata": {},
     "output_type": "execute_result"
    },
    {
     "data": {
      "image/png": "[encoded data removed]",
      "text/plain": [
       "<matplotlib.figure.Figure at 0x1a805e251d0>"
      ]
     },
     "metadata": {},
     "output_type": "display_data"
    }
   ],
   "source": [
    "logs.time.apply(lambda x: x.hour).value_counts().sort_index().plot()"
   ]
  },
  {
   "cell_type": "markdown",
   "metadata": {},
   "source": [
    "# Statistics of Ratings\n",
    "\n",
    "- distribution of # ratings per user\n",
    "- distribution of # ratings per login\n",
    "- distribution of scores: overall; groupby user exp-lvl\n",
    "- distribution of tags: overall; groupby score; groupby user exp-lvl\n",
    "- agg comments\n",
    "- normal rating(no skipping)\n",
    "- aggregate comments and scores on a video/segment basis"
   ]
  },
  {
   "cell_type": "code",
   "execution_count": 11,
   "metadata": {},
   "outputs": [
    {
     "data": {
      "text/plain": [
       "((549, 4), 288)"
      ]
     },
     "execution_count": 11,
     "metadata": {},
     "output_type": "execute_result"
    }
   ],
   "source": [
    "ratings = dfs['Rating'].drop('email', axis=1)\n",
    "videos=dfs['Video']\n",
    "videos.shape,ratings.vid.nunique()"
   ]
  },
  {
   "cell_type": "code",
   "execution_count": 12,
   "metadata": {
    "collapsed": true
   },
   "outputs": [],
   "source": [
    "ratings = ratings.merge(users[['user_id','email']], left_on='uid', right_on='user_id').drop('uid', axis=1).merge(videos[['vid','URL']])\n",
    "ratings.URL = ratings.URL.apply(lambda x: 'https://www.youtube.com/watch?v='+x)"
   ]
  },
  {
   "cell_type": "code",
   "execution_count": 29,
   "metadata": {},
   "outputs": [
    {
     "data": {
      "text/plain": [
       "<matplotlib.axes._subplots.AxesSubplot at 0x2cd746427b8>"
      ]
     },
     "execution_count": 29,
     "metadata": {},
     "output_type": "execute_result"
    },
    {
     "data": {
      "image/png": "[encoded data removed]",
      "text/plain": [
       "<matplotlib.figure.Figure at 0x2cd744f35f8>"
      ]
     },
     "metadata": {},
     "output_type": "display_data"
    }
   ],
   "source": [
    "ratings.score.astype(float).hist()"
   ]
  },
  {
   "cell_type": "code",
   "execution_count": 13,
   "metadata": {},
   "outputs": [
    {
     "data": {
      "text/plain": [
       "<matplotlib.axes._subplots.AxesSubplot at 0x2cd74290390>"
      ]
     },
     "execution_count": 13,
     "metadata": {},
     "output_type": "execute_result"
    },
    {
     "data": {
      "image/png": "[encoded data removed]",
      "text/plain": [
       "<matplotlib.figure.Figure at 0x2cd7429d828>"
      ]
     },
     "metadata": {},
     "output_type": "display_data"
    }
   ],
   "source": [
    "ratings.groupby('user_id').count().email.hist()"
   ]
  },
  {
   "cell_type": "code",
   "execution_count": 14,
   "metadata": {},
   "outputs": [
    {
     "data": {
      "text/plain": [
       "<matplotlib.axes._subplots.AxesSubplot at 0x2cd744daa20>"
      ]
     },
     "execution_count": 14,
     "metadata": {},
     "output_type": "execute_result"
    },
    {
     "data": {
      "image/png": "[encoded data removed]",
      "text/plain": [
       "<matplotlib.figure.Figure at 0x2cd74290a20>"
      ]
     },
     "metadata": {},
     "output_type": "display_data"
    }
   ],
   "source": [
    "ratings.groupby('lid').count().email.hist()"
   ]
  },
  {
   "cell_type": "code",
   "execution_count": 68,
   "metadata": {},
   "outputs": [
    {
     "data": {
      "text/plain": [
       "<matplotlib.axes._subplots.AxesSubplot at 0x1a805d582b0>"
      ]
     },
     "execution_count": 68,
     "metadata": {},
     "output_type": "execute_result"
    },
    {
     "data": {
      "image/png": "[encoded data removed]",
      "text/plain": [
       "<matplotlib.figure.Figure at 0x1a805b329e8>"
      ]
     },
     "metadata": {},
     "output_type": "display_data"
    }
   ],
   "source": [
    "ratings.groupby('vid').count().email.hist()"
   ]
  },
  {
   "cell_type": "code",
   "execution_count": 97,
   "metadata": {},
   "outputs": [
    {
     "data": {
      "text/plain": [
       "\"High-speed, 3 lanes 1-way? I'll take the sidewalk thanks. \""
      ]
     },
     "execution_count": 97,
     "metadata": {},
     "output_type": "execute_result"
    }
   ],
   "source": [
    "ratings.iloc[407].comment"
   ]
  },
  {
   "cell_type": "code",
   "execution_count": 93,
   "metadata": {
    "scrolled": true
   },
   "outputs": [
    {
     "data": {
      "text/html": [
       "<div>\n",
       "<style>\n",
       "    .dataframe thead tr:only-child th {\n",
       "        text-align: right;\n",
       "    }\n",
       "\n",
       "    .dataframe thead th {\n",
       "        text-align: left;\n",
       "    }\n",
       "\n",
       "    .dataframe tbody tr th {\n",
       "        vertical-align: top;\n",
       "    }\n",
       "</style>\n",
       "<table border=\"1\" class=\"dataframe\">\n",
       "  <thead>\n",
       "    <tr style=\"text-align: right;\">\n",
       "      <th></th>\n",
       "      <th>vid</th>\n",
       "      <th>comment</th>\n",
       "      <th>URL</th>\n",
       "      <th>score</th>\n",
       "    </tr>\n",
       "  </thead>\n",
       "  <tbody>\n",
       "    <tr>\n",
       "      <th>99</th>\n",
       "      <td>102</td>\n",
       "      <td>cobbles, narrow road, and rail tracks</td>\n",
       "      <td>https://www.youtube.com/watch?v=0SP5QFb3E98</td>\n",
       "      <td>2</td>\n",
       "    </tr>\n",
       "    <tr>\n",
       "      <th>50</th>\n",
       "      <td>108</td>\n",
       "      <td>there are bike lanes on this road, more danger...</td>\n",
       "      <td>https://www.youtube.com/watch?v=Shz6cazUaa8</td>\n",
       "      <td>2</td>\n",
       "    </tr>\n",
       "    <tr>\n",
       "      <th>396</th>\n",
       "      <td>11</td>\n",
       "      <td>Q11 (what type of bike do you normally ride)\\r...</td>\n",
       "      <td>https://www.youtube.com/watch?v=Hc_wZfeazVU</td>\n",
       "      <td>3</td>\n",
       "    </tr>\n",
       "    <tr>\n",
       "      <th>203</th>\n",
       "      <td>115</td>\n",
       "      <td>What's dangerous is going from bike lane to no...</td>\n",
       "      <td>https://www.youtube.com/watch?v=m9qvDsQrNXI</td>\n",
       "      <td>3</td>\n",
       "    </tr>\n",
       "    <tr>\n",
       "      <th>37</th>\n",
       "      <td>120</td>\n",
       "      <td>I would not transition to the sidewalk. That i...</td>\n",
       "      <td>https://www.youtube.com/watch?v=RSxhtMim6nA</td>\n",
       "      <td>4</td>\n",
       "    </tr>\n",
       "    <tr>\n",
       "      <th>77</th>\n",
       "      <td>123</td>\n",
       "      <td>bikes are better on roads than sidewalks... if...</td>\n",
       "      <td>https://www.youtube.com/watch?v=S-A71a0YRmE</td>\n",
       "      <td>2</td>\n",
       "    </tr>\n",
       "    <tr>\n",
       "      <th>75</th>\n",
       "      <td>123</td>\n",
       "      <td>I wouldn't ride on the sidewalk. Too narrow.</td>\n",
       "      <td>https://www.youtube.com/watch?v=S-A71a0YRmE</td>\n",
       "      <td>3</td>\n",
       "    </tr>\n",
       "    <tr>\n",
       "      <th>52</th>\n",
       "      <td>124</td>\n",
       "      <td>Rating not applicable — cyclist is riding on t...</td>\n",
       "      <td>https://www.youtube.com/watch?v=Suti47cmzew</td>\n",
       "      <td>3</td>\n",
       "    </tr>\n",
       "    <tr>\n",
       "      <th>53</th>\n",
       "      <td>124</td>\n",
       "      <td>riding on the sidewalk and jumping a red light</td>\n",
       "      <td>https://www.youtube.com/watch?v=Suti47cmzew</td>\n",
       "      <td>1</td>\n",
       "    </tr>\n",
       "    <tr>\n",
       "      <th>247</th>\n",
       "      <td>143</td>\n",
       "      <td>I don't quite understand the idea of rating a ...</td>\n",
       "      <td>https://www.youtube.com/watch?v=kpqZ0Cio_tA</td>\n",
       "      <td>4</td>\n",
       "    </tr>\n",
       "    <tr>\n",
       "      <th>407</th>\n",
       "      <td>154</td>\n",
       "      <td>High-speed, 3 lanes 1-way? I'll take the sidew...</td>\n",
       "      <td>https://www.youtube.com/watch?v=CaecyxMNi8o</td>\n",
       "      <td>1</td>\n",
       "    </tr>\n",
       "    <tr>\n",
       "      <th>301</th>\n",
       "      <td>157</td>\n",
       "      <td>I commute on this street and the cars are some...</td>\n",
       "      <td>https://www.youtube.com/watch?v=U5vF9-S4XfY</td>\n",
       "      <td>4</td>\n",
       "    </tr>\n",
       "    <tr>\n",
       "      <th>345</th>\n",
       "      <td>158</td>\n",
       "      <td>A terrible area once you leave 1st st NE PBL.</td>\n",
       "      <td>https://www.youtube.com/watch?v=glgm20NAjgg</td>\n",
       "      <td>1</td>\n",
       "    </tr>\n",
       "    <tr>\n",
       "      <th>82</th>\n",
       "      <td>164</td>\n",
       "      <td>You ran a red light!</td>\n",
       "      <td>https://www.youtube.com/watch?v=8--MQ2jfi-0</td>\n",
       "      <td>3</td>\n",
       "    </tr>\n",
       "    <tr>\n",
       "      <th>10</th>\n",
       "      <td>17</td>\n",
       "      <td>peds don't look both ways</td>\n",
       "      <td>https://www.youtube.com/watch?v=2erP5uBHEu4</td>\n",
       "      <td>4</td>\n",
       "    </tr>\n",
       "    <tr>\n",
       "      <th>160</th>\n",
       "      <td>174</td>\n",
       "      <td>cars move quite fast on this road.</td>\n",
       "      <td>https://www.youtube.com/watch?v=kY-6erHiAWk</td>\n",
       "      <td>4</td>\n",
       "    </tr>\n",
       "    <tr>\n",
       "      <th>159</th>\n",
       "      <td>174</td>\n",
       "      <td>cars move quite fast on this road.</td>\n",
       "      <td>https://www.youtube.com/watch?v=kY-6erHiAWk</td>\n",
       "      <td>4</td>\n",
       "    </tr>\n",
       "    <tr>\n",
       "      <th>357</th>\n",
       "      <td>179</td>\n",
       "      <td>Bike lanes can give false sense of security</td>\n",
       "      <td>https://www.youtube.com/watch?v=hrVwKTDsZ5A</td>\n",
       "      <td>4</td>\n",
       "    </tr>\n",
       "    <tr>\n",
       "      <th>351</th>\n",
       "      <td>183</td>\n",
       "      <td>Drivers in cars need to respect the bike lane,...</td>\n",
       "      <td>https://www.youtube.com/watch?v=DZ2If6RGuv4</td>\n",
       "      <td>4</td>\n",
       "    </tr>\n",
       "    <tr>\n",
       "      <th>185</th>\n",
       "      <td>185</td>\n",
       "      <td>Even though this is a protected bike lane, the...</td>\n",
       "      <td>https://www.youtube.com/watch?v=fWERqnb1STQ</td>\n",
       "      <td>3</td>\n",
       "    </tr>\n",
       "    <tr>\n",
       "      <th>5</th>\n",
       "      <td>19</td>\n",
       "      <td>a truck takes the bike lane, which makes it no...</td>\n",
       "      <td>https://www.youtube.com/watch?v=0RIhBurT13Y</td>\n",
       "      <td>3</td>\n",
       "    </tr>\n",
       "    <tr>\n",
       "      <th>6</th>\n",
       "      <td>19</td>\n",
       "      <td>this counterflow only works with good drivers ...</td>\n",
       "      <td>https://www.youtube.com/watch?v=0RIhBurT13Y</td>\n",
       "      <td>2</td>\n",
       "    </tr>\n",
       "    <tr>\n",
       "      <th>179</th>\n",
       "      <td>20</td>\n",
       "      <td>Drivers don't expect cyclists to be traveling ...</td>\n",
       "      <td>https://www.youtube.com/watch?v=YckqSdXrhpU</td>\n",
       "      <td>3</td>\n",
       "    </tr>\n",
       "    <tr>\n",
       "      <th>258</th>\n",
       "      <td>200</td>\n",
       "      <td>fast cars on this street and opportunity for i...</td>\n",
       "      <td>https://www.youtube.com/watch?v=K1CkFZO0Hk0</td>\n",
       "      <td>4</td>\n",
       "    </tr>\n",
       "    <tr>\n",
       "      <th>372</th>\n",
       "      <td>204</td>\n",
       "      <td>I prefer not to ride on the sidwalk. Grates co...</td>\n",
       "      <td>https://www.youtube.com/watch?v=JKHPHhGb67c</td>\n",
       "      <td>4</td>\n",
       "    </tr>\n",
       "    <tr>\n",
       "      <th>371</th>\n",
       "      <td>204</td>\n",
       "      <td>you're not allowed on sidewalks in the downtow...</td>\n",
       "      <td>https://www.youtube.com/watch?v=JKHPHhGb67c</td>\n",
       "      <td>3</td>\n",
       "    </tr>\n",
       "    <tr>\n",
       "      <th>310</th>\n",
       "      <td>205</td>\n",
       "      <td>This looks like a sidewalk, not a place to rid...</td>\n",
       "      <td>https://www.youtube.com/watch?v=sXDcwa61Adw</td>\n",
       "      <td>2</td>\n",
       "    </tr>\n",
       "    <tr>\n",
       "      <th>79</th>\n",
       "      <td>21</td>\n",
       "      <td>Very narrow</td>\n",
       "      <td>https://www.youtube.com/watch?v=IqtSDYvpzBs</td>\n",
       "      <td>3</td>\n",
       "    </tr>\n",
       "    <tr>\n",
       "      <th>404</th>\n",
       "      <td>217</td>\n",
       "      <td>HATE door zone bike lanes.</td>\n",
       "      <td>https://www.youtube.com/watch?v=V4TpTeiMt-Y</td>\n",
       "      <td>3</td>\n",
       "    </tr>\n",
       "    <tr>\n",
       "      <th>69</th>\n",
       "      <td>22</td>\n",
       "      <td>The diagonal parking removes a door zone problem.</td>\n",
       "      <td>https://www.youtube.com/watch?v=iSUcRO2kcgA</td>\n",
       "      <td>4</td>\n",
       "    </tr>\n",
       "    <tr>\n",
       "      <th>...</th>\n",
       "      <td>...</td>\n",
       "      <td>...</td>\n",
       "      <td>...</td>\n",
       "      <td>...</td>\n",
       "    </tr>\n",
       "    <tr>\n",
       "      <th>302</th>\n",
       "      <td>435</td>\n",
       "      <td>Separate from traffic\\r\\nThere is a specific c...</td>\n",
       "      <td>https://www.youtube.com/watch?v=ZhXj8vMaBx0</td>\n",
       "      <td>5</td>\n",
       "    </tr>\n",
       "    <tr>\n",
       "      <th>304</th>\n",
       "      <td>438</td>\n",
       "      <td>Drivers along this stretch are not expecting b...</td>\n",
       "      <td>https://www.youtube.com/watch?v=LomoXasARKQ</td>\n",
       "      <td>2</td>\n",
       "    </tr>\n",
       "    <tr>\n",
       "      <th>44</th>\n",
       "      <td>44</td>\n",
       "      <td>When there is no bike lane, but parking allowe...</td>\n",
       "      <td>https://www.youtube.com/watch?v=iCbSBHIYi7E</td>\n",
       "      <td>2</td>\n",
       "    </tr>\n",
       "    <tr>\n",
       "      <th>121</th>\n",
       "      <td>442</td>\n",
       "      <td>T Street bike lane is safer</td>\n",
       "      <td>https://www.youtube.com/watch?v=Yf3tYcMax_A</td>\n",
       "      <td>2</td>\n",
       "    </tr>\n",
       "    <tr>\n",
       "      <th>162</th>\n",
       "      <td>446</td>\n",
       "      <td>Construction</td>\n",
       "      <td>https://www.youtube.com/watch?v=Vt8kNRkCJWY</td>\n",
       "      <td>2</td>\n",
       "    </tr>\n",
       "    <tr>\n",
       "      <th>319</th>\n",
       "      <td>450</td>\n",
       "      <td>Like many roads in DC, this one has a lot of p...</td>\n",
       "      <td>https://www.youtube.com/watch?v=6CFtL1SYymQ</td>\n",
       "      <td>3</td>\n",
       "    </tr>\n",
       "    <tr>\n",
       "      <th>244</th>\n",
       "      <td>451</td>\n",
       "      <td>Cars are too fast on this road. Need to take f...</td>\n",
       "      <td>https://www.youtube.com/watch?v=TWB7yBtLpfQ</td>\n",
       "      <td>3</td>\n",
       "    </tr>\n",
       "    <tr>\n",
       "      <th>118</th>\n",
       "      <td>456</td>\n",
       "      <td>Trolley rails = cyclist death</td>\n",
       "      <td>https://www.youtube.com/watch?v=gM23WatIN8A</td>\n",
       "      <td>2</td>\n",
       "    </tr>\n",
       "    <tr>\n",
       "      <th>394</th>\n",
       "      <td>457</td>\n",
       "      <td>Easy for tires to get stuck in the rail grooves</td>\n",
       "      <td>https://www.youtube.com/watch?v=6GpJmSnbtyk</td>\n",
       "      <td>1</td>\n",
       "    </tr>\n",
       "    <tr>\n",
       "      <th>133</th>\n",
       "      <td>46</td>\n",
       "      <td>In the next block, the parked cars push the cy...</td>\n",
       "      <td>https://www.youtube.com/watch?v=eUUqRxUbrDE</td>\n",
       "      <td>3</td>\n",
       "    </tr>\n",
       "    <tr>\n",
       "      <th>332</th>\n",
       "      <td>462</td>\n",
       "      <td>The H St tracks are the *worst* I've almost go...</td>\n",
       "      <td>https://www.youtube.com/watch?v=rnTvRICwxpU</td>\n",
       "      <td>1</td>\n",
       "    </tr>\n",
       "    <tr>\n",
       "      <th>143</th>\n",
       "      <td>464</td>\n",
       "      <td>Street car tracks are dangerous. I usually rid...</td>\n",
       "      <td>https://www.youtube.com/watch?v=jmeidAW9cp4</td>\n",
       "      <td>2</td>\n",
       "    </tr>\n",
       "    <tr>\n",
       "      <th>145</th>\n",
       "      <td>464</td>\n",
       "      <td>street car tracks</td>\n",
       "      <td>https://www.youtube.com/watch?v=jmeidAW9cp4</td>\n",
       "      <td>2</td>\n",
       "    </tr>\n",
       "    <tr>\n",
       "      <th>146</th>\n",
       "      <td>464</td>\n",
       "      <td>street car tracks</td>\n",
       "      <td>https://www.youtube.com/watch?v=jmeidAW9cp4</td>\n",
       "      <td>2</td>\n",
       "    </tr>\n",
       "    <tr>\n",
       "      <th>144</th>\n",
       "      <td>464</td>\n",
       "      <td>streetcar rails are a problem to bike on.</td>\n",
       "      <td>https://www.youtube.com/watch?v=jmeidAW9cp4</td>\n",
       "      <td>3</td>\n",
       "    </tr>\n",
       "    <tr>\n",
       "      <th>56</th>\n",
       "      <td>472</td>\n",
       "      <td>vehicle speeds are also a huge problem on this...</td>\n",
       "      <td>https://www.youtube.com/watch?v=czYBmrlO65k</td>\n",
       "      <td>2</td>\n",
       "    </tr>\n",
       "    <tr>\n",
       "      <th>352</th>\n",
       "      <td>475</td>\n",
       "      <td>Road construction prohibits safe passing clear...</td>\n",
       "      <td>https://www.youtube.com/watch?v=uIAsskm3Kv0</td>\n",
       "      <td>3</td>\n",
       "    </tr>\n",
       "    <tr>\n",
       "      <th>245</th>\n",
       "      <td>49</td>\n",
       "      <td>The lane switches sides in the next block, whi...</td>\n",
       "      <td>https://www.youtube.com/watch?v=G14dYldhhwk</td>\n",
       "      <td>4</td>\n",
       "    </tr>\n",
       "    <tr>\n",
       "      <th>94</th>\n",
       "      <td>528</td>\n",
       "      <td>Only safe after park-its installed.</td>\n",
       "      <td>https://www.youtube.com/watch?v=Kjs1TjY17Ms</td>\n",
       "      <td>4</td>\n",
       "    </tr>\n",
       "    <tr>\n",
       "      <th>64</th>\n",
       "      <td>537</td>\n",
       "      <td>Turning cars can cross into the bike lane.</td>\n",
       "      <td>https://www.youtube.com/watch?v=E5XAPi0wmo8</td>\n",
       "      <td>4</td>\n",
       "    </tr>\n",
       "    <tr>\n",
       "      <th>153</th>\n",
       "      <td>552</td>\n",
       "      <td>Construction</td>\n",
       "      <td>https://www.youtube.com/watch?v=StEqnPF6IjA</td>\n",
       "      <td>2</td>\n",
       "    </tr>\n",
       "    <tr>\n",
       "      <th>110</th>\n",
       "      <td>557</td>\n",
       "      <td>I commute on this street and the speed is reas...</td>\n",
       "      <td>https://www.youtube.com/watch?v=4OXDTQApi1M</td>\n",
       "      <td>3</td>\n",
       "    </tr>\n",
       "    <tr>\n",
       "      <th>109</th>\n",
       "      <td>557</td>\n",
       "      <td>Wouldn't ride on sidewalk</td>\n",
       "      <td>https://www.youtube.com/watch?v=4OXDTQApi1M</td>\n",
       "      <td>1</td>\n",
       "    </tr>\n",
       "    <tr>\n",
       "      <th>267</th>\n",
       "      <td>66</td>\n",
       "      <td>fast traffic</td>\n",
       "      <td>https://www.youtube.com/watch?v=sIUgvMSo4Ps</td>\n",
       "      <td>3</td>\n",
       "    </tr>\n",
       "    <tr>\n",
       "      <th>313</th>\n",
       "      <td>70</td>\n",
       "      <td>There's more space between the bike lane and t...</td>\n",
       "      <td>https://www.youtube.com/watch?v=FCUuNXlY6AA</td>\n",
       "      <td>4</td>\n",
       "    </tr>\n",
       "    <tr>\n",
       "      <th>186</th>\n",
       "      <td>74</td>\n",
       "      <td>That's my block! Traffic is a bit to fast for ...</td>\n",
       "      <td>https://www.youtube.com/watch?v=3lgvMazNNks</td>\n",
       "      <td>4</td>\n",
       "    </tr>\n",
       "    <tr>\n",
       "      <th>388</th>\n",
       "      <td>77</td>\n",
       "      <td>No cars pass the cyclist during the video, it'...</td>\n",
       "      <td>https://www.youtube.com/watch?v=Vpms_YMmGi0</td>\n",
       "      <td>5</td>\n",
       "    </tr>\n",
       "    <tr>\n",
       "      <th>397</th>\n",
       "      <td>80</td>\n",
       "      <td>Speed bumps. Meh.</td>\n",
       "      <td>https://www.youtube.com/watch?v=gRSCPBxcFf8</td>\n",
       "      <td>3</td>\n",
       "    </tr>\n",
       "    <tr>\n",
       "      <th>369</th>\n",
       "      <td>95</td>\n",
       "      <td>M St is \"harrowing\" with the volume of traffic...</td>\n",
       "      <td>https://www.youtube.com/watch?v=2b2058fzH7o</td>\n",
       "      <td>2</td>\n",
       "    </tr>\n",
       "    <tr>\n",
       "      <th>84</th>\n",
       "      <td>97</td>\n",
       "      <td>Road is too narrow for bike lane, car lane, pa...</td>\n",
       "      <td>https://www.youtube.com/watch?v=Ipuc6C7lwMM</td>\n",
       "      <td>3</td>\n",
       "    </tr>\n",
       "  </tbody>\n",
       "</table>\n",
       "<p>90 rows × 4 columns</p>\n",
       "</div>"
      ],
      "text/plain": [
       "     vid                                            comment  \\\n",
       "99   102              cobbles, narrow road, and rail tracks   \n",
       "50   108  there are bike lanes on this road, more danger...   \n",
       "396   11  Q11 (what type of bike do you normally ride)\\r...   \n",
       "203  115  What's dangerous is going from bike lane to no...   \n",
       "37   120  I would not transition to the sidewalk. That i...   \n",
       "77   123  bikes are better on roads than sidewalks... if...   \n",
       "75   123       I wouldn't ride on the sidewalk. Too narrow.   \n",
       "52   124  Rating not applicable — cyclist is riding on t...   \n",
       "53   124     riding on the sidewalk and jumping a red light   \n",
       "247  143  I don't quite understand the idea of rating a ...   \n",
       "407  154  High-speed, 3 lanes 1-way? I'll take the sidew...   \n",
       "301  157  I commute on this street and the cars are some...   \n",
       "345  158      A terrible area once you leave 1st st NE PBL.   \n",
       "82   164                               You ran a red light!   \n",
       "10    17                          peds don't look both ways   \n",
       "160  174                 cars move quite fast on this road.   \n",
       "159  174                 cars move quite fast on this road.   \n",
       "357  179       Bike lanes can give false sense of security    \n",
       "351  183  Drivers in cars need to respect the bike lane,...   \n",
       "185  185  Even though this is a protected bike lane, the...   \n",
       "5     19  a truck takes the bike lane, which makes it no...   \n",
       "6     19  this counterflow only works with good drivers ...   \n",
       "179   20  Drivers don't expect cyclists to be traveling ...   \n",
       "258  200  fast cars on this street and opportunity for i...   \n",
       "372  204  I prefer not to ride on the sidwalk. Grates co...   \n",
       "371  204  you're not allowed on sidewalks in the downtow...   \n",
       "310  205  This looks like a sidewalk, not a place to rid...   \n",
       "79    21                                        Very narrow   \n",
       "404  217                         HATE door zone bike lanes.   \n",
       "69    22  The diagonal parking removes a door zone problem.   \n",
       "..   ...                                                ...   \n",
       "302  435  Separate from traffic\\r\\nThere is a specific c...   \n",
       "304  438  Drivers along this stretch are not expecting b...   \n",
       "44    44  When there is no bike lane, but parking allowe...   \n",
       "121  442                        T Street bike lane is safer   \n",
       "162  446                                      Construction    \n",
       "319  450  Like many roads in DC, this one has a lot of p...   \n",
       "244  451  Cars are too fast on this road. Need to take f...   \n",
       "118  456                      Trolley rails = cyclist death   \n",
       "394  457    Easy for tires to get stuck in the rail grooves   \n",
       "133   46  In the next block, the parked cars push the cy...   \n",
       "332  462  The H St tracks are the *worst* I've almost go...   \n",
       "143  464  Street car tracks are dangerous. I usually rid...   \n",
       "145  464                                  street car tracks   \n",
       "146  464                                  street car tracks   \n",
       "144  464          streetcar rails are a problem to bike on.   \n",
       "56   472  vehicle speeds are also a huge problem on this...   \n",
       "352  475  Road construction prohibits safe passing clear...   \n",
       "245   49  The lane switches sides in the next block, whi...   \n",
       "94   528               Only safe after park-its installed.    \n",
       "64   537        Turning cars can cross into the bike lane.    \n",
       "153  552                                       Construction   \n",
       "110  557  I commute on this street and the speed is reas...   \n",
       "109  557                          Wouldn't ride on sidewalk   \n",
       "267   66                                       fast traffic   \n",
       "313   70  There's more space between the bike lane and t...   \n",
       "186   74  That's my block! Traffic is a bit to fast for ...   \n",
       "388   77  No cars pass the cyclist during the video, it'...   \n",
       "397   80                                  Speed bumps. Meh.   \n",
       "369   95  M St is \"harrowing\" with the volume of traffic...   \n",
       "84    97  Road is too narrow for bike lane, car lane, pa...   \n",
       "\n",
       "                                             URL score  \n",
       "99   https://www.youtube.com/watch?v=0SP5QFb3E98     2  \n",
       "50   https://www.youtube.com/watch?v=Shz6cazUaa8     2  \n",
       "396  https://www.youtube.com/watch?v=Hc_wZfeazVU     3  \n",
       "203  https://www.youtube.com/watch?v=m9qvDsQrNXI     3  \n",
       "37   https://www.youtube.com/watch?v=RSxhtMim6nA     4  \n",
       "77   https://www.youtube.com/watch?v=S-A71a0YRmE     2  \n",
       "75   https://www.youtube.com/watch?v=S-A71a0YRmE     3  \n",
       "52   https://www.youtube.com/watch?v=Suti47cmzew     3  \n",
       "53   https://www.youtube.com/watch?v=Suti47cmzew     1  \n",
       "247  https://www.youtube.com/watch?v=kpqZ0Cio_tA     4  \n",
       "407  https://www.youtube.com/watch?v=CaecyxMNi8o     1  \n",
       "301  https://www.youtube.com/watch?v=U5vF9-S4XfY     4  \n",
       "345  https://www.youtube.com/watch?v=glgm20NAjgg     1  \n",
       "82   https://www.youtube.com/watch?v=8--MQ2jfi-0     3  \n",
       "10   https://www.youtube.com/watch?v=2erP5uBHEu4     4  \n",
       "160  https://www.youtube.com/watch?v=kY-6erHiAWk     4  \n",
       "159  https://www.youtube.com/watch?v=kY-6erHiAWk     4  \n",
       "357  https://www.youtube.com/watch?v=hrVwKTDsZ5A     4  \n",
       "351  https://www.youtube.com/watch?v=DZ2If6RGuv4     4  \n",
       "185  https://www.youtube.com/watch?v=fWERqnb1STQ     3  \n",
       "5    https://www.youtube.com/watch?v=0RIhBurT13Y     3  \n",
       "6    https://www.youtube.com/watch?v=0RIhBurT13Y     2  \n",
       "179  https://www.youtube.com/watch?v=YckqSdXrhpU     3  \n",
       "258  https://www.youtube.com/watch?v=K1CkFZO0Hk0     4  \n",
       "372  https://www.youtube.com/watch?v=JKHPHhGb67c     4  \n",
       "371  https://www.youtube.com/watch?v=JKHPHhGb67c     3  \n",
       "310  https://www.youtube.com/watch?v=sXDcwa61Adw     2  \n",
       "79   https://www.youtube.com/watch?v=IqtSDYvpzBs     3  \n",
       "404  https://www.youtube.com/watch?v=V4TpTeiMt-Y     3  \n",
       "69   https://www.youtube.com/watch?v=iSUcRO2kcgA     4  \n",
       "..                                           ...   ...  \n",
       "302  https://www.youtube.com/watch?v=ZhXj8vMaBx0     5  \n",
       "304  https://www.youtube.com/watch?v=LomoXasARKQ     2  \n",
       "44   https://www.youtube.com/watch?v=iCbSBHIYi7E     2  \n",
       "121  https://www.youtube.com/watch?v=Yf3tYcMax_A     2  \n",
       "162  https://www.youtube.com/watch?v=Vt8kNRkCJWY     2  \n",
       "319  https://www.youtube.com/watch?v=6CFtL1SYymQ     3  \n",
       "244  https://www.youtube.com/watch?v=TWB7yBtLpfQ     3  \n",
       "118  https://www.youtube.com/watch?v=gM23WatIN8A     2  \n",
       "394  https://www.youtube.com/watch?v=6GpJmSnbtyk     1  \n",
       "133  https://www.youtube.com/watch?v=eUUqRxUbrDE     3  \n",
       "332  https://www.youtube.com/watch?v=rnTvRICwxpU     1  \n",
       "143  https://www.youtube.com/watch?v=jmeidAW9cp4     2  \n",
       "145  https://www.youtube.com/watch?v=jmeidAW9cp4     2  \n",
       "146  https://www.youtube.com/watch?v=jmeidAW9cp4     2  \n",
       "144  https://www.youtube.com/watch?v=jmeidAW9cp4     3  \n",
       "56   https://www.youtube.com/watch?v=czYBmrlO65k     2  \n",
       "352  https://www.youtube.com/watch?v=uIAsskm3Kv0     3  \n",
       "245  https://www.youtube.com/watch?v=G14dYldhhwk     4  \n",
       "94   https://www.youtube.com/watch?v=Kjs1TjY17Ms     4  \n",
       "64   https://www.youtube.com/watch?v=E5XAPi0wmo8     4  \n",
       "153  https://www.youtube.com/watch?v=StEqnPF6IjA     2  \n",
       "110  https://www.youtube.com/watch?v=4OXDTQApi1M     3  \n",
       "109  https://www.youtube.com/watch?v=4OXDTQApi1M     1  \n",
       "267  https://www.youtube.com/watch?v=sIUgvMSo4Ps     3  \n",
       "313  https://www.youtube.com/watch?v=FCUuNXlY6AA     4  \n",
       "186  https://www.youtube.com/watch?v=3lgvMazNNks     4  \n",
       "388  https://www.youtube.com/watch?v=Vpms_YMmGi0     5  \n",
       "397  https://www.youtube.com/watch?v=gRSCPBxcFf8     3  \n",
       "369  https://www.youtube.com/watch?v=2b2058fzH7o     2  \n",
       "84   https://www.youtube.com/watch?v=Ipuc6C7lwMM     3  \n",
       "\n",
       "[90 rows x 4 columns]"
      ]
     },
     "execution_count": 93,
     "metadata": {},
     "output_type": "execute_result"
    }
   ],
   "source": [
    "ratings_w_comment = ratings[ratings.comment!='']\n",
    "ratings_w_comment[['vid','comment','URL','score']].sort_values('vid')"
   ]
  },
  {
   "cell_type": "markdown",
   "metadata": {},
   "source": [
    "# Statistics of Segments\n",
    "\n",
    "- distribution of number of ratings per segment\n",
    "- distribution of std of score per segment"
   ]
  },
  {
   "cell_type": "code",
   "execution_count": 70,
   "metadata": {
    "collapsed": true
   },
   "outputs": [],
   "source": [
    "segs = dfs['RoadSegment']"
   ]
  },
  {
   "cell_type": "code",
   "execution_count": 74,
   "metadata": {},
   "outputs": [
    {
     "data": {
      "text/plain": [
       "(314, 7)"
      ]
     },
     "execution_count": 74,
     "metadata": {},
     "output_type": "execute_result"
    }
   ],
   "source": [
    "segs[segs['sumCnt']!='0'].shape"
   ]
  }
 ],
 "metadata": {
  "kernelspec": {
   "display_name": "Python 3",
   "language": "python",
   "name": "python3"
  },
  "language_info": {
   "codemirror_mode": {
    "name": "ipython",
    "version": 3
   },
   "file_extension": ".py",
   "mimetype": "text/x-python",
   "name": "python",
   "nbconvert_exporter": "python",
   "pygments_lexer": "ipython3",
   "version": "3.6.1"
  }
 },
 "nbformat": 4,
 "nbformat_minor": 2
}
