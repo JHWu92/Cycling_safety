{
 "cells": [
  {
   "cell_type": "code",
   "execution_count": null,
   "metadata": {
    "collapsed": true
   },
   "outputs": [],
   "source": [
    "import pandas as pd"
   ]
  },
  {
   "cell_type": "code",
   "execution_count": null,
   "metadata": {
    "collapsed": true
   },
   "outputs": [],
   "source": [
    "backup_date='2017-6-9'"
   ]
  },
  {
   "cell_type": "code",
   "execution_count": null,
   "metadata": {
    "collapsed": false
   },
   "outputs": [],
   "source": [
    "ratings = pd.read_csv('DB-backup/{}/Rating.csv'.format(backup_date),header=None)\n",
    "users = pd.read_csv('DB-backup/{}/Users.csv'.format(backup_date),header=None)\n",
    "v2s = pd.read_csv('DB-backup/{}/VideoRoadSeg.csv'.format(backup_date),header=None)\n",
    "seg = pd.read_csv('DB-backup/{}/RoadSegment.csv'.format(backup_date),header=None)\n",
    "login = pd.read_csv('DB-backup/{}/loginLog.csv'.format(backup_date),header=None)"
   ]
  },
  {
   "cell_type": "code",
   "execution_count": null,
   "metadata": {
    "collapsed": true
   },
   "outputs": [],
   "source": [
    "seg = seg.sort_values('index_seg')\n",
    "def get_sql(row):\n",
    "    return 'INSERT INTO `RoadSegment`(`sid`, `segmentid`, `index_seg`, `sumScore`, `sumRatio`, `sumCnt`, `geometry`) VALUES ({},{},{},{},{},{},\"{}\");'.format(row.sid, row.segmentid, row.index_seg, row.sumScore, row.sumRatio, row.sumCnt, row.geometry)\n",
    "\n",
    "# with open('RoadSegment.sql', 'w') as f:\n",
    "#     for idx, row in seg.iterrows():\n",
    "#         f.write(get_sql(row)+'\\n')"
   ]
  },
  {
   "cell_type": "code",
   "execution_count": null,
   "metadata": {
    "collapsed": false
   },
   "outputs": [],
   "source": [
    "ratings.columns = ['rid', 'uid','email','vid','rating','comment','tags','familiar','UTCts','timezone','watched','interaction','lid']\n",
    "v2s.columns = ['vrsid','vid','sid','clip_name','index_seg','ratio',]\n",
    "seg.columns=['sid','segmentid','index_seg','sumScore','sumRatio','sumCnt','geometry',]"
   ]
  },
  {
   "cell_type": "code",
   "execution_count": null,
   "metadata": {
    "collapsed": false
   },
   "outputs": [],
   "source": [
    "users_in_ratings = ratings.groupby('uid').nunique()\n",
    "# unique vids per user \n",
    "users_in_ratings['vid'].value_counts()"
   ]
  },
  {
   "cell_type": "code",
   "execution_count": null,
   "metadata": {
    "collapsed": true
   },
   "outputs": [],
   "source": [
    "r_on_v = ratings.groupby('vid')['rating'].agg(['sum','count']).reset_index()"
   ]
  },
  {
   "cell_type": "code",
   "execution_count": null,
   "metadata": {
    "collapsed": true
   },
   "outputs": [],
   "source": [
    "s_from_r = r_on_v.merge(v2s)[['sid', 'count', 'sum', 'ratio']]"
   ]
  },
  {
   "cell_type": "code",
   "execution_count": null,
   "metadata": {
    "collapsed": true
   },
   "outputs": [],
   "source": [
    "s_from_r['total_ratio'] = s_from_r['count'] * s_from_r.ratio\n",
    "s_from_r['total_sum'] = s_from_r['sum'] * s_from_r.ratio"
   ]
  },
  {
   "cell_type": "code",
   "execution_count": null,
   "metadata": {
    "collapsed": true
   },
   "outputs": [],
   "source": [
    "s2s = s_from_r.groupby('sid')[['total_sum','count', 'total_ratio']].sum().reset_index().merge(seg)"
   ]
  },
  {
   "cell_type": "code",
   "execution_count": null,
   "metadata": {
    "collapsed": false
   },
   "outputs": [],
   "source": [
    "s2s.shape"
   ]
  }
 ],
 "metadata": {
  "anaconda-cloud": {},
  "kernelspec": {
   "display_name": "Python [default]",
   "language": "python",
   "name": "python2"
  },
  "language_info": {
   "codemirror_mode": {
    "name": "ipython",
    "version": 2
   },
   "file_extension": ".py",
   "mimetype": "text/x-python",
   "name": "python",
   "nbconvert_exporter": "python",
   "pygments_lexer": "ipython2",
   "version": "2.7.13"
  }
 },
 "nbformat": 4,
 "nbformat_minor": 2
}
