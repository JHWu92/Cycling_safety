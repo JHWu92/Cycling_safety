{
 "cells": [
  {
   "cell_type": "code",
   "execution_count": 1,
   "metadata": {
    "collapsed": true
   },
   "outputs": [],
   "source": [
    "import pandas as pd\n",
    "import json"
   ]
  },
  {
   "cell_type": "code",
   "execution_count": 2,
   "metadata": {},
   "outputs": [
    {
     "name": "stdout",
     "output_type": "stream",
     "text": [
      "2 loginLog\n",
      "3 Rating\n",
      "4 RoadSegment\n",
      "5 Users\n",
      "6 Video\n",
      "8 VideoRoadSeg\n"
     ]
    }
   ],
   "source": [
    "date = '2017-08-30'\n",
    "fn = 'DB-backup/%s/cyclings_vid1.json' % date\n",
    "data = json.load(open(fn))\n",
    "dfs = {}\n",
    "for i, item in enumerate(data):\n",
    "    if item['type']=='table':\n",
    "        name = item['name']\n",
    "        if name not in ( 'video2seg_temp'):\n",
    "            print(i,item['name'])\n",
    "            dfs[name] = pd.DataFrame(item['data'])"
   ]
  },
  {
   "cell_type": "code",
   "execution_count": 13,
   "metadata": {},
   "outputs": [],
   "source": [
    "users = dfs['Users']\n",
    "ratings = dfs['Rating'].drop('email', axis=1)\n",
    "videos=dfs['Video']\n",
    "videos.URL = videos.URL.apply(lambda x: 'https://www.youtube.com/watch?v='+x)\n",
    "vid2seg = dfs['VideoRoadSeg']\n",
    "segs = dfs['RoadSegment']"
   ]
  },
  {
   "cell_type": "code",
   "execution_count": 52,
   "metadata": {},
   "outputs": [],
   "source": [
    "joint_table = ratings.merge(vid2seg[['vid', 'index_seg', 'ratio']]\\\n",
    "                     .merge(segs[['index_seg', 'geometry']])\\\n",
    "                     .merge(videos[['vid','URL']]))\n",
    "joint_table.ratio = joint_table.ratio.astype(float) \n",
    "joint_table.score = joint_table.score.astype(float)"
   ]
  },
  {
   "cell_type": "code",
   "execution_count": 54,
   "metadata": {
    "scrolled": true
   },
   "outputs": [],
   "source": [
    "nontest_users = users[~users.email.str.contains('test')]\n",
    "selected_uid = nontest_users[~nontest_users.experienceLevel.isnull()].user_id\n",
    "selected_uid = nontest_users.user_id\n",
    "selected_name = 'all'"
   ]
  },
  {
   "cell_type": "code",
   "execution_count": 71,
   "metadata": {
    "collapsed": true
   },
   "outputs": [],
   "source": [
    "filtered_ratings = joint_table[joint_table.uid.isin(selected_uid)]"
   ]
  },
  {
   "cell_type": "code",
   "execution_count": 72,
   "metadata": {},
   "outputs": [
    {
     "data": {
      "text/plain": [
       "set()"
      ]
     },
     "execution_count": 72,
     "metadata": {},
     "output_type": "execute_result"
    }
   ],
   "source": [
    "print('filtered uid:')\n",
    "set(ratings.uid) - set(filtered_ratings.uid)"
   ]
  },
  {
   "cell_type": "code",
   "execution_count": 79,
   "metadata": {},
   "outputs": [],
   "source": [
    "y = filtered_ratings.groupby('index_seg').apply(lambda x: (x.score* x.ratio).sum()/x.ratio.sum()).to_frame()\n",
    "y.columns = ['score']"
   ]
  },
  {
   "cell_type": "code",
   "execution_count": 83,
   "metadata": {},
   "outputs": [],
   "source": [
    "y.to_csv('y_by_user_%s.csv' % selected_name)"
   ]
  },
  {
   "cell_type": "code",
   "execution_count": null,
   "metadata": {
    "collapsed": true
   },
   "outputs": [],
   "source": [
    "%matplotlib inline"
   ]
  },
  {
   "cell_type": "code",
   "execution_count": 84,
   "metadata": {},
   "outputs": [
    {
     "data": {
      "text/plain": [
       "<matplotlib.axes._subplots.AxesSubplot at 0x24a56678c18>"
      ]
     },
     "execution_count": 84,
     "metadata": {},
     "output_type": "execute_result"
    },
    {
     "data": {
      "image/png": "[encoded data removed]",
      "text/plain": [
       "<matplotlib.figure.Figure at 0x24a566fae80>"
      ]
     },
     "metadata": {},
     "output_type": "display_data"
    }
   ],
   "source": [
    "y.score.hist()"
   ]
  },
  {
   "cell_type": "code",
   "execution_count": null,
   "metadata": {
    "collapsed": true
   },
   "outputs": [],
   "source": []
  }
 ],
 "metadata": {
  "kernelspec": {
   "display_name": "Python 3",
   "language": "python",
   "name": "python3"
  },
  "language_info": {
   "codemirror_mode": {
    "name": "ipython",
    "version": 3
   },
   "file_extension": ".py",
   "mimetype": "text/x-python",
   "name": "python",
   "nbconvert_exporter": "python",
   "pygments_lexer": "ipython3",
   "version": "3.6.1"
  }
 },
 "nbformat": 4,
 "nbformat_minor": 2
}
