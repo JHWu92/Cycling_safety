{
 "cells": [
  {
   "cell_type": "code",
   "execution_count": 1,
   "metadata": {
    "collapsed": true
   },
   "outputs": [],
   "source": [
    "import pandas as pd\n",
    "import json"
   ]
  },
  {
   "cell_type": "code",
   "execution_count": 2,
   "metadata": {},
   "outputs": [
    {
     "name": "stdout",
     "output_type": "stream",
     "text": [
      "2 loginLog\n",
      "3 Rating\n",
      "4 RoadSegment\n",
      "5 Users\n",
      "6 Video\n",
      "8 VideoRoadSeg\n"
     ]
    }
   ],
   "source": [
    "date = '2017-08-30'\n",
    "fn = 'DB-backup/%s/cyclings_vid1.json' % date\n",
    "data = json.load(open(fn))\n",
    "dfs = {}\n",
    "for i, item in enumerate(data):\n",
    "    if item['type']=='table':\n",
    "        name = item['name']\n",
    "        if name not in ( 'video2seg_temp'):\n",
    "            print(i,item['name'])\n",
    "            dfs[name] = pd.DataFrame(item['data'])"
   ]
  },
  {
   "cell_type": "code",
   "execution_count": 3,
   "metadata": {
    "collapsed": true
   },
   "outputs": [],
   "source": [
    "users = dfs['Users']\n",
    "ratings = dfs['Rating'].drop('email', axis=1)\n",
    "videos=dfs['Video']\n",
    "videos.URL = videos.URL.apply(lambda x: 'https://www.youtube.com/watch?v='+x)\n",
    "vid2seg = dfs['VideoRoadSeg']\n",
    "segs = dfs['RoadSegment']"
   ]
  },
  {
   "cell_type": "code",
   "execution_count": 4,
   "metadata": {},
   "outputs": [
    {
     "name": "stdout",
     "output_type": "stream",
     "text": [
      "with test (409, 12)\n",
      "without test users (409, 12)\n"
     ]
    }
   ],
   "source": [
    "nontest_users = users[~users.email.str.contains('test')]\n",
    "nontest_users_id = nontest_users.user_id\n",
    "print('with test', ratings.shape)\n",
    "ratings = ratings[ratings.uid.isin(nontest_users_id)]\n",
    "print('without test users', ratings.shape)"
   ]
  },
  {
   "cell_type": "code",
   "execution_count": 6,
   "metadata": {},
   "outputs": [
    {
     "data": {
      "text/plain": [
       "confident     25\n",
       "fearless      16\n",
       "interested     3\n",
       "reluctant      1\n",
       "Name: experienceLevel, dtype: int64"
      ]
     },
     "execution_count": 6,
     "metadata": {},
     "output_type": "execute_result"
    }
   ],
   "source": [
    "nontest_users.experienceLevel.value_counts()"
   ]
  },
  {
   "cell_type": "code",
   "execution_count": 18,
   "metadata": {
    "scrolled": true
   },
   "outputs": [
    {
     "name": "stdout",
     "output_type": "stream",
     "text": [
      "5\n"
     ]
    }
   ],
   "source": [
    "\n",
    "# selected_uid = nontest_users_id\n",
    "# selected_name = 'all'\n",
    "\n",
    "# selected_uid = nontest_users[~nontest_users.experienceLevel.isnull()].user_id\n",
    "# selected_name = 'has-exp'\n",
    "\n",
    "# selected_uid = nontest_users[nontest_users.experienceLevel=='confident'].user_id\n",
    "# selected_name = 'has-exp-con'\n",
    "\n",
    "# selected_uid = nontest_users[nontest_users.experienceLevel=='fearless'].user_id\n",
    "# selected_name = 'has-exp-frls'\n",
    "\n",
    "selected_uid = nontest_users[nontest_users.experienceLevel.isin(['interested', 'reluctant'])].user_id\n",
    "selected_name = 'has-exp-little'\n",
    "\n",
    "\n",
    "sampled_ratings = ratings[ratings.uid.isin(selected_uid)]\n",
    "print(sampled_ratings.shape[0])"
   ]
  },
  {
   "cell_type": "code",
   "execution_count": 16,
   "metadata": {
    "collapsed": true
   },
   "outputs": [],
   "source": [
    "\n",
    "joint_table = sampled_ratings.merge(vid2seg[['vid', 'index_seg', 'ratio']]\\\n",
    "                     .merge(segs[['index_seg', 'geometry']])\\\n",
    "                     .merge(videos[['vid','URL']]))\n",
    "joint_table.ratio = joint_table.ratio.astype(float) \n",
    "joint_table.score = joint_table.score.astype(float)"
   ]
  },
  {
   "cell_type": "code",
   "execution_count": 19,
   "metadata": {},
   "outputs": [
    {
     "name": "stdout",
     "output_type": "stream",
     "text": [
      "filtered uid:\n"
     ]
    },
    {
     "data": {
      "text/plain": [
       "38"
      ]
     },
     "execution_count": 19,
     "metadata": {},
     "output_type": "execute_result"
    }
   ],
   "source": [
    "print('filtered uid:')\n",
    "len(set(ratings.uid) - set(sampled_ratings.uid))"
   ]
  },
  {
   "cell_type": "code",
   "execution_count": 10,
   "metadata": {
    "collapsed": true
   },
   "outputs": [],
   "source": [
    "y = filtered_ratings.groupby('index_seg').apply(lambda x: (x.score* x.ratio).sum()/x.ratio.sum()).to_frame()\n",
    "y.columns = ['ugr']"
   ]
  },
  {
   "cell_type": "code",
   "execution_count": 11,
   "metadata": {
    "collapsed": true
   },
   "outputs": [],
   "source": [
    "y.to_csv('y_ugr_%s.csv' % selected_name)"
   ]
  },
  {
   "cell_type": "code",
   "execution_count": 12,
   "metadata": {
    "collapsed": true
   },
   "outputs": [],
   "source": [
    "%matplotlib inline"
   ]
  },
  {
   "cell_type": "code",
   "execution_count": 13,
   "metadata": {},
   "outputs": [
    {
     "data": {
      "text/plain": [
       "<matplotlib.axes._subplots.AxesSubplot at 0x17c9b9533c8>"
      ]
     },
     "execution_count": 13,
     "metadata": {},
     "output_type": "execute_result"
    },
    {
     "data": {
      "image/png": "[encoded data removed]",
      "text/plain": [
       "<matplotlib.figure.Figure at 0x17c9bca1e48>"
      ]
     },
     "metadata": {},
     "output_type": "display_data"
    }
   ],
   "source": [
    "y.ugr.hist()"
   ]
  },
  {
   "cell_type": "code",
   "execution_count": null,
   "metadata": {
    "collapsed": true
   },
   "outputs": [],
   "source": []
  }
 ],
 "metadata": {
  "kernelspec": {
   "display_name": "Python 3",
   "language": "python",
   "name": "python3"
  },
  "language_info": {
   "codemirror_mode": {
    "name": "ipython",
    "version": 3
   },
   "file_extension": ".py",
   "mimetype": "text/x-python",
   "name": "python",
   "nbconvert_exporter": "python",
   "pygments_lexer": "ipython3",
   "version": "3.6.1"
  }
 },
 "nbformat": 4,
 "nbformat_minor": 2
}
