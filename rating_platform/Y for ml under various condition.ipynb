{
 "cells": [
  {
   "cell_type": "code",
   "execution_count": 1,
   "metadata": {
    "collapsed": true
   },
   "outputs": [],
   "source": [
    "from read_db_json import *"
   ]
  },
  {
   "cell_type": "code",
   "execution_count": 2,
   "metadata": {
    "collapsed": true
   },
   "outputs": [],
   "source": [
    "from sklearn.metrics import r2_score, mean_squared_error"
   ]
  },
  {
   "cell_type": "code",
   "execution_count": 3,
   "metadata": {
    "collapsed": true
   },
   "outputs": [],
   "source": [
    "# date = '2017-09-29'\n",
    "date='2017-08-30'\n",
    "date = '2017-10-01'"
   ]
  },
  {
   "cell_type": "code",
   "execution_count": 4,
   "metadata": {
    "scrolled": false
   },
   "outputs": [
    {
     "name": "stdout",
     "output_type": "stream",
     "text": [
      "with test (1476, 13)\n",
      "without test users (1476, 13)\n"
     ]
    }
   ],
   "source": [
    "# ratings = large_joint_table(date=date)\n",
    "joint_table = load_joint_table2(date=date)"
   ]
  },
  {
   "cell_type": "code",
   "execution_count": 5,
   "metadata": {
    "scrolled": true
   },
   "outputs": [
    {
     "data": {
      "text/plain": [
       "(2339, 32)"
      ]
     },
     "execution_count": 5,
     "metadata": {},
     "output_type": "execute_result"
    }
   ],
   "source": [
    "joint_table.shape"
   ]
  },
  {
   "cell_type": "code",
   "execution_count": 6,
   "metadata": {},
   "outputs": [
    {
     "data": {
      "text/plain": [
       "(442, 1)"
      ]
     },
     "execution_count": 6,
     "metadata": {},
     "output_type": "execute_result"
    }
   ],
   "source": [
    "y_all = weighted_seg_score(joint_table)\n",
    "\n",
    "y_all.shape"
   ]
  },
  {
   "cell_type": "code",
   "execution_count": 7,
   "metadata": {
    "collapsed": true
   },
   "outputs": [],
   "source": [
    "# y_all.to_csv('ys/{0}/y_csl_all-{0}.csv'.format(date))"
   ]
  },
  {
   "cell_type": "markdown",
   "metadata": {},
   "source": [
    "# EXP1 3 levels"
   ]
  },
  {
   "cell_type": "code",
   "execution_count": 40,
   "metadata": {
    "collapsed": true,
    "scrolled": true
   },
   "outputs": [],
   "source": [
    "y_all_3 = (y_all-1)/(5-1) * (3-1) + 1"
   ]
  },
  {
   "cell_type": "code",
   "execution_count": 41,
   "metadata": {
    "collapsed": true
   },
   "outputs": [],
   "source": [
    "y_all_3.to_csv('ys/{0}/y_csl_all_3-{0}.csv'.format(date))"
   ]
  },
  {
   "cell_type": "markdown",
   "metadata": {},
   "source": [
    "# EXP1 weighted score by familiar or explvl"
   ]
  },
  {
   "cell_type": "code",
   "execution_count": 11,
   "metadata": {
    "collapsed": true
   },
   "outputs": [],
   "source": [
    "def lvl_fearless_1st(lvl):\n",
    "    \"\"\" ignore user with no exp lvl\"\"\"\n",
    "    if pd.isnull(lvl):\n",
    "        return 0\n",
    "    return {'fearless': 4, 'confident': 3, 'interested': 2, 'reluctant': 1}[lvl]\n",
    "\n",
    "def lvl_reluctant_1st(lvl):\n",
    "    \"\"\" ignore user with no exp lvl\"\"\"\n",
    "    if pd.isnull(lvl):\n",
    "        return 0\n",
    "    return {'fearless': 1, 'confident': 2, 'interested': 3, 'reluctant': 4}[lvl]\n",
    "\n",
    "def familiar_include_no_info(fam):\n",
    "    if pd.isnull(fam):\n",
    "        return 2\n",
    "    return {'no': 1, 'yes':3}[fam]\n",
    "\n",
    "def familiar_exclude_no_info(fam):\n",
    "    if pd.isnull(fam):\n",
    "        return 0\n",
    "    return {'no': 1, 'yes':2}[fam]"
   ]
  },
  {
   "cell_type": "code",
   "execution_count": 12,
   "metadata": {
    "collapsed": true
   },
   "outputs": [],
   "source": [
    "joint_table['lvl_fearless_1st'] = joint_table.experienceLevel.apply(lvl_fearless_1st)\n",
    "joint_table['lvl_reluctant_1st'] = joint_table.experienceLevel.apply(lvl_reluctant_1st)\n",
    "joint_table['fam_include_noinfo'] = joint_table.familiar.apply(familiar_include_no_info)\n",
    "joint_table['fam_exclude_noinfo'] = joint_table.familiar.apply(familiar_exclude_no_info)"
   ]
  },
  {
   "cell_type": "code",
   "execution_count": 10,
   "metadata": {
    "collapsed": true
   },
   "outputs": [],
   "source": [
    "# joint_table[['experienceLevel', 'exp_fearless_1st', 'exp_reluctant_1st']]\n",
    "# joint_table[['familiar', 'fam_include_noinfo', 'fam_exclude_noinfo']]\n"
   ]
  },
  {
   "cell_type": "code",
   "execution_count": 13,
   "metadata": {
    "collapsed": true
   },
   "outputs": [],
   "source": [
    "def weighted_seg_score_by_add_weight(df, weighted_col, col_name='csl'):\n",
    "    if df.shape[0]==0:\n",
    "        return pd.DataFrame()\n",
    "    \n",
    "    score = df[df[weighted_col]!=0].groupby('index_seg').apply(lambda x: \n",
    "                                          (x.score * x.ratio * x[weighted_col]).sum() / (x.ratio*x[weighted_col]).sum()\n",
    "                                         ).to_frame()\n",
    "\n",
    "\n",
    "    score.columns = [col_name]\n",
    "    return score\n"
   ]
  },
  {
   "cell_type": "code",
   "execution_count": 14,
   "metadata": {
    "collapsed": true
   },
   "outputs": [],
   "source": [
    "def weighted_seg_score_by_add_weight2(df, weighted_col, col_name='csl'):\n",
    "    if df.shape[0]==0:\n",
    "        return pd.DataFrame()\n",
    "    \n",
    "    score = df[df[weighted_col]!=0].groupby('index_seg').apply(lambda x: \n",
    "                                          (x.score * x.ratio * x[weighted_col]).sum() / (x.ratio.sum() *x[weighted_col].sum())\n",
    "                                         ).to_frame()\n",
    "\n",
    "\n",
    "    score.columns = [col_name]\n",
    "    return score\n"
   ]
  },
  {
   "cell_type": "code",
   "execution_count": 18,
   "metadata": {
    "collapsed": true
   },
   "outputs": [],
   "source": [
    "weighted_y = weighted_seg_score_by_add_weight(joint_table, 'fam_include_noinfo')\n",
    "weighted_y2 = weighted_seg_score_by_add_weight2(joint_table, 'fam_include_noinfo')\n",
    "weighted_y.columns = ['optionA']\n",
    "weighted_y2.columns = ['optionB']\n"
   ]
  },
  {
   "cell_type": "code",
   "execution_count": 26,
   "metadata": {
    "scrolled": true
   },
   "outputs": [
    {
     "data": {
      "text/html": [
       "<div>\n",
       "<style>\n",
       "    .dataframe thead tr:only-child th {\n",
       "        text-align: right;\n",
       "    }\n",
       "\n",
       "    .dataframe thead th {\n",
       "        text-align: left;\n",
       "    }\n",
       "\n",
       "    .dataframe tbody tr th {\n",
       "        vertical-align: top;\n",
       "    }\n",
       "</style>\n",
       "<table border=\"1\" class=\"dataframe\">\n",
       "  <thead>\n",
       "    <tr style=\"text-align: right;\">\n",
       "      <th></th>\n",
       "      <th>csl</th>\n",
       "      <th>optionA</th>\n",
       "      <th>optionB</th>\n",
       "    </tr>\n",
       "    <tr>\n",
       "      <th>index_seg</th>\n",
       "      <th></th>\n",
       "      <th></th>\n",
       "      <th></th>\n",
       "    </tr>\n",
       "  </thead>\n",
       "  <tbody>\n",
       "    <tr>\n",
       "      <th>97</th>\n",
       "      <td>3.368421</td>\n",
       "      <td>3.552632</td>\n",
       "      <td>0.507519</td>\n",
       "    </tr>\n",
       "    <tr>\n",
       "      <th>98</th>\n",
       "      <td>3.400000</td>\n",
       "      <td>3.150000</td>\n",
       "      <td>0.787500</td>\n",
       "    </tr>\n",
       "    <tr>\n",
       "      <th>101</th>\n",
       "      <td>2.696970</td>\n",
       "      <td>2.489362</td>\n",
       "      <td>0.443182</td>\n",
       "    </tr>\n",
       "    <tr>\n",
       "      <th>102</th>\n",
       "      <td>3.000000</td>\n",
       "      <td>3.000000</td>\n",
       "      <td>0.621302</td>\n",
       "    </tr>\n",
       "    <tr>\n",
       "      <th>103</th>\n",
       "      <td>2.550000</td>\n",
       "      <td>2.640000</td>\n",
       "      <td>0.380769</td>\n",
       "    </tr>\n",
       "    <tr>\n",
       "      <th>104</th>\n",
       "      <td>4.200000</td>\n",
       "      <td>4.333333</td>\n",
       "      <td>0.866667</td>\n",
       "    </tr>\n",
       "    <tr>\n",
       "      <th>126</th>\n",
       "      <td>3.000000</td>\n",
       "      <td>3.000000</td>\n",
       "      <td>3.000000</td>\n",
       "    </tr>\n",
       "    <tr>\n",
       "      <th>127</th>\n",
       "      <td>3.477612</td>\n",
       "      <td>3.568047</td>\n",
       "      <td>0.391304</td>\n",
       "    </tr>\n",
       "    <tr>\n",
       "      <th>128</th>\n",
       "      <td>3.297872</td>\n",
       "      <td>3.424779</td>\n",
       "      <td>0.392097</td>\n",
       "    </tr>\n",
       "    <tr>\n",
       "      <th>132</th>\n",
       "      <td>2.000000</td>\n",
       "      <td>2.000000</td>\n",
       "      <td>0.933333</td>\n",
       "    </tr>\n",
       "    <tr>\n",
       "      <th>134</th>\n",
       "      <td>2.800000</td>\n",
       "      <td>2.900000</td>\n",
       "      <td>0.580000</td>\n",
       "    </tr>\n",
       "    <tr>\n",
       "      <th>135</th>\n",
       "      <td>3.000000</td>\n",
       "      <td>3.000000</td>\n",
       "      <td>3.000000</td>\n",
       "    </tr>\n",
       "    <tr>\n",
       "      <th>136</th>\n",
       "      <td>3.541667</td>\n",
       "      <td>3.550000</td>\n",
       "      <td>0.455128</td>\n",
       "    </tr>\n",
       "    <tr>\n",
       "      <th>137</th>\n",
       "      <td>3.400000</td>\n",
       "      <td>3.555556</td>\n",
       "      <td>0.711111</td>\n",
       "    </tr>\n",
       "    <tr>\n",
       "      <th>138</th>\n",
       "      <td>3.666667</td>\n",
       "      <td>3.571429</td>\n",
       "      <td>1.190476</td>\n",
       "    </tr>\n",
       "    <tr>\n",
       "      <th>139</th>\n",
       "      <td>4.121212</td>\n",
       "      <td>4.029851</td>\n",
       "      <td>0.681818</td>\n",
       "    </tr>\n",
       "    <tr>\n",
       "      <th>140</th>\n",
       "      <td>4.307692</td>\n",
       "      <td>4.470588</td>\n",
       "      <td>0.835165</td>\n",
       "    </tr>\n",
       "    <tr>\n",
       "      <th>179</th>\n",
       "      <td>3.000000</td>\n",
       "      <td>3.000000</td>\n",
       "      <td>0.750000</td>\n",
       "    </tr>\n",
       "    <tr>\n",
       "      <th>180</th>\n",
       "      <td>2.666667</td>\n",
       "      <td>2.538462</td>\n",
       "      <td>0.423077</td>\n",
       "    </tr>\n",
       "    <tr>\n",
       "      <th>181</th>\n",
       "      <td>3.055556</td>\n",
       "      <td>3.061224</td>\n",
       "      <td>0.333333</td>\n",
       "    </tr>\n",
       "    <tr>\n",
       "      <th>182</th>\n",
       "      <td>3.052632</td>\n",
       "      <td>3.057692</td>\n",
       "      <td>0.298872</td>\n",
       "    </tr>\n",
       "    <tr>\n",
       "      <th>183</th>\n",
       "      <td>2.571429</td>\n",
       "      <td>2.545455</td>\n",
       "      <td>0.500000</td>\n",
       "    </tr>\n",
       "    <tr>\n",
       "      <th>250</th>\n",
       "      <td>4.000000</td>\n",
       "      <td>4.000000</td>\n",
       "      <td>2.000000</td>\n",
       "    </tr>\n",
       "    <tr>\n",
       "      <th>251</th>\n",
       "      <td>1.937500</td>\n",
       "      <td>1.781250</td>\n",
       "      <td>0.593750</td>\n",
       "    </tr>\n",
       "    <tr>\n",
       "      <th>252</th>\n",
       "      <td>1.714286</td>\n",
       "      <td>1.945946</td>\n",
       "      <td>0.489796</td>\n",
       "    </tr>\n",
       "    <tr>\n",
       "      <th>253</th>\n",
       "      <td>2.629630</td>\n",
       "      <td>2.784615</td>\n",
       "      <td>0.670370</td>\n",
       "    </tr>\n",
       "    <tr>\n",
       "      <th>254</th>\n",
       "      <td>4.384615</td>\n",
       "      <td>4.384615</td>\n",
       "      <td>0.876923</td>\n",
       "    </tr>\n",
       "    <tr>\n",
       "      <th>255</th>\n",
       "      <td>3.000000</td>\n",
       "      <td>3.000000</td>\n",
       "      <td>0.750000</td>\n",
       "    </tr>\n",
       "    <tr>\n",
       "      <th>256</th>\n",
       "      <td>3.000000</td>\n",
       "      <td>3.000000</td>\n",
       "      <td>0.750000</td>\n",
       "    </tr>\n",
       "    <tr>\n",
       "      <th>257</th>\n",
       "      <td>2.837838</td>\n",
       "      <td>2.804348</td>\n",
       "      <td>0.249035</td>\n",
       "    </tr>\n",
       "    <tr>\n",
       "      <th>...</th>\n",
       "      <td>...</td>\n",
       "      <td>...</td>\n",
       "      <td>...</td>\n",
       "    </tr>\n",
       "    <tr>\n",
       "      <th>11485</th>\n",
       "      <td>3.000000</td>\n",
       "      <td>3.000000</td>\n",
       "      <td>1.840909</td>\n",
       "    </tr>\n",
       "    <tr>\n",
       "      <th>11886</th>\n",
       "      <td>3.250000</td>\n",
       "      <td>3.300000</td>\n",
       "      <td>0.825000</td>\n",
       "    </tr>\n",
       "    <tr>\n",
       "      <th>11960</th>\n",
       "      <td>2.592593</td>\n",
       "      <td>2.516129</td>\n",
       "      <td>0.288889</td>\n",
       "    </tr>\n",
       "    <tr>\n",
       "      <th>12047</th>\n",
       "      <td>1.750000</td>\n",
       "      <td>1.700000</td>\n",
       "      <td>0.425000</td>\n",
       "    </tr>\n",
       "    <tr>\n",
       "      <th>12064</th>\n",
       "      <td>4.071429</td>\n",
       "      <td>4.000000</td>\n",
       "      <td>0.285714</td>\n",
       "    </tr>\n",
       "    <tr>\n",
       "      <th>12065</th>\n",
       "      <td>3.500000</td>\n",
       "      <td>3.516667</td>\n",
       "      <td>0.355219</td>\n",
       "    </tr>\n",
       "    <tr>\n",
       "      <th>12259</th>\n",
       "      <td>4.290323</td>\n",
       "      <td>4.290323</td>\n",
       "      <td>0.858065</td>\n",
       "    </tr>\n",
       "    <tr>\n",
       "      <th>12260</th>\n",
       "      <td>4.000000</td>\n",
       "      <td>4.000000</td>\n",
       "      <td>2.000000</td>\n",
       "    </tr>\n",
       "    <tr>\n",
       "      <th>12261</th>\n",
       "      <td>4.000000</td>\n",
       "      <td>4.000000</td>\n",
       "      <td>0.645455</td>\n",
       "    </tr>\n",
       "    <tr>\n",
       "      <th>12262</th>\n",
       "      <td>3.666667</td>\n",
       "      <td>3.666667</td>\n",
       "      <td>1.222222</td>\n",
       "    </tr>\n",
       "    <tr>\n",
       "      <th>12263</th>\n",
       "      <td>3.960784</td>\n",
       "      <td>3.939394</td>\n",
       "      <td>0.424837</td>\n",
       "    </tr>\n",
       "    <tr>\n",
       "      <th>12264</th>\n",
       "      <td>4.000000</td>\n",
       "      <td>4.000000</td>\n",
       "      <td>0.437895</td>\n",
       "    </tr>\n",
       "    <tr>\n",
       "      <th>12265</th>\n",
       "      <td>3.954545</td>\n",
       "      <td>3.980769</td>\n",
       "      <td>0.553476</td>\n",
       "    </tr>\n",
       "    <tr>\n",
       "      <th>12453</th>\n",
       "      <td>3.200000</td>\n",
       "      <td>3.230769</td>\n",
       "      <td>0.646154</td>\n",
       "    </tr>\n",
       "    <tr>\n",
       "      <th>12565</th>\n",
       "      <td>2.842105</td>\n",
       "      <td>2.793103</td>\n",
       "      <td>0.399671</td>\n",
       "    </tr>\n",
       "    <tr>\n",
       "      <th>12566</th>\n",
       "      <td>2.666667</td>\n",
       "      <td>2.571429</td>\n",
       "      <td>0.428571</td>\n",
       "    </tr>\n",
       "    <tr>\n",
       "      <th>12567</th>\n",
       "      <td>2.666667</td>\n",
       "      <td>2.409091</td>\n",
       "      <td>0.265664</td>\n",
       "    </tr>\n",
       "    <tr>\n",
       "      <th>12568</th>\n",
       "      <td>2.750000</td>\n",
       "      <td>2.548387</td>\n",
       "      <td>0.259868</td>\n",
       "    </tr>\n",
       "    <tr>\n",
       "      <th>12847</th>\n",
       "      <td>3.200000</td>\n",
       "      <td>3.230769</td>\n",
       "      <td>0.646154</td>\n",
       "    </tr>\n",
       "    <tr>\n",
       "      <th>12848</th>\n",
       "      <td>3.136364</td>\n",
       "      <td>3.150000</td>\n",
       "      <td>0.536932</td>\n",
       "    </tr>\n",
       "    <tr>\n",
       "      <th>12849</th>\n",
       "      <td>2.843137</td>\n",
       "      <td>2.824818</td>\n",
       "      <td>0.399381</td>\n",
       "    </tr>\n",
       "    <tr>\n",
       "      <th>12898</th>\n",
       "      <td>4.083333</td>\n",
       "      <td>4.060976</td>\n",
       "      <td>0.298387</td>\n",
       "    </tr>\n",
       "    <tr>\n",
       "      <th>12942</th>\n",
       "      <td>2.666667</td>\n",
       "      <td>2.571429</td>\n",
       "      <td>0.857143</td>\n",
       "    </tr>\n",
       "    <tr>\n",
       "      <th>13305</th>\n",
       "      <td>1.000000</td>\n",
       "      <td>1.000000</td>\n",
       "      <td>1.000000</td>\n",
       "    </tr>\n",
       "    <tr>\n",
       "      <th>13306</th>\n",
       "      <td>2.000000</td>\n",
       "      <td>2.000000</td>\n",
       "      <td>2.000000</td>\n",
       "    </tr>\n",
       "    <tr>\n",
       "      <th>13435</th>\n",
       "      <td>3.000000</td>\n",
       "      <td>3.000000</td>\n",
       "      <td>1.000000</td>\n",
       "    </tr>\n",
       "    <tr>\n",
       "      <th>13447</th>\n",
       "      <td>4.500000</td>\n",
       "      <td>4.500000</td>\n",
       "      <td>2.250000</td>\n",
       "    </tr>\n",
       "    <tr>\n",
       "      <th>13449</th>\n",
       "      <td>4.173913</td>\n",
       "      <td>4.293103</td>\n",
       "      <td>0.515528</td>\n",
       "    </tr>\n",
       "    <tr>\n",
       "      <th>13477</th>\n",
       "      <td>3.566667</td>\n",
       "      <td>3.566667</td>\n",
       "      <td>0.594444</td>\n",
       "    </tr>\n",
       "    <tr>\n",
       "      <th>13478</th>\n",
       "      <td>3.333333</td>\n",
       "      <td>3.333333</td>\n",
       "      <td>1.111111</td>\n",
       "    </tr>\n",
       "  </tbody>\n",
       "</table>\n",
       "<p>442 rows × 3 columns</p>\n",
       "</div>"
      ],
      "text/plain": [
       "                csl   optionA   optionB\n",
       "index_seg                              \n",
       "97         3.368421  3.552632  0.507519\n",
       "98         3.400000  3.150000  0.787500\n",
       "101        2.696970  2.489362  0.443182\n",
       "102        3.000000  3.000000  0.621302\n",
       "103        2.550000  2.640000  0.380769\n",
       "104        4.200000  4.333333  0.866667\n",
       "126        3.000000  3.000000  3.000000\n",
       "127        3.477612  3.568047  0.391304\n",
       "128        3.297872  3.424779  0.392097\n",
       "132        2.000000  2.000000  0.933333\n",
       "134        2.800000  2.900000  0.580000\n",
       "135        3.000000  3.000000  3.000000\n",
       "136        3.541667  3.550000  0.455128\n",
       "137        3.400000  3.555556  0.711111\n",
       "138        3.666667  3.571429  1.190476\n",
       "139        4.121212  4.029851  0.681818\n",
       "140        4.307692  4.470588  0.835165\n",
       "179        3.000000  3.000000  0.750000\n",
       "180        2.666667  2.538462  0.423077\n",
       "181        3.055556  3.061224  0.333333\n",
       "182        3.052632  3.057692  0.298872\n",
       "183        2.571429  2.545455  0.500000\n",
       "250        4.000000  4.000000  2.000000\n",
       "251        1.937500  1.781250  0.593750\n",
       "252        1.714286  1.945946  0.489796\n",
       "253        2.629630  2.784615  0.670370\n",
       "254        4.384615  4.384615  0.876923\n",
       "255        3.000000  3.000000  0.750000\n",
       "256        3.000000  3.000000  0.750000\n",
       "257        2.837838  2.804348  0.249035\n",
       "...             ...       ...       ...\n",
       "11485      3.000000  3.000000  1.840909\n",
       "11886      3.250000  3.300000  0.825000\n",
       "11960      2.592593  2.516129  0.288889\n",
       "12047      1.750000  1.700000  0.425000\n",
       "12064      4.071429  4.000000  0.285714\n",
       "12065      3.500000  3.516667  0.355219\n",
       "12259      4.290323  4.290323  0.858065\n",
       "12260      4.000000  4.000000  2.000000\n",
       "12261      4.000000  4.000000  0.645455\n",
       "12262      3.666667  3.666667  1.222222\n",
       "12263      3.960784  3.939394  0.424837\n",
       "12264      4.000000  4.000000  0.437895\n",
       "12265      3.954545  3.980769  0.553476\n",
       "12453      3.200000  3.230769  0.646154\n",
       "12565      2.842105  2.793103  0.399671\n",
       "12566      2.666667  2.571429  0.428571\n",
       "12567      2.666667  2.409091  0.265664\n",
       "12568      2.750000  2.548387  0.259868\n",
       "12847      3.200000  3.230769  0.646154\n",
       "12848      3.136364  3.150000  0.536932\n",
       "12849      2.843137  2.824818  0.399381\n",
       "12898      4.083333  4.060976  0.298387\n",
       "12942      2.666667  2.571429  0.857143\n",
       "13305      1.000000  1.000000  1.000000\n",
       "13306      2.000000  2.000000  2.000000\n",
       "13435      3.000000  3.000000  1.000000\n",
       "13447      4.500000  4.500000  2.250000\n",
       "13449      4.173913  4.293103  0.515528\n",
       "13477      3.566667  3.566667  0.594444\n",
       "13478      3.333333  3.333333  1.111111\n",
       "\n",
       "[442 rows x 3 columns]"
      ]
     },
     "execution_count": 26,
     "metadata": {},
     "output_type": "execute_result"
    }
   ],
   "source": [
    "y_all.join(weighted_y).join(weighted_y2)"
   ]
  },
  {
   "cell_type": "code",
   "execution_count": 32,
   "metadata": {
    "collapsed": true,
    "scrolled": false
   },
   "outputs": [],
   "source": [
    "for weighted_col in ['lvl_fearless_1st', 'lvl_reluctant_1st', 'fam_include_noinfo', 'fam_exclude_noinfo',]:\n",
    "    weighted_y = weighted_seg_score_by_add_weight(joint_table, weighted_col)\n",
    "    weighted_y.to_csv('ys/{0}/y_csl_all_{1}-{0}.csv'.format(date, weighted_col))"
   ]
  },
  {
   "cell_type": "markdown",
   "metadata": {},
   "source": [
    "# EXP4 find sub type worth experimenting"
   ]
  },
  {
   "cell_type": "code",
   "execution_count": 22,
   "metadata": {
    "collapsed": true
   },
   "outputs": [],
   "source": [
    "def get_stat(filtered_ratings, col, label):\n",
    "    if filtered_ratings.shape[0]==0:\n",
    "        return {'question': col, 'answer':label, '#data points': 0}\n",
    "    else:\n",
    "        cmp_all = y_all.join(filtered_ratings, lsuffix='_all', how='inner')    \n",
    "        r2 = r2_score(cmp_all.csl_all, cmp_all.csl)\n",
    "        rmse = pd.np.sqrt(mean_squared_error(cmp_all.csl_all, cmp_all.csl))\n",
    "        same_class_pcnt = (cmp_all.csl_all.round()==cmp_all.csl.round()).mean()\n",
    "        return {\n",
    "            'question': col, 'answer': label, '#data points':filtered_ratings.shape[0],\n",
    "            'r2' : r2, 'rmse': rmse, 'same_class_percentage': same_class_pcnt,\n",
    "        }"
   ]
  },
  {
   "cell_type": "code",
   "execution_count": 24,
   "metadata": {
    "collapsed": true
   },
   "outputs": [],
   "source": [
    "y_shape_with_filtered = []\n",
    "for col, labels in SURVEY_DICT.items():\n",
    "    question_col = joint_table[col].fillna(0).astype(int)\n",
    "    for i, label in enumerate(labels):  \n",
    "        filtered_ratings = weighted_seg_score(joint_table[question_col==i])\n",
    "        stat = get_stat(filtered_ratings, col, label)\n",
    "        y_shape_with_filtered.append(stat)\n",
    "\n",
    "col = 'experienceLevel'\n",
    "question_col = joint_table[col].fillna('No Info')\n",
    "for label in ['No Info', 'fearless', 'confident', 'interested', 'reluctant']:\n",
    "    filtered_ratings = weighted_seg_score(joint_table[question_col==label])\n",
    "    stat = get_stat(filtered_ratings, col, label)\n",
    "    y_shape_with_filtered.append(stat)\n",
    "    "
   ]
  },
  {
   "cell_type": "code",
   "execution_count": 25,
   "metadata": {
    "collapsed": true
   },
   "outputs": [],
   "source": [
    "df_y_shape=pd.DataFrame(y_shape_with_filtered)"
   ]
  },
  {
   "cell_type": "code",
   "execution_count": 27,
   "metadata": {
    "collapsed": true
   },
   "outputs": [],
   "source": [
    "df_y_shape[['question', 'answer', '#data points', 'r2', 'rmse', 'same_class_percentage']].to_csv(\n",
    "    'ys/{0}/filtered_y_shape.csv'.format(date), encoding='utf8')"
   ]
  },
  {
   "cell_type": "markdown",
   "metadata": {},
   "source": [
    "# EXP4 get sub ys"
   ]
  },
  {
   "cell_type": "code",
   "execution_count": 42,
   "metadata": {
    "collapsed": true
   },
   "outputs": [],
   "source": [
    "sub_ys = {}\n",
    "\n",
    "for col, labels in SURVEY_DICT.items():\n",
    "    # consider these 4 types+exp lvl only\n",
    "    if col not in ['bk_purpose', 'household_income', 'age', 'bk_type', 'gender']:\n",
    "        continue\n",
    "    question_col = joint_table[col].fillna(0).astype(int)\n",
    "    for i, label in enumerate(labels):  \n",
    "        # exclude no Info\n",
    "        if i==0:\n",
    "            continue\n",
    "        filtered_ratings = weighted_seg_score(joint_table[question_col==i])\n",
    "        if filtered_ratings.shape[0]>100:\n",
    "            sub_ys[(col, label)] = filtered_ratings\n",
    "\n",
    "col = 'experienceLevel'\n",
    "question_col = joint_table[col].fillna('No Info')\n",
    "for label in ['No Info', 'fearless', 'confident', 'interested', 'reluctant']:\n",
    "    filtered_ratings = weighted_seg_score(joint_table[question_col==label])\n",
    "    if filtered_ratings.shape[0]>100:\n",
    "        sub_ys[(col, label)] = filtered_ratings"
   ]
  },
  {
   "cell_type": "code",
   "execution_count": 43,
   "metadata": {},
   "outputs": [
    {
     "data": {
      "text/plain": [
       "dict_keys([('bk_purpose', 'Mainly utility biking – traveling from one location to another'), ('bk_purpose', 'Mainly recreational biking – biking for recreation, leisure, and health'), ('bk_purpose', '50% utility, 50% recreational'), ('age', '25-34'), ('age', '35-44'), ('age', '45-54'), ('age', '55-64'), ('age', '65-74'), ('gender', 'Female'), ('gender', 'Male'), ('household_income', 'Less than $24,999'), ('household_income', '$55,000 to $69,999'), ('household_income', '$70,000 to $84,999'), ('household_income', '$85,000 to $99,999'), ('household_income', '$100,000 to $149,999'), ('household_income', '$150,000 or more'), ('bk_type', 'CaBi Bike (Shared bike in the DC region)'), ('bk_type', 'Road Bike'), ('bk_type', 'Hybrid Bike'), ('experienceLevel', 'fearless'), ('experienceLevel', 'confident'), ('experienceLevel', 'interested')])"
      ]
     },
     "execution_count": 43,
     "metadata": {},
     "output_type": "execute_result"
    }
   ],
   "source": [
    "sub_ys.keys()"
   ]
  },
  {
   "cell_type": "code",
   "execution_count": 45,
   "metadata": {},
   "outputs": [],
   "source": [
    "for key, df in sub_ys.items():\n",
    "    q, a = key[0], key[1].split('–')[0]\n",
    "    fn = 'ys/{0}/exp4_ys/y_csl_{1}#{2}-{0}.csv'.format(date, q, a)\n",
    "    df.to_csv(fn, encoding='utf8')"
   ]
  },
  {
   "cell_type": "markdown",
   "metadata": {},
   "source": [
    "# EXP5 reconstruction"
   ]
  },
  {
   "cell_type": "code",
   "execution_count": 42,
   "metadata": {
    "collapsed": true
   },
   "outputs": [],
   "source": [
    "SAMPLING_SEEDS = [6412, 9978, 5876, 5319, 5512, 4737, 4934, 2097, 1151, 5237]"
   ]
  },
  {
   "cell_type": "code",
   "execution_count": 38,
   "metadata": {
    "collapsed": true
   },
   "outputs": [],
   "source": [
    "import math"
   ]
  },
  {
   "cell_type": "code",
   "execution_count": 44,
   "metadata": {
    "collapsed": true
   },
   "outputs": [
    {
     "name": "stdout",
     "output_type": "stream",
     "text": [
      "====frac: 90 2\n",
      "6412 (2105, 36) (439, 1)\n",
      "9978 (2105, 36) (440, 1)\n",
      "====frac: 80 2\n",
      "6412 (1871, 36) (430, 1)\n",
      "9978 (1871, 36) (437, 1)\n",
      "====frac: 70 2\n",
      "6412 (1637, 36) (423, 1)\n",
      "9978 (1637, 36) (426, 1)\n",
      "====frac: 60 2\n",
      "6412 (1403, 36) (411, 1)\n",
      "9978 (1403, 36) (415, 1)\n",
      "====frac: 50 2\n",
      "6412 (1170, 36) (394, 1)\n",
      "9978 (1170, 36) (400, 1)\n",
      "====frac: 40 3\n",
      "6412 (936, 36) (365, 1)\n",
      "9978 (936, 36) (371, 1)\n",
      "5876 (936, 36) (377, 1)\n",
      "====frac: 30 4\n",
      "6412 (702, 36) (329, 1)\n",
      "9978 (702, 36) (345, 1)\n",
      "5876 (702, 36) (336, 1)\n",
      "5319 (702, 36) (332, 1)\n",
      "====frac: 20 5\n",
      "6412 (468, 36) (277, 1)\n",
      "9978 (468, 36) (278, 1)\n",
      "5876 (468, 36) (277, 1)\n",
      "5319 (468, 36) (280, 1)\n",
      "5512 (468, 36) (268, 1)\n",
      "====frac: 10 10\n",
      "6412 (234, 36) (171, 1)\n",
      "9978 (234, 36) (177, 1)\n",
      "5876 (234, 36) (181, 1)\n",
      "5319 (234, 36) (174, 1)\n",
      "5512 (234, 36) (177, 1)\n",
      "4737 (234, 36) (180, 1)\n",
      "4934 (234, 36) (173, 1)\n",
      "2097 (234, 36) (175, 1)\n",
      "1151 (234, 36) (179, 1)\n",
      "5237 (234, 36) (176, 1)\n"
     ]
    }
   ],
   "source": [
    "for frac in range(90, 0, -10):\n",
    "    n_repeat = math.ceil(100/frac)\n",
    "    print('====frac:', frac, n_repeat)\n",
    "    \n",
    "    for sample_seed in SAMPLING_SEEDS[:n_repeat]:\n",
    "        sampled_joint_table = joint_table.sample(frac=frac/100.0, random_state=sample_seed)\n",
    "        sampled_y = weighted_seg_score(sampled_joint_table)\n",
    "        print(sample_seed, sampled_joint_table.shape, sampled_y.shape)\n",
    "#         sampled_y.to_csv('ys/%s/exp5_reconstruction/y_csl_frac#%d_sample_%d.csv' % (date, frac, sample_seed))"
   ]
  }
 ],
 "metadata": {
  "kernelspec": {
   "display_name": "Python 3",
   "language": "python",
   "name": "python3"
  },
  "language_info": {
   "codemirror_mode": {
    "name": "ipython",
    "version": 3
   },
   "file_extension": ".py",
   "mimetype": "text/x-python",
   "name": "python",
   "nbconvert_exporter": "python",
   "pygments_lexer": "ipython3",
   "version": "3.6.1"
  }
 },
 "nbformat": 4,
 "nbformat_minor": 2
}
