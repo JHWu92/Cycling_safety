{
 "cells": [
  {
   "cell_type": "code",
   "execution_count": 1,
   "metadata": {
    "collapsed": true
   },
   "outputs": [],
   "source": [
    "from read_db_json import *"
   ]
  },
  {
   "cell_type": "code",
   "execution_count": 2,
   "metadata": {
    "collapsed": true
   },
   "outputs": [],
   "source": [
    "from sklearn.metrics import r2_score, mean_squared_error"
   ]
  },
  {
   "cell_type": "code",
   "execution_count": 3,
   "metadata": {
    "collapsed": true
   },
   "outputs": [],
   "source": [
    "# date = '2017-09-29'\n",
    "date='2017-08-30'\n",
    "date = '2017-10-01'"
   ]
  },
  {
   "cell_type": "code",
   "execution_count": 4,
   "metadata": {
    "scrolled": false
   },
   "outputs": [
    {
     "name": "stdout",
     "output_type": "stream",
     "text": [
      "with test (1476, 13)\n",
      "without test users (1476, 13)\n"
     ]
    }
   ],
   "source": [
    "# ratings = large_joint_table(date=date)\n",
    "joint_table = load_joint_table2(date=date)"
   ]
  },
  {
   "cell_type": "code",
   "execution_count": 5,
   "metadata": {
    "scrolled": true
   },
   "outputs": [
    {
     "data": {
      "text/plain": [
       "(2339, 32)"
      ]
     },
     "execution_count": 5,
     "metadata": {},
     "output_type": "execute_result"
    }
   ],
   "source": [
    "joint_table.shape"
   ]
  },
  {
   "cell_type": "code",
   "execution_count": 6,
   "metadata": {},
   "outputs": [
    {
     "data": {
      "text/plain": [
       "(442, 1)"
      ]
     },
     "execution_count": 6,
     "metadata": {},
     "output_type": "execute_result"
    }
   ],
   "source": [
    "y_all = weighted_seg_score(joint_table)\n",
    "\n",
    "y_all.shape"
   ]
  },
  {
   "cell_type": "code",
   "execution_count": 7,
   "metadata": {
    "collapsed": true
   },
   "outputs": [],
   "source": [
    "# y_all.to_csv('ys/{0}/y_csl_all-{0}.csv'.format(date))"
   ]
  },
  {
   "cell_type": "markdown",
   "metadata": {},
   "source": [
    "# EXP1 3 levels"
   ]
  },
  {
   "cell_type": "code",
   "execution_count": 40,
   "metadata": {
    "collapsed": true,
    "scrolled": true
   },
   "outputs": [],
   "source": [
    "y_all_3 = (y_all-1)/(5-1) * (3-1) + 1"
   ]
  },
  {
   "cell_type": "code",
   "execution_count": 41,
   "metadata": {
    "collapsed": true
   },
   "outputs": [],
   "source": [
    "y_all_3.to_csv('ys/{0}/y_csl_all_3-{0}.csv'.format(date))"
   ]
  },
  {
   "cell_type": "markdown",
   "metadata": {},
   "source": [
    "# EXP1 weighted score by familiar or explvl"
   ]
  },
  {
   "cell_type": "code",
   "execution_count": 11,
   "metadata": {
    "collapsed": true
   },
   "outputs": [],
   "source": [
    "def lvl_fearless_1st(lvl):\n",
    "    \"\"\" ignore user with no exp lvl\"\"\"\n",
    "    if pd.isnull(lvl):\n",
    "        return 0\n",
    "    return {'fearless': 4, 'confident': 3, 'interested': 2, 'reluctant': 1}[lvl]\n",
    "\n",
    "def lvl_reluctant_1st(lvl):\n",
    "    \"\"\" ignore user with no exp lvl\"\"\"\n",
    "    if pd.isnull(lvl):\n",
    "        return 0\n",
    "    return {'fearless': 1, 'confident': 2, 'interested': 3, 'reluctant': 4}[lvl]\n",
    "\n",
    "def familiar_include_no_info(fam):\n",
    "    if pd.isnull(fam):\n",
    "        return 2\n",
    "    return {'no': 1, 'yes':3}[fam]\n",
    "\n",
    "def familiar_exclude_no_info(fam):\n",
    "    if pd.isnull(fam):\n",
    "        return 0\n",
    "    return {'no': 1, 'yes':2}[fam]"
   ]
  },
  {
   "cell_type": "code",
   "execution_count": 12,
   "metadata": {
    "collapsed": true
   },
   "outputs": [],
   "source": [
    "joint_table['lvl_fearless_1st'] = joint_table.experienceLevel.apply(lvl_fearless_1st)\n",
    "joint_table['lvl_reluctant_1st'] = joint_table.experienceLevel.apply(lvl_reluctant_1st)\n",
    "joint_table['fam_include_noinfo'] = joint_table.familiar.apply(familiar_include_no_info)\n",
    "joint_table['fam_exclude_noinfo'] = joint_table.familiar.apply(familiar_exclude_no_info)"
   ]
  },
  {
   "cell_type": "code",
   "execution_count": 10,
   "metadata": {
    "collapsed": true
   },
   "outputs": [],
   "source": [
    "# joint_table[['experienceLevel', 'exp_fearless_1st', 'exp_reluctant_1st']]\n",
    "# joint_table[['familiar', 'fam_include_noinfo', 'fam_exclude_noinfo']]\n"
   ]
  },
  {
   "cell_type": "code",
   "execution_count": 13,
   "metadata": {
    "collapsed": true
   },
   "outputs": [],
   "source": [
    "def weighted_seg_score_by_add_weight(df, weighted_col, col_name='csl'):\n",
    "    if df.shape[0]==0:\n",
    "        return pd.DataFrame()\n",
    "    \n",
    "    score = df[df[weighted_col]!=0].groupby('index_seg').apply(lambda x: \n",
    "                                          (x.score * x.ratio * x[weighted_col]).sum() / (x.ratio*x[weighted_col]).sum()\n",
    "                                         ).to_frame()\n",
    "\n",
    "\n",
    "    score.columns = [col_name]\n",
    "    return score\n"
   ]
  },
  {
   "cell_type": "code",
   "execution_count": 32,
   "metadata": {
    "collapsed": true,
    "scrolled": false
   },
   "outputs": [],
   "source": [
    "for weighted_col in ['lvl_fearless_1st', 'lvl_reluctant_1st', 'fam_include_noinfo', 'fam_exclude_noinfo',]:\n",
    "    weighted_y = weighted_seg_score_by_add_weight(joint_table, weighted_col)\n",
    "    weighted_y.to_csv('ys/{0}/y_csl_all_{1}-{0}.csv'.format(date, weighted_col))"
   ]
  },
  {
   "cell_type": "markdown",
   "metadata": {},
   "source": [
    "### compare diff weight formula"
   ]
  },
  {
   "cell_type": "code",
   "execution_count": 14,
   "metadata": {
    "collapsed": true
   },
   "outputs": [],
   "source": [
    "def weighted_seg_score_by_add_weight2(df, weighted_col, col_name='csl'):\n",
    "    if df.shape[0]==0:\n",
    "        return pd.DataFrame()\n",
    "    \n",
    "    score = df[df[weighted_col]!=0].groupby('index_seg').apply(lambda x: \n",
    "                                          (x.score * x.ratio * x[weighted_col]).sum() / (x.ratio.sum() *x[weighted_col].sum())\n",
    "                                         ).to_frame()\n",
    "\n",
    "\n",
    "    score.columns = [col_name]\n",
    "    return score\n"
   ]
  },
  {
   "cell_type": "code",
   "execution_count": 18,
   "metadata": {
    "collapsed": true
   },
   "outputs": [],
   "source": [
    "weighted_y = weighted_seg_score_by_add_weight(joint_table, 'fam_include_noinfo')\n",
    "weighted_y2 = weighted_seg_score_by_add_weight2(joint_table, 'fam_include_noinfo')\n",
    "weighted_y.columns = ['optionA']\n",
    "weighted_y2.columns = ['optionB']\n",
    "# y_all.join(weighted_y).join(weighted_y2)"
   ]
  },
  {
   "cell_type": "code",
   "execution_count": 1,
   "metadata": {
    "collapsed": true,
    "scrolled": true
   },
   "outputs": [],
   "source": []
  },
  {
   "cell_type": "markdown",
   "metadata": {},
   "source": [
    "# EXP4 find sub type worth experimenting"
   ]
  },
  {
   "cell_type": "code",
   "execution_count": 22,
   "metadata": {
    "collapsed": true
   },
   "outputs": [],
   "source": [
    "def get_stat(filtered_ratings, col, label):\n",
    "    if filtered_ratings.shape[0]==0:\n",
    "        return {'question': col, 'answer':label, '#data points': 0}\n",
    "    else:\n",
    "        cmp_all = y_all.join(filtered_ratings, lsuffix='_all', how='inner')    \n",
    "        r2 = r2_score(cmp_all.csl_all, cmp_all.csl)\n",
    "        rmse = pd.np.sqrt(mean_squared_error(cmp_all.csl_all, cmp_all.csl))\n",
    "        same_class_pcnt = (cmp_all.csl_all.round()==cmp_all.csl.round()).mean()\n",
    "        return {\n",
    "            'question': col, 'answer': label, '#data points':filtered_ratings.shape[0],\n",
    "            'r2' : r2, 'rmse': rmse, 'same_class_percentage': same_class_pcnt,\n",
    "        }"
   ]
  },
  {
   "cell_type": "code",
   "execution_count": 24,
   "metadata": {
    "collapsed": true
   },
   "outputs": [],
   "source": [
    "y_shape_with_filtered = []\n",
    "for col, labels in SURVEY_DICT.items():\n",
    "    question_col = joint_table[col].fillna(0).astype(int)\n",
    "    for i, label in enumerate(labels):  \n",
    "        filtered_ratings = weighted_seg_score(joint_table[question_col==i])\n",
    "        stat = get_stat(filtered_ratings, col, label)\n",
    "        y_shape_with_filtered.append(stat)\n",
    "\n",
    "col = 'experienceLevel'\n",
    "question_col = joint_table[col].fillna('No Info')\n",
    "for label in ['No Info', 'fearless', 'confident', 'interested', 'reluctant']:\n",
    "    filtered_ratings = weighted_seg_score(joint_table[question_col==label])\n",
    "    stat = get_stat(filtered_ratings, col, label)\n",
    "    y_shape_with_filtered.append(stat)\n",
    "    "
   ]
  },
  {
   "cell_type": "code",
   "execution_count": 25,
   "metadata": {
    "collapsed": true
   },
   "outputs": [],
   "source": [
    "df_y_shape=pd.DataFrame(y_shape_with_filtered)"
   ]
  },
  {
   "cell_type": "code",
   "execution_count": 27,
   "metadata": {
    "collapsed": true
   },
   "outputs": [],
   "source": [
    "df_y_shape[['question', 'answer', '#data points', 'r2', 'rmse', 'same_class_percentage']].to_csv(\n",
    "    'ys/{0}/filtered_y_shape.csv'.format(date), encoding='utf8')"
   ]
  },
  {
   "cell_type": "markdown",
   "metadata": {},
   "source": [
    "# EXP4 get sub ys"
   ]
  },
  {
   "cell_type": "code",
   "execution_count": 42,
   "metadata": {
    "collapsed": true
   },
   "outputs": [],
   "source": [
    "sub_ys = {}\n",
    "\n",
    "for col, labels in SURVEY_DICT.items():\n",
    "    # consider these 4 types+exp lvl only\n",
    "    if col not in ['bk_purpose', 'household_income', 'age', 'bk_type', 'gender']:\n",
    "        continue\n",
    "    question_col = joint_table[col].fillna(0).astype(int)\n",
    "    for i, label in enumerate(labels):  \n",
    "        # exclude no Info\n",
    "        if i==0:\n",
    "            continue\n",
    "        filtered_ratings = weighted_seg_score(joint_table[question_col==i])\n",
    "        if filtered_ratings.shape[0]>100:\n",
    "            sub_ys[(col, label)] = filtered_ratings\n",
    "\n",
    "col = 'experienceLevel'\n",
    "question_col = joint_table[col].fillna('No Info')\n",
    "for label in ['No Info', 'fearless', 'confident', 'interested', 'reluctant']:\n",
    "    filtered_ratings = weighted_seg_score(joint_table[question_col==label])\n",
    "    if filtered_ratings.shape[0]>100:\n",
    "        sub_ys[(col, label)] = filtered_ratings"
   ]
  },
  {
   "cell_type": "code",
   "execution_count": 43,
   "metadata": {},
   "outputs": [
    {
     "data": {
      "text/plain": [
       "dict_keys([('bk_purpose', 'Mainly utility biking – traveling from one location to another'), ('bk_purpose', 'Mainly recreational biking – biking for recreation, leisure, and health'), ('bk_purpose', '50% utility, 50% recreational'), ('age', '25-34'), ('age', '35-44'), ('age', '45-54'), ('age', '55-64'), ('age', '65-74'), ('gender', 'Female'), ('gender', 'Male'), ('household_income', 'Less than $24,999'), ('household_income', '$55,000 to $69,999'), ('household_income', '$70,000 to $84,999'), ('household_income', '$85,000 to $99,999'), ('household_income', '$100,000 to $149,999'), ('household_income', '$150,000 or more'), ('bk_type', 'CaBi Bike (Shared bike in the DC region)'), ('bk_type', 'Road Bike'), ('bk_type', 'Hybrid Bike'), ('experienceLevel', 'fearless'), ('experienceLevel', 'confident'), ('experienceLevel', 'interested')])"
      ]
     },
     "execution_count": 43,
     "metadata": {},
     "output_type": "execute_result"
    }
   ],
   "source": [
    "sub_ys.keys()"
   ]
  },
  {
   "cell_type": "code",
   "execution_count": 45,
   "metadata": {
    "collapsed": true
   },
   "outputs": [],
   "source": [
    "for key, df in sub_ys.items():\n",
    "    q, a = key[0], key[1].split('–')[0]\n",
    "    fn = 'ys/{0}/exp4_ys/y_csl_{1}#{2}-{0}.csv'.format(date, q, a)\n",
    "    df.to_csv(fn, encoding='utf8')"
   ]
  },
  {
   "cell_type": "markdown",
   "metadata": {},
   "source": [
    "# EXP5 reconstruction"
   ]
  },
  {
   "cell_type": "code",
   "execution_count": 7,
   "metadata": {
    "collapsed": true
   },
   "outputs": [],
   "source": [
    "SAMPLING_SEEDS = [6412, 9978, 5876, 5319, 5512, 4737, 4934, 2097, 1151, 5237]"
   ]
  },
  {
   "cell_type": "code",
   "execution_count": 8,
   "metadata": {
    "collapsed": true
   },
   "outputs": [],
   "source": [
    "import math"
   ]
  },
  {
   "cell_type": "code",
   "execution_count": 9,
   "metadata": {},
   "outputs": [
    {
     "name": "stdout",
     "output_type": "stream",
     "text": [
      "====frac: 90 2\n",
      "6412 (2105, 32) (439, 1)\n",
      "9978 (2105, 32) (440, 1)\n",
      "====frac: 80 2\n",
      "6412 (1871, 32) (430, 1)\n",
      "9978 (1871, 32) (437, 1)\n",
      "====frac: 70 2\n",
      "6412 (1637, 32) (423, 1)\n",
      "9978 (1637, 32) (426, 1)\n",
      "====frac: 60 2\n",
      "6412 (1403, 32) (411, 1)\n",
      "9978 (1403, 32) (415, 1)\n",
      "====frac: 50 2\n",
      "6412 (1170, 32) (394, 1)\n",
      "9978 (1170, 32) (400, 1)\n",
      "====frac: 40 3\n",
      "6412 (936, 32) (365, 1)\n",
      "9978 (936, 32) (371, 1)\n",
      "5876 (936, 32) (377, 1)\n",
      "====frac: 30 4\n",
      "6412 (702, 32) (329, 1)\n",
      "9978 (702, 32) (345, 1)\n",
      "5876 (702, 32) (336, 1)\n",
      "5319 (702, 32) (332, 1)\n",
      "====frac: 20 5\n",
      "6412 (468, 32) (277, 1)\n",
      "9978 (468, 32) (278, 1)\n",
      "5876 (468, 32) (277, 1)\n",
      "5319 (468, 32) (280, 1)\n",
      "5512 (468, 32) (268, 1)\n",
      "====frac: 10 10\n",
      "6412 (234, 32) (171, 1)\n",
      "9978 (234, 32) (177, 1)\n",
      "5876 (234, 32) (181, 1)\n",
      "5319 (234, 32) (174, 1)\n",
      "5512 (234, 32) (177, 1)\n",
      "4737 (234, 32) (180, 1)\n",
      "4934 (234, 32) (173, 1)\n",
      "2097 (234, 32) (175, 1)\n",
      "1151 (234, 32) (179, 1)\n",
      "5237 (234, 32) (176, 1)\n"
     ]
    }
   ],
   "source": [
    "for frac in range(90, 0, -10):\n",
    "    n_repeat = math.ceil(100/frac)\n",
    "    print('====frac:', frac, n_repeat)\n",
    "    \n",
    "    for sample_seed in SAMPLING_SEEDS[:n_repeat]:\n",
    "        sampled_joint_table = joint_table.sample(frac=frac/100.0, random_state=sample_seed)\n",
    "        sampled_y = weighted_seg_score(sampled_joint_table)\n",
    "        print(sample_seed, sampled_joint_table.shape, sampled_y.shape)\n",
    "        sampled_y.to_csv('ys/%s/exp5_reconstruction/y_csl_frac_sample#%d#%d.csv' % (date, frac, sample_seed))"
   ]
  }
 ],
 "metadata": {
  "kernelspec": {
   "display_name": "Python 3",
   "language": "python",
   "name": "python3"
  },
  "language_info": {
   "codemirror_mode": {
    "name": "ipython",
    "version": 3
   },
   "file_extension": ".py",
   "mimetype": "text/x-python",
   "name": "python",
   "nbconvert_exporter": "python",
   "pygments_lexer": "ipython3",
   "version": "3.6.1"
  }
 },
 "nbformat": 4,
 "nbformat_minor": 2
}
