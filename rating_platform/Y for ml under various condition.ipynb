{
 "cells": [
  {
   "cell_type": "code",
   "execution_count": 1,
   "metadata": {
    "collapsed": true
   },
   "outputs": [],
   "source": [
    "from read_db_json import *"
   ]
  },
  {
   "cell_type": "code",
   "execution_count": 2,
   "metadata": {
    "collapsed": true
   },
   "outputs": [],
   "source": [
    "from sklearn.metrics import r2_score, mean_squared_error"
   ]
  },
  {
   "cell_type": "code",
   "execution_count": 3,
   "metadata": {
    "scrolled": false
   },
   "outputs": [
    {
     "name": "stdout",
     "output_type": "stream",
     "text": [
      "with test (409, 12)\n",
      "without test users (409, 12)\n"
     ]
    }
   ],
   "source": [
    "ratings = large_joint_table()"
   ]
  },
  {
   "cell_type": "code",
   "execution_count": 4,
   "metadata": {
    "scrolled": true
   },
   "outputs": [
    {
     "data": {
      "text/plain": [
       "(636, 30)"
      ]
     },
     "execution_count": 4,
     "metadata": {},
     "output_type": "execute_result"
    }
   ],
   "source": [
    "ratings.shape"
   ]
  },
  {
   "cell_type": "code",
   "execution_count": 5,
   "metadata": {
    "collapsed": true
   },
   "outputs": [],
   "source": [
    "y_all = weighted_seg_score(ratings)"
   ]
  },
  {
   "cell_type": "markdown",
   "metadata": {},
   "source": [
    "# find sub type worth experimenting"
   ]
  },
  {
   "cell_type": "code",
   "execution_count": 7,
   "metadata": {
    "collapsed": true
   },
   "outputs": [],
   "source": [
    "def get_stat(filtered_ratings, col, label):\n",
    "    if filtered_ratings.shape[0]==0:\n",
    "        return {'question': col, 'answer':label, '#data points': 0}\n",
    "    else:\n",
    "        cmp_all = y_all.join(filtered_ratings, lsuffix='_all', how='inner')    \n",
    "        r2 = r2_score(cmp_all.csl_all, cmp_all.csl)\n",
    "        rmse = pd.np.sqrt(mean_squared_error(cmp_all.csl_all, cmp_all.csl))\n",
    "        same_class_pcnt = (cmp_all.csl_all.round()==cmp_all.csl.round()).mean()\n",
    "        return {\n",
    "            'question': col, 'answer': label, '#data points':filtered_ratings.shape[0],\n",
    "            'r2' : r2, 'rmse': rmse, 'same_class_percentage': same_class_pcnt,\n",
    "        }"
   ]
  },
  {
   "cell_type": "code",
   "execution_count": 8,
   "metadata": {
    "collapsed": true
   },
   "outputs": [],
   "source": [
    "y_shape_with_filtered = []\n",
    "for col, labels in SURVEY_DICT.items():\n",
    "    question_col = ratings[col].fillna(0).astype(int)\n",
    "    for i, label in enumerate(labels):  \n",
    "        filtered_ratings = weighted_seg_score(ratings[question_col==i])\n",
    "        stat = get_stat(filtered_ratings, col, label)\n",
    "        y_shape_with_filtered.append(stat)\n",
    "\n",
    "col = 'experienceLevel'\n",
    "question_col = ratings[col].fillna('No Info')\n",
    "for label in ['No Info', 'fearless', 'confident', 'interested', 'reluctant']:\n",
    "    filtered_ratings = weighted_seg_score(ratings[question_col==label])\n",
    "    stat = get_stat(filtered_ratings, col, label)\n",
    "    y_shape_with_filtered.append(stat)\n",
    "    "
   ]
  },
  {
   "cell_type": "code",
   "execution_count": 9,
   "metadata": {
    "collapsed": true
   },
   "outputs": [],
   "source": [
    "df_y_shape=pd.DataFrame(y_shape_with_filtered)"
   ]
  },
  {
   "cell_type": "code",
   "execution_count": 28,
   "metadata": {
    "collapsed": true
   },
   "outputs": [],
   "source": [
    "df_y_shape[['question', 'answer', '#data points', 'r2', 'rmse', 'same_class_percentage']].to_csv('filtered_y_shape.csv')"
   ]
  },
  {
   "cell_type": "markdown",
   "metadata": {},
   "source": [
    "# get sub ys"
   ]
  },
  {
   "cell_type": "code",
   "execution_count": 6,
   "metadata": {
    "collapsed": true
   },
   "outputs": [],
   "source": [
    "sub_ys = {}\n",
    "\n",
    "for col, labels in SURVEY_DICT.items():\n",
    "    # consider these 4 types+exp lvl only\n",
    "    if col not in ['bk_purpose', 'household_income', 'age', 'bk_type']:\n",
    "        continue\n",
    "    question_col = ratings[col].fillna(0).astype(int)\n",
    "    for i, label in enumerate(labels):  \n",
    "        # exclude no Info\n",
    "        if i==0:\n",
    "            continue\n",
    "        filtered_ratings = weighted_seg_score(ratings[question_col==i])\n",
    "        if filtered_ratings.shape[0]>30:\n",
    "            sub_ys[(col, label)] = filtered_ratings\n",
    "\n",
    "col = 'experienceLevel'\n",
    "question_col = ratings[col].fillna('No Info')\n",
    "for label in ['No Info', 'fearless', 'confident', 'interested', 'reluctant']:\n",
    "    filtered_ratings = weighted_seg_score(ratings[question_col==label])\n",
    "    if filtered_ratings.shape[0]>30:\n",
    "        sub_ys[(col, label)] = filtered_ratings"
   ]
  },
  {
   "cell_type": "code",
   "execution_count": 7,
   "metadata": {},
   "outputs": [
    {
     "data": {
      "text/plain": [
       "dict_keys([('bk_purpose', 'Mainly utility biking – traveling from one location to another'), ('bk_purpose', 'Mainly recreational biking – biking for recreation, leisure, and health'), ('bk_purpose', '50% utility, 50% recreational'), ('age', '25-34'), ('age', '35-44'), ('household_income', 'Less than $24,999'), ('household_income', '$25,000 to $39,999'), ('household_income', '$55,000 to $69,999'), ('household_income', '$70,000 to $84,999'), ('household_income', '$85,000 to $99,999'), ('household_income', '$100,000 to $149,999'), ('household_income', '$150,000 or more'), ('bk_type', 'Road Bike'), ('bk_type', 'Hybrid Bike'), ('experienceLevel', 'fearless'), ('experienceLevel', 'confident')])"
      ]
     },
     "execution_count": 7,
     "metadata": {},
     "output_type": "execute_result"
    }
   ],
   "source": [
    "sub_ys.keys()"
   ]
  },
  {
   "cell_type": "code",
   "execution_count": 16,
   "metadata": {
    "collapsed": true
   },
   "outputs": [],
   "source": [
    "for key, df in sub_ys.items():\n",
    "    fn = 'ys/y_csl_%s#%s.csv' % (key[0], key[1].split('–')[0])\n",
    "    df.to_csv(fn, encoding='utf8')"
   ]
  }
 ],
 "metadata": {
  "kernelspec": {
   "display_name": "Python 3",
   "language": "python",
   "name": "python3"
  },
  "language_info": {
   "codemirror_mode": {
    "name": "ipython",
    "version": 3
   },
   "file_extension": ".py",
   "mimetype": "text/x-python",
   "name": "python",
   "nbconvert_exporter": "python",
   "pygments_lexer": "ipython3",
   "version": "3.6.1"
  }
 },
 "nbformat": 4,
 "nbformat_minor": 2
}
