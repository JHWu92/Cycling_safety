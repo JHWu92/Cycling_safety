{
 "cells": [
  {
   "cell_type": "code",
   "execution_count": 1,
   "metadata": {
    "collapsed": true
   },
   "outputs": [],
   "source": [
    "import json\n",
    "import pandas as pd\n",
    "import numpy as np"
   ]
  },
  {
   "cell_type": "code",
   "execution_count": 103,
   "metadata": {
    "collapsed": true
   },
   "outputs": [],
   "source": [
    "date = '2017-10-01'\n",
    "fn = 'DB-backup/%s/cyclings_vid1.json' % date"
   ]
  },
  {
   "cell_type": "code",
   "execution_count": 104,
   "metadata": {
    "collapsed": true
   },
   "outputs": [],
   "source": [
    "data = json.load(open(fn))"
   ]
  },
  {
   "cell_type": "code",
   "execution_count": 105,
   "metadata": {},
   "outputs": [
    {
     "name": "stdout",
     "output_type": "stream",
     "text": [
      "2 loginLog\n",
      "3 Rating\n",
      "4 RoadSegment\n",
      "5 Users\n",
      "6 Video\n",
      "8 VideoRoadSeg\n"
     ]
    }
   ],
   "source": [
    "dfs = {}\n",
    "for i, item in enumerate(data):\n",
    "    if item['type']=='table':\n",
    "        name = item['name']\n",
    "        if name not in ( 'video2seg_temp'):\n",
    "            print(i,item['name'])\n",
    "            dfs[name] = pd.DataFrame(item['data'])"
   ]
  },
  {
   "cell_type": "code",
   "execution_count": 68,
   "metadata": {
    "collapsed": true
   },
   "outputs": [],
   "source": [
    "oldserver_rating = pd.read_csv('DB-backup/%s/oldserver/oldserverRating.csv' % date)\n",
    "oldserver_rating['uid'] = oldserver_rating['user_id_new']\n",
    "oldserver_rating.drop('user_id_new', axis=1, inplace=True)\n",
    "oldserver_rating['lid'] = oldserver_rating['lid'] * -1"
   ]
  },
  {
   "cell_type": "code",
   "execution_count": 108,
   "metadata": {
    "collapsed": true
   },
   "outputs": [],
   "source": [
    "oldserver_user = pd.read_csv('DB-backup/%s/oldserver/oldserverUser.csv' % date)\n",
    "oldserver_user['user_id'] = oldserver_user['user_id_new']\n",
    "oldserver_user.drop('user_id_new', axis=1, inplace=True)\n",
    "oldserver_user.set_index('user_id', inplace=True)"
   ]
  },
  {
   "cell_type": "code",
   "execution_count": 67,
   "metadata": {
    "collapsed": true
   },
   "outputs": [],
   "source": [
    "oldserver_loginlog = pd.read_csv('DB-backup/%s/oldserver/oldserverUserLog.csv' % date)\n",
    "oldserver_loginlog['user_id_new'] = oldserver_loginlog['user_id_new']\n",
    "oldserver_loginlog.drop('user_id_new', axis=1, inplace=True)\n",
    "oldserver_loginlog['lid'] = oldserver_loginlog['lid'] * -1"
   ]
  },
  {
   "cell_type": "code",
   "execution_count": 136,
   "metadata": {
    "collapsed": true
   },
   "outputs": [],
   "source": [
    "new_rating = dfs['Rating'].append(oldserver_rating)\n",
    "new_rating.vid = new_rating.vid.astype(str)\n",
    "new_rating.uid = new_rating.uid.astype(str)\n",
    "new_rating.score = new_rating.score.astype(str)\n",
    "new_rating.drop_duplicates(['uid','vid'],inplace=True)\n",
    "new_rating.to_csv('DB-backup/%s/Rating.csv' % date, encoding='utf8')\n",
    "new_rating.shape"
   ]
  },
  {
   "cell_type": "code",
   "execution_count": 140,
   "metadata": {},
   "outputs": [
    {
     "data": {
      "text/plain": [
       "(162, (162, 15))"
      ]
     },
     "execution_count": 140,
     "metadata": {},
     "output_type": "execute_result"
    }
   ],
   "source": [
    "new_users = dfs['Users'].copy()\n",
    "new_users.user_id = new_users.user_id.astype(int)\n",
    "new_users = new_users.set_index('user_id')\n",
    "new_users.fillna(oldserver_user, inplace=True)\n",
    "new_users = new_users.append(oldserver_user[oldserver_user.index<=0])\n",
    "new_users.reset_index().to_csv('DB-backup/%s/Users.csv' % date, encoding='utf8')\n",
    "new_users.email.nunique(), new_users.shape"
   ]
  },
  {
   "cell_type": "code",
   "execution_count": 141,
   "metadata": {},
   "outputs": [
    {
     "data": {
      "text/plain": [
       "(299, 9)"
      ]
     },
     "execution_count": 141,
     "metadata": {},
     "output_type": "execute_result"
    }
   ],
   "source": [
    "new_login = dfs['loginLog'].append(oldserver_loginlog)\n",
    "new_login.to_csv('DB-backup/%s/loginLog.csv' % date, encoding='utf8')\n",
    "new_login.shape"
   ]
  },
  {
   "cell_type": "code",
   "execution_count": 139,
   "metadata": {
    "collapsed": true
   },
   "outputs": [],
   "source": [
    "\n",
    "dfs['Video'].to_csv('DB-backup/%s/Video.csv' % date, encoding='utf8')\n",
    "dfs['VideoRoadSeg'].to_csv('DB-backup/%s/VideoRoadSeg.csv' % date, encoding='utf8')\n",
    "dfs['RoadSegment'].to_csv('DB-backup/%s/RoadSegment.csv' % date, encoding='utf8')"
   ]
  }
 ],
 "metadata": {
  "kernelspec": {
   "display_name": "Python 3",
   "language": "python",
   "name": "python3"
  },
  "language_info": {
   "codemirror_mode": {
    "name": "ipython",
    "version": 3
   },
   "file_extension": ".py",
   "mimetype": "text/x-python",
   "name": "python",
   "nbconvert_exporter": "python",
   "pygments_lexer": "ipython3",
   "version": "3.6.1"
  }
 },
 "nbformat": 4,
 "nbformat_minor": 2
}
