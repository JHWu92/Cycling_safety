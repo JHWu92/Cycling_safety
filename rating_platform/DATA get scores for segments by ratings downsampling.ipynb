{
 "cells": [
  {
   "cell_type": "code",
   "execution_count": 1,
   "metadata": {
    "collapsed": true
   },
   "outputs": [],
   "source": [
    "import pandas as pd\n",
    "import json"
   ]
  },
  {
   "cell_type": "code",
   "execution_count": 2,
   "metadata": {},
   "outputs": [
    {
     "name": "stdout",
     "output_type": "stream",
     "text": [
      "2 loginLog\n",
      "3 Rating\n",
      "4 RoadSegment\n",
      "5 Users\n",
      "6 Video\n",
      "8 VideoRoadSeg\n"
     ]
    }
   ],
   "source": [
    "date = '2017-08-30'\n",
    "fn = 'DB-backup/%s/cyclings_vid1.json' % date\n",
    "data = json.load(open(fn))\n",
    "dfs = {}\n",
    "for i, item in enumerate(data):\n",
    "    if item['type']=='table':\n",
    "        name = item['name']\n",
    "        if name not in ( 'video2seg_temp'):\n",
    "            print(i,item['name'])\n",
    "            dfs[name] = pd.DataFrame(item['data'])"
   ]
  },
  {
   "cell_type": "code",
   "execution_count": 3,
   "metadata": {
    "collapsed": true
   },
   "outputs": [],
   "source": [
    "users = dfs['Users']\n",
    "ratings = dfs['Rating'].drop('email', axis=1)\n",
    "videos=dfs['Video']\n",
    "videos.URL = videos.URL.apply(lambda x: 'https://www.youtube.com/watch?v='+x)\n",
    "vid2seg = dfs['VideoRoadSeg']\n",
    "segs = dfs['RoadSegment']"
   ]
  },
  {
   "cell_type": "code",
   "execution_count": 4,
   "metadata": {},
   "outputs": [
    {
     "name": "stdout",
     "output_type": "stream",
     "text": [
      "with test (409, 12)\n",
      "without test users (409, 12)\n"
     ]
    }
   ],
   "source": [
    "nontest_users = users[~users.email.str.contains('test')]\n",
    "nontest_users_id = nontest_users.user_id\n",
    "print('with test', ratings.shape)\n",
    "ratings = ratings[ratings.uid.isin(nontest_users_id)]\n",
    "print('without test users', ratings.shape)"
   ]
  },
  {
   "cell_type": "code",
   "execution_count": 5,
   "metadata": {
    "collapsed": true
   },
   "outputs": [],
   "source": [
    "import os"
   ]
  },
  {
   "cell_type": "code",
   "execution_count": 6,
   "metadata": {
    "collapsed": true
   },
   "outputs": [],
   "source": [
    "def get_dir_fn(seed, frac):\n",
    "    directory = 'downsample_experiment/seed_%d' % seed\n",
    "    file_name = '%s/y_ugr_all_frac_%.2f.csv' % (directory, frac)\n",
    "    os.makedirs(directory, exist_ok=True)\n",
    "    return directory, file_name"
   ]
  },
  {
   "cell_type": "code",
   "execution_count": 8,
   "metadata": {},
   "outputs": [],
   "source": [
    "for seed in [0, 100, 972, 5258, 7821, 40918, 57852, 168352, 291592, 789729423]:\n",
    "    for frac in [0.2, 0.4, 0.6, 0.8]:\n",
    "        sampled_ratings = ratings.sample(frac=frac, random_state=seed)\n",
    "        directory, file_name = get_dir_fn(seed, frac)\n",
    "        with open(directory+'/frac_%.2f=%d.txt' % (frac,sampled_ratings.shape[0]), 'w'):\n",
    "            pass\n",
    "        \n",
    "        joint_table = sampled_ratings.merge(vid2seg[['vid', 'index_seg', 'ratio']]\\\n",
    "                             .merge(segs[['index_seg', 'geometry']])\\\n",
    "                             .merge(videos[['vid','URL']]))\n",
    "        joint_table.ratio = joint_table.ratio.astype(float) \n",
    "        joint_table.score = joint_table.score.astype(float)\n",
    "        y = joint_table.groupby('index_seg').apply(lambda x: (x.score* x.ratio).sum()/x.ratio.sum()).to_frame()\n",
    "        y.columns = ['ugr']\n",
    "        y.to_csv(file_name)"
   ]
  },
  {
   "cell_type": "code",
   "execution_count": null,
   "metadata": {
    "collapsed": true
   },
   "outputs": [],
   "source": [
    "# joint_table = sampled_ratings.merge(vid2seg[['vid', 'index_seg', 'ratio']]\\\n",
    "#                      .merge(segs[['index_seg', 'geometry']])\\\n",
    "#                      .merge(videos[['vid','URL']]))\n",
    "# joint_table.ratio = joint_table.ratio.astype(float) \n",
    "# joint_table.score = joint_table.score.astype(float)\n",
    "# y = joint_table.groupby('index_seg').apply(lambda x: (x.score* x.ratio).sum()/x.ratio.sum()).to_frame()\n",
    "# y.columns = ['ugr']\n",
    "# y.to_csv(file_name)"
   ]
  },
  {
   "cell_type": "code",
   "execution_count": null,
   "metadata": {
    "collapsed": true
   },
   "outputs": [],
   "source": [
    "# %matplotlib inline"
   ]
  },
  {
   "cell_type": "code",
   "execution_count": null,
   "metadata": {},
   "outputs": [],
   "source": [
    "# y.ugr.hist()"
   ]
  },
  {
   "cell_type": "code",
   "execution_count": null,
   "metadata": {
    "collapsed": true
   },
   "outputs": [],
   "source": []
  }
 ],
 "metadata": {
  "kernelspec": {
   "display_name": "Python 3",
   "language": "python",
   "name": "python3"
  },
  "language_info": {
   "codemirror_mode": {
    "name": "ipython",
    "version": 3
   },
   "file_extension": ".py",
   "mimetype": "text/x-python",
   "name": "python",
   "nbconvert_exporter": "python",
   "pygments_lexer": "ipython3",
   "version": "3.6.1"
  }
 },
 "nbformat": 4,
 "nbformat_minor": 2
}
