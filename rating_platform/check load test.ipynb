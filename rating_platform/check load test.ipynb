{
 "cells": [
  {
   "cell_type": "code",
   "execution_count": 2,
   "metadata": {
    "collapsed": true
   },
   "outputs": [],
   "source": [
    "import pandas as pd"
   ]
  },
  {
   "cell_type": "code",
   "execution_count": 5,
   "metadata": {
    "collapsed": true
   },
   "outputs": [],
   "source": [
    "%matplotlib inline"
   ]
  },
  {
   "cell_type": "code",
   "execution_count": 16,
   "metadata": {
    "collapsed": true
   },
   "outputs": [],
   "source": [
    "num = 750"
   ]
  },
  {
   "cell_type": "code",
   "execution_count": 17,
   "metadata": {
    "collapsed": false
   },
   "outputs": [],
   "source": [
    "ratings = pd.read_csv('load_test_db/{}/Rating.csv'.format(num),header=None)\n",
    "users = pd.read_csv('load_test_db/{}/Users.csv'.format(num),header=None)\n",
    "v2s = pd.read_csv('load_test_db/{}/VideoRoadSeg.csv'.format(num),header=None)\n",
    "seg = pd.read_csv('load_test_db/{}/RoadSegment.csv'.format(num),header=None)\n",
    "login = pd.read_csv('load_test_db/{}/loginLog.csv'.format(num),header=None)"
   ]
  },
  {
   "cell_type": "code",
   "execution_count": 31,
   "metadata": {
    "collapsed": false
   },
   "outputs": [],
   "source": [
    "ratings.columns = ['rid', 'uid','email','vid','rating','comment','tags','familiar','time','tz',10,'ytlog','lid']\n",
    "v2s.columns = ['vrsid','vid','sid','clip_name','index_seg','ratio',]\n",
    "seg.columns=['sid','segmentid','index_seg','sumScore','sumRatio','sumCnt','geometry',]"
   ]
  },
  {
   "cell_type": "code",
   "execution_count": 32,
   "metadata": {
    "collapsed": false
   },
   "outputs": [],
   "source": [
    "users_in_ratings = ratings.groupby('uid').nunique()"
   ]
  },
  {
   "cell_type": "code",
   "execution_count": 33,
   "metadata": {
    "collapsed": false
   },
   "outputs": [
    {
     "data": {
      "text/plain": [
       "7    750\n",
       "Name: vid, dtype: int64"
      ]
     },
     "execution_count": 33,
     "metadata": {},
     "output_type": "execute_result"
    }
   ],
   "source": [
    "# unique vids per user \n",
    "users_in_ratings['vid'].value_counts()"
   ]
  },
  {
   "cell_type": "code",
   "execution_count": 24,
   "metadata": {
    "collapsed": false
   },
   "outputs": [
    {
     "data": {
      "text/plain": [
       "(True, True, True)"
      ]
     },
     "execution_count": 24,
     "metadata": {},
     "output_type": "execute_result"
    }
   ],
   "source": [
    "login[1].nunique()==num, len(login)==num, users[1].nunique()==num"
   ]
  },
  {
   "cell_type": "code",
   "execution_count": 41,
   "metadata": {
    "collapsed": false
   },
   "outputs": [],
   "source": [
    "r_on_v = ratings.groupby('vid')['rating'].agg(['sum','count']).reset_index()"
   ]
  },
  {
   "cell_type": "code",
   "execution_count": 47,
   "metadata": {
    "collapsed": false
   },
   "outputs": [],
   "source": [
    "s_from_r = r_on_v.merge(v2s)[['sid', 'count', 'sum', 'ratio']]"
   ]
  },
  {
   "cell_type": "code",
   "execution_count": 63,
   "metadata": {
    "collapsed": false
   },
   "outputs": [],
   "source": [
    "s_from_r['total_ratio'] = s_from_r['count'] * s_from_r.ratio\n",
    "s_from_r['total_sum'] = s_from_r['sum'] * s_from_r.ratio"
   ]
  },
  {
   "cell_type": "code",
   "execution_count": 65,
   "metadata": {
    "collapsed": false
   },
   "outputs": [],
   "source": [
    "s2s = s_from_r.groupby('sid')[['total_sum','count', 'total_ratio']].sum().reset_index().merge(seg)"
   ]
  },
  {
   "cell_type": "code",
   "execution_count": 68,
   "metadata": {
    "collapsed": false
   },
   "outputs": [
    {
     "data": {
      "text/html": [
       "<div>\n",
       "<style>\n",
       "    .dataframe thead tr:only-child th {\n",
       "        text-align: right;\n",
       "    }\n",
       "\n",
       "    .dataframe thead th {\n",
       "        text-align: left;\n",
       "    }\n",
       "\n",
       "    .dataframe tbody tr th {\n",
       "        vertical-align: top;\n",
       "    }\n",
       "</style>\n",
       "<table border=\"1\" class=\"dataframe\">\n",
       "  <thead>\n",
       "    <tr style=\"text-align: right;\">\n",
       "      <th></th>\n",
       "      <th>sid</th>\n",
       "      <th>total_sum</th>\n",
       "      <th>count</th>\n",
       "      <th>total_ratio</th>\n",
       "      <th>segmentid</th>\n",
       "      <th>index_seg</th>\n",
       "      <th>sumScore</th>\n",
       "      <th>sumRatio</th>\n",
       "      <th>sumCnt</th>\n",
       "      <th>geometry</th>\n",
       "    </tr>\n",
       "  </thead>\n",
       "  <tbody>\n",
       "    <tr>\n",
       "      <th>0</th>\n",
       "      <td>1</td>\n",
       "      <td>3905.0</td>\n",
       "      <td>2117</td>\n",
       "      <td>1058.5</td>\n",
       "      <td>1</td>\n",
       "      <td>1</td>\n",
       "      <td>3905.00</td>\n",
       "      <td>1058.500</td>\n",
       "      <td>2117</td>\n",
       "      <td>LINESTRING (-77.01364744974134 38.956284074045...</td>\n",
       "    </tr>\n",
       "    <tr>\n",
       "      <th>1</th>\n",
       "      <td>2</td>\n",
       "      <td>8762.4</td>\n",
       "      <td>4345</td>\n",
       "      <td>2379.6</td>\n",
       "      <td>2</td>\n",
       "      <td>2</td>\n",
       "      <td>8762.47</td>\n",
       "      <td>2379.550</td>\n",
       "      <td>4345</td>\n",
       "      <td>LINESTRING (-77.01357027112063 38.954497383391...</td>\n",
       "    </tr>\n",
       "    <tr>\n",
       "      <th>2</th>\n",
       "      <td>3</td>\n",
       "      <td>8694.4</td>\n",
       "      <td>4287</td>\n",
       "      <td>2343.6</td>\n",
       "      <td>3</td>\n",
       "      <td>3</td>\n",
       "      <td>8694.44</td>\n",
       "      <td>2343.700</td>\n",
       "      <td>4287</td>\n",
       "      <td>LINESTRING (-77.01362123887805 38.955569541454...</td>\n",
       "    </tr>\n",
       "    <tr>\n",
       "      <th>3</th>\n",
       "      <td>4</td>\n",
       "      <td>15630.4</td>\n",
       "      <td>6386</td>\n",
       "      <td>4236.8</td>\n",
       "      <td>4</td>\n",
       "      <td>4</td>\n",
       "      <td>15630.40</td>\n",
       "      <td>4236.800</td>\n",
       "      <td>6386</td>\n",
       "      <td>LINESTRING (-77.01324339541158 38.951215745942...</td>\n",
       "    </tr>\n",
       "    <tr>\n",
       "      <th>4</th>\n",
       "      <td>5</td>\n",
       "      <td>2338.8</td>\n",
       "      <td>2115</td>\n",
       "      <td>634.5</td>\n",
       "      <td>5</td>\n",
       "      <td>5</td>\n",
       "      <td>2338.79</td>\n",
       "      <td>634.486</td>\n",
       "      <td>2115</td>\n",
       "      <td>LINESTRING (-77.01346048293019 38.952283884461...</td>\n",
       "    </tr>\n",
       "  </tbody>\n",
       "</table>\n",
       "</div>"
      ],
      "text/plain": [
       "   sid  total_sum  count  total_ratio  segmentid  index_seg  sumScore  \\\n",
       "0    1     3905.0   2117       1058.5          1          1   3905.00   \n",
       "1    2     8762.4   4345       2379.6          2          2   8762.47   \n",
       "2    3     8694.4   4287       2343.6          3          3   8694.44   \n",
       "3    4    15630.4   6386       4236.8          4          4  15630.40   \n",
       "4    5     2338.8   2115        634.5          5          5   2338.79   \n",
       "\n",
       "   sumRatio  sumCnt                                           geometry  \n",
       "0  1058.500    2117  LINESTRING (-77.01364744974134 38.956284074045...  \n",
       "1  2379.550    4345  LINESTRING (-77.01357027112063 38.954497383391...  \n",
       "2  2343.700    4287  LINESTRING (-77.01362123887805 38.955569541454...  \n",
       "3  4236.800    6386  LINESTRING (-77.01324339541158 38.951215745942...  \n",
       "4   634.486    2115  LINESTRING (-77.01346048293019 38.952283884461...  "
      ]
     },
     "execution_count": 68,
     "metadata": {},
     "output_type": "execute_result"
    }
   ],
   "source": [
    "s2s"
   ]
  }
 ],
 "metadata": {
  "anaconda-cloud": {},
  "kernelspec": {
   "display_name": "Python [default]",
   "language": "python",
   "name": "python2"
  },
  "language_info": {
   "codemirror_mode": {
    "name": "ipython",
    "version": 2
   },
   "file_extension": ".py",
   "mimetype": "text/x-python",
   "name": "python",
   "nbconvert_exporter": "python",
   "pygments_lexer": "ipython2",
   "version": "2.7.13"
  }
 },
 "nbformat": 4,
 "nbformat_minor": 2
}
