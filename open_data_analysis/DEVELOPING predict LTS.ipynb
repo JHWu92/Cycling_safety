{
 "cells": [
  {
   "cell_type": "code",
   "execution_count": 1,
   "metadata": {
    "collapsed": false,
    "deletable": true,
    "editable": true
   },
   "outputs": [],
   "source": [
    "from sklearn import linear_model, svm, tree, ensemble\n",
    "from sklearn.metrics import mean_squared_error, f1_score, accuracy_score, roc_auc_score, classification_report\n",
    "from sklearn.model_selection import GridSearchCV\n",
    "import pandas as pd\n",
    "import numpy as np\n",
    "import geopandas as gp\n",
    "from datetime import datetime"
   ]
  },
  {
   "cell_type": "code",
   "execution_count": 2,
   "metadata": {
    "collapsed": true,
    "deletable": true,
    "editable": true
   },
   "outputs": [],
   "source": [
    "def stats2ftr(stats, how='TOTAL', ftr_name=None):\n",
    "    ftr = stats.drop(['MONTH','YEAR'], axis=1).groupby('index_seg').sum()\n",
    "    if how=='TOTAL':\n",
    "        assert ftr_name is not None, 'please provide the feature name for the aggregated feature'\n",
    "        ftr = ftr.sum(axis=1).to_frame()\n",
    "        ftr.columns = [ftr_name]\n",
    "    ftr = ftr.reset_index()\n",
    "    return ftr"
   ]
  },
  {
   "cell_type": "code",
   "execution_count": 3,
   "metadata": {
    "collapsed": true,
    "deletable": true,
    "editable": true
   },
   "outputs": [],
   "source": [
    "def get_train_test_dummies(train_x, test_x, fillna_dict):\n",
    "    train_fillna_x = train_x.fillna(fillna_mode_or_mean)\n",
    "    test_fillna_x = test_x.fillna(fillna_mode_or_mean)\n",
    "    train_dummies_x = pd.get_dummies(train_fillna_x)\n",
    "    test_dummies_x = pd.get_dummies(test_fillna_x)\n",
    "    for x in list(set(train_dummies_x.columns)-set(test_dummies_x.columns)):\n",
    "        test_dummies_x[x] = 0\n",
    "    test_dummies_x = test_dummies_x[train_dummies_x.columns]\n",
    "    return train_dummies_x, test_dummies_x"
   ]
  },
  {
   "cell_type": "markdown",
   "metadata": {
    "deletable": true,
    "editable": true
   },
   "source": [
    "# parameters for gridsearchCV\n",
    "- linear: tol\n",
    "- ridge: tol, alpha=0.5\n",
    "- lasso: tol, alpha=0.5\n",
    "- DTReg: max_depth=10, max_features=None [float, 'sqrt', 'log2']\n",
    "- DTClsfr: criterion=gini(or entropy), max_features=None [float, 'sqrt', 'log2'], max_depth=None\n",
    "- RFReg: n_estimators=10, max_features=None [float, 'sqrt', 'log2']\n",
    "- BagReg: n_estimators=10, max_features=1.0(float or int), max_samples=1.0(float or int)\n",
    "- AdaReg: n_estimators=50, max_features=None [float, 'sqrt', 'log2'], learning_rate=1.\n",
    "- GraReg: n_estimators=100, max_features=None [float, 'sqrt', 'log2'], learning_rate=.1, max_depth=3\n",
    "- logistics: penalty=l2(or l1), C=1.0(like SVM, smaller->stronger regularization), tol=1e-4\n",
    "- svr: C=1.0, epsilon=0.1, kernal=rbf(linear, poly, sigmoid), degree=3(for poly), epsilon=0.1(C, gamma , epsilon play a very important role in rbf gaussian kernel based SVM ), tol=1e-3"
   ]
  },
  {
   "cell_type": "code",
   "execution_count": 4,
   "metadata": {
    "collapsed": false,
    "deletable": true,
    "editable": true
   },
   "outputs": [],
   "source": [
    "ALPHAs = np.logspace(0,2,10)\n",
    "DEPTHs = [3, 5, 10, 30, 50]\n",
    "N_ESTIMATORs = [10, 30, 50, 100, 256, 500]\n",
    "MAX_FTRs = [0.1, 0.3, 0.5, 1.]\n",
    "LEARN_RATEs = np.logspace(-4, 1, 5)\n",
    "PENALTYs = ['l1', 'l2']\n",
    "TOLs = [1e-2, 1e-3, 1e-4, 1e-5]\n",
    "GAMMAs = [1e-2, 1e-3, 1e-4, 1e-5]\n",
    "Cs = np.logspace(-4, 2, 4)\n",
    "EPs = np.logspace(-4, 2, 4)\n",
    "DEGs = [2, 3, 4, 5, 6]\n",
    "CRITERIONs = ['gini', 'entropy']\n",
    "\n",
    "# lasso and Ridge\n",
    "params_alpha = {'alpha': ALPHAs}\n",
    "params_logis = {'C': Cs, 'penalty':PENALTYs}\n",
    "params_dt_reg = {'max_depth': DEPTHs, 'max_features': MAX_FTRs}\n",
    "params_dt_cla = {'max_depth': DEPTHs, 'max_features': MAX_FTRs, 'criterion': CRITERIONs}\n",
    "params_rf_reg = {'n_estimators': N_ESTIMATORs, 'max_features': MAX_FTRs}\n",
    "params_bag_reg = {'n_estimators': N_ESTIMATORs, 'max_features': MAX_FTRs}\n",
    "params_ada_reg = {'n_estimators': N_ESTIMATORs, 'learning_rate': LEARN_RATEs}\n",
    "\n",
    "# slow models, because of too many combination of parameters\n",
    "params_gra_reg = {'n_estimators': N_ESTIMATORs[:-2], 'max_features': MAX_FTRs, 'learning_rate': LEARN_RATEs, 'max_depth':DEPTHs}\n",
    "\n",
    "params_svm = [\n",
    "    {'kernel':['linear'], 'C': Cs},\n",
    "    {'kernel':['rbf'], 'C': Cs, 'gamma': GAMMAs},\n",
    "    {'kernel':['sigmoid'], 'C': Cs, 'gamma': GAMMAs},\n",
    "    {'kernel':['poly'], 'C': Cs, 'gamma': GAMMAs, 'degree': DEGs},\n",
    "]\n",
    "\n",
    "params_svr = [\n",
    "    {'kernel':['linear'], 'C': Cs},\n",
    "    {'kernel':['rbf'], 'C': Cs, 'gamma': GAMMAs},\n",
    "    {'kernel':['sigmoid'], 'C': Cs, 'gamma': GAMMAs},\n",
    "    {'kernel':['poly'], 'C': Cs, 'gamma': GAMMAs, 'degree': DEGs},\n",
    "]\n"
   ]
  },
  {
   "cell_type": "code",
   "execution_count": 5,
   "metadata": {
    "collapsed": true,
    "deletable": true,
    "editable": true
   },
   "outputs": [],
   "source": [
    "def get_models(slow_model=True):\n",
    "    \"\"\"return: model, tuning_params, name, regresion_or_classification\n",
    "    \"\"\"\n",
    "    is_reg = True\n",
    "    is_cla = False\n",
    "    reg_models = [\n",
    "        [linear_model.LinearRegression(), {}, \"linear\", is_reg],\n",
    "        [linear_model.Ridge(), params_alpha, \"ridge\", is_reg],\n",
    "        [linear_model.Lasso(), params_alpha, \"lasso\", is_reg],\n",
    "        [tree.DecisionTreeRegressor(), params_dt_reg, \"DTReg\", is_reg],\n",
    "        [ensemble.RandomForestRegressor(), params_rf_reg, \"RFReg\", is_reg],\n",
    "        [ensemble.AdaBoostRegressor(), params_ada_reg, \"AdaReg\", is_reg],\n",
    "        [ensemble.BaggingRegressor(), params_bag_reg, \"BagReg\", is_reg],\n",
    "    ]\n",
    "    cls_models = [\n",
    "        [linear_model.LogisticRegression(), params_logis, \"logistics\", is_cla],\n",
    "        [tree.DecisionTreeClassifier(), params_dt_cla, \"DTClsfr\", is_cla],\n",
    "        [ensemble.RandomForestClassifier(), params_rf_reg, \"RFclsfr\", is_cla],\n",
    "        [ensemble.AdaBoostClassifier(), params_ada_reg, \"Adaclsfr\", is_cla],\n",
    "        [ensemble.BaggingClassifier(), params_bag_reg, \"Bagclsfr\", is_cla],\n",
    "    ]\n",
    "    models = cls_models+reg_models\n",
    "    if slow_model:\n",
    "        slow_reg_models = [\n",
    "            [ensemble.GradientBoostingRegressor(), params_gra_reg, \"GraReg\", is_reg],\n",
    "            [svm.SVR(), params_svr, \"SVR\", is_reg]\n",
    "        ]\n",
    "        \n",
    "        slow_cls_models = [\n",
    "            [ensemble.GradientBoostingClassifier(), params_gra_reg, \"Graclsfr\", is_cla],\n",
    "            [svm.SVC(), params_svm, \"SVC\", False],\n",
    "        ]\n",
    "        models += slow_cls_models\n",
    "        models += slow_reg_models\n",
    "        \n",
    "    return models"
   ]
  },
  {
   "cell_type": "code",
   "execution_count": 6,
   "metadata": {
    "collapsed": false,
    "deletable": true,
    "editable": true
   },
   "outputs": [],
   "source": [
    "def CV_models(models, train_x, train_y, n_jobs=4, cv=5):\n",
    "    cv_results = []\n",
    "    whole_start = datetime.now()\n",
    "    for model, tuning_params, name, is_regression in models:\n",
    "        sub_start = datetime.now()\n",
    "        print 'CVing', name, is_regression, sub_start\n",
    "        scoring = 'neg_mean_squared_error' if is_regression else 'f1_weighted'\n",
    "        clf = GridSearchCV(model, tuning_params, n_jobs=n_jobs, cv=cv, scoring=scoring)\n",
    "        clf.fit(train_x, train_y)\n",
    "        \n",
    "        df = pd.DataFrame(clf.cv_results_).sort_values(by = 'mean_test_score', ascending=False)\n",
    "        df.to_csv('cv_%d_model_%s.csv' % (cv, name))\n",
    "        test_score, train_score, fit_time = df[['mean_test_score', 'mean_train_score', 'mean_fit_time']].values[0]\n",
    "        \n",
    "        sub_end = datetime.now()\n",
    "        print 'score: %s, best test = %.3f, train = %.3f, mean_fit_time = %f' %(scoring, test_score, train_score, fit_time)\n",
    "        print 'best params', clf.best_params_\n",
    "        print sub_end, sub_end-sub_start\n",
    "\n",
    "        result = {\n",
    "            'run_time': sub_end-sub_start,\n",
    "            'score': scoring,\n",
    "            'model_name': name,\n",
    "            'is_regression': is_regression,\n",
    "            'mean_test': test_score,\n",
    "            'mean_train': train_score,\n",
    "            'mean_fit_time': fit_time,\n",
    "            'best_params': clf.best_params_,\n",
    "            'best_model': clf.best_estimator_,\n",
    "        }\n",
    "        cv_results.append(result)\n",
    "    whole_end = datetime.now()\n",
    "    print 'finish CV', whole_end, whole_end-whole_start\n",
    "    return cv_results"
   ]
  },
  {
   "cell_type": "code",
   "execution_count": 7,
   "metadata": {
    "collapsed": true,
    "deletable": true,
    "editable": true
   },
   "outputs": [],
   "source": [
    "def fit_pred(model, train_dummies_x, train_y, test_dummies_x, test_y, regression=True):\n",
    "    def round_reg_pred(pred):\n",
    "        pred_round = pred.round()\n",
    "        pred_round[pred_round<1] = 1\n",
    "        pred_round[pred_round>4] = 4\n",
    "        return pred_round\n",
    "    \n",
    "    model.fit(train_dummies_x, train_y)\n",
    "\n",
    "    train_pred = model.predict(train_dummies_x)\n",
    "    test_pred = model.predict(test_dummies_x)\n",
    "    train_pred_round = round_reg_pred(train_pred) if regression else train_pred\n",
    "    test_pred_round = round_reg_pred(test_pred) if regression else test_pred\n",
    "    \n",
    "    if regression:\n",
    "        mse_train = mean_squared_error(train_y, train_pred)\n",
    "        mse_test = mean_squared_error(test_y, test_pred)\n",
    "        var_train = model.score(train_dummies_x, train_y)\n",
    "        var_test = model.score(test_dummies_x, test_y)\n",
    "    \n",
    "    acc_train = accuracy_score(train_y, train_pred_round)\n",
    "    acc_test = accuracy_score(test_y, test_pred_round)\n",
    "    f1_train = f1_score(train_y, train_pred_round,average='weighted')\n",
    "    f1_test = f1_score(test_y, test_pred_round,average='weighted')\n",
    "\n",
    "    result = {\n",
    "        'f1_train': f1_train,\n",
    "        'f1_test': f1_test,\n",
    "        'acc_train': acc_train,\n",
    "        'acc_test': acc_test,\n",
    "    }\n",
    "    if regression:\n",
    "        result.update({\n",
    "            'mse_train': mse_train,\n",
    "            'mse_test': mse_test,\n",
    "            'var_train': var_train,\n",
    "            'var_test': var_test,\n",
    "        })\n",
    "    return result"
   ]
  },
  {
   "cell_type": "code",
   "execution_count": 8,
   "metadata": {
    "collapsed": false,
    "deletable": true,
    "editable": true,
    "scrolled": true
   },
   "outputs": [],
   "source": [
    "def test_evaluation(df_cv, train_dummies_x, train_y, test_dummies_x, test_y):\n",
    "\n",
    "    results = {}\n",
    "    for best_model, model_name, is_regression in df_cv[['best_model', 'model_name', 'is_regression']].values:\n",
    "        print('model = %s' % model_name)\n",
    "        results[model_name] = fit_pred(best_model, train_dummies_x, train_y, test_dummies_x, test_y, regression=is_regression)\n",
    "\n",
    "    df_results = pd.DataFrame(results)\n",
    "    return df_results.T.sort_values(by='f1_test', ascending=False)\n",
    "    "
   ]
  },
  {
   "cell_type": "markdown",
   "metadata": {
    "deletable": true,
    "editable": true
   },
   "source": [
    "# load raw data"
   ]
  },
  {
   "cell_type": "code",
   "execution_count": 9,
   "metadata": {
    "collapsed": false,
    "deletable": true,
    "editable": true
   },
   "outputs": [],
   "source": [
    "from src.constants import fn_segments_dc, fn_feature_bk_facs_dc, fn_feature_poi_dc, fn_feature_seg_as_edge_dc, fn_feature_seg_as_node_dc\n",
    "fn_feature_lts_dc = 'feature_lts_dc.csv'\n",
    "fn_feature_crime_dc = 'feature_crime_incidences_dc.csv'\n",
    "fn_feature_mov_dc = 'feature_mov_violations_dc.csv'\n",
    "fn_feature_parking_dc = 'feature_parking_violations_dc.csv'\n",
    "data_dir = 'data/'"
   ]
  },
  {
   "cell_type": "code",
   "execution_count": 10,
   "metadata": {
    "collapsed": false,
    "deletable": true,
    "editable": true
   },
   "outputs": [],
   "source": [
    "segs = gp.read_file(data_dir+fn_segments_dc)\n",
    "\n",
    "ftr_segs_col = ['DIRECTIONALITY', 'STREETTYPE', 'SHAPE_Length']\n",
    "ftr_segs = segs[ftr_segs_col].reset_index()\n",
    "ftr_segs.columns = ['index_seg']+list(ftr_segs.columns[1:])\n",
    "ftr_segs.DIRECTIONALITY = ftr_segs.DIRECTIONALITY.apply(lambda x: 'Bi-direction' if x==2 else 'one-way')\n"
   ]
  },
  {
   "cell_type": "code",
   "execution_count": 11,
   "metadata": {
    "collapsed": true,
    "deletable": true,
    "editable": true
   },
   "outputs": [],
   "source": [
    "ftr_lts = pd.read_csv(data_dir+fn_feature_lts_dc)\n",
    "ftr_bk = pd.read_csv(data_dir+fn_feature_bk_facs_dc, index_col=0)\n",
    "ftr_poi = pd.read_csv(data_dir+fn_feature_poi_dc, index_col=0)\n",
    "ftr_edge = pd.read_csv(data_dir+fn_feature_seg_as_edge_dc)\n",
    "ftr_node = pd.read_csv(data_dir+fn_feature_seg_as_node_dc)"
   ]
  },
  {
   "cell_type": "code",
   "execution_count": 12,
   "metadata": {
    "collapsed": false,
    "deletable": true,
    "editable": true
   },
   "outputs": [],
   "source": [
    "crime_stats = pd.read_csv(data_dir+fn_feature_crime_dc)\n",
    "mov_stats = pd.read_csv(data_dir+fn_feature_mov_dc)\n",
    "parking_stats = pd.read_csv(data_dir+fn_feature_parking_dc)\n",
    "\n",
    "ftr_mov = stats2ftr(mov_stats, how='NOT_TOTAL')\n",
    "ftr_crime = stats2ftr(crime_stats, how='NOT_TOTAL')\n",
    "ftr_parking = stats2ftr(parking_stats, how='NOT_TOTAL')\n",
    "\n",
    "ftr_mov_total = stats2ftr(mov_stats, ftr_name='moving_violations_cnt')\n",
    "ftr_crime_total = stats2ftr(crime_stats, ftr_name='crime_incidents_cnt')\n",
    "ftr_parking_total = stats2ftr(parking_stats, ftr_name='parking_violations_cnt')"
   ]
  },
  {
   "cell_type": "code",
   "execution_count": 13,
   "metadata": {
    "collapsed": false,
    "deletable": true,
    "editable": true
   },
   "outputs": [
    {
     "data": {
      "text/plain": [
       "(13293, 184)"
      ]
     },
     "execution_count": 13,
     "metadata": {},
     "output_type": "execute_result"
    }
   ],
   "source": [
    "cut_off = 100\n",
    "dfs = [ftr_lts, ftr_segs, ftr_bk, ftr_poi, ftr_edge, ftr_node, ftr_mov, ftr_crime, ftr_parking]\n",
    "df = reduce(lambda left,right: pd.merge(left,right, how='left'), dfs)\n",
    "df = df[~df.LTS.isnull()&(df.LTS!=10)]\n",
    "df.drop('index_seg', axis=1, inplace=True)\n",
    "non_na_count = df.count()\n",
    "keep_col = non_na_count[non_na_count>cut_off].index\n",
    "df = df[keep_col]\n",
    "df.shape"
   ]
  },
  {
   "cell_type": "markdown",
   "metadata": {
    "deletable": true,
    "editable": true
   },
   "source": [
    "# get train and test"
   ]
  },
  {
   "cell_type": "code",
   "execution_count": 14,
   "metadata": {
    "collapsed": false,
    "deletable": true,
    "editable": true
   },
   "outputs": [
    {
     "data": {
      "text/plain": [
       "((10634, 184), (2659, 184))"
      ]
     },
     "execution_count": 14,
     "metadata": {},
     "output_type": "execute_result"
    }
   ],
   "source": [
    "train = df.sample(frac=0.8, random_state=1)\n",
    "test = df[~df.index.isin(train.index)]\n",
    "train.shape, test.shape"
   ]
  },
  {
   "cell_type": "code",
   "execution_count": 15,
   "metadata": {
    "collapsed": true,
    "deletable": true,
    "editable": true
   },
   "outputs": [],
   "source": [
    "train_y = train.LTS.values\n",
    "train_x = train.drop('LTS', axis=1)\n",
    "test_y = test.LTS.values\n",
    "test_x = test.drop('LTS', axis=1)"
   ]
  },
  {
   "cell_type": "code",
   "execution_count": 16,
   "metadata": {
    "collapsed": false,
    "deletable": true,
    "editable": true
   },
   "outputs": [
    {
     "data": {
      "text/plain": [
       "((10634, 183), (2659, 183))"
      ]
     },
     "execution_count": 16,
     "metadata": {},
     "output_type": "execute_result"
    }
   ],
   "source": [
    "train_x.shape, test_x.shape"
   ]
  },
  {
   "cell_type": "markdown",
   "metadata": {
    "deletable": true,
    "editable": true
   },
   "source": [
    "# Fillna with mean or mode"
   ]
  },
  {
   "cell_type": "code",
   "execution_count": 17,
   "metadata": {
    "collapsed": false,
    "deletable": true,
    "editable": true
   },
   "outputs": [],
   "source": [
    "# fillna_mode_or_mean = train_x[['cycle_lane', 'cycle_way', 'side_walk', 'bikable']].mode().T.to_dict()[0]\n",
    "fillna_mode_or_mean = train_x[['cycle_lane', 'side_walk', 'bikable', 'DIRECTIONALITY', 'STREETTYPE']].mode().T.to_dict()[0]\n",
    "fillna_mode_or_mean.update(train_x.mean().to_dict())"
   ]
  },
  {
   "cell_type": "code",
   "execution_count": 18,
   "metadata": {
    "collapsed": false,
    "deletable": true,
    "editable": true
   },
   "outputs": [
    {
     "name": "stdout",
     "output_type": "stream",
     "text": [
      "dummies features = (10634, 210)\n"
     ]
    }
   ],
   "source": [
    "train_dummies_x, test_dummies_x = get_train_test_dummies(train_x, test_x, fillna_mode_or_mean)\n",
    "print 'dummies features =', train_dummies_x.shape"
   ]
  },
  {
   "cell_type": "code",
   "execution_count": null,
   "metadata": {
    "collapsed": false,
    "deletable": true,
    "editable": true,
    "scrolled": false
   },
   "outputs": [
    {
     "name": "stdout",
     "output_type": "stream",
     "text": [
      "CVing logistics False 2017-04-13 10:16:42.354244\n"
     ]
    },
    {
     "name": "stderr",
     "output_type": "stream",
     "text": [
      "/usr/local/lib/python2.7/dist-packages/sklearn/metrics/classification.py:1113: UndefinedMetricWarning: F-score is ill-defined and being set to 0.0 in labels with no predicted samples.\n",
      "  'precision', 'predicted', average, warn_for)\n"
     ]
    }
   ],
   "source": [
    "cv=5\n",
    "models = get_models(slow_model=False)\n",
    "cv_results = CV_models(models, train_dummies_x, train_y, n_jobs=5, cv=cv)\n",
    "df_cv = pd.DataFrame(cv_results)\n",
    "df_cv.to_csv('cv_%d_best_models.csv' % cv)"
   ]
  },
  {
   "cell_type": "code",
   "execution_count": null,
   "metadata": {
    "collapsed": false,
    "deletable": true,
    "editable": true
   },
   "outputs": [],
   "source": [
    "df_test_result = test_evaluation(df_cv, train_dummies_x[:8000], train_y[:8000], train_dummies_x[8000:], train_y[8000:])\n",
    "df_test_result.to_csv('test evaluation result.csv')"
   ]
  },
  {
   "cell_type": "markdown",
   "metadata": {
    "deletable": true,
    "editable": true
   },
   "source": [
    "# Fillna with unknown or zero"
   ]
  },
  {
   "cell_type": "code",
   "execution_count": 141,
   "metadata": {
    "collapsed": false,
    "deletable": true,
    "editable": true
   },
   "outputs": [],
   "source": [
    "fillna_unknown_or_zero = train_x.dtypes.apply(lambda x: 'unknown' if x.name=='object' else 0.0).to_dict()"
   ]
  },
  {
   "cell_type": "code",
   "execution_count": null,
   "metadata": {
    "collapsed": true,
    "deletable": true,
    "editable": true
   },
   "outputs": [],
   "source": [
    "train_dummies_x, test_dummies_x = get_train_test_dummies(train_x, test_x, fillna_unknown_or_zero)\n",
    "print 'dummies features =', train_dummies_x.shape"
   ]
  },
  {
   "cell_type": "code",
   "execution_count": 21,
   "metadata": {
    "collapsed": true,
    "deletable": true,
    "editable": true
   },
   "outputs": [
    {
     "name": "stdout",
     "output_type": "stream",
     "text": [
      "CVing linear True\n",
      "best test mse = 0.069, train mse = 0.044, mean_fit_time = 0.039400\n",
      "best params {}\n",
      "\n",
      "CVing ridge True\n",
      "best test mse = 0.071, train mse = 0.044, mean_fit_time = 0.075200\n",
      "best params {'alpha': 1.0}\n",
      "\n",
      "CVing lasso True\n",
      "best test mse = 0.802, train mse = 0.411, mean_fit_time = 0.000000\n",
      "best params {'alpha': 1.0}\n",
      "\n",
      "CVing DTReg True\n",
      "best test mse = 0.046, train mse = 0.034, mean_fit_time = 0.003200\n",
      "best params {'max_features': 0.5, 'max_depth': 3}\n",
      "\n",
      "CVing RFReg True\n",
      "best test mse = 0.051, train mse = 0.005, mean_fit_time = 0.119800\n",
      "best params {'max_features': 0.5, 'n_estimators': 30}\n",
      "\n",
      "CVing AdaReg True\n",
      "best test mse = 0.054, train mse = 0.008, mean_fit_time = 1.259600\n",
      "best params {'n_estimators': 500, 'learning_rate': 0.001}\n",
      "\n",
      "CVing BagReg True\n",
      "best test mse = 0.065, train mse = 0.008, mean_fit_time = 0.768400\n",
      "best params {'max_features': 0.5, 'n_estimators': 256}\n",
      "\n",
      "CVing GraReg True\n",
      "best test mse = 0.057, train mse = 0.000, mean_fit_time = 0.009800\n",
      "best params {'max_features': 'log2', 'n_estimators': 50, 'learning_rate': 0.25118864315095824, 'max_depth': 3}\n",
      "\n",
      "CVing logistics False\n",
      "best test mse = -0.980, train mse = -0.973, mean_fit_time = 0.012400\n",
      "best params {'penalty': 'l1', 'C': 6.3095734448019298}\n",
      "\n",
      "CVing DTClsfr False\n",
      "best test mse = -0.973, train mse = -0.987, mean_fit_time = 0.003000\n",
      "best params {'max_features': 'log2', 'criterion': 'gini', 'max_depth': 5}\n",
      "\n",
      "CVing RFclsfr False\n",
      "best test mse = -0.966, train mse = -0.992, mean_fit_time = 0.037800\n",
      "best params {'max_features': 'sqrt', 'n_estimators': 10}\n",
      "\n",
      "CVing Adaclsfr False\n",
      "best test mse = -0.953, train mse = -0.958, mean_fit_time = 0.032800\n",
      "best params {'n_estimators': 10, 'learning_rate': 1.584893192461114}\n",
      "\n",
      "CVing Bagclsfr False\n",
      "best test mse = -0.953, train mse = -1.000, mean_fit_time = 0.326800\n",
      "best params {'max_features': 0.5, 'n_estimators': 100}\n",
      "\n",
      "CVing Graclsfr False\n",
      "best test mse = -0.980, train mse = -1.000, mean_fit_time = 0.085600\n",
      "best params {'max_features': 0.3, 'n_estimators': 50, 'learning_rate': 1.584893192461114, 'max_depth': 5}\n",
      "\n",
      "CVing SVR True\n",
      "best test mse = 0.057, train mse = 0.033, mean_fit_time = 0.000000\n",
      "best params {'kernel': 'rbf', 'C': 100.0, 'gamma': 0.01}\n",
      "\n",
      "CVing SVM False\n",
      "best test mse = -0.980, train mse = -0.977, mean_fit_time = 0.000400\n",
      "best params {'kernel': 'linear', 'C': 0.39810717055349693}\n",
      "\n"
     ]
    },
    {
     "data": {
      "text/html": [
       "<div>\n",
       "<table border=\"1\" class=\"dataframe\">\n",
       "  <thead>\n",
       "    <tr style=\"text-align: right;\">\n",
       "      <th></th>\n",
       "      <th>best_model</th>\n",
       "      <th>best_params</th>\n",
       "      <th>is_regression</th>\n",
       "      <th>mean_fit_time</th>\n",
       "      <th>mean_test_mse</th>\n",
       "      <th>mean_train_mse</th>\n",
       "      <th>model_name</th>\n",
       "    </tr>\n",
       "  </thead>\n",
       "  <tbody>\n",
       "    <tr>\n",
       "      <th>0</th>\n",
       "      <td>LinearRegression(copy_X=True, fit_intercept=Tr...</td>\n",
       "      <td>{}</td>\n",
       "      <td>True</td>\n",
       "      <td>0.0394</td>\n",
       "      <td>0.069046</td>\n",
       "      <td>0.044180</td>\n",
       "      <td>linear</td>\n",
       "    </tr>\n",
       "    <tr>\n",
       "      <th>1</th>\n",
       "      <td>Ridge(alpha=1.0, copy_X=True, fit_intercept=Tr...</td>\n",
       "      <td>{u'alpha': 1.0}</td>\n",
       "      <td>True</td>\n",
       "      <td>0.0752</td>\n",
       "      <td>0.070631</td>\n",
       "      <td>0.044479</td>\n",
       "      <td>ridge</td>\n",
       "    </tr>\n",
       "    <tr>\n",
       "      <th>2</th>\n",
       "      <td>Lasso(alpha=1.0, copy_X=True, fit_intercept=Tr...</td>\n",
       "      <td>{u'alpha': 1.0}</td>\n",
       "      <td>True</td>\n",
       "      <td>0.0000</td>\n",
       "      <td>0.802258</td>\n",
       "      <td>0.411115</td>\n",
       "      <td>lasso</td>\n",
       "    </tr>\n",
       "    <tr>\n",
       "      <th>3</th>\n",
       "      <td>DecisionTreeRegressor(criterion='mse', max_dep...</td>\n",
       "      <td>{u'max_features': 0.5, u'max_depth': 3}</td>\n",
       "      <td>True</td>\n",
       "      <td>0.0032</td>\n",
       "      <td>0.045794</td>\n",
       "      <td>0.033528</td>\n",
       "      <td>DTReg</td>\n",
       "    </tr>\n",
       "    <tr>\n",
       "      <th>4</th>\n",
       "      <td>(DecisionTreeRegressor(criterion='mse', max_de...</td>\n",
       "      <td>{u'max_features': 0.5, u'n_estimators': 30}</td>\n",
       "      <td>True</td>\n",
       "      <td>0.1198</td>\n",
       "      <td>0.050667</td>\n",
       "      <td>0.005298</td>\n",
       "      <td>RFReg</td>\n",
       "    </tr>\n",
       "    <tr>\n",
       "      <th>5</th>\n",
       "      <td>(DecisionTreeRegressor(criterion='mse', max_de...</td>\n",
       "      <td>{u'n_estimators': 500, u'learning_rate': 0.001}</td>\n",
       "      <td>True</td>\n",
       "      <td>1.2596</td>\n",
       "      <td>0.054454</td>\n",
       "      <td>0.008230</td>\n",
       "      <td>AdaReg</td>\n",
       "    </tr>\n",
       "    <tr>\n",
       "      <th>6</th>\n",
       "      <td>(DecisionTreeRegressor(criterion='mse', max_de...</td>\n",
       "      <td>{u'max_features': 0.5, u'n_estimators': 256}</td>\n",
       "      <td>True</td>\n",
       "      <td>0.7684</td>\n",
       "      <td>0.064779</td>\n",
       "      <td>0.008056</td>\n",
       "      <td>BagReg</td>\n",
       "    </tr>\n",
       "    <tr>\n",
       "      <th>7</th>\n",
       "      <td>([DecisionTreeRegressor(criterion='friedman_ms...</td>\n",
       "      <td>{u'max_features': u'log2', u'n_estimators': 50...</td>\n",
       "      <td>True</td>\n",
       "      <td>0.0098</td>\n",
       "      <td>0.057343</td>\n",
       "      <td>0.000290</td>\n",
       "      <td>GraReg</td>\n",
       "    </tr>\n",
       "    <tr>\n",
       "      <th>8</th>\n",
       "      <td>LogisticRegression(C=6.3095734448019298, class...</td>\n",
       "      <td>{u'penalty': u'l1', u'C': 6.3095734448}</td>\n",
       "      <td>False</td>\n",
       "      <td>0.0124</td>\n",
       "      <td>-0.979983</td>\n",
       "      <td>-0.973330</td>\n",
       "      <td>logistics</td>\n",
       "    </tr>\n",
       "    <tr>\n",
       "      <th>9</th>\n",
       "      <td>DecisionTreeClassifier(class_weight=None, crit...</td>\n",
       "      <td>{u'max_features': u'log2', u'criterion': u'gin...</td>\n",
       "      <td>False</td>\n",
       "      <td>0.0030</td>\n",
       "      <td>-0.973300</td>\n",
       "      <td>-0.986643</td>\n",
       "      <td>DTClsfr</td>\n",
       "    </tr>\n",
       "    <tr>\n",
       "      <th>10</th>\n",
       "      <td>(DecisionTreeClassifier(class_weight=None, cri...</td>\n",
       "      <td>{u'max_features': u'sqrt', u'n_estimators': 10}</td>\n",
       "      <td>False</td>\n",
       "      <td>0.0378</td>\n",
       "      <td>-0.966482</td>\n",
       "      <td>-0.991666</td>\n",
       "      <td>RFclsfr</td>\n",
       "    </tr>\n",
       "    <tr>\n",
       "      <th>11</th>\n",
       "      <td>(DecisionTreeClassifier(class_weight=None, cri...</td>\n",
       "      <td>{u'n_estimators': 10, u'learning_rate': 1.5848...</td>\n",
       "      <td>False</td>\n",
       "      <td>0.0328</td>\n",
       "      <td>-0.953250</td>\n",
       "      <td>-0.958085</td>\n",
       "      <td>Adaclsfr</td>\n",
       "    </tr>\n",
       "    <tr>\n",
       "      <th>12</th>\n",
       "      <td>(DecisionTreeClassifier(class_weight=None, cri...</td>\n",
       "      <td>{u'max_features': 0.5, u'n_estimators': 100}</td>\n",
       "      <td>False</td>\n",
       "      <td>0.3268</td>\n",
       "      <td>-0.952840</td>\n",
       "      <td>-1.000000</td>\n",
       "      <td>Bagclsfr</td>\n",
       "    </tr>\n",
       "    <tr>\n",
       "      <th>13</th>\n",
       "      <td>([DecisionTreeRegressor(criterion='friedman_ms...</td>\n",
       "      <td>{u'max_features': 0.3, u'n_estimators': 50, u'...</td>\n",
       "      <td>False</td>\n",
       "      <td>0.0856</td>\n",
       "      <td>-0.979849</td>\n",
       "      <td>-1.000000</td>\n",
       "      <td>Graclsfr</td>\n",
       "    </tr>\n",
       "    <tr>\n",
       "      <th>14</th>\n",
       "      <td>SVR(C=100.0, cache_size=200, coef0=0.0, degree...</td>\n",
       "      <td>{u'kernel': u'rbf', u'C': 100.0, u'gamma': 0.01}</td>\n",
       "      <td>True</td>\n",
       "      <td>0.0000</td>\n",
       "      <td>0.057004</td>\n",
       "      <td>0.033329</td>\n",
       "      <td>SVR</td>\n",
       "    </tr>\n",
       "    <tr>\n",
       "      <th>15</th>\n",
       "      <td>SVC(C=0.39810717055349693, cache_size=200, cla...</td>\n",
       "      <td>{u'kernel': u'linear', u'C': 0.398107170553}</td>\n",
       "      <td>False</td>\n",
       "      <td>0.0004</td>\n",
       "      <td>-0.979950</td>\n",
       "      <td>-0.976659</td>\n",
       "      <td>SVM</td>\n",
       "    </tr>\n",
       "  </tbody>\n",
       "</table>\n",
       "</div>"
      ],
      "text/plain": [
       "                                           best_model  \\\n",
       "0   LinearRegression(copy_X=True, fit_intercept=Tr...   \n",
       "1   Ridge(alpha=1.0, copy_X=True, fit_intercept=Tr...   \n",
       "2   Lasso(alpha=1.0, copy_X=True, fit_intercept=Tr...   \n",
       "3   DecisionTreeRegressor(criterion='mse', max_dep...   \n",
       "4   (DecisionTreeRegressor(criterion='mse', max_de...   \n",
       "5   (DecisionTreeRegressor(criterion='mse', max_de...   \n",
       "6   (DecisionTreeRegressor(criterion='mse', max_de...   \n",
       "7   ([DecisionTreeRegressor(criterion='friedman_ms...   \n",
       "8   LogisticRegression(C=6.3095734448019298, class...   \n",
       "9   DecisionTreeClassifier(class_weight=None, crit...   \n",
       "10  (DecisionTreeClassifier(class_weight=None, cri...   \n",
       "11  (DecisionTreeClassifier(class_weight=None, cri...   \n",
       "12  (DecisionTreeClassifier(class_weight=None, cri...   \n",
       "13  ([DecisionTreeRegressor(criterion='friedman_ms...   \n",
       "14  SVR(C=100.0, cache_size=200, coef0=0.0, degree...   \n",
       "15  SVC(C=0.39810717055349693, cache_size=200, cla...   \n",
       "\n",
       "                                          best_params is_regression  \\\n",
       "0                                                  {}          True   \n",
       "1                                     {u'alpha': 1.0}          True   \n",
       "2                                     {u'alpha': 1.0}          True   \n",
       "3             {u'max_features': 0.5, u'max_depth': 3}          True   \n",
       "4         {u'max_features': 0.5, u'n_estimators': 30}          True   \n",
       "5     {u'n_estimators': 500, u'learning_rate': 0.001}          True   \n",
       "6        {u'max_features': 0.5, u'n_estimators': 256}          True   \n",
       "7   {u'max_features': u'log2', u'n_estimators': 50...          True   \n",
       "8             {u'penalty': u'l1', u'C': 6.3095734448}         False   \n",
       "9   {u'max_features': u'log2', u'criterion': u'gin...         False   \n",
       "10    {u'max_features': u'sqrt', u'n_estimators': 10}         False   \n",
       "11  {u'n_estimators': 10, u'learning_rate': 1.5848...         False   \n",
       "12       {u'max_features': 0.5, u'n_estimators': 100}         False   \n",
       "13  {u'max_features': 0.3, u'n_estimators': 50, u'...         False   \n",
       "14   {u'kernel': u'rbf', u'C': 100.0, u'gamma': 0.01}          True   \n",
       "15       {u'kernel': u'linear', u'C': 0.398107170553}         False   \n",
       "\n",
       "    mean_fit_time  mean_test_mse  mean_train_mse model_name  \n",
       "0          0.0394       0.069046        0.044180     linear  \n",
       "1          0.0752       0.070631        0.044479      ridge  \n",
       "2          0.0000       0.802258        0.411115      lasso  \n",
       "3          0.0032       0.045794        0.033528      DTReg  \n",
       "4          0.1198       0.050667        0.005298      RFReg  \n",
       "5          1.2596       0.054454        0.008230     AdaReg  \n",
       "6          0.7684       0.064779        0.008056     BagReg  \n",
       "7          0.0098       0.057343        0.000290     GraReg  \n",
       "8          0.0124      -0.979983       -0.973330  logistics  \n",
       "9          0.0030      -0.973300       -0.986643    DTClsfr  \n",
       "10         0.0378      -0.966482       -0.991666    RFclsfr  \n",
       "11         0.0328      -0.953250       -0.958085   Adaclsfr  \n",
       "12         0.3268      -0.952840       -1.000000   Bagclsfr  \n",
       "13         0.0856      -0.979849       -1.000000   Graclsfr  \n",
       "14         0.0000       0.057004        0.033329        SVR  \n",
       "15         0.0004      -0.979950       -0.976659        SVM  "
      ]
     },
     "execution_count": 21,
     "metadata": {},
     "output_type": "execute_result"
    }
   ],
   "source": [
    "models = get_models()\n",
    "cv_results = CV_models(models)\n",
    "df_cv = pd.DataFrame(cv_results)"
   ]
  }
 ],
 "metadata": {
  "anaconda-cloud": {},
  "kernelspec": {
   "display_name": "Python 2",
   "language": "python",
   "name": "python2"
  },
  "language_info": {
   "codemirror_mode": {
    "name": "ipython",
    "version": 2
   },
   "file_extension": ".py",
   "mimetype": "text/x-python",
   "name": "python",
   "nbconvert_exporter": "python",
   "pygments_lexer": "ipython2",
   "version": "2.7.12"
  }
 },
 "nbformat": 4,
 "nbformat_minor": 2
}
