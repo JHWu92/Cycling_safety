{
 "cells": [
  {
   "cell_type": "code",
   "execution_count": 40,
   "metadata": {
    "collapsed": true
   },
   "outputs": [],
   "source": [
    "from sklearn import linear_model, svm, tree, ensemble\n",
    "from sklearn.metrics import mean_squared_error, f1_score, accuracy_score\n",
    "import pandas as pd\n",
    "import geopandas as gp"
   ]
  },
  {
   "cell_type": "code",
   "execution_count": 2,
   "metadata": {
    "collapsed": true
   },
   "outputs": [],
   "source": [
    "def fit_pred(model, train_dummies_x, train_y, test_dummies_x, test_y, regression=True):\n",
    "    def round_reg_pred(pred):\n",
    "        pred_round = pred.round()\n",
    "        pred_round[pred_round<1] = 1\n",
    "        pred_round[pred_round>4] = 4\n",
    "        return pred_round\n",
    "    \n",
    "    model.fit(train_dummies_x, train_y)\n",
    "\n",
    "    train_pred = model.predict(train_dummies_x)\n",
    "    test_pred = model.predict(test_dummies_x)\n",
    "    train_pred_round = round_reg_pred(train_pred) if regression else train_pred\n",
    "    test_pred_round = round_reg_pred(test_pred) if regression else test_pred\n",
    "    \n",
    "    if regression:\n",
    "        mse_train = mean_squared_error(train_y, train_pred)\n",
    "        mse_test = mean_squared_error(test_y, test_pred)\n",
    "        var_train = model.score(train_dummies_x, train_y)\n",
    "        var_test = model.score(test_dummies_x, test_y)\n",
    "    \n",
    "    acc_train = accuracy_score(train_y, train_pred_round)\n",
    "    acc_test = accuracy_score(test_y, test_pred_round)\n",
    "    f1_train = f1_score(train_y, train_pred_round,average='weighted')\n",
    "    f1_test = f1_score(test_y, test_pred_round,average='weighted')\n",
    "\n",
    "    result = {\n",
    "        'f1_train': f1_train,\n",
    "        'f1_test': f1_test,\n",
    "        'acc_train': acc_train,\n",
    "        'acc_test': acc_test,\n",
    "    }\n",
    "    if regression:\n",
    "        result.update({\n",
    "            'mse_train': mse_train,\n",
    "            'mse_test': mse_test,\n",
    "            'var_train': var_train,\n",
    "            'var_test': var_test,\n",
    "        })\n",
    "    return result"
   ]
  },
  {
   "cell_type": "code",
   "execution_count": 79,
   "metadata": {
    "collapsed": true
   },
   "outputs": [],
   "source": [
    "def get_models(no_svm=False):\n",
    "    models = [\n",
    "        [\"linear\", linear_model.LinearRegression(), True],\n",
    "        [\"ridge\", linear_model.Ridge (alpha = .5), True],\n",
    "        [\"lasso\", linear_model.Lasso(alpha=.5), True],\n",
    "        [\"DTReg\", tree.DecisionTreeRegressor(max_depth=10), True],\n",
    "        [\"RFReg\", ensemble.RandomForestRegressor(), True],\n",
    "        [\"AdaReg\", ensemble.AdaBoostRegressor(), True],\n",
    "        [\"BagReg\", ensemble.BaggingRegressor(), True],\n",
    "        [\"GraReg\", ensemble.GradientBoostingRegressor(), True],\n",
    "        [\"logistics\", linear_model.LogisticRegression(), False],\n",
    "        [\"DTClsfr\", tree.DecisionTreeClassifier(), False],\n",
    "    ]\n",
    "    if not no_svm:\n",
    "        models+=[[\"SVR\", svm.SVR(), True],\n",
    "                 [\"SVM\", svm.SVC(), False]]\n",
    "    return models"
   ]
  },
  {
   "cell_type": "code",
   "execution_count": 4,
   "metadata": {
    "collapsed": true
   },
   "outputs": [],
   "source": [
    "def stats2ftr(stats, how='TOTAL', ftr_name=None):\n",
    "    ftr = stats.drop(['MONTH','YEAR'], axis=1).groupby('index_seg').sum()\n",
    "    if how=='TOTAL':\n",
    "        assert ftr_name is not None, 'please provide the feature name for the aggregated feature'\n",
    "        ftr = ftr.sum(axis=1).to_frame()\n",
    "        ftr.columns = [ftr_name]\n",
    "    ftr = ftr.reset_index()\n",
    "    return ftr"
   ]
  },
  {
   "cell_type": "code",
   "execution_count": 132,
   "metadata": {
    "collapsed": true
   },
   "outputs": [],
   "source": [
    "def get_train_test_dummies(train_x, test_x, fillna_dict):\n",
    "    train_fillna_x = train_x.fillna(fillna_mode_or_mean)\n",
    "    test_fillna_x = test_x.fillna(fillna_mode_or_mean)\n",
    "    train_dummies_x = pd.get_dummies(train_fillna_x)\n",
    "    test_dummies_x = pd.get_dummies(test_fillna_x)\n",
    "    for x in list(set(train_dummies_x.columns)-set(test_dummies_x.columns)):\n",
    "        test_dummies_x[x] = 0\n",
    "    test_dummies_x = test_dummies_x[train_dummies_x.columns]\n",
    "    return train_dummies_x, test_dummies_x"
   ]
  },
  {
   "cell_type": "markdown",
   "metadata": {},
   "source": [
    "# load raw data"
   ]
  },
  {
   "cell_type": "code",
   "execution_count": 81,
   "metadata": {
    "collapsed": false
   },
   "outputs": [],
   "source": [
    "from src.constants import fn_segments_dc, fn_feature_bk_facs_dc, fn_feature_poi_dc, fn_feature_seg_as_edge_dc, fn_feature_seg_as_node_dc\n",
    "fn_feature_lts_dc = 'feature_lts_dc.csv'\n",
    "fn_feature_crime_dc = 'feature_crime_incidences_dc.csv'\n",
    "fn_feature_mov_dc = 'feature_mov_violations_dc.csv'\n",
    "fn_feature_parking_dc = 'feature_parking_violations_dc.csv'\n",
    "data_dir = 'data/'"
   ]
  },
  {
   "cell_type": "code",
   "execution_count": 41,
   "metadata": {
    "collapsed": true
   },
   "outputs": [],
   "source": [
    "segs = gp.read_file(data_dir+fn_segments_dc)\n",
    "\n",
    "ftr_segs_col = ['DIRECTIONALITY', 'STREETTYPE', 'SHAPE_Length']\n",
    "ftr_segs = segs[ftr_segs_col].reset_index()\n",
    "ftr_segs.columns = ['index_seg']+list(ftr_segs.columns[1:])\n",
    "ftr_segs.DIRECTIONALITY = ftr_segs.DIRECTIONALITY.apply(lambda x: 'Bi-direction' if x==2 else 'one-way')\n"
   ]
  },
  {
   "cell_type": "code",
   "execution_count": 6,
   "metadata": {
    "collapsed": true
   },
   "outputs": [],
   "source": [
    "ftr_lts = pd.read_csv(data_dir+fn_feature_lts_dc)\n",
    "ftr_bk = pd.read_csv(data_dir+fn_feature_bk_facs_dc, index_col=0)\n",
    "ftr_poi = pd.read_csv(data_dir+fn_feature_poi_dc, index_col=0)\n",
    "ftr_edge = pd.read_csv(data_dir+fn_feature_seg_as_edge_dc)\n",
    "ftr_node = pd.read_csv(data_dir+fn_feature_seg_as_node_dc)"
   ]
  },
  {
   "cell_type": "code",
   "execution_count": 7,
   "metadata": {
    "collapsed": false
   },
   "outputs": [],
   "source": [
    "crime_stats = pd.read_csv(data_dir+fn_feature_crime_dc)\n",
    "mov_stats = pd.read_csv(data_dir+fn_feature_mov_dc)\n",
    "parking_stats = pd.read_csv(data_dir+fn_feature_parking_dc)\n",
    "\n",
    "ftr_mov = stats2ftr(mov_stats, how='NOT_TOTAL')\n",
    "ftr_crime = stats2ftr(crime_stats, how='NOT_TOTAL')\n",
    "ftr_parking = stats2ftr(parking_stats, how='NOT_TOTAL')\n",
    "\n",
    "ftr_mov_total = stats2ftr(mov_stats, ftr_name='moving_violations_cnt')\n",
    "ftr_crime_total = stats2ftr(crime_stats, ftr_name='crime_incidents_cnt')\n",
    "ftr_parking_total = stats2ftr(parking_stats, ftr_name='parking_violations_cnt')"
   ]
  },
  {
   "cell_type": "code",
   "execution_count": 133,
   "metadata": {
    "collapsed": false
   },
   "outputs": [
    {
     "data": {
      "text/plain": [
       "(13293, 184)"
      ]
     },
     "execution_count": 133,
     "metadata": {},
     "output_type": "execute_result"
    }
   ],
   "source": [
    "cut_off = 100\n",
    "dfs = [ftr_lts, ftr_segs, ftr_bk, ftr_poi, ftr_edge, ftr_node, ftr_mov, ftr_crime, ftr_parking]\n",
    "df = reduce(lambda left,right: pd.merge(left,right, how='left'), dfs)\n",
    "df = df[~df.LTS.isnull()&(df.LTS!=10)]\n",
    "df.drop('index_seg', axis=1, inplace=True)\n",
    "non_na_count = df.count()\n",
    "keep_col = non_na_count[non_na_count>cut_off].index\n",
    "df = df[keep_col]\n",
    "df.shape"
   ]
  },
  {
   "cell_type": "markdown",
   "metadata": {},
   "source": [
    "# get train and test"
   ]
  },
  {
   "cell_type": "code",
   "execution_count": 134,
   "metadata": {
    "collapsed": false
   },
   "outputs": [
    {
     "data": {
      "text/plain": [
       "((10634, 184), (2659, 184))"
      ]
     },
     "execution_count": 134,
     "metadata": {},
     "output_type": "execute_result"
    }
   ],
   "source": [
    "train = df.sample(frac=0.8, random_state=1)\n",
    "test = df[~df.index.isin(train.index)]\n",
    "train.shape, test.shape"
   ]
  },
  {
   "cell_type": "code",
   "execution_count": 135,
   "metadata": {
    "collapsed": true
   },
   "outputs": [],
   "source": [
    "train_y = train.LTS.values\n",
    "train_x = train.drop('LTS', axis=1)\n",
    "test_y = test.LTS.values\n",
    "test_x = test.drop('LTS', axis=1)"
   ]
  },
  {
   "cell_type": "code",
   "execution_count": 136,
   "metadata": {
    "collapsed": false
   },
   "outputs": [
    {
     "data": {
      "text/plain": [
       "((10634, 183), (2659, 183))"
      ]
     },
     "execution_count": 136,
     "metadata": {},
     "output_type": "execute_result"
    }
   ],
   "source": [
    "train_x.shape, test_x.shape"
   ]
  },
  {
   "cell_type": "code",
   "execution_count": 137,
   "metadata": {
    "collapsed": false
   },
   "outputs": [],
   "source": [
    "# fillna_mode_or_mean = train_x[['cycle_lane', 'cycle_way', 'side_walk', 'bikable']].mode().T.to_dict()[0]\n",
    "fillna_mode_or_mean = train_x[['cycle_lane', 'side_walk', 'bikable', 'DIRECTIONALITY', 'STREETTYPE']].mode().T.to_dict()[0]\n",
    "fillna_mode_or_mean.update(train_x.mean().to_dict())"
   ]
  },
  {
   "cell_type": "markdown",
   "metadata": {},
   "source": [
    "best with f1 test\n",
    "- ftr_bk, ftr_poi, ftr_edge, ftr_node:   DTClsfr->0.486618\n",
    "- ftr_bk, ftr_poi, ftr_edge, ftr_node, ftr_mov_total, ftr_crime_total(one aggregate column): DTClsfr->0.479885\n",
    "- ftr_bk, ftr_poi, ftr_edge, ftr_node, ftr_mov, ftr_crime, cut_off = 100: DTClsfr->0.495041\n",
    "- ftr_segs, ftr_bk, ftr_poi, ftr_edge, ftr_node, ftr_mov, ftr_crime, cut_off=100: RFReg->0.569317\n",
    "- ftr_segs, ftr_bk, ftr_poi, ftr_edge, ftr_node, ftr_mov, ftr_crime, ftr_parking, cut_off=100: BagReg->0.571100 or sometimes RFREG->0.569\n"
   ]
  },
  {
   "cell_type": "code",
   "execution_count": 140,
   "metadata": {
    "collapsed": false,
    "scrolled": false
   },
   "outputs": [
    {
     "name": "stdout",
     "output_type": "stream",
     "text": [
      "dummies features = (10634, 210)\n",
      "model = linear\n",
      "model = ridge\n",
      "model = lasso\n",
      "model = DTReg\n",
      "model = RFReg\n",
      "model = AdaReg\n",
      "model = BagReg\n",
      "model = GraReg\n",
      "model = logistics\n",
      "model = DTClsfr\n",
      "model = SVR\n",
      "model = SVM\n"
     ]
    },
    {
     "data": {
      "text/html": [
       "<div>\n",
       "<table border=\"1\" class=\"dataframe\">\n",
       "  <thead>\n",
       "    <tr style=\"text-align: right;\">\n",
       "      <th></th>\n",
       "      <th>acc_test</th>\n",
       "      <th>acc_train</th>\n",
       "      <th>f1_test</th>\n",
       "      <th>f1_train</th>\n",
       "      <th>mse_test</th>\n",
       "      <th>mse_train</th>\n",
       "      <th>var_test</th>\n",
       "      <th>var_train</th>\n",
       "    </tr>\n",
       "  </thead>\n",
       "  <tbody>\n",
       "    <tr>\n",
       "      <th>RFReg</th>\n",
       "      <td>0.555848</td>\n",
       "      <td>0.888095</td>\n",
       "      <td>0.569198</td>\n",
       "      <td>0.890695</td>\n",
       "      <td>0.557774</td>\n",
       "      <td>0.095528</td>\n",
       "      <td>0.522862</td>\n",
       "      <td>0.918518</td>\n",
       "    </tr>\n",
       "    <tr>\n",
       "      <th>BagReg</th>\n",
       "      <td>0.540429</td>\n",
       "      <td>0.891198</td>\n",
       "      <td>0.552007</td>\n",
       "      <td>0.893558</td>\n",
       "      <td>0.553546</td>\n",
       "      <td>0.094992</td>\n",
       "      <td>0.526478</td>\n",
       "      <td>0.918975</td>\n",
       "    </tr>\n",
       "    <tr>\n",
       "      <th>DTReg</th>\n",
       "      <td>0.541181</td>\n",
       "      <td>0.644536</td>\n",
       "      <td>0.546847</td>\n",
       "      <td>0.649364</td>\n",
       "      <td>0.695903</td>\n",
       "      <td>0.423791</td>\n",
       "      <td>0.404702</td>\n",
       "      <td>0.638519</td>\n",
       "    </tr>\n",
       "    <tr>\n",
       "      <th>DTClsfr</th>\n",
       "      <td>0.538548</td>\n",
       "      <td>1.000000</td>\n",
       "      <td>0.538710</td>\n",
       "      <td>1.000000</td>\n",
       "      <td>NaN</td>\n",
       "      <td>NaN</td>\n",
       "      <td>NaN</td>\n",
       "      <td>NaN</td>\n",
       "    </tr>\n",
       "    <tr>\n",
       "      <th>GraReg</th>\n",
       "      <td>0.523881</td>\n",
       "      <td>0.545138</td>\n",
       "      <td>0.534443</td>\n",
       "      <td>0.557736</td>\n",
       "      <td>0.537734</td>\n",
       "      <td>0.483060</td>\n",
       "      <td>0.540004</td>\n",
       "      <td>0.587964</td>\n",
       "    </tr>\n",
       "    <tr>\n",
       "      <th>linear</th>\n",
       "      <td>0.422339</td>\n",
       "      <td>0.435396</td>\n",
       "      <td>0.428018</td>\n",
       "      <td>0.435718</td>\n",
       "      <td>0.727979</td>\n",
       "      <td>0.695277</td>\n",
       "      <td>0.377263</td>\n",
       "      <td>0.406950</td>\n",
       "    </tr>\n",
       "    <tr>\n",
       "      <th>ridge</th>\n",
       "      <td>0.403159</td>\n",
       "      <td>0.407467</td>\n",
       "      <td>0.402802</td>\n",
       "      <td>0.402541</td>\n",
       "      <td>0.748217</td>\n",
       "      <td>0.714013</td>\n",
       "      <td>0.359951</td>\n",
       "      <td>0.390969</td>\n",
       "    </tr>\n",
       "    <tr>\n",
       "      <th>logistics</th>\n",
       "      <td>0.446408</td>\n",
       "      <td>0.443013</td>\n",
       "      <td>0.306645</td>\n",
       "      <td>0.300528</td>\n",
       "      <td>NaN</td>\n",
       "      <td>NaN</td>\n",
       "      <td>NaN</td>\n",
       "      <td>NaN</td>\n",
       "    </tr>\n",
       "    <tr>\n",
       "      <th>SVM</th>\n",
       "      <td>0.430613</td>\n",
       "      <td>0.993323</td>\n",
       "      <td>0.262058</td>\n",
       "      <td>0.993310</td>\n",
       "      <td>NaN</td>\n",
       "      <td>NaN</td>\n",
       "      <td>NaN</td>\n",
       "      <td>NaN</td>\n",
       "    </tr>\n",
       "    <tr>\n",
       "      <th>AdaReg</th>\n",
       "      <td>0.288454</td>\n",
       "      <td>0.295467</td>\n",
       "      <td>0.176600</td>\n",
       "      <td>0.178236</td>\n",
       "      <td>0.809287</td>\n",
       "      <td>0.793741</td>\n",
       "      <td>0.307709</td>\n",
       "      <td>0.322963</td>\n",
       "    </tr>\n",
       "    <tr>\n",
       "      <th>lasso</th>\n",
       "      <td>0.253479</td>\n",
       "      <td>0.266033</td>\n",
       "      <td>0.150752</td>\n",
       "      <td>0.158650</td>\n",
       "      <td>0.973118</td>\n",
       "      <td>0.976800</td>\n",
       "      <td>0.167562</td>\n",
       "      <td>0.166820</td>\n",
       "    </tr>\n",
       "    <tr>\n",
       "      <th>SVR</th>\n",
       "      <td>0.253855</td>\n",
       "      <td>0.858379</td>\n",
       "      <td>0.139016</td>\n",
       "      <td>0.807684</td>\n",
       "      <td>1.166471</td>\n",
       "      <td>0.172517</td>\n",
       "      <td>0.002162</td>\n",
       "      <td>0.852848</td>\n",
       "    </tr>\n",
       "  </tbody>\n",
       "</table>\n",
       "</div>"
      ],
      "text/plain": [
       "           acc_test  acc_train   f1_test  f1_train  mse_test  mse_train  \\\n",
       "RFReg      0.555848   0.888095  0.569198  0.890695  0.557774   0.095528   \n",
       "BagReg     0.540429   0.891198  0.552007  0.893558  0.553546   0.094992   \n",
       "DTReg      0.541181   0.644536  0.546847  0.649364  0.695903   0.423791   \n",
       "DTClsfr    0.538548   1.000000  0.538710  1.000000       NaN        NaN   \n",
       "GraReg     0.523881   0.545138  0.534443  0.557736  0.537734   0.483060   \n",
       "linear     0.422339   0.435396  0.428018  0.435718  0.727979   0.695277   \n",
       "ridge      0.403159   0.407467  0.402802  0.402541  0.748217   0.714013   \n",
       "logistics  0.446408   0.443013  0.306645  0.300528       NaN        NaN   \n",
       "SVM        0.430613   0.993323  0.262058  0.993310       NaN        NaN   \n",
       "AdaReg     0.288454   0.295467  0.176600  0.178236  0.809287   0.793741   \n",
       "lasso      0.253479   0.266033  0.150752  0.158650  0.973118   0.976800   \n",
       "SVR        0.253855   0.858379  0.139016  0.807684  1.166471   0.172517   \n",
       "\n",
       "           var_test  var_train  \n",
       "RFReg      0.522862   0.918518  \n",
       "BagReg     0.526478   0.918975  \n",
       "DTReg      0.404702   0.638519  \n",
       "DTClsfr         NaN        NaN  \n",
       "GraReg     0.540004   0.587964  \n",
       "linear     0.377263   0.406950  \n",
       "ridge      0.359951   0.390969  \n",
       "logistics       NaN        NaN  \n",
       "SVM             NaN        NaN  \n",
       "AdaReg     0.307709   0.322963  \n",
       "lasso      0.167562   0.166820  \n",
       "SVR        0.002162   0.852848  "
      ]
     },
     "execution_count": 140,
     "metadata": {},
     "output_type": "execute_result"
    }
   ],
   "source": [
    "train_dummies_x, test_dummies_x = get_train_test_dummies(train_x, test_x, fillna_mode_or_mean)\n",
    "print 'dummies features =', train_dummies_x.shape\n",
    "\n",
    "models = get_models(no_svm=False)\n",
    "results = {}\n",
    "for name, model, is_regression in models:\n",
    "    print('model = %s' % name)\n",
    "    results[name] = fit_pred(model, train_dummies_x, train_y, test_dummies_x, test_y, regression=is_regression)\n",
    "\n",
    "df_results = pd.DataFrame(results)\n",
    "df_results.T.sort('f1_test', ascending=False)"
   ]
  },
  {
   "cell_type": "markdown",
   "metadata": {},
   "source": [
    "best F1\n",
    "- ftr_segs, ftr_bk, ftr_poi, ftr_edge, ftr_node, ftr_mov, ftr_crime, ftr_parking, cut_off=100: RFReg->0.553822"
   ]
  },
  {
   "cell_type": "code",
   "execution_count": 141,
   "metadata": {
    "collapsed": false
   },
   "outputs": [],
   "source": [
    "fillna_unknown_or_zero = train_x.dtypes.apply(lambda x: 'unknown' if x.name=='object' else 0.0).to_dict()"
   ]
  },
  {
   "cell_type": "code",
   "execution_count": 143,
   "metadata": {
    "collapsed": false
   },
   "outputs": [
    {
     "name": "stdout",
     "output_type": "stream",
     "text": [
      "dummies features = (10634, 210)\n",
      "model = linear\n",
      "model = ridge\n",
      "model = lasso\n",
      "model = DTReg\n",
      "model = RFReg\n",
      "model = AdaReg\n",
      "model = BagReg\n",
      "model = GraReg\n",
      "model = logistics\n",
      "model = DTClsfr\n",
      "model = SVR\n",
      "model = SVM\n"
     ]
    },
    {
     "data": {
      "text/html": [
       "<div>\n",
       "<table border=\"1\" class=\"dataframe\">\n",
       "  <thead>\n",
       "    <tr style=\"text-align: right;\">\n",
       "      <th></th>\n",
       "      <th>acc_test</th>\n",
       "      <th>acc_train</th>\n",
       "      <th>f1_test</th>\n",
       "      <th>f1_train</th>\n",
       "      <th>mse_test</th>\n",
       "      <th>mse_train</th>\n",
       "      <th>var_test</th>\n",
       "      <th>var_train</th>\n",
       "    </tr>\n",
       "  </thead>\n",
       "  <tbody>\n",
       "    <tr>\n",
       "      <th>SVR</th>\n",
       "      <td>0.253855</td>\n",
       "      <td>0.858379</td>\n",
       "      <td>0.139016</td>\n",
       "      <td>0.807684</td>\n",
       "      <td>1.166471</td>\n",
       "      <td>0.172517</td>\n",
       "      <td>0.002162</td>\n",
       "      <td>0.852848</td>\n",
       "    </tr>\n",
       "    <tr>\n",
       "      <th>lasso</th>\n",
       "      <td>0.253479</td>\n",
       "      <td>0.266033</td>\n",
       "      <td>0.150752</td>\n",
       "      <td>0.158650</td>\n",
       "      <td>0.973118</td>\n",
       "      <td>0.976800</td>\n",
       "      <td>0.167562</td>\n",
       "      <td>0.166820</td>\n",
       "    </tr>\n",
       "    <tr>\n",
       "      <th>AdaReg</th>\n",
       "      <td>0.280557</td>\n",
       "      <td>0.286064</td>\n",
       "      <td>0.172581</td>\n",
       "      <td>0.173725</td>\n",
       "      <td>0.814547</td>\n",
       "      <td>0.797884</td>\n",
       "      <td>0.303209</td>\n",
       "      <td>0.319430</td>\n",
       "    </tr>\n",
       "    <tr>\n",
       "      <th>SVM</th>\n",
       "      <td>0.430613</td>\n",
       "      <td>0.993323</td>\n",
       "      <td>0.262058</td>\n",
       "      <td>0.993310</td>\n",
       "      <td>NaN</td>\n",
       "      <td>NaN</td>\n",
       "      <td>NaN</td>\n",
       "      <td>NaN</td>\n",
       "    </tr>\n",
       "    <tr>\n",
       "      <th>logistics</th>\n",
       "      <td>0.446408</td>\n",
       "      <td>0.443013</td>\n",
       "      <td>0.306645</td>\n",
       "      <td>0.300528</td>\n",
       "      <td>NaN</td>\n",
       "      <td>NaN</td>\n",
       "      <td>NaN</td>\n",
       "      <td>NaN</td>\n",
       "    </tr>\n",
       "    <tr>\n",
       "      <th>ridge</th>\n",
       "      <td>0.403159</td>\n",
       "      <td>0.407467</td>\n",
       "      <td>0.402802</td>\n",
       "      <td>0.402541</td>\n",
       "      <td>0.748217</td>\n",
       "      <td>0.714013</td>\n",
       "      <td>0.359951</td>\n",
       "      <td>0.390969</td>\n",
       "    </tr>\n",
       "    <tr>\n",
       "      <th>linear</th>\n",
       "      <td>0.422339</td>\n",
       "      <td>0.435396</td>\n",
       "      <td>0.428018</td>\n",
       "      <td>0.435718</td>\n",
       "      <td>0.727979</td>\n",
       "      <td>0.695277</td>\n",
       "      <td>0.377263</td>\n",
       "      <td>0.406950</td>\n",
       "    </tr>\n",
       "    <tr>\n",
       "      <th>GraReg</th>\n",
       "      <td>0.523505</td>\n",
       "      <td>0.545138</td>\n",
       "      <td>0.534114</td>\n",
       "      <td>0.557736</td>\n",
       "      <td>0.538250</td>\n",
       "      <td>0.483060</td>\n",
       "      <td>0.539563</td>\n",
       "      <td>0.587964</td>\n",
       "    </tr>\n",
       "    <tr>\n",
       "      <th>DTReg</th>\n",
       "      <td>0.538548</td>\n",
       "      <td>0.645759</td>\n",
       "      <td>0.543772</td>\n",
       "      <td>0.650608</td>\n",
       "      <td>0.712428</td>\n",
       "      <td>0.423510</td>\n",
       "      <td>0.390565</td>\n",
       "      <td>0.638759</td>\n",
       "    </tr>\n",
       "    <tr>\n",
       "      <th>DTClsfr</th>\n",
       "      <td>0.547574</td>\n",
       "      <td>1.000000</td>\n",
       "      <td>0.546798</td>\n",
       "      <td>1.000000</td>\n",
       "      <td>NaN</td>\n",
       "      <td>NaN</td>\n",
       "      <td>NaN</td>\n",
       "      <td>NaN</td>\n",
       "    </tr>\n",
       "    <tr>\n",
       "      <th>BagReg</th>\n",
       "      <td>0.535916</td>\n",
       "      <td>0.893455</td>\n",
       "      <td>0.547479</td>\n",
       "      <td>0.895572</td>\n",
       "      <td>0.547984</td>\n",
       "      <td>0.094136</td>\n",
       "      <td>0.531236</td>\n",
       "      <td>0.919705</td>\n",
       "    </tr>\n",
       "    <tr>\n",
       "      <th>RFReg</th>\n",
       "      <td>0.541557</td>\n",
       "      <td>0.893643</td>\n",
       "      <td>0.553822</td>\n",
       "      <td>0.896001</td>\n",
       "      <td>0.553561</td>\n",
       "      <td>0.096164</td>\n",
       "      <td>0.526465</td>\n",
       "      <td>0.917975</td>\n",
       "    </tr>\n",
       "  </tbody>\n",
       "</table>\n",
       "</div>"
      ],
      "text/plain": [
       "           acc_test  acc_train   f1_test  f1_train  mse_test  mse_train  \\\n",
       "SVR        0.253855   0.858379  0.139016  0.807684  1.166471   0.172517   \n",
       "lasso      0.253479   0.266033  0.150752  0.158650  0.973118   0.976800   \n",
       "AdaReg     0.280557   0.286064  0.172581  0.173725  0.814547   0.797884   \n",
       "SVM        0.430613   0.993323  0.262058  0.993310       NaN        NaN   \n",
       "logistics  0.446408   0.443013  0.306645  0.300528       NaN        NaN   \n",
       "ridge      0.403159   0.407467  0.402802  0.402541  0.748217   0.714013   \n",
       "linear     0.422339   0.435396  0.428018  0.435718  0.727979   0.695277   \n",
       "GraReg     0.523505   0.545138  0.534114  0.557736  0.538250   0.483060   \n",
       "DTReg      0.538548   0.645759  0.543772  0.650608  0.712428   0.423510   \n",
       "DTClsfr    0.547574   1.000000  0.546798  1.000000       NaN        NaN   \n",
       "BagReg     0.535916   0.893455  0.547479  0.895572  0.547984   0.094136   \n",
       "RFReg      0.541557   0.893643  0.553822  0.896001  0.553561   0.096164   \n",
       "\n",
       "           var_test  var_train  \n",
       "SVR        0.002162   0.852848  \n",
       "lasso      0.167562   0.166820  \n",
       "AdaReg     0.303209   0.319430  \n",
       "SVM             NaN        NaN  \n",
       "logistics       NaN        NaN  \n",
       "ridge      0.359951   0.390969  \n",
       "linear     0.377263   0.406950  \n",
       "GraReg     0.539563   0.587964  \n",
       "DTReg      0.390565   0.638759  \n",
       "DTClsfr         NaN        NaN  \n",
       "BagReg     0.531236   0.919705  \n",
       "RFReg      0.526465   0.917975  "
      ]
     },
     "execution_count": 143,
     "metadata": {},
     "output_type": "execute_result"
    }
   ],
   "source": [
    "train_dummies_x, test_dummies_x = get_train_test_dummies(train_x, test_x, fillna_unknown_or_zero)\n",
    "print 'dummies features =', train_dummies_x.shape\n",
    "\n",
    "\n",
    "models = get_models()\n",
    "results = {}\n",
    "for name, model, is_regression in models:\n",
    "    print('model = %s' % name)\n",
    "    results[name] = fit_pred(model, train_dummies_x, train_y, test_dummies_x, test_y, regression=is_regression)\n",
    "\n",
    "df_results = pd.DataFrame(results)\n",
    "df_results.T.sort('f1_test', ascending=False)"
   ]
  },
  {
   "cell_type": "code",
   "execution_count": null,
   "metadata": {
    "collapsed": true
   },
   "outputs": [],
   "source": []
  }
 ],
 "metadata": {
  "anaconda-cloud": {},
  "kernelspec": {
   "display_name": "Python [default]",
   "language": "python",
   "name": "python2"
  },
  "language_info": {
   "codemirror_mode": {
    "name": "ipython",
    "version": 2
   },
   "file_extension": ".py",
   "mimetype": "text/x-python",
   "name": "python",
   "nbconvert_exporter": "python",
   "pygments_lexer": "ipython2",
   "version": "2.7.13"
  }
 },
 "nbformat": 4,
 "nbformat_minor": 2
}
