{
 "cells": [
  {
   "cell_type": "markdown",
   "metadata": {},
   "source": [
    "# try grid search"
   ]
  },
  {
   "cell_type": "code",
   "execution_count": 1,
   "metadata": {
    "collapsed": false
   },
   "outputs": [
    {
     "ename": "NameError",
     "evalue": "name 'params_svm' is not defined",
     "output_type": "error",
     "traceback": [
      "\u001b[1;31m---------------------------------------------------------------------------\u001b[0m",
      "\u001b[1;31mNameError\u001b[0m                                 Traceback (most recent call last)",
      "\u001b[1;32m<ipython-input-1-778c44741163>\u001b[0m in \u001b[0;36m<module>\u001b[1;34m()\u001b[0m\n\u001b[0;32m      3\u001b[0m \u001b[0miris\u001b[0m \u001b[1;33m=\u001b[0m \u001b[0mdatasets\u001b[0m\u001b[1;33m.\u001b[0m\u001b[0mload_iris\u001b[0m\u001b[1;33m(\u001b[0m\u001b[1;33m)\u001b[0m\u001b[1;33m\u001b[0m\u001b[0m\n\u001b[0;32m      4\u001b[0m \u001b[0msvr\u001b[0m \u001b[1;33m=\u001b[0m \u001b[0msvm\u001b[0m\u001b[1;33m.\u001b[0m\u001b[0mSVC\u001b[0m\u001b[1;33m(\u001b[0m\u001b[1;33m)\u001b[0m\u001b[1;33m\u001b[0m\u001b[0m\n\u001b[1;32m----> 5\u001b[1;33m \u001b[0mclf\u001b[0m \u001b[1;33m=\u001b[0m \u001b[0mGridSearchCV\u001b[0m\u001b[1;33m(\u001b[0m\u001b[0msvr\u001b[0m\u001b[1;33m,\u001b[0m \u001b[0mparams_svm\u001b[0m\u001b[1;33m,\u001b[0m \u001b[0mn_jobs\u001b[0m\u001b[1;33m=\u001b[0m\u001b[1;33m-\u001b[0m\u001b[1;36m1\u001b[0m\u001b[1;33m,\u001b[0m \u001b[0mcv\u001b[0m\u001b[1;33m=\u001b[0m\u001b[1;36m5\u001b[0m\u001b[1;33m,\u001b[0m \u001b[0mscoring\u001b[0m\u001b[1;33m=\u001b[0m\u001b[1;34m'f1_macro'\u001b[0m\u001b[1;33m)\u001b[0m\u001b[1;33m\u001b[0m\u001b[0m\n\u001b[0m\u001b[0;32m      6\u001b[0m \u001b[0mclf\u001b[0m\u001b[1;33m.\u001b[0m\u001b[0mfit\u001b[0m\u001b[1;33m(\u001b[0m\u001b[0miris\u001b[0m\u001b[1;33m.\u001b[0m\u001b[0mdata\u001b[0m\u001b[1;33m,\u001b[0m \u001b[0miris\u001b[0m\u001b[1;33m.\u001b[0m\u001b[0mtarget\u001b[0m\u001b[1;33m)\u001b[0m\u001b[1;33m\u001b[0m\u001b[0m\n",
      "\u001b[1;31mNameError\u001b[0m: name 'params_svm' is not defined"
     ]
    }
   ],
   "source": [
    "from sklearn import svm, datasets\n",
    "from sklearn.model_selection import GridSearchCV\n",
    "iris = datasets.load_iris()\n",
    "svr = svm.SVC()\n",
    "clf = GridSearchCV(svr, params_svm, n_jobs=-1, cv=5, scoring='f1_macro')\n",
    "clf.fit(iris.data, iris.target)"
   ]
  },
  {
   "cell_type": "code",
   "execution_count": 63,
   "metadata": {
    "collapsed": false
   },
   "outputs": [],
   "source": [
    "def CV_models(models, n_jobs=-1, cv=5):\n",
    "    cv_results = []\n",
    "    for model, tuning_params, name, reg_or_class in models:\n",
    "        print 'CVing', name, reg_or_class\n",
    "        if reg_or_class == \"regression\":\n",
    "            clf = GridSearchCV(model, tuning_params, n_jobs=n_jobs, cv=cv, scoring='neg_mean_squared_error')\n",
    "        else:\n",
    "            clf = GridSearchCV(model, tuning_params, n_jobs=n_jobs, cv=cv, scoring='f1_macro')\n",
    "\n",
    "        clf.fit(iris.data, iris.target)\n",
    "        df = pd.DataFrame(clf.cv_results_).sort('mean_test_score', ascending=False)\n",
    "\n",
    "        test_score, train_score, fit_time = df[['mean_test_score', 'mean_train_score', 'mean_fit_time']].values[0]\n",
    "        test_score = -1. * test_score\n",
    "        train_score = -1. * train_score\n",
    "        print 'best test mse = %.3f, train mse = %.3f, mean_fit_time = %f' %(test_score, train_score, fit_time)\n",
    "        print 'best params', clf.best_params_\n",
    "        print \n",
    "\n",
    "        result = {}\n",
    "        result['model_name'] = name\n",
    "        result['reg_or_cla'] = reg_or_class\n",
    "        result['mean_test_mse'] = test_score\n",
    "        result['mean_train_mse'] = train_score\n",
    "        result['mean_fit_time'] = fit_time\n",
    "        result['best_params'] = clf.best_params_\n",
    "        result['best_model'] = clf.best_estimator_\n",
    "        cv_results.append(result)\n",
    "    return cv_results"
   ]
  },
  {
   "cell_type": "code",
   "execution_count": 64,
   "metadata": {
    "collapsed": false
   },
   "outputs": [
    {
     "name": "stdout",
     "output_type": "stream",
     "text": [
      "CVing linear regression\n",
      "best test mse = 0.069, train mse = 0.044, mean_fit_time = 0.087200\n",
      "best params {}\n",
      "\n",
      "CVing ridge regression\n",
      "best test mse = 0.071, train mse = 0.044, mean_fit_time = 0.060200\n",
      "best params {'alpha': 1.0}\n",
      "\n"
     ]
    },
    {
     "data": {
      "text/html": [
       "<div>\n",
       "<table border=\"1\" class=\"dataframe\">\n",
       "  <thead>\n",
       "    <tr style=\"text-align: right;\">\n",
       "      <th></th>\n",
       "      <th>best_model</th>\n",
       "      <th>best_params</th>\n",
       "      <th>mean_fit_time</th>\n",
       "      <th>mean_test_mse</th>\n",
       "      <th>mean_train_mse</th>\n",
       "      <th>model_name</th>\n",
       "      <th>reg_or_cla</th>\n",
       "    </tr>\n",
       "  </thead>\n",
       "  <tbody>\n",
       "    <tr>\n",
       "      <th>0</th>\n",
       "      <td>LinearRegression(copy_X=True, fit_intercept=Tr...</td>\n",
       "      <td>{}</td>\n",
       "      <td>0.0872</td>\n",
       "      <td>0.069046</td>\n",
       "      <td>0.044180</td>\n",
       "      <td>linear</td>\n",
       "      <td>regression</td>\n",
       "    </tr>\n",
       "    <tr>\n",
       "      <th>1</th>\n",
       "      <td>Ridge(alpha=1.0, copy_X=True, fit_intercept=Tr...</td>\n",
       "      <td>{u'alpha': 1.0}</td>\n",
       "      <td>0.0602</td>\n",
       "      <td>0.070631</td>\n",
       "      <td>0.044479</td>\n",
       "      <td>ridge</td>\n",
       "      <td>regression</td>\n",
       "    </tr>\n",
       "  </tbody>\n",
       "</table>\n",
       "</div>"
      ],
      "text/plain": [
       "                                          best_model      best_params  \\\n",
       "0  LinearRegression(copy_X=True, fit_intercept=Tr...               {}   \n",
       "1  Ridge(alpha=1.0, copy_X=True, fit_intercept=Tr...  {u'alpha': 1.0}   \n",
       "\n",
       "   mean_fit_time  mean_test_mse  mean_train_mse model_name  reg_or_cla  \n",
       "0         0.0872       0.069046        0.044180     linear  regression  \n",
       "1         0.0602       0.070631        0.044479      ridge  regression  "
      ]
     },
     "execution_count": 64,
     "metadata": {},
     "output_type": "execute_result"
    }
   ],
   "source": [
    "models = get_models()\n",
    "cv_results = CV_models(models[:2])\n",
    "df_cv = pd.DataFrame(cv_results)\n",
    "df_cv"
   ]
  },
  {
   "cell_type": "code",
   "execution_count": 36,
   "metadata": {
    "collapsed": false
   },
   "outputs": [
    {
     "data": {
      "text/plain": [
       "0.4355189856348346"
      ]
     },
     "execution_count": 36,
     "metadata": {},
     "output_type": "execute_result"
    }
   ],
   "source": [
    "from sklearn.model_selection import train_test_split\n",
    "X_train, X_test, y_train, y_test = train_test_split(iris.data, iris.target, test_size=0.4, random_state=0)\n",
    "\n",
    "clf = linear_model.Lasso().fit(X_train, y_train)\n",
    "clf.score(X_test, y_test)  "
   ]
  },
  {
   "cell_type": "code",
   "execution_count": 49,
   "metadata": {
    "collapsed": false
   },
   "outputs": [
    {
     "data": {
      "text/plain": [
       "0.34417661848098274"
      ]
     },
     "execution_count": 49,
     "metadata": {},
     "output_type": "execute_result"
    }
   ],
   "source": [
    "mean_squared_error(y_test,clf.predict(X_test))"
   ]
  },
  {
   "cell_type": "code",
   "execution_count": 44,
   "metadata": {
    "collapsed": false
   },
   "outputs": [
    {
     "name": "stdout",
     "output_type": "stream",
     "text": [
      "1.15107186849 2\n",
      "0.994199821093 1\n",
      "0.62341134543 0\n",
      "1.3222050111 2\n",
      "0.637672440648 0\n",
      "1.27942172545 2\n",
      "0.609150250212 0\n",
      "1.09402748762 1\n",
      "1.10828858284 1\n",
      "0.994199821093 1\n",
      "1.22237734458 2\n",
      "1.06550529718 1\n",
      "1.09402748762 1\n",
      "1.0797663924 1\n",
      "1.09402748762 1\n",
      "0.637672440648 0\n",
      "1.06550529718 1\n",
      "1.05124420196 1\n",
      "0.62341134543 0\n",
      "0.609150250212 0\n",
      "1.12254967805 2\n",
      "1.06550529718 1\n",
      "0.694716821519 0\n",
      "0.62341134543 0\n",
      "1.10828858284 2\n",
      "0.566366964559 0\n",
      "0.694716821519 0\n",
      "1.03698310675 1\n",
      "0.894372154569 1\n",
      "0.651933535866 0\n",
      "1.20811624936 2\n",
      "1.06550529718 1\n",
      "0.637672440648 0\n",
      "1.12254967805 2\n",
      "1.22237734458 2\n",
      "0.979938725875 1\n",
      "0.666194631083 0\n",
      "1.15107186849 1\n",
      "1.02272201153 1\n",
      "0.994199821093 1\n",
      "1.20811624936 2\n",
      "0.609150250212 0\n",
      "1.15107186849 2\n",
      "0.651933535866 0\n",
      "0.637672440648 0\n",
      "0.922894345004 1\n",
      "1.20811624936 2\n",
      "1.2366384398 2\n",
      "1.13681077327 2\n",
      "1.25089953501 2\n",
      "0.979938725875 1\n",
      "1.29368282067 2\n",
      "1.09402748762 1\n",
      "0.965677630658 1\n",
      "1.12254967805 2\n",
      "1.15107186849 2\n",
      "1.06550529718 2\n",
      "1.13681077327 2\n",
      "1.09402748762 1\n",
      "1.16533296371 2\n"
     ]
    }
   ],
   "source": [
    "for x in zip(clf.predict(X_test), y_test):\n",
    "    print x[0], x[1]"
   ]
  },
  {
   "cell_type": "code",
   "execution_count": 38,
   "metadata": {
    "collapsed": false
   },
   "outputs": [
    {
     "data": {
      "text/plain": [
       "array([2, 1, 0, 2, 0, 2, 0, 1, 1, 1, 2, 1, 1, 1, 1, 0, 1, 1, 0, 0, 2, 1, 0,\n",
       "       0, 2, 0, 0, 1, 1, 0, 2, 1, 0, 2, 2, 1, 0, 1, 1, 1, 2, 0, 2, 0, 0, 1,\n",
       "       2, 2, 2, 2, 1, 2, 1, 1, 2, 2, 2, 2, 1, 2])"
      ]
     },
     "execution_count": 38,
     "metadata": {},
     "output_type": "execute_result"
    }
   ],
   "source": [
    "y_test"
   ]
  },
  {
   "cell_type": "code",
   "execution_count": null,
   "metadata": {
    "collapsed": true
   },
   "outputs": [],
   "source": []
  },
  {
   "cell_type": "code",
   "execution_count": null,
   "metadata": {
    "collapsed": true
   },
   "outputs": [],
   "source": []
  },
  {
   "cell_type": "code",
   "execution_count": 8,
   "metadata": {
    "collapsed": true
   },
   "outputs": [],
   "source": [
    "from sklearn import linear_model, svm, tree, ensemble\n",
    "from sklearn.metrics import mean_squared_error, f1_score, accuracy_score, roc_auc_score\n",
    "import pandas as pd\n",
    "import numpy as np\n",
    "import geopandas as gp\n",
    "from sklearn.metrics import classification_report"
   ]
  },
  {
   "cell_type": "code",
   "execution_count": 9,
   "metadata": {
    "collapsed": true
   },
   "outputs": [],
   "source": [
    "def fit_pred(model, train_dummies_x, train_y, test_dummies_x, test_y, regression=True):\n",
    "    def round_reg_pred(pred):\n",
    "        pred_round = pred.round()\n",
    "        pred_round[pred_round<1] = 1\n",
    "        pred_round[pred_round>4] = 4\n",
    "        return pred_round\n",
    "    \n",
    "    model.fit(train_dummies_x, train_y)\n",
    "\n",
    "    train_pred = model.predict(train_dummies_x)\n",
    "    test_pred = model.predict(test_dummies_x)\n",
    "    train_pred_round = round_reg_pred(train_pred) if regression else train_pred\n",
    "    test_pred_round = round_reg_pred(test_pred) if regression else test_pred\n",
    "    \n",
    "    if regression:\n",
    "        mse_train = mean_squared_error(train_y, train_pred)\n",
    "        mse_test = mean_squared_error(test_y, test_pred)\n",
    "        var_train = model.score(train_dummies_x, train_y)\n",
    "        var_test = model.score(test_dummies_x, test_y)\n",
    "    \n",
    "    acc_train = accuracy_score(train_y, train_pred_round)\n",
    "    acc_test = accuracy_score(test_y, test_pred_round)\n",
    "    f1_train = f1_score(train_y, train_pred_round,average='weighted')\n",
    "    f1_test = f1_score(test_y, test_pred_round,average='weighted')\n",
    "\n",
    "    result = {\n",
    "        'f1_train': f1_train,\n",
    "        'f1_test': f1_test,\n",
    "        'acc_train': acc_train,\n",
    "        'acc_test': acc_test,\n",
    "    }\n",
    "    if regression:\n",
    "        result.update({\n",
    "            'mse_train': mse_train,\n",
    "            'mse_test': mse_test,\n",
    "            'var_train': var_train,\n",
    "            'var_test': var_test,\n",
    "        })\n",
    "    return result"
   ]
  },
  {
   "cell_type": "code",
   "execution_count": 10,
   "metadata": {
    "collapsed": true
   },
   "outputs": [],
   "source": [
    "def stats2ftr(stats, how='TOTAL', ftr_name=None):\n",
    "    ftr = stats.drop(['MONTH','YEAR'], axis=1).groupby('index_seg').sum()\n",
    "    if how=='TOTAL':\n",
    "        assert ftr_name is not None, 'please provide the feature name for the aggregated feature'\n",
    "        ftr = ftr.sum(axis=1).to_frame()\n",
    "        ftr.columns = [ftr_name]\n",
    "    ftr = ftr.reset_index()\n",
    "    return ftr"
   ]
  },
  {
   "cell_type": "code",
   "execution_count": 11,
   "metadata": {
    "collapsed": true
   },
   "outputs": [],
   "source": [
    "def get_train_test_dummies(train_x, test_x, fillna_dict):\n",
    "    train_fillna_x = train_x.fillna(fillna_mode_or_mean)\n",
    "    test_fillna_x = test_x.fillna(fillna_mode_or_mean)\n",
    "    train_dummies_x = pd.get_dummies(train_fillna_x)\n",
    "    test_dummies_x = pd.get_dummies(test_fillna_x)\n",
    "    for x in list(set(train_dummies_x.columns)-set(test_dummies_x.columns)):\n",
    "        test_dummies_x[x] = 0\n",
    "    test_dummies_x = test_dummies_x[train_dummies_x.columns]\n",
    "    return train_dummies_x, test_dummies_x"
   ]
  },
  {
   "cell_type": "markdown",
   "metadata": {},
   "source": [
    "# parameters for gridsearchCV\n",
    "- linear: tol\n",
    "- ridge: tol, alpha=0.5\n",
    "- lasso: tol, alpha=0.5\n",
    "- DTReg: max_depth=10, max_features=None [float, 'sqrt', 'log2']\n",
    "- DTClsfr: criterion=gini(or entropy), max_features=None [float, 'sqrt', 'log2'], max_depth=None\n",
    "- RFReg: n_estimators=10, max_features=None [float, 'sqrt', 'log2']\n",
    "- BagReg: n_estimators=10, max_features=1.0(float or int), max_samples=1.0(float or int)\n",
    "- AdaReg: n_estimators=50, max_features=None [float, 'sqrt', 'log2'], learning_rate=1.\n",
    "- GraReg: n_estimators=100, max_features=None [float, 'sqrt', 'log2'], learning_rate=.1, max_depth=3\n",
    "- logistics: penalty=l2(or l1), C=1.0(like SVM, smaller->stronger regularization), tol=1e-4\n",
    "- svr: C=1.0, epsilon=0.1, kernal=rbf(linear, poly, sigmoid), degree=3(for poly), epsilon=0.1(C, gamma , epsilon play a very important role in rbf gaussian kernel based SVM ), tol=1e-3"
   ]
  },
  {
   "cell_type": "code",
   "execution_count": 12,
   "metadata": {
    "collapsed": false
   },
   "outputs": [],
   "source": [
    "ALPHAs = np.logspace(0,2,10)\n",
    "DEPTHs = [3, 5, 10, 20, 30, 40, 50]\n",
    "N_ESTIMATORs = [10, 30, 50, 100, 256, 500]\n",
    "MAX_FTRs = ['sqrt', 'log2', 0.3, 0.5]\n",
    "LEARN_RATEs = np.logspace(-3, 1, 6)\n",
    "PENALTYs = ['l1', 'l2']\n",
    "TOLs = [1e-2, 1e-3, 1e-4, 1e-5]\n",
    "GAMMAs = [1e-2, 1e-3, 1e-4, 1e-5]\n",
    "Cs = np.logspace(-4, 2, 6)\n",
    "EPs = np.logspace(-4, 2, 6)\n",
    "DEGs = [2, 3, 4, 5, 6]\n",
    "CRITERIONs = ['gini', 'entropy']\n",
    "\n",
    "# lasso and Ridge\n",
    "params_alpha = {'alpha': ALPHAs}\n",
    "params_logis = {'C': Cs, 'penalty':PENALTYs}\n",
    "params_dt_reg = {'max_depth': DEPTHs, 'max_features': MAX_FTRs}\n",
    "params_dt_cla = {'max_depth': DEPTHs, 'max_features': MAX_FTRs, 'criterion': CRITERIONs}\n",
    "params_rf_reg = {'n_estimators': N_ESTIMATORs, 'max_features': MAX_FTRs}\n",
    "params_bag_reg = {'n_estimators': N_ESTIMATORs, 'max_features': MAX_FTRs[2:]}\n",
    "params_ada_reg = {'n_estimators': N_ESTIMATORs, 'learning_rate': LEARN_RATEs}\n",
    "params_gra_reg = {'n_estimators': N_ESTIMATORs, 'max_features': MAX_FTRs, 'learning_rate': LEARN_RATEs, 'max_depth':DEPTHs}\n",
    "\n",
    "params_svm = [\n",
    "    {'kernel':['linear'], 'C': Cs},\n",
    "    {'kernel':['rbf'], 'C': Cs, 'gamma': GAMMAs},\n",
    "    {'kernel':['sigmoid'], 'C': Cs, 'gamma': GAMMAs},\n",
    "    {'kernel':['poly'], 'C': Cs, 'gamma': GAMMAs, 'degree': DEGs},\n",
    "]\n",
    "\n",
    "params_svr = [\n",
    "    {'kernel':['linear'], 'C': Cs},\n",
    "    {'kernel':['rbf'], 'C': Cs, 'gamma': GAMMAs},\n",
    "    {'kernel':['sigmoid'], 'C': Cs, 'gamma': GAMMAs},\n",
    "    {'kernel':['poly'], 'C': Cs, 'gamma': GAMMAs, 'degree': DEGs},\n",
    "]\n"
   ]
  },
  {
   "cell_type": "code",
   "execution_count": 19,
   "metadata": {
    "collapsed": true
   },
   "outputs": [],
   "source": [
    "def get_models(no_svm=False):\n",
    "    \"\"\"return: model, tuning_params, name, regresion_or_classification\n",
    "    \"\"\"\n",
    "    models = [\n",
    "        [linear_model.LinearRegression(), {}, \"linear\", 'regression'],\n",
    "        [linear_model.Ridge(), params_alpha, \"ridge\", 'regression'],\n",
    "        [linear_model.Lasso(), params_alpha, \"lasso\", 'regression'],\n",
    "        [tree.DecisionTreeRegressor(), params_dt_reg, \"DTReg\", 'regression'],\n",
    "        [ensemble.RandomForestRegressor(), params_rf_reg, \"RFReg\", 'regression'],\n",
    "        [ensemble.AdaBoostRegressor(), params_ada_reg, \"AdaReg\", 'regression'],\n",
    "        [ensemble.BaggingRegressor(), params_bag_reg, \"BagReg\", 'regression'],\n",
    "        [ensemble.GradientBoostingRegressor(), params_gra_reg, \"GraReg\", 'regression'],\n",
    "        [linear_model.LogisticRegression(), params_logis, \"logistics\", 'classification'],\n",
    "        [tree.DecisionTreeClassifier(), params_dt_cla, \"DTClsfr\", 'classification'],\n",
    "        [ensemble.RandomForestClassifier(), params_rf_reg, \"RFclsfr\", 'classification'],\n",
    "        [ensemble.AdaBoostClassifier(), params_ada_reg, \"Adaclsfr\", 'classification'],\n",
    "        [ensemble.BaggingClassifier(), params_bag_reg, \"Bagclsfr\", 'classification'],\n",
    "        [ensemble.GradientBoostingClassifier(), params_gra_reg, \"Graclsfr\", 'classification'],\n",
    "    ]\n",
    "    if not no_svm:\n",
    "        models+=[[svm.SVR(), params_svr, \"SVR\", 'regression'],\n",
    "                 [svm.SVC(), params_svm, \"SVM\", 'classification']]\n",
    "    return models"
   ]
  },
  {
   "cell_type": "markdown",
   "metadata": {},
   "source": [
    "# load raw data"
   ]
  },
  {
   "cell_type": "code",
   "execution_count": 154,
   "metadata": {
    "collapsed": false
   },
   "outputs": [],
   "source": [
    "from src.constants import fn_segments_dc, fn_feature_bk_facs_dc, fn_feature_poi_dc, fn_feature_seg_as_edge_dc, fn_feature_seg_as_node_dc\n",
    "fn_feature_lts_dc = 'feature_lts_dc.csv'\n",
    "fn_feature_crime_dc = 'feature_crime_incidences_dc.csv'\n",
    "fn_feature_mov_dc = 'feature_mov_violations_dc.csv'\n",
    "fn_feature_parking_dc = 'feature_parking_violations_dc.csv'\n",
    "data_dir = 'data/'"
   ]
  },
  {
   "cell_type": "code",
   "execution_count": 155,
   "metadata": {
    "collapsed": true
   },
   "outputs": [],
   "source": [
    "segs = gp.read_file(data_dir+fn_segments_dc)\n",
    "\n",
    "ftr_segs_col = ['DIRECTIONALITY', 'STREETTYPE', 'SHAPE_Length']\n",
    "ftr_segs = segs[ftr_segs_col].reset_index()\n",
    "ftr_segs.columns = ['index_seg']+list(ftr_segs.columns[1:])\n",
    "ftr_segs.DIRECTIONALITY = ftr_segs.DIRECTIONALITY.apply(lambda x: 'Bi-direction' if x==2 else 'one-way')\n"
   ]
  },
  {
   "cell_type": "code",
   "execution_count": 156,
   "metadata": {
    "collapsed": true
   },
   "outputs": [],
   "source": [
    "ftr_lts = pd.read_csv(data_dir+fn_feature_lts_dc)\n",
    "ftr_bk = pd.read_csv(data_dir+fn_feature_bk_facs_dc, index_col=0)\n",
    "ftr_poi = pd.read_csv(data_dir+fn_feature_poi_dc, index_col=0)\n",
    "ftr_edge = pd.read_csv(data_dir+fn_feature_seg_as_edge_dc)\n",
    "ftr_node = pd.read_csv(data_dir+fn_feature_seg_as_node_dc)"
   ]
  },
  {
   "cell_type": "code",
   "execution_count": 157,
   "metadata": {
    "collapsed": false
   },
   "outputs": [],
   "source": [
    "crime_stats = pd.read_csv(data_dir+fn_feature_crime_dc)\n",
    "mov_stats = pd.read_csv(data_dir+fn_feature_mov_dc)\n",
    "parking_stats = pd.read_csv(data_dir+fn_feature_parking_dc)\n",
    "\n",
    "ftr_mov = stats2ftr(mov_stats, how='NOT_TOTAL')\n",
    "ftr_crime = stats2ftr(crime_stats, how='NOT_TOTAL')\n",
    "ftr_parking = stats2ftr(parking_stats, how='NOT_TOTAL')\n",
    "\n",
    "ftr_mov_total = stats2ftr(mov_stats, ftr_name='moving_violations_cnt')\n",
    "ftr_crime_total = stats2ftr(crime_stats, ftr_name='crime_incidents_cnt')\n",
    "ftr_parking_total = stats2ftr(parking_stats, ftr_name='parking_violations_cnt')"
   ]
  },
  {
   "cell_type": "code",
   "execution_count": 158,
   "metadata": {
    "collapsed": false
   },
   "outputs": [
    {
     "data": {
      "text/plain": [
       "(13293, 184)"
      ]
     },
     "execution_count": 158,
     "metadata": {},
     "output_type": "execute_result"
    }
   ],
   "source": [
    "cut_off = 100\n",
    "dfs = [ftr_lts, ftr_segs, ftr_bk, ftr_poi, ftr_edge, ftr_node, ftr_mov, ftr_crime, ftr_parking]\n",
    "df = reduce(lambda left,right: pd.merge(left,right, how='left'), dfs)\n",
    "df = df[~df.LTS.isnull()&(df.LTS!=10)]\n",
    "df.drop('index_seg', axis=1, inplace=True)\n",
    "non_na_count = df.count()\n",
    "keep_col = non_na_count[non_na_count>cut_off].index\n",
    "df = df[keep_col]\n",
    "df.shape"
   ]
  },
  {
   "cell_type": "markdown",
   "metadata": {},
   "source": [
    "# get train and test"
   ]
  },
  {
   "cell_type": "code",
   "execution_count": 159,
   "metadata": {
    "collapsed": false
   },
   "outputs": [
    {
     "data": {
      "text/plain": [
       "((10634, 184), (2659, 184))"
      ]
     },
     "execution_count": 159,
     "metadata": {},
     "output_type": "execute_result"
    }
   ],
   "source": [
    "train = df.sample(frac=0.8, random_state=1)\n",
    "test = df[~df.index.isin(train.index)]\n",
    "train.shape, test.shape"
   ]
  },
  {
   "cell_type": "code",
   "execution_count": 160,
   "metadata": {
    "collapsed": true
   },
   "outputs": [],
   "source": [
    "train_y = train.LTS.values\n",
    "train_x = train.drop('LTS', axis=1)\n",
    "test_y = test.LTS.values\n",
    "test_x = test.drop('LTS', axis=1)"
   ]
  },
  {
   "cell_type": "code",
   "execution_count": 161,
   "metadata": {
    "collapsed": false
   },
   "outputs": [
    {
     "data": {
      "text/plain": [
       "((10634, 183), (2659, 183))"
      ]
     },
     "execution_count": 161,
     "metadata": {},
     "output_type": "execute_result"
    }
   ],
   "source": [
    "train_x.shape, test_x.shape"
   ]
  },
  {
   "cell_type": "code",
   "execution_count": 162,
   "metadata": {
    "collapsed": false
   },
   "outputs": [],
   "source": [
    "# fillna_mode_or_mean = train_x[['cycle_lane', 'cycle_way', 'side_walk', 'bikable']].mode().T.to_dict()[0]\n",
    "fillna_mode_or_mean = train_x[['cycle_lane', 'side_walk', 'bikable', 'DIRECTIONALITY', 'STREETTYPE']].mode().T.to_dict()[0]\n",
    "fillna_mode_or_mean.update(train_x.mean().to_dict())"
   ]
  },
  {
   "cell_type": "markdown",
   "metadata": {},
   "source": [
    "best with f1 test\n",
    "- ftr_bk, ftr_poi, ftr_edge, ftr_node:   DTClsfr->0.486618\n",
    "- ftr_bk, ftr_poi, ftr_edge, ftr_node, ftr_mov_total, ftr_crime_total(one aggregate column): DTClsfr->0.479885\n",
    "- ftr_bk, ftr_poi, ftr_edge, ftr_node, ftr_mov, ftr_crime, cut_off = 100: DTClsfr->0.495041\n",
    "- ftr_segs, ftr_bk, ftr_poi, ftr_edge, ftr_node, ftr_mov, ftr_crime, cut_off=100: RFReg->0.569317\n",
    "- ftr_segs, ftr_bk, ftr_poi, ftr_edge, ftr_node, ftr_mov, ftr_crime, ftr_parking, cut_off=100: BagReg->0.571100 or sometimes RFREG->0.569\n"
   ]
  },
  {
   "cell_type": "code",
   "execution_count": 140,
   "metadata": {
    "collapsed": false,
    "scrolled": false
   },
   "outputs": [
    {
     "name": "stdout",
     "output_type": "stream",
     "text": [
      "dummies features = (10634, 210)\n",
      "model = linear\n",
      "model = ridge\n",
      "model = lasso\n",
      "model = DTReg\n",
      "model = RFReg\n",
      "model = AdaReg\n",
      "model = BagReg\n",
      "model = GraReg\n",
      "model = logistics\n",
      "model = DTClsfr\n",
      "model = SVR\n",
      "model = SVM\n"
     ]
    },
    {
     "data": {
      "text/html": [
       "<div>\n",
       "<table border=\"1\" class=\"dataframe\">\n",
       "  <thead>\n",
       "    <tr style=\"text-align: right;\">\n",
       "      <th></th>\n",
       "      <th>acc_test</th>\n",
       "      <th>acc_train</th>\n",
       "      <th>f1_test</th>\n",
       "      <th>f1_train</th>\n",
       "      <th>mse_test</th>\n",
       "      <th>mse_train</th>\n",
       "      <th>var_test</th>\n",
       "      <th>var_train</th>\n",
       "    </tr>\n",
       "  </thead>\n",
       "  <tbody>\n",
       "    <tr>\n",
       "      <th>RFReg</th>\n",
       "      <td>0.555848</td>\n",
       "      <td>0.888095</td>\n",
       "      <td>0.569198</td>\n",
       "      <td>0.890695</td>\n",
       "      <td>0.557774</td>\n",
       "      <td>0.095528</td>\n",
       "      <td>0.522862</td>\n",
       "      <td>0.918518</td>\n",
       "    </tr>\n",
       "    <tr>\n",
       "      <th>BagReg</th>\n",
       "      <td>0.540429</td>\n",
       "      <td>0.891198</td>\n",
       "      <td>0.552007</td>\n",
       "      <td>0.893558</td>\n",
       "      <td>0.553546</td>\n",
       "      <td>0.094992</td>\n",
       "      <td>0.526478</td>\n",
       "      <td>0.918975</td>\n",
       "    </tr>\n",
       "    <tr>\n",
       "      <th>DTReg</th>\n",
       "      <td>0.541181</td>\n",
       "      <td>0.644536</td>\n",
       "      <td>0.546847</td>\n",
       "      <td>0.649364</td>\n",
       "      <td>0.695903</td>\n",
       "      <td>0.423791</td>\n",
       "      <td>0.404702</td>\n",
       "      <td>0.638519</td>\n",
       "    </tr>\n",
       "    <tr>\n",
       "      <th>DTClsfr</th>\n",
       "      <td>0.538548</td>\n",
       "      <td>1.000000</td>\n",
       "      <td>0.538710</td>\n",
       "      <td>1.000000</td>\n",
       "      <td>NaN</td>\n",
       "      <td>NaN</td>\n",
       "      <td>NaN</td>\n",
       "      <td>NaN</td>\n",
       "    </tr>\n",
       "    <tr>\n",
       "      <th>GraReg</th>\n",
       "      <td>0.523881</td>\n",
       "      <td>0.545138</td>\n",
       "      <td>0.534443</td>\n",
       "      <td>0.557736</td>\n",
       "      <td>0.537734</td>\n",
       "      <td>0.483060</td>\n",
       "      <td>0.540004</td>\n",
       "      <td>0.587964</td>\n",
       "    </tr>\n",
       "    <tr>\n",
       "      <th>linear</th>\n",
       "      <td>0.422339</td>\n",
       "      <td>0.435396</td>\n",
       "      <td>0.428018</td>\n",
       "      <td>0.435718</td>\n",
       "      <td>0.727979</td>\n",
       "      <td>0.695277</td>\n",
       "      <td>0.377263</td>\n",
       "      <td>0.406950</td>\n",
       "    </tr>\n",
       "    <tr>\n",
       "      <th>ridge</th>\n",
       "      <td>0.403159</td>\n",
       "      <td>0.407467</td>\n",
       "      <td>0.402802</td>\n",
       "      <td>0.402541</td>\n",
       "      <td>0.748217</td>\n",
       "      <td>0.714013</td>\n",
       "      <td>0.359951</td>\n",
       "      <td>0.390969</td>\n",
       "    </tr>\n",
       "    <tr>\n",
       "      <th>logistics</th>\n",
       "      <td>0.446408</td>\n",
       "      <td>0.443013</td>\n",
       "      <td>0.306645</td>\n",
       "      <td>0.300528</td>\n",
       "      <td>NaN</td>\n",
       "      <td>NaN</td>\n",
       "      <td>NaN</td>\n",
       "      <td>NaN</td>\n",
       "    </tr>\n",
       "    <tr>\n",
       "      <th>SVM</th>\n",
       "      <td>0.430613</td>\n",
       "      <td>0.993323</td>\n",
       "      <td>0.262058</td>\n",
       "      <td>0.993310</td>\n",
       "      <td>NaN</td>\n",
       "      <td>NaN</td>\n",
       "      <td>NaN</td>\n",
       "      <td>NaN</td>\n",
       "    </tr>\n",
       "    <tr>\n",
       "      <th>AdaReg</th>\n",
       "      <td>0.288454</td>\n",
       "      <td>0.295467</td>\n",
       "      <td>0.176600</td>\n",
       "      <td>0.178236</td>\n",
       "      <td>0.809287</td>\n",
       "      <td>0.793741</td>\n",
       "      <td>0.307709</td>\n",
       "      <td>0.322963</td>\n",
       "    </tr>\n",
       "    <tr>\n",
       "      <th>lasso</th>\n",
       "      <td>0.253479</td>\n",
       "      <td>0.266033</td>\n",
       "      <td>0.150752</td>\n",
       "      <td>0.158650</td>\n",
       "      <td>0.973118</td>\n",
       "      <td>0.976800</td>\n",
       "      <td>0.167562</td>\n",
       "      <td>0.166820</td>\n",
       "    </tr>\n",
       "    <tr>\n",
       "      <th>SVR</th>\n",
       "      <td>0.253855</td>\n",
       "      <td>0.858379</td>\n",
       "      <td>0.139016</td>\n",
       "      <td>0.807684</td>\n",
       "      <td>1.166471</td>\n",
       "      <td>0.172517</td>\n",
       "      <td>0.002162</td>\n",
       "      <td>0.852848</td>\n",
       "    </tr>\n",
       "  </tbody>\n",
       "</table>\n",
       "</div>"
      ],
      "text/plain": [
       "           acc_test  acc_train   f1_test  f1_train  mse_test  mse_train  \\\n",
       "RFReg      0.555848   0.888095  0.569198  0.890695  0.557774   0.095528   \n",
       "BagReg     0.540429   0.891198  0.552007  0.893558  0.553546   0.094992   \n",
       "DTReg      0.541181   0.644536  0.546847  0.649364  0.695903   0.423791   \n",
       "DTClsfr    0.538548   1.000000  0.538710  1.000000       NaN        NaN   \n",
       "GraReg     0.523881   0.545138  0.534443  0.557736  0.537734   0.483060   \n",
       "linear     0.422339   0.435396  0.428018  0.435718  0.727979   0.695277   \n",
       "ridge      0.403159   0.407467  0.402802  0.402541  0.748217   0.714013   \n",
       "logistics  0.446408   0.443013  0.306645  0.300528       NaN        NaN   \n",
       "SVM        0.430613   0.993323  0.262058  0.993310       NaN        NaN   \n",
       "AdaReg     0.288454   0.295467  0.176600  0.178236  0.809287   0.793741   \n",
       "lasso      0.253479   0.266033  0.150752  0.158650  0.973118   0.976800   \n",
       "SVR        0.253855   0.858379  0.139016  0.807684  1.166471   0.172517   \n",
       "\n",
       "           var_test  var_train  \n",
       "RFReg      0.522862   0.918518  \n",
       "BagReg     0.526478   0.918975  \n",
       "DTReg      0.404702   0.638519  \n",
       "DTClsfr         NaN        NaN  \n",
       "GraReg     0.540004   0.587964  \n",
       "linear     0.377263   0.406950  \n",
       "ridge      0.359951   0.390969  \n",
       "logistics       NaN        NaN  \n",
       "SVM             NaN        NaN  \n",
       "AdaReg     0.307709   0.322963  \n",
       "lasso      0.167562   0.166820  \n",
       "SVR        0.002162   0.852848  "
      ]
     },
     "execution_count": 140,
     "metadata": {},
     "output_type": "execute_result"
    }
   ],
   "source": [
    "train_dummies_x, test_dummies_x = get_train_test_dummies(train_x, test_x, fillna_mode_or_mean)\n",
    "print 'dummies features =', train_dummies_x.shape\n",
    "\n",
    "models = get_models(no_svm=False)\n",
    "results = {}\n",
    "for name, model, is_regression in models:\n",
    "    print('model = %s' % name)\n",
    "    results[name] = fit_pred(model, train_dummies_x, train_y, test_dummies_x, test_y, regression=is_regression)\n",
    "\n",
    "df_results = pd.DataFrame(results)\n",
    "df_results.T.sort('f1_test', ascending=False)"
   ]
  },
  {
   "cell_type": "markdown",
   "metadata": {},
   "source": [
    "best F1\n",
    "- ftr_segs, ftr_bk, ftr_poi, ftr_edge, ftr_node, ftr_mov, ftr_crime, ftr_parking, cut_off=100: RFReg->0.553822"
   ]
  },
  {
   "cell_type": "code",
   "execution_count": 141,
   "metadata": {
    "collapsed": false
   },
   "outputs": [],
   "source": [
    "fillna_unknown_or_zero = train_x.dtypes.apply(lambda x: 'unknown' if x.name=='object' else 0.0).to_dict()"
   ]
  },
  {
   "cell_type": "code",
   "execution_count": 143,
   "metadata": {
    "collapsed": false
   },
   "outputs": [
    {
     "name": "stdout",
     "output_type": "stream",
     "text": [
      "dummies features = (10634, 210)\n",
      "model = linear\n",
      "model = ridge\n",
      "model = lasso\n",
      "model = DTReg\n",
      "model = RFReg\n",
      "model = AdaReg\n",
      "model = BagReg\n",
      "model = GraReg\n",
      "model = logistics\n",
      "model = DTClsfr\n",
      "model = SVR\n",
      "model = SVM\n"
     ]
    },
    {
     "data": {
      "text/html": [
       "<div>\n",
       "<table border=\"1\" class=\"dataframe\">\n",
       "  <thead>\n",
       "    <tr style=\"text-align: right;\">\n",
       "      <th></th>\n",
       "      <th>acc_test</th>\n",
       "      <th>acc_train</th>\n",
       "      <th>f1_test</th>\n",
       "      <th>f1_train</th>\n",
       "      <th>mse_test</th>\n",
       "      <th>mse_train</th>\n",
       "      <th>var_test</th>\n",
       "      <th>var_train</th>\n",
       "    </tr>\n",
       "  </thead>\n",
       "  <tbody>\n",
       "    <tr>\n",
       "      <th>SVR</th>\n",
       "      <td>0.253855</td>\n",
       "      <td>0.858379</td>\n",
       "      <td>0.139016</td>\n",
       "      <td>0.807684</td>\n",
       "      <td>1.166471</td>\n",
       "      <td>0.172517</td>\n",
       "      <td>0.002162</td>\n",
       "      <td>0.852848</td>\n",
       "    </tr>\n",
       "    <tr>\n",
       "      <th>lasso</th>\n",
       "      <td>0.253479</td>\n",
       "      <td>0.266033</td>\n",
       "      <td>0.150752</td>\n",
       "      <td>0.158650</td>\n",
       "      <td>0.973118</td>\n",
       "      <td>0.976800</td>\n",
       "      <td>0.167562</td>\n",
       "      <td>0.166820</td>\n",
       "    </tr>\n",
       "    <tr>\n",
       "      <th>AdaReg</th>\n",
       "      <td>0.280557</td>\n",
       "      <td>0.286064</td>\n",
       "      <td>0.172581</td>\n",
       "      <td>0.173725</td>\n",
       "      <td>0.814547</td>\n",
       "      <td>0.797884</td>\n",
       "      <td>0.303209</td>\n",
       "      <td>0.319430</td>\n",
       "    </tr>\n",
       "    <tr>\n",
       "      <th>SVM</th>\n",
       "      <td>0.430613</td>\n",
       "      <td>0.993323</td>\n",
       "      <td>0.262058</td>\n",
       "      <td>0.993310</td>\n",
       "      <td>NaN</td>\n",
       "      <td>NaN</td>\n",
       "      <td>NaN</td>\n",
       "      <td>NaN</td>\n",
       "    </tr>\n",
       "    <tr>\n",
       "      <th>logistics</th>\n",
       "      <td>0.446408</td>\n",
       "      <td>0.443013</td>\n",
       "      <td>0.306645</td>\n",
       "      <td>0.300528</td>\n",
       "      <td>NaN</td>\n",
       "      <td>NaN</td>\n",
       "      <td>NaN</td>\n",
       "      <td>NaN</td>\n",
       "    </tr>\n",
       "    <tr>\n",
       "      <th>ridge</th>\n",
       "      <td>0.403159</td>\n",
       "      <td>0.407467</td>\n",
       "      <td>0.402802</td>\n",
       "      <td>0.402541</td>\n",
       "      <td>0.748217</td>\n",
       "      <td>0.714013</td>\n",
       "      <td>0.359951</td>\n",
       "      <td>0.390969</td>\n",
       "    </tr>\n",
       "    <tr>\n",
       "      <th>linear</th>\n",
       "      <td>0.422339</td>\n",
       "      <td>0.435396</td>\n",
       "      <td>0.428018</td>\n",
       "      <td>0.435718</td>\n",
       "      <td>0.727979</td>\n",
       "      <td>0.695277</td>\n",
       "      <td>0.377263</td>\n",
       "      <td>0.406950</td>\n",
       "    </tr>\n",
       "    <tr>\n",
       "      <th>GraReg</th>\n",
       "      <td>0.523505</td>\n",
       "      <td>0.545138</td>\n",
       "      <td>0.534114</td>\n",
       "      <td>0.557736</td>\n",
       "      <td>0.538250</td>\n",
       "      <td>0.483060</td>\n",
       "      <td>0.539563</td>\n",
       "      <td>0.587964</td>\n",
       "    </tr>\n",
       "    <tr>\n",
       "      <th>DTReg</th>\n",
       "      <td>0.538548</td>\n",
       "      <td>0.645759</td>\n",
       "      <td>0.543772</td>\n",
       "      <td>0.650608</td>\n",
       "      <td>0.712428</td>\n",
       "      <td>0.423510</td>\n",
       "      <td>0.390565</td>\n",
       "      <td>0.638759</td>\n",
       "    </tr>\n",
       "    <tr>\n",
       "      <th>DTClsfr</th>\n",
       "      <td>0.547574</td>\n",
       "      <td>1.000000</td>\n",
       "      <td>0.546798</td>\n",
       "      <td>1.000000</td>\n",
       "      <td>NaN</td>\n",
       "      <td>NaN</td>\n",
       "      <td>NaN</td>\n",
       "      <td>NaN</td>\n",
       "    </tr>\n",
       "    <tr>\n",
       "      <th>BagReg</th>\n",
       "      <td>0.535916</td>\n",
       "      <td>0.893455</td>\n",
       "      <td>0.547479</td>\n",
       "      <td>0.895572</td>\n",
       "      <td>0.547984</td>\n",
       "      <td>0.094136</td>\n",
       "      <td>0.531236</td>\n",
       "      <td>0.919705</td>\n",
       "    </tr>\n",
       "    <tr>\n",
       "      <th>RFReg</th>\n",
       "      <td>0.541557</td>\n",
       "      <td>0.893643</td>\n",
       "      <td>0.553822</td>\n",
       "      <td>0.896001</td>\n",
       "      <td>0.553561</td>\n",
       "      <td>0.096164</td>\n",
       "      <td>0.526465</td>\n",
       "      <td>0.917975</td>\n",
       "    </tr>\n",
       "  </tbody>\n",
       "</table>\n",
       "</div>"
      ],
      "text/plain": [
       "           acc_test  acc_train   f1_test  f1_train  mse_test  mse_train  \\\n",
       "SVR        0.253855   0.858379  0.139016  0.807684  1.166471   0.172517   \n",
       "lasso      0.253479   0.266033  0.150752  0.158650  0.973118   0.976800   \n",
       "AdaReg     0.280557   0.286064  0.172581  0.173725  0.814547   0.797884   \n",
       "SVM        0.430613   0.993323  0.262058  0.993310       NaN        NaN   \n",
       "logistics  0.446408   0.443013  0.306645  0.300528       NaN        NaN   \n",
       "ridge      0.403159   0.407467  0.402802  0.402541  0.748217   0.714013   \n",
       "linear     0.422339   0.435396  0.428018  0.435718  0.727979   0.695277   \n",
       "GraReg     0.523505   0.545138  0.534114  0.557736  0.538250   0.483060   \n",
       "DTReg      0.538548   0.645759  0.543772  0.650608  0.712428   0.423510   \n",
       "DTClsfr    0.547574   1.000000  0.546798  1.000000       NaN        NaN   \n",
       "BagReg     0.535916   0.893455  0.547479  0.895572  0.547984   0.094136   \n",
       "RFReg      0.541557   0.893643  0.553822  0.896001  0.553561   0.096164   \n",
       "\n",
       "           var_test  var_train  \n",
       "SVR        0.002162   0.852848  \n",
       "lasso      0.167562   0.166820  \n",
       "AdaReg     0.303209   0.319430  \n",
       "SVM             NaN        NaN  \n",
       "logistics       NaN        NaN  \n",
       "ridge      0.359951   0.390969  \n",
       "linear     0.377263   0.406950  \n",
       "GraReg     0.539563   0.587964  \n",
       "DTReg      0.390565   0.638759  \n",
       "DTClsfr         NaN        NaN  \n",
       "BagReg     0.531236   0.919705  \n",
       "RFReg      0.526465   0.917975  "
      ]
     },
     "execution_count": 143,
     "metadata": {},
     "output_type": "execute_result"
    }
   ],
   "source": [
    "train_dummies_x, test_dummies_x = get_train_test_dummies(train_x, test_x, fillna_unknown_or_zero)\n",
    "print 'dummies features =', train_dummies_x.shape\n",
    "\n",
    "\n",
    "models = get_models()\n",
    "results = {}\n",
    "for name, model, is_regression in models:\n",
    "    print('model = %s' % name)\n",
    "    results[name] = fit_pred(model, train_dummies_x, train_y, test_dummies_x, test_y, regression=is_regression)\n",
    "\n",
    "df_results = pd.DataFrame(results)\n",
    "df_results.T.sort('f1_test', ascending=False)"
   ]
  },
  {
   "cell_type": "code",
   "execution_count": null,
   "metadata": {
    "collapsed": true
   },
   "outputs": [],
   "source": []
  }
 ],
 "metadata": {
  "anaconda-cloud": {},
  "kernelspec": {
   "display_name": "Python [default]",
   "language": "python",
   "name": "python2"
  }
 },
 "nbformat": 4,
 "nbformat_minor": 2
}
