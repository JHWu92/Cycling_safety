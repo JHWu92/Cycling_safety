{
 "cells": [
  {
   "cell_type": "code",
   "execution_count": 22,
   "metadata": {
    "collapsed": true
   },
   "outputs": [],
   "source": [
    "import sys, os\n",
    "sys.path.insert(0, os.path.abspath('../'))\n",
    "from utils.osm_helper import node2pt, way2line, rltn2cltn, osm_container\n",
    "import geopandas as gp\n",
    "from osmread import Node, Way, Relation\n",
    "import datetime"
   ]
  },
  {
   "cell_type": "code",
   "execution_count": 27,
   "metadata": {
    "collapsed": true
   },
   "outputs": [],
   "source": [
    "OSM_DC_BBOX_PATH = '../data/dc_bbox.osm'\n",
    "OSM_DC_IDS_PATH = '../data/dc_osm_ids_within_polygon.txt'"
   ]
  },
  {
   "cell_type": "code",
   "execution_count": 3,
   "metadata": {
    "collapsed": false
   },
   "outputs": [
    {
     "name": "stdout",
     "output_type": "stream",
     "text": [
      "begin reading osm 2016-11-09 22:27:42.494000\n",
      "finish reading osm 2016-11-09 22:28:54.894000\n",
      "[\"len of <class 'osmread.elements.Way'> = 306332\", \"len of <class 'osmread.elements.Node'> = 2546260\", \"len of <class 'osmread.elements.Relation'> = 3427\"]\n"
     ]
    }
   ],
   "source": [
    "OSM_DC_BBOX = osm_container(OSM_DC_BBOX_PATH)\n",
    "print OSM_DC_BBOX.data_size()"
   ]
  },
  {
   "cell_type": "code",
   "execution_count": 5,
   "metadata": {
    "collapsed": false
   },
   "outputs": [],
   "source": [
    "DC_POLY_gpdf = gp.read_file('../data/dc_polygon.geojson')\n",
    "DC_POLY = DC_POLY_gpdf.geometry.values[0]"
   ]
  },
  {
   "cell_type": "code",
   "execution_count": 14,
   "metadata": {
    "collapsed": true
   },
   "outputs": [],
   "source": [
    "def get_node_ids_given_polygon(nodes, polygon):\n",
    "    print datetime.datetime.now()\n",
    "    node_ids = set()\n",
    "    for node in nodes:\n",
    "        pt = node2pt(node)\n",
    "        if pt.intersects(polygon):\n",
    "            node_ids.add(node.id)\n",
    "    print datetime.datetime.now()\n",
    "    return node_ids\n",
    "\n",
    "def get_way_ids_given_polygon(ways, polygon,osm_data):\n",
    "    print datetime.datetime.now()\n",
    "    way_ids = set()\n",
    "    for way in ways:\n",
    "        ln = way2line(osm_data, way)\n",
    "        if ln.intersects(polygon):\n",
    "            way_ids.add(way.id)\n",
    "    print datetime.datetime.now()\n",
    "    return way_ids"
   ]
  },
  {
   "cell_type": "code",
   "execution_count": 11,
   "metadata": {
    "collapsed": false
   },
   "outputs": [
    {
     "name": "stdout",
     "output_type": "stream",
     "text": [
      "2016-11-09 22:29:45.881000\n",
      "2016-11-09 22:34:23.454000\n",
      "2016-11-09 22:34:23.455000\n",
      "2016-11-09 22:35:23.948000\n"
     ]
    }
   ],
   "source": [
    "DC_NODE_IDS = get_node_ids_given_polygon(OSM_DC_BBOX.osm_objs[Node], DC_POLY)\n",
    "DC_WAYS_IDS = get_way_ids_given_polygon(OSM_DC_BBOX.osm_objs[Way], DC_POLY, OSM_DC_BBOX)"
   ]
  },
  {
   "cell_type": "code",
   "execution_count": 25,
   "metadata": {
    "collapsed": false
   },
   "outputs": [
    {
     "name": "stdout",
     "output_type": "stream",
     "text": [
      "2016-11-09 22:41:17.957000\n",
      "2016-11-09 22:41:24.855000\n"
     ]
    }
   ],
   "source": [
    "def get_rltn_ids_given_polygon(rltns, polygon, osm_data):\n",
    "    print datetime.datetime.now()\n",
    "    rltn_ids = set()\n",
    "    for rltn in rltns:\n",
    "        try:\n",
    "            shpcltn = rltn2cltn(osm_data,rltn)\n",
    "        except Exception as e:\n",
    "            continue\n",
    "            \n",
    "        for shptype, objs in shpcltn.items():\n",
    "            for obj in objs:\n",
    "                if obj.intersects(polygon):\n",
    "                    rltn_ids.add(rltn.id)\n",
    "    print datetime.datetime.now()\n",
    "    return rltn_ids\n",
    "    \n",
    "DC_RLTN_IDS = get_rltn_ids_given_polygon(OSM_DC_BBOX.osm_objs[Relation], DC_POLY, OSM_DC_BBOX)"
   ]
  },
  {
   "cell_type": "code",
   "execution_count": 24,
   "metadata": {
    "collapsed": false
   },
   "outputs": [
    {
     "data": {
      "text/plain": [
       "(194767, 1652906, 2556)"
      ]
     },
     "execution_count": 24,
     "metadata": {},
     "output_type": "execute_result"
    }
   ],
   "source": [
    "len(DC_WAYS_IDS), len(DC_NODE_IDS), len(DC_RLTN_IDS)"
   ]
  },
  {
   "cell_type": "code",
   "execution_count": 26,
   "metadata": {
    "collapsed": true
   },
   "outputs": [],
   "source": [
    "DC_OSM_IDS = {'Node':DC_NODE_IDS, 'Way':DC_WAYS_IDS, 'Relation': DC_RLTN_IDS}"
   ]
  },
  {
   "cell_type": "code",
   "execution_count": 29,
   "metadata": {
    "collapsed": false
   },
   "outputs": [],
   "source": [
    "with open(OSM_DC_IDS_PATH, 'w') as f:\n",
    "    f.write(str(DC_OSM_IDS))"
   ]
  }
 ],
 "metadata": {
  "kernelspec": {
   "display_name": "Python 2",
   "language": "python",
   "name": "python2"
  },
  "language_info": {
   "codemirror_mode": {
    "name": "ipython",
    "version": 2
   },
   "file_extension": ".py",
   "mimetype": "text/x-python",
   "name": "python",
   "nbconvert_exporter": "python",
   "pygments_lexer": "ipython2",
   "version": "2.7.11"
  }
 },
 "nbformat": 4,
 "nbformat_minor": 0
}
