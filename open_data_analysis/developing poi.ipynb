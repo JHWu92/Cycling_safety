{
 "cells": [
  {
   "cell_type": "code",
   "execution_count": 15,
   "metadata": {
    "collapsed": true
   },
   "outputs": [],
   "source": [
    "import src.constants; reload(src.constants)\n",
    "from src.constants import fn_frsq_venues_dc, fn_segments_dc, epsg_dc\n",
    "from src.constants import fn_mapping_for_fs\n",
    "import geopandas as gp\n",
    "import pandas as pd"
   ]
  },
  {
   "cell_type": "markdown",
   "metadata": {},
   "source": [
    "# TODO\n",
    "1. [x] mapped frsq venues to poi categories, filter frsq venues by obj_near_segment\n",
    "2. [] mapped osm data to poi categories, filter osm data by obj_near_segment\n",
    "3. [] remove overlap between osm and frsq\n",
    "4. [] Visalization:\n",
    "    - [] poi categories distribution\n",
    "        1. [x] frsq venues near segments\n",
    "        2. [] osm venues near segments\n",
    "        3. [] final poi near segments(after removing overlap)\n",
    "    - [] poi categories spatial distribution"
   ]
  },
  {
   "cell_type": "code",
   "execution_count": 63,
   "metadata": {
    "collapsed": true
   },
   "outputs": [],
   "source": [
    "data_dir = 'data/'\n",
    "path_frsq_venues_dc = data_dir + fn_frsq_venues_dc\n",
    "path_mapping_for_fs = data_dir+fn_mapping_for_fs\n",
    "\n",
    "frsq_venues_dc = gp.read_file(path_frsq_venues_dc)"
   ]
  },
  {
   "cell_type": "code",
   "execution_count": 57,
   "metadata": {
    "collapsed": false
   },
   "outputs": [],
   "source": [
    "def mapping_for_fs(path_mapping_for_fs):\n",
    "    result = []\n",
    "    with open(path_mapping_for_fs) as f:\n",
    "        lvs = ['','','','','','','','','']\n",
    "        for line in f:\n",
    "            line = line.split('\\t')\n",
    "            lv = len(line)\n",
    "            node = line[-1].strip()\n",
    "            lvs[lv]=node\n",
    "            parent = '/'.join(lvs[:lv])\n",
    "            result.append([lv, node, parent, lvs[1]])\n",
    "    new_taxonomy = pd.DataFrame(result,columns=['lv','tag','parents','top_parent'])\n",
    "    return pd.Series(new_taxonomy.top_parent.values,index=new_taxonomy.tag).to_dict()\n",
    "\n"
   ]
  },
  {
   "cell_type": "code",
   "execution_count": 71,
   "metadata": {
    "collapsed": false
   },
   "outputs": [
    {
     "name": "stdout",
     "output_type": "stream",
     "text": [
      "===========mapping  frsq venues to poi categories===========\n",
      "venues without poi category: #venues=3139, #frsq_categories=63\n",
      "top ten frsq_categories {u'': 1447, u'Building': 882, u'TV Station': 11, u'Exhibit': 51, u'Moving Target': 121, u'Zoo': 14, u'Festival': 6, u'Conference': 7, u'Intersection': 55, u'Road': 450}\n",
      "mapped poi distribution {'professional service': 6620, 'transportation': 1927, 'cycling facilities': 165, 'food': 3937, 'residence': 1980, 'retail shop': 3753, 'nightlife spot': 1593, 'no category': 3139, 'art': 1007, 'schools&university': 1709, 'outdoors and recreation': 4357}\n"
     ]
    }
   ],
   "source": [
    "def map_frsq_venues_to_poi_category(frsq_venues_gpdf, path_mapping_for_fs, debug=False):\n",
    "    print '===========mapping  frsq venues to poi categories==========='\n",
    "    mapping = mapping_for_fs(path_mapping_for_fs)\n",
    "    frsq_poi = frsq_venues_gpdf.copy()\n",
    "    frsq_poi['mapped'] = frsq_poi.category.apply(lambda x: mapping[x.encode('utf-8')] if x.encode('utf-8') in mapping else 'no category')\n",
    "    \n",
    "    if debug:\n",
    "        unmapped = frsq_poi[frsq_poi.mapped=='no category']\n",
    "        print 'venues without poi category: #venues={}, #frsq_categories={}'.format(len(unmapped), len(pd.unique(unmapped.category)))\n",
    "        print 'top ten frsq_categories', unmapped.category.value_counts().head(10).to_dict()\n",
    "    frsq_poi = frsq_poi[['id','name','mapped','geometry']]\n",
    "    frsq_poi.columns = ['id','name','category','geometry']\n",
    "    return frsq_poi\n",
    "\n",
    "frsq_poi_dc = map_frsq_venues_to_poi_category(frsq_venues_dc, path_mapping_for_fs, debug=True)\n",
    "\n",
    "\n"
   ]
  },
  {
   "cell_type": "code",
   "execution_count": 76,
   "metadata": {
    "collapsed": false
   },
   "outputs": [
    {
     "name": "stdout",
     "output_type": "stream",
     "text": [
      " mapped poi distribution {'professional service': 6620, 'transportation': 1927, 'cycling facilities': 165, 'food': 3937, 'residence': 1980, 'retail shop': 3753, 'nightlife spot': 1593, 'no category': 3139, 'art': 1007, 'schools&university': 1709, 'outdoors and recreation': 4357}\n"
     ]
    }
   ],
   "source": [
    "def poi_distribution(frsq_poi, osm_poi=None, poi=None):\n",
    "    frsq_poi_distr = frsq_poi.category.value_counts()\n",
    "    frsq_poi_distr.index.name='category'\n",
    "    print 'mapped poi distribution', frsq_poi_distr.to_dict()\n",
    "poi_distribution(frsq_poi_dc)"
   ]
  }
 ],
 "metadata": {
  "kernelspec": {
   "display_name": "Python 2",
   "language": "python",
   "name": "python2"
  },
  "language_info": {
   "codemirror_mode": {
    "name": "ipython",
    "version": 2
   },
   "file_extension": ".py",
   "mimetype": "text/x-python",
   "name": "python",
   "nbconvert_exporter": "python",
   "pygments_lexer": "ipython2",
   "version": "2.7.11"
  }
 },
 "nbformat": 4,
 "nbformat_minor": 2
}
