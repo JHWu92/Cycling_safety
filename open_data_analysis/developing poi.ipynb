{
 "cells": [
  {
   "cell_type": "code",
   "execution_count": 15,
   "metadata": {
    "collapsed": true
   },
   "outputs": [],
   "source": [
    "import src.constants; reload(src.constants)\n",
    "from src.constants import fn_frsq_venues_dc, fn_segments_dc, epsg_dc\n",
    "from src.constants import fn_mapping_for_fs\n",
    "import geopandas as gp\n",
    "import pandas as pd"
   ]
  },
  {
   "cell_type": "code",
   "execution_count": 3,
   "metadata": {
    "collapsed": true
   },
   "outputs": [],
   "source": [
    "data_dir = 'data/'\n",
    "path_frsq_venues_dc = data_dir + fn_frsq_venues_dc\n",
    "path_mapping_for_fs = data_dir+fn_mapping_for_fs\n",
    "\n",
    "frsq_venues_dc = gp.read_file(path_frsq_venues_dc)"
   ]
  },
  {
   "cell_type": "code",
   "execution_count": 57,
   "metadata": {
    "collapsed": false
   },
   "outputs": [],
   "source": [
    "def mapping_for_fs(path_mapping_for_fs):\n",
    "    result = []\n",
    "    with open(path_mapping_for_fs) as f:\n",
    "        lvs = ['','','','','','','','','']\n",
    "        for line in f:\n",
    "            line = line.split('\\t')\n",
    "            lv = len(line)\n",
    "            node = line[-1].strip()\n",
    "            lvs[lv]=node\n",
    "            parent = '/'.join(lvs[:lv])\n",
    "            result.append([lv, node, parent, lvs[1]])\n",
    "    new_taxonomy = pd.DataFrame(result,columns=['lv','tag','parents','top_parent'])\n",
    "    return pd.Series(new_taxonomy.top_parent.values,index=new_taxonomy.tag).to_dict()\n",
    "\n"
   ]
  },
  {
   "cell_type": "code",
   "execution_count": 56,
   "metadata": {
    "collapsed": false
   },
   "outputs": [
    {
     "name": "stdout",
     "output_type": "stream",
     "text": [
      "===========mapping  frsq venues to poi categories===========\n",
      "venues without poi category: #venues=3139, #frsq_categories=63\n",
      "top ten frsq_categories {u'': 1447, u'Building': 882, u'TV Station': 11, u'Exhibit': 51, u'Moving Target': 121, u'Zoo': 14, u'Festival': 6, u'Conference': 7, u'Intersection': 55, u'Road': 450}\n",
      "mapped poi distribution {'professional service': 6620, 'transportation': 1927, 'cycling facilities': 165, 'food': 3937, 'residence': 1980, 'retail shop': 3753, 'nightlife spot': 1593, 'no category': 3139, 'art': 1007, 'schools&university': 1709, 'outdoors and recreation': 4357}\n"
     ]
    }
   ],
   "source": [
    "def map_frsq_venues_to_poi_category(frsq_venues_gpdf, path_mapping_for_fs, debug=False):\n",
    "    print '===========mapping  frsq venues to poi categories==========='\n",
    "    mapping = mapping_for_fs(path_mapping_for_fs)\n",
    "    frsq_venues_gpdf['mapped'] = frsq_venues_gpdf.category.apply(lambda x: mapping[x.encode('utf-8')] if x.encode('utf-8') in mapping else 'no category')\n",
    "    \n",
    "    if debug:\n",
    "        frsq_venues_gpdf_no_category = frsq_venues_gpdf[frsq_venues_gpdf.mapped=='no category']\n",
    "        print 'venues without poi category: #venues={}, #frsq_categories={}'.format(len(frsq_venues_gpdf_no_category), len(pd.unique(frsq_venues_gpdf_no_category.category)))\n",
    "        print 'top ten frsq_categories', frsq_venues_gpdf[frsq_venues_gpdf.mapped=='no category'].category.value_counts().head(10).to_dict()\n",
    "    \n",
    "    return frsq_venues_gpdf\n",
    "\n",
    "frsq_venues_gpdf = map_frsq_venues_to_poi_category(frsq_venues_dc, path_mapping_for_fs, debug=True)\n",
    "poi_distribution = frsq_venues_gpdf.mapped.value_counts()\n",
    "poi_distribution.index.name='category'\n",
    "print 'mapped poi distribution', poi_distribution.to_dict()\n",
    "\n"
   ]
  }
 ],
 "metadata": {
  "kernelspec": {
   "display_name": "Python 2",
   "language": "python",
   "name": "python2"
  },
  "language_info": {
   "codemirror_mode": {
    "name": "ipython",
    "version": 2
   },
   "file_extension": ".py",
   "mimetype": "text/x-python",
   "name": "python",
   "nbconvert_exporter": "python",
   "pygments_lexer": "ipython2",
   "version": "2.7.11"
  }
 },
 "nbformat": 4,
 "nbformat_minor": 2
}
