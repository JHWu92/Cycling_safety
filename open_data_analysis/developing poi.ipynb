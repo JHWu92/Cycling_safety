{
 "cells": [
  {
   "cell_type": "code",
   "execution_count": 1,
   "metadata": {
    "collapsed": false
   },
   "outputs": [],
   "source": [
    "import src.constants; reload(src.constants)\n",
    "from src.constants import fn_frsq_venues_dc, fn_segments_dc, epsg_dc\n",
    "from src.constants import fn_mapping_for_fs, fn_mapping_for_osm\n",
    "import geopandas as gp\n",
    "import pandas as pd"
   ]
  },
  {
   "cell_type": "markdown",
   "metadata": {},
   "source": [
    "# TODO\n",
    "1. [x] mapped frsq venues to poi categories, \n",
    "2. [] filter frsq venues by obj_near_segment\n",
    "2. [x] mapped osm data to poi categories\n",
    "4. [] filter osm data by obj_near_segment\n",
    "3. [] remove overlap between osm and frsq\n",
    "4. [] Visalization:\n",
    "    - [] poi categories distribution\n",
    "        1. [x] frsq venues near segments\n",
    "        2. [x] osm venues near segments\n",
    "        3. [] final poi near segments(after removing overlap)\n",
    "    - [] poi categories spatial distribution"
   ]
  },
  {
   "cell_type": "code",
   "execution_count": 2,
   "metadata": {
    "collapsed": true
   },
   "outputs": [],
   "source": [
    "data_dir = 'data/'\n",
    "path_frsq_venues_dc = data_dir + fn_frsq_venues_dc\n",
    "path_mapping_for_fs = data_dir+fn_mapping_for_fs\n",
    "path_mapping_for_osm = data_dir+fn_mapping_for_osm\n",
    "\n",
    "frsq_venues_dc = gp.read_file(path_frsq_venues_dc)"
   ]
  },
  {
   "cell_type": "code",
   "execution_count": 3,
   "metadata": {
    "collapsed": false
   },
   "outputs": [],
   "source": [
    "def mapping_for_fs(path_mapping_for_fs):\n",
    "    result = []\n",
    "    with open(path_mapping_for_fs) as f:\n",
    "        lvs = ['','','','','','','','','']\n",
    "        for line in f:\n",
    "            line = line.split('\\t')\n",
    "            lv = len(line)\n",
    "            node = line[-1].strip()\n",
    "            lvs[lv]=node\n",
    "            parent = '/'.join(lvs[:lv])\n",
    "            result.append([lv, node, parent, lvs[1]])\n",
    "    new_taxonomy = pd.DataFrame(result,columns=['lv','tag','parents','top_parent'])\n",
    "    return pd.Series(new_taxonomy.top_parent.values,index=new_taxonomy.tag).to_dict()\n",
    "\n"
   ]
  },
  {
   "cell_type": "code",
   "execution_count": 4,
   "metadata": {
    "collapsed": false
   },
   "outputs": [
    {
     "name": "stdout",
     "output_type": "stream",
     "text": [
      "===========mapping  frsq venues to poi categories===========\n",
      "venues without poi category: #venues=3139, #frsq_categories=63\n",
      "top ten frsq_categories {u'': 1447, u'Building': 882, u'TV Station': 11, u'Exhibit': 51, u'Moving Target': 121, u'Zoo': 14, u'Festival': 6, u'Conference': 7, u'Intersection': 55, u'Road': 450}\n"
     ]
    }
   ],
   "source": [
    "def map_frsq_venues_to_poi_category(frsq_venues_gpdf, path_mapping_for_fs, debug=False):\n",
    "    print '===========mapping  frsq venues to poi categories==========='\n",
    "    mapping = mapping_for_fs(path_mapping_for_fs)\n",
    "    poi_frsq = frsq_venues_gpdf.copy()\n",
    "    poi_frsq['mapped'] = poi_frsq.category.apply(lambda x: mapping[x.encode('utf-8')] if x.encode('utf-8') in mapping else 'no category')\n",
    "    \n",
    "    if debug:\n",
    "        unmapped = poi_frsq[poi_frsq.mapped=='no category']\n",
    "        print 'venues without poi category: #venues={}, #frsq_categories={}'.format(len(unmapped), len(pd.unique(unmapped.category)))\n",
    "        print 'top ten frsq_categories', unmapped.category.value_counts().head(10).to_dict()\n",
    "    poi_frsq = poi_frsq[['id','name','mapped','geometry']]\n",
    "    poi_frsq.columns = ['id','name','category','geometry']\n",
    "    return poi_frsq\n",
    "\n",
    "poi_frsq_dc = map_frsq_venues_to_poi_category(frsq_venues_dc, path_mapping_for_fs, debug=True)\n",
    "\n",
    "\n"
   ]
  },
  {
   "cell_type": "code",
   "execution_count": 5,
   "metadata": {
    "collapsed": false
   },
   "outputs": [],
   "source": [
    "def mapping_for_osm(path_mapping_for_osm):\n",
    "    result = []\n",
    "    with open(path_mapping_for_osm) as f:\n",
    "        category, key, value = '','',''\n",
    "        for line in f:\n",
    "            line_ = line\n",
    "            line = line.split('\\t')\n",
    "            type_ = len(line)\n",
    "            txt = line[-1].strip()\n",
    "            if type_==1:\n",
    "                category = txt\n",
    "            elif type_==2:\n",
    "                key = txt\n",
    "            elif type_==3:\n",
    "                value = txt\n",
    "                result.append([category, key, value])\n",
    "    new_taxonomy = pd.DataFrame(result,columns=['category', 'key', 'value'])\n",
    "    mapping = pd.Series(new_taxonomy.category.values, \n",
    "              index=new_taxonomy.apply(lambda x: '{}={}'.format(x.key, x.value), axis=1).values\n",
    "             ).to_dict()\n",
    "    return mapping\n"
   ]
  },
  {
   "cell_type": "code",
   "execution_count": 6,
   "metadata": {
    "collapsed": true
   },
   "outputs": [],
   "source": [
    "from src.constants import fn_osm_db_dc\n",
    "path_osm_db_dc = data_dir + fn_osm_db_dc"
   ]
  },
  {
   "cell_type": "code",
   "execution_count": 8,
   "metadata": {
    "collapsed": false
   },
   "outputs": [
    {
     "name": "stdout",
     "output_type": "stream",
     "text": [
      "===========mapping osm to poi category===========\n",
      "# rows in table tag  = 1484405\n",
      "# rows after mapping = 44060\n",
      "# objs have category = 32808\n",
      "# categories: # objs = {1: 32183, 2: 620, 3: 5}\n"
     ]
    }
   ],
   "source": [
    "def map_osm_to_poi_category(path_osm_db, path_mapping_for_osm, debug=True):\n",
    "    print '===========mapping osm to poi category==========='\n",
    "    from src.osm.osmdb_filter import filter_tbtag\n",
    "    from src.osm.osmdb_constants import FIELDS_TB_TAG\n",
    "    from src.constants import var_exclude_category_for_osm\n",
    "    assert FIELDS_TB_TAG==['ot', 'oid', 'key', 'value'], 'Assume fields of table tag are ot,oid,key,value'\n",
    "\n",
    "    rows = filter_tbtag(path_osm_db)\n",
    "\n",
    "    mapping = mapping_for_osm(path_mapping_for_osm)\n",
    "    mapped = []\n",
    "    for ot, oid, key, value in rows:\n",
    "        key_value = '{}={}'.format(key.encode('utf-8'), value.encode('utf-8'))\n",
    "        key_ = key + '=*'\n",
    "        category = ''\n",
    "        if key_value in mapping:\n",
    "            category = mapping[key_value]\n",
    "        elif key_ in mapping:\n",
    "            category = mapping[key_]\n",
    "        if category:\n",
    "            mapped.append((ot, oid, category))\n",
    "    \n",
    "    poi_osm = pd.DataFrame(mapped, columns=FIELDS_TB_TAG[:2]+['category'])\n",
    "    poi_osm = poi_osm[poi_osm.category!=var_exclude_category_for_osm].groupby(['ot','oid']).agg(set).reset_index()\n",
    "    \n",
    "    if debug:\n",
    "        print '# rows in table tag  =', len(rows)        \n",
    "        print '# rows after mapping =', len(mapped)\n",
    "        print '# objs have category =', len(poi_osm)\n",
    "        print '# categories: # objs =', poi_osm.category.apply(len).value_counts().to_dict()\n",
    "    return poi_osm\n",
    "\n",
    "poi_osm_dc = map_osm_to_poi_category(path_osm_db_dc, path_mapping_for_osm, debug=True)\n"
   ]
  },
  {
   "cell_type": "code",
   "execution_count": 10,
   "metadata": {
    "collapsed": false
   },
   "outputs": [
    {
     "name": "stdout",
     "output_type": "stream",
     "text": [
      "                   category    fs\n",
      "0      professional service  6620\n",
      "1   outdoors and recreation  4357\n",
      "2                      food  3937\n",
      "3               retail shop  3753\n",
      "4               no category  3139\n",
      "5                 residence  1980\n",
      "6            transportation  1927\n",
      "7        schools&university  1709\n",
      "8            nightlife spot  1593\n",
      "9                       art  1007\n",
      "10       cycling facilities   165\n",
      "                  category    osm\n",
      "0                      art    130\n",
      "1       cycling facilities  12646\n",
      "2                     food   1623\n",
      "3           nightlife spot    278\n",
      "4  outdoors and recreation   6037\n",
      "5     professional service   1449\n",
      "6                residence    583\n",
      "7              retail shop   1773\n",
      "8       schools&university    948\n",
      "9           transportation   7971\n",
      "                  category    fs    osm\n",
      "0     professional service  6620   1449\n",
      "1  outdoors and recreation  4357   6037\n",
      "2                     food  3937   1623\n",
      "3              retail shop  3753   1773\n",
      "4                residence  1980    583\n",
      "5           transportation  1927   7971\n",
      "6       schools&university  1709    948\n",
      "7           nightlife spot  1593    278\n",
      "8                      art  1007    130\n",
      "9       cycling facilities   165  12646\n"
     ]
    }
   ],
   "source": [
    "def poi_distribution(poi_frsq, poi_osm, poi=None):\n",
    "    import numpy as np\n",
    "    poi_frsq_distr = poi_frsq.category.value_counts().reset_index()\n",
    "    poi_frsq_distr.columns = ['category','fs']\n",
    "    categories, counts = np.unique(np.hstack(poi_osm.category.apply(list).apply(np.array).values), return_counts=True)\n",
    "    poi_osm_distr = pd.DataFrame(zip(categories,counts),columns=['category','osm'])\n",
    "    print poi_frsq_distr\n",
    "    print poi_osm_distr\n",
    "    print poi_frsq_distr.merge(poi_osm_distr)\n",
    "    \n",
    "poi_distribution(poi_frsq_dc, poi_osm_dc)"
   ]
  }
 ],
 "metadata": {
  "kernelspec": {
   "display_name": "Python 2",
   "language": "python",
   "name": "python2"
  },
  "language_info": {
   "codemirror_mode": {
    "name": "ipython",
    "version": 2
   },
   "file_extension": ".py",
   "mimetype": "text/x-python",
   "name": "python",
   "nbconvert_exporter": "python",
   "pygments_lexer": "ipython2",
   "version": "2.7.11"
  }
 },
 "nbformat": 4,
 "nbformat_minor": 2
}
