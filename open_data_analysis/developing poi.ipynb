{
 "cells": [
  {
   "cell_type": "markdown",
   "metadata": {},
   "source": [
    "# TODO:\n",
    "### update frsq poi mapping\n",
    "### assigning rltn tag to equal ln may not be a good idea. \n",
    "\n",
    "for exmaple, when the role of a way is inner(http://www.openstreetmap.org/way/48076826), meaning the the way serve a different function than rltn(http://www.openstreetmap.org/relation/381363)\n",
    "\n",
    "it seems that \"inner\" role is the only fallback\n",
    "\n",
    "examples:\n",
    "- set(['cycling facilities', 'retail shop']) http://www.openstreetmap.org/way/48076826 set(['transportation']) http://www.openstreetmap.org/relation/381363\n",
    "- set(['transportation']) http://www.openstreetmap.org/way/48081175 set(['outdoors and recreation']) http://www.openstreetmap.org/relation/3213622\n",
    "- set(['professional service']) http://www.openstreetmap.org/way/48085321 set(['transportation']) http://www.openstreetmap.org/relation/914244\n",
    "- set(['cycling facilities']) http://www.openstreetmap.org/way/48168497 set(['transportation']) http://www.openstreetmap.org/relation/383188\n",
    "- set(['cycling facilities']) http://www.openstreetmap.org/way/52303179 set(['transportation']) http://www.openstreetmap.org/relation/450333\n",
    "- set(['professional service']) http://www.openstreetmap.org/way/66417858 set(['outdoors and recreation']) http://www.openstreetmap.org/relation/3213622\n",
    "- set(['outdoors and recreation']) http://www.openstreetmap.org/way/173918307 set(['cycling facilities']) http://www.openstreetmap.org/relation/2322204\n",
    "- set(['outdoors and recreation']) http://www.openstreetmap.org/way/66418767 set(['cycling facilities']) http://www.openstreetmap.org/relation/2322204\n",
    "- set(['outdoors and recreation']) http://www.openstreetmap.org/way/237887425 set(['cycling facilities']) http://www.openstreetmap.org/relation/3205766\n",
    "- set(['outdoors and recreation']) http://www.openstreetmap.org/way/237887426 set(['cycling facilities']) http://www.openstreetmap.org/relation/3205766\n",
    "- set(['cycling facilities']) http://www.openstreetmap.org/way/203025090 set(['transportation']) http://www.openstreetmap.org/relation/2724481\n",
    "- set(['cycling facilities']) http://www.openstreetmap.org/way/288579359 set(['transportation']) http://www.openstreetmap.org/relation/5170966\n",
    "- set(['cycling facilities']) http://www.openstreetmap.org/way/288579359 set(['transportation']) http://www.openstreetmap.org/relation/5170968\n",
    "- set(['cycling facilities']) http://www.openstreetmap.org/way/288579359 set(['transportation']) http://www.openstreetmap.org/relation/5170967\n",
    "- set(['cycling facilities']) http://www.openstreetmap.org/way/288579360 set(['transportation']) http://www.openstreetmap.org/relation/5170968\n",
    "- set(['cycling facilities']) http://www.openstreetmap.org/way/288579360 set(['transportation']) http://www.openstreetmap.org/relation/5170966\n",
    "- set(['cycling facilities']) http://www.openstreetmap.org/way/288579360 set(['transportation']) http://www.openstreetmap.org/relation/5170967\n",
    "- set(['cycling facilities']) http://www.openstreetmap.org/way/296755159 set(['transportation']) http://www.openstreetmap.org/relation/2723927\n",
    "- set(['cycling facilities']) http://www.openstreetmap.org/way/296794684 set(['transportation']) http://www.openstreetmap.org/relation/2723927"
   ]
  },
  {
   "cell_type": "code",
   "execution_count": 37,
   "metadata": {
    "collapsed": false
   },
   "outputs": [],
   "source": [
    "import src.constants; reload(src.constants)\n",
    "from src.constants import fn_frsq_venues_dc, fn_segments_dc, epsg_dc, fn_osm_db_dc, fn_poi_frsq_dc, fn_poi_osm_dc\n",
    "from src.constants import fn_mapping_for_fs, fn_mapping_for_osm, poi_categories\n",
    "\n",
    "import src.geom_helper; reload(src.geom_helper)\n",
    "from src.geom_helper import bfr_20m, objs_near_segs, objs_near_segs_store, gpdf_equal\n",
    "\n",
    "import geopandas as gp\n",
    "import pandas as pd\n",
    "import numpy as np\n",
    "\n",
    "import src.poi; reload(src.poi)\n",
    "from src.poi import *"
   ]
  },
  {
   "cell_type": "markdown",
   "metadata": {},
   "source": [
    "# TODO\n",
    "\n",
    "1. [x] mapped frsq venues to poi categories --> filter frsq venues by obj_near_segment\n",
    "2. [x] mapped osm data to poi categories, filter osm data by obj_near_segment\n",
    "3. [x] remove overlap between osm and frsq\n",
    "4. [-] Visalization:\n",
    "    - [x] poi categories distribution\n",
    "        1. [x] frsq venues near segments\n",
    "        2. [x] osm venues near segments\n",
    "        3. [x] final poi near segments(after removing overlap)\n",
    "    - [] poi categories spatial distribution"
   ]
  },
  {
   "cell_type": "code",
   "execution_count": 2,
   "metadata": {
    "collapsed": true
   },
   "outputs": [],
   "source": [
    "data_dir = 'data/'\n",
    "path_frsq_venues_dc = data_dir + fn_frsq_venues_dc\n",
    "path_osm_db_dc = data_dir + fn_osm_db_dc\n",
    "path_segments_dc = data_dir + fn_segments_dc\n",
    "path_mapping_for_fs = data_dir+fn_mapping_for_fs\n",
    "path_mapping_for_osm = data_dir+fn_mapping_for_osm\n"
   ]
  },
  {
   "cell_type": "code",
   "execution_count": null,
   "metadata": {
    "collapsed": true
   },
   "outputs": [],
   "source": [
    "def poi_in_city(path_frsq, path_osm_db, path_segs, path_mapping_frsq, path_mapping_osm, debug=False):\n",
    "    frsq_venues = gp.read_file(path_frsq)\n",
    "    segs = gp.read_file(path_segs)\n",
    "    poi_frsq = map_frsq_venues_to_poi_category(frsq_venues, )\n",
    "    print '# venues in city=',poi_frsq_dc.shape[0]\n",
    "    \n",
    "    "
   ]
  },
  {
   "cell_type": "code",
   "execution_count": 3,
   "metadata": {
    "collapsed": false,
    "scrolled": true
   },
   "outputs": [
    {
     "name": "stdout",
     "output_type": "stream",
     "text": [
      "===========mapping  frsq venues to poi categories===========\n",
      "venues without poi category: #venues=3139, #frsq_categories=63\n",
      "top ten frsq_categories {u'': 1447, u'Building': 882, u'TV Station': 11, u'Exhibit': 51, u'Moving Target': 121, u'Zoo': 14, u'Festival': 6, u'Conference': 7, u'Intersection': 55, u'Road': 450}\n",
      "# venues in city= 30187\n"
     ]
    }
   ],
   "source": [
    "frsq_venues_dc = gp.read_file(path_frsq_venues_dc)\n",
    "segments_dc = gp.read_file(path_segments_dc)\n",
    "poi_frsq_dc = map_frsq_venues_to_poi_category(frsq_venues_dc, path_mapping_for_fs, debug=True)\n",
    "print '# venues in city=',poi_frsq_dc.shape[0]"
   ]
  },
  {
   "cell_type": "code",
   "execution_count": 4,
   "metadata": {
    "collapsed": false,
    "scrolled": true
   },
   "outputs": [
    {
     "name": "stdout",
     "output_type": "stream",
     "text": [
      "===========mapping osm to poi category===========\n",
      "# rows in table tag  = 1484405\n",
      "# rows after mapping = 44060\n",
      "# objs have category = 32808\n",
      "# objs have category by ot: {'R': 1079, 'W': 20010, 'N': 11719}\n",
      "# categories: # objs = {1: 32183, 2: 620, 3: 5}\n"
     ]
    },
    {
     "name": "stderr",
     "output_type": "stream",
     "text": [
      "d:\\program files\\anaconda2\\lib\\site-packages\\pandas\\core\\generic.py:2177: SettingWithCopyWarning: \n",
      "A value is trying to be set on a copy of a slice from a DataFrame\n",
      "\n",
      "See the the caveats in the documentation: http://pandas.pydata.org/pandas-docs/stable/indexing.html#indexing-view-versus-copy\n",
      "  self[name] = value\n"
     ]
    }
   ],
   "source": [
    "poi_osm_dc = map_osm_to_poi_category(path_osm_db_dc, path_mapping_for_osm, debug=True)\n",
    "poi_osm_pts_dc, poi_osm_ln_pls_dc = clean_and_split_poi_osm_by_geometry(poi_osm_dc)\n"
   ]
  },
  {
   "cell_type": "code",
   "execution_count": 5,
   "metadata": {
    "collapsed": false,
    "scrolled": true
   },
   "outputs": [
    {
     "name": "stdout",
     "output_type": "stream",
     "text": [
      "=====remove_osm_frsq_overlap=====\n",
      "# conn components(osm_pts connected with frsq):  2727\n",
      "# pairs of overlap (891, 13)\n",
      "# pairs by overlap criteria {'same category': 111, 'similar name': 780}\n",
      "distribution of # pairs of overlap within each connected component {1: 681, 2: 70, 3: 12, 4: 6, 5: 2}\n",
      "# overlap points in osm = 857, # points in fs = 873\n",
      "# independent points in osm = 10906, # points in fs = 29314\n",
      "# total points in osm = 11725, # points in fs = 30187\n"
     ]
    }
   ],
   "source": [
    "poi_pts_dc = remove_osm_frsq_overlap(poi_osm_pts_dc, poi_frsq_dc, path_osm_db_dc, epsg_dc)"
   ]
  },
  {
   "cell_type": "code",
   "execution_count": 6,
   "metadata": {
    "collapsed": false
   },
   "outputs": [],
   "source": [
    "poi_dc = poi_osm_ln_pls_dc.append(poi_pts_dc, ignore_index=True)"
   ]
  },
  {
   "cell_type": "code",
   "execution_count": 7,
   "metadata": {
    "collapsed": true
   },
   "outputs": [],
   "source": [
    "from src.geom_helper import crs_prepossess\n",
    "\n",
    "poi_frsq_dc_bfr = crs_prepossess(poi_frsq_dc, init_crs=4326, bfr_crs=epsg_dc)\n",
    "poi_osm_dc_bfr = crs_prepossess(poi_osm_dc, init_crs=4326, bfr_crs=epsg_dc)\n",
    "\n",
    "poi_frsq_dc_bfr.geometry = poi_frsq_dc_bfr.buffer(5)\n",
    "poi_osm_dc_bfr.geometry = poi_osm_dc_bfr.buffer(5)\n",
    "poi_frsq_dc_bfr = poi_frsq_dc_bfr.to_crs(epsg=4326)\n",
    "poi_osm_dc_bfr = poi_osm_dc_bfr.to_crs(epsg=4326)\n",
    "\n",
    "poi_frsq_near_seg_dc = objs_near_segs(poi_frsq_dc_bfr, segments_dc, bfr_20m, epsg_dc, output='objs')\n",
    "poi_osm_near_seg_dc = objs_near_segs(poi_osm_dc_bfr, segments_dc, bfr_20m, epsg_dc, output='objs')\n",
    "\n",
    "\n",
    "poi_near_seg_dc = objs_near_segs(poi_dc, segments_dc, bfr_20m, epsg_dc, output='objs')\n",
    "\n",
    "# print '# venues near segments=', poi_frsq_near_seg_dc.shape[0]\n",
    "# objs_near_segs_store(poi_frsq_near_seg_dc, data_dir, fn_poi_frsq_dc, fn_segments_dc)\n",
    "# print '# objs have category near seg by ot:', poi_osm_near_seg_dc.ot.value_counts().to_dict()\n",
    "# temp = poi_osm_near_seg_dc.copy()\n",
    "# temp.category = temp.category.apply(lambda x: str(x))\n",
    "# objs_near_segs_store(temp, data_dir, fn_poi_osm_dc, fn_segments_dc)\n",
    "# del temp"
   ]
  },
  {
   "cell_type": "code",
   "execution_count": 8,
   "metadata": {
    "collapsed": false,
    "scrolled": true
   },
   "outputs": [
    {
     "name": "stdout",
     "output_type": "stream",
     "text": [
      "# poi in dc = 64484, # poi near seg dc = 44668\n",
      "# objs have category near seg by ot: {'R': 1398, 'N_fq': 729, 'W': 14389, 'N': 8081}\n"
     ]
    }
   ],
   "source": [
    "print '# poi in dc = {}, # poi near seg dc = {}'.format(poi_dc.shape[0], poi_near_seg_dc.shape[0])\n",
    "print '# objs have category near seg by ot:', poi_near_seg_dc.ot.value_counts().to_dict()"
   ]
  },
  {
   "cell_type": "code",
   "execution_count": 9,
   "metadata": {
    "collapsed": false,
    "scrolled": true
   },
   "outputs": [
    {
     "data": {
      "text/html": [
       "<div>\n",
       "<table border=\"1\" class=\"dataframe\">\n",
       "  <thead>\n",
       "    <tr style=\"text-align: right;\">\n",
       "      <th></th>\n",
       "      <th>category</th>\n",
       "      <th>fs</th>\n",
       "      <th>osm</th>\n",
       "      <th>poi</th>\n",
       "      <th>fo</th>\n",
       "    </tr>\n",
       "  </thead>\n",
       "  <tbody>\n",
       "    <tr>\n",
       "      <th>0</th>\n",
       "      <td>professional service</td>\n",
       "      <td>4442</td>\n",
       "      <td>998</td>\n",
       "      <td>5373</td>\n",
       "      <td>5440</td>\n",
       "    </tr>\n",
       "    <tr>\n",
       "      <th>1</th>\n",
       "      <td>food</td>\n",
       "      <td>3132</td>\n",
       "      <td>1173</td>\n",
       "      <td>4065</td>\n",
       "      <td>4305</td>\n",
       "    </tr>\n",
       "    <tr>\n",
       "      <th>2</th>\n",
       "      <td>retail shop</td>\n",
       "      <td>2950</td>\n",
       "      <td>1342</td>\n",
       "      <td>4170</td>\n",
       "      <td>4292</td>\n",
       "    </tr>\n",
       "    <tr>\n",
       "      <th>3</th>\n",
       "      <td>outdoors and recreation</td>\n",
       "      <td>2590</td>\n",
       "      <td>3931</td>\n",
       "      <td>6418</td>\n",
       "      <td>6521</td>\n",
       "    </tr>\n",
       "    <tr>\n",
       "      <th>4</th>\n",
       "      <td>transportation</td>\n",
       "      <td>1489</td>\n",
       "      <td>5664</td>\n",
       "      <td>7134</td>\n",
       "      <td>7153</td>\n",
       "    </tr>\n",
       "    <tr>\n",
       "      <th>5</th>\n",
       "      <td>residence</td>\n",
       "      <td>1236</td>\n",
       "      <td>537</td>\n",
       "      <td>1741</td>\n",
       "      <td>1773</td>\n",
       "    </tr>\n",
       "    <tr>\n",
       "      <th>6</th>\n",
       "      <td>nightlife spot</td>\n",
       "      <td>1190</td>\n",
       "      <td>203</td>\n",
       "      <td>1352</td>\n",
       "      <td>1393</td>\n",
       "    </tr>\n",
       "    <tr>\n",
       "      <th>7</th>\n",
       "      <td>schools&amp;university</td>\n",
       "      <td>827</td>\n",
       "      <td>455</td>\n",
       "      <td>1270</td>\n",
       "      <td>1282</td>\n",
       "    </tr>\n",
       "    <tr>\n",
       "      <th>8</th>\n",
       "      <td>art</td>\n",
       "      <td>606</td>\n",
       "      <td>72</td>\n",
       "      <td>672</td>\n",
       "      <td>678</td>\n",
       "    </tr>\n",
       "    <tr>\n",
       "      <th>9</th>\n",
       "      <td>cycling facilities</td>\n",
       "      <td>153</td>\n",
       "      <td>10865</td>\n",
       "      <td>10905</td>\n",
       "      <td>11018</td>\n",
       "    </tr>\n",
       "  </tbody>\n",
       "</table>\n",
       "</div>"
      ],
      "text/plain": [
       "                  category    fs    osm    poi     fo\n",
       "0     professional service  4442    998   5373   5440\n",
       "1                     food  3132   1173   4065   4305\n",
       "2              retail shop  2950   1342   4170   4292\n",
       "3  outdoors and recreation  2590   3931   6418   6521\n",
       "4           transportation  1489   5664   7134   7153\n",
       "5                residence  1236    537   1741   1773\n",
       "6           nightlife spot  1190    203   1352   1393\n",
       "7       schools&university   827    455   1270   1282\n",
       "8                      art   606     72    672    678\n",
       "9       cycling facilities   153  10865  10905  11018"
      ]
     },
     "execution_count": 9,
     "metadata": {},
     "output_type": "execute_result"
    }
   ],
   "source": [
    "poi_distribution(poi_frsq_near_seg_dc, poi_osm_near_seg_dc,poi_near_seg_dc)"
   ]
  },
  {
   "cell_type": "code",
   "execution_count": 12,
   "metadata": {
    "collapsed": false
   },
   "outputs": [],
   "source": [
    "seg_poi_index, poi_near_seg_dc = objs_near_segs(poi_dc, segments_dc, bfr_20m, epsg_dc, output='index_and_objs')"
   ]
  },
  {
   "cell_type": "code",
   "execution_count": 24,
   "metadata": {
    "collapsed": false
   },
   "outputs": [
    {
     "data": {
      "text/html": [
       "<div>\n",
       "<table border=\"1\" class=\"dataframe\">\n",
       "  <thead>\n",
       "    <tr style=\"text-align: right;\">\n",
       "      <th></th>\n",
       "      <th>seg_index</th>\n",
       "      <th>obj_index</th>\n",
       "      <th>BEGINMEASURE</th>\n",
       "      <th>DIRECTIONALITY</th>\n",
       "      <th>ENDMEASURE</th>\n",
       "      <th>FACILITYID</th>\n",
       "      <th>FROMADDRESSLEFTTHEO</th>\n",
       "      <th>FROMADDRESSRIGHTTHEO</th>\n",
       "      <th>FROMNODEID</th>\n",
       "      <th>OBJECTID</th>\n",
       "      <th>...</th>\n",
       "      <th>SHAPE_Length</th>\n",
       "      <th>SOURCEID</th>\n",
       "      <th>STREETID</th>\n",
       "      <th>STREETSEGID</th>\n",
       "      <th>STREETTYPE</th>\n",
       "      <th>TOADDRESSLEFTTHEO</th>\n",
       "      <th>TOADDRESSRIGHTTHEO</th>\n",
       "      <th>TONODEID</th>\n",
       "      <th>UPDATETIMESTAMP</th>\n",
       "      <th>geometry</th>\n",
       "    </tr>\n",
       "  </thead>\n",
       "  <tbody>\n",
       "    <tr>\n",
       "      <th>0</th>\n",
       "      <td>0</td>\n",
       "      <td>27568</td>\n",
       "      <td>0</td>\n",
       "      <td>0</td>\n",
       "      <td>192.925133</td>\n",
       "      <td>SEGID-876</td>\n",
       "      <td>5000</td>\n",
       "      <td>5001</td>\n",
       "      <td>18637</td>\n",
       "      <td>1</td>\n",
       "      <td>...</td>\n",
       "      <td>192.925131</td>\n",
       "      <td>10010500</td>\n",
       "      <td>100010</td>\n",
       "      <td>876</td>\n",
       "      <td>ST</td>\n",
       "      <td>5098</td>\n",
       "      <td>5099</td>\n",
       "      <td>22102</td>\n",
       "      <td>2005-11-01T12:55:46</td>\n",
       "      <td>LINESTRING (-77.01239193659748 38.950836102255...</td>\n",
       "    </tr>\n",
       "    <tr>\n",
       "      <th>1</th>\n",
       "      <td>0</td>\n",
       "      <td>50299</td>\n",
       "      <td>0</td>\n",
       "      <td>0</td>\n",
       "      <td>192.925133</td>\n",
       "      <td>SEGID-876</td>\n",
       "      <td>5000</td>\n",
       "      <td>5001</td>\n",
       "      <td>18637</td>\n",
       "      <td>1</td>\n",
       "      <td>...</td>\n",
       "      <td>192.925131</td>\n",
       "      <td>10010500</td>\n",
       "      <td>100010</td>\n",
       "      <td>876</td>\n",
       "      <td>ST</td>\n",
       "      <td>5098</td>\n",
       "      <td>5099</td>\n",
       "      <td>22102</td>\n",
       "      <td>2005-11-01T12:55:46</td>\n",
       "      <td>LINESTRING (-77.01239193659748 38.950836102255...</td>\n",
       "    </tr>\n",
       "    <tr>\n",
       "      <th>2</th>\n",
       "      <td>0</td>\n",
       "      <td>536</td>\n",
       "      <td>0</td>\n",
       "      <td>0</td>\n",
       "      <td>192.925133</td>\n",
       "      <td>SEGID-876</td>\n",
       "      <td>5000</td>\n",
       "      <td>5001</td>\n",
       "      <td>18637</td>\n",
       "      <td>1</td>\n",
       "      <td>...</td>\n",
       "      <td>192.925131</td>\n",
       "      <td>10010500</td>\n",
       "      <td>100010</td>\n",
       "      <td>876</td>\n",
       "      <td>ST</td>\n",
       "      <td>5098</td>\n",
       "      <td>5099</td>\n",
       "      <td>22102</td>\n",
       "      <td>2005-11-01T12:55:46</td>\n",
       "      <td>LINESTRING (-77.01239193659748 38.950836102255...</td>\n",
       "    </tr>\n",
       "    <tr>\n",
       "      <th>3</th>\n",
       "      <td>1</td>\n",
       "      <td>32698</td>\n",
       "      <td>0</td>\n",
       "      <td>1</td>\n",
       "      <td>131.935650</td>\n",
       "      <td>SEGID-13161</td>\n",
       "      <td>5200</td>\n",
       "      <td>5203</td>\n",
       "      <td>20290</td>\n",
       "      <td>2</td>\n",
       "      <td>...</td>\n",
       "      <td>131.935677</td>\n",
       "      <td>10010520</td>\n",
       "      <td>100010</td>\n",
       "      <td>13161</td>\n",
       "      <td>ST</td>\n",
       "      <td>5298</td>\n",
       "      <td>5299</td>\n",
       "      <td>19814</td>\n",
       "      <td>2005-11-01T12:55:46</td>\n",
       "      <td>LINESTRING (-77.01163764014346 38.953383268855...</td>\n",
       "    </tr>\n",
       "    <tr>\n",
       "      <th>4</th>\n",
       "      <td>1</td>\n",
       "      <td>49971</td>\n",
       "      <td>0</td>\n",
       "      <td>1</td>\n",
       "      <td>131.935650</td>\n",
       "      <td>SEGID-13161</td>\n",
       "      <td>5200</td>\n",
       "      <td>5203</td>\n",
       "      <td>20290</td>\n",
       "      <td>2</td>\n",
       "      <td>...</td>\n",
       "      <td>131.935677</td>\n",
       "      <td>10010520</td>\n",
       "      <td>100010</td>\n",
       "      <td>13161</td>\n",
       "      <td>ST</td>\n",
       "      <td>5298</td>\n",
       "      <td>5299</td>\n",
       "      <td>19814</td>\n",
       "      <td>2005-11-01T12:55:46</td>\n",
       "      <td>LINESTRING (-77.01163764014346 38.953383268855...</td>\n",
       "    </tr>\n",
       "  </tbody>\n",
       "</table>\n",
       "<p>5 rows × 24 columns</p>\n",
       "</div>"
      ],
      "text/plain": [
       "   seg_index  obj_index  BEGINMEASURE  DIRECTIONALITY  ENDMEASURE  \\\n",
       "0          0      27568             0               0  192.925133   \n",
       "1          0      50299             0               0  192.925133   \n",
       "2          0        536             0               0  192.925133   \n",
       "3          1      32698             0               1  131.935650   \n",
       "4          1      49971             0               1  131.935650   \n",
       "\n",
       "    FACILITYID  FROMADDRESSLEFTTHEO  FROMADDRESSRIGHTTHEO  FROMNODEID  \\\n",
       "0    SEGID-876                 5000                  5001       18637   \n",
       "1    SEGID-876                 5000                  5001       18637   \n",
       "2    SEGID-876                 5000                  5001       18637   \n",
       "3  SEGID-13161                 5200                  5203       20290   \n",
       "4  SEGID-13161                 5200                  5203       20290   \n",
       "\n",
       "   OBJECTID                        ...                          SHAPE_Length  \\\n",
       "0         1                        ...                            192.925131   \n",
       "1         1                        ...                            192.925131   \n",
       "2         1                        ...                            192.925131   \n",
       "3         2                        ...                            131.935677   \n",
       "4         2                        ...                            131.935677   \n",
       "\n",
       "   SOURCEID STREETID  STREETSEGID  STREETTYPE TOADDRESSLEFTTHEO  \\\n",
       "0  10010500   100010          876          ST              5098   \n",
       "1  10010500   100010          876          ST              5098   \n",
       "2  10010500   100010          876          ST              5098   \n",
       "3  10010520   100010        13161          ST              5298   \n",
       "4  10010520   100010        13161          ST              5298   \n",
       "\n",
       "   TOADDRESSRIGHTTHEO  TONODEID      UPDATETIMESTAMP  \\\n",
       "0                5099     22102  2005-11-01T12:55:46   \n",
       "1                5099     22102  2005-11-01T12:55:46   \n",
       "2                5099     22102  2005-11-01T12:55:46   \n",
       "3                5299     19814  2005-11-01T12:55:46   \n",
       "4                5299     19814  2005-11-01T12:55:46   \n",
       "\n",
       "                                            geometry  \n",
       "0  LINESTRING (-77.01239193659748 38.950836102255...  \n",
       "1  LINESTRING (-77.01239193659748 38.950836102255...  \n",
       "2  LINESTRING (-77.01239193659748 38.950836102255...  \n",
       "3  LINESTRING (-77.01163764014346 38.953383268855...  \n",
       "4  LINESTRING (-77.01163764014346 38.953383268855...  \n",
       "\n",
       "[5 rows x 24 columns]"
      ]
     },
     "execution_count": 24,
     "metadata": {},
     "output_type": "execute_result"
    }
   ],
   "source": [
    "seg_poi_index.merge(segments_dc, left_on='seg_index', right_index=True).head()"
   ]
  },
  {
   "cell_type": "code",
   "execution_count": 21,
   "metadata": {
    "collapsed": true
   },
   "outputs": [],
   "source": [
    "def get_sum_categories(list_mapped):\n",
    "    from collections import defaultdict\n",
    "    sum_categories = defaultdict(int)\n",
    "    for mapped in list_mapped:\n",
    "        for c in list(mapped):\n",
    "            sum_categories[c]+=1\n",
    "    return sum_categories"
   ]
  },
  {
   "cell_type": "code",
   "execution_count": 27,
   "metadata": {
    "collapsed": false
   },
   "outputs": [],
   "source": [
    "seg_poi_index_category = seg_poi_index.merge(poi_near_seg_dc[['category']], left_on='obj_index', right_index=True)"
   ]
  },
  {
   "cell_type": "code",
   "execution_count": 29,
   "metadata": {
    "collapsed": false
   },
   "outputs": [],
   "source": [
    "poi_per_seg = {}\n",
    "for idx, grp in seg_poi_index_category.groupby('seg_index'):\n",
    "    poi_per_seg[idx] = dict(get_sum_categories(grp.category.values))\n"
   ]
  },
  {
   "cell_type": "code",
   "execution_count": 30,
   "metadata": {
    "collapsed": false
   },
   "outputs": [
    {
     "data": {
      "text/plain": [
       "(12530, (13522, 22))"
      ]
     },
     "execution_count": 30,
     "metadata": {},
     "output_type": "execute_result"
    }
   ],
   "source": [
    "len(poi_per_seg), segments_dc.shape"
   ]
  },
  {
   "cell_type": "code",
   "execution_count": 33,
   "metadata": {
    "collapsed": false
   },
   "outputs": [],
   "source": [
    "poi_per_seg = pd.DataFrame(poi_per_seg.items(),columns=['seg_index','category'])"
   ]
  },
  {
   "cell_type": "code",
   "execution_count": 34,
   "metadata": {
    "collapsed": true
   },
   "outputs": [],
   "source": [
    "poi_per_seg['total'] = poi_per_seg.category.apply(lambda x: sum(x.values()) if type(x)!=float else 0)"
   ]
  },
  {
   "cell_type": "code",
   "execution_count": 38,
   "metadata": {
    "collapsed": false
   },
   "outputs": [],
   "source": [
    "for l in poi_categories:\n",
    "    poi_per_seg[l] = poi_per_seg.category.apply(lambda x: x.get(l,0) if type(x)!=float else 0)"
   ]
  },
  {
   "cell_type": "code",
   "execution_count": 40,
   "metadata": {
    "collapsed": false
   },
   "outputs": [],
   "source": [
    "poi_per_seg.drop('category',axis=1,inplace=True)"
   ]
  }
 ],
 "metadata": {
  "kernelspec": {
   "display_name": "Python 2",
   "language": "python",
   "name": "python2"
  },
  "language_info": {
   "codemirror_mode": {
    "name": "ipython",
    "version": 2
   },
   "file_extension": ".py",
   "mimetype": "text/x-python",
   "name": "python",
   "nbconvert_exporter": "python",
   "pygments_lexer": "ipython2",
   "version": "2.7.11"
  }
 },
 "nbformat": 4,
 "nbformat_minor": 2
}
