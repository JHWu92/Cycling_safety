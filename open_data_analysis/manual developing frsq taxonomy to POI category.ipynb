{
 "cells": [
  {
   "cell_type": "markdown",
   "metadata": {},
   "source": [
    "# use the output taxonomy tree to manually assign poi category"
   ]
  },
  {
   "cell_type": "code",
   "execution_count": 184,
   "metadata": {
    "collapsed": false
   },
   "outputs": [
    {
     "ename": "TypeError",
     "evalue": "parse_frsq_taxonomy() got an unexpected keyword argument 'max_level'",
     "output_type": "error",
     "traceback": [
      "\u001b[0;31m---------------------------------------------------------------------------\u001b[0m",
      "\u001b[0;31mTypeError\u001b[0m                                 Traceback (most recent call last)",
      "\u001b[0;32m<ipython-input-184-dd24acc14a4f>\u001b[0m in \u001b[0;36m<module>\u001b[0;34m()\u001b[0m\n\u001b[1;32m      5\u001b[0m \u001b[0mfrsq_taxonomy_csv_path\u001b[0m \u001b[1;33m=\u001b[0m \u001b[0mdata_dir\u001b[0m \u001b[1;33m+\u001b[0m \u001b[0mfn_frsq_taxonomy_csv\u001b[0m\u001b[1;33m\u001b[0m\u001b[0m\n\u001b[1;32m      6\u001b[0m \u001b[0mfrsq_taxonomy_tree_path\u001b[0m \u001b[1;33m=\u001b[0m \u001b[0mdata_dir\u001b[0m \u001b[1;33m+\u001b[0m \u001b[0mfn_frsq_taxonomy_tree\u001b[0m\u001b[1;33m\u001b[0m\u001b[0m\n\u001b[0;32m----> 7\u001b[0;31m \u001b[0mparse_frsq_taxonomy\u001b[0m\u001b[1;33m(\u001b[0m\u001b[0mfrsq_taxonomy_json_path\u001b[0m\u001b[1;33m,\u001b[0m \u001b[0mfrsq_taxonomy_csv_path\u001b[0m\u001b[1;33m,\u001b[0m \u001b[0mfrsq_taxonomy_tree_path\u001b[0m\u001b[1;33m,\u001b[0m \u001b[0mmax_level\u001b[0m\u001b[1;33m=\u001b[0m\u001b[1;36m6\u001b[0m\u001b[1;33m)\u001b[0m\u001b[1;33m\u001b[0m\u001b[0m\n\u001b[0m",
      "\u001b[0;31mTypeError\u001b[0m: parse_frsq_taxonomy() got an unexpected keyword argument 'max_level'"
     ]
    }
   ],
   "source": [
    "# parse FourSquare Taxonomy\n",
    "from src.constants import fn_frsq_taxonomy_json, fn_frsq_taxonomy_csv, fn_frsq_taxonomy_tree, fn_mapping_for_fs\n",
    "data_dir = 'data/'\n",
    "frsq_taxonomy_json_path = data_dir + fn_frsq_taxonomy_json\n",
    "frsq_taxonomy_csv_path = data_dir + fn_frsq_taxonomy_csv\n",
    "frsq_taxonomy_tree_path = data_dir + fn_frsq_taxonomy_tree\n",
    "parse_frsq_taxonomy(frsq_taxonomy_json_path, frsq_taxonomy_csv_path, frsq_taxonomy_tree_path, max_level=6)"
   ]
  },
  {
   "cell_type": "markdown",
   "metadata": {},
   "source": [
    "# check missing, output \"to_be_done\" file with \"unmapped\" category"
   ]
  },
  {
   "cell_type": "code",
   "execution_count": 1,
   "metadata": {
    "collapsed": true
   },
   "outputs": [],
   "source": [
    "path_existing_mapping = 'data/manual/poi_mapping_for_fs_v1.txt'\n",
    "from src.ftr_poi import mapping_for_fs"
   ]
  },
  {
   "cell_type": "code",
   "execution_count": 35,
   "metadata": {
    "collapsed": false
   },
   "outputs": [],
   "source": [
    "existing_mapping = mapping_for_fs(path_existing_mapping, False)"
   ]
  },
  {
   "cell_type": "code",
   "execution_count": 36,
   "metadata": {
    "collapsed": false
   },
   "outputs": [],
   "source": [
    "tree = mapping_for_fs(frsq_taxonomy_tree_path, False)"
   ]
  },
  {
   "cell_type": "code",
   "execution_count": 37,
   "metadata": {
    "collapsed": false
   },
   "outputs": [
    {
     "name": "stdout",
     "output_type": "stream",
     "text": [
      "(886, 4)\n"
     ]
    },
    {
     "data": {
      "text/html": [
       "<div>\n",
       "<table border=\"1\" class=\"dataframe\">\n",
       "  <thead>\n",
       "    <tr style=\"text-align: right;\">\n",
       "      <th></th>\n",
       "      <th>lv</th>\n",
       "      <th>tag</th>\n",
       "      <th>parents</th>\n",
       "      <th>top_parent</th>\n",
       "    </tr>\n",
       "  </thead>\n",
       "  <tbody>\n",
       "    <tr>\n",
       "      <th>0</th>\n",
       "      <td>2</td>\n",
       "      <td>Arts &amp; Entertainment</td>\n",
       "      <td>/</td>\n",
       "      <td></td>\n",
       "    </tr>\n",
       "    <tr>\n",
       "      <th>1</th>\n",
       "      <td>3</td>\n",
       "      <td>Amphitheater</td>\n",
       "      <td>//Arts &amp; Entertainment</td>\n",
       "      <td></td>\n",
       "    </tr>\n",
       "    <tr>\n",
       "      <th>2</th>\n",
       "      <td>3</td>\n",
       "      <td>Aquarium</td>\n",
       "      <td>//Arts &amp; Entertainment</td>\n",
       "      <td></td>\n",
       "    </tr>\n",
       "    <tr>\n",
       "      <th>3</th>\n",
       "      <td>3</td>\n",
       "      <td>Arcade</td>\n",
       "      <td>//Arts &amp; Entertainment</td>\n",
       "      <td></td>\n",
       "    </tr>\n",
       "    <tr>\n",
       "      <th>4</th>\n",
       "      <td>3</td>\n",
       "      <td>Art Gallery</td>\n",
       "      <td>//Arts &amp; Entertainment</td>\n",
       "      <td></td>\n",
       "    </tr>\n",
       "  </tbody>\n",
       "</table>\n",
       "</div>"
      ],
      "text/plain": [
       "   lv                   tag                 parents top_parent\n",
       "0   2  Arts & Entertainment                       /           \n",
       "1   3          Amphitheater  //Arts & Entertainment           \n",
       "2   3              Aquarium  //Arts & Entertainment           \n",
       "3   3                Arcade  //Arts & Entertainment           \n",
       "4   3           Art Gallery  //Arts & Entertainment           "
      ]
     },
     "execution_count": 37,
     "metadata": {},
     "output_type": "execute_result"
    }
   ],
   "source": [
    "print tree.shape\n",
    "tree.head()"
   ]
  },
  {
   "cell_type": "code",
   "execution_count": 45,
   "metadata": {
    "collapsed": false
   },
   "outputs": [
    {
     "name": "stdout",
     "output_type": "stream",
     "text": [
      "(521, 4)\n"
     ]
    },
    {
     "data": {
      "text/html": [
       "<div>\n",
       "<table border=\"1\" class=\"dataframe\">\n",
       "  <thead>\n",
       "    <tr style=\"text-align: right;\">\n",
       "      <th></th>\n",
       "      <th>lv</th>\n",
       "      <th>tag</th>\n",
       "      <th>parents</th>\n",
       "      <th>top_parent</th>\n",
       "    </tr>\n",
       "  </thead>\n",
       "  <tbody>\n",
       "    <tr>\n",
       "      <th>0</th>\n",
       "      <td>1</td>\n",
       "      <td>cycling facilities</td>\n",
       "      <td></td>\n",
       "      <td>cycling facilities</td>\n",
       "    </tr>\n",
       "    <tr>\n",
       "      <th>1</th>\n",
       "      <td>2</td>\n",
       "      <td>Bike Rental / Bike Share</td>\n",
       "      <td>/cycling facilities</td>\n",
       "      <td>cycling facilities</td>\n",
       "    </tr>\n",
       "    <tr>\n",
       "      <th>2</th>\n",
       "      <td>1</td>\n",
       "      <td>transportation</td>\n",
       "      <td></td>\n",
       "      <td>transportation</td>\n",
       "    </tr>\n",
       "    <tr>\n",
       "      <th>3</th>\n",
       "      <td>2</td>\n",
       "      <td>Bus Station</td>\n",
       "      <td>/transportation</td>\n",
       "      <td>transportation</td>\n",
       "    </tr>\n",
       "    <tr>\n",
       "      <th>4</th>\n",
       "      <td>3</td>\n",
       "      <td>Bus Line</td>\n",
       "      <td>/transportation/Bus Station</td>\n",
       "      <td>transportation</td>\n",
       "    </tr>\n",
       "  </tbody>\n",
       "</table>\n",
       "</div>"
      ],
      "text/plain": [
       "   lv                       tag                      parents  \\\n",
       "0   1        cycling facilities                                \n",
       "1   2  Bike Rental / Bike Share          /cycling facilities   \n",
       "2   1            transportation                                \n",
       "3   2               Bus Station              /transportation   \n",
       "4   3                  Bus Line  /transportation/Bus Station   \n",
       "\n",
       "           top_parent  \n",
       "0  cycling facilities  \n",
       "1  cycling facilities  \n",
       "2      transportation  \n",
       "3      transportation  \n",
       "4      transportation  "
      ]
     },
     "execution_count": 45,
     "metadata": {},
     "output_type": "execute_result"
    }
   ],
   "source": [
    "print existing_mapping.shape\n",
    "existing_mapping.head()"
   ]
  },
  {
   "cell_type": "code",
   "execution_count": 99,
   "metadata": {
    "collapsed": false
   },
   "outputs": [],
   "source": [
    "merged = tree.merge(existing_mapping, left_on='tag', right_on='tag', how='left')"
   ]
  },
  {
   "cell_type": "code",
   "execution_count": 100,
   "metadata": {
    "collapsed": false
   },
   "outputs": [],
   "source": [
    "merged['top_parent'] = merged.top_parent_y.fillna('unmapped')"
   ]
  },
  {
   "cell_type": "code",
   "execution_count": 166,
   "metadata": {
    "collapsed": true
   },
   "outputs": [],
   "source": [
    "def get_path(row):\n",
    "    path = row.parents_x.split('/')[1:]\n",
    "    path[0] = row.top_parent\n",
    "    path.append(row.tag)\n",
    "    return path\n",
    "\n",
    "def add_path(d, path):\n",
    "    if len(path)>1:\n",
    "        p0 = path[0]\n",
    "        if not p0 in d:\n",
    "            d[p0] = {}\n",
    "        add_path(d[p0], path[1:])\n",
    "    else:\n",
    "        d[path[0]] = {}\n",
    "\n",
    "def depth_first(name, d, level=-1):\n",
    "    if not d:\n",
    "        return [level*'\\t'+name]\n",
    "    rows = [level*'\\t'+name] if level!=-1 else []\n",
    "    for sub_name, sub_d in d.items():\n",
    "        rows.extend(depth_first(sub_name, sub_d, level+1))\n",
    "    return rows"
   ]
  },
  {
   "cell_type": "code",
   "execution_count": 170,
   "metadata": {
    "collapsed": true
   },
   "outputs": [],
   "source": [
    "merged['path'] = merged.apply(get_path, axis=1)"
   ]
  },
  {
   "cell_type": "code",
   "execution_count": 172,
   "metadata": {
    "collapsed": false,
    "scrolled": true
   },
   "outputs": [],
   "source": [
    "with open('data/manual/frsq_poi_mapping_to_be_done.csv', 'w') as f:\n",
    "    for c, grp in merged.groupby('top_parent'):\n",
    "        if c!='unmapped':\n",
    "            f.write(c+'\\n')\n",
    "            for t in grp.tag.values:\n",
    "                f.write('\\t'+t+'\\n')\n",
    "        else:\n",
    "            unmapped_paths = {}\n",
    "            for a in grp.path.values:\n",
    "                add_path(unmapped_paths, a)\n",
    "            rows = depth_first('', unmapped_paths)\n",
    "            for r in rows:\n",
    "                f.write(r+'\\n')"
   ]
  },
  {
   "cell_type": "markdown",
   "metadata": {},
   "source": [
    "# copy to be done to xmind, then classify unmapped frsq categories"
   ]
  },
  {
   "cell_type": "code",
   "execution_count": 159,
   "metadata": {
    "collapsed": true
   },
   "outputs": [],
   "source": [
    "to_be_done = mapping_for_fs('data/manual/frsq_poi_mapping_to_be_done.csv', False)\n",
    "\n",
    "a = to_be_done[['tag', 'top_parent']].merge(merged[['tag', 'top_parent']], left_on='tag', right_on='tag')\n",
    "\n",
    "(a.top_parent_x==a.top_parent_y).value_counts()"
   ]
  },
  {
   "cell_type": "markdown",
   "metadata": {},
   "source": [
    "# check duplicates after manually processing unmapped"
   ]
  },
  {
   "cell_type": "code",
   "execution_count": 185,
   "metadata": {
    "collapsed": true
   },
   "outputs": [],
   "source": [
    "new_mapping = mapping_for_fs(data_dir+fn_mapping_for_fs,False)"
   ]
  },
  {
   "cell_type": "code",
   "execution_count": 186,
   "metadata": {
    "collapsed": false
   },
   "outputs": [
    {
     "name": "stdout",
     "output_type": "stream",
     "text": [
      "(897L,)\n"
     ]
    },
    {
     "data": {
      "text/plain": [
       "Meyhane                      1\n",
       "Botanical Garden             1\n",
       "Town                         1\n",
       "Candy Store                  1\n",
       "Pier                         1\n",
       "Non-Profit                   1\n",
       "Luggage Store                1\n",
       "Train Station                1\n",
       "Betawinese Restaurant        1\n",
       "Scenic Lookout               1\n",
       "Print Shop                   1\n",
       "Hyderabadi Restaurant        1\n",
       "Outlet Store                 1\n",
       "Indonesian Meatball Place    1\n",
       "Basketball Stadium           1\n",
       "Clothing Store               1\n",
       "Warehouse                    1\n",
       "Romanian Restaurant          1\n",
       "Roller Rink                  1\n",
       "nightlife spot               1\n",
       "Platform                     1\n",
       "Butcher                      1\n",
       "Museum                       1\n",
       "College Tennis Court         1\n",
       "Karnataka Restaurant         1\n",
       "Creperie                     1\n",
       "Seafood Restaurant           1\n",
       "Bagel Shop                   1\n",
       "Chiropractor                 1\n",
       "Border Crossing              1\n",
       "                            ..\n",
       "Lounge                       1\n",
       "Skating Rink                 1\n",
       "Kofte Place                  1\n",
       "Terreiro                     1\n",
       "Indie Movie Theater          1\n",
       "College Library              1\n",
       "Trentino Restaurant          1\n",
       "Housing Development          1\n",
       "Frame Store                  1\n",
       "College Auditorium           1\n",
       "Burmese Restaurant           1\n",
       "Yunnan Restaurant            1\n",
       "College Rec Center           1\n",
       "Roman Restaurant             1\n",
       "Circus School                1\n",
       "Latin American Restaurant    1\n",
       "College Theater              1\n",
       "Bunsik Restaurant            1\n",
       "Squash Court                 1\n",
       "Himalayan Restaurant         1\n",
       "Language School              1\n",
       "Empada House                 1\n",
       "Henan Restaurant             1\n",
       "Casino                       1\n",
       "Soba Restaurant              1\n",
       "Gymnastics Gym               1\n",
       "Fondue Restaurant            1\n",
       "Soccer Stadium               1\n",
       "Irani Cafe                   1\n",
       "College Arts Building        1\n",
       "dtype: int64"
      ]
     },
     "execution_count": 186,
     "metadata": {},
     "output_type": "execute_result"
    }
   ],
   "source": [
    "print new_mapping.tag.value_counts().shape\n",
    "new_mapping.tag.value_counts()"
   ]
  }
 ],
 "metadata": {
  "kernelspec": {
   "display_name": "Python 2",
   "language": "python",
   "name": "python2"
  },
  "language_info": {
   "codemirror_mode": {
    "name": "ipython",
    "version": 2
   },
   "file_extension": ".py",
   "mimetype": "text/x-python",
   "name": "python",
   "nbconvert_exporter": "python",
   "pygments_lexer": "ipython2",
   "version": "2.7.11"
  }
 },
 "nbformat": 4,
 "nbformat_minor": 2
}
