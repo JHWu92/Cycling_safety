{
 "cells": [
  {
   "cell_type": "code",
   "execution_count": 11,
   "metadata": {
    "collapsed": false
   },
   "outputs": [
    {
     "data": {
      "text/plain": [
       "'osm_db_dc.sqlite3'"
      ]
     },
     "execution_count": 11,
     "metadata": {},
     "output_type": "execute_result"
    }
   ],
   "source": [
    "from src.constants import fn_osm_db_dc\n",
    "fn_osm_db_dc"
   ]
  },
  {
   "cell_type": "code",
   "execution_count": 44,
   "metadata": {
    "collapsed": true
   },
   "outputs": [],
   "source": [
    "osm_db_dc = 'data/'+fn_osm_db_dc"
   ]
  },
  {
   "cell_type": "code",
   "execution_count": 45,
   "metadata": {
    "collapsed": false
   },
   "outputs": [
    {
     "data": {
      "image/svg+xml": [
       "<svg xmlns=\"http://www.w3.org/2000/svg\" xmlns:xlink=\"http://www.w3.org/1999/xlink\" width=\"100.0\" height=\"100.0\" viewBox=\"-77.9926346 37.8812125 2.0 2.0\" preserveAspectRatio=\"xMinYMin meet\"><g transform=\"matrix(1,0,0,-1,0,77.762425)\"><circle cx=\"-76.9926346\" cy=\"38.8812125\" r=\"0.06\" stroke=\"#555555\" stroke-width=\"0.02\" fill=\"#66cc99\" opacity=\"0.6\" /></g></svg>"
      ],
      "text/plain": [
       "<shapely.geometry.point.Point at 0xc475518>"
      ]
     },
     "execution_count": 45,
     "metadata": {},
     "output_type": "execute_result"
    }
   ],
   "source": [
    "import sqlite3\n",
    "from src.osm.osm2db import create_connection, TB_GEOM, TB_MMBR, TB_TAG\n",
    "from shapely.wkb import loads as load_wkb_str\n",
    "def get_geom_by_otoid(osm_db,ot,oid):\n",
    "    sql = \"SELECT * FROM {tb} WHERE ot='{ot}' AND oid={oid}\".format(tb=TB_GEOM, ot=ot, oid=oid)\n",
    "    with create_connection(osm_db) as conn:\n",
    "        conn.text_factory = str\n",
    "        cursor = conn.cursor()\n",
    "        cursor.execute(sql)\n",
    "        rows = cursor.fetchall()\n",
    "    assert len(rows)<=1, 'fetch data by ot={} oid={} with more than one row'.format(ot, oid)\n",
    "    if len(rows)==1: return load_wkb_str(rows[0][2])\n",
    "    print 'no geometry match ot={}, oid={} in db: {}'.format(ot, oid, osm_db)\n",
    "    return None\n",
    "\n",
    "geom = get_geom_by_otoid(osm_db_dc, 'N',30066952)\n",
    "geom "
   ]
  },
  {
   "cell_type": "code",
   "execution_count": 103,
   "metadata": {
    "collapsed": true
   },
   "outputs": [],
   "source": [
    "def exec_sql(osm_db, sql):\n",
    "    with create_connection(osm_db) as conn:\n",
    "        cursor = conn.cursor()\n",
    "        cursor.execute(sql)\n",
    "        rows = cursor.fetchall()\n",
    "    return rows"
   ]
  },
  {
   "cell_type": "code",
   "execution_count": 148,
   "metadata": {
    "collapsed": false,
    "scrolled": false
   },
   "outputs": [],
   "source": [
    "def filter_tbtag(osm_db, in_tags=((None,None),), ex_tags=((None,None),), ot=None):\n",
    "    sql = \"SELECT * FROM {tb}\".format(tb=TB_TAG) # tag=(*,*), any objs with any tag\n",
    "    assert isinstance(in_tags[0],tuple) or isinstance(in_tags[0],list), 'elements of tags should be tuple or list, tags={}'.format(in_tags)\n",
    "    assert isinstance(ex_tags[0],tuple) or isinstance(ex_tags[0],list), 'elements of ex_tags should be tuple or list, tags={}'.format(ex_tags)\n",
    "    \n",
    "    def build_clause(tags):\n",
    "        clause = []\n",
    "        for key, value in tags:\n",
    "            if key:\n",
    "                if value==None:  # tag:some_k=*\n",
    "                    clause.append(\"key='{}'\".format(key))\n",
    "                elif not isinstance(value, list) and not isinstance(value, tuple):  # tag:some_k=some_v\n",
    "                    clause.append(\"key='{}' and value='{}'\".format(key, value))\n",
    "                else:\n",
    "                    v_clause = ' or '.join([\"value='{}'\".format(v) for v in value])\n",
    "                    clause.append(\"key='{}' and ({})\".format(key, v_clause))    \n",
    "        return clause\n",
    "    \n",
    "    in_tags_clause = build_clause(in_tags)\n",
    "    ex_tags_clause = build_clause(ex_tags)\n",
    "\n",
    "    where_clause = []\n",
    "    if ot: where_clause.append(\"ot='{}'\".format(ot))\n",
    "    if in_tags_clause: where_clause.append('(' + ') or ('.join(in_tags_clause) + ')')\n",
    "    if ex_tags_clause: where_clause.append('not((' + ') or ('.join(ex_tags_clause) + '))')\n",
    "    where_clause = ') AND ('.join(where_clause)\n",
    "    sql = '{sql} WHERE ({where})'.format(sql=sql, where=where_clause) if where_clause else sql\n",
    "\n",
    "    print sql\n",
    "    rows = exec_sql(osm_db, sql)\n",
    "    df = pd.DataFrame(rows, columns=['ot','oid','key','value'])\n",
    "    print '# rows', len(rows)\n",
    "    print 'ot:', pd.unique(df.ot)\n",
    "    if len(pd.unique(df.key))<3:\n",
    "        print 'keys:',pd.unique(df.key)\n",
    "        for key in pd.unique(df.key):\n",
    "            print 'key =',key, 'value:', pd.unique(df[df.key==key].value)\n",
    "    print '==========================='\n",
    "    print \n"
   ]
  },
  {
   "cell_type": "code",
   "execution_count": 149,
   "metadata": {
    "collapsed": false
   },
   "outputs": [
    {
     "name": "stdout",
     "output_type": "stream",
     "text": [
      "SELECT * FROM tag\n",
      "# rows 1484405\n",
      "ot: [u'N' u'W' u'R']\n",
      "===========================\n",
      "\n",
      "SELECT * FROM tag WHERE (ot='N')\n",
      "# rows 157884\n",
      "ot: [u'N']\n",
      "===========================\n",
      "\n",
      "SELECT * FROM tag WHERE ((key='highway'))\n",
      "# rows 23232\n",
      "ot: [u'N' u'W' u'R']\n",
      "keys: [u'highway']\n",
      "key = highway value: [u'stop' u'crossing' u'traffic_signals' u'give_way' u'motorway_junction'\n",
      " u'turning_circle' u'mini_roundabout' u'turning_loop' u'speed_camera'\n",
      " u'bus_stop' u'emergency_access_point' u'elevator' u'milestone'\n",
      " u'residential' u'footway' u'secondary' u'primary_link' u'tertiary'\n",
      " u'primary' u'trunk' u'unclassified' u'motorway' u'trunk_link'\n",
      " u'motorway_link' u'service' u'secondary_link' u'tertiary_link' u'path'\n",
      " u'pedestrian' u'cycleway' u'steps' u'construction' u'track' u'services'\n",
      " u'yes' u'living_street' u'bridleway']\n",
      "===========================\n",
      "\n",
      "SELECT * FROM tag WHERE (ot='N') AND ((key='highway'))\n",
      "# rows 4703\n",
      "ot: [u'N']\n",
      "keys: [u'highway']\n",
      "key = highway value: [u'stop' u'crossing' u'traffic_signals' u'give_way' u'motorway_junction'\n",
      " u'turning_circle' u'mini_roundabout' u'turning_loop' u'speed_camera'\n",
      " u'bus_stop' u'emergency_access_point' u'elevator' u'milestone']\n",
      "===========================\n",
      "\n",
      "SELECT * FROM tag WHERE (ot='N') AND ((key='highway' and value='stop'))\n",
      "# rows 404\n",
      "ot: [u'N']\n",
      "keys: [u'highway']\n",
      "key = highway value: [u'stop']\n",
      "===========================\n",
      "\n",
      "SELECT * FROM tag WHERE (ot='N') AND ((key='highway' and (value='stop' or value='traffic_signals' or value='crossing')))\n",
      "# rows 4217\n",
      "ot: [u'N']\n",
      "keys: [u'highway']\n",
      "key = highway value: [u'stop' u'crossing' u'traffic_signals']\n",
      "===========================\n",
      "\n",
      "SELECT * FROM tag WHERE (ot='N') AND ((key='traffic_signals' and value='signal'))\n",
      "# rows 176\n",
      "ot: [u'N']\n",
      "keys: [u'traffic_signals']\n",
      "key = traffic_signals value: [u'signal']\n",
      "===========================\n",
      "\n",
      "SELECT * FROM tag WHERE (ot='N') AND ((key='highway' and (value='stop' or value='traffic_signals' or value='crossing')) or (key='traffic_signals' and value='signal'))\n",
      "# rows 4393\n",
      "ot: [u'N']\n",
      "keys: [u'highway' u'traffic_signals']\n",
      "key = highway value: [u'stop' u'crossing' u'traffic_signals']\n",
      "key = traffic_signals value: [u'signal']\n",
      "===========================\n",
      "\n",
      "SELECT * FROM tag WHERE (ot='N') AND ((key='highway' and (value='stop' or value='traffic_signals' or value='crossing')) or (key='traffic_signals' and value='signal')) AND (not((key='highway' and value='stop')))\n",
      "# rows 3989\n",
      "ot: [u'N']\n",
      "keys: [u'highway' u'traffic_signals']\n",
      "key = highway value: [u'crossing' u'traffic_signals']\n",
      "key = traffic_signals value: [u'signal']\n",
      "===========================\n",
      "\n",
      "SELECT * FROM tag WHERE (ot='N') AND ((key='highway' and value='stop'))\n",
      "# rows 404\n",
      "ot: [u'N']\n",
      "keys: [u'highway']\n",
      "key = highway value: [u'stop']\n",
      "===========================\n",
      "\n",
      "SELECT * FROM tag WHERE (ot='N') AND ((key='highway' and (value='stop' or value='traffic_signals' or value='crossing')) or (key='traffic_signals' and value='signal')) AND (not((key='highway' and (value='stop' or value='crossing'))))\n",
      "# rows 1630\n",
      "ot: [u'N']\n",
      "keys: [u'highway' u'traffic_signals']\n",
      "key = highway value: [u'traffic_signals']\n",
      "key = traffic_signals value: [u'signal']\n",
      "===========================\n",
      "\n",
      "SELECT * FROM tag WHERE (ot='N') AND ((key='highway' and (value='stop' or value='crossing')))\n",
      "# rows 2763\n",
      "ot: [u'N']\n",
      "keys: [u'highway']\n",
      "key = highway value: [u'stop' u'crossing']\n",
      "===========================\n",
      "\n",
      "SELECT * FROM tag WHERE (ot='N') AND ((key='highway' and (value='stop' or value='traffic_signals' or value='crossing')) or (key='traffic_signals' and (value='signal' or value='crossing')))\n",
      "# rows 4395\n",
      "ot: [u'N']\n",
      "keys: [u'highway' u'traffic_signals']\n",
      "key = highway value: [u'stop' u'crossing' u'traffic_signals']\n",
      "key = traffic_signals value: [u'signal' u'crossing']\n",
      "===========================\n",
      "\n",
      "SELECT * FROM tag WHERE (ot='N') AND ((key='highway' and (value='stop' or value='traffic_signals' or value='crossing')) or (key='traffic_signals' and (value='signal' or value='crossing'))) AND (not((key='highway' and (value='stop' or value='crossing')) or (key='traffic_signals' and value='signal')))\n",
      "# rows 1456\n",
      "ot: [u'N']\n",
      "keys: [u'highway' u'traffic_signals']\n",
      "key = highway value: [u'traffic_signals']\n",
      "key = traffic_signals value: [u'crossing']\n",
      "===========================\n",
      "\n",
      "SELECT * FROM tag WHERE (ot='N') AND ((key='highway' and (value='stop' or value='crossing')) or (key='traffic_signals' and value='signal'))\n",
      "# rows 2939\n",
      "ot: [u'N']\n",
      "keys: [u'highway' u'traffic_signals']\n",
      "key = highway value: [u'stop' u'crossing']\n",
      "key = traffic_signals value: [u'signal']\n",
      "===========================\n",
      "\n"
     ]
    }
   ],
   "source": [
    "\n",
    "# Test cases\n",
    "filter_tbtag(osm_db_dc)  # no where clause\n",
    "filter_tbtag(osm_db_dc, ot='N')  # only where ot=ot\n",
    "filter_tbtag(osm_db_dc, in_tags=(('highway', None ),))  # only in_tags, has key\n",
    "filter_tbtag(osm_db_dc, in_tags=(('highway', None ),), ot='N')  # ot + in_tags(has key)\n",
    "filter_tbtag(osm_db_dc, in_tags=(('highway', 'stop' ),), ot='N')  # ot + in_tags(some_k=some_v)\n",
    "\n",
    "filter_tbtag(osm_db_dc, in_tags=(('highway', ('stop','traffic_signals','crossing')),), ot='N')  # ot + in_tags(multiple values of some_k)\n",
    "filter_tbtag(osm_db_dc, in_tags=(('traffic_signals', 'signal'),), ot='N')  # for comparision of whether multiple keys works as expected\n",
    "filter_tbtag(osm_db_dc, in_tags=(('highway', ('stop','traffic_signals','crossing')),('traffic_signals', 'signal')), ot='N')  # ot + in_tags(multiple keys, multiple values for one key)\n",
    "\n",
    "filter_tbtag(osm_db_dc, in_tags=(('highway', ('stop','traffic_signals','crossing')),('traffic_signals', 'signal')), ex_tags=(('highway','stop'),), ot='N')  # ot + in_tags + ex_tags(some_k=some_v)\n",
    "filter_tbtag(osm_db_dc, in_tags=(('highway','stop'),), ot='N')  # for comparision of whether ex_tags(some_k=some_v) works as expected\n",
    "\n",
    "filter_tbtag(osm_db_dc, in_tags=(('highway', ('stop','traffic_signals','crossing')),('traffic_signals', 'signal')), ex_tags=(('highway',['stop','crossing']),), ot='N')  # ot + in_tags + ex_tags(multiple values of some_k)\n",
    "filter_tbtag(osm_db_dc, in_tags=(('highway',['stop','crossing']),), ot='N')  # for comparision of whether ex_tags(multiple values of some_k) works as expected\n",
    "\n",
    "filter_tbtag(osm_db_dc, in_tags=(('highway', ('stop','traffic_signals','crossing')),('traffic_signals', ['signal','crossing'])), ot='N')  # for comparision\n",
    "filter_tbtag(osm_db_dc, in_tags=(('highway', ('stop','traffic_signals','crossing')),('traffic_signals', ['signal','crossing'])), ex_tags=(('highway',['stop','crossing']),('traffic_signals','signal')), ot='N')  # ot+in_tags+ex_tags(multiple keys and multiple values)\n",
    "filter_tbtag(osm_db_dc, in_tags=(('highway',['stop','crossing']),('traffic_signals','signal')), ot='N')  # for comparision"
   ]
  },
  {
   "cell_type": "code",
   "execution_count": null,
   "metadata": {
    "collapsed": true
   },
   "outputs": [],
   "source": []
  },
  {
   "cell_type": "code",
   "execution_count": 4,
   "metadata": {
    "collapsed": true
   },
   "outputs": [],
   "source": [
    "%load_ext sql"
   ]
  },
  {
   "cell_type": "code",
   "execution_count": 7,
   "metadata": {
    "collapsed": false
   },
   "outputs": [
    {
     "data": {
      "text/plain": [
       "u'Connected: None@data/osm_db_dc.sqlite3'"
      ]
     },
     "execution_count": 7,
     "metadata": {},
     "output_type": "execute_result"
    }
   ],
   "source": [
    "%sql sqlite:///data/osm_db_dc.sqlite3"
   ]
  },
  {
   "cell_type": "code",
   "execution_count": 23,
   "metadata": {
    "collapsed": false
   },
   "outputs": [
    {
     "name": "stdout",
     "output_type": "stream",
     "text": [
      "Done.\n"
     ]
    },
    {
     "data": {
      "text/html": [
       "<table>\n",
       "    <tr>\n",
       "        <th>ot</th>\n",
       "        <th>oid</th>\n",
       "    </tr>\n",
       "    <tr>\n",
       "        <td>N</td>\n",
       "        <td>30066952</td>\n",
       "    </tr>\n",
       "</table>"
      ],
      "text/plain": [
       "[(u'N', 30066952)]"
      ]
     },
     "execution_count": 23,
     "metadata": {},
     "output_type": "execute_result"
    }
   ],
   "source": [
    "%%sql\n",
    "SELECT ot, oid FROM geometry WHERE ot='N' AND oid=30066952"
   ]
  },
  {
   "cell_type": "code",
   "execution_count": 136,
   "metadata": {
    "collapsed": false
   },
   "outputs": [
    {
     "name": "stdout",
     "output_type": "stream",
     "text": [
      "Done.\n"
     ]
    },
    {
     "data": {
      "text/html": [
       "<div>\n",
       "<table border=\"1\" class=\"dataframe\">\n",
       "  <thead>\n",
       "    <tr style=\"text-align: right;\">\n",
       "      <th></th>\n",
       "      <th>ot</th>\n",
       "      <th>oid</th>\n",
       "      <th>key</th>\n",
       "      <th>value</th>\n",
       "    </tr>\n",
       "  </thead>\n",
       "  <tbody>\n",
       "    <tr>\n",
       "      <th>0</th>\n",
       "      <td>N</td>\n",
       "      <td>49716545</td>\n",
       "      <td>traffic_signals</td>\n",
       "      <td>signal</td>\n",
       "    </tr>\n",
       "    <tr>\n",
       "      <th>1</th>\n",
       "      <td>N</td>\n",
       "      <td>49716602</td>\n",
       "      <td>traffic_signals</td>\n",
       "      <td>signal</td>\n",
       "    </tr>\n",
       "    <tr>\n",
       "      <th>2</th>\n",
       "      <td>N</td>\n",
       "      <td>49716610</td>\n",
       "      <td>traffic_signals</td>\n",
       "      <td>signal</td>\n",
       "    </tr>\n",
       "    <tr>\n",
       "      <th>3</th>\n",
       "      <td>N</td>\n",
       "      <td>49718775</td>\n",
       "      <td>traffic_signals</td>\n",
       "      <td>signal</td>\n",
       "    </tr>\n",
       "    <tr>\n",
       "      <th>4</th>\n",
       "      <td>N</td>\n",
       "      <td>49718816</td>\n",
       "      <td>traffic_signals</td>\n",
       "      <td>signal</td>\n",
       "    </tr>\n",
       "    <tr>\n",
       "      <th>5</th>\n",
       "      <td>N</td>\n",
       "      <td>49723816</td>\n",
       "      <td>traffic_signals</td>\n",
       "      <td>signal</td>\n",
       "    </tr>\n",
       "    <tr>\n",
       "      <th>6</th>\n",
       "      <td>N</td>\n",
       "      <td>49724285</td>\n",
       "      <td>traffic_signals</td>\n",
       "      <td>signal</td>\n",
       "    </tr>\n",
       "    <tr>\n",
       "      <th>7</th>\n",
       "      <td>N</td>\n",
       "      <td>49730831</td>\n",
       "      <td>traffic_signals</td>\n",
       "      <td>signal</td>\n",
       "    </tr>\n",
       "    <tr>\n",
       "      <th>8</th>\n",
       "      <td>N</td>\n",
       "      <td>49731188</td>\n",
       "      <td>traffic_signals</td>\n",
       "      <td>signal</td>\n",
       "    </tr>\n",
       "    <tr>\n",
       "      <th>9</th>\n",
       "      <td>N</td>\n",
       "      <td>49731194</td>\n",
       "      <td>traffic_signals</td>\n",
       "      <td>signal</td>\n",
       "    </tr>\n",
       "  </tbody>\n",
       "</table>\n",
       "</div>"
      ],
      "text/plain": [
       "  ot       oid              key   value\n",
       "0  N  49716545  traffic_signals  signal\n",
       "1  N  49716602  traffic_signals  signal\n",
       "2  N  49716610  traffic_signals  signal\n",
       "3  N  49718775  traffic_signals  signal\n",
       "4  N  49718816  traffic_signals  signal\n",
       "5  N  49723816  traffic_signals  signal\n",
       "6  N  49724285  traffic_signals  signal\n",
       "7  N  49730831  traffic_signals  signal\n",
       "8  N  49731188  traffic_signals  signal\n",
       "9  N  49731194  traffic_signals  signal"
      ]
     },
     "execution_count": 136,
     "metadata": {},
     "output_type": "execute_result"
    }
   ],
   "source": [
    "result = %sql SELECT DISTINCT * FROM tag WHERE (ot='N') AND ((key='traffic_signals'))\n",
    "df = result.DataFrame()\n",
    "df.sort('oid').head(10)"
   ]
  },
  {
   "cell_type": "code",
   "execution_count": 101,
   "metadata": {
    "collapsed": false
   },
   "outputs": [
    {
     "name": "stdout",
     "output_type": "stream",
     "text": [
      "Done.\n"
     ]
    },
    {
     "data": {
      "text/html": [
       "<div>\n",
       "<table border=\"1\" class=\"dataframe\">\n",
       "  <thead>\n",
       "    <tr style=\"text-align: right;\">\n",
       "      <th></th>\n",
       "      <th>ot</th>\n",
       "      <th>oid</th>\n",
       "      <th>key</th>\n",
       "      <th>value</th>\n",
       "    </tr>\n",
       "  </thead>\n",
       "  <tbody>\n",
       "    <tr>\n",
       "      <th>0</th>\n",
       "      <td>N</td>\n",
       "      <td>49715946</td>\n",
       "      <td>highway</td>\n",
       "      <td>stop</td>\n",
       "    </tr>\n",
       "    <tr>\n",
       "      <th>1</th>\n",
       "      <td>N</td>\n",
       "      <td>49715951</td>\n",
       "      <td>highway</td>\n",
       "      <td>stop</td>\n",
       "    </tr>\n",
       "    <tr>\n",
       "      <th>2</th>\n",
       "      <td>N</td>\n",
       "      <td>49715974</td>\n",
       "      <td>highway</td>\n",
       "      <td>stop</td>\n",
       "    </tr>\n",
       "    <tr>\n",
       "      <th>3</th>\n",
       "      <td>N</td>\n",
       "      <td>49716545</td>\n",
       "      <td>highway</td>\n",
       "      <td>traffic_signals</td>\n",
       "    </tr>\n",
       "    <tr>\n",
       "      <th>4</th>\n",
       "      <td>N</td>\n",
       "      <td>49716545</td>\n",
       "      <td>traffic_signals</td>\n",
       "      <td>signal</td>\n",
       "    </tr>\n",
       "    <tr>\n",
       "      <th>5</th>\n",
       "      <td>N</td>\n",
       "      <td>49716602</td>\n",
       "      <td>highway</td>\n",
       "      <td>traffic_signals</td>\n",
       "    </tr>\n",
       "    <tr>\n",
       "      <th>6</th>\n",
       "      <td>N</td>\n",
       "      <td>49716602</td>\n",
       "      <td>traffic_signals</td>\n",
       "      <td>signal</td>\n",
       "    </tr>\n",
       "    <tr>\n",
       "      <th>7</th>\n",
       "      <td>N</td>\n",
       "      <td>49716610</td>\n",
       "      <td>highway</td>\n",
       "      <td>traffic_signals</td>\n",
       "    </tr>\n",
       "    <tr>\n",
       "      <th>8</th>\n",
       "      <td>N</td>\n",
       "      <td>49716610</td>\n",
       "      <td>traffic_signals</td>\n",
       "      <td>signal</td>\n",
       "    </tr>\n",
       "    <tr>\n",
       "      <th>9</th>\n",
       "      <td>N</td>\n",
       "      <td>49716662</td>\n",
       "      <td>highway</td>\n",
       "      <td>traffic_signals</td>\n",
       "    </tr>\n",
       "  </tbody>\n",
       "</table>\n",
       "</div>"
      ],
      "text/plain": [
       "  ot       oid              key            value\n",
       "0  N  49715946          highway             stop\n",
       "1  N  49715951          highway             stop\n",
       "2  N  49715974          highway             stop\n",
       "3  N  49716545          highway  traffic_signals\n",
       "4  N  49716545  traffic_signals           signal\n",
       "5  N  49716602          highway  traffic_signals\n",
       "6  N  49716602  traffic_signals           signal\n",
       "7  N  49716610          highway  traffic_signals\n",
       "8  N  49716610  traffic_signals           signal\n",
       "9  N  49716662          highway  traffic_signals"
      ]
     },
     "execution_count": 101,
     "metadata": {},
     "output_type": "execute_result"
    }
   ],
   "source": [
    "result = %sql SELECT DISTINCT * FROM tag WHERE (ot='N') AND ((key='highway' and (value='stop' or value='traffic_signals')) or (key='traffic_signals' and value='signal'))\n",
    "df = result.DataFrame()\n",
    "df.sort('oid').head(10)"
   ]
  },
  {
   "cell_type": "code",
   "execution_count": 137,
   "metadata": {
    "collapsed": false
   },
   "outputs": [
    {
     "name": "stdout",
     "output_type": "stream",
     "text": [
      "[u'N']\n",
      "[u'traffic_signals']\n",
      "[]\n",
      "[u'signal' u'crossing']\n"
     ]
    }
   ],
   "source": [
    "print pd.unique(df.ot)\n",
    "print pd.unique(df.key)\n",
    "print pd.unique(df[df.key=='highway'].value)\n",
    "print pd.unique(df[df.key=='traffic_signals'].value)"
   ]
  },
  {
   "cell_type": "code",
   "execution_count": 94,
   "metadata": {
    "collapsed": false
   },
   "outputs": [
    {
     "name": "stdout",
     "output_type": "stream",
     "text": [
      "Done.\n"
     ]
    },
    {
     "data": {
      "text/html": [
       "<div>\n",
       "<table border=\"1\" class=\"dataframe\">\n",
       "  <thead>\n",
       "    <tr style=\"text-align: right;\">\n",
       "      <th></th>\n",
       "      <th>ot</th>\n",
       "      <th>oid</th>\n",
       "      <th>key</th>\n",
       "      <th>value</th>\n",
       "    </tr>\n",
       "  </thead>\n",
       "  <tbody>\n",
       "    <tr>\n",
       "      <th>0</th>\n",
       "      <td>N</td>\n",
       "      <td>49715946</td>\n",
       "      <td>highway</td>\n",
       "      <td>stop</td>\n",
       "    </tr>\n",
       "    <tr>\n",
       "      <th>1</th>\n",
       "      <td>N</td>\n",
       "      <td>49715951</td>\n",
       "      <td>highway</td>\n",
       "      <td>stop</td>\n",
       "    </tr>\n",
       "    <tr>\n",
       "      <th>2</th>\n",
       "      <td>N</td>\n",
       "      <td>49715974</td>\n",
       "      <td>highway</td>\n",
       "      <td>stop</td>\n",
       "    </tr>\n",
       "    <tr>\n",
       "      <th>3</th>\n",
       "      <td>N</td>\n",
       "      <td>49716326</td>\n",
       "      <td>highway</td>\n",
       "      <td>crossing</td>\n",
       "    </tr>\n",
       "    <tr>\n",
       "      <th>4</th>\n",
       "      <td>N</td>\n",
       "      <td>49716545</td>\n",
       "      <td>highway</td>\n",
       "      <td>traffic_signals</td>\n",
       "    </tr>\n",
       "    <tr>\n",
       "      <th>5</th>\n",
       "      <td>N</td>\n",
       "      <td>49716602</td>\n",
       "      <td>highway</td>\n",
       "      <td>traffic_signals</td>\n",
       "    </tr>\n",
       "    <tr>\n",
       "      <th>6</th>\n",
       "      <td>N</td>\n",
       "      <td>49716610</td>\n",
       "      <td>highway</td>\n",
       "      <td>traffic_signals</td>\n",
       "    </tr>\n",
       "    <tr>\n",
       "      <th>7</th>\n",
       "      <td>N</td>\n",
       "      <td>49716662</td>\n",
       "      <td>highway</td>\n",
       "      <td>traffic_signals</td>\n",
       "    </tr>\n",
       "    <tr>\n",
       "      <th>8</th>\n",
       "      <td>N</td>\n",
       "      <td>49716664</td>\n",
       "      <td>highway</td>\n",
       "      <td>crossing</td>\n",
       "    </tr>\n",
       "    <tr>\n",
       "      <th>9</th>\n",
       "      <td>N</td>\n",
       "      <td>49716680</td>\n",
       "      <td>highway</td>\n",
       "      <td>traffic_signals</td>\n",
       "    </tr>\n",
       "  </tbody>\n",
       "</table>\n",
       "</div>"
      ],
      "text/plain": [
       "  ot       oid      key            value\n",
       "0  N  49715946  highway             stop\n",
       "1  N  49715951  highway             stop\n",
       "2  N  49715974  highway             stop\n",
       "3  N  49716326  highway         crossing\n",
       "4  N  49716545  highway  traffic_signals\n",
       "5  N  49716602  highway  traffic_signals\n",
       "6  N  49716610  highway  traffic_signals\n",
       "7  N  49716662  highway  traffic_signals\n",
       "8  N  49716664  highway         crossing\n",
       "9  N  49716680  highway  traffic_signals"
      ]
     },
     "execution_count": 94,
     "metadata": {},
     "output_type": "execute_result"
    }
   ],
   "source": [
    "result = %sql SELECT DISTINCT * FROM tag WHERE ((key='highway'))\n",
    "\n",
    "df = result.DataFrame()\n",
    "\n",
    "df.head(10)"
   ]
  },
  {
   "cell_type": "code",
   "execution_count": 81,
   "metadata": {
    "collapsed": false
   },
   "outputs": [
    {
     "name": "stdout",
     "output_type": "stream",
     "text": [
      "Done.\n"
     ]
    },
    {
     "data": {
      "text/html": [
       "<div>\n",
       "<table border=\"1\" class=\"dataframe\">\n",
       "  <thead>\n",
       "    <tr style=\"text-align: right;\">\n",
       "      <th></th>\n",
       "      <th>ot</th>\n",
       "      <th>oid</th>\n",
       "      <th>key</th>\n",
       "      <th>value</th>\n",
       "    </tr>\n",
       "  </thead>\n",
       "  <tbody>\n",
       "    <tr>\n",
       "      <th>0</th>\n",
       "      <td>N</td>\n",
       "      <td>30066952</td>\n",
       "      <td>created_by</td>\n",
       "      <td>JOSM</td>\n",
       "    </tr>\n",
       "    <tr>\n",
       "      <th>1</th>\n",
       "      <td>N</td>\n",
       "      <td>30066953</td>\n",
       "      <td>created_by</td>\n",
       "      <td>JOSM</td>\n",
       "    </tr>\n",
       "    <tr>\n",
       "      <th>2</th>\n",
       "      <td>N</td>\n",
       "      <td>30066954</td>\n",
       "      <td>created_by</td>\n",
       "      <td>JOSM</td>\n",
       "    </tr>\n",
       "    <tr>\n",
       "      <th>3</th>\n",
       "      <td>N</td>\n",
       "      <td>30066955</td>\n",
       "      <td>created_by</td>\n",
       "      <td>JOSM</td>\n",
       "    </tr>\n",
       "    <tr>\n",
       "      <th>4</th>\n",
       "      <td>N</td>\n",
       "      <td>49715946</td>\n",
       "      <td>highway</td>\n",
       "      <td>stop</td>\n",
       "    </tr>\n",
       "    <tr>\n",
       "      <th>5</th>\n",
       "      <td>N</td>\n",
       "      <td>49715951</td>\n",
       "      <td>highway</td>\n",
       "      <td>stop</td>\n",
       "    </tr>\n",
       "    <tr>\n",
       "      <th>6</th>\n",
       "      <td>N</td>\n",
       "      <td>49715974</td>\n",
       "      <td>highway</td>\n",
       "      <td>stop</td>\n",
       "    </tr>\n",
       "    <tr>\n",
       "      <th>7</th>\n",
       "      <td>N</td>\n",
       "      <td>49716326</td>\n",
       "      <td>highway</td>\n",
       "      <td>crossing</td>\n",
       "    </tr>\n",
       "    <tr>\n",
       "      <th>8</th>\n",
       "      <td>N</td>\n",
       "      <td>49716545</td>\n",
       "      <td>traffic_signals</td>\n",
       "      <td>signal</td>\n",
       "    </tr>\n",
       "    <tr>\n",
       "      <th>9</th>\n",
       "      <td>N</td>\n",
       "      <td>49716545</td>\n",
       "      <td>highway</td>\n",
       "      <td>traffic_signals</td>\n",
       "    </tr>\n",
       "  </tbody>\n",
       "</table>\n",
       "</div>"
      ],
      "text/plain": [
       "  ot       oid              key            value\n",
       "0  N  30066952       created_by             JOSM\n",
       "1  N  30066953       created_by             JOSM\n",
       "2  N  30066954       created_by             JOSM\n",
       "3  N  30066955       created_by             JOSM\n",
       "4  N  49715946          highway             stop\n",
       "5  N  49715951          highway             stop\n",
       "6  N  49715974          highway             stop\n",
       "7  N  49716326          highway         crossing\n",
       "8  N  49716545  traffic_signals           signal\n",
       "9  N  49716545          highway  traffic_signals"
      ]
     },
     "execution_count": 81,
     "metadata": {},
     "output_type": "execute_result"
    }
   ],
   "source": [
    "result = %sql select * from tag limit 10000\n",
    "\n",
    "df = result.DataFrame()\n",
    "\n",
    "df.head(10)"
   ]
  },
  {
   "cell_type": "code",
   "execution_count": null,
   "metadata": {
    "collapsed": true
   },
   "outputs": [],
   "source": []
  },
  {
   "cell_type": "code",
   "execution_count": null,
   "metadata": {
    "collapsed": true
   },
   "outputs": [],
   "source": []
  }
 ],
 "metadata": {
  "kernelspec": {
   "display_name": "Python 2",
   "language": "python",
   "name": "python2"
  },
  "language_info": {
   "codemirror_mode": {
    "name": "ipython",
    "version": 2
   },
   "file_extension": ".py",
   "mimetype": "text/x-python",
   "name": "python",
   "nbconvert_exporter": "python",
   "pygments_lexer": "ipython2",
   "version": "2.7.11"
  }
 },
 "nbformat": 4,
 "nbformat_minor": 2
}
