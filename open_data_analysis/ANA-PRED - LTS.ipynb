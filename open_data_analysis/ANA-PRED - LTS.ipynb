{
 "cells": [
  {
   "cell_type": "code",
   "execution_count": 91,
   "metadata": {
    "collapsed": true
   },
   "outputs": [],
   "source": [
    "import pandas as pd\n",
    "from sklearn.model_selection import train_test_split\n",
    "from sklearn.preprocessing import MinMaxScaler\n",
    "\n",
    "from src.constants import fn_target_lts_dc, dir_data\n",
    "from src.ftr_aggregate import load_joint_features\n",
    "import src.sk_ml; reload(src.sk_ml)\n",
    "from src.sk_ml import *"
   ]
  },
  {
   "cell_type": "code",
   "execution_count": 58,
   "metadata": {
    "collapsed": true
   },
   "outputs": [],
   "source": [
    "%matplotlib inline"
   ]
  },
  {
   "cell_type": "code",
   "execution_count": null,
   "metadata": {
    "collapsed": true
   },
   "outputs": [],
   "source": [
    "\n",
    "fna = 0.0\n",
    "years = (2014, 2015, 2016, 2017)\n",
    "total = 'NO_TOTAL'\n",
    "normalization = 'MinMaxScaler'\n",
    "\n",
    "cv_dir = 'data/cross_validation/na_{}-year_{}-total_{}-norm_{}'.format(fna, years, total, normalization)\n"
   ]
  },
  {
   "cell_type": "code",
   "execution_count": 11,
   "metadata": {
    "collapsed": false
   },
   "outputs": [
    {
     "name": "stdout",
     "output_type": "stream",
     "text": [
      "load feature and fill NAN\n",
      "load LTS and remove 10\n",
      "create train and test set\n"
     ]
    }
   ],
   "source": [
    "\n",
    "\n",
    "print 'load feature and fill NAN'\n",
    "ftr, mapping = load_joint_features(years=years, how=total)\n",
    "ftr_names = [mapping[f] for f in ftr.columns]\n",
    "ftr = fillna(ftr, how=fna)\n",
    "\n",
    "print 'load LTS and remove 10'\n",
    "lts = pd.read_csv(dir_data + fn_target_lts_dc, index_col=0)\n",
    "lts = lts[lts.LTS!=10].dropna()\n",
    "\n",
    "print 'create train and test set'\n",
    "dataset = lts.merge(ftr, left_index=True, right_index=True)\n",
    "train, test = train_test_split(dataset, test_size=0.2, random_state=0)\n",
    "train_y = train.LTS\n",
    "train_x = train.drop('LTS', axis=1)\n",
    "test_y = test.LTS\n",
    "test_x = test.drop('LTS', axis=1)"
   ]
  },
  {
   "cell_type": "code",
   "execution_count": 53,
   "metadata": {
    "collapsed": true
   },
   "outputs": [],
   "source": []
  },
  {
   "cell_type": "code",
   "execution_count": 9,
   "metadata": {
    "collapsed": true
   },
   "outputs": [],
   "source": [
    "models = sk_models(stoplist=())\n",
    "params = grid_cv_default_params()\n"
   ]
  },
  {
   "cell_type": "code",
   "execution_count": 16,
   "metadata": {
    "collapsed": true
   },
   "outputs": [],
   "source": [
    "kind = 'cls'\n",
    "name = 'GDBcls'\n",
    "gbst = models[kind][name]\n",
    "param = params[kind][name]"
   ]
  },
  {
   "cell_type": "code",
   "execution_count": 18,
   "metadata": {
    "collapsed": false
   },
   "outputs": [
    {
     "name": "stdout",
     "output_type": "stream",
     "text": [
      "fitting model cls GDBcls\n",
      "loaded existing result for model: GDBcls\n"
     ]
    },
    {
     "data": {
      "text/plain": [
       "{'best_model': GradientBoostingClassifier(criterion='friedman_mse', init=None,\n",
       "               learning_rate=0.0316227766017, loss='deviance', max_depth=10,\n",
       "               max_features=0.5, max_leaf_nodes=None,\n",
       "               min_impurity_split=1e-07, min_samples_leaf=1,\n",
       "               min_samples_split=2, min_weight_fraction_leaf=0.0,\n",
       "               n_estimators=100, presort='auto', random_state=None,\n",
       "               subsample=1.0, verbose=0, warm_start=False),\n",
       " 'best_params': {'learning_rate': 0.03162277660168379,\n",
       "  'max_depth': 10,\n",
       "  'max_features': 0.5,\n",
       "  'n_estimators': 100},\n",
       " 'grid_cv_time': None,\n",
       " 'kind': 'cls',\n",
       " 'mean_fit_time': 582.99139995600001,\n",
       " 'mean_test': 0.70678866789299999,\n",
       " 'mean_train': 0.972295286689,\n",
       " 'model_name': 'GDBcls',\n",
       " 'score': 'f1_weighted'}"
      ]
     },
     "execution_count": 18,
     "metadata": {},
     "output_type": "execute_result"
    }
   ],
   "source": [
    "cv_res = grid_cv_a_model(train_x, train_y, gbst, param, kind, name, path=cv_dir, verbose=True)"
   ]
  },
  {
   "cell_type": "code",
   "execution_count": 23,
   "metadata": {
    "collapsed": false
   },
   "outputs": [
    {
     "data": {
      "text/html": [
       "<div>\n",
       "<style>\n",
       "    .dataframe thead tr:only-child th {\n",
       "        text-align: right;\n",
       "    }\n",
       "\n",
       "    .dataframe thead th {\n",
       "        text-align: left;\n",
       "    }\n",
       "\n",
       "    .dataframe tbody tr th {\n",
       "        vertical-align: top;\n",
       "    }\n",
       "</style>\n",
       "<table border=\"1\" class=\"dataframe\">\n",
       "  <thead>\n",
       "    <tr style=\"text-align: right;\">\n",
       "      <th></th>\n",
       "      <th>1</th>\n",
       "      <th>2</th>\n",
       "      <th>3</th>\n",
       "      <th>4</th>\n",
       "    </tr>\n",
       "  </thead>\n",
       "  <tbody>\n",
       "    <tr>\n",
       "      <th>1</th>\n",
       "      <td>4529</td>\n",
       "      <td>3</td>\n",
       "      <td>1</td>\n",
       "      <td>0</td>\n",
       "    </tr>\n",
       "    <tr>\n",
       "      <th>2</th>\n",
       "      <td>199</td>\n",
       "      <td>2346</td>\n",
       "      <td>9</td>\n",
       "      <td>2</td>\n",
       "    </tr>\n",
       "    <tr>\n",
       "      <th>3</th>\n",
       "      <td>117</td>\n",
       "      <td>24</td>\n",
       "      <td>1943</td>\n",
       "      <td>1</td>\n",
       "    </tr>\n",
       "    <tr>\n",
       "      <th>4</th>\n",
       "      <td>16</td>\n",
       "      <td>6</td>\n",
       "      <td>2</td>\n",
       "      <td>1436</td>\n",
       "    </tr>\n",
       "  </tbody>\n",
       "</table>\n",
       "</div>"
      ],
      "text/plain": [
       "      1     2     3     4\n",
       "1  4529     3     1     0\n",
       "2   199  2346     9     2\n",
       "3   117    24  1943     1\n",
       "4    16     6     2  1436"
      ]
     },
     "execution_count": 23,
     "metadata": {},
     "output_type": "execute_result"
    }
   ],
   "source": [
    "confusion_matrix_as_df(gbst, train_x, train_y, labels=[1,2,3,4])"
   ]
  },
  {
   "cell_type": "code",
   "execution_count": 22,
   "metadata": {
    "collapsed": false
   },
   "outputs": [
    {
     "data": {
      "text/html": [
       "<div>\n",
       "<style>\n",
       "    .dataframe thead tr:only-child th {\n",
       "        text-align: right;\n",
       "    }\n",
       "\n",
       "    .dataframe thead th {\n",
       "        text-align: left;\n",
       "    }\n",
       "\n",
       "    .dataframe tbody tr th {\n",
       "        vertical-align: top;\n",
       "    }\n",
       "</style>\n",
       "<table border=\"1\" class=\"dataframe\">\n",
       "  <thead>\n",
       "    <tr style=\"text-align: right;\">\n",
       "      <th></th>\n",
       "      <th>1</th>\n",
       "      <th>2</th>\n",
       "      <th>3</th>\n",
       "      <th>4</th>\n",
       "    </tr>\n",
       "  </thead>\n",
       "  <tbody>\n",
       "    <tr>\n",
       "      <th>1</th>\n",
       "      <td>1004</td>\n",
       "      <td>118</td>\n",
       "      <td>30</td>\n",
       "      <td>12</td>\n",
       "    </tr>\n",
       "    <tr>\n",
       "      <th>2</th>\n",
       "      <td>227</td>\n",
       "      <td>292</td>\n",
       "      <td>92</td>\n",
       "      <td>12</td>\n",
       "    </tr>\n",
       "    <tr>\n",
       "      <th>3</th>\n",
       "      <td>53</td>\n",
       "      <td>64</td>\n",
       "      <td>330</td>\n",
       "      <td>57</td>\n",
       "    </tr>\n",
       "    <tr>\n",
       "      <th>4</th>\n",
       "      <td>25</td>\n",
       "      <td>19</td>\n",
       "      <td>52</td>\n",
       "      <td>272</td>\n",
       "    </tr>\n",
       "  </tbody>\n",
       "</table>\n",
       "</div>"
      ],
      "text/plain": [
       "      1    2    3    4\n",
       "1  1004  118   30   12\n",
       "2   227  292   92   12\n",
       "3    53   64  330   57\n",
       "4    25   19   52  272"
      ]
     },
     "execution_count": 22,
     "metadata": {},
     "output_type": "execute_result"
    }
   ],
   "source": [
    "confusion_matrix_as_df(gbst, test_x, test_y, labels=[1,2,3,4])"
   ]
  },
  {
   "cell_type": "code",
   "execution_count": 92,
   "metadata": {
    "collapsed": false
   },
   "outputs": [
    {
     "data": {
      "image/png": "[encoded data removed]",
      "text/plain": [
       "<matplotlib.figure.Figure at 0x4255ceb8>"
      ]
     },
     "metadata": {},
     "output_type": "display_data"
    }
   ],
   "source": [
    "imp = show_important_features(gbst, labels=ftr_names, top=15, set_std=True, show_plt=True)"
   ]
  },
  {
   "cell_type": "code",
   "execution_count": 84,
   "metadata": {
    "collapsed": true
   },
   "outputs": [],
   "source": []
  },
  {
   "cell_type": "code",
   "execution_count": null,
   "metadata": {
    "collapsed": true
   },
   "outputs": [],
   "source": []
  }
 ],
 "metadata": {
  "anaconda-cloud": {},
  "kernelspec": {
   "display_name": "Python [default]",
   "language": "python",
   "name": "python2"
  },
  "language_info": {
   "codemirror_mode": {
    "name": "ipython",
    "version": 2
   },
   "file_extension": ".py",
   "mimetype": "text/x-python",
   "name": "python",
   "nbconvert_exporter": "python",
   "pygments_lexer": "ipython2",
   "version": "2.7.13"
  }
 },
 "nbformat": 4,
 "nbformat_minor": 2
}
