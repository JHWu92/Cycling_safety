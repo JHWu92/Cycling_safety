{
 "cells": [
  {
   "cell_type": "code",
   "execution_count": 1,
   "metadata": {
    "collapsed": true
   },
   "outputs": [],
   "source": [
    "import pandas as pd\n",
    "\n",
    "import src.sk_ml; reload(src.sk_ml)\n",
    "\n",
    "from src.constants import fn_target_lts_dc, dir_data\n",
    "from src.pred_lts import prepare_lts_dataset\n",
    "from src.sk_ml import *\n",
    "\n",
    "%matplotlib inline"
   ]
  },
  {
   "cell_type": "code",
   "execution_count": 34,
   "metadata": {
    "collapsed": false
   },
   "outputs": [
    {
     "data": {
      "text/html": [
       "<script>requirejs.config({paths: { 'plotly': ['https://cdn.plot.ly/plotly-latest.min']},});if(!window.Plotly) {{require(['plotly'],function(plotly) {window.Plotly=plotly;});}}</script>"
      ],
      "text/plain": [
       "<IPython.core.display.HTML object>"
      ]
     },
     "metadata": {},
     "output_type": "display_data"
    }
   ],
   "source": [
    "from plotly.offline import init_notebook_mode, iplot\n",
    "import plotly.graph_objs as go\n",
    "init_notebook_mode(True)"
   ]
  },
  {
   "cell_type": "code",
   "execution_count": 2,
   "metadata": {
    "collapsed": false
   },
   "outputs": [],
   "source": [
    "fna = 0.0\n",
    "years = (2014, 2015, 2016, 2017)\n",
    "scaler_type = 'MinMaxScaler'\n",
    "total_or_not = 'TOTAL'"
   ]
  },
  {
   "cell_type": "code",
   "execution_count": 4,
   "metadata": {
    "collapsed": false
   },
   "outputs": [
    {
     "name": "stdout",
     "output_type": "stream",
     "text": [
      "==================== loading data for NO_TOTAL\n",
      "loading feature and fill NAN\n",
      "loading LTS and remove 10\n",
      "creating train and test set\n",
      "normalizing X\n",
      "==================== loading data for TOTAL\n",
      "loading feature and fill NAN\n",
      "loading LTS and remove 10\n",
      "creating train and test set\n",
      "normalizing X\n"
     ]
    }
   ],
   "source": [
    "datasets = {}\n",
    "for total_or_not in ['NO_TOTAL', 'TOTAL']:\n",
    "    print '=' * 20, 'loading data for', total_or_not\n",
    "    scaler = scaler_by_name(scaler_type)\n",
    "    ds = prepare_lts_dataset(scaler, fna, years, total_or_not, 'dict')\n",
    "    datasets[total_or_not] = ds\n"
   ]
  },
  {
   "cell_type": "code",
   "execution_count": 12,
   "metadata": {
    "collapsed": true
   },
   "outputs": [],
   "source": [
    "def ana_a_model(ds, model, param, kind, name, cv_dir):\n",
    "    \n",
    "    train_x, train_y, test_x, test_y, ftr_name = ds['train_x'], ds['train_y'], ds['test_x'], ds['test_y'], ds['ftr_name']\n",
    "    \n",
    "    grid_cv_a_model(train_x, train_y, model, param, kind, name, path=cv_dir, verbose=True)\n",
    "    cfsn = confusion_matrix_as_df(model, test_x, test_y, labels=[1,2,3,4])\n",
    "    imp = show_important_features(model, labels=ftr_name, top=10, set_std=True, show_plt=False)\n",
    "    return cfsn, imp"
   ]
  },
  {
   "cell_type": "code",
   "execution_count": 11,
   "metadata": {
    "collapsed": true
   },
   "outputs": [
    {
     "name": "stdout",
     "output_type": "stream",
     "text": [
      "==================== loading cv result from data/cross_validation/na_0.0-year_(2014, 2015, 2016, 2017)-total_TOTAL-norm_MinMaxScaler\n",
      "model = RFcls\n",
      "loading existing model cls RFcls\n",
      "fitting model cls RFcls\n",
      "loaded existing result for model: RFcls\n",
      "model = GDBcls\n",
      "loading existing model cls GDBcls\n",
      "fitting model cls GDBcls\n",
      "loaded existing result for model: GDBcls\n",
      "==================== loading cv result from data/cross_validation/na_0.0-year_(2014, 2015, 2016, 2017)-total_NO_TOTAL-norm_MinMaxScaler\n",
      "model = RFcls\n",
      "loading existing model cls RFcls\n",
      "fitting model cls RFcls\n",
      "loaded existing result for model: RFcls\n",
      "model = GDBcls\n",
      "loading existing model cls GDBcls\n",
      "fitting model cls GDBcls\n",
      "loaded existing result for model: GDBcls\n"
     ]
    },
    {
     "data": {
      "image/png": "[encoded data removed]",
      "text/plain": [
       "<matplotlib.figure.Figure at 0x3051fba8>"
      ]
     },
     "metadata": {},
     "output_type": "display_data"
    }
   ],
   "source": [
    "res = {}\n",
    "for total_or_not in ['TOTAL', 'NO_TOTAL']:\n",
    "    cv_dir = 'data/cross_validation/na_{}-year_{}-total_{}-norm_{}'.format(fna, years, total_or_not, scaler_type)\n",
    "    print '=' * 20, 'loading cv result from', cv_dir\n",
    "    \n",
    "    ds = datasets[total_or_not]\n",
    "    train_x, train_y, test_x, test_y, ftr_name = ds['train_x'], ds['train_y'], ds['test_x'], ds['test_y'], ds['ftr_name']\n",
    "    models = sk_models(stoplist=())\n",
    "    params = grid_cv_default_params()\n",
    "\n",
    "    kind = 'cls'\n",
    "    \n",
    "    name_rf = 'RFcls'\n",
    "    print 'model =', name_rf\n",
    "    model_rf, param_rf = models[kind][name_rf], params[kind][name_rf]\n",
    "    cfsn_rf, imp_rf = ana_a_model(ds, model_rf, param_rf, kind, name_rf, cv_dir)\n",
    "    \n",
    "    name_gbst = 'GDBcls'\n",
    "    print 'model =', name_gbst\n",
    "    model_gbst, param_gbst = models[kind][name_gbst], params[kind][name_gbst]\n",
    "    cfsn_gbst, imp_gbst = ana_a_model(dataset, model_gbst, param_gbst, kind, name_gbst, cv_dir)\n",
    "    \n",
    "    res[total_or_not] = {'gbst': model_gbst, 'cfsn_gbst': cfsn_gbst, 'imp_gbst': imp_gbst,\n",
    "                        'rf': model_rf, 'cfsn_rf': cfsn_rf, 'imp_rf': imp_rf}\n"
   ]
  },
  {
   "cell_type": "markdown",
   "metadata": {},
   "source": [
    "# display confusion matrix"
   ]
  },
  {
   "cell_type": "code",
   "execution_count": 27,
   "metadata": {
    "collapsed": true
   },
   "outputs": [],
   "source": [
    "\n",
    "def multi_column_df_display(list_dfs, cols=4):\n",
    "    html_table = \"<table style='width:100%; border:0px'>{content}</table>\"\n",
    "    html_row = \"<tr style='border:0px'>{content}</tr>\"\n",
    "    html_cell = \"<td style='width:{width}%;vertical-align:top;border:0px'>{{content}}</td>\"\n",
    "    html_cell = html_cell.format(width=100/cols)\n",
    "\n",
    "    cells = [ html_cell.format(content=df.to_html()) for df in list_dfs ]\n",
    "    cells += (cols - (len(list_dfs)%cols)) * [html_cell.format(content=\"\")] # pad\n",
    "    rows = [ html_row.format(content=\"\".join(cells[i:i+cols])) for i in range(0,len(cells),cols)]\n",
    "    display(HTML(html_table.format(content=\"\".join(rows))))\n"
   ]
  },
  {
   "cell_type": "code",
   "execution_count": 28,
   "metadata": {
    "collapsed": false
   },
   "outputs": [
    {
     "data": {
      "text/html": [
       "<table style='width:100%; border:0px'><tr style='border:0px'><td style='width:25%;vertical-align:top;border:0px'><table border=\"1\" class=\"dataframe\">\n",
       "  <thead>\n",
       "    <tr style=\"text-align: right;\">\n",
       "      <th></th>\n",
       "      <th>1</th>\n",
       "      <th>2</th>\n",
       "      <th>3</th>\n",
       "      <th>4</th>\n",
       "    </tr>\n",
       "  </thead>\n",
       "  <tbody>\n",
       "    <tr>\n",
       "      <th>1</th>\n",
       "      <td>1000</td>\n",
       "      <td>119</td>\n",
       "      <td>30</td>\n",
       "      <td>15</td>\n",
       "    </tr>\n",
       "    <tr>\n",
       "      <th>2</th>\n",
       "      <td>238</td>\n",
       "      <td>284</td>\n",
       "      <td>78</td>\n",
       "      <td>23</td>\n",
       "    </tr>\n",
       "    <tr>\n",
       "      <th>3</th>\n",
       "      <td>77</td>\n",
       "      <td>71</td>\n",
       "      <td>297</td>\n",
       "      <td>59</td>\n",
       "    </tr>\n",
       "    <tr>\n",
       "      <th>4</th>\n",
       "      <td>34</td>\n",
       "      <td>30</td>\n",
       "      <td>63</td>\n",
       "      <td>241</td>\n",
       "    </tr>\n",
       "  </tbody>\n",
       "</table></td><td style='width:25%;vertical-align:top;border:0px'><table border=\"1\" class=\"dataframe\">\n",
       "  <thead>\n",
       "    <tr style=\"text-align: right;\">\n",
       "      <th></th>\n",
       "      <th>1</th>\n",
       "      <th>2</th>\n",
       "      <th>3</th>\n",
       "      <th>4</th>\n",
       "    </tr>\n",
       "  </thead>\n",
       "  <tbody>\n",
       "    <tr>\n",
       "      <th>1</th>\n",
       "      <td>1006</td>\n",
       "      <td>116</td>\n",
       "      <td>28</td>\n",
       "      <td>14</td>\n",
       "    </tr>\n",
       "    <tr>\n",
       "      <th>2</th>\n",
       "      <td>231</td>\n",
       "      <td>287</td>\n",
       "      <td>89</td>\n",
       "      <td>16</td>\n",
       "    </tr>\n",
       "    <tr>\n",
       "      <th>3</th>\n",
       "      <td>64</td>\n",
       "      <td>76</td>\n",
       "      <td>310</td>\n",
       "      <td>54</td>\n",
       "    </tr>\n",
       "    <tr>\n",
       "      <th>4</th>\n",
       "      <td>32</td>\n",
       "      <td>17</td>\n",
       "      <td>66</td>\n",
       "      <td>253</td>\n",
       "    </tr>\n",
       "  </tbody>\n",
       "</table></td><td style='width:25%;vertical-align:top;border:0px'><table border=\"1\" class=\"dataframe\">\n",
       "  <thead>\n",
       "    <tr style=\"text-align: right;\">\n",
       "      <th></th>\n",
       "      <th>1</th>\n",
       "      <th>2</th>\n",
       "      <th>3</th>\n",
       "      <th>4</th>\n",
       "    </tr>\n",
       "  </thead>\n",
       "  <tbody>\n",
       "    <tr>\n",
       "      <th>1</th>\n",
       "      <td>997</td>\n",
       "      <td>121</td>\n",
       "      <td>33</td>\n",
       "      <td>13</td>\n",
       "    </tr>\n",
       "    <tr>\n",
       "      <th>2</th>\n",
       "      <td>252</td>\n",
       "      <td>273</td>\n",
       "      <td>73</td>\n",
       "      <td>25</td>\n",
       "    </tr>\n",
       "    <tr>\n",
       "      <th>3</th>\n",
       "      <td>72</td>\n",
       "      <td>73</td>\n",
       "      <td>301</td>\n",
       "      <td>58</td>\n",
       "    </tr>\n",
       "    <tr>\n",
       "      <th>4</th>\n",
       "      <td>31</td>\n",
       "      <td>30</td>\n",
       "      <td>58</td>\n",
       "      <td>249</td>\n",
       "    </tr>\n",
       "  </tbody>\n",
       "</table></td><td style='width:25%;vertical-align:top;border:0px'><table border=\"1\" class=\"dataframe\">\n",
       "  <thead>\n",
       "    <tr style=\"text-align: right;\">\n",
       "      <th></th>\n",
       "      <th>1</th>\n",
       "      <th>2</th>\n",
       "      <th>3</th>\n",
       "      <th>4</th>\n",
       "    </tr>\n",
       "  </thead>\n",
       "  <tbody>\n",
       "    <tr>\n",
       "      <th>1</th>\n",
       "      <td>1007</td>\n",
       "      <td>118</td>\n",
       "      <td>28</td>\n",
       "      <td>11</td>\n",
       "    </tr>\n",
       "    <tr>\n",
       "      <th>2</th>\n",
       "      <td>237</td>\n",
       "      <td>287</td>\n",
       "      <td>83</td>\n",
       "      <td>16</td>\n",
       "    </tr>\n",
       "    <tr>\n",
       "      <th>3</th>\n",
       "      <td>57</td>\n",
       "      <td>63</td>\n",
       "      <td>328</td>\n",
       "      <td>56</td>\n",
       "    </tr>\n",
       "    <tr>\n",
       "      <th>4</th>\n",
       "      <td>24</td>\n",
       "      <td>19</td>\n",
       "      <td>63</td>\n",
       "      <td>262</td>\n",
       "    </tr>\n",
       "  </tbody>\n",
       "</table></td></tr><tr style='border:0px'><td style='width:25%;vertical-align:top;border:0px'></td><td style='width:25%;vertical-align:top;border:0px'></td><td style='width:25%;vertical-align:top;border:0px'></td><td style='width:25%;vertical-align:top;border:0px'></td></tr></table>"
      ],
      "text/plain": [
       "<IPython.core.display.HTML object>"
      ]
     },
     "metadata": {},
     "output_type": "display_data"
    }
   ],
   "source": [
    "list_dfs = [\n",
    "    res['TOTAL']['cfsn_rf'],\n",
    "    res['NO_TOTAL']['cfsn_rf'],\n",
    "    res['TOTAL']['cfsn_gbst'],\n",
    "    res['NO_TOTAL']['cfsn_gbst'],\n",
    "]\n",
    "multi_column_df_display(list_dfs)"
   ]
  },
  {
   "cell_type": "markdown",
   "metadata": {},
   "source": [
    "# display feature importances"
   ]
  },
  {
   "cell_type": "code",
   "execution_count": 32,
   "metadata": {
    "collapsed": false
   },
   "outputs": [
    {
     "data": {
      "text/html": [
       "<table style='width:100%; border:0px'><tr style='border:0px'><td style='width:50%;vertical-align:top;border:0px'><table border=\"1\" class=\"dataframe\">\n",
       "  <thead>\n",
       "    <tr style=\"text-align: right;\">\n",
       "      <th></th>\n",
       "      <th>importance</th>\n",
       "      <th>label</th>\n",
       "      <th>std</th>\n",
       "    </tr>\n",
       "  </thead>\n",
       "  <tbody>\n",
       "    <tr>\n",
       "      <th>32</th>\n",
       "      <td>0.065753</td>\n",
       "      <td>crash_total</td>\n",
       "      <td>0.026464</td>\n",
       "    </tr>\n",
       "    <tr>\n",
       "      <th>38</th>\n",
       "      <td>0.047832</td>\n",
       "      <td>poi_total</td>\n",
       "      <td>0.019029</td>\n",
       "    </tr>\n",
       "    <tr>\n",
       "      <th>61</th>\n",
       "      <td>0.042871</td>\n",
       "      <td>moving_total</td>\n",
       "      <td>0.020070</td>\n",
       "    </tr>\n",
       "    <tr>\n",
       "      <th>55</th>\n",
       "      <td>0.036657</td>\n",
       "      <td>ud_far_cntr_SgAsNd</td>\n",
       "      <td>0.009871</td>\n",
       "    </tr>\n",
       "    <tr>\n",
       "      <th>52</th>\n",
       "      <td>0.036549</td>\n",
       "      <td>ud_clo_cntr_SgAsNd</td>\n",
       "      <td>0.009422</td>\n",
       "    </tr>\n",
       "    <tr>\n",
       "      <th>6</th>\n",
       "      <td>0.036204</td>\n",
       "      <td>STREETTYPE_AVE</td>\n",
       "      <td>0.013923</td>\n",
       "    </tr>\n",
       "    <tr>\n",
       "      <th>42</th>\n",
       "      <td>0.035803</td>\n",
       "      <td>d_far_cntr_SgAsNd</td>\n",
       "      <td>0.008532</td>\n",
       "    </tr>\n",
       "    <tr>\n",
       "      <th>41</th>\n",
       "      <td>0.035331</td>\n",
       "      <td>d_clo_cntr_SgAsNd</td>\n",
       "      <td>0.008917</td>\n",
       "    </tr>\n",
       "    <tr>\n",
       "      <th>45</th>\n",
       "      <td>0.034933</td>\n",
       "      <td>d_node_ecc_SgAsNd</td>\n",
       "      <td>0.008535</td>\n",
       "    </tr>\n",
       "    <tr>\n",
       "      <th>0</th>\n",
       "      <td>0.034613</td>\n",
       "      <td>SHAPE_Length</td>\n",
       "      <td>0.004367</td>\n",
       "    </tr>\n",
       "  </tbody>\n",
       "</table></td><td style='width:50%;vertical-align:top;border:0px'><table border=\"1\" class=\"dataframe\">\n",
       "  <thead>\n",
       "    <tr style=\"text-align: right;\">\n",
       "      <th></th>\n",
       "      <th>importance</th>\n",
       "      <th>label</th>\n",
       "      <th>std</th>\n",
       "    </tr>\n",
       "  </thead>\n",
       "  <tbody>\n",
       "    <tr>\n",
       "      <th>32</th>\n",
       "      <td>0.067687</td>\n",
       "      <td>crash_total</td>\n",
       "      <td>0.049664</td>\n",
       "    </tr>\n",
       "    <tr>\n",
       "      <th>61</th>\n",
       "      <td>0.041571</td>\n",
       "      <td>moving_total</td>\n",
       "      <td>0.028368</td>\n",
       "    </tr>\n",
       "    <tr>\n",
       "      <th>38</th>\n",
       "      <td>0.041350</td>\n",
       "      <td>poi_total</td>\n",
       "      <td>0.022349</td>\n",
       "    </tr>\n",
       "    <tr>\n",
       "      <th>52</th>\n",
       "      <td>0.038377</td>\n",
       "      <td>ud_clo_cntr_SgAsNd</td>\n",
       "      <td>0.012504</td>\n",
       "    </tr>\n",
       "    <tr>\n",
       "      <th>55</th>\n",
       "      <td>0.037720</td>\n",
       "      <td>ud_far_cntr_SgAsNd</td>\n",
       "      <td>0.012773</td>\n",
       "    </tr>\n",
       "    <tr>\n",
       "      <th>42</th>\n",
       "      <td>0.037415</td>\n",
       "      <td>d_far_cntr_SgAsNd</td>\n",
       "      <td>0.013033</td>\n",
       "    </tr>\n",
       "    <tr>\n",
       "      <th>41</th>\n",
       "      <td>0.036930</td>\n",
       "      <td>d_clo_cntr_SgAsNd</td>\n",
       "      <td>0.011679</td>\n",
       "    </tr>\n",
       "    <tr>\n",
       "      <th>6</th>\n",
       "      <td>0.036265</td>\n",
       "      <td>STREETTYPE_AVE</td>\n",
       "      <td>0.030327</td>\n",
       "    </tr>\n",
       "    <tr>\n",
       "      <th>0</th>\n",
       "      <td>0.035786</td>\n",
       "      <td>SHAPE_Length</td>\n",
       "      <td>0.005661</td>\n",
       "    </tr>\n",
       "    <tr>\n",
       "      <th>40</th>\n",
       "      <td>0.034390</td>\n",
       "      <td>d_btw_cntr_SgAsNd</td>\n",
       "      <td>0.009666</td>\n",
       "    </tr>\n",
       "  </tbody>\n",
       "</table></td></tr><tr style='border:0px'><td style='width:50%;vertical-align:top;border:0px'></td><td style='width:50%;vertical-align:top;border:0px'></td></tr></table>"
      ],
      "text/plain": [
       "<IPython.core.display.HTML object>"
      ]
     },
     "metadata": {},
     "output_type": "display_data"
    }
   ],
   "source": [
    "list_dfs = [\n",
    "    res['TOTAL']['imp_rf'],\n",
    "    res['TOTAL']['imp_gbst'],\n",
    "]\n",
    "multi_column_df_display(list_dfs, cols=2)"
   ]
  },
  {
   "cell_type": "code",
   "execution_count": 33,
   "metadata": {
    "collapsed": false
   },
   "outputs": [
    {
     "data": {
      "text/html": [
       "<table style='width:100%; border:0px'><tr style='border:0px'><td style='width:50%;vertical-align:top;border:0px'><table border=\"1\" class=\"dataframe\">\n",
       "  <thead>\n",
       "    <tr style=\"text-align: right;\">\n",
       "      <th></th>\n",
       "      <th>importance</th>\n",
       "      <th>label</th>\n",
       "      <th>std</th>\n",
       "    </tr>\n",
       "  </thead>\n",
       "  <tbody>\n",
       "    <tr>\n",
       "      <th>64</th>\n",
       "      <td>0.051759</td>\n",
       "      <td>FIRSTHARMFULEVENTSPECIFICS_Motor Vehicle In Tr...</td>\n",
       "      <td>0.042702</td>\n",
       "    </tr>\n",
       "    <tr>\n",
       "      <th>36</th>\n",
       "      <td>0.040820</td>\n",
       "      <td>CRASHEVENTTYPES_COLLISION_WITH_NON_FIXED</td>\n",
       "      <td>0.039625</td>\n",
       "    </tr>\n",
       "    <tr>\n",
       "      <th>6</th>\n",
       "      <td>0.040347</td>\n",
       "      <td>STREETTYPE_AVE</td>\n",
       "      <td>0.010575</td>\n",
       "    </tr>\n",
       "    <tr>\n",
       "      <th>34</th>\n",
       "      <td>0.026831</td>\n",
       "      <td>CRASHEVENTTYPES_ PENDING_INVESTIGATION</td>\n",
       "      <td>0.033419</td>\n",
       "    </tr>\n",
       "    <tr>\n",
       "      <th>574</th>\n",
       "      <td>0.026712</td>\n",
       "      <td>Existing Bike Lane</td>\n",
       "      <td>0.007321</td>\n",
       "    </tr>\n",
       "    <tr>\n",
       "      <th>161</th>\n",
       "      <td>0.024630</td>\n",
       "      <td>retail shop</td>\n",
       "      <td>0.011339</td>\n",
       "    </tr>\n",
       "    <tr>\n",
       "      <th>175</th>\n",
       "      <td>0.022486</td>\n",
       "      <td>d_node_ecc_SgAsNd</td>\n",
       "      <td>0.007058</td>\n",
       "    </tr>\n",
       "    <tr>\n",
       "      <th>0</th>\n",
       "      <td>0.019240</td>\n",
       "      <td>SHAPE_Length</td>\n",
       "      <td>0.003486</td>\n",
       "    </tr>\n",
       "    <tr>\n",
       "      <th>152</th>\n",
       "      <td>0.017877</td>\n",
       "      <td>TRAFFIC SIGNAL MAIN</td>\n",
       "      <td>0.020968</td>\n",
       "    </tr>\n",
       "    <tr>\n",
       "      <th>187</th>\n",
       "      <td>0.017845</td>\n",
       "      <td>ud_node_ecc_SgAsNd</td>\n",
       "      <td>0.004167</td>\n",
       "    </tr>\n",
       "  </tbody>\n",
       "</table></td><td style='width:50%;vertical-align:top;border:0px'><table border=\"1\" class=\"dataframe\">\n",
       "  <thead>\n",
       "    <tr style=\"text-align: right;\">\n",
       "      <th></th>\n",
       "      <th>importance</th>\n",
       "      <th>label</th>\n",
       "      <th>std</th>\n",
       "    </tr>\n",
       "  </thead>\n",
       "  <tbody>\n",
       "    <tr>\n",
       "      <th>64</th>\n",
       "      <td>0.038819</td>\n",
       "      <td>FIRSTHARMFULEVENTSPECIFICS_Motor Vehicle In Tr...</td>\n",
       "      <td>0.057289</td>\n",
       "    </tr>\n",
       "    <tr>\n",
       "      <th>36</th>\n",
       "      <td>0.030267</td>\n",
       "      <td>CRASHEVENTTYPES_COLLISION_WITH_NON_FIXED</td>\n",
       "      <td>0.061783</td>\n",
       "    </tr>\n",
       "    <tr>\n",
       "      <th>6</th>\n",
       "      <td>0.028309</td>\n",
       "      <td>STREETTYPE_AVE</td>\n",
       "      <td>0.026036</td>\n",
       "    </tr>\n",
       "    <tr>\n",
       "      <th>0</th>\n",
       "      <td>0.026507</td>\n",
       "      <td>SHAPE_Length</td>\n",
       "      <td>0.014795</td>\n",
       "    </tr>\n",
       "    <tr>\n",
       "      <th>574</th>\n",
       "      <td>0.025632</td>\n",
       "      <td>Existing Bike Lane</td>\n",
       "      <td>0.049359</td>\n",
       "    </tr>\n",
       "    <tr>\n",
       "      <th>187</th>\n",
       "      <td>0.021978</td>\n",
       "      <td>ud_node_ecc_SgAsNd</td>\n",
       "      <td>0.011859</td>\n",
       "    </tr>\n",
       "    <tr>\n",
       "      <th>177</th>\n",
       "      <td>0.021371</td>\n",
       "      <td>d_page_rank_SgAsNd</td>\n",
       "      <td>0.015791</td>\n",
       "    </tr>\n",
       "    <tr>\n",
       "      <th>182</th>\n",
       "      <td>0.019205</td>\n",
       "      <td>ud_clo_cntr_SgAsNd</td>\n",
       "      <td>0.014177</td>\n",
       "    </tr>\n",
       "    <tr>\n",
       "      <th>188</th>\n",
       "      <td>0.018876</td>\n",
       "      <td>ud_page_rank_SgAsNd</td>\n",
       "      <td>0.013707</td>\n",
       "    </tr>\n",
       "    <tr>\n",
       "      <th>185</th>\n",
       "      <td>0.018869</td>\n",
       "      <td>ud_far_cntr_SgAsNd</td>\n",
       "      <td>0.015877</td>\n",
       "    </tr>\n",
       "  </tbody>\n",
       "</table></td></tr><tr style='border:0px'><td style='width:50%;vertical-align:top;border:0px'></td><td style='width:50%;vertical-align:top;border:0px'></td></tr></table>"
      ],
      "text/plain": [
       "<IPython.core.display.HTML object>"
      ]
     },
     "metadata": {},
     "output_type": "display_data"
    }
   ],
   "source": [
    "list_dfs = [\n",
    "    res['NO_TOTAL']['imp_rf'],\n",
    "    res['NO_TOTAL']['imp_gbst'],\n",
    "]\n",
    "multi_column_df_display(list_dfs, cols=2)"
   ]
  },
  {
   "cell_type": "markdown",
   "metadata": {},
   "source": [
    "# bar chart feature importances"
   ]
  },
  {
   "cell_type": "code",
   "execution_count": 82,
   "metadata": {
    "collapsed": false
   },
   "outputs": [
    {
     "name": "stdout",
     "output_type": "stream",
     "text": [
      "in rf not gbst set(['retail shop', 'd_node_ecc_SgAsNd', 'CRASHEVENTTYPES_ PENDING_INVESTIGATION', 'TRAFFIC SIGNAL MAIN'])\n",
      "in gbst not rf set(['ud_clo_cntr_SgAsNd', 'ud_far_cntr_SgAsNd', 'd_page_rank_SgAsNd', 'ud_page_rank_SgAsNd'])\n"
     ]
    },
    {
     "data": {
      "text/html": [
       "<div id=\"4bbfc555-b784-4304-a407-c5e3d04270f3\" style=\"height: 525px; width: 100%;\" class=\"plotly-graph-div\"></div><script type=\"text/javascript\">require([\"plotly\"], function(Plotly) { window.PLOTLYENV=window.PLOTLYENV || {};window.PLOTLYENV.BASE_URL=\"https://plot.ly\";Plotly.newPlot(\"4bbfc555-b784-4304-a407-c5e3d04270f3\", [{\"error_x\": {\"array\": [0.04270239185920552, 0.03962511071205334, 0.010575054302780135, 0.033418976309464124, 0.007321339354264889, 0.01133913011813627, 0.007058237634502147, 0.003485859355604823, 0.020968299383323896, 0.004166502798678436]}, \"orientation\": \"h\", \"y\": [\"FIRSTHARMFULEVENTSPECIFICS_Motor Vehicle In Transport\", \"CRASHEVENTTYPES_COLLISION_WITH_NON_FIXED\", \"STREETTYPE_AVE\", \"CRASHEVENTTYPES_ PENDING_INVESTIGATION\", \"Existing Bike Lane\", \"retail shop\", \"d_node_ecc_SgAsNd\", \"SHAPE_Length\", \"TRAFFIC SIGNAL MAIN\", \"ud_node_ecc_SgAsNd\"], \"x\": [0.051759216679615604, 0.04081971518061736, 0.0403468014374431, 0.0268305984844656, 0.02671174952641008, 0.02463045623072994, 0.022485722272881124, 0.01924010315885936, 0.017877165266873673, 0.017844932970534612], \"type\": \"bar\", \"name\": \"rf\"}, {\"error_x\": {\"array\": [0.05728876595097978, 0.06178274931140065, 0.026036072363610344, 0.014794906151231763, 0.04935919454692793, 0.011859473422522858, 0.0157905512449791, 0.01417725143415548, 0.013706500418454703, 0.01587685388976999]}, \"orientation\": \"h\", \"y\": [\"FIRSTHARMFULEVENTSPECIFICS_Motor Vehicle In Transport\", \"CRASHEVENTTYPES_COLLISION_WITH_NON_FIXED\", \"STREETTYPE_AVE\", \"SHAPE_Length\", \"Existing Bike Lane\", \"ud_node_ecc_SgAsNd\", \"d_page_rank_SgAsNd\", \"ud_clo_cntr_SgAsNd\", \"ud_page_rank_SgAsNd\", \"ud_far_cntr_SgAsNd\"], \"x\": [0.03881869627128484, 0.03026711743762078, 0.02830867425057962, 0.02650662103011993, 0.025631655932793262, 0.021977595271534277, 0.021370887116810858, 0.019204565676511166, 0.018875793712361238, 0.018868938036041564], \"type\": \"bar\", \"name\": \"gbst\"}], {\"margin\": {\"l\": 300}}, {\"linkText\": \"Export to plot.ly\", \"showLink\": true})});</script>"
      ],
      "text/plain": [
       "<IPython.core.display.HTML object>"
      ]
     },
     "metadata": {},
     "output_type": "display_data"
    }
   ],
   "source": [
    "imp_rf = res['NO_TOTAL']['imp_rf']\n",
    "imp_gbst = res['NO_TOTAL']['imp_gbst']\n",
    "print 'in rf not gbst', set(imp_rf.label) - set(imp_gbst.label)\n",
    "print 'in gbst not rf', set(imp_gbst.label) - set(imp_rf.label)\n",
    "data = [\n",
    "    go.Bar(x=imp_rf.importance, y=imp_rf.label,  error_x=dict(array=imp_rf['std']), orientation='h', name='rf'),\n",
    "    go.Bar(x=imp_gbst.importance, y=imp_gbst.label,  error_x=dict(array=imp_gbst['std']), orientation='h', name='gbst'),\n",
    "    \n",
    "]\n",
    "layout = go.Layout(margin=go.Margin(l=300))\n",
    "fig = go.Figure(data=data, layout=layout)\n",
    "\n",
    "iplot(fig)"
   ]
  },
  {
   "cell_type": "code",
   "execution_count": 83,
   "metadata": {
    "collapsed": false
   },
   "outputs": [
    {
     "name": "stdout",
     "output_type": "stream",
     "text": [
      "in rf not gbst set(['d_node_ecc_SgAsNd'])\n",
      "in gbst not rf set(['d_btw_cntr_SgAsNd'])\n"
     ]
    },
    {
     "data": {
      "text/html": [
       "<div id=\"82a0873a-ed32-45c7-b750-748cd78de738\" style=\"height: 525px; width: 100%;\" class=\"plotly-graph-div\"></div><script type=\"text/javascript\">require([\"plotly\"], function(Plotly) { window.PLOTLYENV=window.PLOTLYENV || {};window.PLOTLYENV.BASE_URL=\"https://plot.ly\";Plotly.newPlot(\"82a0873a-ed32-45c7-b750-748cd78de738\", [{\"error_x\": {\"array\": [0.026464173787399535, 0.019028825240788784, 0.02007035761377408, 0.009870914304508278, 0.009422190528202857, 0.01392347688143426, 0.008532063965779465, 0.008916587907497971, 0.008534978191166796, 0.0043669119559179275]}, \"orientation\": \"h\", \"y\": [\"crash_total\", \"poi_total\", \"moving_total\", \"ud_far_cntr_SgAsNd\", \"ud_clo_cntr_SgAsNd\", \"STREETTYPE_AVE\", \"d_far_cntr_SgAsNd\", \"d_clo_cntr_SgAsNd\", \"d_node_ecc_SgAsNd\", \"SHAPE_Length\"], \"x\": [0.0657530412491205, 0.04783243396001498, 0.04287125112039659, 0.03665721593128304, 0.036548874818661356, 0.03620363567251275, 0.03580311839696215, 0.03533060668695024, 0.03493254876308106, 0.03461294320157105], \"type\": \"bar\", \"name\": \"rf\"}, {\"error_x\": {\"array\": [0.04966435118298336, 0.028367943236870818, 0.022349150572130584, 0.012504418418745021, 0.012772866452442378, 0.013033430038233575, 0.011678808302408614, 0.03032708048965314, 0.005660808759658272, 0.009665646689517396]}, \"orientation\": \"h\", \"y\": [\"crash_total\", \"moving_total\", \"poi_total\", \"ud_clo_cntr_SgAsNd\", \"ud_far_cntr_SgAsNd\", \"d_far_cntr_SgAsNd\", \"d_clo_cntr_SgAsNd\", \"STREETTYPE_AVE\", \"SHAPE_Length\", \"d_btw_cntr_SgAsNd\"], \"x\": [0.06768727209079178, 0.041570899937427935, 0.04135017618902225, 0.03837696109632388, 0.037719830799659404, 0.037414520856407354, 0.03693003800526895, 0.03626492351066237, 0.035785576728820406, 0.03439025395518255], \"type\": \"bar\", \"name\": \"gbst\"}], {\"margin\": {\"l\": 200}}, {\"linkText\": \"Export to plot.ly\", \"showLink\": true})});</script>"
      ],
      "text/plain": [
       "<IPython.core.display.HTML object>"
      ]
     },
     "metadata": {},
     "output_type": "display_data"
    }
   ],
   "source": [
    "imp_rf = res['TOTAL']['imp_rf']\n",
    "imp_gbst = res['TOTAL']['imp_gbst']\n",
    "print 'in rf not gbst', set(imp_rf.label) - set(imp_gbst.label)\n",
    "print 'in gbst not rf', set(imp_gbst.label) - set(imp_rf.label)\n",
    "\n",
    "data = [\n",
    "    go.Bar(x=imp_rf.importance, y=imp_rf.label,  error_x=dict(array=imp_rf['std']), orientation='h', name='rf'),\n",
    "    go.Bar(x=imp_gbst.importance, y=imp_gbst.label,  error_x=dict(array=imp_gbst['std']), orientation='h', name='gbst'),\n",
    "    \n",
    "]\n",
    "layout = go.Layout(margin=go.Margin(l=200))\n",
    "fig = go.Figure(data=data, layout=layout)\n",
    "\n",
    "iplot(fig)"
   ]
  }
 ],
 "metadata": {
  "anaconda-cloud": {},
  "kernelspec": {
   "display_name": "Python [default]",
   "language": "python",
   "name": "python2"
  }
 },
 "nbformat": 4,
 "nbformat_minor": 2
}
