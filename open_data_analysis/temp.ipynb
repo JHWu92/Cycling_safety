{
 "cells": [
  {
   "cell_type": "code",
   "execution_count": 9,
   "metadata": {
    "collapsed": false
   },
   "outputs": [],
   "source": [
    "d = u'd:/★★学习工作/Life in Maryland/Research Project：CyclingSafe/github/Cycling_Safe/data/frsq/raw_venues/*.txt'\n",
    "import glob\n",
    "for fn in glob.glob(d):\n",
    "    with open(fn) as f:\n",
    "        new_lines = []\n",
    "        for line in f:\n",
    "            swne, cnt, jsonstr = line.split('\\t')\n",
    "            (s,w),(n,e) = eval(swne)\n",
    "            wsen = (w,s,e,n)\n",
    "            new = '{}\\t{}\\t{}'.format(wsen, cnt, jsonstr)\n",
    "            new_lines.append(new)\n",
    "    with open(fn+'new', 'wb') as f:\n",
    "        for l in new_lines:\n",
    "            f.write(l)\n",
    "    "
   ]
  }
 ],
 "metadata": {
  "kernelspec": {
   "display_name": "Python 2",
   "language": "python",
   "name": "python2"
  },
  "language_info": {
   "codemirror_mode": {
    "name": "ipython",
    "version": 2
   },
   "file_extension": ".py",
   "mimetype": "text/x-python",
   "name": "python",
   "nbconvert_exporter": "python",
   "pygments_lexer": "ipython2",
   "version": "2.7.11"
  }
 },
 "nbformat": 4,
 "nbformat_minor": 2
}
