{
 "cells": [
  {
   "cell_type": "code",
   "execution_count": 1,
   "metadata": {
    "collapsed": true
   },
   "outputs": [],
   "source": [
    "from src.leaflet_creation import create_map_visualization\n",
    "import geopandas as gp\n",
    "\n",
    "from src.constants import fn_segments_ph, epsg_ph, latlon_crs\n",
    "data_dir = 'data/'\n",
    "path_segs_ph = data_dir + fn_segments_ph\n"
   ]
  },
  {
   "cell_type": "code",
   "execution_count": null,
   "metadata": {
    "collapsed": true
   },
   "outputs": [],
   "source": [
    "html_title = 'ph segs'\n",
    "file_path = ''\n",
    "file_name = 'ph segs'\n",
    "lon, lat  = -75.1662524506, 39.9629916967\n",
    "zoom = 16\n",
    "init_layers = ['streets', 'stsg']\n",
    "map_layers = ['light','streets']\n",
    "binding_data=[['stsg','street segment']]\n",
    "segs['color'] = '#aa0'\n",
    "gpdfs = [segs]\n",
    "create_map_visualization(html_title, file_path, file_name, lat, lon, zoom, init_layers, map_layers, binding_data, gpdfs)"
   ]
  }
 ],
 "metadata": {
  "kernelspec": {
   "display_name": "Python 2",
   "language": "python",
   "name": "python2"
  },
  "language_info": {
   "codemirror_mode": {
    "name": "ipython",
    "version": 2
   },
   "file_extension": ".py",
   "mimetype": "text/x-python",
   "name": "python",
   "nbconvert_exporter": "python",
   "pygments_lexer": "ipython2",
   "version": "2.7.11"
  }
 },
 "nbformat": 4,
 "nbformat_minor": 2
}
