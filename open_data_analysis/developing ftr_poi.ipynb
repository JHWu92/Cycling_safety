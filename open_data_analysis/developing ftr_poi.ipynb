{
 "cells": [
  {
   "cell_type": "markdown",
   "metadata": {},
   "source": [
    "# TODO:\n",
    "### update frsq poi mapping\n",
    "### assigning rltn tag to equal ln may not be a good idea. \n",
    "\n",
    "for exmaple, when the role of a way is inner(http://www.openstreetmap.org/way/48076826), meaning the the way serve a different function than rltn(http://www.openstreetmap.org/relation/381363)\n",
    "\n",
    "it seems that \"inner\" role is the only fallback\n",
    "\n",
    "examples:\n",
    "- set(['cycling facilities', 'retail shop']) http://www.openstreetmap.org/way/48076826 set(['transportation']) http://www.openstreetmap.org/relation/381363\n",
    "- set(['transportation']) http://www.openstreetmap.org/way/48081175 set(['outdoors and recreation']) http://www.openstreetmap.org/relation/3213622\n",
    "- set(['professional service']) http://www.openstreetmap.org/way/48085321 set(['transportation']) http://www.openstreetmap.org/relation/914244\n",
    "- set(['cycling facilities']) http://www.openstreetmap.org/way/48168497 set(['transportation']) http://www.openstreetmap.org/relation/383188\n",
    "- set(['cycling facilities']) http://www.openstreetmap.org/way/52303179 set(['transportation']) http://www.openstreetmap.org/relation/450333\n",
    "- set(['professional service']) http://www.openstreetmap.org/way/66417858 set(['outdoors and recreation']) http://www.openstreetmap.org/relation/3213622\n",
    "- set(['outdoors and recreation']) http://www.openstreetmap.org/way/173918307 set(['cycling facilities']) http://www.openstreetmap.org/relation/2322204\n",
    "- set(['outdoors and recreation']) http://www.openstreetmap.org/way/66418767 set(['cycling facilities']) http://www.openstreetmap.org/relation/2322204\n",
    "- set(['outdoors and recreation']) http://www.openstreetmap.org/way/237887425 set(['cycling facilities']) http://www.openstreetmap.org/relation/3205766\n",
    "- set(['outdoors and recreation']) http://www.openstreetmap.org/way/237887426 set(['cycling facilities']) http://www.openstreetmap.org/relation/3205766\n",
    "- set(['cycling facilities']) http://www.openstreetmap.org/way/203025090 set(['transportation']) http://www.openstreetmap.org/relation/2724481\n",
    "- set(['cycling facilities']) http://www.openstreetmap.org/way/288579359 set(['transportation']) http://www.openstreetmap.org/relation/5170966\n",
    "- set(['cycling facilities']) http://www.openstreetmap.org/way/288579359 set(['transportation']) http://www.openstreetmap.org/relation/5170968\n",
    "- set(['cycling facilities']) http://www.openstreetmap.org/way/288579359 set(['transportation']) http://www.openstreetmap.org/relation/5170967\n",
    "- set(['cycling facilities']) http://www.openstreetmap.org/way/288579360 set(['transportation']) http://www.openstreetmap.org/relation/5170968\n",
    "- set(['cycling facilities']) http://www.openstreetmap.org/way/288579360 set(['transportation']) http://www.openstreetmap.org/relation/5170966\n",
    "- set(['cycling facilities']) http://www.openstreetmap.org/way/288579360 set(['transportation']) http://www.openstreetmap.org/relation/5170967\n",
    "- set(['cycling facilities']) http://www.openstreetmap.org/way/296755159 set(['transportation']) http://www.openstreetmap.org/relation/2723927\n",
    "- set(['cycling facilities']) http://www.openstreetmap.org/way/296794684 set(['transportation']) http://www.openstreetmap.org/relation/2723927"
   ]
  },
  {
   "cell_type": "markdown",
   "metadata": {},
   "source": [
    "# function of get_feature_poi\n",
    "\n",
    "1. [x] mapped frsq venues to poi categories --> filter frsq venues by obj_near_segment\n",
    "2. [x] mapped osm data to poi categories, filter osm data by obj_near_segment\n",
    "3. [x] remove overlap between osm and frsq\n",
    "4. [x] Visalization:\n",
    "    - [x] poi categories distribution\n",
    "        1. [x] frsq venues near segments\n",
    "        2. [x] osm venues near segments\n",
    "        3. [x] final poi near segments(after removing overlap)\n",
    "    - [x] poi categories per segment distribution"
   ]
  },
  {
   "cell_type": "code",
   "execution_count": 19,
   "metadata": {
    "collapsed": false
   },
   "outputs": [],
   "source": [
    "import src.constants; reload(src.constants)\n",
    "import src.geom_helper; reload(src.geom_helper)\n",
    "import src.ftr_poi; reload(src.ftr_poi)\n",
    "import src.utils; reload(src.utils)\n",
    "from src.constants import fn_frsq_venues_dc, fn_segments_dc, epsg_dc, fn_osm_db_dc, fn_poi_frsq_dc, fn_poi_osm_dc\n",
    "from src.constants import fn_poi_distr_dc, fn_feature_poi_dc, fn_poi_seg_cvrg_dc, fn_poi_boxplot_per_seg_dc\n",
    "from src.constants import fn_mapping_for_fs, fn_mapping_for_osm, poi_categories\n",
    "from src.geom_helper import bfr_20m, objs_near_segs, objs_near_segs_store, gpdf_equal\n",
    "\n",
    "import geopandas as gp\n",
    "import pandas as pd\n",
    "import numpy as np\n",
    "\n",
    "from src.ftr_poi import *"
   ]
  },
  {
   "cell_type": "code",
   "execution_count": 20,
   "metadata": {
    "collapsed": false
   },
   "outputs": [],
   "source": [
    "data_dir = 'data/'\n",
    "path_frsq_venues_dc = data_dir + fn_frsq_venues_dc\n",
    "path_osm_db_dc = data_dir + fn_osm_db_dc\n",
    "path_segs_dc = data_dir + fn_segments_dc\n",
    "path_mapping_for_fs = data_dir+fn_mapping_for_fs\n",
    "path_mapping_for_osm = data_dir+fn_mapping_for_osm\n",
    "path_poi_distr_dc = data_dir + fn_poi_distr_dc\n",
    "path_feature_poi_dc = data_dir + fn_feature_poi_dc\n",
    "\n",
    "path_poi_seg_cvrg_dc = data_dir + fn_poi_seg_cvrg_dc\n",
    "path_poi_boxplot_per_seg_dc = data_dir + fn_poi_boxplot_per_seg_dc"
   ]
  },
  {
   "cell_type": "code",
   "execution_count": 23,
   "metadata": {
    "collapsed": false,
    "scrolled": true
   },
   "outputs": [
    {
     "name": "stdout",
     "output_type": "stream",
     "text": [
      "===========mapping  frsq venues to poi categories===========\n",
      "# venues with poi = 28740\n",
      "venues without poi category: #venues=1447, #frsq_categories=1\n",
      "top ten unmapped frsq_categories {'no category': 1447}\n",
      "===========mapping osm to poi category===========\n",
      "# rows in table tag  = 1484405\n",
      "# rows after mapping = 44060\n",
      "# objs have category = 32808\n",
      "# objs have category by ot: {'R': 1079, 'W': 20010, 'N': 11719}\n",
      "# categories: # objs = {1: 32183, 2: 620, 3: 5}\n"
     ]
    },
    {
     "name": "stderr",
     "output_type": "stream",
     "text": [
      "d:\\program files\\anaconda2\\lib\\site-packages\\pandas\\core\\generic.py:2177: SettingWithCopyWarning: \n",
      "A value is trying to be set on a copy of a slice from a DataFrame\n",
      "\n",
      "See the the caveats in the documentation: http://pandas.pydata.org/pandas-docs/stable/indexing.html#indexing-view-versus-copy\n",
      "  self[name] = value\n"
     ]
    },
    {
     "name": "stdout",
     "output_type": "stream",
     "text": [
      "=====remove_osm_frsq_overlap=====\n",
      "# conn components(osm_pts connected with frsq):  2658\n",
      "# pairs of overlap (881, 13)\n",
      "# pairs by overlap criteria {'same category': 111, 'similar name': 770}\n",
      "distribution of # pairs of overlap within each connected component {1: 679, 2: 66, 3: 12, 4: 6, 5: 2}\n",
      "# overlap points in osm = 849, # points in fs = 863\n",
      "# independent points in osm = 10914, # points in fs = 27877\n",
      "# total points in osm = 11725, # points in fs = 28740\n",
      "# venues in city = 28740\n",
      "# osm after clean in city, # points = 11725, # line/polygon = 23373\n",
      "# poi in dc = 63045, # poi near seg dc = 43680\n",
      "# objs have category near seg by ot: {'R': 1398, 'N_fq': 721, 'W': 14389, 'N': 8086}\n",
      "plot poi distribution\n",
      "# segs with poi: 12514/13522=92.5454814377%\n",
      "plot poi per seg\n"
     ]
    }
   ],
   "source": [
    "seg_poi_features_dc, poi_distr_dc, poi_near_segs_dc, seg_poi_index_dc = get_feature_poi(\n",
    "    path_frsq_venues_dc, path_osm_db_dc, path_segs_dc, path_mapping_for_fs, path_mapping_for_osm, path_poi_distr_dc, \n",
    "    path_feature_poi_dc, path_poi_seg_cvrg_dc, path_poi_boxplot_per_seg_dc,\n",
    "    bfr_20m, 5, bfr_crs=epsg_dc, init_crs=4326, debug=True)"
   ]
  },
  {
   "cell_type": "code",
   "execution_count": 4,
   "metadata": {
    "collapsed": false,
    "scrolled": true
   },
   "outputs": [
    {
     "name": "stdout",
     "output_type": "stream",
     "text": [
      "===========mapping  frsq venues to poi categories===========\n",
      "# venues with poi = 27048\n",
      "venues without poi category: #venues=3139, #frsq_categories=63\n",
      "top ten unmapped frsq_categories {u'': 1447, u'Building': 882, u'TV Station': 11, u'Exhibit': 51, u'Moving Target': 121, u'Zoo': 14, u'Festival': 6, u'Conference': 7, u'Intersection': 55, u'Road': 450}\n",
      "===========mapping osm to poi category===========\n",
      "# rows in table tag  = 1484405\n",
      "# rows after mapping = 44060\n",
      "# objs have category = 32808\n",
      "# objs have category by ot: {'R': 1079, 'W': 20010, 'N': 11719}\n",
      "# categories: # objs = {1: 32183, 2: 620, 3: 5}\n"
     ]
    },
    {
     "name": "stderr",
     "output_type": "stream",
     "text": [
      "d:\\program files\\anaconda2\\lib\\site-packages\\pandas\\core\\generic.py:2177: SettingWithCopyWarning: \n",
      "A value is trying to be set on a copy of a slice from a DataFrame\n",
      "\n",
      "See the the caveats in the documentation: http://pandas.pydata.org/pandas-docs/stable/indexing.html#indexing-view-versus-copy\n",
      "  self[name] = value\n"
     ]
    },
    {
     "name": "stdout",
     "output_type": "stream",
     "text": [
      "=====remove_osm_frsq_overlap=====\n",
      "# conn components(osm_pts connected with frsq):  2727\n",
      "# pairs of overlap (891, 13)\n",
      "# pairs by overlap criteria {'same category': 111, 'similar name': 780}\n",
      "distribution of # pairs of overlap within each connected component {1: 681, 2: 70, 3: 12, 4: 6, 5: 2}\n",
      "# overlap points in osm = 857, # points in fs = 873\n",
      "# independent points in osm = 10906, # points in fs = 29314\n",
      "# total points in osm = 11725, # points in fs = 30187\n",
      "# venues in city = 30187\n",
      "# osm after clean in city, # points = 11725, # line/polygon = 23373\n",
      "# poi in dc = 64484, # poi near seg dc = 44668\n",
      "# objs have category near seg by ot: {'R': 1398, 'N_fq': 729, 'W': 14389, 'N': 8081}\n",
      "plot poi distribution\n",
      "# segs with poi: 12530/13522=92.6638071291%\n",
      "plot poi per seg\n"
     ]
    }
   ],
   "source": [
    "seg_poi_features_dc, poi_distr_dc, poi_near_segs_dc, seg_poi_index_dc = get_feature_poi(\n",
    "    path_frsq_venues_dc, path_osm_db_dc, path_segs_dc, path_mapping_for_fs, path_mapping_for_osm, path_poi_distr_dc, \n",
    "    path_feature_poi_dc, path_poi_seg_cvrg_dc, path_poi_boxplot_per_seg_dc,\n",
    "    bfr_20m, 5, bfr_crs=epsg_dc, init_crs=4326, debug=True)"
   ]
  }
 ],
 "metadata": {
  "kernelspec": {
   "display_name": "Python 2",
   "language": "python",
   "name": "python2"
  },
  "language_info": {
   "codemirror_mode": {
    "name": "ipython",
    "version": 2
   },
   "file_extension": ".py",
   "mimetype": "text/x-python",
   "name": "python",
   "nbconvert_exporter": "python",
   "pygments_lexer": "ipython2",
   "version": "2.7.11"
  }
 },
 "nbformat": 4,
 "nbformat_minor": 2
}
