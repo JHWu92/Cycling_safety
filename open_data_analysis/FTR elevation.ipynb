{
 "cells": [
  {
   "cell_type": "code",
   "execution_count": 1,
   "metadata": {
    "collapsed": true
   },
   "outputs": [],
   "source": [
    "import pandas as pd\n"
   ]
  },
  {
   "cell_type": "code",
   "execution_count": 2,
   "metadata": {
    "collapsed": true
   },
   "outputs": [],
   "source": [
    "import numpy as np"
   ]
  },
  {
   "cell_type": "code",
   "execution_count": 6,
   "metadata": {},
   "outputs": [],
   "source": [
    "\n",
    "point_elevation = pd.read_csv('data/raw_data/elevation_segid_dc.csv')\n",
    "point_elevation.columns = ['lat', 'lon', 'ele', 'STREETSEGID']"
   ]
  },
  {
   "cell_type": "code",
   "execution_count": 24,
   "metadata": {
    "collapsed": true
   },
   "outputs": [],
   "source": [
    "import geopandas as gpd"
   ]
  },
  {
   "cell_type": "code",
   "execution_count": 25,
   "metadata": {},
   "outputs": [],
   "source": [
    "segs = gpd.read_file('data/segments_dc.geojson')"
   ]
  },
  {
   "cell_type": "code",
   "execution_count": 34,
   "metadata": {},
   "outputs": [],
   "source": [
    "def min_max_ele(df):\n",
    "    max_ = df.ele.max()\n",
    "    min_ = df.ele.min()\n",
    "    return max_ - min_\n"
   ]
  },
  {
   "cell_type": "code",
   "execution_count": 35,
   "metadata": {
    "collapsed": true
   },
   "outputs": [],
   "source": [
    "diff = point_elevation.groupby('STREETSEGID').apply(min_max_ele)"
   ]
  },
  {
   "cell_type": "code",
   "execution_count": 45,
   "metadata": {
    "scrolled": true
   },
   "outputs": [],
   "source": [
    "ftr = segs[['STREETSEGID']].merge(diff.to_frame().reset_index()).drop('STREETSEGID', axis=1)"
   ]
  },
  {
   "cell_type": "code",
   "execution_count": 46,
   "metadata": {
    "collapsed": true
   },
   "outputs": [],
   "source": [
    "ftr.index.name = 'index_seg'\n",
    "ftr.columns = ['elevation_diff']"
   ]
  },
  {
   "cell_type": "code",
   "execution_count": 48,
   "metadata": {},
   "outputs": [],
   "source": [
    "ftr.to_csv('data/feature_elevation_diff_dc.csv')"
   ]
  },
  {
   "cell_type": "code",
   "execution_count": 8,
   "metadata": {
    "collapsed": true
   },
   "outputs": [],
   "source": [
    "def haversine(lon1, lat1, lon2, lat2):\n",
    "    \"\"\"\n",
    "    Calculate the great circle distance between two points\n",
    "    on the earth (specified in decimal degrees)\n",
    "    \"\"\"\n",
    "    from math import radians, cos, sin, asin, sqrt\n",
    "    # convert decimal degrees to radians\n",
    "    lon1, lat1, lon2, lat2 = map(radians, [lon1, lat1, lon2, lat2])\n",
    "    # haversine formula\n",
    "    dlon = lon2 - lon1\n",
    "    dlat = lat2 - lat1\n",
    "    a = sin(dlat / 2) ** 2 + cos(lat1) * cos(lat2) * sin(dlon / 2) ** 2\n",
    "    c = 2 * asin(sqrt(a))\n",
    "    km = 6367 * c\n",
    "    m = km * 1000\n",
    "    return m\n",
    "\n",
    "def dist_height(pt1, pt2):\n",
    "    distance = haversine(pt1['lon'], pt1['lat'], pt2['lon'], pt2['lat'])\n",
    "    height = pt2['ele'] - pt1['ele']\n",
    "    return distance, height\n",
    "\n",
    "def get_dist_heights(df):\n",
    "    distances = []\n",
    "    heights = []\n",
    "    for i in range(df.shape[0]-1):\n",
    "        pt1 = df.iloc[i]\n",
    "        pt2 = df.iloc[i+1]\n",
    "        d, h = dist_height(pt1, pt2)\n",
    "        distances.append(d)\n",
    "        heights.append(h)\n",
    "    return [distances, heights]\n",
    "\n",
    "\n",
    "def get_sin(row):\n",
    "    distances = row.distances\n",
    "    heights = row.heights\n",
    "    return [heights[i]/distances[i] for i in range(len(distances))]\n"
   ]
  },
  {
   "cell_type": "code",
   "execution_count": 9,
   "metadata": {},
   "outputs": [
    {
     "name": "stderr",
     "output_type": "stream",
     "text": [
      "D:\\ProgramFiles\\Anaconda3\\lib\\site-packages\\ipykernel_launcher.py:38: RuntimeWarning: invalid value encountered in double_scalars\n"
     ]
    }
   ],
   "source": [
    "res = point_elevation.groupby('STREETSEGID').apply(get_dist_heights)\n",
    "\n",
    "df = res.to_frame()\n",
    "df['distances'] = df[0].apply(lambda x: x[0])\n",
    "df['heights'] = df[0].apply(lambda x: x[1])\n",
    "df['sins'] = df.apply(get_sin, axis=1)"
   ]
  },
  {
   "cell_type": "code",
   "execution_count": 32,
   "metadata": {},
   "outputs": [
    {
     "data": {
      "text/plain": [
       "'LINESTRING (-77.00593551016078 38.91813016303549, -77.00593459207259 38.91818304198257, -77.00593367440291 38.91824096559412, -77.00593633667745 38.91836239775159, -77.00593754883516 38.91851748622692, -77.0059375634096 38.91851941288275, -77.00593756629235 38.91851941288264)'"
      ]
     },
     "execution_count": 32,
     "metadata": {},
     "output_type": "execute_result"
    }
   ],
   "source": [
    "segs[segs.STREETSEGID==11712].geometry.values[0].wkt"
   ]
  },
  {
   "cell_type": "code",
   "execution_count": 14,
   "metadata": {},
   "outputs": [
    {
     "data": {
      "text/plain": [
       "11712"
      ]
     },
     "execution_count": 14,
     "metadata": {},
     "output_type": "execute_result"
    }
   ],
   "source": [
    "df['sins'].apply(max).argmax()"
   ]
  },
  {
   "cell_type": "code",
   "execution_count": 22,
   "metadata": {},
   "outputs": [
    {
     "data": {
      "text/plain": [
       "array([ [5.876715107985784, 6.437256885091748, 13.496125320024412, 17.234543074791613, 0.2141035554083236, 0.00024924334173302476],\n",
       "       [0.45000000000000284, 0.58999999999999631, 0.50999999999999801, 0.5, 1.5300000000000011, 0.0]], dtype=object)"
      ]
     },
     "execution_count": 22,
     "metadata": {},
     "output_type": "execute_result"
    }
   ],
   "source": [
    "df.loc[11712, ['distances', 'heights']].values"
   ]
  },
  {
   "cell_type": "code",
   "execution_count": 33,
   "metadata": {},
   "outputs": [
    {
     "data": {
      "text/html": [
       "<div>\n",
       "<style>\n",
       "    .dataframe thead tr:only-child th {\n",
       "        text-align: right;\n",
       "    }\n",
       "\n",
       "    .dataframe thead th {\n",
       "        text-align: left;\n",
       "    }\n",
       "\n",
       "    .dataframe tbody tr th {\n",
       "        vertical-align: top;\n",
       "    }\n",
       "</style>\n",
       "<table border=\"1\" class=\"dataframe\">\n",
       "  <thead>\n",
       "    <tr style=\"text-align: right;\">\n",
       "      <th></th>\n",
       "      <th>lat</th>\n",
       "      <th>lon</th>\n",
       "      <th>ele</th>\n",
       "      <th>STREETSEGID</th>\n",
       "    </tr>\n",
       "  </thead>\n",
       "  <tbody>\n",
       "    <tr>\n",
       "      <th>102550</th>\n",
       "      <td>38.918130</td>\n",
       "      <td>-77.005936</td>\n",
       "      <td>52.36</td>\n",
       "      <td>11712</td>\n",
       "    </tr>\n",
       "    <tr>\n",
       "      <th>102551</th>\n",
       "      <td>38.918183</td>\n",
       "      <td>-77.005935</td>\n",
       "      <td>52.81</td>\n",
       "      <td>11712</td>\n",
       "    </tr>\n",
       "    <tr>\n",
       "      <th>102552</th>\n",
       "      <td>38.918241</td>\n",
       "      <td>-77.005934</td>\n",
       "      <td>53.40</td>\n",
       "      <td>11712</td>\n",
       "    </tr>\n",
       "    <tr>\n",
       "      <th>102553</th>\n",
       "      <td>38.918362</td>\n",
       "      <td>-77.005936</td>\n",
       "      <td>53.91</td>\n",
       "      <td>11712</td>\n",
       "    </tr>\n",
       "    <tr>\n",
       "      <th>102554</th>\n",
       "      <td>38.918517</td>\n",
       "      <td>-77.005938</td>\n",
       "      <td>54.41</td>\n",
       "      <td>11712</td>\n",
       "    </tr>\n",
       "    <tr>\n",
       "      <th>102555</th>\n",
       "      <td>38.918519</td>\n",
       "      <td>-77.005938</td>\n",
       "      <td>55.94</td>\n",
       "      <td>11712</td>\n",
       "    </tr>\n",
       "    <tr>\n",
       "      <th>102556</th>\n",
       "      <td>38.918519</td>\n",
       "      <td>-77.005938</td>\n",
       "      <td>55.94</td>\n",
       "      <td>11712</td>\n",
       "    </tr>\n",
       "  </tbody>\n",
       "</table>\n",
       "</div>"
      ],
      "text/plain": [
       "              lat        lon    ele  STREETSEGID\n",
       "102550  38.918130 -77.005936  52.36        11712\n",
       "102551  38.918183 -77.005935  52.81        11712\n",
       "102552  38.918241 -77.005934  53.40        11712\n",
       "102553  38.918362 -77.005936  53.91        11712\n",
       "102554  38.918517 -77.005938  54.41        11712\n",
       "102555  38.918519 -77.005938  55.94        11712\n",
       "102556  38.918519 -77.005938  55.94        11712"
      ]
     },
     "execution_count": 33,
     "metadata": {},
     "output_type": "execute_result"
    }
   ],
   "source": [
    "point_elevation[point_elevation.STREETSEGID==11712]"
   ]
  }
 ],
 "metadata": {
  "kernelspec": {
   "display_name": "Python 3",
   "language": "python",
   "name": "python3"
  },
  "language_info": {
   "codemirror_mode": {
    "name": "ipython",
    "version": 3
   },
   "file_extension": ".py",
   "mimetype": "text/x-python",
   "name": "python",
   "nbconvert_exporter": "python",
   "pygments_lexer": "ipython3",
   "version": "3.6.1"
  }
 },
 "nbformat": 4,
 "nbformat_minor": 2
}
