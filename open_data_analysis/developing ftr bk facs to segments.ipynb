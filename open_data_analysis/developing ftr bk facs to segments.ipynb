{
 "cells": [
  {
   "cell_type": "code",
   "execution_count": 5,
   "metadata": {
    "collapsed": false
   },
   "outputs": [],
   "source": [
    "from src.geom_helper import bfr_20m\n",
    "from src.ftr_bk_facs import get_feature_bk_facs\n"
   ]
  },
  {
   "cell_type": "code",
   "execution_count": 3,
   "metadata": {
    "collapsed": true
   },
   "outputs": [],
   "source": [
    "data_dir = 'data/'"
   ]
  },
  {
   "cell_type": "code",
   "execution_count": 3,
   "metadata": {
    "collapsed": false,
    "scrolled": true
   },
   "outputs": [
    {
     "name": "stdout",
     "output_type": "stream",
     "text": [
      "# bk facs in osm = 7548\n",
      "# bk facs by features:\n",
      "cycle_lane [('', 7167), ('both', 190), ('one', 170), ('right', 21)]\n",
      "is_shared [('', 7517), (1.0, 31)]\n",
      "cycle_way [('', 7304), ('both', 220), ('one', 21), ('right', 3)]\n",
      "side_walk [('', 5682), ('both', 1220), ('right', 282), ('no', 275), ('left', 89)]\n",
      "bikable [('yes', 4687), ('', 2367), ('no', 494)]\n",
      "# matches between bk facs and segs = 6252\n",
      "cycle_lane [('', 3992), ('both', 437), ('one', 309), ('right', 28)]\n",
      "is_shared [(0, 4715), (1, 51)]\n",
      "cycle_way [('', 4469), ('both', 216), ('one', 72), ('right', 9)]\n",
      "side_walk [('both', 3098), ('', 1106), ('no', 290), ('right', 147), ('left', 125)]\n",
      "bikable [('', 3829), ('yes', 911), ('no', 26)]\n"
     ]
    }
   ],
   "source": [
    "from src.constants import fn_osm_db_dc, fn_segments_dc, epsg_dc, fn_feature_bk_facs_dc\n",
    "path_osm_db_dc = data_dir + fn_osm_db_dc\n",
    "path_segs_dc = data_dir + fn_segments_dc\n",
    "path_ftr_dc = data_dir + fn_feature_bk_facs_dc\n",
    "features_bk_facs_dc = get_feature_bk_facs(path_osm_db_dc, path_segs_dc, path_ftr_dc, epsg_dc, bfr_20m, debug=True)"
   ]
  },
  {
   "cell_type": "code",
   "execution_count": 6,
   "metadata": {
    "collapsed": false
   },
   "outputs": [
    {
     "name": "stdout",
     "output_type": "stream",
     "text": [
      "# bk facs in osm = 5904\n",
      "# bk facs by features:\n",
      "cycle_lane [('', 4299), ('both', 834), ('one', 756), ('right', 15)]\n",
      "is_shared [('', 5850), (1.0, 54)]\n",
      "cycle_way [('', 5754), ('both', 148), ('one', 2)]\n",
      "side_walk [('', 4904), ('both', 602), ('right', 361), ('left', 30), ('no', 7)]\n",
      "bikable [('yes', 2537), ('', 2516), ('no', 851)]\n",
      "# matches between bk facs and segs = 7068\n",
      "cycle_lane [('', 2890), ('both', 2244), ('one', 725), ('right', 29)]\n",
      "is_shared [(0, 5642), (1, 246)]\n",
      "cycle_way [('', 5726), ('both', 154), ('one', 8)]\n",
      "side_walk [('', 3573), ('both', 1950), ('right', 330), ('left', 30), ('no', 5)]\n",
      "bikable [('', 4761), ('yes', 649), ('no', 478)]\n"
     ]
    }
   ],
   "source": [
    "from src.constants import fn_osm_db_ph, fn_segments_ph, epsg_ph, fn_feature_bk_facs_ph\n",
    "path_osm_db_ph = data_dir + fn_osm_db_ph\n",
    "path_segs_ph = data_dir + fn_segments_ph\n",
    "path_ftr_ph = data_dir + fn_feature_bk_facs_ph\n",
    "features_bk_facs_ph = get_feature_bk_facs(path_osm_db_ph, path_segs_ph, path_ftr_ph, epsg_ph, bfr_20m, debug=True)\n"
   ]
  }
 ],
 "metadata": {
  "kernelspec": {
   "display_name": "Python 2",
   "language": "python",
   "name": "python2"
  },
  "language_info": {
   "codemirror_mode": {
    "name": "ipython",
    "version": 2
   },
   "file_extension": ".py",
   "mimetype": "text/x-python",
   "name": "python",
   "nbconvert_exporter": "python",
   "pygments_lexer": "ipython2",
   "version": "2.7.11"
  }
 },
 "nbformat": 4,
 "nbformat_minor": 2
}
