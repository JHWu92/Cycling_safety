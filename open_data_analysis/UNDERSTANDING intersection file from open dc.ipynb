{
 "cells": [
  {
   "cell_type": "markdown",
   "metadata": {},
   "source": [
    "\n",
    "# Notes:\n",
    "\n",
    "## about intersection file from opendc\n",
    "0. doesn't cover all intersections, but cost-effective\n",
    "    - 355 STREETSEGID do not appear in the intersection file. E.g. 13150(-77.0613818238898 38.9236205926051), 6296(-77.07705117124307 38.925679831393)\n",
    "    - some problems: not sure how this intersection is produced. E.g. segids=[4167, 8266], intersected at (38.905652137087 -77.01893411807097) ```intxn_dc[(intxn_dc.STREET1SEGID.isin(segids))|(intxn_dc.STREET2SEGID.isin(segids))][['STREET1SEGID','STREET2SEGID']]```from the map, there shouldn't be intersection of them, but there is (4167, 8266) edge. There should be a edge(4167,5326) but instead (5326, 4167); should be (4167, 3978), but no; but (8615, 4167) is there.\n",
    "1. It's directed intersesction graph: (STREET1SEGID, STREET2SEGID) means STREET1SEGID can make a turn into STREET2SEGID. \n",
    "    - E.g. There is (3416L, 3523L) in the file, meaning you can turn into 3523 from 3416. But not otherwise.\n",
    "2. The intersection file is more realistic than STREET SEGMENTS SHAPE FILE.\n",
    "    - (STREET1SEGID, STREET2SEGID) could appear more than once. \n",
    "        - E.g. ```intxn_dc[intxn_dc.stpair_sorted==(9529, 12082)]```\n",
    "    - Because it's realistic, the intersection points are not merely spatial join of the OPEN DC STREET SEGMENT File. \n",
    "        - E.g. ```intxn_dc[intxn_dc.stpair_sorted==(4766, 9755)]```\n",
    "3. Almost all INTERSECTIONID has a unique latlon point, except:\n",
    "    - ```intxn_dc[intxn_dc.INTERSECTIONID==12222].T```: same intersection with mirror different precision in coordinates\n",
    "    - ```intxn_dc[intxn_dc.INTERSECTIONID==20330].T```: two different intersections\n",
    "4. INTERSECTION_TYPE has 4 values: 'REGULAR': 17512, 'RAMP': 415, 'OVERPASS': 174, 'UNDERPASS': 175. OVERPASS and UNDERPASS are not accessible. \n"
   ]
  },
  {
   "cell_type": "code",
   "execution_count": 4,
   "metadata": {
    "collapsed": true
   },
   "outputs": [],
   "source": [
    "import geopandas as gp\n",
    "import pandas as pd\n",
    "from src.constants import fn_segments_dc,fn_intxn_dc\n",
    "from shapely.geometry import Point"
   ]
  },
  {
   "cell_type": "code",
   "execution_count": 5,
   "metadata": {
    "collapsed": false
   },
   "outputs": [],
   "source": [
    "data_dir = 'data/'\n",
    "path_segs_dc = data_dir + fn_segments_dc\n",
    "path_intxn_dc = data_dir + fn_intxn_dc\n"
   ]
  },
  {
   "cell_type": "code",
   "execution_count": 6,
   "metadata": {
    "collapsed": false
   },
   "outputs": [],
   "source": [
    "segs_dc = gp.read_file(path_segs_dc)\n",
    "intxn_dc = pd.read_csv(path_intxn_dc)\n",
    "intxn_dc['latlon'] = intxn_dc.apply(lambda x: (x.LATITUDE,x.LONGITUDE), axis=1)\n",
    "intxn_dc['stpair_sorted'] = intxn_dc.apply(lambda x: tuple(sorted([x.STREET1SEGID, x.STREET2SEGID])), axis=1)\n",
    "intxn_dc['geometry'] = intxn_dc.apply(lambda x: Point(x.LONGITUDE, x.LATITUDE), axis=1)"
   ]
  },
  {
   "cell_type": "markdown",
   "metadata": {},
   "source": [
    "# compare intersection points with google maps\n",
    "find out the meaning of intersection points is not likely as what I thought"
   ]
  },
  {
   "cell_type": "code",
   "execution_count": 23,
   "metadata": {
    "collapsed": false
   },
   "outputs": [
    {
     "data": {
      "text/html": [
       "<div>\n",
       "<table border=\"1\" class=\"dataframe\">\n",
       "  <thead>\n",
       "    <tr style=\"text-align: right;\">\n",
       "      <th></th>\n",
       "      <th>STREETSEGID</th>\n",
       "      <th>DIRECTIONALITY</th>\n",
       "      <th>geometry</th>\n",
       "    </tr>\n",
       "  </thead>\n",
       "  <tbody>\n",
       "    <tr>\n",
       "      <th>137</th>\n",
       "      <td>4167</td>\n",
       "      <td>0</td>\n",
       "      <td>LINESTRING (-77.01893411807097 38.905652137087...</td>\n",
       "    </tr>\n",
       "    <tr>\n",
       "      <th>5701</th>\n",
       "      <td>8266</td>\n",
       "      <td>1</td>\n",
       "      <td>LINESTRING (-77.01617612500391 38.905653722632...</td>\n",
       "    </tr>\n",
       "  </tbody>\n",
       "</table>\n",
       "</div>"
      ],
      "text/plain": [
       "      STREETSEGID  DIRECTIONALITY  \\\n",
       "137          4167               0   \n",
       "5701         8266               1   \n",
       "\n",
       "                                               geometry  \n",
       "137   LINESTRING (-77.01893411807097 38.905652137087...  \n",
       "5701  LINESTRING (-77.01617612500391 38.905653722632...  "
      ]
     },
     "execution_count": 23,
     "metadata": {},
     "output_type": "execute_result"
    }
   ],
   "source": [
    "segids = [4167, 8266]\n",
    "segs_dc[segs_dc.STREETSEGID.isin(segids)][['STREETSEGID','DIRECTIONALITY','geometry']]"
   ]
  },
  {
   "cell_type": "code",
   "execution_count": 25,
   "metadata": {
    "collapsed": false
   },
   "outputs": [
    {
     "data": {
      "text/html": [
       "<div>\n",
       "<table border=\"1\" class=\"dataframe\">\n",
       "  <thead>\n",
       "    <tr style=\"text-align: right;\">\n",
       "      <th></th>\n",
       "      <th>BEGINMEASURE</th>\n",
       "      <th>DIRECTIONALITY</th>\n",
       "      <th>ENDMEASURE</th>\n",
       "      <th>FACILITYID</th>\n",
       "      <th>FROMADDRESSLEFTTHEO</th>\n",
       "      <th>FROMADDRESSRIGHTTHEO</th>\n",
       "      <th>FROMNODEID</th>\n",
       "      <th>OBJECTID</th>\n",
       "      <th>OBJECTID_1</th>\n",
       "      <th>QUADRANT</th>\n",
       "      <th>...</th>\n",
       "      <th>SHAPE_Length</th>\n",
       "      <th>SOURCEID</th>\n",
       "      <th>STREETID</th>\n",
       "      <th>STREETSEGID</th>\n",
       "      <th>STREETTYPE</th>\n",
       "      <th>TOADDRESSLEFTTHEO</th>\n",
       "      <th>TOADDRESSRIGHTTHEO</th>\n",
       "      <th>TONODEID</th>\n",
       "      <th>UPDATETIMESTAMP</th>\n",
       "      <th>geometry</th>\n",
       "    </tr>\n",
       "  </thead>\n",
       "  <tbody>\n",
       "    <tr>\n",
       "      <th>5702</th>\n",
       "      <td>0</td>\n",
       "      <td>2</td>\n",
       "      <td>84.072758</td>\n",
       "      <td>SEGID-8615</td>\n",
       "      <td>500</td>\n",
       "      <td>501</td>\n",
       "      <td>18272</td>\n",
       "      <td>5703</td>\n",
       "      <td>4074</td>\n",
       "      <td>NW</td>\n",
       "      <td>...</td>\n",
       "      <td>84.07273</td>\n",
       "      <td>15785050</td>\n",
       "      <td>105785</td>\n",
       "      <td>8615</td>\n",
       "      <td>ST</td>\n",
       "      <td>598</td>\n",
       "      <td>599</td>\n",
       "      <td>17178</td>\n",
       "      <td>2005-11-01T12:55:47</td>\n",
       "      <td>LINESTRING (-77.01893411807097 38.905652137087...</td>\n",
       "    </tr>\n",
       "  </tbody>\n",
       "</table>\n",
       "<p>1 rows × 22 columns</p>\n",
       "</div>"
      ],
      "text/plain": [
       "      BEGINMEASURE  DIRECTIONALITY  ENDMEASURE  FACILITYID  \\\n",
       "5702             0               2   84.072758  SEGID-8615   \n",
       "\n",
       "      FROMADDRESSLEFTTHEO  FROMADDRESSRIGHTTHEO  FROMNODEID  OBJECTID  \\\n",
       "5702                  500                   501       18272      5703   \n",
       "\n",
       "      OBJECTID_1 QUADRANT                        ...                          \\\n",
       "5702        4074       NW                        ...                           \n",
       "\n",
       "     SHAPE_Length  SOURCEID  STREETID STREETSEGID  STREETTYPE  \\\n",
       "5702     84.07273  15785050    105785        8615          ST   \n",
       "\n",
       "      TOADDRESSLEFTTHEO TOADDRESSRIGHTTHEO  TONODEID      UPDATETIMESTAMP  \\\n",
       "5702                598                599     17178  2005-11-01T12:55:47   \n",
       "\n",
       "                                               geometry  \n",
       "5702  LINESTRING (-77.01893411807097 38.905652137087...  \n",
       "\n",
       "[1 rows x 22 columns]"
      ]
     },
     "execution_count": 25,
     "metadata": {},
     "output_type": "execute_result"
    }
   ],
   "source": [
    "segs_dc[segs_dc.STREETSEGID==8615]"
   ]
  },
  {
   "cell_type": "code",
   "execution_count": 24,
   "metadata": {
    "collapsed": false,
    "scrolled": true
   },
   "outputs": [
    {
     "data": {
      "text/html": [
       "<div>\n",
       "<table border=\"1\" class=\"dataframe\">\n",
       "  <thead>\n",
       "    <tr style=\"text-align: right;\">\n",
       "      <th></th>\n",
       "      <th>STREET1SEGID</th>\n",
       "      <th>STREET2SEGID</th>\n",
       "    </tr>\n",
       "  </thead>\n",
       "  <tbody>\n",
       "    <tr>\n",
       "      <th>4884</th>\n",
       "      <td>5326</td>\n",
       "      <td>4167</td>\n",
       "    </tr>\n",
       "    <tr>\n",
       "      <th>7283</th>\n",
       "      <td>8615</td>\n",
       "      <td>4167</td>\n",
       "    </tr>\n",
       "    <tr>\n",
       "      <th>11509</th>\n",
       "      <td>4167</td>\n",
       "      <td>8266</td>\n",
       "    </tr>\n",
       "    <tr>\n",
       "      <th>16658</th>\n",
       "      <td>8266</td>\n",
       "      <td>1457</td>\n",
       "    </tr>\n",
       "  </tbody>\n",
       "</table>\n",
       "</div>"
      ],
      "text/plain": [
       "       STREET1SEGID  STREET2SEGID\n",
       "4884           5326          4167\n",
       "7283           8615          4167\n",
       "11509          4167          8266\n",
       "16658          8266          1457"
      ]
     },
     "execution_count": 24,
     "metadata": {},
     "output_type": "execute_result"
    }
   ],
   "source": [
    "intxn_dc[(intxn_dc.STREET1SEGID.isin(segids))|(intxn_dc.STREET2SEGID.isin(segids))][['STREET1SEGID','STREET2SEGID']]"
   ]
  },
  {
   "cell_type": "code",
   "execution_count": null,
   "metadata": {
    "collapsed": true
   },
   "outputs": [],
   "source": []
  },
  {
   "cell_type": "code",
   "execution_count": 10,
   "metadata": {
    "collapsed": false
   },
   "outputs": [],
   "source": [
    "unique_node_intxn = []\n",
    "for nid, grp in intxn_dc.groupby('INTERSECTIONID'):\n",
    "    geometry = grp.geometry.values[0]\n",
    "    unique_node_intxn.append((nid,geometry.buffer(0.0001)))\n",
    "unique_node_intxn = gp.GeoDataFrame(unique_node_intxn, columns=['INTERSECTIONID','geometry'])\n"
   ]
  },
  {
   "cell_type": "code",
   "execution_count": 13,
   "metadata": {
    "collapsed": false
   },
   "outputs": [
    {
     "data": {
      "text/html": [
       "<div>\n",
       "<table border=\"1\" class=\"dataframe\">\n",
       "  <thead>\n",
       "    <tr style=\"text-align: right;\">\n",
       "      <th></th>\n",
       "      <th>﻿X</th>\n",
       "      <th>Y</th>\n",
       "      <th>OBJECTID</th>\n",
       "      <th>MARID</th>\n",
       "      <th>INTERSECTIONID</th>\n",
       "      <th>STREET1ID</th>\n",
       "      <th>STREET2ID</th>\n",
       "      <th>ST1NAME</th>\n",
       "      <th>ST1TYPE</th>\n",
       "      <th>ST1QUAD</th>\n",
       "      <th>...</th>\n",
       "      <th>STREET1SEGID</th>\n",
       "      <th>STREET2SEGID</th>\n",
       "      <th>NODEID</th>\n",
       "      <th>INTERSECTION_TYPE</th>\n",
       "      <th>SOURCE</th>\n",
       "      <th>LATITUDE</th>\n",
       "      <th>LONGITUDE</th>\n",
       "      <th>latlon</th>\n",
       "      <th>stpair_sorted</th>\n",
       "      <th>geometry</th>\n",
       "    </tr>\n",
       "  </thead>\n",
       "  <tbody>\n",
       "    <tr>\n",
       "      <th>8868</th>\n",
       "      <td>-77.007072</td>\n",
       "      <td>38.851531</td>\n",
       "      <td>8869</td>\n",
       "      <td>913131</td>\n",
       "      <td>-500</td>\n",
       "      <td>504845</td>\n",
       "      <td>508125</td>\n",
       "      <td>INTERSTATE 295</td>\n",
       "      <td>INTERSTATE</td>\n",
       "      <td>BN</td>\n",
       "      <td>...</td>\n",
       "      <td>4342</td>\n",
       "      <td>3579</td>\n",
       "      <td>-500</td>\n",
       "      <td>RAMP</td>\n",
       "      <td>DC GIS</td>\n",
       "      <td>38.851524</td>\n",
       "      <td>-77.00707</td>\n",
       "      <td>(38.851524, -77.00707)</td>\n",
       "      <td>(3579, 4342)</td>\n",
       "      <td>POINT (-77.00707 38.851524)</td>\n",
       "    </tr>\n",
       "  </tbody>\n",
       "</table>\n",
       "<p>1 rows × 29 columns</p>\n",
       "</div>"
      ],
      "text/plain": [
       "             ﻿X          Y  OBJECTID   MARID  INTERSECTIONID  STREET1ID  \\\n",
       "8868 -77.007072  38.851531      8869  913131            -500     504845   \n",
       "\n",
       "      STREET2ID         ST1NAME     ST1TYPE ST1QUAD  \\\n",
       "8868     508125  INTERSTATE 295  INTERSTATE      BN   \n",
       "\n",
       "                 ...              STREET1SEGID STREET2SEGID NODEID  \\\n",
       "8868             ...                      4342         3579   -500   \n",
       "\n",
       "     INTERSECTION_TYPE  SOURCE   LATITUDE  LONGITUDE                  latlon  \\\n",
       "8868              RAMP  DC GIS  38.851524  -77.00707  (38.851524, -77.00707)   \n",
       "\n",
       "     stpair_sorted                     geometry  \n",
       "8868  (3579, 4342)  POINT (-77.00707 38.851524)  \n",
       "\n",
       "[1 rows x 29 columns]"
      ]
     },
     "execution_count": 13,
     "metadata": {},
     "output_type": "execute_result"
    }
   ],
   "source": [
    "intxn_dc[intxn_dc.INTERSECTIONID==-500]"
   ]
  },
  {
   "cell_type": "code",
   "execution_count": 12,
   "metadata": {
    "collapsed": true
   },
   "outputs": [],
   "source": [
    "from src.leaflet_creation import create_map_visualization\n",
    "\n",
    "html_title = 'dc intersection'\n",
    "file_path = 'data/'\n",
    "file_name = 'dc int'\n",
    "lon, lat  = -77.0908494, 38.9045525\n",
    "zoom = 12\n",
    "init_layers = ['streets']\n",
    "map_layers = ['light','streets','satellite']\n",
    "binding_data=[['stsg','street segment'],['intxn','intersection']]\n",
    "segs_dc['color'] = '#a0a'\n",
    "unique_node_intxn['color'] = '#0F0'\n",
    "gpdfs = [segs_dc, unique_node_intxn]\n",
    "create_map_visualization(html_title, file_path, file_name, lat, lon, zoom, init_layers, map_layers, binding_data, gpdfs)"
   ]
  }
 ],
 "metadata": {
  "kernelspec": {
   "display_name": "Python 2",
   "language": "python",
   "name": "python2"
  },
  "language_info": {
   "codemirror_mode": {
    "name": "ipython",
    "version": 2
   },
   "file_extension": ".py",
   "mimetype": "text/x-python",
   "name": "python",
   "nbconvert_exporter": "python",
   "pygments_lexer": "ipython2",
   "version": "2.7.11"
  }
 },
 "nbformat": 4,
 "nbformat_minor": 2
}
