{
 "cells": [
  {
   "cell_type": "markdown",
   "metadata": {},
   "source": [
    "\n",
    "# Notes:\n",
    "\n",
    "## about intersection file from opendc\n",
    "0. should be enough to cover all intersections\n",
    "1. It's directed intersesction graph: (STREET1SEGID, STREET2SEGID) means STREET1SEGID can make a turn into STREET2SEGID. \n",
    "    - E.g. There is (3416L, 3523L) in the file, meaning you can turn into 3523 from 3416. But not otherwise.\n",
    "2. The intersection file is more realistic than STREET SEGMENTS SHAPE FILE.\n",
    "    - (STREET1SEGID, STREET2SEGID) could appear more than once. \n",
    "        - E.g. ```intxn_dc[intxn_dc.stpair_sorted==(9529, 12082)]```\n",
    "    - Because it's realistic, the intersection points are not merely spatial join of the OPEN DC STREET SEGMENT File. \n",
    "        - E.g. ```intxn_dc[intxn_dc.stpair_sorted==(4766, 9755)]```\n",
    "3. Almost all INTERSECTIONID has a unique latlon point, except:\n",
    "    - ```intxn_dc[intxn_dc.INTERSECTIONID==12222].T```: same intersection with mirror different precision in coordinates\n",
    "    - ```intxn_dc[intxn_dc.INTERSECTIONID==20330].T```: two different intersections\n",
    "4. INTERSECTION_TYPE has 4 values: 'REGULAR': 17512, 'RAMP': 415, 'OVERPASS': 174, 'UNDERPASS': 175. OVERPASS and UNDERPASS are not accessible. \n"
   ]
  },
  {
   "cell_type": "code",
   "execution_count": 6,
   "metadata": {
    "collapsed": true
   },
   "outputs": [],
   "source": [
    "import geopandas as gp\n",
    "import pandas as pd\n",
    "from src.constants import fn_segments_dc\n",
    "from shapely.geometry import Point"
   ]
  },
  {
   "cell_type": "code",
   "execution_count": 2,
   "metadata": {
    "collapsed": false
   },
   "outputs": [],
   "source": [
    "data_dir = 'data/'\n",
    "path_segs_dc = data_dir + fn_segments_dc\n",
    "path_intxn_dc = data_dir + 'segments_intxn_dc.csv'\n"
   ]
  },
  {
   "cell_type": "code",
   "execution_count": 9,
   "metadata": {
    "collapsed": true
   },
   "outputs": [],
   "source": [
    "segs_dc = gp.read_file(path_segs_dc)\n",
    "intxn_dc = pd.read_csv(path_intxn_dc)\n",
    "intxn_dc['latlon'] = intxn_dc.apply(lambda x: (x.LATITUDE,x.LONGITUDE), axis=1)\n",
    "intxn_dc['stpair_sorted'] = intxn_dc.apply(lambda x: tuple(sorted([x.STREET1SEGID, x.STREET2SEGID])), axis=1)\n",
    "intxn_dc['geometry'] = intxn_dc.apply(lambda x: Point(x.LONGITUDE, x.LATITUDE), axis=1)"
   ]
  },
  {
   "cell_type": "code",
   "execution_count": 10,
   "metadata": {
    "collapsed": false
   },
   "outputs": [],
   "source": [
    "unique_node_intxn = []\n",
    "for nid, grp in intxn_dc.groupby('INTERSECTIONID'):\n",
    "    geometry = grp.geometry.values[0]\n",
    "    unique_node_intxn.append((nid,geometry.buffer(0.0001)))\n",
    "unique_node_intxn = gp.GeoDataFrame(unique_node_intxn, columns=['INTERSECTIONID','geometry'])\n"
   ]
  },
  {
   "cell_type": "code",
   "execution_count": 13,
   "metadata": {
    "collapsed": false
   },
   "outputs": [
    {
     "data": {
      "text/html": [
       "<div>\n",
       "<table border=\"1\" class=\"dataframe\">\n",
       "  <thead>\n",
       "    <tr style=\"text-align: right;\">\n",
       "      <th></th>\n",
       "      <th>﻿X</th>\n",
       "      <th>Y</th>\n",
       "      <th>OBJECTID</th>\n",
       "      <th>MARID</th>\n",
       "      <th>INTERSECTIONID</th>\n",
       "      <th>STREET1ID</th>\n",
       "      <th>STREET2ID</th>\n",
       "      <th>ST1NAME</th>\n",
       "      <th>ST1TYPE</th>\n",
       "      <th>ST1QUAD</th>\n",
       "      <th>...</th>\n",
       "      <th>STREET1SEGID</th>\n",
       "      <th>STREET2SEGID</th>\n",
       "      <th>NODEID</th>\n",
       "      <th>INTERSECTION_TYPE</th>\n",
       "      <th>SOURCE</th>\n",
       "      <th>LATITUDE</th>\n",
       "      <th>LONGITUDE</th>\n",
       "      <th>latlon</th>\n",
       "      <th>stpair_sorted</th>\n",
       "      <th>geometry</th>\n",
       "    </tr>\n",
       "  </thead>\n",
       "  <tbody>\n",
       "    <tr>\n",
       "      <th>8868</th>\n",
       "      <td>-77.007072</td>\n",
       "      <td>38.851531</td>\n",
       "      <td>8869</td>\n",
       "      <td>913131</td>\n",
       "      <td>-500</td>\n",
       "      <td>504845</td>\n",
       "      <td>508125</td>\n",
       "      <td>INTERSTATE 295</td>\n",
       "      <td>INTERSTATE</td>\n",
       "      <td>BN</td>\n",
       "      <td>...</td>\n",
       "      <td>4342</td>\n",
       "      <td>3579</td>\n",
       "      <td>-500</td>\n",
       "      <td>RAMP</td>\n",
       "      <td>DC GIS</td>\n",
       "      <td>38.851524</td>\n",
       "      <td>-77.00707</td>\n",
       "      <td>(38.851524, -77.00707)</td>\n",
       "      <td>(3579, 4342)</td>\n",
       "      <td>POINT (-77.00707 38.851524)</td>\n",
       "    </tr>\n",
       "  </tbody>\n",
       "</table>\n",
       "<p>1 rows × 29 columns</p>\n",
       "</div>"
      ],
      "text/plain": [
       "             ﻿X          Y  OBJECTID   MARID  INTERSECTIONID  STREET1ID  \\\n",
       "8868 -77.007072  38.851531      8869  913131            -500     504845   \n",
       "\n",
       "      STREET2ID         ST1NAME     ST1TYPE ST1QUAD  \\\n",
       "8868     508125  INTERSTATE 295  INTERSTATE      BN   \n",
       "\n",
       "                 ...              STREET1SEGID STREET2SEGID NODEID  \\\n",
       "8868             ...                      4342         3579   -500   \n",
       "\n",
       "     INTERSECTION_TYPE  SOURCE   LATITUDE  LONGITUDE                  latlon  \\\n",
       "8868              RAMP  DC GIS  38.851524  -77.00707  (38.851524, -77.00707)   \n",
       "\n",
       "     stpair_sorted                     geometry  \n",
       "8868  (3579, 4342)  POINT (-77.00707 38.851524)  \n",
       "\n",
       "[1 rows x 29 columns]"
      ]
     },
     "execution_count": 13,
     "metadata": {},
     "output_type": "execute_result"
    }
   ],
   "source": [
    "intxn_dc[intxn_dc.INTERSECTIONID==-500]"
   ]
  },
  {
   "cell_type": "code",
   "execution_count": 12,
   "metadata": {
    "collapsed": true
   },
   "outputs": [],
   "source": [
    "from src.leaflet_creation import create_map_visualization\n",
    "\n",
    "html_title = 'dc intersection'\n",
    "file_path = 'data/'\n",
    "file_name = 'dc int'\n",
    "lon, lat  = -77.0908494, 38.9045525\n",
    "zoom = 12\n",
    "init_layers = ['streets']\n",
    "map_layers = ['light','streets','satellite']\n",
    "binding_data=[['stsg','street segment'],['intxn','intersection']]\n",
    "segs_dc['color'] = '#a0a'\n",
    "unique_node_intxn['color'] = '#0F0'\n",
    "gpdfs = [segs_dc, unique_node_intxn]\n",
    "create_map_visualization(html_title, file_path, file_name, lat, lon, zoom, init_layers, map_layers, binding_data, gpdfs)"
   ]
  }
 ],
 "metadata": {
  "kernelspec": {
   "display_name": "Python 2",
   "language": "python",
   "name": "python2"
  },
  "language_info": {
   "codemirror_mode": {
    "name": "ipython",
    "version": 2
   },
   "file_extension": ".py",
   "mimetype": "text/x-python",
   "name": "python",
   "nbconvert_exporter": "python",
   "pygments_lexer": "ipython2",
   "version": "2.7.11"
  }
 },
 "nbformat": 4,
 "nbformat_minor": 2
}
