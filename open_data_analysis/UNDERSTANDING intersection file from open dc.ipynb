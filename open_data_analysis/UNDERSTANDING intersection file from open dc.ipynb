{
 "cells": [
  {
   "cell_type": "markdown",
   "metadata": {},
   "source": [
    "\n",
    "# Notes:\n",
    "\n",
    "## about intersection file from opendc\n",
    "1. It's directed intersesction graph: (STREET1SEGID, STREET2SEGID) means STREET1SEGID can make a turn into STREET2SEGID. \n",
    "    - E.g. There is (3416L, 3523L) in the file, meaning you can turn into 3523 from 3416. But not otherwise.\n",
    "2. The intersection file is more realistic than STREET SEGMENTS SHAPE FILE.\n",
    "    - (STREET1SEGID, STREET2SEGID) could appear more than once. \n",
    "        - E.g. ```intxn_dc[intxn_dc.stpair_sorted==(9529, 12082)]```\n",
    "    - Because it's realistic, the intersection points are not merely spatial join of the OPEN DC STREET SEGMENT File. \n",
    "        - E.g. ```intxn_dc[intxn_dc.stpair_sorted==(4766, 9755)]```\n",
    "3. Almost all INTERSECTIONID has a unique latlon point, except:\n",
    "    - ```intxn_dc[intxn_dc.INTERSECTIONID==12222].T```: same intersection with mirror different precision in coordinates\n",
    "    - ```intxn_dc[intxn_dc.INTERSECTIONID==20330].T```: two different intersections\n",
    "4. INTERSECTION_TYPE has 4 values: 'REGULAR': 17512, 'RAMP': 415, 'OVERPASS': 174, 'UNDERPASS': 175. OVERPASS and UNDERPASS are not accessible. \n"
   ]
  },
  {
   "cell_type": "code",
   "execution_count": 1,
   "metadata": {
    "collapsed": true
   },
   "outputs": [],
   "source": [
    "import geopandas as gp\n",
    "import pandas as pd\n",
    "from src.constants import fn_segments_dc\n"
   ]
  },
  {
   "cell_type": "code",
   "execution_count": 3,
   "metadata": {
    "collapsed": false
   },
   "outputs": [],
   "source": [
    "data_dir = 'data/'\n",
    "path_segs_dc = data_dir + fn_segments_dc\n",
    "path_intxn_dc = data_dir + 'segments_intxn_dc.csv'\n"
   ]
  },
  {
   "cell_type": "code",
   "execution_count": 4,
   "metadata": {
    "collapsed": true
   },
   "outputs": [],
   "source": [
    "segs_dc = gp.read_file(path_segs_dc)\n",
    "intxn_dc = pd.read_csv(path_intxn_dc)\n",
    "intxn_dc['latlon'] = intxn_dc.apply(lambda x: (x.LATITUDE,x.LONGITUDE), axis=1)\n",
    "intxn_dc['stpair_sorted'] = intxn_dc.apply(lambda x: tuple(sorted([x.STREET1SEGID, x.STREET2SEGID])), axis=1)\n"
   ]
  }
 ],
 "metadata": {
  "kernelspec": {
   "display_name": "Python 2",
   "language": "python",
   "name": "python2"
  },
  "language_info": {
   "codemirror_mode": {
    "name": "ipython",
    "version": 2
   },
   "file_extension": ".py",
   "mimetype": "text/x-python",
   "name": "python",
   "nbconvert_exporter": "python",
   "pygments_lexer": "ipython2",
   "version": "2.7.11"
  }
 },
 "nbformat": 4,
 "nbformat_minor": 2
}
