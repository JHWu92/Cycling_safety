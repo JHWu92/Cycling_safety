{
 "cells": [
  {
   "cell_type": "code",
   "execution_count": 77,
   "metadata": {
    "collapsed": true
   },
   "outputs": [],
   "source": [
    "import pandas as pd\n",
    "import numpy as np\n",
    "from datetime import datetime as dtm\n",
    "from sklearn.datasets import load_iris\n",
    "from sklearn.model_selection import train_test_split\n"
   ]
  },
  {
   "cell_type": "code",
   "execution_count": 8,
   "metadata": {
    "collapsed": false
   },
   "outputs": [],
   "source": [
    "iris = load_iris()\n",
    "data1 = pd.DataFrame(data= np.c_[iris['data'], iris['target']],\n",
    "                     columns= iris['feature_names'] + ['target'])\n",
    "\n",
    "x = data1.iloc[:,:3]\n",
    "y = data1.target\n",
    "\n",
    "train_x, test_x, train_y, test_y = train_test_split(x, y, test_size=0.2, random_state=0)"
   ]
  },
  {
   "cell_type": "code",
   "execution_count": 84,
   "metadata": {
    "collapsed": false
   },
   "outputs": [],
   "source": [
    "import src.sk_ml; reload(src.sk_ml)\n",
    "from src.sk_ml import *"
   ]
  },
  {
   "cell_type": "code",
   "execution_count": 11,
   "metadata": {
    "collapsed": true
   },
   "outputs": [
    {
     "name": "stdout",
     "output_type": "stream",
     "text": [
      "2017-05-26 22:21:48.811000 CVing: kind = reg, model = DTreg\n",
      "2017-05-26 22:21:52.765000 CVing: kind = reg, model = linearSVR\n",
      "2017-05-26 22:21:56.915000 CVing: kind = reg, model = ADAreg\n",
      "2017-05-26 22:22:06.703000 CVing: kind = reg, model = MLPreg\n",
      "2017-05-26 22:22:12.082000 CVing: kind = reg, model = BAGreg\n",
      "2017-05-26 22:22:23.388000 CVing: kind = reg, model = SVR\n",
      "2017-05-26 22:22:32.356000 CVing: kind = reg, model = lasso\n",
      "2017-05-26 22:22:36.402000 CVing: kind = reg, model = ridge\n",
      "2017-05-26 22:22:40.644000 CVing: kind = reg, model = RFreg\n",
      "2017-05-26 22:23:04.897000 CVing: kind = reg, model = ols\n",
      "2017-05-26 22:23:09.043000 CVing: kind = reg, model = GDBreg\n"
     ]
    },
    {
     "name": "stderr",
     "output_type": "stream",
     "text": [
      "D:\\Program Files\\Anaconda2\\lib\\site-packages\\sklearn\\model_selection\\_search.py:593: RuntimeWarning: overflow encountered in square\n",
      "  array_means[:, np.newaxis]) ** 2,\n"
     ]
    },
    {
     "name": "stdout",
     "output_type": "stream",
     "text": [
      "2017-05-26 22:23:14.330000 CVing: kind = cls, model = logistics\n",
      "2017-05-26 22:23:18.284000 CVing: kind = cls, model = DTcls\n",
      "2017-05-26 22:23:22.544000 CVing: kind = cls, model = SVM\n",
      "2017-05-26 22:23:26.699000 CVing: kind = cls, model = linearSVM\n",
      "2017-05-26 22:23:30.652000 CVing: kind = cls, model = MLPcls\n",
      "2017-05-26 22:23:40.379000 CVing: kind = cls, model = ADAcls\n",
      "2017-05-26 22:23:59.171000 CVing: kind = cls, model = GDBcls\n",
      "2017-05-26 22:24:11.207000 CVing: kind = cls, model = GNBcls\n",
      "2017-05-26 22:24:14.953000 CVing: kind = cls, model = RFcls\n",
      "2017-05-26 22:24:39.664000 CVing: kind = cls, model = BAGcls\n",
      "finished CV 2017-05-26 22:24:51.849000 0:03:03.038000\n"
     ]
    }
   ],
   "source": [
    "models = sk_models(stoplist=())\n",
    "params = cv_default_params()\n",
    "df_cv_res = grid_cv_models(train_x, train_y, models, params, path='data/cross_validation/', redo=True)"
   ]
  },
  {
   "cell_type": "code",
   "execution_count": 26,
   "metadata": {
    "collapsed": false
   },
   "outputs": [
    {
     "name": "stdout",
     "output_type": "stream",
     "text": [
      "loaded existing cv-ed best parameters\n"
     ]
    }
   ],
   "source": [
    "loaded_df_cv_res = grid_cv_models(train_x, train_y, models, params, path='data/cross_validation/', save_res=False)"
   ]
  },
  {
   "cell_type": "markdown",
   "metadata": {},
   "source": [
    "# prediction of some models such as MLPreg and LinearSVR is random"
   ]
  },
  {
   "cell_type": "code",
   "execution_count": 79,
   "metadata": {
    "collapsed": false
   },
   "outputs": [],
   "source": [
    "df_evl1 = evaluate_grid_cv(df_cv_res, train_x, train_y, test_x, test_y, evaluate_scalable_cls, path='data/cross_validation/', )\n",
    "df_evl2 = evaluate_grid_cv(df_cv_res, train_x, train_y, test_x, test_y, evaluate_scalable_cls)"
   ]
  },
  {
   "cell_type": "markdown",
   "metadata": {},
   "source": [
    "# loaded parameters of sklearn model works"
   ]
  },
  {
   "cell_type": "code",
   "execution_count": 29,
   "metadata": {
    "collapsed": false
   },
   "outputs": [],
   "source": [
    "df_evl_loaded = evaluate_grid_cv(loaded_df_cv_res, train_x, train_y, test_x, test_y, evaluate_scalable_cls)"
   ]
  },
  {
   "cell_type": "code",
   "execution_count": 45,
   "metadata": {
    "collapsed": false
   },
   "outputs": [],
   "source": [
    "a= (df_evl1.sort_index()/df_evl2.sort_index()).mean(axis=1)\n",
    "a = a.to_frame()\n",
    "b=(df_evl_loaded.sort_index()/df_evl.sort_index()).mean(axis=1)\n",
    "a[1] = b\n",
    "a.columns = ['two prediction', 'load/train']"
   ]
  },
  {
   "cell_type": "code",
   "execution_count": 47,
   "metadata": {
    "collapsed": false,
    "scrolled": true
   },
   "outputs": [
    {
     "data": {
      "text/html": [
       "<div>\n",
       "<style>\n",
       "    .dataframe thead tr:only-child th {\n",
       "        text-align: right;\n",
       "    }\n",
       "\n",
       "    .dataframe thead th {\n",
       "        text-align: left;\n",
       "    }\n",
       "\n",
       "    .dataframe tbody tr th {\n",
       "        vertical-align: top;\n",
       "    }\n",
       "</style>\n",
       "<table border=\"1\" class=\"dataframe\">\n",
       "  <thead>\n",
       "    <tr style=\"text-align: right;\">\n",
       "      <th></th>\n",
       "      <th></th>\n",
       "      <th>two prediction</th>\n",
       "      <th>load/train</th>\n",
       "    </tr>\n",
       "  </thead>\n",
       "  <tbody>\n",
       "    <tr>\n",
       "      <th rowspan=\"10\" valign=\"top\">cls</th>\n",
       "      <th>ADAcls</th>\n",
       "      <td>1.000000</td>\n",
       "      <td>1.000000</td>\n",
       "    </tr>\n",
       "    <tr>\n",
       "      <th>BAGcls</th>\n",
       "      <td>0.919493</td>\n",
       "      <td>1.164125</td>\n",
       "    </tr>\n",
       "    <tr>\n",
       "      <th>DTcls</th>\n",
       "      <td>1.170731</td>\n",
       "      <td>1.192731</td>\n",
       "    </tr>\n",
       "    <tr>\n",
       "      <th>GDBcls</th>\n",
       "      <td>1.000000</td>\n",
       "      <td>1.000000</td>\n",
       "    </tr>\n",
       "    <tr>\n",
       "      <th>GNBcls</th>\n",
       "      <td>1.000000</td>\n",
       "      <td>1.000000</td>\n",
       "    </tr>\n",
       "    <tr>\n",
       "      <th>MLPcls</th>\n",
       "      <td>inf</td>\n",
       "      <td>1.105686</td>\n",
       "    </tr>\n",
       "    <tr>\n",
       "      <th>RFcls</th>\n",
       "      <td>0.764476</td>\n",
       "      <td>1.196637</td>\n",
       "    </tr>\n",
       "    <tr>\n",
       "      <th>SVM</th>\n",
       "      <td>1.000000</td>\n",
       "      <td>1.000000</td>\n",
       "    </tr>\n",
       "    <tr>\n",
       "      <th>linearSVM</th>\n",
       "      <td>0.989115</td>\n",
       "      <td>1.042352</td>\n",
       "    </tr>\n",
       "    <tr>\n",
       "      <th>logistics</th>\n",
       "      <td>1.000000</td>\n",
       "      <td>1.000000</td>\n",
       "    </tr>\n",
       "    <tr>\n",
       "      <th rowspan=\"11\" valign=\"top\">reg</th>\n",
       "      <th>ADAreg</th>\n",
       "      <td>1.114143</td>\n",
       "      <td>1.032892</td>\n",
       "    </tr>\n",
       "    <tr>\n",
       "      <th>BAGreg</th>\n",
       "      <td>1.000670</td>\n",
       "      <td>0.988722</td>\n",
       "    </tr>\n",
       "    <tr>\n",
       "      <th>DTreg</th>\n",
       "      <td>1.000000</td>\n",
       "      <td>1.000000</td>\n",
       "    </tr>\n",
       "    <tr>\n",
       "      <th>GDBreg</th>\n",
       "      <td>0.995787</td>\n",
       "      <td>1.049106</td>\n",
       "    </tr>\n",
       "    <tr>\n",
       "      <th>MLPreg</th>\n",
       "      <td>0.978467</td>\n",
       "      <td>0.977183</td>\n",
       "    </tr>\n",
       "    <tr>\n",
       "      <th>RFreg</th>\n",
       "      <td>1.028753</td>\n",
       "      <td>1.005381</td>\n",
       "    </tr>\n",
       "    <tr>\n",
       "      <th>SVR</th>\n",
       "      <td>1.000000</td>\n",
       "      <td>1.000000</td>\n",
       "    </tr>\n",
       "    <tr>\n",
       "      <th>lasso</th>\n",
       "      <td>1.000000</td>\n",
       "      <td>1.000000</td>\n",
       "    </tr>\n",
       "    <tr>\n",
       "      <th>linearSVR</th>\n",
       "      <td>0.999820</td>\n",
       "      <td>0.999984</td>\n",
       "    </tr>\n",
       "    <tr>\n",
       "      <th>ols</th>\n",
       "      <td>1.000000</td>\n",
       "      <td>1.000000</td>\n",
       "    </tr>\n",
       "    <tr>\n",
       "      <th>ridge</th>\n",
       "      <td>1.000000</td>\n",
       "      <td>1.000000</td>\n",
       "    </tr>\n",
       "  </tbody>\n",
       "</table>\n",
       "</div>"
      ],
      "text/plain": [
       "               two prediction  load/train\n",
       "cls ADAcls           1.000000    1.000000\n",
       "    BAGcls           0.919493    1.164125\n",
       "    DTcls            1.170731    1.192731\n",
       "    GDBcls           1.000000    1.000000\n",
       "    GNBcls           1.000000    1.000000\n",
       "    MLPcls                inf    1.105686\n",
       "    RFcls            0.764476    1.196637\n",
       "    SVM              1.000000    1.000000\n",
       "    linearSVM        0.989115    1.042352\n",
       "    logistics        1.000000    1.000000\n",
       "reg ADAreg           1.114143    1.032892\n",
       "    BAGreg           1.000670    0.988722\n",
       "    DTreg            1.000000    1.000000\n",
       "    GDBreg           0.995787    1.049106\n",
       "    MLPreg           0.978467    0.977183\n",
       "    RFreg            1.028753    1.005381\n",
       "    SVR              1.000000    1.000000\n",
       "    lasso            1.000000    1.000000\n",
       "    linearSVR        0.999820    0.999984\n",
       "    ols              1.000000    1.000000\n",
       "    ridge            1.000000    1.000000"
      ]
     },
     "execution_count": 47,
     "metadata": {},
     "output_type": "execute_result"
    }
   ],
   "source": [
    "a"
   ]
  },
  {
   "cell_type": "markdown",
   "metadata": {},
   "source": [
    "# Vis result"
   ]
  },
  {
   "cell_type": "code",
   "execution_count": 50,
   "metadata": {
    "collapsed": false
   },
   "outputs": [],
   "source": [
    "%matplotlib inline"
   ]
  },
  {
   "cell_type": "code",
   "execution_count": 83,
   "metadata": {
    "collapsed": false
   },
   "outputs": [
    {
     "data": {
      "text/plain": [
       "<matplotlib.axes._subplots.AxesSubplot at 0x14f83a58>"
      ]
     },
     "execution_count": 83,
     "metadata": {},
     "output_type": "execute_result"
    },
    {
     "data": {
      "image/png": "[encoded data removed]",
      "text/plain": [
       "<matplotlib.figure.Figure at 0x138f3470>"
      ]
     },
     "metadata": {},
     "output_type": "display_data"
    }
   ],
   "source": [
    "vis_evaluation('data/cross_validation/', 5)"
   ]
  },
  {
   "cell_type": "code",
   "execution_count": 85,
   "metadata": {
    "collapsed": false
   },
   "outputs": [
    {
     "data": {
      "text/plain": [
       "<matplotlib.axes._subplots.AxesSubplot at 0x14254358>"
      ]
     },
     "execution_count": 85,
     "metadata": {},
     "output_type": "execute_result"
    },
    {
     "data": {
      "image/png": "[encoded data removed]",
      "text/plain": [
       "<matplotlib.figure.Figure at 0x16adc4e0>"
      ]
     },
     "metadata": {},
     "output_type": "display_data"
    }
   ],
   "source": [
    "vis_grid_cv_one_model('data/cross_validation/cv_5_model_ADAcls.csv')"
   ]
  },
  {
   "cell_type": "code",
   "execution_count": null,
   "metadata": {
    "collapsed": true
   },
   "outputs": [],
   "source": []
  }
 ],
 "metadata": {
  "anaconda-cloud": {},
  "kernelspec": {
   "display_name": "Python [default]",
   "language": "python",
   "name": "python2"
  },
  "language_info": {
   "codemirror_mode": {
    "name": "ipython",
    "version": 2
   },
   "file_extension": ".py",
   "mimetype": "text/x-python",
   "name": "python",
   "nbconvert_exporter": "python",
   "pygments_lexer": "ipython2",
   "version": "2.7.13"
  }
 },
 "nbformat": 4,
 "nbformat_minor": 2
}
