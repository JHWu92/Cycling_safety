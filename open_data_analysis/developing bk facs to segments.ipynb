{
 "cells": [
  {
   "cell_type": "code",
   "execution_count": 3,
   "metadata": {
    "collapsed": false
   },
   "outputs": [],
   "source": [
    "from src.constants import fn_osm_db_dc, fn_segments_dc, epsg_dc, fn_feature_bk_facs_dc\n",
    "from src.geom_helper import bfr_20m"
   ]
  },
  {
   "cell_type": "code",
   "execution_count": 4,
   "metadata": {
    "collapsed": false
   },
   "outputs": [],
   "source": [
    "path_osm_db = 'data/'+fn_osm_db_dc\n",
    "path_segs = 'data/' + fn_segments_dc\n",
    "path_ftr = 'data/' + fn_feature_bk_facs_dc"
   ]
  },
  {
   "cell_type": "code",
   "execution_count": 5,
   "metadata": {
    "collapsed": false
   },
   "outputs": [
    {
     "name": "stdout",
     "output_type": "stream",
     "text": [
      "# bk facs in osm = 7548\n",
      "# bk facs by features:\n",
      "cycle_lane [('', 7167), ('both', 190), ('one', 170), ('right', 21)]\n",
      "is_shared [('', 7517), (1.0, 31)]\n",
      "cycle_way [('', 7304), ('both', 220), ('one', 21), ('right', 3)]\n",
      "side_walk [('', 5682), ('both', 1220), ('right', 282), ('no', 275), ('left', 89)]\n",
      "bikable [('yes', 4687), ('', 2367), ('no', 494)]\n",
      "# matches between bk facs and segs = 6252\n",
      "cycle_lane [('', 3992), ('both', 437), ('one', 309), ('right', 28)]\n",
      "is_shared [(0, 4715), (1, 51)]\n",
      "cycle_way [('', 4469), ('both', 216), ('one', 72), ('right', 9)]\n",
      "side_walk [('both', 3098), ('', 1106), ('no', 290), ('right', 147), ('left', 125)]\n",
      "bikable [('', 3829), ('yes', 911), ('no', 26)]\n"
     ]
    }
   ],
   "source": [
    "from src.ftr_bk_facs import get_feature_bk_facs\n",
    "\n",
    "features_bk_facs_dc = get_feature_bk_facs(path_osm_db, path_segs, path_ftr, epsg_dc, bfr_20m, debug=True)"
   ]
  },
  {
   "cell_type": "code",
   "execution_count": null,
   "metadata": {
    "collapsed": true
   },
   "outputs": [],
   "source": []
  }
 ],
 "metadata": {
  "kernelspec": {
   "display_name": "Python 2",
   "language": "python",
   "name": "python2"
  }
 },
 "nbformat": 4,
 "nbformat_minor": 2
}
