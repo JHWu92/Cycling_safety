{
 "cells": [
  {
   "cell_type": "code",
   "execution_count": 1,
   "metadata": {
    "collapsed": true
   },
   "outputs": [],
   "source": [
    "import pandas as pd\n",
    "import geopandas as gpd"
   ]
  },
  {
   "cell_type": "code",
   "execution_count": 2,
   "metadata": {
    "collapsed": true
   },
   "outputs": [],
   "source": [
    "from src.leaflet_creation import create_map_visualization, get_color_for_df, gradient_color"
   ]
  },
  {
   "cell_type": "code",
   "execution_count": 3,
   "metadata": {
    "collapsed": true
   },
   "outputs": [],
   "source": [
    "seg = gpd.read_file('data/segments_dc.geojson')"
   ]
  },
  {
   "cell_type": "code",
   "execution_count": 4,
   "metadata": {
    "collapsed": true
   },
   "outputs": [],
   "source": [
    "def getSafetyColor(d):\n",
    "    if pd.isnull(d): return '#ffffffff'\n",
    "    if d > 4: return '#1a9641'  # green (4, ]\n",
    "    if d > 3: return '#a6d96a'  # light green (3, 4]\n",
    "    if d > 2: return '#ffffbf'  # yellow: (2, 3]\n",
    "    if d > 1: return '#fdae61'  # orange: (1, 2]\n",
    "    return '#d7191c'            # red: (, 1]\n"
   ]
  },
  {
   "cell_type": "code",
   "execution_count": 5,
   "metadata": {
    "collapsed": true
   },
   "outputs": [],
   "source": [
    "%matplotlib inline"
   ]
  },
  {
   "cell_type": "markdown",
   "metadata": {},
   "source": [
    "# pred for ground truth"
   ]
  },
  {
   "cell_type": "code",
   "execution_count": 4,
   "metadata": {
    "collapsed": true
   },
   "outputs": [],
   "source": [
    "true_pred = pd.read_csv('poster used true and pred.csv',index_col=0)"
   ]
  },
  {
   "cell_type": "code",
   "execution_count": 7,
   "metadata": {
    "collapsed": true
   },
   "outputs": [],
   "source": [
    "simplified = seg[['geometry']].merge(true_pred, left_index=True, right_index=True, how='right')\n",
    "simplified['diff'] = simplified.apply(lambda x: abs(x.csl-x.pred), axis=1)\n",
    "true = simplified[['geometry', 'csl']].reset_index()\n",
    "pred = simplified[['geometry', 'pred']].reset_index()\n",
    "diff = simplified[['geometry', 'diff']].reset_index()\n",
    "diff['diff'].value_counts()"
   ]
  },
  {
   "cell_type": "code",
   "execution_count": 24,
   "metadata": {
    "collapsed": true
   },
   "outputs": [],
   "source": [
    "true['color'] = true.csl.apply(getColor)\n",
    "pred['color'] = pred.pred.apply(getColor)\n",
    "diff['color'] = diff['diff'].apply(lambda x: getColor(5-x))"
   ]
  },
  {
   "cell_type": "code",
   "execution_count": 25,
   "metadata": {
    "collapsed": true
   },
   "outputs": [],
   "source": [
    "html_title = 'poster map'\n",
    "file_path = ''\n",
    "file_name = 'poster map'\n",
    "lon, lat = -77.0908494, 38.9045525  #D.C.\n",
    "zoom = 12\n",
    "init_layers = ['streets', 'stsg']\n",
    "map_layers = ['light','streets', 'satellite']\n",
    "binding_data=[['true_map','actual map'],['pred_map','predicted map'],['diff_map', 'true-pred diff']]\n",
    "gpdfs = [true, pred, diff]\n",
    "create_map_visualization(html_title, file_path, file_name, lat, lon, zoom, init_layers, map_layers, binding_data, gpdfs, width=1000)"
   ]
  },
  {
   "cell_type": "markdown",
   "metadata": {},
   "source": [
    "# pred whole dc only"
   ]
  },
  {
   "cell_type": "code",
   "execution_count": 18,
   "metadata": {
    "collapsed": true
   },
   "outputs": [],
   "source": [
    "scheme_name='default'\n",
    "scheme_name='experience'\n",
    "\n",
    "pred_whole_dc = pd.read_csv('data/Pred_y_whole_dc_5lvl_spatial_%s.csv' % scheme_name,index_col=0)\n",
    "\n",
    "whole = seg[['geometry']].merge(pred_whole_dc, left_index=True, right_index=True, how='right').reset_index()\n",
    "\n",
    "whole['color'] = whole['whole-pred'].apply(getColor)"
   ]
  },
  {
   "cell_type": "code",
   "execution_count": 19,
   "metadata": {
    "collapsed": true
   },
   "outputs": [],
   "source": [
    "html_title = 'DC pred map ' + scheme_name\n",
    "file_path = ''\n",
    "file_name = 'DC pred map ' + scheme_name\n",
    "lon, lat = -77.0908494, 38.9045525  #D.C.\n",
    "zoom = 12\n",
    "init_layers = ['osm_mapnik', 'stsg']\n",
    "map_layers = ['dark_black','osm_mapnik']\n",
    "binding_data=[['pred_map','predicted map']]\n",
    "gpdfs = [whole]\n",
    "create_map_visualization(html_title, file_path, file_name, lat, lon, zoom, init_layers, map_layers, binding_data, gpdfs, width=2000, height=1500)"
   ]
  },
  {
   "cell_type": "markdown",
   "metadata": {
    "collapsed": true
   },
   "source": [
    "# pred whole dc with prob"
   ]
  },
  {
   "cell_type": "code",
   "execution_count": 6,
   "metadata": {
    "collapsed": true
   },
   "outputs": [],
   "source": [
    "scheme_name = 'experience'\n",
    "pred_with_prob = pd.read_csv('data/Pred_y_with_prob_whole_dc_5lvl_spatial_experience.csv' ,index_col=0)"
   ]
  },
  {
   "cell_type": "code",
   "execution_count": 7,
   "metadata": {
    "collapsed": true
   },
   "outputs": [],
   "source": [
    "pred_with_prob['color'] = pred_with_prob.pred_y.apply(getSafetyColor)"
   ]
  },
  {
   "cell_type": "code",
   "execution_count": 8,
   "metadata": {
    "collapsed": true
   },
   "outputs": [],
   "source": [
    "pred_with_prob['proba_color'] = pred_with_prob.probability.apply(gradient_color)"
   ]
  },
  {
   "cell_type": "code",
   "execution_count": 21,
   "metadata": {
    "collapsed": true
   },
   "outputs": [],
   "source": [
    "map_gpdf = seg[['geometry']].join(pred_with_prob.drop('true_y', axis=1), how='right').reset_index()"
   ]
  },
  {
   "cell_type": "code",
   "execution_count": 22,
   "metadata": {
    "collapsed": true
   },
   "outputs": [],
   "source": [
    "map_gpdf = map_gpdf[map_gpdf.index_seg!=11813]"
   ]
  },
  {
   "cell_type": "code",
   "execution_count": 15,
   "metadata": {},
   "outputs": [],
   "source": [
    "true_map = seg[['geometry']].join(pred_with_prob[~pred_with_prob.true_y.isnull()]['true_y'], how='right')"
   ]
  },
  {
   "cell_type": "code",
   "execution_count": 16,
   "metadata": {
    "collapsed": true
   },
   "outputs": [],
   "source": [
    "true_map['color'] = true_map.true_y.apply(getSafetyColor)"
   ]
  },
  {
   "cell_type": "code",
   "execution_count": 18,
   "metadata": {},
   "outputs": [],
   "source": [
    "true_map.columns=['geometry', 'Ground Truth Level', 'color']"
   ]
  },
  {
   "cell_type": "code",
   "execution_count": 23,
   "metadata": {},
   "outputs": [],
   "source": [
    "html_title = 'new DC pred map with prob' + scheme_name\n",
    "file_path = ''\n",
    "file_name = 'new DC pred map with prob' + scheme_name\n",
    "lon, lat = -77.0908494, 38.9045525  #D.C.\n",
    "zoom = 12\n",
    "init_layers = ['osm_mapnik', 'stsg']\n",
    "map_layers = ['dark_black','osm_mapnik']\n",
    "binding_data=[['pred_map','predicted map'], ['true_map', 'Ground Truth Map']]\n",
    "gpdfs = [map_gpdf,true_map]\n",
    "create_map_visualization(html_title, file_path, file_name, lat, lon, zoom, init_layers, map_layers, binding_data, gpdfs)"
   ]
  },
  {
   "cell_type": "code",
   "execution_count": null,
   "metadata": {
    "collapsed": true
   },
   "outputs": [],
   "source": []
  }
 ],
 "metadata": {
  "kernelspec": {
   "display_name": "Python 3",
   "language": "python",
   "name": "python3"
  },
  "language_info": {
   "codemirror_mode": {
    "name": "ipython",
    "version": 3
   },
   "file_extension": ".py",
   "mimetype": "text/x-python",
   "name": "python",
   "nbconvert_exporter": "python",
   "pygments_lexer": "ipython3",
   "version": "3.6.1"
  }
 },
 "nbformat": 4,
 "nbformat_minor": 2
}
