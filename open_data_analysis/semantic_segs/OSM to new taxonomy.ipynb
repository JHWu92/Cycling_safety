{
 "cells": [
  {
   "cell_type": "code",
   "execution_count": 1,
   "metadata": {
    "collapsed": true
   },
   "outputs": [],
   "source": [
    "from collections import defaultdict, Counter\n"
   ]
  },
  {
   "cell_type": "code",
   "execution_count": 2,
   "metadata": {
    "collapsed": false
   },
   "outputs": [
    {
     "name": "stdout",
     "output_type": "stream",
     "text": [
      "begin reading osm 2016-12-01 09:44:07.560000\n",
      "finish reading osm 2016-12-01 09:45:22.481000\n",
      "[\"len of <class 'osmread.elements.Node'> = 2546260\", \"len of <class 'osmread.elements.Way'> = 306332\", \"len of <class 'osmread.elements.Relation'> = 3427\"]\n",
      "Node 1652906\n",
      "Relation 2556\n",
      "Way 194767\n"
     ]
    },
    {
     "data": {
      "text/plain": [
       "(194767, 1652906, 2556)"
      ]
     },
     "execution_count": 2,
     "metadata": {},
     "output_type": "execute_result"
    }
   ],
   "source": [
    "import sys, os\n",
    "sys.path.insert(0, os.path.abspath('../'))\n",
    "from utils.osm_helper import *\n",
    "import geopandas as gp\n",
    "from osmread import Node, Way, Relation\n",
    "import datetime\n",
    "import pandas as pd\n",
    "OSM_DC_BBOX_PATH = '../data/osm/osm_dc_bbox.osm'\n",
    "OSM_DC_BBOX = osm_container(OSM_DC_BBOX_PATH)\n",
    "print OSM_DC_BBOX.data_size()\n",
    "DC_OSM_IDS_PATH ='../data/osm/osm_ids_within_dc_polygon.txt'\n",
    "DC_OSM_IDS={}\n",
    "with open(DC_OSM_IDS_PATH) as f:\n",
    "    DC_OSM_IDS = eval(f.readlines()[0])\n",
    "for key, value in DC_OSM_IDS.items():\n",
    "    print key, len(value)\n",
    "    \n",
    "    \n",
    "def dc_obj(osm_objs, osm_ids, osmtype, osmtype_str):\n",
    "    return [obj for obj in osm_objs.osm_objs[osmtype] if obj.id in osm_ids[osmtype_str]]\n",
    "\n",
    "DC_NODES = dc_obj(OSM_DC_BBOX, DC_OSM_IDS,Node, 'Node')\n",
    "DC_WAYS = dc_obj(OSM_DC_BBOX, DC_OSM_IDS, Way, 'Way')\n",
    "DC_RLTNS = dc_obj(OSM_DC_BBOX, DC_OSM_IDS, Relation, 'Relation')\n",
    "len(DC_WAYS), len(DC_NODES), len(DC_RLTNS)"
   ]
  },
  {
   "cell_type": "code",
   "execution_count": 3,
   "metadata": {
    "collapsed": true
   },
   "outputs": [],
   "source": [
    "import sys,os\n",
    "sys.path.insert(0, os.path.abspath('../'))\n",
    "from utils.osm.osmFilter import *\n",
    "from IPython.display import display"
   ]
  },
  {
   "cell_type": "code",
   "execution_count": 4,
   "metadata": {
    "collapsed": false,
    "scrolled": true
   },
   "outputs": [],
   "source": [
    "# have_tag1 = [('building','yes')]\n",
    "# have_tag2 = [('addr:housenumber','*')]\n",
    "# have_tag3 = have_tag1+have_tag2\n",
    "# filter_osm_data_to_df(DC_WAYS,[('dcgis:shape_area','*')])['dcgis:shape_area'].value_counts().shape\n",
    "# filter_osm_data(DC_WAYS, have_tag1).__len__(), filter_osm_data(DC_WAYS, have_tag2).__len__(), filter_osm_data(DC_WAYS, have_tag3).__len__()\n",
    "# filter_osm_data(DC_WAYS, have_tag1, have_tag2)[:20]\n",
    "# filter_osm_data(filter_osm_data(DC_WAYS, have_tag1), have_tag2)[:10]\n",
    "# filter_osm_data(DC_WAYS, [('name','*')]).__len__()"
   ]
  },
  {
   "cell_type": "code",
   "execution_count": 5,
   "metadata": {
    "collapsed": false
   },
   "outputs": [],
   "source": [
    "\n",
    "def get_new_taxonomy ():\n",
    "    result = []\n",
    "    xmind_tree = '../data/osm/taxonomy mapping based on xmind.txt'\n",
    "    with open(xmind_tree) as f:\n",
    "        category, tag, value = '','',''\n",
    "        for line in f:\n",
    "            line_ = line\n",
    "            line = line.split('\\t')\n",
    "            type_ = len(line)\n",
    "            txt = line[-1].strip()\n",
    "            if type_==1:\n",
    "                category = txt\n",
    "            elif type_==2:\n",
    "                tag = txt\n",
    "            elif type_==3:\n",
    "                value = txt\n",
    "                result.append([category, tag, value])\n",
    "    return pd.DataFrame(result,columns=['category', 'tag', 'value'])\n",
    "\n",
    "new_taxonomy = get_new_taxonomy()\n",
    "\n",
    "mapping = pd.Series(new_taxonomy.category.values, index=new_taxonomy.apply(lambda x: '{}={}'.format(x.tag, x.value), axis=1).values).to_dict()"
   ]
  },
  {
   "cell_type": "code",
   "execution_count": 6,
   "metadata": {
    "collapsed": false,
    "scrolled": true
   },
   "outputs": [
    {
     "data": {
      "text/plain": [
       "224"
      ]
     },
     "execution_count": 6,
     "metadata": {},
     "output_type": "execute_result"
    }
   ],
   "source": [
    "len(mapping)"
   ]
  },
  {
   "cell_type": "code",
   "execution_count": 7,
   "metadata": {
    "collapsed": false,
    "scrolled": true
   },
   "outputs": [
    {
     "name": "stdout",
     "output_type": "stream",
     "text": [
      "20027 14040 1217\n",
      "set(['cycling facilities'])                                                       12276\n",
      "set(['transportation'])                                                            7873\n",
      "set(['outdoors and recreation'])                                                   5593\n",
      "set(['exclude'])                                                                   2281\n",
      "set(['retail shop'])                                                               1712\n",
      "set(['food'])                                                                      1591\n",
      "set(['professional service'])                                                      1422\n",
      "set(['schools&university'])                                                         948\n",
      "set(['residence'])                                                                  580\n",
      "set(['cycling facilities', 'outdoors and recreation'])                              278\n",
      "set(['nightlife spot'])                                                             265\n",
      "set(['transportation', 'outdoors and recreation'])                                  155\n",
      "set(['art'])                                                                        126\n",
      "set(['cycling facilities', 'transportation'])                                        72\n",
      "set(['cycling facilities', 'retail shop'])                                           20\n",
      "set(['retail shop', 'food'])                                                         14\n",
      "set(['retail shop', 'professional service'])                                         13\n",
      "set(['professional service', 'outdoors and recreation'])                             11\n",
      "set(['food', 'nightlife spot'])                                                      11\n",
      "set(['schools&university', 'outdoors and recreation'])                                7\n",
      "set(['retail shop', 'outdoors and recreation'])                                       5\n",
      "set(['food', 'retail shop'])                                                          5\n",
      "set(['professional service', 'schools&university'])                                   3\n",
      "set(['professional service', 'retail shop'])                                          3\n",
      "set(['cycling facilities', 'transportation', 'outdoors and recreation'])              3\n",
      "set(['residence', 'schools&university'])                                              2\n",
      "set(['cycling facilities', 'professional service'])                                   2\n",
      "set(['art', 'outdoors and recreation'])                                               2\n",
      "set(['residence', 'outdoors and recreation'])                                         1\n",
      "set(['food', 'retail shop', 'outdoors and recreation'])                               1\n",
      "set(['food', 'transportation'])                                                       1\n",
      "set(['nightlife spot', 'outdoors and recreation'])                                    1\n",
      "set(['cycling facilities', 'residence'])                                              1\n",
      "set(['retail shop', 'cycling facilities'])                                            1\n",
      "set(['cycling facilities', 'professional service', 'outdoors and recreation'])        1\n",
      "set(['professional service', 'nightlife spot'])                                       1\n",
      "set(['retail shop', 'art'])                                                           1\n",
      "set(['art', 'schools&university'])                                                    1\n",
      "set(['food', 'residence'])                                                            1\n",
      "dtype: float64\n",
      "1    34667\n",
      "2      612\n",
      "3        5\n",
      "dtype: float64\n"
     ]
    }
   ],
   "source": [
    "def taxonomy_distribution(osm_data,mapping):\n",
    "    category_combination = []\n",
    "    for d in osm_data:\n",
    "        mapped = set()\n",
    "        for tag, value in d.tags.items():\n",
    "            tag_value = '{}={}'.format(tag.encode('utf-8'), value.encode('utf-8'))\n",
    "            tag_ = tag+'=*'\n",
    "            if tag_value in mapping:\n",
    "                mapped.add(mapping[tag_value])\n",
    "            elif tag_ in mapping:\n",
    "                mapped.add(mapping[tag_])\n",
    "        category_combination.append(mapped)\n",
    "\n",
    "    return category_combination\n",
    "\n",
    "way_mapped = taxonomy_distribution(DC_WAYS, mapping)\n",
    "node_mapped = taxonomy_distribution(DC_NODES, mapping)\n",
    "rltn_mapped = taxonomy_distribution(DC_RLTNS, mapping)\n",
    "print pd.Series([w for w in way_mapped if w]).apply(str).value_counts().sum(),\\\n",
    "pd.Series([w for w in node_mapped if w]).apply(str).value_counts().sum(),\\\n",
    "pd.Series([w for w in rltn_mapped if w]).apply(str).value_counts().sum()\n",
    "\n",
    "print pd.concat([\n",
    "        pd.Series([w for w in way_mapped if w]).apply(str).value_counts(), \n",
    "        pd.Series([w for w in node_mapped if w]).apply(str).value_counts(),\n",
    "        pd.Series([w for w in rltn_mapped if w]).apply(str).value_counts()\n",
    "    ], axis=1).sum(axis=1).order(ascending=False)\n",
    "\n",
    "print pd.concat([\n",
    "        pd.Series([w for w in way_mapped if w]).apply(len).value_counts(), \n",
    "        pd.Series([w for w in node_mapped if w]).apply(len).value_counts(),\n",
    "        pd.Series([w for w in rltn_mapped if w]).apply(len).value_counts()\n",
    "    ], axis=1).sum(axis=1).order(ascending=False)"
   ]
  },
  {
   "cell_type": "code",
   "execution_count": 11,
   "metadata": {
    "collapsed": false
   },
   "outputs": [
    {
     "name": "stdout",
     "output_type": "stream",
     "text": [
      "1850229\n"
     ]
    }
   ],
   "source": [
    "a = zip([x.id for x in DC_RLTNS], ['Relation']*len(DC_RLTNS), rltn_mapped)+\\\n",
    "zip([x.id for x in DC_WAYS], ['Way']*len(DC_WAYS), way_mapped)+\\\n",
    "zip([x.id for x in DC_NODES], ['Node']*len(DC_NODES), node_mapped)\n",
    "print len(a)\n",
    "a = pd.DataFrame(a,columns=['id','type','category'])\n",
    "a.to_csv('../data/osm/osm_category_in_dc.txt')"
   ]
  },
  {
   "cell_type": "code",
   "execution_count": 11,
   "metadata": {
    "collapsed": false
   },
   "outputs": [
    {
     "data": {
      "text/plain": [
       "36052"
      ]
     },
     "execution_count": 11,
     "metadata": {},
     "output_type": "execute_result"
    }
   ],
   "source": [
    "34521+758*2+15"
   ]
  },
  {
   "cell_type": "code",
   "execution_count": 12,
   "metadata": {
    "collapsed": false
   },
   "outputs": [],
   "source": [
    "tags_in_subtree = eval(open('../data/osm/osm_tags_in_subtrees.txt').readlines()[0])"
   ]
  },
  {
   "cell_type": "code",
   "execution_count": 13,
   "metadata": {
    "collapsed": false
   },
   "outputs": [],
   "source": [
    "\n",
    "untransformed_tag_value = defaultdict(int)\n",
    "mapped_subtrees = []\n",
    "for tags in tags_in_subtree:\n",
    "    subtree = set()\n",
    "    for tag, value_list in tags.items():\n",
    "        for value in list(set(value_list)):\n",
    "            tag_value = '{}={}'.format(tag.encode('utf-8'), value.encode('utf-8'))\n",
    "            tag_ = tag+'=*'\n",
    "            if tag_value in mapping:\n",
    "                subtree.add(mapping[tag_value])\n",
    "            elif tag_ in mapping:\n",
    "                subtree.add(mapping[tag_])\n",
    "            else:\n",
    "                untransformed_tag_value[tag_value]+=1\n",
    "    mapped_subtrees.append(subtree)"
   ]
  },
  {
   "cell_type": "code",
   "execution_count": 33,
   "metadata": {
    "collapsed": false
   },
   "outputs": [],
   "source": [
    "with open('../data/osm/osm_tags_mapped_in_subtrees.txt', 'w') as f:\n",
    "    f.write(str(mapped_subtrees))"
   ]
  },
  {
   "cell_type": "code",
   "execution_count": 14,
   "metadata": {
    "collapsed": false
   },
   "outputs": [
    {
     "name": "stdout",
     "output_type": "stream",
     "text": [
      "91225\n",
      "95134\n"
     ]
    }
   ],
   "source": [
    "for cnt, tags in enumerate(tags_in_subtree):\n",
    "    for tag, value_list in tags.items():\n",
    "        if tag=='name' and 'Mary McLeod Bethune Council House' in value_list:\n",
    "            print cnt\n",
    "            break"
   ]
  },
  {
   "cell_type": "code",
   "execution_count": 15,
   "metadata": {
    "collapsed": false
   },
   "outputs": [],
   "source": [
    "new_mapped = [s for s in mapped_subtrees if s]"
   ]
  },
  {
   "cell_type": "code",
   "execution_count": 16,
   "metadata": {
    "collapsed": true
   },
   "outputs": [],
   "source": [
    "un_mapped = [t for cnt, t in enumerate(tags_in_subtree) if not mapped_subtrees[cnt]]"
   ]
  },
  {
   "cell_type": "code",
   "execution_count": 6,
   "metadata": {
    "collapsed": false
   },
   "outputs": [],
   "source": [
    "word_in_name = defaultdict(int)\n",
    "for w in DC_WAYS:\n",
    "    if 'name' in w.tags:\n",
    "        for word in w.tags['name'].split(' '):\n",
    "            word_in_name[word.lower()]+=1\n",
    "# for key, value in word_in_name.items():\n",
    "#     print key, '||', value\n",
    "word_in_name = pd.Series(word_in_name)\n",
    "word_in_name\n",
    "word_in_name[word_in_name.index.isin(['sports'])]\n",
    "name2category=eval(''.join(open('../data/osm/name2category.txt').readlines()))"
   ]
  },
  {
   "cell_type": "code",
   "execution_count": 17,
   "metadata": {
    "collapsed": false
   },
   "outputs": [],
   "source": [
    "mapped_by_word = []\n",
    "for tags in un_mapped:\n",
    "    mapped = set()\n",
    "    if 'name' in tags:\n",
    "        for name in tags['name']:\n",
    "            for word in name.split(' '):\n",
    "                c = name2category.get(word.lower(),'')\n",
    "                if c:\n",
    "                    mapped.add(c)\n",
    "    mapped_by_word.append(mapped)"
   ]
  },
  {
   "cell_type": "code",
   "execution_count": 18,
   "metadata": {
    "collapsed": false
   },
   "outputs": [
    {
     "data": {
      "text/plain": [
       "0"
      ]
     },
     "execution_count": 18,
     "metadata": {},
     "output_type": "execute_result"
    }
   ],
   "source": [
    "new_mapped_by_word = [s for s in mapped_by_word if s]\n",
    "len(new_mapped_by_word)"
   ]
  },
  {
   "cell_type": "code",
   "execution_count": 19,
   "metadata": {
    "collapsed": false
   },
   "outputs": [
    {
     "data": {
      "text/plain": [
       "{u'addr:city': [u'Washington'],\n",
       " u'addr:country': [u'US'],\n",
       " u'addr:postcode': [u'20011'],\n",
       " u'addr:state': [u'DC'],\n",
       " u'addr:street': [u'Georgia Avenue Northwest'],\n",
       " u'amenity': [u'fuel'],\n",
       " u'building': [u'roof'],\n",
       " u'name': [u'Valero']}"
      ]
     },
     "execution_count": 19,
     "metadata": {},
     "output_type": "execute_result"
    }
   ],
   "source": [
    "tags_in_subtree[7556]"
   ]
  },
  {
   "cell_type": "code",
   "execution_count": 20,
   "metadata": {
    "collapsed": false,
    "scrolled": true
   },
   "outputs": [
    {
     "name": "stdout",
     "output_type": "stream",
     "text": [
      "14782\n"
     ]
    },
    {
     "data": {
      "text/plain": [
       "set(['cycling facilities'])                                                 5132\n",
       "set(['transportation'])                                                     4578\n",
       "set(['outdoors and recreation'])                                            3335\n",
       "set(['professional service'])                                                479\n",
       "set(['residence'])                                                           369\n",
       "set(['schools&university'])                                                  201\n",
       "set(['retail shop'])                                                         195\n",
       "set(['food'])                                                                119\n",
       "set(['transportation', 'outdoors and recreation'])                           115\n",
       "set(['professional service', 'cycling facilities'])                          114\n",
       "set(['cycling facilities', 'outdoors and recreation'])                        58\n",
       "set(['art'])                                                                  26\n",
       "set(['nightlife spot'])                                                       18\n",
       "set(['cycling facilities', 'transportation'])                                 15\n",
       "set(['cycling facilities', 'retail shop'])                                    13\n",
       "set(['retail shop', 'food'])                                                   5\n",
       "set(['professional service', 'outdoors and recreation'])                       3\n",
       "set(['professional service', 'retail shop'])                                   2\n",
       "set(['retail shop', 'professional service'])                                   1\n",
       "set(['retail shop', 'outdoors and recreation'])                                1\n",
       "set(['cycling facilities', 'transportation', 'outdoors and recreation'])       1\n",
       "set(['food', 'residence'])                                                     1\n",
       "set(['art', 'outdoors and recreation'])                                        1\n",
       "dtype: int64"
      ]
     },
     "execution_count": 20,
     "metadata": {},
     "output_type": "execute_result"
    }
   ],
   "source": [
    "len_mapped = pd.Series(mapped_subtrees).apply(len)\n",
    "[tags_in_subtree[i] for i in len_mapped[len_mapped>1].index.tolist()]\n",
    "print pd.Series(new_mapped).apply(str).value_counts().sum()\n",
    "pd.Series(new_mapped).apply(str).value_counts()"
   ]
  },
  {
   "cell_type": "code",
   "execution_count": 21,
   "metadata": {
    "collapsed": false
   },
   "outputs": [],
   "source": [
    "def get_sum_categories(list_mapped):\n",
    "    sum_categories = defaultdict(int)\n",
    "    for mapped in list_mapped:\n",
    "        for c in list(mapped):\n",
    "            sum_categories[c]+=1\n",
    "    return sum_categories\n",
    "way_sum = get_sum_categories(way_mapped)\n",
    "node_sum = get_sum_categories(node_mapped)\n",
    "rltn_sum = get_sum_categories(rltn_mapped)\n",
    "before_merge = pd.DataFrame((Counter(way_sum)+Counter(node_sum)+Counter(rltn_sum)).items(),columns=['category','osm_before_merge'])\n",
    "after_merge = pd.DataFrame(get_sum_categories(mapped_subtrees).items(),columns=['category','osm_after_merge'])\n",
    "before_merge.merge(after_merge).to_csv('../data/category_osm.csv')"
   ]
  },
  {
   "cell_type": "code",
   "execution_count": null,
   "metadata": {
    "collapsed": true
   },
   "outputs": [],
   "source": []
  },
  {
   "cell_type": "code",
   "execution_count": 98,
   "metadata": {
    "collapsed": false
   },
   "outputs": [],
   "source": [
    "with open('../data/osm/untransformed_tag_value.tsv', 'w') as f:\n",
    "    for tag_value, cnt in untransformed_tag_value.items():\n",
    "        f.write('{}\\t{}\\t{}\\n'.format(tag_value.split('=')[0],tag_value.split('=')[1], cnt))"
   ]
  }
 ],
 "metadata": {
  "kernelspec": {
   "display_name": "Python 2",
   "language": "python",
   "name": "python2"
  },
  "language_info": {
   "codemirror_mode": {
    "name": "ipython",
    "version": 2
   },
   "file_extension": ".py",
   "mimetype": "text/x-python",
   "name": "python",
   "nbconvert_exporter": "python",
   "pygments_lexer": "ipython2",
   "version": "2.7.11"
  }
 },
 "nbformat": 4,
 "nbformat_minor": 0
}
