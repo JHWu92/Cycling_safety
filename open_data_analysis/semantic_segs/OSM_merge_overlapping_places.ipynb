{
 "cells": [
  {
   "cell_type": "code",
   "execution_count": 17,
   "metadata": {
    "collapsed": false
   },
   "outputs": [],
   "source": [
    "import sys, os\n",
    "sys.path.insert(0, os.path.abspath('../'))\n",
    "import utils.osm_helper\n",
    "reload(utils.osm_helper)\n",
    "from utils.osm_helper import *\n",
    "import geopandas as gp\n",
    "from osmread import Node, Way, Relation\n",
    "import datetime\n",
    "import pandas as pd"
   ]
  },
  {
   "cell_type": "code",
   "execution_count": 7,
   "metadata": {
    "collapsed": false
   },
   "outputs": [
    {
     "name": "stdout",
     "output_type": "stream",
     "text": [
      "begin reading osm 2016-11-12 19:04:28.942000\n",
      "finish reading osm 2016-11-12 19:05:40.775000\n",
      "[\"len of <class 'osmread.elements.Relation'> = 3427\", \"len of <class 'osmread.elements.Node'> = 2546260\", \"len of <class 'osmread.elements.Way'> = 306332\"]\n"
     ]
    }
   ],
   "source": [
    "OSM_DC_BBOX_PATH = '../data/osm/osm_dc_bbox.osm'\n",
    "OSM_DC_BBOX = osm_container(OSM_DC_BBOX_PATH)\n",
    "print OSM_DC_BBOX.data_size()"
   ]
  },
  {
   "cell_type": "code",
   "execution_count": 8,
   "metadata": {
    "collapsed": false,
    "scrolled": true
   },
   "outputs": [
    {
     "name": "stdout",
     "output_type": "stream",
     "text": [
      "Node 19386\n",
      "Relation 2203\n",
      "Way 140629\n"
     ]
    },
    {
     "data": {
      "text/plain": [
       "(140629, 19386, 2203)"
      ]
     },
     "execution_count": 8,
     "metadata": {},
     "output_type": "execute_result"
    }
   ],
   "source": [
    "DC_OSM_IDS_PATH ='../data/osm_ids_have_tag_near_opendc_segs.txt'\n",
    "DC_OSM_IDS={}\n",
    "with open(DC_OSM_IDS_PATH) as f:\n",
    "    DC_OSM_IDS = eval(f.readlines()[0])\n",
    "for key, value in DC_OSM_IDS.items():\n",
    "    print key, len(value)\n",
    "    \n",
    "    \n",
    "def dc_obj(osm_objs, osm_ids, osmtype, osmtype_str):\n",
    "    return [obj for obj in osm_objs.osm_objs[osmtype] if obj.id in osm_ids[osmtype_str]]\n",
    "\n",
    "DC_NODES = dc_obj(OSM_DC_BBOX, DC_OSM_IDS,Node, 'Node')\n",
    "DC_WAYS = dc_obj(OSM_DC_BBOX, DC_OSM_IDS, Way, 'Way')\n",
    "DC_RLTNS = dc_obj(OSM_DC_BBOX, DC_OSM_IDS, Relation, 'Relation')\n",
    "len(DC_WAYS), len(DC_NODES), len(DC_RLTNS)"
   ]
  },
  {
   "cell_type": "code",
   "execution_count": 6,
   "metadata": {
    "collapsed": false
   },
   "outputs": [],
   "source": [
    "# TODO: move to osm helper.py\n",
    "\n",
    "\n"
   ]
  },
  {
   "cell_type": "code",
   "execution_count": 9,
   "metadata": {
    "collapsed": false
   },
   "outputs": [],
   "source": [
    "# specific filter\n",
    "def filter_is_motorway(obj):\n",
    "    tag_highway = [('highway','*')]\n",
    "    tag_bike_walk = [('highway', set(['path','pedestrian','footway','steps','cycleway','crossing']))]\n",
    "    return filter_obj(obj, tag_highway, tag_bike_walk)\n",
    "def filter_isnot_motorway(obj):\n",
    "    return not filter_is_motorway(obj)\n",
    "\n",
    "def filter_is_bike_walk_way(obj):\n",
    "    tag_bike_walk = [('highway', set(['path','pedestrian','footway','steps','cycleway','crossing']))]\n",
    "    return filter_obj(obj, tag_bike_walk)\n",
    "def filter_isnot_bike_walk_way(obj):\n",
    "    return not filter_is_bike_walk_way(obj)\n",
    "\n",
    "def filter_is_admin(obj):\n",
    "    tag_admin_have = [('boundary','*'),('place','*')]\n",
    "    tag_admin_donthave = [('leisure','*'), ('amenity','*'), ('boundary',['national_park','protected_area']),\n",
    "                          ('natural','*'), ('place', ['island', 'islet', 'square', 'farm'])]\n",
    "    return filter_obj(obj, tag_admin_have, tag_admin_donthave)\n",
    "\n",
    "def filter_isnot_admin(obj):\n",
    "    return not filter_is_admin(obj)\n",
    "\n",
    "def filter_is_restriction(obj):\n",
    "    tag_restriction = [('restriction','*'),('restriction:conditional','*'), ('restriction:hgv','*')]\n",
    "    return filter_obj(obj, tag_restriction)\n",
    "\n",
    "def filter_isnot_restriction(obj):\n",
    "    return not filter_is_restriction(obj)\n",
    "\n",
    "def filter_is_landuse(obj):\n",
    "    tag_landuse = [('landuse','*')]\n",
    "    return filter_obj(obj, tag_landuse)\n",
    "\n",
    "def filter_isnot_landuse(obj):\n",
    "    return not filter_is_landuse(obj)"
   ]
  },
  {
   "cell_type": "code",
   "execution_count": 190,
   "metadata": {
    "collapsed": false
   },
   "outputs": [],
   "source": [
    "# DC_NODES_WITH_TAG = filter_osm_data(DC_NODES)\n",
    "# DC_WAYS_WITH_TAG = filter_osm_data(DC_WAYS)\n",
    "# DC_RLTNS_WITH_TAG = filter_osm_data(DC_RLTNS)\n",
    "# len(DC_NODES_WITH_TAG), len(DC_WAYS_WITH_TAG), len(DC_RLTNS_WITH_TAG)"
   ]
  },
  {
   "cell_type": "code",
   "execution_count": 10,
   "metadata": {
    "collapsed": false
   },
   "outputs": [
    {
     "data": {
      "text/plain": [
       "(17, 369, 153, 147, 640, 12236)"
      ]
     },
     "execution_count": 10,
     "metadata": {},
     "output_type": "execute_result"
    }
   ],
   "source": [
    "restriction_rltn = filter_osm_data(DC_RLTNS,special_filters=[filter_is_restriction])\n",
    "landuse_rltn = filter_osm_data(DC_RLTNS,special_filters=[filter_is_landuse])\n",
    "landuse_way = filter_osm_data(DC_WAYS,special_filters=[filter_is_landuse])\n",
    "admin_rltn = filter_osm_data(DC_RLTNS, special_filters=[filter_is_admin])\n",
    "admin_way = filter_osm_data(DC_WAYS, special_filters=[filter_is_admin])\n",
    "motor_way = filter_osm_data(DC_WAYS,special_filters=[filter_is_motorway])\n",
    "len(landuse_rltn), len(landuse_way), len(admin_rltn),len(admin_way), len(restriction_rltn), len(motor_way)"
   ]
  },
  {
   "cell_type": "code",
   "execution_count": 13,
   "metadata": {
    "collapsed": false
   },
   "outputs": [
    {
     "name": "stdout",
     "output_type": "stream",
     "text": [
      "127877 127877\n"
     ]
    },
    {
     "data": {
      "text/plain": [
       "(1394, 1393)"
      ]
     },
     "execution_count": 13,
     "metadata": {},
     "output_type": "execute_result"
    }
   ],
   "source": [
    "DC_WAYS_NOT_ADMIN_MOTOR_LANDUSE = filter_osm_data(DC_WAYS,special_filters=[filter_isnot_admin, filter_isnot_motorway,filter_isnot_landuse])\n",
    "print len(DC_WAYS_NOT_ADMIN_MOTOR_LANDUSE), len(DC_WAYS)-len(admin_way)-len(motor_way) - len(landuse_way)\n",
    "\n",
    "DC_RLTNS_NOT_ADMIN_RESTRICTION_LANDUSE = filter_osm_data(DC_RLTNS,special_filters=[filter_isnot_admin, filter_isnot_restriction,filter_isnot_landuse])\n",
    "len(DC_RLTNS_NOT_ADMIN_RESTRICTION_LANDUSE), len(DC_RLTNS)-len(admin_rltn) - len(restriction_rltn) - len(landuse_rltn)"
   ]
  },
  {
   "cell_type": "code",
   "execution_count": 20,
   "metadata": {
    "collapsed": false
   },
   "outputs": [],
   "source": [
    "import shapely.geometry as shpgeo\n",
    "\n",
    "def lon_lats_closed(lon_lats):\n",
    "    return lon_lats[0]==lon_lats[-1]\n",
    "\n",
    "def way2lineOrpoly(osm_data, way):\n",
    "    nodes = [osm_data.get_osm_node_by_id(nid) for nid in way.nodes]\n",
    "    lon_lats = [(node.lon, node.lat) for node in nodes]\n",
    "    return shpgeo.Polygon(lon_lats).buffer(0) if lon_lats_closed(lon_lats) and len(lon_lats)>3 else shpgeo.LineString(lon_lats)\n",
    "\n",
    "def flatten_rltn_shpcltn(shpcltn):\n",
    "    flat_shpcltn = []\n",
    "    for shpobjs in shpcltn:\n",
    "        flat_shpcltn.extend(shpobjs)\n",
    "    return flat_shpcltn\n",
    "\n",
    "def build_gpdf_list_from_osm(osm_data, nodes, ways, rltns):\n",
    "    columns = ['id','type','geometry']\n",
    "    shpobjs_from_nodes = [(node.id,'Node', node2pt(node)) for node in nodes]\n",
    "    shpobjs_from_ways =  [(way.id,'Way', way2lineOrpoly(osm_data, way)) for way in ways]\n",
    "    shpobjs_from_rltns = [(rltn.id, 'Relation', shpobj) for rltn in rltns for shpobj in flatten_rltn_shpcltn(rltn2mergedCltn(osm_data,rltn)[0])]\n",
    "    print len(shpobjs_from_nodes),len(shpobjs_from_ways),len(shpobjs_from_rltns)\n",
    "    shpobjs = []\n",
    "    shpobjs.extend(shpobjs_from_nodes)\n",
    "    shpobjs.extend(shpobjs_from_ways)\n",
    "    shpobjs.extend(shpobjs_from_rltns)\n",
    "    gpdf = gp.GeoDataFrame(shpobjs, columns=columns)\n",
    "    return gpdf"
   ]
  },
  {
   "cell_type": "code",
   "execution_count": 21,
   "metadata": {
    "collapsed": false,
    "scrolled": false
   },
   "outputs": [
    {
     "name": "stdout",
     "output_type": "stream",
     "text": [
      "19386 127877 1888\n"
     ]
    }
   ],
   "source": [
    "GPDF_NEARBY = build_gpdf_list_from_osm(OSM_DC_BBOX, DC_NODES,DC_WAYS_NOT_ADMIN_MOTOR_LANDUSE, DC_RLTNS_NOT_ADMIN_RESTRICTION_LANDUSE)"
   ]
  },
  {
   "cell_type": "code",
   "execution_count": 26,
   "metadata": {
    "collapsed": false,
    "scrolled": true
   },
   "outputs": [
    {
     "name": "stdout",
     "output_type": "stream",
     "text": [
      "build_gpdf_list len(shpobjs_from_nodes)=19386,len(shpobjs_from_ways)=127877,len(shpobjs_from_rltns)=1888\n"
     ]
    }
   ],
   "source": [
    "GPDF_NEARBY2 = build_gpdf_list_from_osm2(OSM_DC_BBOX, DC_NODES,DC_WAYS_NOT_ADMIN_MOTOR_LANDUSE, DC_RLTNS_NOT_ADMIN_RESTRICTION_LANDUSE)"
   ]
  },
  {
   "cell_type": "code",
   "execution_count": 27,
   "metadata": {
    "collapsed": true
   },
   "outputs": [],
   "source": [
    "def remove_equal_shpobj(objs):\n",
    "    import rtree\n",
    "    size = len(objs)\n",
    "    equal_pair = []\n",
    "    keep = []\n",
    "    exclude_idx = set()\n",
    "    \n",
    "    tree_idx = rtree.index.Index()\n",
    "    objs_bounds = [o.bounds for o in objs]\n",
    "    for i in xrange(size):\n",
    "        try:\n",
    "            tree_idx.insert(i, objs_bounds[i])\n",
    "        except Exception as e:\n",
    "            print i, objs_bounds[i], objs[i]\n",
    "            raise e\n",
    "\n",
    "    for i in xrange(size):\n",
    "        if i in exclude_idx:\n",
    "            continue\n",
    "        keep.append(i)\n",
    "        js = tree_idx.intersection(objs[i].bounds)\n",
    "        for j in js:\n",
    "            if i!=j and objs[i].equals(objs[j]):\n",
    "                equal_pair.append((i,int(j)))\n",
    "                exclude_idx.add(j)\n",
    "                \n",
    "    return keep, equal_pair"
   ]
  },
  {
   "cell_type": "code",
   "execution_count": 28,
   "metadata": {
    "collapsed": true
   },
   "outputs": [],
   "source": [
    "def find_direct_parent(tree, node, direct_parents):\n",
    "    if node in direct_parents:\n",
    "        return direct_parents[node]\n",
    "    node_parents = tree[tree.child==node].parent.values\n",
    "    if len(node_parents)==0:\n",
    "        direct_parents[node]=(node, 'root',1)\n",
    "        return direct_parents[node]\n",
    "    node_parents_lv = [find_direct_parent(tree, p, direct_parents)[2] for p in node_parents]\n",
    "    max_lv = max(node_parents_lv)\n",
    "    direct_parent = node_parents[node_parents_lv.index(max_lv)]\n",
    "    direct_parents[node] = (node, direct_parent, max_lv+1)\n",
    "    return (node, direct_parent, max_lv+1)\n",
    "\n",
    "def find_tree2(messy_tree_df):\n",
    "    direct_parents={}\n",
    "    all_nodes = set(messy_tree_df.child)\n",
    "    messy_tree_df = messy_tree_df[messy_tree_df.child!=messy_tree_df.parent].copy()\n",
    "    new_tree = []\n",
    "    for node in all_nodes:\n",
    "        x = find_direct_parent(messy_tree_df, node, direct_parents)\n",
    "        new_tree.append(x)\n",
    "    return pd.DataFrame(new_tree,columns=['child','parent','lv']).sort('lv')\n"
   ]
  },
  {
   "cell_type": "code",
   "execution_count": 29,
   "metadata": {
    "collapsed": true
   },
   "outputs": [],
   "source": [
    "from utils.other_utils import find_tree\n",
    "def merge_within(shp_gpdf):\n",
    "    import geopandas as gp\n",
    "    import pandas as pd\n",
    "    print 'begin merge within', datetime.datetime.now()\n",
    "    keep, equal_pair= remove_equal_shpobj(shp_gpdf.geometry.values)\n",
    "    equal_pair_index = [(shp_gpdf.iloc[i].name, shp_gpdf.iloc[j].name) for i, j in equal_pair]\n",
    "    gpdf_no_equal = shp_gpdf.iloc[keep]\n",
    "    print 'keep =',len(keep), 'equal pair =',len(equal_pair), gpdf_no_equal.shape, datetime.datetime.now()\n",
    "    sjoin = gp.tools.sjoin(gpdf_no_equal,gpdf_no_equal,op='within')\n",
    "    print 'sjoin.shape =',sjoin.shape, datetime.datetime.now()\n",
    "    messy_tree_df = pd.DataFrame(zip(sjoin.index.values, sjoin.index_right.values), columns=['child','parent'])\n",
    "    print 'messy tree shape =', messy_tree_df.shape, datetime.datetime.now()\n",
    "    clean_tree_df = find_tree2(messy_tree_df.copy())\n",
    "    print 'clean tree shape =', clean_tree_df.shape, datetime.datetime.now()\n",
    "    top_level_shp_idx = clean_tree_df[clean_tree_df.parent=='root'].child.values\n",
    "    return shp_gpdf[shp_gpdf.index.isin(top_level_shp_idx)], messy_tree_df, clean_tree_df, equal_pair_index"
   ]
  },
  {
   "cell_type": "code",
   "execution_count": 193,
   "metadata": {
    "collapsed": false
   },
   "outputs": [
    {
     "name": "stdout",
     "output_type": "stream",
     "text": [
      "begin merge within 2016-11-11 12:06:03.837000\n",
      "keep = 148430 equal pair = 721 (148430, 3) 2016-11-11 12:07:02.736000\n",
      "sjoin.shape = (166597, 6) 2016-11-11 12:12:24.083000\n",
      "messy tree shape = (166597, 2) 2016-11-11 12:12:24.200000\n",
      "clean tree shape = (148430, 3) 2016-11-11 12:14:50.358000\n"
     ]
    }
   ],
   "source": [
    "GPDF_NEARBY_MEGED, MERGED_HISTORY, MERGE_HIERARCHY, EQ_PAIR_INDEX = merge_within(GPDF_NEARBY)"
   ]
  },
  {
   "cell_type": "code",
   "execution_count": null,
   "metadata": {
    "collapsed": true
   },
   "outputs": [],
   "source": []
  },
  {
   "cell_type": "code",
   "execution_count": 195,
   "metadata": {
    "collapsed": true
   },
   "outputs": [],
   "source": [
    "EQUAL_PAIR = [(GPDF_NEARBY.loc[i].id,GPDF_NEARBY.loc[i]['type'], GPDF_NEARBY.loc[j].id, GPDF_NEARBY.loc[j]['type']) for i, j in EQ_PAIR_INDEX]"
   ]
  },
  {
   "cell_type": "code",
   "execution_count": 200,
   "metadata": {
    "collapsed": false
   },
   "outputs": [],
   "source": [
    "pd.DataFrame(EQUAL_PAIR,columns=['child_oid','child_otype','parent_oid','parent_otype']).to_csv('../data/osm_equal_pair.csv')"
   ]
  },
  {
   "cell_type": "code",
   "execution_count": 202,
   "metadata": {
    "collapsed": false,
    "scrolled": true
   },
   "outputs": [],
   "source": [
    "temp_df = MERGE_HIERARCHY.merge(GPDF_NEARBY[['id','type']], how='left', left_on='child', right_index=True).merge(GPDF_NEARBY[['id','type']], how='left',left_on='parent', right_index=True)\n",
    "temp_df.columns=['child','parent','lv','child_oid', 'child_otype', 'parent_oid','parent_otype']\n",
    "temp_df.parent_oid = temp_df.parent_oid.fillna('')\n",
    "temp_df.to_csv('../data/osm_child_direct_parent.csv')"
   ]
  },
  {
   "cell_type": "code",
   "execution_count": 198,
   "metadata": {
    "collapsed": false
   },
   "outputs": [],
   "source": [
    "temp_df = MERGED_HISTORY.merge(GPDF_NEARBY[['id','type']], how='left', left_on='child', right_index=True).merge(GPDF_NEARBY[['id','type']], how='left',left_on='parent', right_index=True)\n",
    "temp_df.columns=['child','parent','child_oid', 'child_otype', 'parent_oid','parent_otype']\n",
    "temp_df.to_csv('../data/osm_child_all_parents.csv')"
   ]
  },
  {
   "cell_type": "code",
   "execution_count": null,
   "metadata": {
    "collapsed": true
   },
   "outputs": [],
   "source": [
    "temp_df[temp_df.child==22941]"
   ]
  },
  {
   "cell_type": "code",
   "execution_count": 61,
   "metadata": {
    "collapsed": false
   },
   "outputs": [
    {
     "data": {
      "text/plain": [
       "((725, 6), (96, 6))"
      ]
     },
     "execution_count": 61,
     "metadata": {},
     "output_type": "execute_result"
    }
   ],
   "source": [
    "temp_df[temp_df.parent==164426].shape, temp_df[temp_df.parent==22941].shape"
   ]
  },
  {
   "cell_type": "code",
   "execution_count": 69,
   "metadata": {
    "collapsed": false
   },
   "outputs": [
    {
     "data": {
      "text/plain": [
       "Way    69\n",
       "dtype: int64"
      ]
     },
     "execution_count": 69,
     "metadata": {},
     "output_type": "execute_result"
    }
   ],
   "source": [
    "temp_df[temp_df.parent==157636].type_x.value_counts()"
   ]
  },
  {
   "cell_type": "code",
   "execution_count": 76,
   "metadata": {
    "collapsed": false,
    "scrolled": true
   },
   "outputs": [
    {
     "name": "stdout",
     "output_type": "stream",
     "text": [
      "{u'source': u'dcgis', u'landuse': u'residential', u'dcgis:pubdate': u'20090505', u'dataset': u'PublicHousingAreaPly'}\n"
     ]
    }
   ],
   "source": [
    "for way_id in temp_df[temp_df.id_y==67383293].id_x.values:\n",
    "    way = OSM_DC_BBOX.get_osm_way_by_id(way_id)\n",
    "    print way.tags"
   ]
  },
  {
   "cell_type": "code",
   "execution_count": 125,
   "metadata": {
    "collapsed": false,
    "scrolled": true
   },
   "outputs": [
    {
     "name": "stdout",
     "output_type": "stream",
     "text": [
      "http://www.openstreetmap.org/way/296355721 (1524, 6)\n",
      "http://www.openstreetmap.org/way/440070008 (1467, 6)\n",
      "http://www.openstreetmap.org/way/91525299 (1176, 6)\n",
      "http://www.openstreetmap.org/relation/4610875 (725, 6)\n",
      "http://www.openstreetmap.org/relation/4626530 (595, 6)\n",
      "http://www.openstreetmap.org/way/132637346 (461, 6)\n",
      "http://www.openstreetmap.org/way/66678705 (440, 6)\n",
      "http://www.openstreetmap.org/way/440041211 (386, 6)\n",
      "http://www.openstreetmap.org/way/41965038 (334, 6)\n",
      "http://www.openstreetmap.org/relation/5991609 (325, 6)\n",
      "http://www.openstreetmap.org/way/41964871 (289, 6)\n",
      "http://www.openstreetmap.org/relation/1043453 (272, 6)\n",
      "http://www.openstreetmap.org/relation/5149106 (264, 6)\n",
      "http://www.openstreetmap.org/way/67383283 (262, 6)\n",
      "http://www.openstreetmap.org/way/67282581 (255, 6)\n",
      "http://www.openstreetmap.org/way/67282582 (239, 6)\n",
      "http://www.openstreetmap.org/way/133333756 (221, 6)\n",
      "http://www.openstreetmap.org/way/67282580 (193, 6)\n",
      "http://www.openstreetmap.org/way/67282586 (175, 6)\n",
      "http://www.openstreetmap.org/way/41965223 (171, 6)\n",
      "http://www.openstreetmap.org/way/135490807 (169, 6)\n",
      "http://www.openstreetmap.org/way/66678720 (164, 6)\n",
      "http://www.openstreetmap.org/way/120905695 (163, 6)\n",
      "http://www.openstreetmap.org/relation/4600686 (162, 6)\n",
      "http://www.openstreetmap.org/relation/4630856 (155, 6)\n",
      "http://www.openstreetmap.org/way/67282574 (153, 6)\n",
      "http://www.openstreetmap.org/relation/1067080 (147, 6)\n",
      "http://www.openstreetmap.org/relation/2998176 (146, 6)\n",
      "http://www.openstreetmap.org/way/66678742 (143, 6)\n",
      "http://www.openstreetmap.org/way/124680456 (143, 6)\n",
      "http://www.openstreetmap.org/relation/5147841 (136, 6)\n",
      "http://www.openstreetmap.org/way/67383279 (130, 6)\n",
      "http://www.openstreetmap.org/way/327330911 (126, 6)\n",
      "http://www.openstreetmap.org/way/67282585 (119, 6)\n",
      "http://www.openstreetmap.org/way/67383308 (119, 6)\n"
     ]
    }
   ],
   "source": [
    "parent_cnt = temp_df.parent.value_counts()\n",
    "for p in parent_cnt[parent_cnt>100].index.tolist():\n",
    "    oid = temp_df[(temp_df.child==p) & (temp_df.parent==p)].id_x.values[0]\n",
    "    otype = temp_df[(temp_df.child==p) & (temp_df.parent==p)].type_x.values[0]\n",
    "    print 'http://www.openstreetmap.org/{}/{}'.format(otype.lower(), oid), temp_df[temp_df.parent==p].shape\n",
    "#     osmtype = {'Way':Way, 'Node':Node, 'Relation':Relation}[otype]\n",
    "#     obj = OSM_DC_BBOX.get_osm_obj_by_id(osmtype, oid)\n",
    "#     if have_tag_value(obj, 'landuse', '*'):\n",
    "#         print 'http://www.openstreetmap.org/{}/{}'.format(otype.lower(), oid), temp_df[temp_df.parent==p].shape, obj.tags['landuse']"
   ]
  }
 ],
 "metadata": {
  "kernelspec": {
   "display_name": "Python 2",
   "language": "python",
   "name": "python2"
  },
  "language_info": {
   "codemirror_mode": {
    "name": "ipython",
    "version": 2
   },
   "file_extension": ".py",
   "mimetype": "text/x-python",
   "name": "python",
   "nbconvert_exporter": "python",
   "pygments_lexer": "ipython2",
   "version": "2.7.11"
  }
 },
 "nbformat": 4,
 "nbformat_minor": 0
}
