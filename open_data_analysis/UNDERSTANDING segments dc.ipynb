{
 "cells": [
  {
   "cell_type": "code",
   "execution_count": 3,
   "metadata": {
    "collapsed": true
   },
   "outputs": [],
   "source": [
    "from src.leaflet_creation import create_map_visualization\n",
    "import geopandas as gp\n",
    "\n",
    "from src.constants import fn_segments_dc\n",
    "data_dir = 'data/'\n",
    "path_segs_dc = data_dir + fn_segments_dc\n"
   ]
  },
  {
   "cell_type": "code",
   "execution_count": 4,
   "metadata": {
    "collapsed": true
   },
   "outputs": [],
   "source": [
    "segs = gp.read_file(path_segs_dc)"
   ]
  },
  {
   "cell_type": "markdown",
   "metadata": {},
   "source": [
    "# understanding DIRECTIONALITY\n",
    "\n",
    "- D=2: both direction\n",
    "- D=1: the start point is the last point of the LineString\n",
    "- D=0: the start point is the start point of the LineString"
   ]
  },
  {
   "cell_type": "code",
   "execution_count": null,
   "metadata": {
    "collapsed": true
   },
   "outputs": [],
   "source": []
  },
  {
   "cell_type": "code",
   "execution_count": 8,
   "metadata": {
    "collapsed": false
   },
   "outputs": [],
   "source": [
    "segs_d2 = segs[segs.DIRECTIONALITY==2]\n",
    "segs_d1 = segs[segs.DIRECTIONALITY==1]\n",
    "segs_d0 = segs[segs.DIRECTIONALITY==0]\n"
   ]
  },
  {
   "cell_type": "code",
   "execution_count": 9,
   "metadata": {
    "collapsed": true
   },
   "outputs": [
    {
     "name": "stderr",
     "output_type": "stream",
     "text": [
      "d:\\program files\\anaconda2\\lib\\site-packages\\ipykernel\\__main__.py:9: SettingWithCopyWarning: \n",
      "A value is trying to be set on a copy of a slice from a DataFrame.\n",
      "Try using .loc[row_indexer,col_indexer] = value instead\n",
      "\n",
      "See the the caveats in the documentation: http://pandas.pydata.org/pandas-docs/stable/indexing.html#indexing-view-versus-copy\n",
      "d:\\program files\\anaconda2\\lib\\site-packages\\ipykernel\\__main__.py:10: SettingWithCopyWarning: \n",
      "A value is trying to be set on a copy of a slice from a DataFrame.\n",
      "Try using .loc[row_indexer,col_indexer] = value instead\n",
      "\n",
      "See the the caveats in the documentation: http://pandas.pydata.org/pandas-docs/stable/indexing.html#indexing-view-versus-copy\n",
      "d:\\program files\\anaconda2\\lib\\site-packages\\ipykernel\\__main__.py:11: SettingWithCopyWarning: \n",
      "A value is trying to be set on a copy of a slice from a DataFrame.\n",
      "Try using .loc[row_indexer,col_indexer] = value instead\n",
      "\n",
      "See the the caveats in the documentation: http://pandas.pydata.org/pandas-docs/stable/indexing.html#indexing-view-versus-copy\n"
     ]
    }
   ],
   "source": [
    "html_title = 'dc segs'\n",
    "file_path = ''\n",
    "file_name = 'dc segs'\n",
    "lon, lat  = -77.0908494, 38.9045525\n",
    "zoom = 12\n",
    "init_layers = ['streets', 'stsg']\n",
    "map_layers = ['light','streets']\n",
    "binding_data=[['stsg','street segment D=0'],['stsg1','street segment D=1'],['stsg2','street segment D=2']]\n",
    "segs_d0['color'] = '#a00'\n",
    "segs_d1['color'] = '#00a'\n",
    "segs_d2['color'] = '#0a0'\n",
    "gpdfs = [segs_d0, segs_d1, segs_d2]\n",
    "create_map_visualization(html_title, file_path, file_name, lat, lon, zoom, init_layers, map_layers, binding_data, gpdfs)"
   ]
  },
  {
   "cell_type": "code",
   "execution_count": 11,
   "metadata": {
    "collapsed": true
   },
   "outputs": [],
   "source": [
    "def segid_f_t(row):\n",
    "    segid = row.STREETSEGID\n",
    "    f = row.geometry.coords[0]\n",
    "    t = row.geometry.coords[-1]\n",
    "    return (segid, (f[1],f[0]), (t[1], t[0]))"
   ]
  },
  {
   "cell_type": "code",
   "execution_count": 15,
   "metadata": {
    "collapsed": true
   },
   "outputs": [],
   "source": [
    "def wrap_df(tuples):\n",
    "    import pandas as pd\n",
    "    return pd.DataFrame(tuples,columns=['segid', 'f', 't'])"
   ]
  },
  {
   "cell_type": "code",
   "execution_count": 17,
   "metadata": {
    "collapsed": false
   },
   "outputs": [
    {
     "data": {
      "text/html": [
       "<div>\n",
       "<table border=\"1\" class=\"dataframe\">\n",
       "  <thead>\n",
       "    <tr style=\"text-align: right;\">\n",
       "      <th></th>\n",
       "      <th>segid</th>\n",
       "      <th>f</th>\n",
       "      <th>t</th>\n",
       "    </tr>\n",
       "  </thead>\n",
       "  <tbody>\n",
       "    <tr>\n",
       "      <th>0</th>\n",
       "      <td>6454</td>\n",
       "      <td>(38.8844109308, -76.9238991544)</td>\n",
       "      <td>(38.8839577495, -76.9208282939)</td>\n",
       "    </tr>\n",
       "    <tr>\n",
       "      <th>1</th>\n",
       "      <td>1070</td>\n",
       "      <td>(38.8837405311, -76.9240446306)</td>\n",
       "      <td>(38.8833646982, -76.9215865238)</td>\n",
       "    </tr>\n",
       "  </tbody>\n",
       "</table>\n",
       "</div>"
      ],
      "text/plain": [
       "   segid                                f                                t\n",
       "0   6454  (38.8844109308, -76.9238991544)  (38.8839577495, -76.9208282939)\n",
       "1   1070  (38.8837405311, -76.9240446306)  (38.8833646982, -76.9215865238)"
      ]
     },
     "execution_count": 17,
     "metadata": {},
     "output_type": "execute_result"
    }
   ],
   "source": [
    "indexes = [1070, 6454]  # same as FT in PH\n",
    "wrap_df(segs_d0[segs_d0.STREETSEGID.isin(indexes)].apply(segid_f_t, axis=1).tolist())  "
   ]
  },
  {
   "cell_type": "code",
   "execution_count": 22,
   "metadata": {
    "collapsed": false
   },
   "outputs": [
    {
     "data": {
      "text/html": [
       "<div>\n",
       "<table border=\"1\" class=\"dataframe\">\n",
       "  <thead>\n",
       "    <tr style=\"text-align: right;\">\n",
       "      <th></th>\n",
       "      <th>segid</th>\n",
       "      <th>f</th>\n",
       "      <th>t</th>\n",
       "    </tr>\n",
       "  </thead>\n",
       "  <tbody>\n",
       "    <tr>\n",
       "      <th>0</th>\n",
       "      <td>1965</td>\n",
       "      <td>(38.8928034739, -76.9558887899)</td>\n",
       "      <td>(38.8930897269, -76.9548588989)</td>\n",
       "    </tr>\n",
       "  </tbody>\n",
       "</table>\n",
       "</div>"
      ],
      "text/plain": [
       "   segid                                f                                t\n",
       "0   1965  (38.8928034739, -76.9558887899)  (38.8930897269, -76.9548588989)"
      ]
     },
     "execution_count": 22,
     "metadata": {},
     "output_type": "execute_result"
    }
   ],
   "source": [
    "indexes = [8971, 10582,10475]  # same as TF in PH\n",
    "indexes = [2103,2096]  # same as TF in PH\n",
    "indexes = [1965]  # same as TF in PH\n",
    "\n",
    "wrap_df(segs_d1[segs_d1.STREETSEGID.isin(indexes)].apply(segid_f_t, axis=1).tolist())  "
   ]
  },
  {
   "cell_type": "code",
   "execution_count": 24,
   "metadata": {
    "collapsed": false
   },
   "outputs": [
    {
     "data": {
      "text/html": [
       "<div>\n",
       "<table border=\"1\" class=\"dataframe\">\n",
       "  <thead>\n",
       "    <tr style=\"text-align: right;\">\n",
       "      <th></th>\n",
       "      <th>segid</th>\n",
       "      <th>f</th>\n",
       "      <th>t</th>\n",
       "    </tr>\n",
       "  </thead>\n",
       "  <tbody>\n",
       "    <tr>\n",
       "      <th>0</th>\n",
       "      <td>7134</td>\n",
       "      <td>(38.8939126267, -76.9548202232)</td>\n",
       "      <td>(38.8947711191, -76.9548065383)</td>\n",
       "    </tr>\n",
       "  </tbody>\n",
       "</table>\n",
       "</div>"
      ],
      "text/plain": [
       "   segid                                f                                t\n",
       "0   7134  (38.8939126267, -76.9548202232)  (38.8947711191, -76.9548065383)"
      ]
     },
     "execution_count": 24,
     "metadata": {},
     "output_type": "execute_result"
    }
   ],
   "source": [
    "indexes = [7134]  # same as B in PH\n",
    "indexes = [4482]  # same as B in PH\n",
    "\n",
    "wrap_df(segs_d2[segs_d2.STREETSEGID.isin(indexes)].apply(segid_f_t, axis=1).tolist())  "
   ]
  },
  {
   "cell_type": "code",
   "execution_count": null,
   "metadata": {
    "collapsed": true
   },
   "outputs": [],
   "source": []
  }
 ],
 "metadata": {
  "kernelspec": {
   "display_name": "Python 2",
   "language": "python",
   "name": "python2"
  },
  "language_info": {
   "codemirror_mode": {
    "name": "ipython",
    "version": 2
   },
   "file_extension": ".py",
   "mimetype": "text/x-python",
   "name": "python",
   "nbconvert_exporter": "python",
   "pygments_lexer": "ipython2",
   "version": "2.7.11"
  }
 },
 "nbformat": 4,
 "nbformat_minor": 2
}
