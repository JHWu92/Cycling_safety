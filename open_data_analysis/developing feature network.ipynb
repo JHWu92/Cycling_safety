{
 "cells": [
  {
   "cell_type": "markdown",
   "metadata": {},
   "source": [
    "# Notes about SNAP\n",
    "1. snap.GetBetweennessCentr(PNGraph, Nodes, Edges, InDist=False) equals to snap.GetBetweennessCentr(PUNGraph, Nodes, Edges)\n",
    "2. snap.GetDegreeCentr(UG, nid) == float(n.GetDeg())/(size-1)\n",
    "3. http://snap.stanford.edu/class/cs224w-2013/recitation/snappy/Snappy-tutorial-2013.pdf\n",
    "4. Directed Graph --> Undirected Graph: \n",
    "    - src and dir of an edge may change: (107,0) --> (0, 107); (8407, 8406) --> (8406, 8407) (seems that always smaller nodeid points to larger nodeid)(Note written when developing func:ftr_network_SgAsEd())"
   ]
  },
  {
   "cell_type": "markdown",
   "metadata": {},
   "source": [
    "# Notes about func:intxn_from_segs(segs, directionality_column=None):\n",
    "    \n",
    "    # check whether the intersection output is correct, by picking some examples for both B, FT, TF. \n",
    "    1. FT/0 type: DC STREETSEGID = 876(-77.01239193659748 38.950836102255), checked; 14713(-76.9902413493931 38.8773984704994), checked; 8891(-77.01366204332678 38.899295772364), checked\n",
    "    2. TF/1 type: DC STREETSEGID = 13161(-77.01163764014346 38.953383268855), checked; 8292(-77.0100561260908 38.9555132405171), checked; 92(-77.01618238255742 38.896139800171), checked\n",
    "    3. B/2 type: DC STREETSEGID = 10395(-77.0116155077942 38.9556194835925), checked; 10090(-77.0116172263626 38.9576690437764), checked; 15306(-77.01885842791256 38.836994168269), checked; 15284(-76.99377942384207 38.875606235068)\n"
   ]
  },
  {
   "cell_type": "markdown",
   "metadata": {},
   "source": [
    "# Notes of func:ftr_network_SgAsNd\n",
    "1. feature for segs as node:\n",
    "    - N\n",
    "        - [x] in/out degree\n",
    "        - [x] betweenness centrality(https://snap.stanford.edu/snappy/doc/reference/GetBetweennessCentr.html)\n",
    "        - [x] closeness centrality(https://snap.stanford.edu/snappy/doc/reference/GetClosenessCentr.html)\n",
    "        - [x] Farness centrality(https://snap.stanford.edu/snappy/doc/reference/GetFarnessCentr.html)\n",
    "        - [x] page rank(https://snap.stanford.edu/snappy/doc/reference/GetPageRank.html)\n",
    "        - [x] Hits score(https://snap.stanford.edu/snappy/doc/reference/GetHits.html)\n",
    "        - [x] node eccentricity(https://snap.stanford.edu/snappy/doc/reference/GetNodeEcc.html)\n",
    "    - UN\n",
    "        - [x] degree centrality(https://snap.stanford.edu/snappy/doc/reference/GetDegreeCentr.html)\n",
    "        - [x] eigenvector centrality(https://snap.stanford.edu/snappy/doc/reference/GetEigenVectorCentr.html)\n",
    "        - [x] betweenness centrality(https://snap.stanford.edu/snappy/doc/reference/GetBetweennessCentr.html)\n",
    "        - [x] closeness centrality(https://snap.stanford.edu/snappy/doc/reference/GetClosenessCentr.html)\n",
    "        - [x] Farness centrality(https://snap.stanford.edu/snappy/doc/reference/GetFarnessCentr.html)\n",
    "        - [x] page rank(https://snap.stanford.edu/snappy/doc/reference/GetPageRank.html)\n",
    "        - [x] Hits score(https://snap.stanford.edu/snappy/doc/reference/GetHits.html)\n",
    "        - [x] node eccentricity(https://snap.stanford.edu/snappy/doc/reference/GetNodeEcc.html)\n",
    "        - [x] articulation pointshttps://snap.stanford.edu/snappy/doc/reference/GetArtPoints.html\n",
    "        - [x] bridge(https://snap.stanford.edu/snappy/doc/reference/GetEdgeBridges.html)"
   ]
  },
  {
   "cell_type": "markdown",
   "metadata": {},
   "source": [
    "# Notes of FUNC:ftr_network_SgAsEd\n",
    "1. Feature:\n",
    "    - N:\n",
    "        - [X] betweenness centrality\n",
    "    - UN:\n",
    "        - [X] betweenness centrality\n",
    "        - [X] bridge\n",
    "2. [X] check whether the features is correctly assigned to segments, check cases:\n",
    "    - [X] one directed edges --> one segid: E.g. DC, index_seg=[13482,2438,2,1,86,0]\n",
    "    - [X] two directed edges --> one segid: E.g. DC, index_seg=[2818,2819,2773,5788,2772,5787,2243,2242,3,13436,13466,13474,10570]\n",
    "    - [X] one directed edge --> two segids: E.g. DC, index_seg=[[10247, 10568],[10368, 10570],[13093, 13278]]\n",
    "    - [X] two directed edges --> two segids: E.g. DC, index_seg=[[952, 2227], [2234, 2238],[12597, 13219]]\n",
    "    - [X] loop edges --> one segid: E.g. index_seg=[12412, 13055, 11916]\n",
    "        - betweenness centerality: they don't have value in undirect graph; value=0 in directed graph"
   ]
  },
  {
   "cell_type": "code",
   "execution_count": 1,
   "metadata": {
    "collapsed": true
   },
   "outputs": [],
   "source": [
    "import snap\n",
    "import geopandas as gp\n",
    "import pandas as pd"
   ]
  },
  {
   "cell_type": "code",
   "execution_count": 2,
   "metadata": {
    "collapsed": false
   },
   "outputs": [],
   "source": [
    "import src.constants;reload(src.constants)\n",
    "import src.geom_helper; reload(src.geom_helper)\n",
    "from src.geom_helper import intxn_from_segs\n",
    "from src.constants import index_seg\n",
    "from src.constants import fn_intxn_dc, fn_segments_dc, fn_feature_seg_as_node_dc, fn_feature_seg_as_edge_dc, var_directionality_column_dc\n",
    "from src.constants import fn_segments_ph, fn_feature_seg_as_node_ph,fn_feature_seg_as_edge_ph, var_directionality_column_ph\n",
    "\n",
    "import src.ftr_network; reload(src.ftr_network)\n",
    "from src.ftr_network import *"
   ]
  },
  {
   "cell_type": "code",
   "execution_count": 3,
   "metadata": {
    "collapsed": true
   },
   "outputs": [],
   "source": [
    "data_dir = 'data/'"
   ]
  },
  {
   "cell_type": "code",
   "execution_count": 4,
   "metadata": {
    "collapsed": false
   },
   "outputs": [],
   "source": [
    "path_segs_ph = data_dir + fn_segments_ph\n",
    "path_segs_dc = data_dir + fn_segments_dc\n",
    "path_ftr_SgAsNd_dc = data_dir + fn_feature_seg_as_node_dc\n",
    "path_ftr_SgAsNd_ph = data_dir + fn_feature_seg_as_node_ph\n",
    "path_ftr_SgAsEg_dc = data_dir + fn_feature_seg_as_edge_dc\n",
    "path_ftr_SgAsEg_ph = data_dir + fn_feature_seg_as_edge_ph"
   ]
  },
  {
   "cell_type": "code",
   "execution_count": 7,
   "metadata": {
    "collapsed": false,
    "scrolled": true
   },
   "outputs": [],
   "source": [
    "# path_segs_ph = data_dir + fn_segments_ph\n",
    "# intxn_directed = intxn_from_segs(path_segs_ph, directionality_column='ONEWAY')\n",
    "# intxn_directed.shape"
   ]
  },
  {
   "cell_type": "code",
   "execution_count": 47,
   "metadata": {
    "collapsed": false,
    "scrolled": false
   },
   "outputs": [
    {
     "name": "stdout",
     "output_type": "stream",
     "text": [
      "intersction project {(0.0, 1.0): 43, (1.0, 0.0): 44, (0.0,): 33141, (): 488, (1.0,): 32690}\n"
     ]
    },
    {
     "data": {
      "text/plain": [
       "(65918, 14)"
      ]
     },
     "execution_count": 47,
     "metadata": {},
     "output_type": "execute_result"
    }
   ],
   "source": [
    "# from shapely.ops import linemerge\n",
    "# path_segs_dc = data_dir + fn_segments_dc\n",
    "# segs_dc = gp.read_file(path_segs_dc)\n",
    "\n",
    "# segs_dc.geometry = segs_dc.geometry.apply(lambda x: x if x.type!='MultiLineString' else linemerge(x))\n",
    "\n",
    "# intxn_directed_dc = intxn_from_segs(segs_dc, directionality_column='DIRECTIONALITY', debug=True)\n",
    "# intxn_directed_dc.shape"
   ]
  },
  {
   "cell_type": "code",
   "execution_count": null,
   "metadata": {
    "collapsed": true
   },
   "outputs": [],
   "source": [
    "ftr_network_SgAsNd(path_segs_dc, path_ftr_SgAsNd_dc, 'DIRECTIONALITY', True)"
   ]
  },
  {
   "cell_type": "code",
   "execution_count": null,
   "metadata": {
    "collapsed": true
   },
   "outputs": [],
   "source": [
    "ftr_network_SgAsNd(path_segs_ph, path_ftr_SgAsNd_ph, 'ONEWAY', True)"
   ]
  },
  {
   "cell_type": "markdown",
   "metadata": {},
   "source": [
    "\n",
    "def ftr_segs_as_nodes(nodes, edges, is_dird=False):\n",
    "\n",
    "    # TODO: remove arg:is_dird with directionality_column\n",
    "    # TODO: modify the feature name and function name, add SgAsNd\n",
    "    # TODO: reconsider the function name, because processs of building network of SgAsNd and SgAsEg is quite different\n"
   ]
  },
  {
   "cell_type": "code",
   "execution_count": 8,
   "metadata": {
    "collapsed": false,
    "scrolled": true
   },
   "outputs": [
    {
     "name": "stdout",
     "output_type": "stream",
     "text": [
      "# nodes = 8520, # edges = 24846\n",
      "node size = 8520, directed edges = 24846, undirected edges = 13478\n"
     ]
    }
   ],
   "source": [
    "df_ftr_dc = ftr_network_SgAsEg(path_segs_dc, path_ftr_SgAsEg_dc, directionality_column=var_directionality_column_dc)"
   ]
  },
  {
   "cell_type": "code",
   "execution_count": 9,
   "metadata": {
    "collapsed": false,
    "scrolled": true
   },
   "outputs": [
    {
     "name": "stdout",
     "output_type": "stream",
     "text": [
      "# nodes = 25434, # edges = 62982\n",
      "node size = 25434, directed edges = 62982, undirected edges = 40920\n"
     ]
    }
   ],
   "source": [
    "df_ftr_ph = ftr_network_SgAsEg(path_segs_ph, path_ftr_SgAsEg_ph, directionality_column=var_directionality_column_ph)"
   ]
  },
  {
   "cell_type": "code",
   "execution_count": 184,
   "metadata": {
    "collapsed": false
   },
   "outputs": [],
   "source": [
    "# def ftr_netw_SgAsEg(path_segs, path_ftr_seg_as_edge, directionality_column=None):\n",
    "#     from collections import defaultdict\n",
    "#     segs = gp.read_file(path_segs)\n",
    "#     segs.index.name = index_seg\n",
    "#     # get from/to point of each segment\n",
    "#     segs['f'] = segs.geometry.apply(lambda x: x.coords[0])\n",
    "#     segs['t'] = segs.geometry.apply(lambda x: x.coords[-1])\n",
    "#     # index nodes\n",
    "#     node2idx = {n:i for i,n in enumerate(pd.unique(segs[['f','t']].values.flatten()))}\n",
    "#     idx2node = {i:n for n,i in node2idx.items()}\n",
    "#     nodes = idx2node.keys()\n",
    "#     # indexize nodes in segments\n",
    "#     segs['f'] = segs.f.apply(lambda x: node2idx[x])\n",
    "#     segs['t'] = segs.t.apply(lambda x: node2idx[x])\n",
    "\n",
    "#     edge2idx = defaultdict(list)\n",
    "\n",
    "#     for sidx, drtn, f, t in segs[[directionality_column, 'f', 't']].reset_index().values:\n",
    "#         if f == t:\n",
    "#             edge2idx[(f,t)].append(sidx)\n",
    "#             continue\n",
    "#         if drtn=='B' or drtn==2:\n",
    "#             edge2idx[(f,t)].append(sidx)\n",
    "#             edge2idx[(t,f)].append(sidx)\n",
    "#         elif drtn=='FT' or drtn==0:\n",
    "#             edge2idx[(f,t)].append(sidx)\n",
    "#         elif drtn=='TF' or drtn==1:\n",
    "#             edge2idx[(t,f)].append(sidx)\n",
    "\n",
    "#     edges = edge2idx.keys()\n",
    "#     print '# nodes = {}, # edges = {}'.format(len(nodes), len(edges))\n",
    "\n",
    "#     G = snap.TNGraph.New()\n",
    "#     for n in nodes:\n",
    "#         G.AddNode(int(n))\n",
    "#     for ein, eout in edges:\n",
    "#         G.AddEdge(int(ein), int(eout))\n",
    "#     UG = snap.ConvertGraph(snap.PUNGraph, G)\n",
    "#     print 'node size = {}, directed edges = {}, undirected edges = {}'.format(len(nodes), len([0 for e in G.Edges()]), len([0 for e in UG.Edges()]))\n",
    "    \n",
    "#     # in ug, the directed edge is sorted\n",
    "#     def get_segidxs_in_ug(f, t):\n",
    "#         segidxs1 = edge2idx[(f,t)]\n",
    "#         segidxs2 = edge2idx[(t,f)]\n",
    "#         return list(set(segidxs1+segidxs2))\n",
    "\n",
    "#     features = defaultdict(lambda: defaultdict(int))\n",
    "\n",
    "#     sidx_history_btw_d = []\n",
    "#     Nodesbd = snap.TIntFltH()\n",
    "#     Edgesbd = snap.TIntPrFltH()\n",
    "#     snap.GetBetweennessCentr(G, Nodesbd, Edgesbd, 1.0, True)\n",
    "#     for edge in Edgesbd:\n",
    "#         segidxs = edge2idx[(edge.GetVal1(), edge.GetVal2())]\n",
    "#         for sidx in segidxs:\n",
    "#             sidx_history_btw_d.append(sidx)\n",
    "#             features[sidx]['d_btw_cntr_SgAsEd'] += Edgesbd[edge]\n",
    "\n",
    "#     sidx_history_btw_ud = []\n",
    "#     Nodesbud = snap.TIntFltH()\n",
    "#     Edgesbud = snap.TIntPrFltH()\n",
    "#     snap.GetBetweennessCentr(UG, Nodesbud, Edgesbud, 1.0)\n",
    "#     for edge in Edgesbud:\n",
    "#         segidxs = get_segidxs_in_ug(edge.GetVal1(), edge.GetVal2())\n",
    "#         for sidx in segidxs:\n",
    "#             sidx_history_btw_ud.append(sidx)\n",
    "#             features[sidx]['ud_btw_cntr_SgAsEd'] += Edgesbud[edge]\n",
    "\n",
    "#     sidx_history_bridge_ud = []\n",
    "#     EdgeV = snap.TIntPrV()\n",
    "#     snap.GetEdgeBridges(UG, EdgeV)\n",
    "#     for edge in EdgeV:\n",
    "#         segidxs = get_segidxs_in_ug(edge.GetVal1(), edge.GetVal2())\n",
    "#         for sidx in segidxs:\n",
    "#             sidx_history_bridge_ud.append(sidx)\n",
    "#             features[sidx]['ud_bridge_SgAsEd'] += 1\n",
    "#     df_ftr = pd.DataFrame.from_dict(features).T\n",
    "#     df_ftr.index.name = index_seg\n",
    "#     df_ftr.to_csv(path_ftr_seg_as_edge)\n",
    "#     return df_ftr"
   ]
  },
  {
   "cell_type": "markdown",
   "metadata": {},
   "source": [
    "# deprecated\n",
    "building network using intersection file from open dc. Because the intxn file isn't complete"
   ]
  },
  {
   "cell_type": "code",
   "execution_count": 32,
   "metadata": {
    "collapsed": true
   },
   "outputs": [],
   "source": [
    "path_intxn_dc = data_dir+fn_intxn_dc\n",
    "path_segs_dc = data_dir + fn_segments_dc\n",
    "path_ftr_seg_as_node_dc = data_dir + fn_feature_seg_as_node"
   ]
  },
  {
   "cell_type": "code",
   "execution_count": 5,
   "metadata": {
    "collapsed": false
   },
   "outputs": [
    {
     "name": "stdout",
     "output_type": "stream",
     "text": [
      "node size = 13443, directed edges = 18006, undirected edges = 14147\n"
     ]
    }
   ],
   "source": [
    "df_dc_seg_as_node = ftr_for_dc(path_intxn_dc, path_segs_dc, path_ftr_seg_as_node_dc)"
   ]
  }
 ],
 "metadata": {
  "kernelspec": {
   "display_name": "Python 2",
   "language": "python",
   "name": "python2"
  },
  "language_info": {
   "codemirror_mode": {
    "name": "ipython",
    "version": 2
   },
   "file_extension": ".py",
   "mimetype": "text/x-python",
   "name": "python",
   "nbconvert_exporter": "python",
   "pygments_lexer": "ipython2",
   "version": "2.7.11"
  }
 },
 "nbformat": 4,
 "nbformat_minor": 2
}
