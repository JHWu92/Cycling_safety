{
 "cells": [
  {
   "cell_type": "markdown",
   "metadata": {},
   "source": [
    "# Notes about SNAP\n",
    "1. snap.GetBetweennessCentr(PNGraph, Nodes, Edges, InDist=False) equals to snap.GetBetweennessCentr(PUNGraph, Nodes, Edges)\n",
    "2. snap.GetDegreeCentr(UG, nid) == float(n.GetDeg())/(size-1)\n",
    "3. http://snap.stanford.edu/class/cs224w-2013/recitation/snappy/Snappy-tutorial-2013.pdf"
   ]
  },
  {
   "cell_type": "markdown",
   "metadata": {},
   "source": [
    "# Notes about func intxn_from_segs(segs, directionality_column=None):\n",
    "    \n",
    "    # check whether the intersection output is correct, by picking some examples for both B, FT, TF. \n",
    "    1. FT/0 type: DC STREETSEGID = 876(-77.01239193659748 38.950836102255), checked; 14713(-76.9902413493931 38.8773984704994), checked; 8891(-77.01366204332678 38.899295772364), checked\n",
    "    2. TF/1 type: DC STREETSEGID = 13161(-77.01163764014346 38.953383268855), checked; 8292(-77.0100561260908 38.9555132405171), checked; 92(-77.01618238255742 38.896139800171), checked\n",
    "    3. B/2 type: DC STREETSEGID = 10395(-77.0116155077942 38.9556194835925), checked; 10090(-77.0116172263626 38.9576690437764), checked; 15306(-77.01885842791256 38.836994168269), checked; 15284(-76.99377942384207 38.875606235068)\n"
   ]
  },
  {
   "cell_type": "markdown",
   "metadata": {},
   "source": [
    "\n",
    "1. feature for segs as node:\n",
    "    - N\n",
    "        - [x] in/out degree\n",
    "        - [x] betweenness centrality(https://snap.stanford.edu/snappy/doc/reference/GetBetweennessCentr.html)\n",
    "        - [x] closeness centrality(https://snap.stanford.edu/snappy/doc/reference/GetClosenessCentr.html)\n",
    "        - [x] Farness centrality(https://snap.stanford.edu/snappy/doc/reference/GetFarnessCentr.html)\n",
    "        - [x] page rank(https://snap.stanford.edu/snappy/doc/reference/GetPageRank.html)\n",
    "        - [x] Hits score(https://snap.stanford.edu/snappy/doc/reference/GetHits.html)\n",
    "        - [x] node eccentricity(https://snap.stanford.edu/snappy/doc/reference/GetNodeEcc.html)\n",
    "    - UN\n",
    "        - [x] degree centrality(https://snap.stanford.edu/snappy/doc/reference/GetDegreeCentr.html)\n",
    "        - [x] eigenvector centrality(https://snap.stanford.edu/snappy/doc/reference/GetEigenVectorCentr.html)\n",
    "        - [x] betweenness centrality(https://snap.stanford.edu/snappy/doc/reference/GetBetweennessCentr.html)\n",
    "        - [x] closeness centrality(https://snap.stanford.edu/snappy/doc/reference/GetClosenessCentr.html)\n",
    "        - [x] Farness centrality(https://snap.stanford.edu/snappy/doc/reference/GetFarnessCentr.html)\n",
    "        - [x] page rank(https://snap.stanford.edu/snappy/doc/reference/GetPageRank.html)\n",
    "        - [x] Hits score(https://snap.stanford.edu/snappy/doc/reference/GetHits.html)\n",
    "        - [x] node eccentricity(https://snap.stanford.edu/snappy/doc/reference/GetNodeEcc.html)\n",
    "        - [x] articulation pointshttps://snap.stanford.edu/snappy/doc/reference/GetArtPoints.html\n",
    "        - [x] bridge(https://snap.stanford.edu/snappy/doc/reference/GetEdgeBridges.html)"
   ]
  },
  {
   "cell_type": "code",
   "execution_count": 1,
   "metadata": {
    "collapsed": true
   },
   "outputs": [],
   "source": [
    "import snap\n",
    "import geopandas as gp\n",
    "import pandas as pd"
   ]
  },
  {
   "cell_type": "code",
   "execution_count": 63,
   "metadata": {
    "collapsed": false
   },
   "outputs": [],
   "source": [
    "import src.constants;reload(src.constants)\n",
    "import src.geom_helper; reload(src.geom_helper)\n",
    "from src.geom_helper import intxn_from_segs\n",
    "from src.constants import fn_intxn_dc, fn_feature_seg_as_node, fn_segments_dc, index_seg, fn_feature_seg_as_node_dc\n",
    "from src.constants import fn_segments_ph, epsg_ph, latlon_crs, fn_feature_seg_as_node_ph"
   ]
  },
  {
   "cell_type": "code",
   "execution_count": 9,
   "metadata": {
    "collapsed": true
   },
   "outputs": [],
   "source": [
    "import src.ftr_network; reload(src.ftr_network)\n",
    "from src.ftr_network import *"
   ]
  },
  {
   "cell_type": "code",
   "execution_count": 4,
   "metadata": {
    "collapsed": true
   },
   "outputs": [],
   "source": [
    "data_dir = 'data/'"
   ]
  },
  {
   "cell_type": "code",
   "execution_count": 6,
   "metadata": {
    "collapsed": false,
    "scrolled": true
   },
   "outputs": [
    {
     "name": "stdout",
     "output_type": "stream",
     "text": [
      "intersction project {(0.0, 1.0): 117, (1.0, 0.0): 65, (0.0,): 100579, (): 1422, (1.0,): 99293}\n"
     ]
    },
    {
     "data": {
      "text/plain": [
       "(128845, 2)"
      ]
     },
     "execution_count": 6,
     "metadata": {},
     "output_type": "execute_result"
    }
   ],
   "source": [
    "path_segs_ph = data_dir + fn_segments_ph\n",
    "intxn_directed = intxn_from_segs(path_segs_ph, directionality_column='ONEWAY')\n",
    "intxn_directed.shape"
   ]
  },
  {
   "cell_type": "code",
   "execution_count": 64,
   "metadata": {
    "collapsed": true
   },
   "outputs": [],
   "source": [
    "path_segs_ph = data_dir + fn_segments_ph\n",
    "path_segs_dc = data_dir + fn_segments_dc\n",
    "path_ftr_SgAsNd_dc = data_dir + fn_feature_seg_as_node_dc\n",
    "path_ftr_SgAsNd_ph = data_dir + fn_feature_seg_as_node_ph"
   ]
  },
  {
   "cell_type": "code",
   "execution_count": 6,
   "metadata": {
    "collapsed": false
   },
   "outputs": [],
   "source": [
    "def ftr_network_SgAsNd(path_segs, path_ftr_seg_as_node, directionality_column=None, is_dird=False):\n",
    "    from src.constants import index_seg\n",
    "    print 'ftr_network sgasnd'\n",
    "    intxn_matrix = intxn_from_segs(path_segs, directionality_column=directionality_column)\n",
    "    print 'got intxn_matrix'\n",
    "    edges = intxn_matrix.values\n",
    "    nodes = pd.unique(edges.flatten())\n",
    "    features_SgAsNd = ftr_segs_as_nodes(nodes, edges, is_dird)\n",
    "    print 'got ftr sgasnd'\n",
    "    df_ftr = pd.DataFrame.from_dict(features_SgAsNd).T\n",
    "    df_ftr.index.name = index_seg\n",
    "    df_ftr.to_csv(path_ftr_seg_as_node)\n",
    "    "
   ]
  },
  {
   "cell_type": "code",
   "execution_count": null,
   "metadata": {
    "collapsed": true
   },
   "outputs": [],
   "source": [
    "ftr_network_SgAsNd(path_segs_dc, path_ftr_SgAsNd_dc, 'DIRECTIONALITY', True)"
   ]
  },
  {
   "cell_type": "code",
   "execution_count": null,
   "metadata": {
    "collapsed": true
   },
   "outputs": [],
   "source": [
    "ftr_network_SgAsNd(path_segs_ph, path_ftr_SgAsNd_ph, 'ONEWAY', True)"
   ]
  },
  {
   "cell_type": "markdown",
   "metadata": {},
   "source": [
    "\n",
    "def ftr_segs_as_nodes(nodes, edges, is_dird=False):\n",
    "\n",
    "    # TODO: remove arg:is_dird with directionality_column\n",
    "    # TODO: modify the feature name and function name, add SgAsNd\n",
    "    # TODO: reconsider the function name, because processs of building network of SgAsNd and SgAsEg is quite different\n"
   ]
  },
  {
   "cell_type": "code",
   "execution_count": 47,
   "metadata": {
    "collapsed": false,
    "scrolled": false
   },
   "outputs": [
    {
     "name": "stdout",
     "output_type": "stream",
     "text": [
      "intersction project {(0.0, 1.0): 43, (1.0, 0.0): 44, (0.0,): 33141, (): 488, (1.0,): 32690}\n"
     ]
    },
    {
     "data": {
      "text/plain": [
       "(65918, 14)"
      ]
     },
     "execution_count": 47,
     "metadata": {},
     "output_type": "execute_result"
    }
   ],
   "source": [
    "from shapely.ops import linemerge\n",
    "path_segs_dc = data_dir + fn_segments_dc\n",
    "segs_dc = gp.read_file(path_segs_dc)\n",
    "\n",
    "segs_dc.geometry = segs_dc.geometry.apply(lambda x: x if x.type!='MultiLineString' else linemerge(x))\n",
    "\n",
    "intxn_directed_dc = intxn_from_segs(segs_dc, directionality_column='DIRECTIONALITY', debug=True)\n",
    "intxn_directed_dc.shape"
   ]
  },
  {
   "cell_type": "code",
   "execution_count": null,
   "metadata": {
    "collapsed": true
   },
   "outputs": [],
   "source": []
  },
  {
   "cell_type": "code",
   "execution_count": null,
   "metadata": {
    "collapsed": true
   },
   "outputs": [],
   "source": [
    "def ftr_netw_SgAsEg(path_segs, path_ftr_seg_as_edge, directionality_column)"
   ]
  },
  {
   "cell_type": "code",
   "execution_count": null,
   "metadata": {
    "collapsed": true
   },
   "outputs": [],
   "source": []
  },
  {
   "cell_type": "code",
   "execution_count": null,
   "metadata": {
    "collapsed": true
   },
   "outputs": [],
   "source": []
  },
  {
   "cell_type": "code",
   "execution_count": 34,
   "metadata": {
    "collapsed": false
   },
   "outputs": [],
   "source": [
    "intxn_dcff = pd.read_csv(path_intxn_dc)"
   ]
  },
  {
   "cell_type": "code",
   "execution_count": 38,
   "metadata": {
    "collapsed": false
   },
   "outputs": [
    {
     "data": {
      "text/html": [
       "<div>\n",
       "<table border=\"1\" class=\"dataframe\">\n",
       "  <thead>\n",
       "    <tr style=\"text-align: right;\">\n",
       "      <th></th>\n",
       "      <th>﻿X</th>\n",
       "      <th>Y</th>\n",
       "      <th>OBJECTID</th>\n",
       "      <th>MARID</th>\n",
       "      <th>INTERSECTIONID</th>\n",
       "      <th>STREET1ID</th>\n",
       "      <th>STREET2ID</th>\n",
       "      <th>ST1NAME</th>\n",
       "      <th>ST1TYPE</th>\n",
       "      <th>ST1QUAD</th>\n",
       "      <th>...</th>\n",
       "      <th>REFX</th>\n",
       "      <th>REFY</th>\n",
       "      <th>NATIONALGRID</th>\n",
       "      <th>STREET1SEGID</th>\n",
       "      <th>STREET2SEGID</th>\n",
       "      <th>NODEID</th>\n",
       "      <th>INTERSECTION_TYPE</th>\n",
       "      <th>SOURCE</th>\n",
       "      <th>LATITUDE</th>\n",
       "      <th>LONGITUDE</th>\n",
       "    </tr>\n",
       "  </thead>\n",
       "  <tbody>\n",
       "  </tbody>\n",
       "</table>\n",
       "<p>0 rows × 26 columns</p>\n",
       "</div>"
      ],
      "text/plain": [
       "Empty DataFrame\n",
       "Columns: [﻿X, Y, OBJECTID, MARID, INTERSECTIONID, STREET1ID, STREET2ID, ST1NAME, ST1TYPE, ST1QUAD, FULLSTREET1DISPLAY, ST2NAME, ST2TYPE, ST2QUAD, FULLSTREET2DISPLAY, FULLINTERSECTION, REFX, REFY, NATIONALGRID, STREET1SEGID, STREET2SEGID, NODEID, INTERSECTION_TYPE, SOURCE, LATITUDE, LONGITUDE]\n",
       "Index: []\n",
       "\n",
       "[0 rows x 26 columns]"
      ]
     },
     "execution_count": 38,
     "metadata": {},
     "output_type": "execute_result"
    }
   ],
   "source": [
    "intxn_dcff[intxn_dcff.STREET2SEGID==8573]"
   ]
  },
  {
   "cell_type": "code",
   "execution_count": 32,
   "metadata": {
    "collapsed": true
   },
   "outputs": [],
   "source": [
    "path_intxn_dc = data_dir+fn_intxn_dc\n",
    "path_segs_dc = data_dir + fn_segments_dc\n",
    "path_ftr_seg_as_node_dc = data_dir + fn_feature_seg_as_node"
   ]
  },
  {
   "cell_type": "code",
   "execution_count": 5,
   "metadata": {
    "collapsed": false
   },
   "outputs": [
    {
     "name": "stdout",
     "output_type": "stream",
     "text": [
      "node size = 13443, directed edges = 18006, undirected edges = 14147\n"
     ]
    }
   ],
   "source": [
    "df_dc_seg_as_node = ftr_for_dc(path_intxn_dc, path_segs_dc, path_ftr_seg_as_node_dc)"
   ]
  }
 ],
 "metadata": {
  "kernelspec": {
   "display_name": "Python 2",
   "language": "python",
   "name": "python2"
  },
  "language_info": {
   "codemirror_mode": {
    "name": "ipython",
    "version": 2
   },
   "file_extension": ".py",
   "mimetype": "text/x-python",
   "name": "python",
   "nbconvert_exporter": "python",
   "pygments_lexer": "ipython2",
   "version": "2.7.11"
  }
 },
 "nbformat": 4,
 "nbformat_minor": 2
}
