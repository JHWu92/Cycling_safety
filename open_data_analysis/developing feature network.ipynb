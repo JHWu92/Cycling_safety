{
 "cells": [
  {
   "cell_type": "markdown",
   "metadata": {},
   "source": [
    "\n",
    "1. feature for segs as node:\n",
    "    - N\n",
    "        - [x] in/out degree\n",
    "        - [x] betweenness centrality(https://snap.stanford.edu/snappy/doc/reference/GetBetweennessCentr.html)\n",
    "        - [x] closeness centrality(https://snap.stanford.edu/snappy/doc/reference/GetClosenessCentr.html)\n",
    "        - [x] Farness centrality(https://snap.stanford.edu/snappy/doc/reference/GetFarnessCentr.html)\n",
    "        - [x] page rank(https://snap.stanford.edu/snappy/doc/reference/GetPageRank.html)\n",
    "        - [x] Hits score(https://snap.stanford.edu/snappy/doc/reference/GetHits.html)\n",
    "        - [x] node eccentricity(https://snap.stanford.edu/snappy/doc/reference/GetNodeEcc.html)\n",
    "    - UN\n",
    "        - [x] degree centrality(https://snap.stanford.edu/snappy/doc/reference/GetDegreeCentr.html)\n",
    "        - [x] eigenvector centrality(https://snap.stanford.edu/snappy/doc/reference/GetEigenVectorCentr.html)\n",
    "        - [x] betweenness centrality(https://snap.stanford.edu/snappy/doc/reference/GetBetweennessCentr.html)\n",
    "        - [x] closeness centrality(https://snap.stanford.edu/snappy/doc/reference/GetClosenessCentr.html)\n",
    "        - [x] Farness centrality(https://snap.stanford.edu/snappy/doc/reference/GetFarnessCentr.html)\n",
    "        - [x] page rank(https://snap.stanford.edu/snappy/doc/reference/GetPageRank.html)\n",
    "        - [x] Hits score(https://snap.stanford.edu/snappy/doc/reference/GetHits.html)\n",
    "        - [x] node eccentricity(https://snap.stanford.edu/snappy/doc/reference/GetNodeEcc.html)\n",
    "        - [x] articulation pointshttps://snap.stanford.edu/snappy/doc/reference/GetArtPoints.html\n",
    "        - [x] bridge(https://snap.stanford.edu/snappy/doc/reference/GetEdgeBridges.html)"
   ]
  },
  {
   "cell_type": "code",
   "execution_count": 44,
   "metadata": {
    "collapsed": true
   },
   "outputs": [],
   "source": [
    "import snap\n",
    "\n",
    "import geopandas as gp\n",
    "import pandas as pd\n",
    "data_dir = 'data/'"
   ]
  },
  {
   "cell_type": "code",
   "execution_count": 295,
   "metadata": {
    "collapsed": true
   },
   "outputs": [],
   "source": [
    "import src.ftr_network; reload(src.ftr_network)\n",
    "from src.ftr_network import *"
   ]
  },
  {
   "cell_type": "code",
   "execution_count": 289,
   "metadata": {
    "collapsed": true
   },
   "outputs": [],
   "source": [
    "import src.constants;reload(src.constants)\n",
    "from src.constants import fn_intxn_dc, fn_feature_seg_as_node, fn_segments_dc, index_seg"
   ]
  },
  {
   "cell_type": "code",
   "execution_count": 278,
   "metadata": {
    "collapsed": true
   },
   "outputs": [],
   "source": [
    "path_intxn_dc = data_dir+fn_intxn_dc\n",
    "path_segs_dc = data_dir + fn_segments_dc\n",
    "path_ftr_seg_as_node_dc = data_dir + fn_feature_seg_as_node\n"
   ]
  },
  {
   "cell_type": "code",
   "execution_count": 296,
   "metadata": {
    "collapsed": true
   },
   "outputs": [],
   "source": []
  },
  {
   "cell_type": "code",
   "execution_count": 298,
   "metadata": {
    "collapsed": false
   },
   "outputs": [
    {
     "name": "stdout",
     "output_type": "stream",
     "text": [
      "node size = 13443, directed edges = 18006, undirected edges = 14147\n"
     ]
    }
   ],
   "source": [
    "df_dc_seg_as_node = ftr_for_dc(path_intxn_dc, path_segs_dc, path_ftr_seg_as_node_dc)"
   ]
  },
  {
   "cell_type": "markdown",
   "metadata": {},
   "source": [
    "# Notes about SNAP\n",
    "1. snap.GetBetweennessCentr(PNGraph, Nodes, Edges, InDist=False) equals to snap.GetBetweennessCentr(PUNGraph, Nodes, Edges)\n",
    "2. snap.GetDegreeCentr(UG, nid) == float(n.GetDeg())/(size-1)\n",
    "3. http://snap.stanford.edu/class/cs224w-2013/recitation/snappy/Snappy-tutorial-2013.pdf"
   ]
  }
 ],
 "metadata": {
  "kernelspec": {
   "display_name": "Python 2",
   "language": "python",
   "name": "python2"
  },
  "language_info": {
   "codemirror_mode": {
    "name": "ipython",
    "version": 2
   },
   "file_extension": ".py",
   "mimetype": "text/x-python",
   "name": "python",
   "nbconvert_exporter": "python",
   "pygments_lexer": "ipython2",
   "version": "2.7.11"
  }
 },
 "nbformat": 4,
 "nbformat_minor": 2
}
