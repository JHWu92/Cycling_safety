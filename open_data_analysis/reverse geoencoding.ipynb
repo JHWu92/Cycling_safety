{
 "cells": [
  {
   "cell_type": "code",
   "execution_count": 1,
   "metadata": {
    "collapsed": true
   },
   "outputs": [],
   "source": [
    "import geopandas as gp"
   ]
  },
  {
   "cell_type": "code",
   "execution_count": 2,
   "metadata": {
    "collapsed": true
   },
   "outputs": [],
   "source": [
    "segs = gp.read_file('data/segments_dc.geojson')"
   ]
  },
  {
   "cell_type": "code",
   "execution_count": 3,
   "metadata": {
    "collapsed": true
   },
   "outputs": [],
   "source": [
    "midpoints = segs.geometry.apply(lambda x: x.interpolate(0.5, normalized=True))"
   ]
  },
  {
   "cell_type": "code",
   "execution_count": 4,
   "metadata": {
    "collapsed": true
   },
   "outputs": [],
   "source": [
    "def req_url(pt):\n",
    "    lon,lat = pt.coords[0]\n",
    "    return 'https://nominatim.openstreetmap.org/reverse?format=jsonv2&lat=%f&lon=%f&email=jefwuu@gmail.com' % (lat, lon)"
   ]
  },
  {
   "cell_type": "code",
   "execution_count": 5,
   "metadata": {
    "collapsed": true
   },
   "outputs": [],
   "source": [
    "urls = midpoints.apply(req_url)"
   ]
  },
  {
   "cell_type": "code",
   "execution_count": 10,
   "metadata": {
    "collapsed": true
   },
   "outputs": [],
   "source": [
    "import time, urllib.request, json"
   ]
  },
  {
   "cell_type": "code",
   "execution_count": 12,
   "metadata": {},
   "outputs": [
    {
     "data": {
      "text/plain": [
       "(13522,)"
      ]
     },
     "execution_count": 12,
     "metadata": {},
     "output_type": "execute_result"
    }
   ],
   "source": [
    "urls.shape"
   ]
  },
  {
   "cell_type": "code",
   "execution_count": 28,
   "metadata": {},
   "outputs": [
    {
     "name": "stdout",
     "output_type": "stream",
     "text": [
      "processed 599 segments\n",
      "processed 1199 segments\n",
      "processed 1799 segments\n",
      "processed 2399 segments\n",
      "processed 2999 segments\n",
      "processed 3599 segments\n",
      "processed 4199 segments\n",
      "processed 4799 segments\n",
      "processed 5399 segments\n",
      "processed 5999 segments\n",
      "processed 6599 segments\n",
      "processed 7199 segments\n",
      "processed 7799 segments\n",
      "processed 8399 segments\n",
      "processed 8999 segments\n",
      "processed 9599 segments\n",
      "processed 10199 segments\n",
      "processed 10799 segments\n",
      "processed 11399 segments\n",
      "processed 11999 segments\n",
      "processed 12599 segments\n",
      "processed 13199 segments\n"
     ]
    }
   ],
   "source": [
    "data = []\n",
    "for i, url in enumerate(urls):\n",
    "    js = json.load(urllib.request.urlopen(url))\n",
    "    data.append(js)\n",
    "    time.sleep(1)\n",
    "    \n",
    "    if (i+1) % 600 ==0:\n",
    "        with open('data/reversed_geocoding_midpoint_dc.json', 'w') as outfile:\n",
    "            json.dump(data, outfile)\n",
    "        print('processed %d segments' % i)\n",
    "\n",
    "with open('data/reversed_geocoding_midpoint_dc.json', 'w') as outfile:\n",
    "    json.dump(data,outfile)\n"
   ]
  },
  {
   "cell_type": "code",
   "execution_count": 29,
   "metadata": {
    "collapsed": true
   },
   "outputs": [],
   "source": [
    "loaded_data = json.load(open('data/reversed_geocoding_midpoint_dc.json'))"
   ]
  },
  {
   "cell_type": "code",
   "execution_count": 31,
   "metadata": {},
   "outputs": [
    {
     "data": {
      "text/plain": [
       "{'address': {'city': 'Washington',\n",
       "  'country': 'United States of America',\n",
       "  'country_code': 'us',\n",
       "  'house_number': '6025',\n",
       "  'postcode': '20012',\n",
       "  'road': '16th Street Northwest',\n",
       "  'state': 'District of Columbia',\n",
       "  'suburb': 'Brightwood'},\n",
       " 'addresstype': 'building',\n",
       " 'boundingbox': ['38.9633075', '38.9634428', '-77.0361045', '-77.0359603'],\n",
       " 'category': 'building',\n",
       " 'display_name': '6025, 16th Street Northwest, Brightwood, Washington, District of Columbia, 20012, United States of America',\n",
       " 'importance': '0',\n",
       " 'lat': '38.96336225',\n",
       " 'licence': 'Data © OpenStreetMap contributors, ODbL 1.0. https://osm.org/copyright',\n",
       " 'lon': '-77.0360497479467',\n",
       " 'name': None,\n",
       " 'osm_id': '71454918',\n",
       " 'osm_type': 'way',\n",
       " 'place_id': '86515060',\n",
       " 'place_rank': '30',\n",
       " 'type': 'yes'}"
      ]
     },
     "execution_count": 31,
     "metadata": {},
     "output_type": "execute_result"
    }
   ],
   "source": [
    "data[900]"
   ]
  }
 ],
 "metadata": {
  "kernelspec": {
   "display_name": "Python 3",
   "language": "python",
   "name": "python3"
  },
  "language_info": {
   "codemirror_mode": {
    "name": "ipython",
    "version": 3
   },
   "file_extension": ".py",
   "mimetype": "text/x-python",
   "name": "python",
   "nbconvert_exporter": "python",
   "pygments_lexer": "ipython3",
   "version": "3.6.1"
  }
 },
 "nbformat": 4,
 "nbformat_minor": 2
}
