{
 "cells": [
  {
   "cell_type": "code",
   "execution_count": 1,
   "metadata": {
    "collapsed": true
   },
   "outputs": [],
   "source": [
    "import pandas as pd\n",
    "import geopandas as gpd"
   ]
  },
  {
   "cell_type": "code",
   "execution_count": 2,
   "metadata": {
    "collapsed": true
   },
   "outputs": [],
   "source": [
    "from src.leaflet_creation import create_map_visualization, get_color_for_df"
   ]
  },
  {
   "cell_type": "code",
   "execution_count": 3,
   "metadata": {
    "collapsed": true
   },
   "outputs": [],
   "source": [
    "true_pred = pd.read_csv('poster used true and pred.csv',index_col=0)"
   ]
  },
  {
   "cell_type": "code",
   "execution_count": 4,
   "metadata": {
    "collapsed": true
   },
   "outputs": [],
   "source": [
    "seg = gpd.read_file('data/segments_dc.geojson')"
   ]
  },
  {
   "cell_type": "code",
   "execution_count": 5,
   "metadata": {
    "collapsed": true
   },
   "outputs": [],
   "source": [
    "%matplotlib inline"
   ]
  },
  {
   "cell_type": "code",
   "execution_count": 6,
   "metadata": {
    "collapsed": true
   },
   "outputs": [],
   "source": [
    "simplified = seg[['geometry']].merge(true_pred, left_index=True, right_index=True, how='right')"
   ]
  },
  {
   "cell_type": "code",
   "execution_count": 12,
   "metadata": {},
   "outputs": [],
   "source": [
    "simplified['diff'] = simplified.apply(lambda x: abs(x.csl-x.pred), axis=1)"
   ]
  },
  {
   "cell_type": "code",
   "execution_count": 14,
   "metadata": {
    "collapsed": true
   },
   "outputs": [],
   "source": [
    "true = simplified[['geometry', 'csl']].reset_index()\n",
    "pred = simplified[['geometry', 'pred']].reset_index()\n",
    "diff = simplified[['geometry', 'diff']].reset_index()"
   ]
  },
  {
   "cell_type": "code",
   "execution_count": 23,
   "metadata": {},
   "outputs": [
    {
     "data": {
      "text/plain": [
       "0.0    274\n",
       "1.0    150\n",
       "2.0     16\n",
       "3.0      2\n",
       "Name: diff, dtype: int64"
      ]
     },
     "execution_count": 23,
     "metadata": {},
     "output_type": "execute_result"
    }
   ],
   "source": [
    "diff['diff'].value_counts()"
   ]
  },
  {
   "cell_type": "code",
   "execution_count": 15,
   "metadata": {
    "collapsed": true
   },
   "outputs": [],
   "source": [
    "def getColor(d):\n",
    "    if d > 4: return '#1a9641'  # green (4, ]\n",
    "    if d > 3: return '#a6d96a'  # light green (3, 4]\n",
    "    if d > 2: return '#ffffbf'  # yellow: (2, 3]\n",
    "    if d > 1: return '#fdae61'  # orange: (1, 2]\n",
    "    return '#d7191c'            # red: (, 1]\n"
   ]
  },
  {
   "cell_type": "code",
   "execution_count": 24,
   "metadata": {},
   "outputs": [],
   "source": [
    "true['color'] = true.csl.apply(getColor)\n",
    "pred['color'] = pred.pred.apply(getColor)\n",
    "diff['color'] = diff['diff'].apply(lambda x: getColor(5-x))"
   ]
  },
  {
   "cell_type": "code",
   "execution_count": 25,
   "metadata": {},
   "outputs": [],
   "source": [
    "html_title = 'poster map'\n",
    "file_path = ''\n",
    "file_name = 'poster map'\n",
    "lon, lat = -77.0908494, 38.9045525  #D.C.\n",
    "zoom = 12\n",
    "init_layers = ['streets', 'stsg']\n",
    "map_layers = ['light','streets', 'satellite']\n",
    "binding_data=[['true_map','actual map'],['pred_map','predicted map'],['diff_map', 'true-pred diff']]\n",
    "# gpdf1['color'] = '#aa0'\n",
    "# gpdf2['color'] = '#0a0'\n",
    "gpdfs = [true, pred, diff]\n",
    "create_map_visualization(html_title, file_path, file_name, lat, lon, zoom, init_layers, map_layers, binding_data, gpdfs, width=1000)"
   ]
  },
  {
   "cell_type": "code",
   "execution_count": null,
   "metadata": {
    "collapsed": true
   },
   "outputs": [],
   "source": []
  },
  {
   "cell_type": "code",
   "execution_count": null,
   "metadata": {
    "collapsed": true
   },
   "outputs": [],
   "source": []
  },
  {
   "cell_type": "code",
   "execution_count": null,
   "metadata": {
    "collapsed": true
   },
   "outputs": [],
   "source": []
  }
 ],
 "metadata": {
  "kernelspec": {
   "display_name": "Python 3",
   "language": "python",
   "name": "python3"
  },
  "language_info": {
   "codemirror_mode": {
    "name": "ipython",
    "version": 3
   },
   "file_extension": ".py",
   "mimetype": "text/x-python",
   "name": "python",
   "nbconvert_exporter": "python",
   "pygments_lexer": "ipython3",
   "version": "3.6.1"
  }
 },
 "nbformat": 4,
 "nbformat_minor": 2
}
