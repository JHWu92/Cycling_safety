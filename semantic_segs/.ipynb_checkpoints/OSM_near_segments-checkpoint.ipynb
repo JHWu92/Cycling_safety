{
 "cells": [
  {
   "cell_type": "code",
   "execution_count": 1,
   "metadata": {
    "collapsed": false
   },
   "outputs": [
    {
     "name": "stdout",
     "output_type": "stream",
     "text": [
      "begin reading osm 2016-11-10 21:36:13.617000\n",
      "finish reading osm 2016-11-10 21:37:27.512000\n",
      "[\"len of <class 'osmread.elements.Relation'> = 3427\", \"len of <class 'osmread.elements.Node'> = 2546260\", \"len of <class 'osmread.elements.Way'> = 306332\"]\n",
      "Node 1652906\n",
      "Relation 2556\n",
      "Way 194767\n"
     ]
    },
    {
     "data": {
      "text/plain": [
       "(194767, 1652906, 2556)"
      ]
     },
     "execution_count": 1,
     "metadata": {},
     "output_type": "execute_result"
    }
   ],
   "source": [
    "import sys, os\n",
    "sys.path.insert(0, os.path.abspath('../'))\n",
    "from utils.osm_helper import *\n",
    "import geopandas as gp\n",
    "from osmread import Node, Way, Relation\n",
    "import datetime\n",
    "import pandas as pd\n",
    "OSM_DC_BBOX_PATH = '../data/dc_bbox.osm'\n",
    "OSM_DC_BBOX = osm_container(OSM_DC_BBOX_PATH)\n",
    "print OSM_DC_BBOX.data_size()\n",
    "DC_OSM_IDS_PATH ='../data/dc_osm_ids_within_polygon.txt'\n",
    "DC_OSM_IDS={}\n",
    "with open(DC_OSM_IDS_PATH) as f:\n",
    "    DC_OSM_IDS = eval(f.readlines()[0])\n",
    "for key, value in DC_OSM_IDS.items():\n",
    "    print key, len(value)\n",
    "    \n",
    "    \n",
    "def dc_obj(osm_objs, osm_ids, osmtype, osmtype_str):\n",
    "    return [obj for obj in osm_objs.osm_objs[osmtype] if obj.id in osm_ids[osmtype_str]]\n",
    "\n",
    "DC_NODES = dc_obj(OSM_DC_BBOX, DC_OSM_IDS,Node, 'Node')\n",
    "DC_WAYS = dc_obj(OSM_DC_BBOX, DC_OSM_IDS, Way, 'Way')\n",
    "DC_RLTNS = dc_obj(OSM_DC_BBOX, DC_OSM_IDS, Relation, 'Relation')\n",
    "len(DC_WAYS), len(DC_NODES), len(DC_RLTNS)"
   ]
  },
  {
   "cell_type": "code",
   "execution_count": 3,
   "metadata": {
    "collapsed": false
   },
   "outputs": [
    {
     "data": {
      "text/plain": [
       "(37912, 190931, 2552)"
      ]
     },
     "execution_count": 3,
     "metadata": {},
     "output_type": "execute_result"
    }
   ],
   "source": [
    "DC_NODES_WITH_TAG = filter_osm_data(DC_NODES)\n",
    "DC_WAYS_WITH_TAG = filter_osm_data(DC_WAYS)\n",
    "DC_RLTNS_WITH_TAG = filter_osm_data(DC_RLTNS)\n",
    "len(DC_NODES_WITH_TAG), len(DC_WAYS_WITH_TAG), len(DC_RLTNS_WITH_TAG)\n"
   ]
  },
  {
   "cell_type": "code",
   "execution_count": 6,
   "metadata": {
    "collapsed": true
   },
   "outputs": [],
   "source": [
    "import shapely.geometry as shpgeo\n",
    "\n",
    "def lon_lats_closed(lon_lats):\n",
    "    return lon_lats[0]==lon_lats[-1]\n",
    "\n",
    "def way2lineOrpoly(osm_data, way):\n",
    "    nodes = [osm_data.get_osm_node_by_id(nid) for nid in way.nodes]\n",
    "    lon_lats = [(node.lon, node.lat) for node in nodes]\n",
    "    return shpgeo.Polygon(lon_lats).buffer(0) if lon_lats_closed(lon_lats) and len(lon_lats)>3 else shpgeo.LineString(lon_lats)\n",
    "\n",
    "def flatten_rltn_shpcltn(shpcltn):\n",
    "    flat_shpcltn = []\n",
    "    for shpobjs in shpcltn.values():\n",
    "        flat_shpcltn.extend(shpobjs)\n",
    "    return flat_shpcltn\n",
    "\n",
    "def build_gpdf_list_from_osm(osm_data, nodes, ways, rltns):\n",
    "    columns = ['id','type','geometry']\n",
    "    shpobjs_from_nodes = [(node.id,'Node', node2pt(node)) for node in nodes]\n",
    "    shpobjs_from_ways =  [(way.id,'Way', way2lineOrpoly(osm_data, way)) for way in ways]\n",
    "    shpobjs_from_rltns = [(rltn.id, 'Relation', shpobj) for rltn in rltns for shpobj in flatten_rltn_shpcltn(rltn2cltn(osm_data,rltn))]\n",
    "    print len(shpobjs_from_nodes),len(shpobjs_from_ways),len(shpobjs_from_rltns)\n",
    "    shpobjs = []\n",
    "    shpobjs.extend(shpobjs_from_nodes)\n",
    "    shpobjs.extend(shpobjs_from_ways)\n",
    "    shpobjs.extend(shpobjs_from_rltns)\n",
    "    gpdf = gp.GeoDataFrame(shpobjs, columns=columns)\n",
    "    return gpdf"
   ]
  },
  {
   "cell_type": "code",
   "execution_count": 7,
   "metadata": {
    "collapsed": false
   },
   "outputs": [
    {
     "name": "stdout",
     "output_type": "stream",
     "text": [
      "37912 190931 7356\n"
     ]
    }
   ],
   "source": [
    "gpdf = build_gpdf_list_from_osm(OSM_DC_BBOX, DC_NODES_WITH_TAG,DC_WAYS_WITH_TAG, DC_RLTNS_WITH_TAG)"
   ]
  },
  {
   "cell_type": "code",
   "execution_count": 8,
   "metadata": {
    "collapsed": true
   },
   "outputs": [],
   "source": [
    "\n",
    "opendc_segments_path = '../data/opendc_segments.geojson'\n",
    "SEGMENTS = gp.read_file(opendc_segments_path)"
   ]
  },
  {
   "cell_type": "code",
   "execution_count": 14,
   "metadata": {
    "collapsed": true
   },
   "outputs": [],
   "source": [
    "def crs_prepossess(gpdf, init_crs, bfr_crs):\n",
    "    gpdf_crs = gpdf.copy()\n",
    "    if gpdf_crs.crs==None:\n",
    "        gpdf_crs.crs = {'init': u'epsg:{}'.format(init_crs)}\n",
    "    return gpdf_crs.to_crs(epsg=bfr_crs)\n",
    "\n",
    "def bfr_20m(seg):\n",
    "    return seg.geometry.buffer(20)\n",
    "\n",
    "def get_objs_nearby(segments, objs, bfr_func, init_crs, bfr_crs):\n",
    "    seg_crs = crs_prepossess(segments, init_crs, bfr_crs)\n",
    "    obj_crs = crs_prepossess(objs, init_crs, bfr_crs)\n",
    "    seg_crs.geometry = seg_crs.apply(bfr_20m,axis=1)\n",
    "\n",
    "    sjoin = gp.tools.sjoin(seg_crs, obj_crs, how='left',op='intersects')\n",
    "    obj_ids_nearby = set(sjoin[~sjoin.index_right.isnull()].index_right)\n",
    "    objs_nearby = objs[objs.index.isin(obj_ids_nearby)]\n",
    "    return objs_nearby\n"
   ]
  },
  {
   "cell_type": "code",
   "execution_count": 15,
   "metadata": {
    "collapsed": false
   },
   "outputs": [],
   "source": [
    "\n",
    "OSM_near_DCSEG = get_objs_nearby(SEGMENTS, gpdf, bfr_20m, 4326, 3559)"
   ]
  },
  {
   "cell_type": "code",
   "execution_count": 19,
   "metadata": {
    "collapsed": false
   },
   "outputs": [
    {
     "data": {
      "text/plain": [
       "Way         140629\n",
       "Node         19386\n",
       "Relation      3920\n",
       "dtype: int64"
      ]
     },
     "execution_count": 19,
     "metadata": {},
     "output_type": "execute_result"
    }
   ],
   "source": [
    "OSM_near_DCSEG['type'].value_counts()"
   ]
  },
  {
   "cell_type": "code",
   "execution_count": 20,
   "metadata": {
    "collapsed": false
   },
   "outputs": [
    {
     "name": "stdout",
     "output_type": "stream",
     "text": [
      "19386 19386\n",
      "3920 2203\n",
      "140629 140629\n"
     ]
    }
   ],
   "source": [
    "osm_ids = {}\n",
    "for osmtype, grp in OSM_near_DCSEG.groupby('type'):\n",
    "    ids = grp['id']\n",
    "    unique_ids = set(ids)\n",
    "    print len(ids), len(unique_ids)\n",
    "    osm_ids[osmtype]=unique_ids\n"
   ]
  },
  {
   "cell_type": "code",
   "execution_count": 21,
   "metadata": {
    "collapsed": true
   },
   "outputs": [],
   "source": [
    "OSM_IDS_NEAR_OPENDC_SEGS_PATH = '../data/osm_ids_have_tag_near_opendc_segs.txt'\n",
    "with open(OSM_IDS_NEAR_OPENDC_SEGS_PATH, 'w') as f:\n",
    "    f.write(str(osm_ids))"
   ]
  }
 ],
 "metadata": {
  "kernelspec": {
   "display_name": "Python 2",
   "language": "python",
   "name": "python2"
  },
  "language_info": {
   "codemirror_mode": {
    "name": "ipython",
    "version": 2
   },
   "file_extension": ".py",
   "mimetype": "text/x-python",
   "name": "python",
   "nbconvert_exporter": "python",
   "pygments_lexer": "ipython2",
   "version": "2.7.11"
  }
 },
 "nbformat": 4,
 "nbformat_minor": 0
}
