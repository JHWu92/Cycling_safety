{
 "cells": [
  {
   "cell_type": "code",
   "execution_count": 5,
   "metadata": {
    "collapsed": true
   },
   "outputs": [],
   "source": [
    "from collections import defaultdict\n"
   ]
  },
  {
   "cell_type": "code",
   "execution_count": 1,
   "metadata": {
    "collapsed": false
   },
   "outputs": [
    {
     "name": "stdout",
     "output_type": "stream",
     "text": [
      "begin reading osm 2016-11-18 21:03:43.665000\n",
      "finish reading osm 2016-11-18 21:04:56.396000\n",
      "[\"len of <class 'osmread.elements.Way'> = 306332\", \"len of <class 'osmread.elements.Relation'> = 3427\", \"len of <class 'osmread.elements.Node'> = 2546260\"]\n",
      "Node 1652906\n",
      "Relation 2556\n",
      "Way 194767\n"
     ]
    },
    {
     "data": {
      "text/plain": [
       "(194767, 1652906, 2556)"
      ]
     },
     "execution_count": 1,
     "metadata": {},
     "output_type": "execute_result"
    }
   ],
   "source": [
    "import sys, os\n",
    "sys.path.insert(0, os.path.abspath('../'))\n",
    "from utils.osm_helper import *\n",
    "import geopandas as gp\n",
    "from osmread import Node, Way, Relation\n",
    "import datetime\n",
    "import pandas as pd\n",
    "OSM_DC_BBOX_PATH = '../data/osm/osm_dc_bbox.osm'\n",
    "OSM_DC_BBOX = osm_container(OSM_DC_BBOX_PATH)\n",
    "print OSM_DC_BBOX.data_size()\n",
    "DC_OSM_IDS_PATH ='../data/osm/osm_ids_within_dc_polygon.txt'\n",
    "DC_OSM_IDS={}\n",
    "with open(DC_OSM_IDS_PATH) as f:\n",
    "    DC_OSM_IDS = eval(f.readlines()[0])\n",
    "for key, value in DC_OSM_IDS.items():\n",
    "    print key, len(value)\n",
    "    \n",
    "    \n",
    "def dc_obj(osm_objs, osm_ids, osmtype, osmtype_str):\n",
    "    return [obj for obj in osm_objs.osm_objs[osmtype] if obj.id in osm_ids[osmtype_str]]\n",
    "\n",
    "DC_NODES = dc_obj(OSM_DC_BBOX, DC_OSM_IDS,Node, 'Node')\n",
    "DC_WAYS = dc_obj(OSM_DC_BBOX, DC_OSM_IDS, Way, 'Way')\n",
    "DC_RLTNS = dc_obj(OSM_DC_BBOX, DC_OSM_IDS, Relation, 'Relation')\n",
    "len(DC_WAYS), len(DC_NODES), len(DC_RLTNS)"
   ]
  },
  {
   "cell_type": "code",
   "execution_count": 2,
   "metadata": {
    "collapsed": true
   },
   "outputs": [],
   "source": [
    "import sys,os\n",
    "sys.path.insert(0, os.path.abspath('../'))\n",
    "from utils.osm.osmFilter import *\n",
    "from IPython.display import display"
   ]
  },
  {
   "cell_type": "code",
   "execution_count": 60,
   "metadata": {
    "collapsed": false,
    "scrolled": true
   },
   "outputs": [
    {
     "data": {
      "text/plain": [
       "[Way(id=26765041L, version=7, changeset=43113746, timestamp=1477281310, uid=307520, tags={u'building': u'yes', u'website': u'http://africa.si.edu/', u'name': u'National Museum of African Art', u'wikipedia': u'en:National Museum of African Art', u'name:de': u'Nationalmuseum f\\xfcr afrikanische Kunst', u'wikidata': u'Q46812', u'tourism': u'museum'}, nodes=(293567519L, 293567520L, 293567521L, 293567522L, 2594728195L, 293567519L)),\n",
       " Way(id=26765042L, version=5, changeset=43113746, timestamp=1477281310, uid=307520, tags={u'building': u'yes', u'wikidata': u'Q259767', u'wikipedia': u'en:Arthur M. Sackler Gallery', u'tourism': u'museum', u'name': u'Arthur M. Sackler Gallery'}, nodes=(293567525L, 293567526L, 2594728194L, 293567527L, 293567528L, 293567525L)),\n",
       " Way(id=38075678L, version=1, changeset=1934358, timestamp=1248532374, uid=97411, tags={u'building': u'yes', u'name': u'Mary Graydon Center', u'addr:state': u'DC'}, nodes=(447830519L, 447830521L, 447830522L, 447830523L, 447830524L, 447830526L, 447830527L, 447830528L, 447830529L, 447830530L, 447830531L, 447830532L, 447830533L, 447830534L, 447830535L, 447830536L, 447830537L, 447830538L, 447830539L, 447830541L, 447830519L)),\n",
       " Way(id=38075680L, version=2, changeset=14521713, timestamp=1357271579, uid=1184893, tags={u'building': u'yes', u'alt_name': u'SCAN', u'name': u'Sports Center Annex'}, nodes=(447830543L, 447830544L, 447830545L, 447830546L, 447830543L)),\n",
       " Way(id=38075681L, version=2, changeset=36835055, timestamp=1453895333, uid=505306, tags={u'building': u'yes', u'name': u'Butler Pavilion'}, nodes=(388388914L, 388388913L, 388388912L, 447830547L, 447830548L, 447830549L, 447830550L, 3970814825L, 447830551L, 388388914L)),\n",
       " Way(id=38076901L, version=2, changeset=6698499, timestamp=1292695670, uid=12055, tags={u'building': u'yes', u'name': u'Centennial Hall', u'addr:state': u'DC'}, nodes=(447849357L, 447849359L, 447849360L, 447849361L, 447849362L, 447849364L, 447849365L, 447849366L, 447849367L, 447849368L, 447849370L, 447849372L, 611506260L, 447849373L, 611506290L, 447849374L, 447849375L, 447849376L, 447849378L, 447849357L)),\n",
       " Way(id=38076904L, version=2, changeset=1951174, timestamp=1248670967, uid=97411, tags={u'building': u'yes', u'name': u'Letts Hall', u'addr:state': u'DC'}, nodes=(447849403L, 448817668L, 448817667L, 448817666L, 447849386L, 447849387L, 448817665L, 448817664L, 447849405L, 448817663L, 448817662L, 447849406L, 447849407L, 447849409L, 447849410L, 448817660L, 448817661L, 447849411L, 448817689L, 448817688L, 447849398L, 447849400L, 448817677L, 448817676L, 448817675L, 448817674L, 447849412L, 447849414L, 447849415L, 448817672L, 448817673L, 447849416L, 447849418L, 447849419L, 447849420L, 447849421L, 447849423L, 447849425L, 447849426L, 447849427L, 447849403L)),\n",
       " Way(id=38078786L, version=6, changeset=29183128, timestamp=1425235670, uid=475877, tags={u'building': u'yes', u'dcgis:gis_id': u'116947', u'name': u'Battlelle-Tompkins Memorial Building', u'source': u'dcgis', u'addr:state': u'DC', u'dataset': u'buildings', u'dcgis:square': u'1600', u'dcgis:lot': u'0001', u'dcgis:captureyear': u'19990331', u'addr:street': u'Massachusetts Avenue Northwest'}, nodes=(447868517L, 447868518L, 447868519L, 447868520L, 447868521L, 448335388L, 448335390L, 447868506L, 447868507L, 448335404L, 448335406L, 447868508L, 447868509L, 448335392L, 448335393L, 448335395L, 448335397L, 448335398L, 2094299622L, 448335400L, 448335402L, 447868517L)),\n",
       " Way(id=38094597L, version=1, changeset=1940193, timestamp=1248581226, uid=97411, tags={u'building': u'yes', u'name': u'Hughes Hall', u'addr:state': u'DC'}, nodes=(448090127L, 448090128L, 448090129L, 448090130L, 448090131L, 448090132L, 448090133L, 448090134L, 448090135L, 448090136L, 448090137L, 448090138L, 448090139L, 448090140L, 448090127L)),\n",
       " Way(id=38094598L, version=1, changeset=1940193, timestamp=1248581226, uid=97411, tags={u'building': u'yes', u'name': u'McDowell Hall', u'addr:state': u'DC'}, nodes=(448090132L, 448090141L, 448090142L, 448090143L, 448090144L, 448090145L, 448090146L, 448090147L, 448090148L, 448090149L, 448090150L, 448090151L, 448090152L, 448090153L, 448090154L, 448090155L, 448090156L, 448090157L, 448090133L, 448090132L)),\n",
       " Way(id=38094599L, version=3, changeset=29123059, timestamp=1424984873, uid=475877, tags={u'building': u'yes', u'dcgis:gis_id': u'28328', u'name': u'Leonard Hall', u'source': u'dcgis', u'addr:state': u'DC', u'dataset': u'buildings', u'dcgis:square': u'1600', u'dcgis:lot': u'0001', u'dcgis:captureyear': u'19990331', u'addr:street': u'Massachusetts Avenue Northwest'}, nodes=(448090158L, 448090159L, 448090160L, 448090161L, 448090162L, 448090163L, 448090164L, 448090165L, 448090166L, 448090167L, 448090168L, 448090169L, 448090170L, 448090171L, 448090172L, 448090173L, 448090174L, 448090175L, 448090176L, 448090177L, 448090158L)),\n",
       " Way(id=38110443L, version=3, changeset=29301074, timestamp=1425699050, uid=475877, tags={u'building': u'yes', u'dcgis:gis_id': u'116460', u'name': u'Financial Aid', u'source': u'dcgis', u'addr:state': u'DC', u'dataset': u'buildings', u'dcgis:square': u'1600', u'dcgis:lot': u'0001', u'dcgis:captureyear': u'19990331', u'addr:street': u'Rockwood Parkway Northwest'}, nodes=(448355071L, 448355094L, 448355097L, 448355099L, 448355071L)),\n",
       " Way(id=38110446L, version=2, changeset=22057275, timestamp=1398921991, uid=870861, tags={u'building': u'yes', u'name': u'Media Production Center', u'addr:state': u'DC'}, nodes=(448355125L, 2828259414L, 448355128L, 2828259413L, 448355134L, 448355136L, 448355139L, 448355140L, 448355144L, 448355148L, 448355150L, 448355156L, 448355160L, 448355165L, 448355125L)),\n",
       " Way(id=38607090L, version=3, changeset=6698499, timestamp=1292695668, uid=12055, tags={u'building': u'yes', u'dcgis:gis_id': u'127033', u'dataset': u'buildings', u'source': u'dcgis', u'dcgis:captureyear': u'19990331', u'name': u'Trott Administration Building'}, nodes=(457303548L, 457303549L, 457303550L, 457303551L, 457303552L, 457303553L, 457303554L, 457303555L, 457303556L, 457303557L, 457303558L, 457303559L, 457303560L, 457303561L, 457303562L, 457303563L, 457303548L)),\n",
       " Way(id=38607092L, version=2, changeset=2051787, timestamp=1249530672, uid=97411, tags={u'building': u'yes', u'name': u'Library'}, nodes=(457303574L, 457303575L, 457303576L, 457303577L, 457303574L)),\n",
       " Way(id=38771314L, version=7, changeset=33287440, timestamp=1439373853, uid=2005228, tags={u'building': u'yes', u'layer': u'1', u'railway': u'platform'}, nodes=(459797232L, 1131792160L, 1066904378L, 459797235L, 3693036801L, 459797236L, 1066906783L, 1131791685L, 459797237L, 459797232L)),\n",
       " Way(id=40211839L, version=4, changeset=34479657, timestamp=1444167658, uid=633750, tags={u'building': u'yes', u'tourism': u'attraction', u'name': u'Think Tank'}, nodes=(484675447L, 834422421L, 834426528L, 834424307L, 834424214L, 834422005L, 834426408L, 519554287L, 519554341L, 834426335L, 519554665L, 519554389L, 519554818L, 484675456L, 834424727L, 834423212L, 834421601L, 520500541L, 834423536L, 495362355L, 834421808L, 834421724L, 834424376L, 834423460L, 484675463L, 520323013L, 484675465L, 484675466L, 484675467L, 484675447L)),\n",
       " Way(id=40215769L, version=8, changeset=42238432, timestamp=1474164615, uid=80285, tags={u'building': u'yes', u'information': u'office', u'name': u'National Zoo Visitor Center and Offices', u'opening_hours': u'09:00-18:00', u'atm': u'yes', u'tourism': u'information'}, nodes=(484720242L, 2930420055L, 484720257L, 520317747L, 2450855563L, 520317750L, 3545087067L, 484720274L, 484720242L)),\n",
       " Way(id=41976719L, version=1, changeset=2739089, timestamp=1254676201, uid=181492, tags={u'building': u'yes', u'dcgis:description': u'Parking Lot', u'dcgis:featurecode': u'1070', u'dcgis:length': u'27.3899497192', u'dcgis:area': u'29.39781', u'dcgis:gis': u'318079.0', u'dcgis:captureyear': u'1999/03/31'}, nodes=(520316737L, 520316706L, 520316710L, 520316708L, 520316733L, 520316731L, 520316735L, 520316728L, 520316726L, 520316713L, 520316737L)),\n",
       " Way(id=41976777L, version=2, changeset=5323485, timestamp=1280171524, uid=12055, tags={u'building': u'yes', u'dcgis:description': u'Paved Drive', u'dcgis:featurecode': u'1065', u'dcgis:length': u'14138.9060195', u'dcgis:area': u'54199.465116', u'dcgis:gis': u'319783.0', u'dcgis:captureyear': u'1999/03/31'}, nodes=(520320853L, 520320859L, 520320815L, 520320820L, 520320853L))]"
      ]
     },
     "execution_count": 60,
     "metadata": {},
     "output_type": "execute_result"
    }
   ],
   "source": [
    "have_tag1 = [('building','yes')]\n",
    "have_tag2 = [('addr:housenumber','*')]\n",
    "have_tag3 = have_tag1+have_tag2\n",
    "filter_osm_data_to_df(DC_WAYS,[('dcgis:shape_area','*')])['dcgis:shape_area'].value_counts().shape\n",
    "filter_osm_data(DC_WAYS, have_tag1).__len__(), filter_osm_data(DC_WAYS, have_tag2).__len__(), filter_osm_data(DC_WAYS, have_tag3).__len__()\n",
    "filter_osm_data(DC_WAYS, have_tag1, have_tag2)[:20]\n",
    "# filter_osm_data(filter_osm_data(DC_WAYS, have_tag1), have_tag2)[:10]\n",
    "# filter_osm_data(DC_WAYS, [('name','*')]).__len__()"
   ]
  },
  {
   "cell_type": "code",
   "execution_count": 77,
   "metadata": {
    "collapsed": false
   },
   "outputs": [],
   "source": [
    "word_in_name = defaultdict(int)\n",
    "for w in DC_WAYS:\n",
    "    if 'name' in w.tags:\n",
    "        for word in w.tags['name'].split(' '):\n",
    "            word_in_name[word.lower()]+=1\n",
    "# for key, value in word_in_name.items():\n",
    "#     print key, '||', value"
   ]
  },
  {
   "cell_type": "code",
   "execution_count": 61,
   "metadata": {
    "collapsed": false,
    "scrolled": true
   },
   "outputs": [
    {
     "data": {
      "text/plain": [
       "sports    3\n",
       "dtype: int64"
      ]
     },
     "execution_count": 61,
     "metadata": {},
     "output_type": "execute_result"
    }
   ],
   "source": [
    "word_in_name = pd.Series(word_in_name)\n",
    "word_in_name\n",
    "word_in_name[word_in_name.index.isin(['sports'])]"
   ]
  },
  {
   "cell_type": "code",
   "execution_count": 78,
   "metadata": {
    "collapsed": true
   },
   "outputs": [],
   "source": [
    "name2category={\"park\":\"recreation\",\n",
    "\"capitol\":\"professionalservice\",\n",
    "\"church\":\"recreation\",\n",
    "\"metro\":\"transportation\",\n",
    "\"parkway\":\"transportation\",\n",
    "\"terrace\":\"recreation\",\n",
    "\"school\":\"schools&university\",\n",
    "\"memorial\":\"recreation\",\n",
    "\"rock\":\"recreation\",\n",
    "\"embassy\":\"professionalservice\",\n",
    "\"bridge\":\"recreation\",\n",
    "\"island\":\"recreation\",\n",
    "\"university\":\"schools&university\",\n",
    "\"constitution\":\"professionalservice\",\n",
    "\"apartments\":\"residence\",\n",
    "\"biker\":\"recreation\",\n",
    "\"hiker\":\"recreation\",\n",
    "\"parking\":\"transportation\",\n",
    "\"elementary\":\"schools&university\",\n",
    "\"library\":\"professionalservice\",\n",
    "\"military\":\"professionalservice\",\n",
    "\"market\":\"retailshop\",\n",
    "\"recreation\":\"recreation\",\n",
    "\"bank\":\"professionalservice\",\n",
    "\"plaza\":\"retailshop\",\n",
    "\"cathedral\":\"recreation\",\n",
    "\"college\":\"schools&university\",\n",
    "\"tennis\":\"recreation\",\n",
    "\"river\":\"recreation\",\n",
    "\"medical\":\"professionalservice\",\n",
    "\"hospital\":\"professionalservice\",\n",
    "\"arts\":\"recreation\",\n",
    "\"condominiums\":\"residence\",\n",
    "\"gallery\":\"recreation\",\n",
    "\"zoo\":\"recreation\",\n",
    "\"health\":\"professionalservice\",\n",
    "\"company\":\"professionalservice\",\n",
    "\"gas\":\"retailshop\",\n",
    "\"catholic\":\"recreation\",\n",
    "\"campus\":\"schools&university\",\n",
    "\"education\":\"schools&university\",\n",
    "\"bike\":\"cyclingfacilities\",\n",
    "\"pizza\":\"food\",\n",
    "\"law\":\"professionalservice\",\n",
    "\"police\":\"professionalservice\",\n",
    "\"administration\":\"professionalservice\",\n",
    "\"residence\":\"residence\",\n",
    "\"congress\":\"professionalservice\",\n",
    "\"store\":\"retailshop\",\n",
    "\"restaurant\":\"food\",\n",
    "\"towers\":\"recreation\",\n",
    "\"playground\":\"recreation\",\n",
    "\"headquarters\":\"professionalservice\",\n",
    "\"historical\":\"recreation\",\n",
    "\"basin\":\"recreation\",\n",
    "\"art\":\"recreation\",\n",
    "\"mcdonald's\":\"food\",\n",
    "\"hair\":\"retailshop\",\n",
    "\"institute\":\"professionalservice\",\n",
    "\"fountain\":\"recreation\",\n",
    "\"dwellings\":\"residence\",\n",
    "\"salon\":\"retailshop\",\n",
    "\"basketball\":\"recreation\",\n",
    "\"theatre\":\"recreation\",\n",
    "\"hotel\":\"recreation\",\n",
    "\"government\":\"professionalservice\",\n",
    "\"coffee\":\"food\",\n",
    "\"7-eleven\":\"retailshop\",\n",
    "\"laundry\":\"retailshop\",\n",
    "\"banks\":\"professionalservice\",\n",
    "\"army\":\"professionalservice\",\n",
    "\"yard\":\"recreation\",\n",
    "\"recreational\":\"recreation\",\n",
    "\"gym\":\"recreation\",\n",
    "\"cultural\":\"recreation\",\n",
    "\"tower\":\"recreation\",\n",
    "\"motel\":\"recreation\",\n",
    "\"congress,\":\"professionalservice\",\n",
    "\"office\":\"professionalservice\",\n",
    "\n",
    "}"
   ]
  },
  {
   "cell_type": "code",
   "execution_count": 32,
   "metadata": {
    "collapsed": false
   },
   "outputs": [],
   "source": [
    "\n",
    "def get_new_taxonomy ():\n",
    "    result = []\n",
    "    xmind_tree = '../data/osm/taxonomy mapping based on xmind.txt'\n",
    "    with open(xmind_tree) as f:\n",
    "        category, tag, value = '','',''\n",
    "        for line in f:\n",
    "            line_ = line\n",
    "            line = line.split('\\t')\n",
    "            type_ = len(line)\n",
    "            txt = line[-1].strip()\n",
    "            if type_==1:\n",
    "                category = txt\n",
    "            elif type_==2:\n",
    "                tag = txt\n",
    "            elif type_==3:\n",
    "                value = txt\n",
    "                result.append([category, tag, value])\n",
    "    return pd.DataFrame(result,columns=['category', 'tag', 'value'])\n",
    "\n",
    "new_taxonomy = get_new_taxonomy()\n",
    "\n",
    "mapping = pd.Series(new_taxonomy.category.values, index=new_taxonomy.apply(lambda x: '{}={}'.format(x.tag, x.value), axis=1).values).to_dict()"
   ]
  },
  {
   "cell_type": "code",
   "execution_count": 34,
   "metadata": {
    "collapsed": false
   },
   "outputs": [],
   "source": [
    "def taxonomy_distribution(osm_data,mapping):\n",
    "    result = []\n",
    "    for d in osm_data:\n",
    "        mapped = set()\n",
    "        for tag, value in d.tags.items():\n",
    "            tag_value = '{}={}'.format(tag.encode('utf-8'), value.encode('utf-8'))\n",
    "            tag_ = tag+'=*'\n",
    "            if tag_value in mapping:\n",
    "                mapped.add(mapping[tag_value])\n",
    "            elif tag_ in mapping:\n",
    "                mapped.add(mapping[tag_])\n",
    "        result.append(mapped)\n",
    "    return result\n",
    "\n",
    "way_mapped = taxonomy_distribution(DC_WAYS, mapping)\n",
    "node_mapped = taxonomy_distribution(DC_NODES, mapping)\n",
    "rltn_mapped = taxonomy_distribution(DC_RLTNS, mapping)\n",
    "pd.Series([w for w in way_mapped if w]).apply(str).value_counts().sum(),\\\n",
    "pd.Series([w for w in node_mapped if w]).apply(str).value_counts().sum(),\\\n",
    "pd.Series([w for w in rltn_mapped if w]).apply(str).value_counts().sum(),\\"
   ]
  },
  {
   "cell_type": "code",
   "execution_count": 16,
   "metadata": {
    "collapsed": false
   },
   "outputs": [],
   "source": [
    "tags_in_subtree = eval(open('../data/osm/osm_tags_in_subtrees.txt').readlines()[0])"
   ]
  },
  {
   "cell_type": "code",
   "execution_count": 36,
   "metadata": {
    "collapsed": false
   },
   "outputs": [],
   "source": [
    "\n",
    "untransformed_tag_value = defaultdict(int)\n",
    "mapped_subtrees = []\n",
    "for tags in tags_in_subtree:\n",
    "    subtree = set()\n",
    "    for tag, value_list in tags.items():\n",
    "        for value in list(set(value_list)):\n",
    "            tag_value = '{}={}'.format(tag.encode('utf-8'), value.encode('utf-8'))\n",
    "            tag_ = tag+'=*'\n",
    "            if tag_value in mapping:\n",
    "                subtree.add(mapping[tag_value])\n",
    "            elif tag_ in mapping:\n",
    "                subtree.add(mapping[tag_])\n",
    "            else:\n",
    "                untransformed_tag_value[tag_value]+=1\n",
    "    mapped_subtrees.append(subtree)"
   ]
  },
  {
   "cell_type": "code",
   "execution_count": 76,
   "metadata": {
    "collapsed": false
   },
   "outputs": [
    {
     "name": "stdout",
     "output_type": "stream",
     "text": [
      "91225\n",
      "95134\n"
     ]
    }
   ],
   "source": [
    "for cnt, tags in enumerate(tags_in_subtree):\n",
    "    for tag, value_list in tags.items():\n",
    "        if tag=='name' and 'Mary McLeod Bethune Council House' in value_list:\n",
    "            print cnt\n",
    "            break"
   ]
  },
  {
   "cell_type": "code",
   "execution_count": 37,
   "metadata": {
    "collapsed": false
   },
   "outputs": [],
   "source": [
    "new_mapped = [s for s in mapped_subtrees if s]"
   ]
  },
  {
   "cell_type": "code",
   "execution_count": 65,
   "metadata": {
    "collapsed": true
   },
   "outputs": [],
   "source": [
    "un_mapped = [t for cnt, t in enumerate(tags_in_subtree) if not mapped_subtrees[cnt]]"
   ]
  },
  {
   "cell_type": "code",
   "execution_count": 82,
   "metadata": {
    "collapsed": false
   },
   "outputs": [
    {
     "name": "stdout",
     "output_type": "stream",
     "text": [
      "Hospital\n",
      "Hospital\n",
      "Hospital\n",
      "Hospital\n",
      "Hospital\n",
      "Hospital\n"
     ]
    }
   ],
   "source": [
    "mapped_by_word = []\n",
    "for tags in un_mapped:\n",
    "    mapped = set()\n",
    "    if 'name' in tags:\n",
    "        for name in tags['name']:\n",
    "            for word in name.split(' '):\n",
    "                if word.lower()=='hospital':\n",
    "                    print word\n",
    "                c = name2category.get(word.lower(),'')\n",
    "                if c:\n",
    "                    mapped.add(c)\n",
    "    mapped_by_word.append(mapped)"
   ]
  },
  {
   "cell_type": "code",
   "execution_count": 81,
   "metadata": {
    "collapsed": false
   },
   "outputs": [
    {
     "data": {
      "text/plain": [
       "0"
      ]
     },
     "execution_count": 81,
     "metadata": {},
     "output_type": "execute_result"
    }
   ],
   "source": [
    "new_mapped_by_word = [s for s in mapped_by_word if s]\n",
    "len(new_mapped_by_word)"
   ]
  },
  {
   "cell_type": "code",
   "execution_count": 38,
   "metadata": {
    "collapsed": false
   },
   "outputs": [
    {
     "data": {
      "text/plain": [
       "{u'addr:city': [u'Washington'],\n",
       " u'addr:country': [u'US'],\n",
       " u'addr:postcode': [u'20011'],\n",
       " u'addr:state': [u'DC'],\n",
       " u'addr:street': [u'Georgia Avenue Northwest'],\n",
       " u'amenity': [u'fuel'],\n",
       " u'building': [u'roof'],\n",
       " u'name': [u'Valero']}"
      ]
     },
     "execution_count": 38,
     "metadata": {},
     "output_type": "execute_result"
    }
   ],
   "source": [
    "tags_in_subtree[7556]"
   ]
  },
  {
   "cell_type": "code",
   "execution_count": 39,
   "metadata": {
    "collapsed": false
   },
   "outputs": [
    {
     "data": {
      "text/plain": [
       "set(['cycling facilities'])                            5110\n",
       "set(['transportation'])                                4482\n",
       "set(['Recreation'])                                    3371\n",
       "set(['Professional service'])                           479\n",
       "set(['Residence'])                                      369\n",
       "set(['schools&University'])                             201\n",
       "set(['Retail shop'])                                    195\n",
       "set(['Food'])                                           119\n",
       "set(['Professional service', 'cycling facilities'])     114\n",
       "set(['Recreation', 'transportation'])                   106\n",
       "set(['cycling facilities', 'Recreation'])                59\n",
       "set(['Nightlife Spot'])                                  18\n",
       "set(['cycling facilities', 'Retail shop'])               13\n",
       "set(['cycling facilities', 'transportation'])            12\n",
       "set(['Retail shop', 'Food'])                              5\n",
       "set(['Professional service', 'Recreation'])               3\n",
       "set(['Professional service', 'Retail shop'])              2\n",
       "set(['Retail shop', 'Professional service'])              1\n",
       "set(['Food', 'Residence'])                                1\n",
       "set(['Retail shop', 'Recreation'])                        1\n",
       "dtype: int64"
      ]
     },
     "execution_count": 39,
     "metadata": {},
     "output_type": "execute_result"
    }
   ],
   "source": [
    "len_mapped = pd.Series(mapped_subtrees).apply(len)\n",
    "[tags_in_subtree[i] for i in len_mapped[len_mapped>1].index.tolist()]\n",
    "pd.Series(new_mapped).apply(str).value_counts()"
   ]
  },
  {
   "cell_type": "code",
   "execution_count": 98,
   "metadata": {
    "collapsed": false
   },
   "outputs": [],
   "source": [
    "with open('../data/osm/untransformed_tag_value.tsv', 'w') as f:\n",
    "    for tag_value, cnt in untransformed_tag_value.items():\n",
    "        f.write('{}\\t{}\\t{}\\n'.format(tag_value.split('=')[0],tag_value.split('=')[1], cnt))"
   ]
  }
 ],
 "metadata": {
  "kernelspec": {
   "display_name": "Python 2",
   "language": "python",
   "name": "python2"
  },
  "language_info": {
   "codemirror_mode": {
    "name": "ipython",
    "version": 2
   },
   "file_extension": ".py",
   "mimetype": "text/x-python",
   "name": "python",
   "nbconvert_exporter": "python",
   "pygments_lexer": "ipython2",
   "version": "2.7.11"
  }
 },
 "nbformat": 4,
 "nbformat_minor": 0
}
