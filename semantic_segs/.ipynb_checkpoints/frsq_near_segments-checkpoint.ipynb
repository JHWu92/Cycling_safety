{
 "cells": [
  {
   "cell_type": "code",
   "execution_count": 1,
   "metadata": {
    "collapsed": true
   },
   "outputs": [],
   "source": [
    "import geopandas as gp"
   ]
  },
  {
   "cell_type": "code",
   "execution_count": 6,
   "metadata": {
    "collapsed": true
   },
   "outputs": [],
   "source": [
    "frsq_venues_path = '../data/frsq/frsq_extracted_venues.geojson'\n",
    "FRSQ_VENUES = gp.read_file(frsq_venues_path)\n",
    "opendc_segments_path = '../data/opendc_segments.geojson'\n",
    "SEGMENTS = gp.read_file(opendc_segments_path)"
   ]
  },
  {
   "cell_type": "code",
   "execution_count": 39,
   "metadata": {
    "collapsed": false,
    "scrolled": true
   },
   "outputs": [],
   "source": [
    "def crs_prepossess(gpdf, init_crs, bfr_crs):\n",
    "    gpdf_crs = gpdf.copy()\n",
    "    if gpdf_crs.crs==None:\n",
    "        gpdf_crs.crs = {'init': u'epsg:{}'.format(init_crs)}\n",
    "    return gpdf_crs.to_crs(epsg=bfr_crs)\n",
    "\n",
    "def bfr_20m(seg):\n",
    "    return seg.geometry.buffer(20)\n",
    "\n",
    "def get_objs_nearby(segments, objs, bfr_func, init_crs, bfr_crs):\n",
    "    seg_crs = crs_prepossess(segments, init_crs, bfr_crs)\n",
    "    obj_crs = crs_prepossess(objs, init_crs, bfr_crs)\n",
    "    seg_crs.geometry = seg_crs.apply(bfr_20m,axis=1)\n",
    "\n",
    "    sjoin = gp.tools.sjoin(seg_crs, obj_crs, how='left',op='intersects')\n",
    "    obj_ids_nearby = set(sjoin[~sjoin.index_right.isnull()].index_right)\n",
    "    objs_nearby = objs[objs.index.isin(obj_ids_nearby)]\n",
    "    return objs_nearby\n"
   ]
  },
  {
   "cell_type": "code",
   "execution_count": 43,
   "metadata": {
    "collapsed": false
   },
   "outputs": [
    {
     "data": {
      "text/plain": [
       "((34060, 7), (20463, 7))"
      ]
     },
     "execution_count": 43,
     "metadata": {},
     "output_type": "execute_result"
    }
   ],
   "source": [
    "FRSQ_VENUES.shape, FRSQ_near_DCSEG.shape"
   ]
  },
  {
   "cell_type": "code",
   "execution_count": 42,
   "metadata": {
    "collapsed": false
   },
   "outputs": [],
   "source": [
    "def write_geojson_nearby(objs_nearby_gpdf, objs_path, suffix='nearby'):\n",
    "    import os\n",
    "    fn, ext = os.path.splitext(objs_path)\n",
    "    new_path = '{fn}_{sf}{ext}'.format(fn=fn, sf=suffix, ext=ext)\n",
    "    with open(new_path, 'w') as f:\n",
    "        f.write(objs_nearby_gpdf.to_json())\n",
    "write_geojson_nearby(FRSQ_near_DCSEG, frsq_venues_path)"
   ]
  }
 ],
 "metadata": {
  "kernelspec": {
   "display_name": "Python 2",
   "language": "python",
   "name": "python2"
  },
  "language_info": {
   "codemirror_mode": {
    "name": "ipython",
    "version": 2
   },
   "file_extension": ".py",
   "mimetype": "text/x-python",
   "name": "python",
   "nbconvert_exporter": "python",
   "pygments_lexer": "ipython2",
   "version": "2.7.11"
  }
 },
 "nbformat": 4,
 "nbformat_minor": 0
}
