{
 "cells": [
  {
   "cell_type": "code",
   "execution_count": 1,
   "metadata": {
    "collapsed": true
   },
   "outputs": [],
   "source": [
    "import sys, os\n",
    "sys.path.insert(0, os.path.abspath('../'))\n",
    "from utils.osm_helper import node2pt, way2line, rltn2cltn, osm_container\n",
    "import geopandas as gp\n",
    "from osmread import Node, Way, Relation\n",
    "import datetime\n",
    "import pandas as pd"
   ]
  },
  {
   "cell_type": "code",
   "execution_count": 2,
   "metadata": {
    "collapsed": false
   },
   "outputs": [
    {
     "name": "stdout",
     "output_type": "stream",
     "text": [
      "begin reading osm 2016-11-09 22:59:10.244000\n",
      "finish reading osm 2016-11-09 23:00:23.133000\n",
      "[\"len of <class 'osmread.elements.Node'> = 2546260\", \"len of <class 'osmread.elements.Way'> = 306332\", \"len of <class 'osmread.elements.Relation'> = 3427\"]\n"
     ]
    }
   ],
   "source": [
    "OSM_DC_BBOX_PATH = '../data/dc_bbox.osm'\n",
    "OSM_DC_BBOX = osm_container(OSM_DC_BBOX_PATH)\n",
    "print OSM_DC_BBOX.data_size()"
   ]
  },
  {
   "cell_type": "code",
   "execution_count": 169,
   "metadata": {
    "collapsed": false
   },
   "outputs": [
    {
     "name": "stdout",
     "output_type": "stream",
     "text": [
      "Node 1652906\n",
      "Relation 2556\n",
      "Way 194767\n"
     ]
    },
    {
     "data": {
      "text/plain": [
       "(194767, 1652906, 2556)"
      ]
     },
     "execution_count": 169,
     "metadata": {},
     "output_type": "execute_result"
    }
   ],
   "source": [
    "DC_OSM_IDS_PATH ='../data/dc_osm_ids_within_polygon.txt'\n",
    "DC_OSM_IDS={}\n",
    "with open(DC_OSM_IDS_PATH) as f:\n",
    "    DC_OSM_IDS = eval(f.readlines()[0])\n",
    "for key, value in DC_OSM_IDS.items():\n",
    "    print key, len(value)\n",
    "    \n",
    "    \n",
    "def dc_obj(osm_objs, osm_ids, osmtype, osmtype_str):\n",
    "    return [obj for obj in osm_objs.osm_objs[osmtype] if obj.id in osm_ids[osmtype_str]]\n",
    "\n",
    "DC_NODES = dc_obj(OSM_DC_BBOX, DC_OSM_IDS,Node, 'Node')\n",
    "DC_WAYS = dc_obj(OSM_DC_BBOX, DC_OSM_IDS, Way, 'Way')\n",
    "DC_RLTNS = dc_obj(OSM_DC_BBOX, DC_OSM_IDS, Relation, 'Relation')\n",
    "len(DC_WAYS), len(DC_NODES), len(DC_RLTNS)"
   ]
  },
  {
   "cell_type": "code",
   "execution_count": 177,
   "metadata": {
    "collapsed": false
   },
   "outputs": [],
   "source": [
    "# TODO: move to osm helper.py\n",
    "def have_tag_value(obj, tag='*', value='*'):\n",
    "    if not obj.tags: # have no tag, discard it whatever query is\n",
    "        return False\n",
    "    if tag=='*': # True for having any tag\n",
    "        return True\n",
    "    if not tag in obj.tags:\n",
    "        return False\n",
    "    if value=='*':\n",
    "        return True\n",
    "    return obj.tags[tag] in value\n",
    "\n",
    "def filter_obj(obj, have_one=[('*','*')], donthave=[]):\n",
    "    for tag, value in donthave:\n",
    "        if have_tag_value(obj,tag, value):\n",
    "            return False\n",
    "    \n",
    "    for tag, value in have_one:\n",
    "        if have_tag_value(obj, tag,value):\n",
    "            return True\n",
    "    return False\n",
    "\n",
    "def filter_osm_data(osm_objs,have_one=[('*','*')], donthave=[], special_filters=None):\n",
    "    objs = []\n",
    "    if special_filters:\n",
    "        for o in osm_objs:\n",
    "            pass_filter = True\n",
    "            for filt in special_filters:\n",
    "                if not filt(o): \n",
    "                    pass_filter=False\n",
    "                    break\n",
    "            if pass_filter:\n",
    "                objs.append(o)\n",
    "    else:\n",
    "        for o in osm_objs:\n",
    "            if filter_obj(o, have_one, donthave):\n",
    "                objs.append(o)\n",
    "    return objs\n",
    "\n",
    "def filter_osm_data_to_df(osm_objs,have_one=[('*','*')], donthave=[], special_filters=None):\n",
    "    objs = filter_osm_data(osm_objs,have_one, donthave, special_filters=None)\n",
    "    attr =[x[0] for x in have_one]\n",
    "    objs = [[o.id]+[o.tags.get(k,'') for k in attr] for o in objs]\n",
    "    df_objs = pd.DataFrame(objs, columns=['id']+attr)\n",
    "    return df_objs\n",
    "\n"
   ]
  },
  {
   "cell_type": "code",
   "execution_count": 178,
   "metadata": {
    "collapsed": true
   },
   "outputs": [],
   "source": [
    "# specific filter\n",
    "def filter_is_motorway(obj):\n",
    "    tag_highway = [('highway','*')]\n",
    "    tag_bike_walk = [('highway', set(['path','pedestrian','footway','steps','cycleway','crossing']))]\n",
    "    return filter_obj(obj, tag_highway, tag_bike_walk)\n",
    "def filter_isnot_motorway(obj):\n",
    "    return not filter_is_motorway(obj)\n",
    "\n",
    "def filter_is_bike_walk_way(obj):\n",
    "    tag_bike_walk = [('highway', set(['path','pedestrian','footway','steps','cycleway','crossing']))]\n",
    "    return filter_obj(obj, tag_bike_walk)\n",
    "def filter_isnot_bike_walk_way(obj):\n",
    "    return not filter_is_bike_walk_way(obj)\n",
    "\n",
    "def filter_is_admin(obj):\n",
    "    tag_admin_have = [('boundary','*'),('place','*')]\n",
    "    tag_admin_donthave = [('leisure','*'), ('amenity','*'), ('boundary',['national_park','protected_area']),\n",
    "                          ('natural','*'), ('place', ['island', 'islet', 'square', 'farm'])]\n",
    "    return filter_obj(obj, tag_admin_have, tag_admin_donthave)\n",
    "\n",
    "def filter_isnot_admin(obj):\n",
    "    return not filter_is_admin(obj)"
   ]
  },
  {
   "cell_type": "code",
   "execution_count": 186,
   "metadata": {
    "collapsed": false
   },
   "outputs": [
    {
     "data": {
      "text/plain": [
       "(37912, 190931, 2552)"
      ]
     },
     "execution_count": 186,
     "metadata": {},
     "output_type": "execute_result"
    }
   ],
   "source": [
    "DC_NODES_WITH_TAG = filter_osm_data(DC_NODES)\n",
    "DC_WAYS_WITH_TAG = filter_osm_data(DC_WAYS)\n",
    "DC_RLTNS_WITH_TAG = filter_osm_data(DC_RLTNS)\n",
    "len(DC_NODES_WITH_TAG), len(DC_WAYS_WITH_TAG), len(DC_RLTNS_WITH_TAG)"
   ]
  },
  {
   "cell_type": "code",
   "execution_count": 179,
   "metadata": {
    "collapsed": false
   },
   "outputs": [
    {
     "data": {
      "text/plain": [
       "(13457, 5049, 5049)"
      ]
     },
     "execution_count": 179,
     "metadata": {},
     "output_type": "execute_result"
    }
   ],
   "source": [
    "motor_way = filter_osm_data(DC_WAYS,special_filters=[filter_is_motorway])\n",
    "bike_walk_way = filter_osm_data(DC_WAYS, special_filters=[filter_is_bike_walk_way])\n",
    "len(motor_way), len(bike_walk_way), 18506-13457"
   ]
  },
  {
   "cell_type": "code",
   "execution_count": 180,
   "metadata": {
    "collapsed": false
   },
   "outputs": [
    {
     "data": {
      "text/plain": [
       "2344"
      ]
     },
     "execution_count": 180,
     "metadata": {},
     "output_type": "execute_result"
    }
   ],
   "source": [
    "nodes_highway = filter_osm_data(DC_NODES, special_filters=[filter_is_motorway])\n",
    "len(nodes_highway)"
   ]
  },
  {
   "cell_type": "code",
   "execution_count": 181,
   "metadata": {
    "collapsed": false
   },
   "outputs": [
    {
     "data": {
      "text/plain": [
       "(181144, 181144)"
      ]
     },
     "execution_count": 181,
     "metadata": {},
     "output_type": "execute_result"
    }
   ],
   "source": [
    "not_motor_way_or_admin = filter_osm_data(DC_WAYS,special_filters=[filter_isnot_motorway,filter_isnot_admin])\n",
    "len(not_motor_way_or_admin), len(DC_WAYS)-len(motor_way)-len(admin_way)"
   ]
  },
  {
   "cell_type": "code",
   "execution_count": 182,
   "metadata": {
    "collapsed": false
   },
   "outputs": [
    {
     "data": {
      "text/plain": [
       "(181310, 181310)"
      ]
     },
     "execution_count": 182,
     "metadata": {},
     "output_type": "execute_result"
    }
   ],
   "source": [
    "not_motor_way = filter_osm_data(DC_WAYS,special_filters=[filter_isnot_motorway])\n",
    "len(not_motor_way), len(DC_WAYS)-len(motor_way)"
   ]
  },
  {
   "cell_type": "code",
   "execution_count": 183,
   "metadata": {
    "collapsed": false
   },
   "outputs": [
    {
     "data": {
      "text/plain": [
       "(154, 166)"
      ]
     },
     "execution_count": 183,
     "metadata": {},
     "output_type": "execute_result"
    }
   ],
   "source": [
    "admin_rltn = filter_osm_data(DC_RLTNS, special_filters=[filter_is_admin])\n",
    "admin_way = filter_osm_data(DC_WAYS, special_filters=[filter_is_admin])\n",
    "len(admin_rltn),len(admin_way)"
   ]
  },
  {
   "cell_type": "code",
   "execution_count": 293,
   "metadata": {
    "collapsed": false
   },
   "outputs": [],
   "source": [
    "import shapely.geometry as shpgeo\n",
    "\n",
    "def lon_lats_closed(lon_lats):\n",
    "    return lon_lats[0]==lon_lats[-1]\n",
    "\n",
    "def way2lineOrpoly(osm_data, way):\n",
    "    nodes = [osm_data.get_osm_node_by_id(nid) for nid in way.nodes]\n",
    "    lon_lats = [(node.lon, node.lat) for node in nodes]\n",
    "    return shpgeo.Polygon(lon_lats).buffer(0) if lon_lats_closed(lon_lats) and len(lon_lats)>3 else shpgeo.LineString(lon_lats)\n",
    "\n",
    "def flatten_rltn_shpcltn(shpcltn):\n",
    "    flat_shpcltn = []\n",
    "    for shpobjs in shpcltn.values():\n",
    "        flat_shpcltn.extend(shpobjs)\n",
    "    return flat_shpcltn\n",
    "\n",
    "def build_gpdf_list_from_osm(osm_data, nodes, ways, rltns):\n",
    "    columns = ['id','type','geometry']\n",
    "    shpobjs_from_nodes = [(node.id,'Node', node2pt(node)) for node in nodes]\n",
    "    shpobjs_from_ways =  [(way.id,'Way', way2lineOrpoly(osm_data, way)) for way in ways]\n",
    "    shpobjs_from_rltns = [(rltn.id, 'Relation', shpobj) for rltn in rltns for shpobj in flatten_rltn_shpcltn(rltn2cltn(osm_data,rltn))]\n",
    "    print len(shpobjs_from_nodes),len(shpobjs_from_ways),len(shpobjs_from_rltns)\n",
    "    shpobjs = []\n",
    "    shpobjs.extend(shpobjs_from_nodes)\n",
    "    shpobjs.extend(shpobjs_from_ways)\n",
    "    shpobjs.extend(shpobjs_from_rltns)\n",
    "    gpdf = gp.GeoDataFrame(shpobjs, columns=columns)\n",
    "    return gpdf"
   ]
  },
  {
   "cell_type": "code",
   "execution_count": 187,
   "metadata": {
    "collapsed": false
   },
   "outputs": [
    {
     "name": "stdout",
     "output_type": "stream",
     "text": [
      "37912 190931 7360\n"
     ]
    }
   ],
   "source": [
    "gpdf = build_gpdf_list_from_osm(OSM_DC_BBOX, DC_NODES_WITH_TAG,DC_WAYS_WITH_TAG, DC_RLTNS_WITH_TAG)"
   ]
  },
  {
   "cell_type": "code",
   "execution_count": 188,
   "metadata": {
    "collapsed": false,
    "scrolled": true
   },
   "outputs": [
    {
     "data": {
      "text/plain": [
       "(236203, 3)"
      ]
     },
     "execution_count": 188,
     "metadata": {},
     "output_type": "execute_result"
    }
   ],
   "source": [
    "gpdf.shape"
   ]
  },
  {
   "cell_type": "code",
   "execution_count": 294,
   "metadata": {
    "collapsed": false
   },
   "outputs": [
    {
     "name": "stdout",
     "output_type": "stream",
     "text": [
      "0 190931 0\n",
      "0 0 7356\n"
     ]
    }
   ],
   "source": [
    "# gpdf_nodes = build_gpdf_list_from_osm(OSM_DC_BBOX, DC_NODES_WITH_TAG,[], [])\n",
    "gpdf_ways = build_gpdf_list_from_osm(OSM_DC_BBOX, [],DC_WAYS_WITH_TAG, [])\n",
    "gpdf_rltns = build_gpdf_list_from_osm(OSM_DC_BBOX, [],[], DC_RLTNS_WITH_TAG)"
   ]
  },
  {
   "cell_type": "code",
   "execution_count": 290,
   "metadata": {
    "collapsed": true
   },
   "outputs": [],
   "source": [
    "def remove_equal_shpobj(objs):\n",
    "    import rtree\n",
    "    size = len(objs)\n",
    "    equal_pair = []\n",
    "    keep = []\n",
    "    exclude_idx = set()\n",
    "    \n",
    "    tree_idx = rtree.index.Index()\n",
    "    objs_bounds = [o.bounds for o in objs]\n",
    "    for i in xrange(size):\n",
    "        try:\n",
    "            tree_idx.insert(i, objs_bounds[i])\n",
    "        except Exception as e:\n",
    "            print i, objs_bounds[i], objs[i]\n",
    "            raise e\n",
    "\n",
    "    for i in xrange(size):\n",
    "        if i in exclude_idx:\n",
    "            continue\n",
    "        keep.append(i)\n",
    "        js = tree_idx.intersection(objs[i].bounds)\n",
    "        for j in js:\n",
    "            if i!=j and objs[i].equals(objs[j]):\n",
    "                equal_pair.append((i,int(j)))\n",
    "                exclude_idx.add(j)\n",
    "                \n",
    "    return keep, equal_pair"
   ]
  },
  {
   "cell_type": "code",
   "execution_count": 273,
   "metadata": {
    "collapsed": false
   },
   "outputs": [],
   "source": [
    "keep_idx, equal_pair_idx = remove_equal_shpobj(gpdf.iloc[:10000].geometry.values)\n",
    "equal_pair_osmids = [(gpdf.iloc[i].name, gpdf.iloc[j].name) for i, j in equal_pair_idx]\n"
   ]
  },
  {
   "cell_type": "code",
   "execution_count": 283,
   "metadata": {
    "collapsed": true
   },
   "outputs": [],
   "source": [
    "from utils.other_utils import find_tree\n",
    "def merge_within(shp_gpdf):\n",
    "    import geopandas as gp\n",
    "    import pandas as pd\n",
    "    keep, equal_pair= remove_equal_shpobj(shp_gpdf.geometry.values)\n",
    "    equal_pair_index = [(shp_gpdf.iloc[i].name, shp_gpdf.iloc[j].name) for i, j in equal_pair]\n",
    "    gpdf_no_equal = shp_gpdf.iloc[keep]\n",
    "    print 'keep =',len(keep), 'equal pair =',len(equal_pair), gpdf_no_equal.shape, datetime.datetime.now()\n",
    "    sjoin = gp.tools.sjoin(gpdf_no_equal,gpdf_no_equal,op='within')\n",
    "    print 'sjoin.shape =',sjoin.shape, datetime.datetime.now()\n",
    "    messy_tree_df = pd.DataFrame(zip(sjoin.index.values, sjoin.index_right.values), columns=['child','parent'])\n",
    "    print 'messy tree shape =', messy_tree_df.shape, datetime.datetime.now()\n",
    "    clean_tree_df = find_tree(messy_tree_df.copy())\n",
    "    print 'clean tree shape =', clean_tree_df.shape, datetime.datetime.now()\n",
    "    top_level_shp_idx = clean_tree_df[clean_tree_df.parent=='root'].child.values\n",
    "    return gpdf[gpdf.index.isin(top_level_shp_idx)], messy_tree_df, equal_pair_index"
   ]
  },
  {
   "cell_type": "code",
   "execution_count": 292,
   "metadata": {
    "collapsed": false
   },
   "outputs": [
    {
     "data": {
      "text/plain": [
       "id              374179850\n",
       "type                  Way\n",
       "geometry    POLYGON EMPTY\n",
       "Name: 187330, dtype: object"
      ]
     },
     "execution_count": 292,
     "metadata": {},
     "output_type": "execute_result"
    }
   ],
   "source": [
    "gpdf_ways.iloc[187330 ]"
   ]
  },
  {
   "cell_type": "code",
   "execution_count": 295,
   "metadata": {
    "collapsed": false
   },
   "outputs": [
    {
     "name": "stdout",
     "output_type": "stream",
     "text": [
      "2016-11-10 20:51:20.763000\n"
     ]
    },
    {
     "ename": "MemoryError",
     "evalue": "",
     "output_type": "error",
     "traceback": [
      "\u001b[1;31m---------------------------------------------------------------------------\u001b[0m",
      "\u001b[1;31mMemoryError\u001b[0m                               Traceback (most recent call last)",
      "\u001b[1;32m<ipython-input-295-b6464a037e19>\u001b[0m in \u001b[0;36m<module>\u001b[1;34m()\u001b[0m\n\u001b[0;32m      2\u001b[0m \u001b[1;31m# merged_gpdf_nodes, messy_tree_df_nodes, equal_pair_index_nodes = merge_within(gpdf_nodes)\u001b[0m\u001b[1;33m\u001b[0m\u001b[1;33m\u001b[0m\u001b[0m\n\u001b[0;32m      3\u001b[0m \u001b[1;32mprint\u001b[0m \u001b[0mdatetime\u001b[0m\u001b[1;33m.\u001b[0m\u001b[0mdatetime\u001b[0m\u001b[1;33m.\u001b[0m\u001b[0mnow\u001b[0m\u001b[1;33m(\u001b[0m\u001b[1;33m)\u001b[0m\u001b[1;33m\u001b[0m\u001b[0m\n\u001b[1;32m----> 4\u001b[1;33m \u001b[0mmerged_gpdf_ways\u001b[0m\u001b[1;33m,\u001b[0m \u001b[0mmessy_tree_df_ways\u001b[0m\u001b[1;33m,\u001b[0m \u001b[0mequal_pair_index_ways\u001b[0m \u001b[1;33m=\u001b[0m \u001b[0mmerge_within\u001b[0m\u001b[1;33m(\u001b[0m\u001b[0mgpdf_ways\u001b[0m\u001b[1;33m)\u001b[0m\u001b[1;33m\u001b[0m\u001b[0m\n\u001b[0m\u001b[0;32m      5\u001b[0m \u001b[1;32mprint\u001b[0m \u001b[0mdatetime\u001b[0m\u001b[1;33m.\u001b[0m\u001b[0mdatetime\u001b[0m\u001b[1;33m.\u001b[0m\u001b[0mnow\u001b[0m\u001b[1;33m(\u001b[0m\u001b[1;33m)\u001b[0m\u001b[1;33m\u001b[0m\u001b[0m\n\u001b[0;32m      6\u001b[0m \u001b[0mmerged_gpdf_rltns\u001b[0m\u001b[1;33m,\u001b[0m \u001b[0mmessy_tree_df_rltns\u001b[0m\u001b[1;33m,\u001b[0m \u001b[0mequal_pair_index_rltns\u001b[0m \u001b[1;33m=\u001b[0m \u001b[0mmerge_within\u001b[0m\u001b[1;33m(\u001b[0m\u001b[0mgpdf_rltns\u001b[0m\u001b[1;33m)\u001b[0m\u001b[1;33m\u001b[0m\u001b[0m\n",
      "\u001b[1;32m<ipython-input-283-efa4d0fd6b6b>\u001b[0m in \u001b[0;36mmerge_within\u001b[1;34m(shp_gpdf)\u001b[0m\n\u001b[0;32m      5\u001b[0m     \u001b[0mkeep\u001b[0m\u001b[1;33m,\u001b[0m \u001b[0mequal_pair\u001b[0m\u001b[1;33m=\u001b[0m \u001b[0mremove_equal_shpobj\u001b[0m\u001b[1;33m(\u001b[0m\u001b[0mshp_gpdf\u001b[0m\u001b[1;33m.\u001b[0m\u001b[0mgeometry\u001b[0m\u001b[1;33m.\u001b[0m\u001b[0mvalues\u001b[0m\u001b[1;33m)\u001b[0m\u001b[1;33m\u001b[0m\u001b[0m\n\u001b[0;32m      6\u001b[0m     \u001b[0mequal_pair_index\u001b[0m \u001b[1;33m=\u001b[0m \u001b[1;33m[\u001b[0m\u001b[1;33m(\u001b[0m\u001b[0mshp_gpdf\u001b[0m\u001b[1;33m.\u001b[0m\u001b[0miloc\u001b[0m\u001b[1;33m[\u001b[0m\u001b[0mi\u001b[0m\u001b[1;33m]\u001b[0m\u001b[1;33m.\u001b[0m\u001b[0mname\u001b[0m\u001b[1;33m,\u001b[0m \u001b[0mshp_gpdf\u001b[0m\u001b[1;33m.\u001b[0m\u001b[0miloc\u001b[0m\u001b[1;33m[\u001b[0m\u001b[0mj\u001b[0m\u001b[1;33m]\u001b[0m\u001b[1;33m.\u001b[0m\u001b[0mname\u001b[0m\u001b[1;33m)\u001b[0m \u001b[1;32mfor\u001b[0m \u001b[0mi\u001b[0m\u001b[1;33m,\u001b[0m \u001b[0mj\u001b[0m \u001b[1;32min\u001b[0m \u001b[0mequal_pair\u001b[0m\u001b[1;33m]\u001b[0m\u001b[1;33m\u001b[0m\u001b[0m\n\u001b[1;32m----> 7\u001b[1;33m     \u001b[0mgpdf_no_equal\u001b[0m \u001b[1;33m=\u001b[0m \u001b[0mshp_gpdf\u001b[0m\u001b[1;33m.\u001b[0m\u001b[0miloc\u001b[0m\u001b[1;33m[\u001b[0m\u001b[0mkeep\u001b[0m\u001b[1;33m]\u001b[0m\u001b[1;33m\u001b[0m\u001b[0m\n\u001b[0m\u001b[0;32m      8\u001b[0m     \u001b[1;32mprint\u001b[0m \u001b[1;34m'keep ='\u001b[0m\u001b[1;33m,\u001b[0m\u001b[0mlen\u001b[0m\u001b[1;33m(\u001b[0m\u001b[0mkeep\u001b[0m\u001b[1;33m)\u001b[0m\u001b[1;33m,\u001b[0m \u001b[1;34m'equal pair ='\u001b[0m\u001b[1;33m,\u001b[0m\u001b[0mlen\u001b[0m\u001b[1;33m(\u001b[0m\u001b[0mequal_pair\u001b[0m\u001b[1;33m)\u001b[0m\u001b[1;33m,\u001b[0m \u001b[0mgpdf_no_equal\u001b[0m\u001b[1;33m.\u001b[0m\u001b[0mshape\u001b[0m\u001b[1;33m,\u001b[0m \u001b[0mdatetime\u001b[0m\u001b[1;33m.\u001b[0m\u001b[0mdatetime\u001b[0m\u001b[1;33m.\u001b[0m\u001b[0mnow\u001b[0m\u001b[1;33m(\u001b[0m\u001b[1;33m)\u001b[0m\u001b[1;33m\u001b[0m\u001b[0m\n\u001b[0;32m      9\u001b[0m     \u001b[0msjoin\u001b[0m \u001b[1;33m=\u001b[0m \u001b[0mgp\u001b[0m\u001b[1;33m.\u001b[0m\u001b[0mtools\u001b[0m\u001b[1;33m.\u001b[0m\u001b[0msjoin\u001b[0m\u001b[1;33m(\u001b[0m\u001b[0mgpdf_no_equal\u001b[0m\u001b[1;33m,\u001b[0m\u001b[0mgpdf_no_equal\u001b[0m\u001b[1;33m,\u001b[0m\u001b[0mop\u001b[0m\u001b[1;33m=\u001b[0m\u001b[1;34m'within'\u001b[0m\u001b[1;33m)\u001b[0m\u001b[1;33m\u001b[0m\u001b[0m\n",
      "\u001b[1;32mD:\\Program Files\\Anaconda2\\lib\\site-packages\\pandas\\core\\indexing.pyc\u001b[0m in \u001b[0;36m__getitem__\u001b[1;34m(self, key)\u001b[0m\n\u001b[0;32m   1187\u001b[0m             \u001b[1;32mreturn\u001b[0m \u001b[0mself\u001b[0m\u001b[1;33m.\u001b[0m\u001b[0m_getitem_tuple\u001b[0m\u001b[1;33m(\u001b[0m\u001b[0mkey\u001b[0m\u001b[1;33m)\u001b[0m\u001b[1;33m\u001b[0m\u001b[0m\n\u001b[0;32m   1188\u001b[0m         \u001b[1;32melse\u001b[0m\u001b[1;33m:\u001b[0m\u001b[1;33m\u001b[0m\u001b[0m\n\u001b[1;32m-> 1189\u001b[1;33m             \u001b[1;32mreturn\u001b[0m \u001b[0mself\u001b[0m\u001b[1;33m.\u001b[0m\u001b[0m_getitem_axis\u001b[0m\u001b[1;33m(\u001b[0m\u001b[0mkey\u001b[0m\u001b[1;33m,\u001b[0m \u001b[0maxis\u001b[0m\u001b[1;33m=\u001b[0m\u001b[1;36m0\u001b[0m\u001b[1;33m)\u001b[0m\u001b[1;33m\u001b[0m\u001b[0m\n\u001b[0m\u001b[0;32m   1190\u001b[0m \u001b[1;33m\u001b[0m\u001b[0m\n\u001b[0;32m   1191\u001b[0m     \u001b[1;32mdef\u001b[0m \u001b[0m_getitem_axis\u001b[0m\u001b[1;33m(\u001b[0m\u001b[0mself\u001b[0m\u001b[1;33m,\u001b[0m \u001b[0mkey\u001b[0m\u001b[1;33m,\u001b[0m \u001b[0maxis\u001b[0m\u001b[1;33m=\u001b[0m\u001b[1;36m0\u001b[0m\u001b[1;33m)\u001b[0m\u001b[1;33m:\u001b[0m\u001b[1;33m\u001b[0m\u001b[0m\n",
      "\u001b[1;32mD:\\Program Files\\Anaconda2\\lib\\site-packages\\pandas\\core\\indexing.pyc\u001b[0m in \u001b[0;36m_getitem_axis\u001b[1;34m(self, key, axis)\u001b[0m\n\u001b[0;32m   1478\u001b[0m                 \u001b[0mself\u001b[0m\u001b[1;33m.\u001b[0m\u001b[0m_is_valid_integer\u001b[0m\u001b[1;33m(\u001b[0m\u001b[0mkey\u001b[0m\u001b[1;33m,\u001b[0m \u001b[0maxis\u001b[0m\u001b[1;33m)\u001b[0m\u001b[1;33m\u001b[0m\u001b[0m\n\u001b[0;32m   1479\u001b[0m \u001b[1;33m\u001b[0m\u001b[0m\n\u001b[1;32m-> 1480\u001b[1;33m             \u001b[1;32mreturn\u001b[0m \u001b[0mself\u001b[0m\u001b[1;33m.\u001b[0m\u001b[0m_get_loc\u001b[0m\u001b[1;33m(\u001b[0m\u001b[0mkey\u001b[0m\u001b[1;33m,\u001b[0m \u001b[0maxis\u001b[0m\u001b[1;33m=\u001b[0m\u001b[0maxis\u001b[0m\u001b[1;33m)\u001b[0m\u001b[1;33m\u001b[0m\u001b[0m\n\u001b[0m\u001b[0;32m   1481\u001b[0m \u001b[1;33m\u001b[0m\u001b[0m\n\u001b[0;32m   1482\u001b[0m     \u001b[1;32mdef\u001b[0m \u001b[0m_convert_to_indexer\u001b[0m\u001b[1;33m(\u001b[0m\u001b[0mself\u001b[0m\u001b[1;33m,\u001b[0m \u001b[0mobj\u001b[0m\u001b[1;33m,\u001b[0m \u001b[0maxis\u001b[0m\u001b[1;33m=\u001b[0m\u001b[1;36m0\u001b[0m\u001b[1;33m,\u001b[0m \u001b[0mis_setter\u001b[0m\u001b[1;33m=\u001b[0m\u001b[0mFalse\u001b[0m\u001b[1;33m)\u001b[0m\u001b[1;33m:\u001b[0m\u001b[1;33m\u001b[0m\u001b[0m\n",
      "\u001b[1;32mD:\\Program Files\\Anaconda2\\lib\\site-packages\\pandas\\core\\indexing.pyc\u001b[0m in \u001b[0;36m_get_loc\u001b[1;34m(self, key, axis)\u001b[0m\n\u001b[0;32m     87\u001b[0m \u001b[1;33m\u001b[0m\u001b[0m\n\u001b[0;32m     88\u001b[0m     \u001b[1;32mdef\u001b[0m \u001b[0m_get_loc\u001b[0m\u001b[1;33m(\u001b[0m\u001b[0mself\u001b[0m\u001b[1;33m,\u001b[0m \u001b[0mkey\u001b[0m\u001b[1;33m,\u001b[0m \u001b[0maxis\u001b[0m\u001b[1;33m=\u001b[0m\u001b[1;36m0\u001b[0m\u001b[1;33m)\u001b[0m\u001b[1;33m:\u001b[0m\u001b[1;33m\u001b[0m\u001b[0m\n\u001b[1;32m---> 89\u001b[1;33m         \u001b[1;32mreturn\u001b[0m \u001b[0mself\u001b[0m\u001b[1;33m.\u001b[0m\u001b[0mobj\u001b[0m\u001b[1;33m.\u001b[0m\u001b[0m_ixs\u001b[0m\u001b[1;33m(\u001b[0m\u001b[0mkey\u001b[0m\u001b[1;33m,\u001b[0m \u001b[0maxis\u001b[0m\u001b[1;33m=\u001b[0m\u001b[0maxis\u001b[0m\u001b[1;33m)\u001b[0m\u001b[1;33m\u001b[0m\u001b[0m\n\u001b[0m\u001b[0;32m     90\u001b[0m \u001b[1;33m\u001b[0m\u001b[0m\n\u001b[0;32m     91\u001b[0m     \u001b[1;32mdef\u001b[0m \u001b[0m_slice\u001b[0m\u001b[1;33m(\u001b[0m\u001b[0mself\u001b[0m\u001b[1;33m,\u001b[0m \u001b[0mobj\u001b[0m\u001b[1;33m,\u001b[0m \u001b[0maxis\u001b[0m\u001b[1;33m=\u001b[0m\u001b[1;36m0\u001b[0m\u001b[1;33m,\u001b[0m \u001b[0mkind\u001b[0m\u001b[1;33m=\u001b[0m\u001b[0mNone\u001b[0m\u001b[1;33m)\u001b[0m\u001b[1;33m:\u001b[0m\u001b[1;33m\u001b[0m\u001b[0m\n",
      "\u001b[1;32mD:\\Program Files\\Anaconda2\\lib\\site-packages\\pandas\\core\\frame.pyc\u001b[0m in \u001b[0;36m_ixs\u001b[1;34m(self, i, axis)\u001b[0m\n\u001b[0;32m   1720\u001b[0m                 \u001b[1;32mif\u001b[0m \u001b[0misinstance\u001b[0m\u001b[1;33m(\u001b[0m\u001b[0mlabel\u001b[0m\u001b[1;33m,\u001b[0m \u001b[0mIndex\u001b[0m\u001b[1;33m)\u001b[0m\u001b[1;33m:\u001b[0m\u001b[1;33m\u001b[0m\u001b[0m\n\u001b[0;32m   1721\u001b[0m                     \u001b[1;31m# a location index by definition\u001b[0m\u001b[1;33m\u001b[0m\u001b[1;33m\u001b[0m\u001b[0m\n\u001b[1;32m-> 1722\u001b[1;33m                     \u001b[0mresult\u001b[0m \u001b[1;33m=\u001b[0m \u001b[0mself\u001b[0m\u001b[1;33m.\u001b[0m\u001b[0mtake\u001b[0m\u001b[1;33m(\u001b[0m\u001b[0mi\u001b[0m\u001b[1;33m,\u001b[0m \u001b[0maxis\u001b[0m\u001b[1;33m=\u001b[0m\u001b[0maxis\u001b[0m\u001b[1;33m)\u001b[0m\u001b[1;33m\u001b[0m\u001b[0m\n\u001b[0m\u001b[0;32m   1723\u001b[0m                     \u001b[0mcopy\u001b[0m\u001b[1;33m=\u001b[0m\u001b[0mTrue\u001b[0m\u001b[1;33m\u001b[0m\u001b[0m\n\u001b[0;32m   1724\u001b[0m                 \u001b[1;32melse\u001b[0m\u001b[1;33m:\u001b[0m\u001b[1;33m\u001b[0m\u001b[0m\n",
      "\u001b[1;32mD:\\Program Files\\Anaconda2\\lib\\site-packages\\pandas\\core\\generic.pyc\u001b[0m in \u001b[0;36mtake\u001b[1;34m(self, indices, axis, convert, is_copy)\u001b[0m\n\u001b[0;32m   1356\u001b[0m         new_data = self._data.take(indices,\n\u001b[0;32m   1357\u001b[0m                                    \u001b[0maxis\u001b[0m\u001b[1;33m=\u001b[0m\u001b[0mself\u001b[0m\u001b[1;33m.\u001b[0m\u001b[0m_get_block_manager_axis\u001b[0m\u001b[1;33m(\u001b[0m\u001b[0maxis\u001b[0m\u001b[1;33m)\u001b[0m\u001b[1;33m,\u001b[0m\u001b[1;33m\u001b[0m\u001b[0m\n\u001b[1;32m-> 1358\u001b[1;33m                                    convert=True, verify=True)\n\u001b[0m\u001b[0;32m   1359\u001b[0m         \u001b[0mresult\u001b[0m \u001b[1;33m=\u001b[0m \u001b[0mself\u001b[0m\u001b[1;33m.\u001b[0m\u001b[0m_constructor\u001b[0m\u001b[1;33m(\u001b[0m\u001b[0mnew_data\u001b[0m\u001b[1;33m)\u001b[0m\u001b[1;33m.\u001b[0m\u001b[0m__finalize__\u001b[0m\u001b[1;33m(\u001b[0m\u001b[0mself\u001b[0m\u001b[1;33m)\u001b[0m\u001b[1;33m\u001b[0m\u001b[0m\n\u001b[0;32m   1360\u001b[0m \u001b[1;33m\u001b[0m\u001b[0m\n",
      "\u001b[1;32mD:\\Program Files\\Anaconda2\\lib\\site-packages\\pandas\\core\\internals.pyc\u001b[0m in \u001b[0;36mtake\u001b[1;34m(self, indexer, axis, verify, convert)\u001b[0m\n\u001b[0;32m   3271\u001b[0m                                 'the axis length')\n\u001b[0;32m   3272\u001b[0m \u001b[1;33m\u001b[0m\u001b[0m\n\u001b[1;32m-> 3273\u001b[1;33m         \u001b[0mnew_labels\u001b[0m \u001b[1;33m=\u001b[0m \u001b[0mself\u001b[0m\u001b[1;33m.\u001b[0m\u001b[0maxes\u001b[0m\u001b[1;33m[\u001b[0m\u001b[0maxis\u001b[0m\u001b[1;33m]\u001b[0m\u001b[1;33m.\u001b[0m\u001b[0mtake\u001b[0m\u001b[1;33m(\u001b[0m\u001b[0mindexer\u001b[0m\u001b[1;33m)\u001b[0m\u001b[1;33m\u001b[0m\u001b[0m\n\u001b[0m\u001b[0;32m   3274\u001b[0m         return self.reindex_indexer(new_axis=new_labels, indexer=indexer,\n\u001b[0;32m   3275\u001b[0m                                     axis=axis, allow_dups=True)\n",
      "\u001b[1;32mD:\\Program Files\\Anaconda2\\lib\\site-packages\\pandas\\core\\index.pyc\u001b[0m in \u001b[0;36mtake\u001b[1;34m(self, indexer, axis)\u001b[0m\n\u001b[0;32m   1156\u001b[0m \u001b[1;33m\u001b[0m\u001b[0m\n\u001b[0;32m   1157\u001b[0m         \u001b[0mindexer\u001b[0m \u001b[1;33m=\u001b[0m \u001b[0mcom\u001b[0m\u001b[1;33m.\u001b[0m\u001b[0m_ensure_platform_int\u001b[0m\u001b[1;33m(\u001b[0m\u001b[0mindexer\u001b[0m\u001b[1;33m)\u001b[0m\u001b[1;33m\u001b[0m\u001b[0m\n\u001b[1;32m-> 1158\u001b[1;33m         \u001b[0mtaken\u001b[0m \u001b[1;33m=\u001b[0m \u001b[0mnp\u001b[0m\u001b[1;33m.\u001b[0m\u001b[0marray\u001b[0m\u001b[1;33m(\u001b[0m\u001b[0mself\u001b[0m\u001b[1;33m)\u001b[0m\u001b[1;33m.\u001b[0m\u001b[0mtake\u001b[0m\u001b[1;33m(\u001b[0m\u001b[0mindexer\u001b[0m\u001b[1;33m)\u001b[0m\u001b[1;33m\u001b[0m\u001b[0m\n\u001b[0m\u001b[0;32m   1159\u001b[0m \u001b[1;33m\u001b[0m\u001b[0m\n\u001b[0;32m   1160\u001b[0m         \u001b[1;31m# by definition cannot propogate freq\u001b[0m\u001b[1;33m\u001b[0m\u001b[1;33m\u001b[0m\u001b[0m\n",
      "\u001b[1;31mMemoryError\u001b[0m: "
     ]
    }
   ],
   "source": [
    "# print datetime.datetime.now()\n",
    "# merged_gpdf_nodes, messy_tree_df_nodes, equal_pair_index_nodes = merge_within(gpdf_nodes)\n",
    "print datetime.datetime.now()\n",
    "merged_gpdf_ways, messy_tree_df_ways, equal_pair_index_ways = merge_within(gpdf_ways)\n",
    "print datetime.datetime.now()\n",
    "merged_gpdf_rltns, messy_tree_df_rltns, equal_pair_index_rltns = merge_within(gpdf_rltns)\n",
    "print datetime.datetime.now()"
   ]
  },
  {
   "cell_type": "code",
   "execution_count": 284,
   "metadata": {
    "collapsed": true
   },
   "outputs": [
    {
     "name": "stderr",
     "output_type": "stream",
     "text": [
      "TopologyException: side location conflict at -77.047313000000003 38.907462299999999\n",
      "ERROR:shapely.geos:TopologyException: side location conflict at -77.047313000000003 38.907462299999999\n"
     ]
    },
    {
     "name": "stdout",
     "output_type": "stream",
     "text": [
      "keep = 233022 equal pair = 3181 (233022, 3) 2016-11-10 20:16:43.145000\n"
     ]
    },
    {
     "ename": "AttributeError",
     "evalue": "'PreparedGeometry' object has no attribute 'is_valid'",
     "output_type": "error",
     "traceback": [
      "\u001b[1;31m---------------------------------------------------------------------------\u001b[0m",
      "\u001b[1;31mAttributeError\u001b[0m                            Traceback (most recent call last)",
      "\u001b[1;32m<ipython-input-284-519410f76360>\u001b[0m in \u001b[0;36m<module>\u001b[1;34m()\u001b[0m\n\u001b[1;32m----> 1\u001b[1;33m \u001b[0mmerged_gpdf\u001b[0m\u001b[1;33m,\u001b[0m \u001b[0mmessy_tree_df\u001b[0m\u001b[1;33m,\u001b[0m \u001b[0mequal_pair_index\u001b[0m \u001b[1;33m=\u001b[0m \u001b[0mmerge_within\u001b[0m\u001b[1;33m(\u001b[0m\u001b[0mgpdf\u001b[0m\u001b[1;33m)\u001b[0m\u001b[1;33m\u001b[0m\u001b[0m\n\u001b[0m",
      "\u001b[1;32m<ipython-input-283-efa4d0fd6b6b>\u001b[0m in \u001b[0;36mmerge_within\u001b[1;34m(shp_gpdf)\u001b[0m\n\u001b[0;32m      7\u001b[0m     \u001b[0mgpdf_no_equal\u001b[0m \u001b[1;33m=\u001b[0m \u001b[0mshp_gpdf\u001b[0m\u001b[1;33m.\u001b[0m\u001b[0miloc\u001b[0m\u001b[1;33m[\u001b[0m\u001b[0mkeep\u001b[0m\u001b[1;33m]\u001b[0m\u001b[1;33m\u001b[0m\u001b[0m\n\u001b[0;32m      8\u001b[0m     \u001b[1;32mprint\u001b[0m \u001b[1;34m'keep ='\u001b[0m\u001b[1;33m,\u001b[0m\u001b[0mlen\u001b[0m\u001b[1;33m(\u001b[0m\u001b[0mkeep\u001b[0m\u001b[1;33m)\u001b[0m\u001b[1;33m,\u001b[0m \u001b[1;34m'equal pair ='\u001b[0m\u001b[1;33m,\u001b[0m\u001b[0mlen\u001b[0m\u001b[1;33m(\u001b[0m\u001b[0mequal_pair\u001b[0m\u001b[1;33m)\u001b[0m\u001b[1;33m,\u001b[0m \u001b[0mgpdf_no_equal\u001b[0m\u001b[1;33m.\u001b[0m\u001b[0mshape\u001b[0m\u001b[1;33m,\u001b[0m \u001b[0mdatetime\u001b[0m\u001b[1;33m.\u001b[0m\u001b[0mdatetime\u001b[0m\u001b[1;33m.\u001b[0m\u001b[0mnow\u001b[0m\u001b[1;33m(\u001b[0m\u001b[1;33m)\u001b[0m\u001b[1;33m\u001b[0m\u001b[0m\n\u001b[1;32m----> 9\u001b[1;33m     \u001b[0msjoin\u001b[0m \u001b[1;33m=\u001b[0m \u001b[0mgp\u001b[0m\u001b[1;33m.\u001b[0m\u001b[0mtools\u001b[0m\u001b[1;33m.\u001b[0m\u001b[0msjoin\u001b[0m\u001b[1;33m(\u001b[0m\u001b[0mgpdf_no_equal\u001b[0m\u001b[1;33m,\u001b[0m\u001b[0mgpdf_no_equal\u001b[0m\u001b[1;33m,\u001b[0m\u001b[0mop\u001b[0m\u001b[1;33m=\u001b[0m\u001b[1;34m'within'\u001b[0m\u001b[1;33m)\u001b[0m\u001b[1;33m\u001b[0m\u001b[0m\n\u001b[0m\u001b[0;32m     10\u001b[0m     \u001b[1;32mprint\u001b[0m \u001b[1;34m'sjoin.shape ='\u001b[0m\u001b[1;33m,\u001b[0m\u001b[0msjoin\u001b[0m\u001b[1;33m.\u001b[0m\u001b[0mshape\u001b[0m\u001b[1;33m,\u001b[0m \u001b[0mdatetime\u001b[0m\u001b[1;33m.\u001b[0m\u001b[0mdatetime\u001b[0m\u001b[1;33m.\u001b[0m\u001b[0mnow\u001b[0m\u001b[1;33m(\u001b[0m\u001b[1;33m)\u001b[0m\u001b[1;33m\u001b[0m\u001b[0m\n\u001b[0;32m     11\u001b[0m     \u001b[0mmessy_tree_df\u001b[0m \u001b[1;33m=\u001b[0m \u001b[0mpd\u001b[0m\u001b[1;33m.\u001b[0m\u001b[0mDataFrame\u001b[0m\u001b[1;33m(\u001b[0m\u001b[0mzip\u001b[0m\u001b[1;33m(\u001b[0m\u001b[0msjoin\u001b[0m\u001b[1;33m.\u001b[0m\u001b[0mindex\u001b[0m\u001b[1;33m.\u001b[0m\u001b[0mvalues\u001b[0m\u001b[1;33m,\u001b[0m \u001b[0msjoin\u001b[0m\u001b[1;33m.\u001b[0m\u001b[0mindex_right\u001b[0m\u001b[1;33m.\u001b[0m\u001b[0mvalues\u001b[0m\u001b[1;33m)\u001b[0m\u001b[1;33m,\u001b[0m \u001b[0mcolumns\u001b[0m\u001b[1;33m=\u001b[0m\u001b[1;33m[\u001b[0m\u001b[1;34m'child'\u001b[0m\u001b[1;33m,\u001b[0m\u001b[1;34m'parent'\u001b[0m\u001b[1;33m]\u001b[0m\u001b[1;33m)\u001b[0m\u001b[1;33m\u001b[0m\u001b[0m\n",
      "\u001b[1;32mD:\\Program Files\\Anaconda2\\lib\\site-packages\\geopandas\\tools\\sjoin.pyc\u001b[0m in \u001b[0;36msjoin\u001b[1;34m(left_df, right_df, how, op, lsuffix, rsuffix)\u001b[0m\n\u001b[0;32m     79\u001b[0m                            \u001b[0mleft_df\u001b[0m\u001b[1;33m[\u001b[0m\u001b[1;34m'geometry'\u001b[0m\u001b[1;33m]\u001b[0m\u001b[1;33m\u001b[0m\u001b[0m\n\u001b[0;32m     80\u001b[0m                            \u001b[1;33m.\u001b[0m\u001b[0mapply\u001b[0m\u001b[1;33m(\u001b[0m\u001b[1;32mlambda\u001b[0m \u001b[0mx\u001b[0m\u001b[1;33m:\u001b[0m \u001b[0mprepared\u001b[0m\u001b[1;33m.\u001b[0m\u001b[0mprep\u001b[0m\u001b[1;33m(\u001b[0m\u001b[0mx\u001b[0m\u001b[1;33m)\u001b[0m\u001b[1;33m)\u001b[0m\u001b[1;33m[\u001b[0m\u001b[0ml_idx\u001b[0m\u001b[1;33m]\u001b[0m\u001b[1;33m,\u001b[0m\u001b[1;33m\u001b[0m\u001b[0m\n\u001b[1;32m---> 81\u001b[1;33m                            right_df['geometry'][r_idx])\n\u001b[0m\u001b[0;32m     82\u001b[0m                        ]))\n\u001b[0;32m     83\u001b[0m                )\n",
      "\u001b[1;32mD:\\Program Files\\Anaconda2\\lib\\site-packages\\numpy\\lib\\function_base.pyc\u001b[0m in \u001b[0;36m__call__\u001b[1;34m(self, *args, **kwargs)\u001b[0m\n\u001b[0;32m   1698\u001b[0m             \u001b[0mvargs\u001b[0m\u001b[1;33m.\u001b[0m\u001b[0mextend\u001b[0m\u001b[1;33m(\u001b[0m\u001b[1;33m[\u001b[0m\u001b[0mkwargs\u001b[0m\u001b[1;33m[\u001b[0m\u001b[0m_n\u001b[0m\u001b[1;33m]\u001b[0m \u001b[1;32mfor\u001b[0m \u001b[0m_n\u001b[0m \u001b[1;32min\u001b[0m \u001b[0mnames\u001b[0m\u001b[1;33m]\u001b[0m\u001b[1;33m)\u001b[0m\u001b[1;33m\u001b[0m\u001b[0m\n\u001b[0;32m   1699\u001b[0m \u001b[1;33m\u001b[0m\u001b[0m\n\u001b[1;32m-> 1700\u001b[1;33m         \u001b[1;32mreturn\u001b[0m \u001b[0mself\u001b[0m\u001b[1;33m.\u001b[0m\u001b[0m_vectorize_call\u001b[0m\u001b[1;33m(\u001b[0m\u001b[0mfunc\u001b[0m\u001b[1;33m=\u001b[0m\u001b[0mfunc\u001b[0m\u001b[1;33m,\u001b[0m \u001b[0margs\u001b[0m\u001b[1;33m=\u001b[0m\u001b[0mvargs\u001b[0m\u001b[1;33m)\u001b[0m\u001b[1;33m\u001b[0m\u001b[0m\n\u001b[0m\u001b[0;32m   1701\u001b[0m \u001b[1;33m\u001b[0m\u001b[0m\n\u001b[0;32m   1702\u001b[0m     \u001b[1;32mdef\u001b[0m \u001b[0m_get_ufunc_and_otypes\u001b[0m\u001b[1;33m(\u001b[0m\u001b[0mself\u001b[0m\u001b[1;33m,\u001b[0m \u001b[0mfunc\u001b[0m\u001b[1;33m,\u001b[0m \u001b[0margs\u001b[0m\u001b[1;33m)\u001b[0m\u001b[1;33m:\u001b[0m\u001b[1;33m\u001b[0m\u001b[0m\n",
      "\u001b[1;32mD:\\Program Files\\Anaconda2\\lib\\site-packages\\numpy\\lib\\function_base.pyc\u001b[0m in \u001b[0;36m_vectorize_call\u001b[1;34m(self, func, args)\u001b[0m\n\u001b[0;32m   1767\u001b[0m                       for _a in args]\n\u001b[0;32m   1768\u001b[0m \u001b[1;33m\u001b[0m\u001b[0m\n\u001b[1;32m-> 1769\u001b[1;33m             \u001b[0moutputs\u001b[0m \u001b[1;33m=\u001b[0m \u001b[0mufunc\u001b[0m\u001b[1;33m(\u001b[0m\u001b[1;33m*\u001b[0m\u001b[0minputs\u001b[0m\u001b[1;33m)\u001b[0m\u001b[1;33m\u001b[0m\u001b[0m\n\u001b[0m\u001b[0;32m   1770\u001b[0m \u001b[1;33m\u001b[0m\u001b[0m\n\u001b[0;32m   1771\u001b[0m             \u001b[1;32mif\u001b[0m \u001b[0mufunc\u001b[0m\u001b[1;33m.\u001b[0m\u001b[0mnout\u001b[0m \u001b[1;33m==\u001b[0m \u001b[1;36m1\u001b[0m\u001b[1;33m:\u001b[0m\u001b[1;33m\u001b[0m\u001b[0m\n",
      "\u001b[1;32mD:\\Program Files\\Anaconda2\\lib\\site-packages\\geopandas\\tools\\sjoin.pyc\u001b[0m in \u001b[0;36mfind_contains\u001b[1;34m(a1, a2)\u001b[0m\n\u001b[0;32m     63\u001b[0m \u001b[1;33m\u001b[0m\u001b[0m\n\u001b[0;32m     64\u001b[0m     \u001b[1;32mdef\u001b[0m \u001b[0mfind_contains\u001b[0m\u001b[1;33m(\u001b[0m\u001b[0ma1\u001b[0m\u001b[1;33m,\u001b[0m \u001b[0ma2\u001b[0m\u001b[1;33m)\u001b[0m\u001b[1;33m:\u001b[0m\u001b[1;33m\u001b[0m\u001b[0m\n\u001b[1;32m---> 65\u001b[1;33m         \u001b[1;32mreturn\u001b[0m \u001b[0ma1\u001b[0m\u001b[1;33m.\u001b[0m\u001b[0mcontains\u001b[0m\u001b[1;33m(\u001b[0m\u001b[0ma2\u001b[0m\u001b[1;33m)\u001b[0m\u001b[1;33m\u001b[0m\u001b[0m\n\u001b[0m\u001b[0;32m     66\u001b[0m \u001b[1;33m\u001b[0m\u001b[0m\n\u001b[0;32m     67\u001b[0m     predicate_d = {'intersects': find_intersects,\n",
      "\u001b[1;32mD:\\Program Files\\Anaconda2\\lib\\site-packages\\shapely\\impl.pyc\u001b[0m in \u001b[0;36mwrapper\u001b[1;34m(*args, **kwargs)\u001b[0m\n\u001b[0;32m     35\u001b[0m     \u001b[1;32mdef\u001b[0m \u001b[0mwrapper\u001b[0m\u001b[1;33m(\u001b[0m\u001b[1;33m*\u001b[0m\u001b[0margs\u001b[0m\u001b[1;33m,\u001b[0m \u001b[1;33m**\u001b[0m\u001b[0mkwargs\u001b[0m\u001b[1;33m)\u001b[0m\u001b[1;33m:\u001b[0m\u001b[1;33m\u001b[0m\u001b[0m\n\u001b[0;32m     36\u001b[0m         \u001b[1;32mtry\u001b[0m\u001b[1;33m:\u001b[0m\u001b[1;33m\u001b[0m\u001b[0m\n\u001b[1;32m---> 37\u001b[1;33m             \u001b[1;32mreturn\u001b[0m \u001b[0mfunc\u001b[0m\u001b[1;33m(\u001b[0m\u001b[1;33m*\u001b[0m\u001b[0margs\u001b[0m\u001b[1;33m,\u001b[0m \u001b[1;33m**\u001b[0m\u001b[0mkwargs\u001b[0m\u001b[1;33m)\u001b[0m\u001b[1;33m\u001b[0m\u001b[0m\n\u001b[0m\u001b[0;32m     38\u001b[0m         \u001b[1;32mexcept\u001b[0m \u001b[0mKeyError\u001b[0m\u001b[1;33m:\u001b[0m\u001b[1;33m\u001b[0m\u001b[0m\n\u001b[0;32m     39\u001b[0m             raise ImplementationError(\n",
      "\u001b[1;32mD:\\Program Files\\Anaconda2\\lib\\site-packages\\shapely\\prepared.pyc\u001b[0m in \u001b[0;36mcontains\u001b[1;34m(self, other)\u001b[0m\n\u001b[0;32m     43\u001b[0m     \u001b[1;32mdef\u001b[0m \u001b[0mcontains\u001b[0m\u001b[1;33m(\u001b[0m\u001b[0mself\u001b[0m\u001b[1;33m,\u001b[0m \u001b[0mother\u001b[0m\u001b[1;33m)\u001b[0m\u001b[1;33m:\u001b[0m\u001b[1;33m\u001b[0m\u001b[0m\n\u001b[0;32m     44\u001b[0m         \u001b[1;34m\"\"\"Returns True if the geometry contains the other, else False\"\"\"\u001b[0m\u001b[1;33m\u001b[0m\u001b[0m\n\u001b[1;32m---> 45\u001b[1;33m         \u001b[1;32mreturn\u001b[0m \u001b[0mbool\u001b[0m\u001b[1;33m(\u001b[0m\u001b[0mself\u001b[0m\u001b[1;33m.\u001b[0m\u001b[0mimpl\u001b[0m\u001b[1;33m[\u001b[0m\u001b[1;34m'prepared_contains'\u001b[0m\u001b[1;33m]\u001b[0m\u001b[1;33m(\u001b[0m\u001b[0mself\u001b[0m\u001b[1;33m,\u001b[0m \u001b[0mother\u001b[0m\u001b[1;33m)\u001b[0m\u001b[1;33m)\u001b[0m\u001b[1;33m\u001b[0m\u001b[0m\n\u001b[0m\u001b[0;32m     46\u001b[0m \u001b[1;33m\u001b[0m\u001b[0m\n\u001b[0;32m     47\u001b[0m     \u001b[1;33m@\u001b[0m\u001b[0mdelegated\u001b[0m\u001b[1;33m\u001b[0m\u001b[0m\n",
      "\u001b[1;32mD:\\Program Files\\Anaconda2\\lib\\site-packages\\shapely\\predicates.pyc\u001b[0m in \u001b[0;36m__call__\u001b[1;34m(self, this, other, *args)\u001b[0m\n\u001b[0;32m     16\u001b[0m         \u001b[1;32mexcept\u001b[0m \u001b[0mPredicateError\u001b[0m \u001b[1;32mas\u001b[0m \u001b[0merr\u001b[0m\u001b[1;33m:\u001b[0m\u001b[1;33m\u001b[0m\u001b[0m\n\u001b[0;32m     17\u001b[0m             \u001b[1;31m# Dig deeper into causes of errors.\u001b[0m\u001b[1;33m\u001b[0m\u001b[1;33m\u001b[0m\u001b[0m\n\u001b[1;32m---> 18\u001b[1;33m             \u001b[0mself\u001b[0m\u001b[1;33m.\u001b[0m\u001b[0m_check_topology\u001b[0m\u001b[1;33m(\u001b[0m\u001b[0merr\u001b[0m\u001b[1;33m,\u001b[0m \u001b[0mthis\u001b[0m\u001b[1;33m,\u001b[0m \u001b[0mother\u001b[0m\u001b[1;33m)\u001b[0m\u001b[1;33m\u001b[0m\u001b[0m\n\u001b[0m\u001b[0;32m     19\u001b[0m \u001b[1;33m\u001b[0m\u001b[0m\n\u001b[0;32m     20\u001b[0m \u001b[1;33m\u001b[0m\u001b[0m\n",
      "\u001b[1;32mD:\\Program Files\\Anaconda2\\lib\\site-packages\\shapely\\topology.pyc\u001b[0m in \u001b[0;36m_check_topology\u001b[1;34m(self, err, *geoms)\u001b[0m\n\u001b[0;32m     32\u001b[0m         \"\"\"\n\u001b[0;32m     33\u001b[0m         \u001b[1;32mfor\u001b[0m \u001b[0mgeom\u001b[0m \u001b[1;32min\u001b[0m \u001b[0mgeoms\u001b[0m\u001b[1;33m:\u001b[0m\u001b[1;33m\u001b[0m\u001b[0m\n\u001b[1;32m---> 34\u001b[1;33m             \u001b[1;32mif\u001b[0m \u001b[1;32mnot\u001b[0m \u001b[0mgeom\u001b[0m\u001b[1;33m.\u001b[0m\u001b[0mis_valid\u001b[0m\u001b[1;33m:\u001b[0m\u001b[1;33m\u001b[0m\u001b[0m\n\u001b[0m\u001b[0;32m     35\u001b[0m                 raise TopologicalError(\n\u001b[0;32m     36\u001b[0m                     \u001b[1;34m\"The operation '%s' could not be performed. \"\u001b[0m\u001b[1;33m\u001b[0m\u001b[0m\n",
      "\u001b[1;31mAttributeError\u001b[0m: 'PreparedGeometry' object has no attribute 'is_valid'"
     ]
    }
   ],
   "source": [
    "merged_gpdf, messy_tree_df, equal_pair_index = merge_within(gpdf)"
   ]
  },
  {
   "cell_type": "code",
   "execution_count": 278,
   "metadata": {
    "collapsed": true
   },
   "outputs": [
    {
     "data": {
      "text/html": [
       "<div>\n",
       "<table border=\"1\" class=\"dataframe\">\n",
       "  <thead>\n",
       "    <tr style=\"text-align: right;\">\n",
       "      <th></th>\n",
       "      <th>child</th>\n",
       "      <th>parent</th>\n",
       "      <th>id_x</th>\n",
       "      <th>id_y</th>\n",
       "    </tr>\n",
       "  </thead>\n",
       "  <tbody>\n",
       "    <tr>\n",
       "      <th>0</th>\n",
       "      <td>0</td>\n",
       "      <td>0</td>\n",
       "      <td>30066952</td>\n",
       "      <td>30066952</td>\n",
       "    </tr>\n",
       "    <tr>\n",
       "      <th>1</th>\n",
       "      <td>1</td>\n",
       "      <td>1</td>\n",
       "      <td>30066953</td>\n",
       "      <td>30066953</td>\n",
       "    </tr>\n",
       "    <tr>\n",
       "      <th>2</th>\n",
       "      <td>2</td>\n",
       "      <td>2</td>\n",
       "      <td>30066954</td>\n",
       "      <td>30066954</td>\n",
       "    </tr>\n",
       "    <tr>\n",
       "      <th>3</th>\n",
       "      <td>3</td>\n",
       "      <td>3</td>\n",
       "      <td>30066955</td>\n",
       "      <td>30066955</td>\n",
       "    </tr>\n",
       "    <tr>\n",
       "      <th>4</th>\n",
       "      <td>4</td>\n",
       "      <td>4</td>\n",
       "      <td>49715946</td>\n",
       "      <td>49715946</td>\n",
       "    </tr>\n",
       "    <tr>\n",
       "      <th>5</th>\n",
       "      <td>5</td>\n",
       "      <td>5</td>\n",
       "      <td>49715951</td>\n",
       "      <td>49715951</td>\n",
       "    </tr>\n",
       "    <tr>\n",
       "      <th>6</th>\n",
       "      <td>6</td>\n",
       "      <td>6</td>\n",
       "      <td>49715974</td>\n",
       "      <td>49715974</td>\n",
       "    </tr>\n",
       "    <tr>\n",
       "      <th>7</th>\n",
       "      <td>7</td>\n",
       "      <td>7</td>\n",
       "      <td>49716326</td>\n",
       "      <td>49716326</td>\n",
       "    </tr>\n",
       "    <tr>\n",
       "      <th>8</th>\n",
       "      <td>8</td>\n",
       "      <td>8</td>\n",
       "      <td>49716545</td>\n",
       "      <td>49716545</td>\n",
       "    </tr>\n",
       "    <tr>\n",
       "      <th>9</th>\n",
       "      <td>9</td>\n",
       "      <td>9</td>\n",
       "      <td>49716602</td>\n",
       "      <td>49716602</td>\n",
       "    </tr>\n",
       "    <tr>\n",
       "      <th>10</th>\n",
       "      <td>10</td>\n",
       "      <td>10</td>\n",
       "      <td>49716610</td>\n",
       "      <td>49716610</td>\n",
       "    </tr>\n",
       "    <tr>\n",
       "      <th>11</th>\n",
       "      <td>11</td>\n",
       "      <td>11</td>\n",
       "      <td>49716662</td>\n",
       "      <td>49716662</td>\n",
       "    </tr>\n",
       "    <tr>\n",
       "      <th>12</th>\n",
       "      <td>12</td>\n",
       "      <td>12</td>\n",
       "      <td>49716664</td>\n",
       "      <td>49716664</td>\n",
       "    </tr>\n",
       "    <tr>\n",
       "      <th>13</th>\n",
       "      <td>13</td>\n",
       "      <td>13</td>\n",
       "      <td>49716680</td>\n",
       "      <td>49716680</td>\n",
       "    </tr>\n",
       "    <tr>\n",
       "      <th>14</th>\n",
       "      <td>14</td>\n",
       "      <td>14</td>\n",
       "      <td>49716879</td>\n",
       "      <td>49716879</td>\n",
       "    </tr>\n",
       "    <tr>\n",
       "      <th>15</th>\n",
       "      <td>15</td>\n",
       "      <td>15</td>\n",
       "      <td>49716918</td>\n",
       "      <td>49716918</td>\n",
       "    </tr>\n",
       "    <tr>\n",
       "      <th>16</th>\n",
       "      <td>16</td>\n",
       "      <td>16</td>\n",
       "      <td>49716928</td>\n",
       "      <td>49716928</td>\n",
       "    </tr>\n",
       "    <tr>\n",
       "      <th>17</th>\n",
       "      <td>17</td>\n",
       "      <td>17</td>\n",
       "      <td>49716962</td>\n",
       "      <td>49716962</td>\n",
       "    </tr>\n",
       "    <tr>\n",
       "      <th>18</th>\n",
       "      <td>18</td>\n",
       "      <td>18</td>\n",
       "      <td>49717245</td>\n",
       "      <td>49717245</td>\n",
       "    </tr>\n",
       "    <tr>\n",
       "      <th>19</th>\n",
       "      <td>19</td>\n",
       "      <td>19</td>\n",
       "      <td>49717467</td>\n",
       "      <td>49717467</td>\n",
       "    </tr>\n",
       "    <tr>\n",
       "      <th>20</th>\n",
       "      <td>20</td>\n",
       "      <td>20</td>\n",
       "      <td>49717477</td>\n",
       "      <td>49717477</td>\n",
       "    </tr>\n",
       "    <tr>\n",
       "      <th>21</th>\n",
       "      <td>21</td>\n",
       "      <td>21</td>\n",
       "      <td>49717954</td>\n",
       "      <td>49717954</td>\n",
       "    </tr>\n",
       "    <tr>\n",
       "      <th>22</th>\n",
       "      <td>22</td>\n",
       "      <td>22</td>\n",
       "      <td>49718053</td>\n",
       "      <td>49718053</td>\n",
       "    </tr>\n",
       "    <tr>\n",
       "      <th>23</th>\n",
       "      <td>23</td>\n",
       "      <td>23</td>\n",
       "      <td>49718358</td>\n",
       "      <td>49718358</td>\n",
       "    </tr>\n",
       "    <tr>\n",
       "      <th>24</th>\n",
       "      <td>24</td>\n",
       "      <td>24</td>\n",
       "      <td>49718406</td>\n",
       "      <td>49718406</td>\n",
       "    </tr>\n",
       "    <tr>\n",
       "      <th>25</th>\n",
       "      <td>25</td>\n",
       "      <td>25</td>\n",
       "      <td>49718512</td>\n",
       "      <td>49718512</td>\n",
       "    </tr>\n",
       "    <tr>\n",
       "      <th>26</th>\n",
       "      <td>26</td>\n",
       "      <td>26</td>\n",
       "      <td>49718519</td>\n",
       "      <td>49718519</td>\n",
       "    </tr>\n",
       "    <tr>\n",
       "      <th>27</th>\n",
       "      <td>27</td>\n",
       "      <td>27</td>\n",
       "      <td>49718721</td>\n",
       "      <td>49718721</td>\n",
       "    </tr>\n",
       "    <tr>\n",
       "      <th>28</th>\n",
       "      <td>28</td>\n",
       "      <td>28</td>\n",
       "      <td>49718775</td>\n",
       "      <td>49718775</td>\n",
       "    </tr>\n",
       "    <tr>\n",
       "      <th>29</th>\n",
       "      <td>29</td>\n",
       "      <td>29</td>\n",
       "      <td>49718816</td>\n",
       "      <td>49718816</td>\n",
       "    </tr>\n",
       "    <tr>\n",
       "      <th>...</th>\n",
       "      <td>...</td>\n",
       "      <td>...</td>\n",
       "      <td>...</td>\n",
       "      <td>...</td>\n",
       "    </tr>\n",
       "    <tr>\n",
       "      <th>9930</th>\n",
       "      <td>9970</td>\n",
       "      <td>9970</td>\n",
       "      <td>737982144</td>\n",
       "      <td>737982144</td>\n",
       "    </tr>\n",
       "    <tr>\n",
       "      <th>9931</th>\n",
       "      <td>9971</td>\n",
       "      <td>9971</td>\n",
       "      <td>737988049</td>\n",
       "      <td>737988049</td>\n",
       "    </tr>\n",
       "    <tr>\n",
       "      <th>9932</th>\n",
       "      <td>9972</td>\n",
       "      <td>9972</td>\n",
       "      <td>737988050</td>\n",
       "      <td>737988050</td>\n",
       "    </tr>\n",
       "    <tr>\n",
       "      <th>9933</th>\n",
       "      <td>9973</td>\n",
       "      <td>9973</td>\n",
       "      <td>738001067</td>\n",
       "      <td>738001067</td>\n",
       "    </tr>\n",
       "    <tr>\n",
       "      <th>9934</th>\n",
       "      <td>9974</td>\n",
       "      <td>9974</td>\n",
       "      <td>738182031</td>\n",
       "      <td>738182031</td>\n",
       "    </tr>\n",
       "    <tr>\n",
       "      <th>9935</th>\n",
       "      <td>9975</td>\n",
       "      <td>9975</td>\n",
       "      <td>738189318</td>\n",
       "      <td>738189318</td>\n",
       "    </tr>\n",
       "    <tr>\n",
       "      <th>9936</th>\n",
       "      <td>9976</td>\n",
       "      <td>9976</td>\n",
       "      <td>738189321</td>\n",
       "      <td>738189321</td>\n",
       "    </tr>\n",
       "    <tr>\n",
       "      <th>9937</th>\n",
       "      <td>9977</td>\n",
       "      <td>9977</td>\n",
       "      <td>738189326</td>\n",
       "      <td>738189326</td>\n",
       "    </tr>\n",
       "    <tr>\n",
       "      <th>9938</th>\n",
       "      <td>9978</td>\n",
       "      <td>9978</td>\n",
       "      <td>738189327</td>\n",
       "      <td>738189327</td>\n",
       "    </tr>\n",
       "    <tr>\n",
       "      <th>9939</th>\n",
       "      <td>9979</td>\n",
       "      <td>9979</td>\n",
       "      <td>738189329</td>\n",
       "      <td>738189329</td>\n",
       "    </tr>\n",
       "    <tr>\n",
       "      <th>9940</th>\n",
       "      <td>9980</td>\n",
       "      <td>9980</td>\n",
       "      <td>738189330</td>\n",
       "      <td>738189330</td>\n",
       "    </tr>\n",
       "    <tr>\n",
       "      <th>9941</th>\n",
       "      <td>9981</td>\n",
       "      <td>9981</td>\n",
       "      <td>738189331</td>\n",
       "      <td>738189331</td>\n",
       "    </tr>\n",
       "    <tr>\n",
       "      <th>9942</th>\n",
       "      <td>9982</td>\n",
       "      <td>9982</td>\n",
       "      <td>738189333</td>\n",
       "      <td>738189333</td>\n",
       "    </tr>\n",
       "    <tr>\n",
       "      <th>9943</th>\n",
       "      <td>9983</td>\n",
       "      <td>9983</td>\n",
       "      <td>738189341</td>\n",
       "      <td>738189341</td>\n",
       "    </tr>\n",
       "    <tr>\n",
       "      <th>9944</th>\n",
       "      <td>9984</td>\n",
       "      <td>9984</td>\n",
       "      <td>738189342</td>\n",
       "      <td>738189342</td>\n",
       "    </tr>\n",
       "    <tr>\n",
       "      <th>9945</th>\n",
       "      <td>9985</td>\n",
       "      <td>9985</td>\n",
       "      <td>738189343</td>\n",
       "      <td>738189343</td>\n",
       "    </tr>\n",
       "    <tr>\n",
       "      <th>9946</th>\n",
       "      <td>9986</td>\n",
       "      <td>9986</td>\n",
       "      <td>738189352</td>\n",
       "      <td>738189352</td>\n",
       "    </tr>\n",
       "    <tr>\n",
       "      <th>9947</th>\n",
       "      <td>9987</td>\n",
       "      <td>9987</td>\n",
       "      <td>738189358</td>\n",
       "      <td>738189358</td>\n",
       "    </tr>\n",
       "    <tr>\n",
       "      <th>9948</th>\n",
       "      <td>9988</td>\n",
       "      <td>9988</td>\n",
       "      <td>738189359</td>\n",
       "      <td>738189359</td>\n",
       "    </tr>\n",
       "    <tr>\n",
       "      <th>9949</th>\n",
       "      <td>9989</td>\n",
       "      <td>9989</td>\n",
       "      <td>738189360</td>\n",
       "      <td>738189360</td>\n",
       "    </tr>\n",
       "    <tr>\n",
       "      <th>9950</th>\n",
       "      <td>9990</td>\n",
       "      <td>9990</td>\n",
       "      <td>738189362</td>\n",
       "      <td>738189362</td>\n",
       "    </tr>\n",
       "    <tr>\n",
       "      <th>9951</th>\n",
       "      <td>9991</td>\n",
       "      <td>9991</td>\n",
       "      <td>738189363</td>\n",
       "      <td>738189363</td>\n",
       "    </tr>\n",
       "    <tr>\n",
       "      <th>9952</th>\n",
       "      <td>9992</td>\n",
       "      <td>9992</td>\n",
       "      <td>738189364</td>\n",
       "      <td>738189364</td>\n",
       "    </tr>\n",
       "    <tr>\n",
       "      <th>9953</th>\n",
       "      <td>9993</td>\n",
       "      <td>9993</td>\n",
       "      <td>738189367</td>\n",
       "      <td>738189367</td>\n",
       "    </tr>\n",
       "    <tr>\n",
       "      <th>9954</th>\n",
       "      <td>9994</td>\n",
       "      <td>9994</td>\n",
       "      <td>738189368</td>\n",
       "      <td>738189368</td>\n",
       "    </tr>\n",
       "    <tr>\n",
       "      <th>9955</th>\n",
       "      <td>9995</td>\n",
       "      <td>9995</td>\n",
       "      <td>738189371</td>\n",
       "      <td>738189371</td>\n",
       "    </tr>\n",
       "    <tr>\n",
       "      <th>9956</th>\n",
       "      <td>9996</td>\n",
       "      <td>9996</td>\n",
       "      <td>738189372</td>\n",
       "      <td>738189372</td>\n",
       "    </tr>\n",
       "    <tr>\n",
       "      <th>9957</th>\n",
       "      <td>9997</td>\n",
       "      <td>9997</td>\n",
       "      <td>738189374</td>\n",
       "      <td>738189374</td>\n",
       "    </tr>\n",
       "    <tr>\n",
       "      <th>9958</th>\n",
       "      <td>9998</td>\n",
       "      <td>9998</td>\n",
       "      <td>738189375</td>\n",
       "      <td>738189375</td>\n",
       "    </tr>\n",
       "    <tr>\n",
       "      <th>9959</th>\n",
       "      <td>9999</td>\n",
       "      <td>9999</td>\n",
       "      <td>738189384</td>\n",
       "      <td>738189384</td>\n",
       "    </tr>\n",
       "  </tbody>\n",
       "</table>\n",
       "<p>9960 rows × 4 columns</p>\n",
       "</div>"
      ],
      "text/plain": [
       "      child  parent       id_x       id_y\n",
       "0         0       0   30066952   30066952\n",
       "1         1       1   30066953   30066953\n",
       "2         2       2   30066954   30066954\n",
       "3         3       3   30066955   30066955\n",
       "4         4       4   49715946   49715946\n",
       "5         5       5   49715951   49715951\n",
       "6         6       6   49715974   49715974\n",
       "7         7       7   49716326   49716326\n",
       "8         8       8   49716545   49716545\n",
       "9         9       9   49716602   49716602\n",
       "10       10      10   49716610   49716610\n",
       "11       11      11   49716662   49716662\n",
       "12       12      12   49716664   49716664\n",
       "13       13      13   49716680   49716680\n",
       "14       14      14   49716879   49716879\n",
       "15       15      15   49716918   49716918\n",
       "16       16      16   49716928   49716928\n",
       "17       17      17   49716962   49716962\n",
       "18       18      18   49717245   49717245\n",
       "19       19      19   49717467   49717467\n",
       "20       20      20   49717477   49717477\n",
       "21       21      21   49717954   49717954\n",
       "22       22      22   49718053   49718053\n",
       "23       23      23   49718358   49718358\n",
       "24       24      24   49718406   49718406\n",
       "25       25      25   49718512   49718512\n",
       "26       26      26   49718519   49718519\n",
       "27       27      27   49718721   49718721\n",
       "28       28      28   49718775   49718775\n",
       "29       29      29   49718816   49718816\n",
       "...     ...     ...        ...        ...\n",
       "9930   9970    9970  737982144  737982144\n",
       "9931   9971    9971  737988049  737988049\n",
       "9932   9972    9972  737988050  737988050\n",
       "9933   9973    9973  738001067  738001067\n",
       "9934   9974    9974  738182031  738182031\n",
       "9935   9975    9975  738189318  738189318\n",
       "9936   9976    9976  738189321  738189321\n",
       "9937   9977    9977  738189326  738189326\n",
       "9938   9978    9978  738189327  738189327\n",
       "9939   9979    9979  738189329  738189329\n",
       "9940   9980    9980  738189330  738189330\n",
       "9941   9981    9981  738189331  738189331\n",
       "9942   9982    9982  738189333  738189333\n",
       "9943   9983    9983  738189341  738189341\n",
       "9944   9984    9984  738189342  738189342\n",
       "9945   9985    9985  738189343  738189343\n",
       "9946   9986    9986  738189352  738189352\n",
       "9947   9987    9987  738189358  738189358\n",
       "9948   9988    9988  738189359  738189359\n",
       "9949   9989    9989  738189360  738189360\n",
       "9950   9990    9990  738189362  738189362\n",
       "9951   9991    9991  738189363  738189363\n",
       "9952   9992    9992  738189364  738189364\n",
       "9953   9993    9993  738189367  738189367\n",
       "9954   9994    9994  738189368  738189368\n",
       "9955   9995    9995  738189371  738189371\n",
       "9956   9996    9996  738189372  738189372\n",
       "9957   9997    9997  738189374  738189374\n",
       "9958   9998    9998  738189375  738189375\n",
       "9959   9999    9999  738189384  738189384\n",
       "\n",
       "[9960 rows x 4 columns]"
      ]
     },
     "execution_count": 278,
     "metadata": {},
     "output_type": "execute_result"
    }
   ],
   "source": [
    "temp_df = messy_tree_df.merge(gpdf[['id']], how='left', left_on='child', right_index=True).merge(gpdf[['id']], how='left',left_on='parent', right_index=True)\n",
    "temp_df"
   ]
  },
  {
   "cell_type": "code",
   "execution_count": 279,
   "metadata": {
    "collapsed": false
   },
   "outputs": [
    {
     "data": {
      "text/html": [
       "<div>\n",
       "<table border=\"1\" class=\"dataframe\">\n",
       "  <thead>\n",
       "    <tr style=\"text-align: right;\">\n",
       "      <th></th>\n",
       "      <th>id</th>\n",
       "      <th>type</th>\n",
       "      <th>geometry</th>\n",
       "    </tr>\n",
       "  </thead>\n",
       "  <tbody>\n",
       "    <tr>\n",
       "      <th>5411</th>\n",
       "      <td>358955201</td>\n",
       "      <td>Node</td>\n",
       "      <td>POINT (-77.0920599 38.9362035)</td>\n",
       "    </tr>\n",
       "  </tbody>\n",
       "</table>\n",
       "</div>"
      ],
      "text/plain": [
       "             id  type                        geometry\n",
       "5411  358955201  Node  POINT (-77.0920599 38.9362035)"
      ]
     },
     "execution_count": 279,
     "metadata": {},
     "output_type": "execute_result"
    }
   ],
   "source": [
    "merged_gpdf[merged_gpdf.id.isin([358960137, 358960140, 358960142, 358955201])]"
   ]
  },
  {
   "cell_type": "code",
   "execution_count": 280,
   "metadata": {
    "collapsed": false
   },
   "outputs": [
    {
     "data": {
      "text/plain": [
       "(9960, 3)"
      ]
     },
     "execution_count": 280,
     "metadata": {},
     "output_type": "execute_result"
    }
   ],
   "source": [
    "merged_gpdf.shape"
   ]
  },
  {
   "cell_type": "code",
   "execution_count": 281,
   "metadata": {
    "collapsed": false,
    "scrolled": true
   },
   "outputs": [
    {
     "data": {
      "text/plain": [
       "2047    1\n",
       "5424    1\n",
       "1338    1\n",
       "7481    1\n",
       "5432    1\n",
       "9526    1\n",
       "3379    1\n",
       "1330    1\n",
       "7473    1\n",
       "9518    1\n",
       "5408    1\n",
       "3371    1\n",
       "1322    1\n",
       "7465    1\n",
       "5416    1\n",
       "9510    1\n",
       "3363    1\n",
       "1314    1\n",
       "3387    1\n",
       "9534    1\n",
       "5440    1\n",
       "7489    1\n",
       "7513    1\n",
       "5464    1\n",
       "9558    1\n",
       "3411    1\n",
       "1362    1\n",
       "7505    1\n",
       "5456    1\n",
       "9550    1\n",
       "       ..\n",
       "6790    1\n",
       "645     1\n",
       "2692    1\n",
       "8833    1\n",
       "4735    1\n",
       "6782    1\n",
       "637     1\n",
       "2684    1\n",
       "8825    1\n",
       "4727    1\n",
       "4751    1\n",
       "2708    1\n",
       "6830    1\n",
       "661     1\n",
       "685     1\n",
       "2732    1\n",
       "8873    1\n",
       "4775    1\n",
       "6822    1\n",
       "677     1\n",
       "2724    1\n",
       "8865    1\n",
       "4767    1\n",
       "6814    1\n",
       "669     1\n",
       "2716    1\n",
       "8857    1\n",
       "4759    1\n",
       "6806    1\n",
       "0       1\n",
       "dtype: int64"
      ]
     },
     "execution_count": 281,
     "metadata": {},
     "output_type": "execute_result"
    }
   ],
   "source": [
    "messy_tree_df.parent.value_counts()"
   ]
  }
 ],
 "metadata": {
  "kernelspec": {
   "display_name": "Python 2",
   "language": "python",
   "name": "python2"
  },
  "language_info": {
   "codemirror_mode": {
    "name": "ipython",
    "version": 2
   },
   "file_extension": ".py",
   "mimetype": "text/x-python",
   "name": "python",
   "nbconvert_exporter": "python",
   "pygments_lexer": "ipython2",
   "version": "2.7.11"
  }
 },
 "nbformat": 4,
 "nbformat_minor": 0
}
