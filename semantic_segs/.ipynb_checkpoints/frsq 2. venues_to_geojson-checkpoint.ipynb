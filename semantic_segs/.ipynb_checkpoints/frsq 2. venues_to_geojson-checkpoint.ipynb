{
 "cells": [
  {
   "cell_type": "markdown",
   "metadata": {},
   "source": [
    "From VENUES_DIR to EXTRACTED_VENUES"
   ]
  },
  {
   "cell_type": "code",
   "execution_count": 13,
   "metadata": {
    "collapsed": true
   },
   "outputs": [],
   "source": [
    "FRSQ_OUTPUT_PATH ='../data/output/4square/'\n",
    "VENUES_DIR = FRSQ_OUTPUT_PATH+'raw_venues/'\n",
    "\n",
    "EXTRACTED_VENUES = FRSQ_OUTPUT_PATH+'frsq_extracted_venues.geojson'\n",
    "import glob\n",
    "import csv\n",
    "import json\n",
    "from ast import literal_eval\n",
    "import json\n",
    "import geopandas as gp"
   ]
  },
  {
   "cell_type": "code",
   "execution_count": 4,
   "metadata": {
    "collapsed": false,
    "scrolled": true
   },
   "outputs": [
    {
     "name": "stdout",
     "output_type": "stream",
     "text": [
      "../data/output/4square\\10000.txt\n",
      "../data/output/4square\\12000.txt\n",
      "../data/output/4square\\14000.txt\n",
      "../data/output/4square\\16000.txt\n",
      "../data/output/4square\\18000.txt\n",
      "../data/output/4square\\2000.txt\n",
      "../data/output/4square\\20000.txt\n",
      "../data/output/4square\\21481.txt\n",
      "../data/output/4square\\4000.txt\n",
      "../data/output/4square\\6000.txt\n",
      "../data/output/4square\\8000.txt\n"
     ]
    },
    {
     "data": {
      "text/plain": [
       "43004"
      ]
     },
     "execution_count": 4,
     "metadata": {},
     "output_type": "execute_result"
    }
   ],
   "source": [
    "import pandas as pd\n",
    "from pandas.io.json import json_normalize\n",
    "from IPython.display import display\n",
    "TARGET_KEYS = ['id', 'name', 'location', 'categories', 'verified', 'stats']\n",
    "all_venues = []\n",
    "\n",
    "for fn in glob.glob(VENUES_DIR+'*.txt'):\n",
    "    print fn\n",
    "    with open(fn) as f:\n",
    "        for line in f:\n",
    "            swne, vcnt, data = line.split('\\t')\n",
    "            data = literal_eval(data)\n",
    "            venues = data['venues']\n",
    "            all_venues.extend(venues)\n",
    "\n",
    "len(all_venues)"
   ]
  },
  {
   "cell_type": "code",
   "execution_count": 5,
   "metadata": {
    "collapsed": true
   },
   "outputs": [],
   "source": [
    "df_venues = json_normalize(all_venues)"
   ]
  },
  {
   "cell_type": "code",
   "execution_count": 6,
   "metadata": {
    "collapsed": true
   },
   "outputs": [],
   "source": [
    "import shapely.geometry as shpgeo"
   ]
  },
  {
   "cell_type": "code",
   "execution_count": 7,
   "metadata": {
    "collapsed": false,
    "scrolled": true
   },
   "outputs": [],
   "source": [
    "df_venues['categories.name'] = df_venues.categories.apply(lambda x: x[0]['name'] if x else '')\n",
    "df_venues['categories.id'] = df_venues.categories.apply(lambda x: x[0]['id'] if x else '')\n",
    "df_venues['geometry'] = df_venues.apply(lambda x: shpgeo.Point(x['location.lng'], x['location.lat']), axis=1)"
   ]
  },
  {
   "cell_type": "code",
   "execution_count": 8,
   "metadata": {
    "collapsed": false,
    "scrolled": true
   },
   "outputs": [
    {
     "data": {
      "text/plain": [
       "True    2\n",
       "dtype: int64"
      ]
     },
     "execution_count": 8,
     "metadata": {},
     "output_type": "execute_result"
    }
   ],
   "source": [
    "df_venues['location.isFuzzed'].value_counts()"
   ]
  },
  {
   "cell_type": "code",
   "execution_count": 9,
   "metadata": {
    "collapsed": false,
    "scrolled": true
   },
   "outputs": [
    {
     "name": "stdout",
     "output_type": "stream",
     "text": [
      "display    42793\n",
      "0            211\n",
      "dtype: int64\n"
     ]
    },
    {
     "data": {
      "text/plain": [
       "1    42793\n",
       "0      211\n",
       "dtype: int64"
      ]
     },
     "execution_count": 9,
     "metadata": {},
     "output_type": "execute_result"
    }
   ],
   "source": [
    "print df_venues['location.labeledLatLngs'].apply(lambda x: x[0]['label'] if type(x)!=float else 0).value_counts()\n",
    "df_venues.apply(lambda x: (x['location.labeledLatLngs'][0]['lng']/x['location.lng'] )\n",
    "                            if type(x['location.labeledLatLngs'])!=float else 0, axis=1).value_counts()"
   ]
  },
  {
   "cell_type": "code",
   "execution_count": 10,
   "metadata": {
    "collapsed": false
   },
   "outputs": [
    {
     "data": {
      "text/plain": [
       "(34731, 7)"
      ]
     },
     "execution_count": 10,
     "metadata": {},
     "output_type": "execute_result"
    }
   ],
   "source": [
    "columns = ['id', 'geometry', 'name', 'stats.checkinsCount', 'stats.tipCount', 'stats.usersCount','categories.name']\n",
    "df_no_dup = df_venues[columns].drop_duplicates('id').copy()\n",
    "df_no_dup.columns = ['id', 'geometry', 'name', 'checkins', 'tips', 'users','category']\n",
    "df_no_dup.shape"
   ]
  },
  {
   "cell_type": "code",
   "execution_count": 14,
   "metadata": {
    "collapsed": false
   },
   "outputs": [],
   "source": [
    "dc_poly_path = '../data/dc_polygon.geojson'\n",
    "dc_poly_gpdf = gp.read_file(dc_poly_path)\n",
    "dc_poly = dc_poly_gpdf.geometry.values[0]"
   ]
  },
  {
   "cell_type": "code",
   "execution_count": 16,
   "metadata": {
    "collapsed": false
   },
   "outputs": [
    {
     "name": "stdout",
     "output_type": "stream",
     "text": [
      "True     34060\n",
      "False      671\n",
      "dtype: int64\n"
     ]
    }
   ],
   "source": [
    "print df_no_dup.geometry.apply(lambda x: x.intersects(dc_poly)).value_counts()\n",
    "df_no_dup_in_dc = df_no_dup[df_no_dup.geometry.apply(lambda x: x.intersects(dc_poly))].copy()"
   ]
  },
  {
   "cell_type": "code",
   "execution_count": 17,
   "metadata": {
    "collapsed": false
   },
   "outputs": [],
   "source": [
    "import geopandas as gp\n",
    "with open(EXTRACTED_VENUES, 'w') as f:\n",
    "    f.write(gp.GeoDataFrame(df_no_dup_in_dc).to_json())"
   ]
  },
  {
   "cell_type": "code",
   "execution_count": null,
   "metadata": {
    "collapsed": true
   },
   "outputs": [],
   "source": []
  }
 ],
 "metadata": {
  "kernelspec": {
   "display_name": "Python 2",
   "language": "python",
   "name": "python2"
  },
  "language_info": {
   "codemirror_mode": {
    "name": "ipython",
    "version": 2
   },
   "file_extension": ".py",
   "mimetype": "text/x-python",
   "name": "python",
   "nbconvert_exporter": "python",
   "pygments_lexer": "ipython2",
   "version": "2.7.11"
  }
 },
 "nbformat": 4,
 "nbformat_minor": 0
}
