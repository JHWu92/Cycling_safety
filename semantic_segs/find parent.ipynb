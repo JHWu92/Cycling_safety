{
 "cells": [
  {
   "cell_type": "code",
   "execution_count": 34,
   "metadata": {
    "collapsed": true
   },
   "outputs": [],
   "source": [
    "\n",
    "def find_tree(messy_tree_df, parent_node='root', lv=1):\n",
    "    \"\"\"\n",
    "    the nodes which become parent-less \n",
    "    after we remove the top level parent, \n",
    "    are the children of the removed parent\n",
    "    \"\"\"\n",
    "    import pandas as pd\n",
    "    new_tree = []\n",
    "    all_nodes = set(messy_tree_df.child)\n",
    "    nodes_have_true_parent = set(messy_tree_df[messy_tree_df.child!=messy_tree_df.parent].child)\n",
    "    nodes_without_parent = all_nodes - nodes_have_true_parent\n",
    "    for child in nodes_without_parent:\n",
    "        new_tree.append((child,parent_node,lv))\n",
    "    remaining_nodes = messy_tree_df[~messy_tree_df.child.isin(nodes_without_parent)]\n",
    "    for node in list(nodes_without_parent):\n",
    "        # remove the inode\n",
    "        sub_tree = find_tree(remaining_nodes[remaining_nodes.parent!=node],node,lv+1)\n",
    "        new_tree.extend(sub_tree)\n",
    "    if lv!=1:\n",
    "        return new_tree\n",
    "    return pd.DataFrame(new_tree,columns=['child','parent','lv'])\n"
   ]
  },
  {
   "cell_type": "code",
   "execution_count": 40,
   "metadata": {
    "collapsed": false
   },
   "outputs": [],
   "source": [
    "tree = [(8,8),(9,9),(10,10),(11,11),\n",
    "    (6,7),    (1,6),    (2,6),    (3,6),    (0,6),    (4,6),    \n",
    "    (7,7),    (6,6),    (1,1),    (2,2),    (3,3),    (0,0),    (4,4),      (5,5),  \n",
    "    (1,7),    (2,7),    (3,7),    (0,7),    (4,7),    (5,4),       (5,6),       (5,7),    \n",
    "]\n",
    "import pandas as pd\n",
    "tree = pd.DataFrame(tree, columns=['child','parent'])\n"
   ]
  },
  {
   "cell_type": "code",
   "execution_count": 41,
   "metadata": {
    "collapsed": false,
    "scrolled": true
   },
   "outputs": [
    {
     "data": {
      "text/html": [
       "<div>\n",
       "<table border=\"1\" class=\"dataframe\">\n",
       "  <thead>\n",
       "    <tr style=\"text-align: right;\">\n",
       "      <th></th>\n",
       "      <th>child</th>\n",
       "      <th>parent</th>\n",
       "      <th>lv</th>\n",
       "    </tr>\n",
       "  </thead>\n",
       "  <tbody>\n",
       "    <tr>\n",
       "      <th>0</th>\n",
       "      <td>8</td>\n",
       "      <td>root</td>\n",
       "      <td>1</td>\n",
       "    </tr>\n",
       "    <tr>\n",
       "      <th>1</th>\n",
       "      <td>9</td>\n",
       "      <td>root</td>\n",
       "      <td>1</td>\n",
       "    </tr>\n",
       "    <tr>\n",
       "      <th>2</th>\n",
       "      <td>10</td>\n",
       "      <td>root</td>\n",
       "      <td>1</td>\n",
       "    </tr>\n",
       "    <tr>\n",
       "      <th>3</th>\n",
       "      <td>11</td>\n",
       "      <td>root</td>\n",
       "      <td>1</td>\n",
       "    </tr>\n",
       "    <tr>\n",
       "      <th>4</th>\n",
       "      <td>7</td>\n",
       "      <td>root</td>\n",
       "      <td>1</td>\n",
       "    </tr>\n",
       "    <tr>\n",
       "      <th>5</th>\n",
       "      <td>6</td>\n",
       "      <td>7</td>\n",
       "      <td>2</td>\n",
       "    </tr>\n",
       "    <tr>\n",
       "      <th>6</th>\n",
       "      <td>0</td>\n",
       "      <td>6</td>\n",
       "      <td>3</td>\n",
       "    </tr>\n",
       "    <tr>\n",
       "      <th>7</th>\n",
       "      <td>1</td>\n",
       "      <td>6</td>\n",
       "      <td>3</td>\n",
       "    </tr>\n",
       "    <tr>\n",
       "      <th>8</th>\n",
       "      <td>2</td>\n",
       "      <td>6</td>\n",
       "      <td>3</td>\n",
       "    </tr>\n",
       "    <tr>\n",
       "      <th>9</th>\n",
       "      <td>3</td>\n",
       "      <td>6</td>\n",
       "      <td>3</td>\n",
       "    </tr>\n",
       "    <tr>\n",
       "      <th>10</th>\n",
       "      <td>4</td>\n",
       "      <td>6</td>\n",
       "      <td>3</td>\n",
       "    </tr>\n",
       "    <tr>\n",
       "      <th>11</th>\n",
       "      <td>5</td>\n",
       "      <td>4</td>\n",
       "      <td>4</td>\n",
       "    </tr>\n",
       "  </tbody>\n",
       "</table>\n",
       "</div>"
      ],
      "text/plain": [
       "    child parent  lv\n",
       "0       8   root   1\n",
       "1       9   root   1\n",
       "2      10   root   1\n",
       "3      11   root   1\n",
       "4       7   root   1\n",
       "5       6      7   2\n",
       "6       0      6   3\n",
       "7       1      6   3\n",
       "8       2      6   3\n",
       "9       3      6   3\n",
       "10      4      6   3\n",
       "11      5      4   4"
      ]
     },
     "execution_count": 41,
     "metadata": {},
     "output_type": "execute_result"
    }
   ],
   "source": [
    "find_tree(tree)"
   ]
  },
  {
   "cell_type": "code",
   "execution_count": 42,
   "metadata": {
    "collapsed": false
   },
   "outputs": [
    {
     "data": {
      "text/html": [
       "<div>\n",
       "<table border=\"1\" class=\"dataframe\">\n",
       "  <thead>\n",
       "    <tr style=\"text-align: right;\">\n",
       "      <th></th>\n",
       "      <th>child</th>\n",
       "      <th>parent</th>\n",
       "      <th>lv</th>\n",
       "    </tr>\n",
       "  </thead>\n",
       "  <tbody>\n",
       "    <tr>\n",
       "      <th>7</th>\n",
       "      <td>7</td>\n",
       "      <td>root</td>\n",
       "      <td>1</td>\n",
       "    </tr>\n",
       "    <tr>\n",
       "      <th>8</th>\n",
       "      <td>8</td>\n",
       "      <td>root</td>\n",
       "      <td>1</td>\n",
       "    </tr>\n",
       "    <tr>\n",
       "      <th>9</th>\n",
       "      <td>9</td>\n",
       "      <td>root</td>\n",
       "      <td>1</td>\n",
       "    </tr>\n",
       "    <tr>\n",
       "      <th>10</th>\n",
       "      <td>10</td>\n",
       "      <td>root</td>\n",
       "      <td>1</td>\n",
       "    </tr>\n",
       "    <tr>\n",
       "      <th>11</th>\n",
       "      <td>11</td>\n",
       "      <td>root</td>\n",
       "      <td>1</td>\n",
       "    </tr>\n",
       "    <tr>\n",
       "      <th>6</th>\n",
       "      <td>6</td>\n",
       "      <td>7</td>\n",
       "      <td>2</td>\n",
       "    </tr>\n",
       "    <tr>\n",
       "      <th>0</th>\n",
       "      <td>0</td>\n",
       "      <td>6</td>\n",
       "      <td>3</td>\n",
       "    </tr>\n",
       "    <tr>\n",
       "      <th>1</th>\n",
       "      <td>1</td>\n",
       "      <td>6</td>\n",
       "      <td>3</td>\n",
       "    </tr>\n",
       "    <tr>\n",
       "      <th>2</th>\n",
       "      <td>2</td>\n",
       "      <td>6</td>\n",
       "      <td>3</td>\n",
       "    </tr>\n",
       "    <tr>\n",
       "      <th>3</th>\n",
       "      <td>3</td>\n",
       "      <td>6</td>\n",
       "      <td>3</td>\n",
       "    </tr>\n",
       "    <tr>\n",
       "      <th>4</th>\n",
       "      <td>4</td>\n",
       "      <td>6</td>\n",
       "      <td>3</td>\n",
       "    </tr>\n",
       "    <tr>\n",
       "      <th>5</th>\n",
       "      <td>5</td>\n",
       "      <td>4</td>\n",
       "      <td>4</td>\n",
       "    </tr>\n",
       "  </tbody>\n",
       "</table>\n",
       "</div>"
      ],
      "text/plain": [
       "    child parent  lv\n",
       "7       7   root   1\n",
       "8       8   root   1\n",
       "9       9   root   1\n",
       "10     10   root   1\n",
       "11     11   root   1\n",
       "6       6      7   2\n",
       "0       0      6   3\n",
       "1       1      6   3\n",
       "2       2      6   3\n",
       "3       3      6   3\n",
       "4       4      6   3\n",
       "5       5      4   4"
      ]
     },
     "execution_count": 42,
     "metadata": {},
     "output_type": "execute_result"
    }
   ],
   "source": [
    "def find_direct_parent(tree, node, direct_parents):\n",
    "    if node in direct_parents:\n",
    "        return direct_parents[node]\n",
    "    node_parents = tree[tree.child==node].parent.values\n",
    "    if len(node_parents)==0:\n",
    "        direct_parents[node]=(node, 'root',1)\n",
    "        return direct_parents[node]\n",
    "    node_parents_lv = [find_direct_parent(tree, p, direct_parents)[2] for p in node_parents]\n",
    "    max_lv = max(node_parents_lv)\n",
    "    direct_parent = node_parents[node_parents_lv.index(max_lv)]\n",
    "    direct_parents[node] = (node, direct_parent, max_lv+1)\n",
    "    return (node, direct_parent, max_lv+1)\n",
    "\n",
    "def find_tree2(messy_tree_df):\n",
    "    direct_parents={}\n",
    "    all_nodes = set(messy_tree_df.child)\n",
    "    messy_tree_df = messy_tree_df[messy_tree_df.child!=messy_tree_df.parent].copy()\n",
    "    new_tree = []\n",
    "    for node in all_nodes:\n",
    "        x = find_direct_parent(messy_tree_df, node, direct_parents)\n",
    "        new_tree.append(x)\n",
    "    return pd.DataFrame(new_tree,columns=['child','parent','lv']).sort('lv')\n",
    "\n"
   ]
  },
  {
   "cell_type": "code",
   "execution_count": 43,
   "metadata": {
    "collapsed": false
   },
   "outputs": [
    {
     "name": "stdout",
     "output_type": "stream",
     "text": [
      "100 loops, best of 3: 13.9 ms per loop\n",
      "100 loops, best of 3: 5.95 ms per loop\n"
     ]
    }
   ],
   "source": [
    "%timeit find_tree(tree)\n",
    "%timeit find_tree2(tree)"
   ]
  },
  {
   "cell_type": "code",
   "execution_count": 32,
   "metadata": {
    "collapsed": true
   },
   "outputs": [],
   "source": []
  },
  {
   "cell_type": "code",
   "execution_count": 31,
   "metadata": {
    "collapsed": false
   },
   "outputs": [
    {
     "data": {
      "text/plain": [
       "2"
      ]
     },
     "execution_count": 31,
     "metadata": {},
     "output_type": "execute_result"
    }
   ],
   "source": [
    "max([1,2,3])\n",
    "[1,2,3].index(3)"
   ]
  }
 ],
 "metadata": {
  "kernelspec": {
   "display_name": "Python 2",
   "language": "python",
   "name": "python2"
  },
  "language_info": {
   "codemirror_mode": {
    "name": "ipython",
    "version": 2
   },
   "file_extension": ".py",
   "mimetype": "text/x-python",
   "name": "python",
   "nbconvert_exporter": "python",
   "pygments_lexer": "ipython2",
   "version": "2.7.11"
  }
 },
 "nbformat": 4,
 "nbformat_minor": 0
}
