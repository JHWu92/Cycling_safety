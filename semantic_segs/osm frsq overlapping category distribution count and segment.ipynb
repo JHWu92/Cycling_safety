{
 "cells": [
  {
   "cell_type": "code",
   "execution_count": 1,
   "metadata": {
    "collapsed": true
   },
   "outputs": [],
   "source": [
    "from shapely.ops import cascaded_union\n",
    "from ast import literal_eval\n",
    "import pandas as pd\n",
    "import geopandas as gp\n",
    "data_dir = '../data/'\n",
    "osm_data_dir = data_dir + 'osm/'\n",
    "category_in_dc_path = osm_data_dir +'osm_category_in_dc.txt'\n",
    "\n",
    "FRSQ_DIR ='../data/frsq/'\n",
    "FRSQ_GRAPH_DIR = FRSQ_DIR+'graphs/'\n",
    "SUFFIX = '_nearby'\n",
    "frsq_venues_path = FRSQ_DIR+ 'frsq_extracted_venues{}.geojson'.format(SUFFIX)\n",
    "frsq_venues_mapped_path = FRSQ_DIR+ 'frsq_extracted_venues_mapped{}.geojson'.format(SUFFIX)"
   ]
  },
  {
   "cell_type": "code",
   "execution_count": 2,
   "metadata": {
    "collapsed": false
   },
   "outputs": [
    {
     "data": {
      "text/plain": [
       "((33003, 4), (35284, 4))"
      ]
     },
     "execution_count": 2,
     "metadata": {},
     "output_type": "execute_result"
    }
   ],
   "source": [
    "category_in_dc_df = pd.read_csv(category_in_dc_path,index_col=0)\n",
    "category_in_dc_df.category = category_in_dc_df.category.apply(eval)\n",
    "exclude = 'exclude'\n",
    "category_in_dc_df['has_category'] = category_in_dc_df.category.apply(lambda x: (len(x)>0) and (exclude not in x))\n",
    "# category_in_dc_df[category_in_dc_df.category==set(['exclude'])]\n",
    "category_in_dc_df[category_in_dc_df.has_category].shape,\\\n",
    "category_in_dc_df[category_in_dc_df.category.apply(len)>0].shape"
   ]
  },
  {
   "cell_type": "code",
   "execution_count": 3,
   "metadata": {
    "collapsed": false
   },
   "outputs": [
    {
     "name": "stdout",
     "output_type": "stream",
     "text": [
      "begin reading osm 2016-12-02 09:26:45.088000\n",
      "finish reading osm 2016-12-02 09:27:54.617000\n",
      "[\"len of <class 'osmread.elements.Way'> = 306332\", \"len of <class 'osmread.elements.Relation'> = 3427\", \"len of <class 'osmread.elements.Node'> = 2546260\"]\n"
     ]
    }
   ],
   "source": [
    "import sys, os\n",
    "sys.path.insert(0, os.path.abspath('../'))\n",
    "from utils.osm_helper import *\n",
    "import geopandas as gp\n",
    "from osmread import Node, Way, Relation\n",
    "import datetime\n",
    "import pandas as pd\n",
    "OSM_DC_BBOX_PATH = '../data/osm/osm_dc_bbox.osm'\n",
    "OSM_DC_BBOX = osm_container(OSM_DC_BBOX_PATH)\n",
    "print OSM_DC_BBOX.data_size()\n"
   ]
  },
  {
   "cell_type": "code",
   "execution_count": 4,
   "metadata": {
    "collapsed": false
   },
   "outputs": [
    {
     "data": {
      "text/plain": [
       "(11769, 20017, 1217)"
      ]
     },
     "execution_count": 4,
     "metadata": {},
     "output_type": "execute_result"
    }
   ],
   "source": [
    "def keep_obj(osm_objs, df,osmtype, osmtype_str):\n",
    "    osm_ids = set(df[(df.type==osmtype_str) & (df['has_category']==True)].id.values)\n",
    "    return [obj for obj in osm_objs.osm_objs[osmtype] if obj.id in osm_ids]\n",
    "\n",
    "nodes_with_category = keep_obj(OSM_DC_BBOX, category_in_dc_df,Node, 'Node')\n",
    "ways_with_category = keep_obj(OSM_DC_BBOX, category_in_dc_df,Way, 'Way')\n",
    "rltns_with_category = keep_obj(OSM_DC_BBOX, category_in_dc_df,Relation, 'Relation')\n",
    "len(nodes_with_category), len(ways_with_category), len(rltns_with_category)"
   ]
  },
  {
   "cell_type": "markdown",
   "metadata": {},
   "source": [
    "### transform foursquare, OSM data into geopandas"
   ]
  },
  {
   "cell_type": "code",
   "execution_count": 5,
   "metadata": {
    "collapsed": false
   },
   "outputs": [],
   "source": [
    "sys.path.insert(0, os.path.abspath('../../'))\n",
    "from Cycling_Safe.utils.osm.osm2shp import *"
   ]
  },
  {
   "cell_type": "markdown",
   "metadata": {},
   "source": [
    "#### resolve osm relation"
   ]
  },
  {
   "cell_type": "code",
   "execution_count": 6,
   "metadata": {
    "collapsed": false
   },
   "outputs": [],
   "source": [
    "rltn_pts = []\n",
    "rltn_lns = []\n",
    "\n",
    "for r in rltns_with_category:\n",
    "    shps = rltn2dictShp(OSM_DC_BBOX,r)\n",
    "    cnt = 0\n",
    "    pts = [(r.id,'{}_{}'.format(r.id,i+cnt), r.tags, pt, 'Relation') for i, pt in enumerate(shps['Point'])]\n",
    "    rltn_pts.extend(pts)\n",
    "    cnt+=len(shps['Point'])\n",
    "    lns = [(r.id,'{}_{}'.format(r.id,i+cnt), r.tags, pt, 'Relation') for i, pt in enumerate(shps['LineString'])]\n",
    "    rltn_lns.extend(lns)\n",
    "    cnt+=len(shps['LineString'])\n",
    "    polys = [(r.id,'{}_{}'.format(r.id,i+cnt), r.tags, pt, 'Relation') for i, pt in enumerate(shps['Polygon'])]\n",
    "    rltn_lns.extend(polys)\n",
    "    \n",
    "rltn_pts = pd.DataFrame(rltn_pts, columns=['id','id_keep','tag','geometry','type']).merge(category_in_dc_df)\n",
    "rltn_pts = rltn_pts.drop(['id','has_category'], axis=1)\n",
    "rltn_pts.columns = ['id','tag','geometry','type','category']\n",
    "\n",
    "rltn_lns = pd.DataFrame(rltn_lns, columns=['id','id_keep','tag','geometry','type']).merge(category_in_dc_df)\n",
    "rltn_lns = rltn_lns.drop(['id','has_category'], axis=1)\n",
    "rltn_lns.columns = ['id','tag','geometry','type','category']\n"
   ]
  },
  {
   "cell_type": "markdown",
   "metadata": {},
   "source": [
    "#### get pts"
   ]
  },
  {
   "cell_type": "code",
   "execution_count": 7,
   "metadata": {
    "collapsed": true
   },
   "outputs": [],
   "source": [
    "pts_bfr = 5"
   ]
  },
  {
   "cell_type": "code",
   "execution_count": 8,
   "metadata": {
    "collapsed": false
   },
   "outputs": [],
   "source": [
    "pts = [(nd.id, nd.tags, node2pt(nd),'Node') for nd in nodes_with_category]\n",
    "pts_gpdf = gp.GeoDataFrame(pts, columns=['id','tag', 'geometry','type'])\n",
    "\n",
    "pts_gpdf = pts_gpdf.merge(category_in_dc_df).drop('has_category',axis=1)\n",
    "pts_gpdf = pts_gpdf.append(rltn_pts,ignore_index=True)\n",
    "pts_gpdf.tag = pts_gpdf.tag.apply(str)\n",
    "\n",
    "pts_gpdf.crs = {'init': u'epsg:4326'}\n",
    "pts_gpdf_crs = pts_gpdf.to_crs(epsg=3559)\n",
    "pts_gpdf_crs.geometry = pts_gpdf_crs.buffer(pts_bfr)\n",
    "\n",
    "pts_gpdf_bfr = pts_gpdf_crs.to_crs(epsg=4326)\n",
    "pts_gpdf_bfr.columns=['id','tag','geometry','type','category']"
   ]
  },
  {
   "cell_type": "code",
   "execution_count": 9,
   "metadata": {
    "collapsed": false
   },
   "outputs": [],
   "source": [
    "venues_gpdf = gp.read_file(frsq_venues_mapped_path)\n",
    "\n",
    "venues_gpdf_crs = venues_gpdf.to_crs(epsg=3559)\n",
    "venues_gpdf_crs.geometry = venues_gpdf_crs.buffer(pts_bfr)\n",
    "\n",
    "venues_gpdf_bfr = venues_gpdf_crs.to_crs(epsg=4326)\n",
    "venues_gpdf_bfr = venues_gpdf_bfr.drop(['checkins','name','tips','users'],axis=1)\n",
    "venues_gpdf_bfr['type']='fq'\n",
    "venues_gpdf_bfr.columns=['tag','geometry','id','category','type']\n",
    "venues_gpdf_bfr = venues_gpdf_bfr[venues_gpdf_bfr.category!='no category']\n",
    "venues_gpdf_bfr.category = venues_gpdf_bfr.category.apply(lambda x: set([x]))"
   ]
  },
  {
   "cell_type": "markdown",
   "metadata": {},
   "source": [
    "#### get lns or polys, append rltn lns"
   ]
  },
  {
   "cell_type": "code",
   "execution_count": 10,
   "metadata": {
    "collapsed": false
   },
   "outputs": [
    {
     "name": "stderr",
     "output_type": "stream",
     "text": [
      "Ring Self-intersection at or near point -77.020059900000007 38.815362499999999\n",
      "WARNING:shapely.geos:Ring Self-intersection at or near point -77.020059900000007 38.815362499999999\n"
     ]
    },
    {
     "name": "stdout",
     "output_type": "stream",
     "text": [
      "(20017, 5)\n",
      "(23956, 5)\n"
     ]
    },
    {
     "name": "stderr",
     "output_type": "stream",
     "text": [
      "D:\\���ѧϰ����\\Life in Maryland\\Research Project��CyclingSafe\\github\\Cycling_Safe\\utils\\osm\\osm2shp.py:30: UserWarning: way id=59249848 is not valid as a <class 'shapely.geometry.polygon.Polygon'>\n",
      "  warnings.warn(\"way id={} is not valid as a {}\".format(way.id, type(obj)))\n"
     ]
    }
   ],
   "source": [
    "lns = [(way.id, way.tags, way2lineOrpoly(OSM_DC_BBOX, way),'Way') for way in ways_with_category]\n",
    "lns_gpdf = gp.GeoDataFrame(lns, columns=['id','tag', 'geometry','type'])\n",
    "\n",
    "lns_gpdf = lns_gpdf.merge(category_in_dc_df[category_in_dc_df.has_category]).drop('has_category', axis=1)\n",
    "print lns_gpdf.shape\n",
    "\n",
    "lns_gpdf = lns_gpdf.append(rltn_lns,ignore_index=True)\n",
    "print lns_gpdf.shape\n",
    "\n",
    "lns_gpdf.tag = lns_gpdf.tag.apply(str)\n",
    "\n",
    "lns_gpdf.columns=['id','tag','geometry','type','category']"
   ]
  },
  {
   "cell_type": "markdown",
   "metadata": {},
   "source": [
    "### find overlap"
   ]
  },
  {
   "cell_type": "markdown",
   "metadata": {},
   "source": [
    "#### overlap between osm nodes and fq"
   ]
  },
  {
   "cell_type": "code",
   "execution_count": 103,
   "metadata": {
    "collapsed": false,
    "scrolled": true
   },
   "outputs": [
    {
     "ename": "AttributeError",
     "evalue": "'GeoDataFrame' object has no attribute 'id'",
     "output_type": "error",
     "traceback": [
      "\u001b[1;31m---------------------------------------------------------------------------\u001b[0m",
      "\u001b[1;31mAttributeError\u001b[0m                            Traceback (most recent call last)",
      "\u001b[1;32m<ipython-input-103-f1d81abd0871>\u001b[0m in \u001b[0;36m<module>\u001b[1;34m()\u001b[0m\n\u001b[0;32m      2\u001b[0m \u001b[1;33m\u001b[0m\u001b[0m\n\u001b[0;32m      3\u001b[0m \u001b[1;31m# over kill example\u001b[0m\u001b[1;33m\u001b[0m\u001b[1;33m\u001b[0m\u001b[0m\n\u001b[1;32m----> 4\u001b[1;33m \u001b[0mfq_pts\u001b[0m\u001b[1;33m[\u001b[0m\u001b[1;33m(\u001b[0m\u001b[0mfq_pts\u001b[0m\u001b[1;33m.\u001b[0m\u001b[0mid\u001b[0m\u001b[1;33m==\u001b[0m\u001b[1;36m2276095966\u001b[0m\u001b[1;33m)\u001b[0m\u001b[1;33m&\u001b[0m \u001b[1;33m(\u001b[0m\u001b[0mfq_pts\u001b[0m\u001b[1;33m.\u001b[0m\u001b[0mapply\u001b[0m\u001b[1;33m(\u001b[0m\u001b[1;32mlambda\u001b[0m \u001b[0mx\u001b[0m\u001b[1;33m:\u001b[0m \u001b[0mx\u001b[0m\u001b[1;33m.\u001b[0m\u001b[0mmapped\u001b[0m \u001b[1;32min\u001b[0m \u001b[0mx\u001b[0m\u001b[1;33m.\u001b[0m\u001b[0mcategory_left\u001b[0m\u001b[1;33m,\u001b[0m \u001b[0maxis\u001b[0m\u001b[1;33m=\u001b[0m\u001b[1;36m1\u001b[0m\u001b[1;33m)\u001b[0m\u001b[1;33m)\u001b[0m\u001b[1;33m]\u001b[0m\u001b[1;33m\u001b[0m\u001b[0m\n\u001b[0m",
      "\u001b[1;32mD:\\Program Files\\Anaconda2\\lib\\site-packages\\pandas\\core\\generic.pyc\u001b[0m in \u001b[0;36m__getattr__\u001b[1;34m(self, name)\u001b[0m\n\u001b[0;32m   2148\u001b[0m                 \u001b[1;32mreturn\u001b[0m \u001b[0mself\u001b[0m\u001b[1;33m[\u001b[0m\u001b[0mname\u001b[0m\u001b[1;33m]\u001b[0m\u001b[1;33m\u001b[0m\u001b[0m\n\u001b[0;32m   2149\u001b[0m             raise AttributeError(\"'%s' object has no attribute '%s'\" %\n\u001b[1;32m-> 2150\u001b[1;33m                                  (type(self).__name__, name))\n\u001b[0m\u001b[0;32m   2151\u001b[0m \u001b[1;33m\u001b[0m\u001b[0m\n\u001b[0;32m   2152\u001b[0m     \u001b[1;32mdef\u001b[0m \u001b[0m__setattr__\u001b[0m\u001b[1;33m(\u001b[0m\u001b[0mself\u001b[0m\u001b[1;33m,\u001b[0m \u001b[0mname\u001b[0m\u001b[1;33m,\u001b[0m \u001b[0mvalue\u001b[0m\u001b[1;33m)\u001b[0m\u001b[1;33m:\u001b[0m\u001b[1;33m\u001b[0m\u001b[0m\n",
      "\u001b[1;31mAttributeError\u001b[0m: 'GeoDataFrame' object has no attribute 'id'"
     ]
    }
   ],
   "source": [
    "fq_pts = gp.tools.sjoin(pts_gpdf_bfr, venues_gpdf_bfr)\n"
   ]
  },
  {
   "cell_type": "code",
   "execution_count": 113,
   "metadata": {
    "collapsed": false
   },
   "outputs": [
    {
     "data": {
      "text/html": [
       "<div>\n",
       "<table border=\"1\" class=\"dataframe\">\n",
       "  <thead>\n",
       "    <tr style=\"text-align: right;\">\n",
       "      <th></th>\n",
       "      <th>id_left</th>\n",
       "      <th>tag_left</th>\n",
       "      <th>geometry</th>\n",
       "      <th>type_left</th>\n",
       "      <th>category_left</th>\n",
       "      <th>index_right</th>\n",
       "      <th>tag_right</th>\n",
       "      <th>id_right</th>\n",
       "      <th>category_right</th>\n",
       "      <th>type_right</th>\n",
       "    </tr>\n",
       "  </thead>\n",
       "  <tbody>\n",
       "    <tr>\n",
       "      <th>76</th>\n",
       "      <td>49734611</td>\n",
       "      <td>{u'highway': u'traffic_signals'}</td>\n",
       "      <td>POLYGON ((-77.04331293640715 38.92800152138454...</td>\n",
       "      <td>Node</td>\n",
       "      <td>set([cycling facilities])</td>\n",
       "      <td>14338</td>\n",
       "      <td>Bike Rental / Bike Share</td>\n",
       "      <td>4e54f80ad4c0fe0342802d27</td>\n",
       "      <td>set([cycling facilities])</td>\n",
       "      <td>fq</td>\n",
       "    </tr>\n",
       "    <tr>\n",
       "      <th>333</th>\n",
       "      <td>49756895</td>\n",
       "      <td>{u'highway': u'crossing'}</td>\n",
       "      <td>POLYGON ((-77.00198237099791 38.88519300099211...</td>\n",
       "      <td>Node</td>\n",
       "      <td>set([cycling facilities])</td>\n",
       "      <td>11518</td>\n",
       "      <td>Bike Rental / Bike Share</td>\n",
       "      <td>4e1c41e4887735dda340d508</td>\n",
       "      <td>set([cycling facilities])</td>\n",
       "      <td>fq</td>\n",
       "    </tr>\n",
       "    <tr>\n",
       "      <th>7103</th>\n",
       "      <td>2275495853</td>\n",
       "      <td>{u'amenity': u'bicycle_rental', u'capacity': u...</td>\n",
       "      <td>POLYGON ((-77.00217137104065 38.88514010108537...</td>\n",
       "      <td>Node</td>\n",
       "      <td>set([cycling facilities])</td>\n",
       "      <td>11518</td>\n",
       "      <td>Bike Rental / Bike Share</td>\n",
       "      <td>4e1c41e4887735dda340d508</td>\n",
       "      <td>set([cycling facilities])</td>\n",
       "      <td>fq</td>\n",
       "    </tr>\n",
       "    <tr>\n",
       "      <th>11273</th>\n",
       "      <td>4111818602</td>\n",
       "      <td>{u'craft': u'shoemaker', u'name': u'Shoe Repair'}</td>\n",
       "      <td>POLYGON ((-77.03810993380768 38.93121401881736...</td>\n",
       "      <td>Node</td>\n",
       "      <td>set([retail shop])</td>\n",
       "      <td>13576</td>\n",
       "      <td>Laundry Service</td>\n",
       "      <td>505b4a96e4b03f672966fe16</td>\n",
       "      <td>set([retail shop])</td>\n",
       "      <td>fq</td>\n",
       "    </tr>\n",
       "    <tr>\n",
       "      <th>451</th>\n",
       "      <td>49765287</td>\n",
       "      <td>{u'highway': u'traffic_signals'}</td>\n",
       "      <td>POLYGON ((-77.02423242966984 38.93632631197021...</td>\n",
       "      <td>Node</td>\n",
       "      <td>set([cycling facilities])</td>\n",
       "      <td>8882</td>\n",
       "      <td>Bike Rental / Bike Share</td>\n",
       "      <td>4d330ded6c7c721e7fd6b556</td>\n",
       "      <td>set([cycling facilities])</td>\n",
       "      <td>fq</td>\n",
       "    </tr>\n",
       "    <tr>\n",
       "      <th>556</th>\n",
       "      <td>49773638</td>\n",
       "      <td>{u'source': u'survey', u'highway': u'crossing'}</td>\n",
       "      <td>POLYGON ((-77.02767263509807 38.92961551366762...</td>\n",
       "      <td>Node</td>\n",
       "      <td>set([cycling facilities])</td>\n",
       "      <td>13780</td>\n",
       "      <td>Bike Rental / Bike Share</td>\n",
       "      <td>4f84b7c4e4b015c04257f560</td>\n",
       "      <td>set([cycling facilities])</td>\n",
       "      <td>fq</td>\n",
       "    </tr>\n",
       "    <tr>\n",
       "      <th>3404</th>\n",
       "      <td>603190933</td>\n",
       "      <td>{u'dcgis:pubdate': u'2009-11-13', u'dcgis:gis_...</td>\n",
       "      <td>POLYGON ((-77.06525415036059 38.91075283221036...</td>\n",
       "      <td>Node</td>\n",
       "      <td>set([transportation])</td>\n",
       "      <td>19206</td>\n",
       "      <td>Bus Station</td>\n",
       "      <td>4f9c3f62e4b020e60f9d2dfc</td>\n",
       "      <td>set([transportation])</td>\n",
       "      <td>fq</td>\n",
       "    </tr>\n",
       "    <tr>\n",
       "      <th>7077</th>\n",
       "      <td>2174502624</td>\n",
       "      <td>{u'amenity': u'restaurant', u'name': u'Grill K...</td>\n",
       "      <td>POLYGON ((-77.06590475480317 38.90525643253143...</td>\n",
       "      <td>Node</td>\n",
       "      <td>set([food])</td>\n",
       "      <td>1759</td>\n",
       "      <td>Indian Restaurant</td>\n",
       "      <td>4726def6f964a520db4b1fe3</td>\n",
       "      <td>set([food])</td>\n",
       "      <td>fq</td>\n",
       "    </tr>\n",
       "    <tr>\n",
       "      <th>5121</th>\n",
       "      <td>741670744</td>\n",
       "      <td>{u'addr:housenumber': u'1351', u'opening_hours...</td>\n",
       "      <td>POLYGON ((-77.06340315265429 38.90791393129712...</td>\n",
       "      <td>Node</td>\n",
       "      <td>set([retail shop])</td>\n",
       "      <td>413</td>\n",
       "      <td>Tailor Shop</td>\n",
       "      <td>4aa569fcf964a5203e4820e3</td>\n",
       "      <td>set([retail shop])</td>\n",
       "      <td>fq</td>\n",
       "    </tr>\n",
       "    <tr>\n",
       "      <th>1221</th>\n",
       "      <td>60471261</td>\n",
       "      <td>{u'addr:housenumber': u'1847', u'cuisine': u'C...</td>\n",
       "      <td>POLYGON ((-77.03164384657625 38.91542051562708...</td>\n",
       "      <td>Node</td>\n",
       "      <td>set([food, nightlife spot])</td>\n",
       "      <td>17341</td>\n",
       "      <td>American Restaurant</td>\n",
       "      <td>3fd66200f964a520d3f11ee3</td>\n",
       "      <td>set([food])</td>\n",
       "      <td>fq</td>\n",
       "    </tr>\n",
       "    <tr>\n",
       "      <th>3347</th>\n",
       "      <td>603190716</td>\n",
       "      <td>{u'amenity': u'tourist', u'dcgis:pubdate': u'2...</td>\n",
       "      <td>POLYGON ((-77.02589566667427 38.89054851279097...</td>\n",
       "      <td>Node</td>\n",
       "      <td>set([transportation])</td>\n",
       "      <td>10603</td>\n",
       "      <td>Bus Line</td>\n",
       "      <td>4f831890e4b0a458bc8b2802</td>\n",
       "      <td>set([transportation])</td>\n",
       "      <td>fq</td>\n",
       "    </tr>\n",
       "    <tr>\n",
       "      <th>1354</th>\n",
       "      <td>340147854</td>\n",
       "      <td>{u'wheelchair': u'yes', u'cuisine': u'burger',...</td>\n",
       "      <td>POLYGON ((-77.03319833592684 38.92859211639402...</td>\n",
       "      <td>Node</td>\n",
       "      <td>set([food])</td>\n",
       "      <td>14203</td>\n",
       "      <td>Coffee Shop</td>\n",
       "      <td>4ad89dd4f964a520e21221e3</td>\n",
       "      <td>set([food])</td>\n",
       "      <td>fq</td>\n",
       "    </tr>\n",
       "    <tr>\n",
       "      <th>4674</th>\n",
       "      <td>738190931</td>\n",
       "      <td>{u'addr:housenumber': u'1400', u'amenity': u'c...</td>\n",
       "      <td>POLYGON ((-77.03330163592986 38.92858841644498...</td>\n",
       "      <td>Node</td>\n",
       "      <td>set([food])</td>\n",
       "      <td>14203</td>\n",
       "      <td>Coffee Shop</td>\n",
       "      <td>4ad89dd4f964a520e21221e3</td>\n",
       "      <td>set([food])</td>\n",
       "      <td>fq</td>\n",
       "    </tr>\n",
       "    <tr>\n",
       "      <th>1355</th>\n",
       "      <td>340148262</td>\n",
       "      <td>{u'amenity': u'cafe', u'name': u'Starbucks'}</td>\n",
       "      <td>POLYGON ((-77.02933174542581 38.91684301448628...</td>\n",
       "      <td>Node</td>\n",
       "      <td>set([food])</td>\n",
       "      <td>16505</td>\n",
       "      <td>Coffee Shop</td>\n",
       "      <td>4ada52fbf964a520492121e3</td>\n",
       "      <td>set([food])</td>\n",
       "      <td>fq</td>\n",
       "    </tr>\n",
       "    <tr>\n",
       "      <th>1365</th>\n",
       "      <td>358954680</td>\n",
       "      <td>{u'amenity': u'school', u'gnis:state_id': u'11...</td>\n",
       "      <td>POLYGON ((-77.0044924062186 38.84156000223057,...</td>\n",
       "      <td>Node</td>\n",
       "      <td>set([schools&amp;university])</td>\n",
       "      <td>13326</td>\n",
       "      <td>Elementary School</td>\n",
       "      <td>4ce5464e7785a1cd78d418b9</td>\n",
       "      <td>set([schools&amp;university])</td>\n",
       "      <td>fq</td>\n",
       "    </tr>\n",
       "    <tr>\n",
       "      <th>1365</th>\n",
       "      <td>358954680</td>\n",
       "      <td>{u'amenity': u'school', u'gnis:state_id': u'11...</td>\n",
       "      <td>POLYGON ((-77.0044924062186 38.84156000223057,...</td>\n",
       "      <td>Node</td>\n",
       "      <td>set([schools&amp;university])</td>\n",
       "      <td>13327</td>\n",
       "      <td>Elementary School</td>\n",
       "      <td>4fa2d33be4b0bfaac0f1e698</td>\n",
       "      <td>set([schools&amp;university])</td>\n",
       "      <td>fq</td>\n",
       "    </tr>\n",
       "    <tr>\n",
       "      <th>1442</th>\n",
       "      <td>358955138</td>\n",
       "      <td>{u'gnis:state_id': u'11', u'name': u'Major Gen...</td>\n",
       "      <td>POLYGON ((-77.03189635446506 38.90566051575166...</td>\n",
       "      <td>Node</td>\n",
       "      <td>set([outdoors and recreation])</td>\n",
       "      <td>889</td>\n",
       "      <td>Park</td>\n",
       "      <td>4b1e5276f964a520bb1824e3</td>\n",
       "      <td>set([outdoors and recreation])</td>\n",
       "      <td>fq</td>\n",
       "    </tr>\n",
       "    <tr>\n",
       "      <th>4652</th>\n",
       "      <td>738189394</td>\n",
       "      <td>{u'website': u'http://www.wmata.com/rail/stati...</td>\n",
       "      <td>POLYGON ((-77.02185636415591 38.89366501079797...</td>\n",
       "      <td>Node</td>\n",
       "      <td>set([transportation])</td>\n",
       "      <td>10224</td>\n",
       "      <td>Bus Station</td>\n",
       "      <td>4f0f5754e4b07f0a590703f7</td>\n",
       "      <td>set([transportation])</td>\n",
       "      <td>fq</td>\n",
       "    </tr>\n",
       "    <tr>\n",
       "      <th>3463</th>\n",
       "      <td>603191111</td>\n",
       "      <td>{u'dcgis:pubdate': u'2009-11-13', u'dcgis:gis_...</td>\n",
       "      <td>POLYGON ((-77.02173656407754 38.89376201073885...</td>\n",
       "      <td>Node</td>\n",
       "      <td>set([transportation])</td>\n",
       "      <td>10229</td>\n",
       "      <td>Bus Stop</td>\n",
       "      <td>4b68b0fdf964a52064872be3</td>\n",
       "      <td>set([transportation])</td>\n",
       "      <td>fq</td>\n",
       "    </tr>\n",
       "    <tr>\n",
       "      <th>4652</th>\n",
       "      <td>738189394</td>\n",
       "      <td>{u'website': u'http://www.wmata.com/rail/stati...</td>\n",
       "      <td>POLYGON ((-77.02185636415591 38.89366501079797...</td>\n",
       "      <td>Node</td>\n",
       "      <td>set([transportation])</td>\n",
       "      <td>10229</td>\n",
       "      <td>Bus Stop</td>\n",
       "      <td>4b68b0fdf964a52064872be3</td>\n",
       "      <td>set([transportation])</td>\n",
       "      <td>fq</td>\n",
       "    </tr>\n",
       "    <tr>\n",
       "      <th>1506</th>\n",
       "      <td>358955607</td>\n",
       "      <td>{u'addr:housenumber': u'200', u'amenity': u'sc...</td>\n",
       "      <td>POLYGON ((-77.00266003988999 38.92368640132649...</td>\n",
       "      <td>Node</td>\n",
       "      <td>set([schools&amp;university])</td>\n",
       "      <td>14873</td>\n",
       "      <td>Elementary School</td>\n",
       "      <td>4c33805616adc9281fbbc39c</td>\n",
       "      <td>set([schools&amp;university])</td>\n",
       "      <td>fq</td>\n",
       "    </tr>\n",
       "    <tr>\n",
       "      <th>1573</th>\n",
       "      <td>358956179</td>\n",
       "      <td>{u'amenity': u'place_of_worship', u'gnis:state...</td>\n",
       "      <td>POLYGON ((-77.06103095065255 38.91038933012665...</td>\n",
       "      <td>Node</td>\n",
       "      <td>set([outdoors and recreation])</td>\n",
       "      <td>19160</td>\n",
       "      <td>Garden</td>\n",
       "      <td>50788dbee4b0e1f1379e301b</td>\n",
       "      <td>set([outdoors and recreation])</td>\n",
       "      <td>fq</td>\n",
       "    </tr>\n",
       "    <tr>\n",
       "      <th>1574</th>\n",
       "      <td>358956183</td>\n",
       "      <td>{u'gnis:state_id': u'11', u'name': u'Bishop As...</td>\n",
       "      <td>POLYGON ((-77.03665553665194 38.92769651809979...</td>\n",
       "      <td>Node</td>\n",
       "      <td>set([outdoors and recreation])</td>\n",
       "      <td>14306</td>\n",
       "      <td>Park</td>\n",
       "      <td>506fb3c2e4b0285db2ae500e</td>\n",
       "      <td>set([outdoors and recreation])</td>\n",
       "      <td>fq</td>\n",
       "    </tr>\n",
       "    <tr>\n",
       "      <th>1574</th>\n",
       "      <td>358956183</td>\n",
       "      <td>{u'gnis:state_id': u'11', u'name': u'Bishop As...</td>\n",
       "      <td>POLYGON ((-77.03665553665194 38.92769651809979...</td>\n",
       "      <td>Node</td>\n",
       "      <td>set([outdoors and recreation])</td>\n",
       "      <td>14279</td>\n",
       "      <td>Park</td>\n",
       "      <td>4bc391e374a9a59345bdd4f6</td>\n",
       "      <td>set([outdoors and recreation])</td>\n",
       "      <td>fq</td>\n",
       "    </tr>\n",
       "    <tr>\n",
       "      <th>1577</th>\n",
       "      <td>358956206</td>\n",
       "      <td>{u'amenity': u'place_of_worship', u'gnis:state...</td>\n",
       "      <td>POLYGON ((-76.99130696006799 38.89872289572486...</td>\n",
       "      <td>Node</td>\n",
       "      <td>set([outdoors and recreation])</td>\n",
       "      <td>4536</td>\n",
       "      <td>Church</td>\n",
       "      <td>4d31f14aeefa8cfad21931b3</td>\n",
       "      <td>set([outdoors and recreation])</td>\n",
       "      <td>fq</td>\n",
       "    </tr>\n",
       "    <tr>\n",
       "      <th>1592</th>\n",
       "      <td>358956294</td>\n",
       "      <td>{u'amenity': u'place_of_worship', u'gnis:state...</td>\n",
       "      <td>POLYGON ((-76.99464035782326 38.90150069736956...</td>\n",
       "      <td>Node</td>\n",
       "      <td>set([outdoors and recreation])</td>\n",
       "      <td>3341</td>\n",
       "      <td>Spiritual Center</td>\n",
       "      <td>562d3c98498eccd0baadd3c2</td>\n",
       "      <td>set([outdoors and recreation])</td>\n",
       "      <td>fq</td>\n",
       "    </tr>\n",
       "    <tr>\n",
       "      <th>1611</th>\n",
       "      <td>358956528</td>\n",
       "      <td>{u'gnis:state_id': u'11', u'name': u'Macomb Pl...</td>\n",
       "      <td>POLYGON ((-77.06714213178969 38.93372223314177...</td>\n",
       "      <td>Node</td>\n",
       "      <td>set([outdoors and recreation])</td>\n",
       "      <td>9325</td>\n",
       "      <td>Playground</td>\n",
       "      <td>4ba6a6a7f964a520326639e3</td>\n",
       "      <td>set([outdoors and recreation])</td>\n",
       "      <td>fq</td>\n",
       "    </tr>\n",
       "    <tr>\n",
       "      <th>1643</th>\n",
       "      <td>358957093</td>\n",
       "      <td>{u'gnis:state_id': u'11', u'name': u'Twin Oaks...</td>\n",
       "      <td>POLYGON ((-77.0324192261605 38.94066661600956,...</td>\n",
       "      <td>Node</td>\n",
       "      <td>set([outdoors and recreation])</td>\n",
       "      <td>8600</td>\n",
       "      <td>Garden</td>\n",
       "      <td>4bf3d99dd2fbef3badb1a4c5</td>\n",
       "      <td>set([outdoors and recreation])</td>\n",
       "      <td>fq</td>\n",
       "    </tr>\n",
       "    <tr>\n",
       "      <th>1648</th>\n",
       "      <td>358957145</td>\n",
       "      <td>{u'amenity': u'place_of_worship', u'gnis:state...</td>\n",
       "      <td>POLYGON ((-77.00186276612709 38.89122300093309...</td>\n",
       "      <td>Node</td>\n",
       "      <td>set([outdoors and recreation])</td>\n",
       "      <td>10550</td>\n",
       "      <td>Church</td>\n",
       "      <td>4d3c5f15557d6dcb30293a44</td>\n",
       "      <td>set([outdoors and recreation])</td>\n",
       "      <td>fq</td>\n",
       "    </tr>\n",
       "    <tr>\n",
       "      <th>1709</th>\n",
       "      <td>358957866</td>\n",
       "      <td>{u'amenity': u'place_of_worship', u'gnis:state...</td>\n",
       "      <td>POLYGON ((-76.98742558609634 38.86649559380975...</td>\n",
       "      <td>Node</td>\n",
       "      <td>set([outdoors and recreation])</td>\n",
       "      <td>12878</td>\n",
       "      <td>Church</td>\n",
       "      <td>53aae9a5498e89b5022b909a</td>\n",
       "      <td>set([outdoors and recreation])</td>\n",
       "      <td>fq</td>\n",
       "    </tr>\n",
       "    <tr>\n",
       "      <th>...</th>\n",
       "      <td>...</td>\n",
       "      <td>...</td>\n",
       "      <td>...</td>\n",
       "      <td>...</td>\n",
       "      <td>...</td>\n",
       "      <td>...</td>\n",
       "      <td>...</td>\n",
       "      <td>...</td>\n",
       "      <td>...</td>\n",
       "      <td>...</td>\n",
       "    </tr>\n",
       "    <tr>\n",
       "      <th>11325</th>\n",
       "      <td>4128393963</td>\n",
       "      <td>{u'shop': u'hairdresser', u'name': u'Hair By N...</td>\n",
       "      <td>POLYGON ((-77.02287173582094 38.92872061129889...</td>\n",
       "      <td>Node</td>\n",
       "      <td>set([retail shop])</td>\n",
       "      <td>14105</td>\n",
       "      <td>Arts &amp; Crafts Store</td>\n",
       "      <td>56647d22498e53d325050e1a</td>\n",
       "      <td>set([retail shop])</td>\n",
       "      <td>fq</td>\n",
       "    </tr>\n",
       "    <tr>\n",
       "      <th>11333</th>\n",
       "      <td>4128422513</td>\n",
       "      <td>{u'network': u'WMATA MetroBus', u'shelter': u'...</td>\n",
       "      <td>POLYGON ((-77.02319483620471 38.92824611145831...</td>\n",
       "      <td>Node</td>\n",
       "      <td>set([transportation])</td>\n",
       "      <td>14127</td>\n",
       "      <td>Bus Station</td>\n",
       "      <td>4d3473595c2db60c63d7d36c</td>\n",
       "      <td>set([transportation])</td>\n",
       "      <td>fq</td>\n",
       "    </tr>\n",
       "    <tr>\n",
       "      <th>11356</th>\n",
       "      <td>4134326351</td>\n",
       "      <td>{u'operator': u'Wells Fargo', u'amenity': u'atm'}</td>\n",
       "      <td>POLYGON ((-77.04304645208329 38.90861112125315...</td>\n",
       "      <td>Node</td>\n",
       "      <td>set([professional service])</td>\n",
       "      <td>19805</td>\n",
       "      <td>Non-Profit</td>\n",
       "      <td>556897a2498e06099bad8ce9</td>\n",
       "      <td>set([professional service])</td>\n",
       "      <td>fq</td>\n",
       "    </tr>\n",
       "    <tr>\n",
       "      <th>11375</th>\n",
       "      <td>4148260489</td>\n",
       "      <td>{u'addr:housenumber': u'1804', u'addr:city': u...</td>\n",
       "      <td>POLYGON ((-77.04222054254731 38.92040742084557...</td>\n",
       "      <td>Node</td>\n",
       "      <td>set([outdoors and recreation])</td>\n",
       "      <td>16099</td>\n",
       "      <td>Hostel</td>\n",
       "      <td>56c0892acd10403d3eb1a308</td>\n",
       "      <td>set([outdoors and recreation])</td>\n",
       "      <td>fq</td>\n",
       "    </tr>\n",
       "    <tr>\n",
       "      <th>11412</th>\n",
       "      <td>4158541604</td>\n",
       "      <td>{u'amenity': u'bicycle_rental'}</td>\n",
       "      <td>POLYGON ((-77.00191846924483 38.8873634009606,...</td>\n",
       "      <td>Node</td>\n",
       "      <td>set([cycling facilities])</td>\n",
       "      <td>11091</td>\n",
       "      <td>Bike Rental / Bike Share</td>\n",
       "      <td>51f98cba498e667b75f3102d</td>\n",
       "      <td>set([cycling facilities])</td>\n",
       "      <td>fq</td>\n",
       "    </tr>\n",
       "    <tr>\n",
       "      <th>11432</th>\n",
       "      <td>4180358901</td>\n",
       "      <td>{u'addr:housenumber': u'3206', u'website': u'w...</td>\n",
       "      <td>POLYGON ((-77.06308745592837 38.90386253114137...</td>\n",
       "      <td>Node</td>\n",
       "      <td>set([food])</td>\n",
       "      <td>3047</td>\n",
       "      <td>Bakery</td>\n",
       "      <td>5440cc89498e5277b68ddb64</td>\n",
       "      <td>set([food])</td>\n",
       "      <td>fq</td>\n",
       "    </tr>\n",
       "    <tr>\n",
       "      <th>11453</th>\n",
       "      <td>4233962106</td>\n",
       "      <td>{u'addr:housenumber': u'317', u'amenity': u're...</td>\n",
       "      <td>POLYGON ((-76.99632637067455 38.88559339820143...</td>\n",
       "      <td>Node</td>\n",
       "      <td>set([food])</td>\n",
       "      <td>11006</td>\n",
       "      <td>Dessert Shop</td>\n",
       "      <td>54721c34498eff738d9cfb91</td>\n",
       "      <td>set([food])</td>\n",
       "      <td>fq</td>\n",
       "    </tr>\n",
       "    <tr>\n",
       "      <th>11453</th>\n",
       "      <td>4233962106</td>\n",
       "      <td>{u'addr:housenumber': u'317', u'amenity': u're...</td>\n",
       "      <td>POLYGON ((-76.99632637067455 38.88559339820143...</td>\n",
       "      <td>Node</td>\n",
       "      <td>set([food])</td>\n",
       "      <td>10973</td>\n",
       "      <td>Bagel Shop</td>\n",
       "      <td>57d4058c498e4ecc015aa6ee</td>\n",
       "      <td>set([food])</td>\n",
       "      <td>fq</td>\n",
       "    </tr>\n",
       "    <tr>\n",
       "      <th>11455</th>\n",
       "      <td>4238758393</td>\n",
       "      <td>{u'operator': u'DC Circulator bus Georgetown b...</td>\n",
       "      <td>POLYGON ((-77.05113065662816 38.90299072524189...</td>\n",
       "      <td>Node</td>\n",
       "      <td>set([transportation])</td>\n",
       "      <td>2912</td>\n",
       "      <td>Bus Line</td>\n",
       "      <td>4de7c37e7d8b1f2dd2a00a4f</td>\n",
       "      <td>set([transportation])</td>\n",
       "      <td>fq</td>\n",
       "    </tr>\n",
       "    <tr>\n",
       "      <th>11459</th>\n",
       "      <td>4241849507</td>\n",
       "      <td>{u'cuisine': u'vietnamese', u'amenity': u'rest...</td>\n",
       "      <td>POLYGON ((-77.0340131343131 38.93058781679601,...</td>\n",
       "      <td>Node</td>\n",
       "      <td>set([food])</td>\n",
       "      <td>13874</td>\n",
       "      <td>Noodle House</td>\n",
       "      <td>4a075261f964a52049731fe3</td>\n",
       "      <td>set([food])</td>\n",
       "      <td>fq</td>\n",
       "    </tr>\n",
       "    <tr>\n",
       "      <th>11489</th>\n",
       "      <td>4257990204</td>\n",
       "      <td>{u'website': u'www.bayoubakerydc.com', u'openi...</td>\n",
       "      <td>POLYGON ((-76.99351507263877 38.88316159681433...</td>\n",
       "      <td>Node</td>\n",
       "      <td>set([food])</td>\n",
       "      <td>11801</td>\n",
       "      <td>Bakery</td>\n",
       "      <td>553ebf13498ef071bfb6da83</td>\n",
       "      <td>set([food])</td>\n",
       "      <td>fq</td>\n",
       "    </tr>\n",
       "    <tr>\n",
       "      <th>11501</th>\n",
       "      <td>4270706793</td>\n",
       "      <td>{u'shop': u'pet', u'name': u'Unleashed by Petco'}</td>\n",
       "      <td>POLYGON ((-77.02211335075394 38.91025001092473...</td>\n",
       "      <td>Node</td>\n",
       "      <td>set([retail shop])</td>\n",
       "      <td>19448</td>\n",
       "      <td>Pet Store</td>\n",
       "      <td>5505b365498ec5a44f6cee1b</td>\n",
       "      <td>set([retail shop])</td>\n",
       "      <td>fq</td>\n",
       "    </tr>\n",
       "    <tr>\n",
       "      <th>11524</th>\n",
       "      <td>4270802396</td>\n",
       "      <td>{u'cuisine': u'coffee_shop', u'amenity': u'caf...</td>\n",
       "      <td>POLYGON ((-77.0227185459681 38.91617071122333,...</td>\n",
       "      <td>Node</td>\n",
       "      <td>set([food])</td>\n",
       "      <td>17194</td>\n",
       "      <td>Coffee Shop</td>\n",
       "      <td>5634df5e498e59191d903307</td>\n",
       "      <td>set([food])</td>\n",
       "      <td>fq</td>\n",
       "    </tr>\n",
       "    <tr>\n",
       "      <th>11510</th>\n",
       "      <td>4270747600</td>\n",
       "      <td>{u'shop': u'clothes', u'name': u'Frank &amp; Oak'}</td>\n",
       "      <td>POLYGON ((-77.02310234584991 38.91631701141268...</td>\n",
       "      <td>Node</td>\n",
       "      <td>set([retail shop])</td>\n",
       "      <td>17257</td>\n",
       "      <td>Men's Store</td>\n",
       "      <td>5634e5db498ededd4376b4ad</td>\n",
       "      <td>set([retail shop])</td>\n",
       "      <td>fq</td>\n",
       "    </tr>\n",
       "    <tr>\n",
       "      <th>11587</th>\n",
       "      <td>4348904100</td>\n",
       "      <td>{u'amenity': u'bar', u'name': u'2 Birds 1 Ston...</td>\n",
       "      <td>POLYGON ((-77.03228644752163 38.91425121594411...</td>\n",
       "      <td>Node</td>\n",
       "      <td>set([nightlife spot])</td>\n",
       "      <td>17983</td>\n",
       "      <td>Cocktail Bar</td>\n",
       "      <td>521e8caf11d2f3f244ed29bd</td>\n",
       "      <td>set([nightlife spot])</td>\n",
       "      <td>fq</td>\n",
       "    </tr>\n",
       "    <tr>\n",
       "      <th>11589</th>\n",
       "      <td>4348904105</td>\n",
       "      <td>{u'shop': u'clothes', u'name': u'Redeem'}</td>\n",
       "      <td>POLYGON ((-77.03215154723922 38.91460051587757...</td>\n",
       "      <td>Node</td>\n",
       "      <td>set([retail shop])</td>\n",
       "      <td>17358</td>\n",
       "      <td>Boutique</td>\n",
       "      <td>4bb4df5a2ba29c746569ef2d</td>\n",
       "      <td>set([retail shop])</td>\n",
       "      <td>fq</td>\n",
       "    </tr>\n",
       "    <tr>\n",
       "      <th>11594</th>\n",
       "      <td>4348913781</td>\n",
       "      <td>{u'shop': u'beauty', u'name': u\"Trina's Hair G...</td>\n",
       "      <td>POLYGON ((-77.03168104665191 38.91532691564542...</td>\n",
       "      <td>Node</td>\n",
       "      <td>set([retail shop])</td>\n",
       "      <td>17369</td>\n",
       "      <td>Salon / Barbershop</td>\n",
       "      <td>4c221e7911de20a18b4e84ce</td>\n",
       "      <td>set([retail shop])</td>\n",
       "      <td>fq</td>\n",
       "    </tr>\n",
       "    <tr>\n",
       "      <th>11595</th>\n",
       "      <td>4348913782</td>\n",
       "      <td>{u'shop': u'music', u'name': u'Som Records', u...</td>\n",
       "      <td>POLYGON ((-77.0316488466537 38.91532471562952,...</td>\n",
       "      <td>Node</td>\n",
       "      <td>set([retail shop])</td>\n",
       "      <td>17369</td>\n",
       "      <td>Salon / Barbershop</td>\n",
       "      <td>4c221e7911de20a18b4e84ce</td>\n",
       "      <td>set([retail shop])</td>\n",
       "      <td>fq</td>\n",
       "    </tr>\n",
       "    <tr>\n",
       "      <th>11596</th>\n",
       "      <td>4348913783</td>\n",
       "      <td>{u'tourism': u'gallery', u'name': u'White Clou...</td>\n",
       "      <td>POLYGON ((-77.03161264665417 38.91532411561166...</td>\n",
       "      <td>Node</td>\n",
       "      <td>set([art])</td>\n",
       "      <td>17390</td>\n",
       "      <td>Art Gallery</td>\n",
       "      <td>5079bd1fe4b08aa6be6ad637</td>\n",
       "      <td>set([art])</td>\n",
       "      <td>fq</td>\n",
       "    </tr>\n",
       "    <tr>\n",
       "      <th>11596</th>\n",
       "      <td>4348913783</td>\n",
       "      <td>{u'tourism': u'gallery', u'name': u'White Clou...</td>\n",
       "      <td>POLYGON ((-77.03161264665417 38.91532411561166...</td>\n",
       "      <td>Node</td>\n",
       "      <td>set([art])</td>\n",
       "      <td>17389</td>\n",
       "      <td>Art Gallery</td>\n",
       "      <td>4dd8035bd1647fcf3e5946a9</td>\n",
       "      <td>set([art])</td>\n",
       "      <td>fq</td>\n",
       "    </tr>\n",
       "    <tr>\n",
       "      <th>11597</th>\n",
       "      <td>4348913784</td>\n",
       "      <td>{u'amenity': u'arts_centre', u'name': u'Look A...</td>\n",
       "      <td>POLYGON ((-77.03158284665504 38.91532301559696...</td>\n",
       "      <td>Node</td>\n",
       "      <td>set([art])</td>\n",
       "      <td>17389</td>\n",
       "      <td>Art Gallery</td>\n",
       "      <td>4dd8035bd1647fcf3e5946a9</td>\n",
       "      <td>set([art])</td>\n",
       "      <td>fq</td>\n",
       "    </tr>\n",
       "    <tr>\n",
       "      <th>11607</th>\n",
       "      <td>4348977596</td>\n",
       "      <td>{u'amenity': u'atm'}</td>\n",
       "      <td>POLYGON ((-77.03210004953706 38.91175781585218...</td>\n",
       "      <td>Node</td>\n",
       "      <td>set([professional service])</td>\n",
       "      <td>18747</td>\n",
       "      <td>Office</td>\n",
       "      <td>54047018498e07039ec44d6e</td>\n",
       "      <td>set([professional service])</td>\n",
       "      <td>fq</td>\n",
       "    </tr>\n",
       "    <tr>\n",
       "      <th>11616</th>\n",
       "      <td>4350125175</td>\n",
       "      <td>{u'operator': u'WMATA', u'network': u'52,53,54...</td>\n",
       "      <td>POLYGON ((-77.03202144634457 38.91570721581337...</td>\n",
       "      <td>Node</td>\n",
       "      <td>set([transportation])</td>\n",
       "      <td>17382</td>\n",
       "      <td>Bus Line</td>\n",
       "      <td>4fc00e08e4b00dd50de96b3b</td>\n",
       "      <td>set([transportation])</td>\n",
       "      <td>fq</td>\n",
       "    </tr>\n",
       "    <tr>\n",
       "      <th>11638</th>\n",
       "      <td>4355640750</td>\n",
       "      <td>{u'network': u'WMATA Metrobus', u'bus': u'yes'...</td>\n",
       "      <td>POLYGON ((-77.03203645104937 38.90988681582079...</td>\n",
       "      <td>Node</td>\n",
       "      <td>set([transportation])</td>\n",
       "      <td>19604</td>\n",
       "      <td>Bus Line</td>\n",
       "      <td>4c4edb6fea24c9b65b2a5c16</td>\n",
       "      <td>set([transportation])</td>\n",
       "      <td>fq</td>\n",
       "    </tr>\n",
       "    <tr>\n",
       "      <th>11747</th>\n",
       "      <td>4436558787</td>\n",
       "      <td>{u'addr:housenumber': u'3216', u'amenity': u'b...</td>\n",
       "      <td>POLYGON ((-77.02360943436715 38.93051841166285...</td>\n",
       "      <td>Node</td>\n",
       "      <td>set([nightlife spot])</td>\n",
       "      <td>13741</td>\n",
       "      <td>Bar</td>\n",
       "      <td>57eb3114498e65b30d8036ce</td>\n",
       "      <td>set([nightlife spot])</td>\n",
       "      <td>fq</td>\n",
       "    </tr>\n",
       "    <tr>\n",
       "      <th>11764</th>\n",
       "      <td>4452279849</td>\n",
       "      <td>{u'addr:housenumber': u'1326', u'cuisine': u't...</td>\n",
       "      <td>POLYGON ((-77.03211685245046 38.90815331586045...</td>\n",
       "      <td>Node</td>\n",
       "      <td>set([food])</td>\n",
       "      <td>20458</td>\n",
       "      <td>Belgian Restaurant</td>\n",
       "      <td>511cffcde4b077257fe421b2</td>\n",
       "      <td>set([food])</td>\n",
       "      <td>fq</td>\n",
       "    </tr>\n",
       "    <tr>\n",
       "      <th>11764</th>\n",
       "      <td>4452279849</td>\n",
       "      <td>{u'addr:housenumber': u'1326', u'cuisine': u't...</td>\n",
       "      <td>POLYGON ((-77.03211685245046 38.90815331586045...</td>\n",
       "      <td>Node</td>\n",
       "      <td>set([food])</td>\n",
       "      <td>20459</td>\n",
       "      <td>Sushi Restaurant</td>\n",
       "      <td>4cddd0fd78ddf04d56a29698</td>\n",
       "      <td>set([food])</td>\n",
       "      <td>fq</td>\n",
       "    </tr>\n",
       "    <tr>\n",
       "      <th>11764</th>\n",
       "      <td>4452279849</td>\n",
       "      <td>{u'addr:housenumber': u'1326', u'cuisine': u't...</td>\n",
       "      <td>POLYGON ((-77.03211685245046 38.90815331586045...</td>\n",
       "      <td>Node</td>\n",
       "      <td>set([food])</td>\n",
       "      <td>20460</td>\n",
       "      <td>Thai Restaurant</td>\n",
       "      <td>4a90346cf964a520891620e3</td>\n",
       "      <td>set([food])</td>\n",
       "      <td>fq</td>\n",
       "    </tr>\n",
       "    <tr>\n",
       "      <th>11772</th>\n",
       "      <td>1029391_0</td>\n",
       "      <td>{u'building': u'office', u'type': u'site', u'n...</td>\n",
       "      <td>POLYGON ((-77.04001105812317 38.90113631975548...</td>\n",
       "      <td>Relation</td>\n",
       "      <td>set([professional service])</td>\n",
       "      <td>4162</td>\n",
       "      <td>Dentist's Office</td>\n",
       "      <td>4c3f1eceb8b4be9a5509cdef</td>\n",
       "      <td>set([professional service])</td>\n",
       "      <td>fq</td>\n",
       "    </tr>\n",
       "    <tr>\n",
       "      <th>11772</th>\n",
       "      <td>1029391_0</td>\n",
       "      <td>{u'building': u'office', u'type': u'site', u'n...</td>\n",
       "      <td>POLYGON ((-77.04001105812317 38.90113631975548...</td>\n",
       "      <td>Relation</td>\n",
       "      <td>set([professional service])</td>\n",
       "      <td>4185</td>\n",
       "      <td>Dentist's Office</td>\n",
       "      <td>55549420498ee703d3cf7d02</td>\n",
       "      <td>set([professional service])</td>\n",
       "      <td>fq</td>\n",
       "    </tr>\n",
       "  </tbody>\n",
       "</table>\n",
       "<p>954 rows × 10 columns</p>\n",
       "</div>"
      ],
      "text/plain": [
       "          id_left                                           tag_left  \\\n",
       "76       49734611                   {u'highway': u'traffic_signals'}   \n",
       "333      49756895                          {u'highway': u'crossing'}   \n",
       "7103   2275495853  {u'amenity': u'bicycle_rental', u'capacity': u...   \n",
       "11273  4111818602  {u'craft': u'shoemaker', u'name': u'Shoe Repair'}   \n",
       "451      49765287                   {u'highway': u'traffic_signals'}   \n",
       "556      49773638    {u'source': u'survey', u'highway': u'crossing'}   \n",
       "3404    603190933  {u'dcgis:pubdate': u'2009-11-13', u'dcgis:gis_...   \n",
       "7077   2174502624  {u'amenity': u'restaurant', u'name': u'Grill K...   \n",
       "5121    741670744  {u'addr:housenumber': u'1351', u'opening_hours...   \n",
       "1221     60471261  {u'addr:housenumber': u'1847', u'cuisine': u'C...   \n",
       "3347    603190716  {u'amenity': u'tourist', u'dcgis:pubdate': u'2...   \n",
       "1354    340147854  {u'wheelchair': u'yes', u'cuisine': u'burger',...   \n",
       "4674    738190931  {u'addr:housenumber': u'1400', u'amenity': u'c...   \n",
       "1355    340148262       {u'amenity': u'cafe', u'name': u'Starbucks'}   \n",
       "1365    358954680  {u'amenity': u'school', u'gnis:state_id': u'11...   \n",
       "1365    358954680  {u'amenity': u'school', u'gnis:state_id': u'11...   \n",
       "1442    358955138  {u'gnis:state_id': u'11', u'name': u'Major Gen...   \n",
       "4652    738189394  {u'website': u'http://www.wmata.com/rail/stati...   \n",
       "3463    603191111  {u'dcgis:pubdate': u'2009-11-13', u'dcgis:gis_...   \n",
       "4652    738189394  {u'website': u'http://www.wmata.com/rail/stati...   \n",
       "1506    358955607  {u'addr:housenumber': u'200', u'amenity': u'sc...   \n",
       "1573    358956179  {u'amenity': u'place_of_worship', u'gnis:state...   \n",
       "1574    358956183  {u'gnis:state_id': u'11', u'name': u'Bishop As...   \n",
       "1574    358956183  {u'gnis:state_id': u'11', u'name': u'Bishop As...   \n",
       "1577    358956206  {u'amenity': u'place_of_worship', u'gnis:state...   \n",
       "1592    358956294  {u'amenity': u'place_of_worship', u'gnis:state...   \n",
       "1611    358956528  {u'gnis:state_id': u'11', u'name': u'Macomb Pl...   \n",
       "1643    358957093  {u'gnis:state_id': u'11', u'name': u'Twin Oaks...   \n",
       "1648    358957145  {u'amenity': u'place_of_worship', u'gnis:state...   \n",
       "1709    358957866  {u'amenity': u'place_of_worship', u'gnis:state...   \n",
       "...           ...                                                ...   \n",
       "11325  4128393963  {u'shop': u'hairdresser', u'name': u'Hair By N...   \n",
       "11333  4128422513  {u'network': u'WMATA MetroBus', u'shelter': u'...   \n",
       "11356  4134326351  {u'operator': u'Wells Fargo', u'amenity': u'atm'}   \n",
       "11375  4148260489  {u'addr:housenumber': u'1804', u'addr:city': u...   \n",
       "11412  4158541604                    {u'amenity': u'bicycle_rental'}   \n",
       "11432  4180358901  {u'addr:housenumber': u'3206', u'website': u'w...   \n",
       "11453  4233962106  {u'addr:housenumber': u'317', u'amenity': u're...   \n",
       "11453  4233962106  {u'addr:housenumber': u'317', u'amenity': u're...   \n",
       "11455  4238758393  {u'operator': u'DC Circulator bus Georgetown b...   \n",
       "11459  4241849507  {u'cuisine': u'vietnamese', u'amenity': u'rest...   \n",
       "11489  4257990204  {u'website': u'www.bayoubakerydc.com', u'openi...   \n",
       "11501  4270706793  {u'shop': u'pet', u'name': u'Unleashed by Petco'}   \n",
       "11524  4270802396  {u'cuisine': u'coffee_shop', u'amenity': u'caf...   \n",
       "11510  4270747600     {u'shop': u'clothes', u'name': u'Frank & Oak'}   \n",
       "11587  4348904100  {u'amenity': u'bar', u'name': u'2 Birds 1 Ston...   \n",
       "11589  4348904105          {u'shop': u'clothes', u'name': u'Redeem'}   \n",
       "11594  4348913781  {u'shop': u'beauty', u'name': u\"Trina's Hair G...   \n",
       "11595  4348913782  {u'shop': u'music', u'name': u'Som Records', u...   \n",
       "11596  4348913783  {u'tourism': u'gallery', u'name': u'White Clou...   \n",
       "11596  4348913783  {u'tourism': u'gallery', u'name': u'White Clou...   \n",
       "11597  4348913784  {u'amenity': u'arts_centre', u'name': u'Look A...   \n",
       "11607  4348977596                               {u'amenity': u'atm'}   \n",
       "11616  4350125175  {u'operator': u'WMATA', u'network': u'52,53,54...   \n",
       "11638  4355640750  {u'network': u'WMATA Metrobus', u'bus': u'yes'...   \n",
       "11747  4436558787  {u'addr:housenumber': u'3216', u'amenity': u'b...   \n",
       "11764  4452279849  {u'addr:housenumber': u'1326', u'cuisine': u't...   \n",
       "11764  4452279849  {u'addr:housenumber': u'1326', u'cuisine': u't...   \n",
       "11764  4452279849  {u'addr:housenumber': u'1326', u'cuisine': u't...   \n",
       "11772   1029391_0  {u'building': u'office', u'type': u'site', u'n...   \n",
       "11772   1029391_0  {u'building': u'office', u'type': u'site', u'n...   \n",
       "\n",
       "                                                geometry type_left  \\\n",
       "76     POLYGON ((-77.04331293640715 38.92800152138454...      Node   \n",
       "333    POLYGON ((-77.00198237099791 38.88519300099211...      Node   \n",
       "7103   POLYGON ((-77.00217137104065 38.88514010108537...      Node   \n",
       "11273  POLYGON ((-77.03810993380768 38.93121401881736...      Node   \n",
       "451    POLYGON ((-77.02423242966984 38.93632631197021...      Node   \n",
       "556    POLYGON ((-77.02767263509807 38.92961551366762...      Node   \n",
       "3404   POLYGON ((-77.06525415036059 38.91075283221036...      Node   \n",
       "7077   POLYGON ((-77.06590475480317 38.90525643253143...      Node   \n",
       "5121   POLYGON ((-77.06340315265429 38.90791393129712...      Node   \n",
       "1221   POLYGON ((-77.03164384657625 38.91542051562708...      Node   \n",
       "3347   POLYGON ((-77.02589566667427 38.89054851279097...      Node   \n",
       "1354   POLYGON ((-77.03319833592684 38.92859211639402...      Node   \n",
       "4674   POLYGON ((-77.03330163592986 38.92858841644498...      Node   \n",
       "1355   POLYGON ((-77.02933174542581 38.91684301448628...      Node   \n",
       "1365   POLYGON ((-77.0044924062186 38.84156000223057,...      Node   \n",
       "1365   POLYGON ((-77.0044924062186 38.84156000223057,...      Node   \n",
       "1442   POLYGON ((-77.03189635446506 38.90566051575166...      Node   \n",
       "4652   POLYGON ((-77.02185636415591 38.89366501079797...      Node   \n",
       "3463   POLYGON ((-77.02173656407754 38.89376201073885...      Node   \n",
       "4652   POLYGON ((-77.02185636415591 38.89366501079797...      Node   \n",
       "1506   POLYGON ((-77.00266003988999 38.92368640132649...      Node   \n",
       "1573   POLYGON ((-77.06103095065255 38.91038933012665...      Node   \n",
       "1574   POLYGON ((-77.03665553665194 38.92769651809979...      Node   \n",
       "1574   POLYGON ((-77.03665553665194 38.92769651809979...      Node   \n",
       "1577   POLYGON ((-76.99130696006799 38.89872289572486...      Node   \n",
       "1592   POLYGON ((-76.99464035782326 38.90150069736956...      Node   \n",
       "1611   POLYGON ((-77.06714213178969 38.93372223314177...      Node   \n",
       "1643   POLYGON ((-77.0324192261605 38.94066661600956,...      Node   \n",
       "1648   POLYGON ((-77.00186276612709 38.89122300093309...      Node   \n",
       "1709   POLYGON ((-76.98742558609634 38.86649559380975...      Node   \n",
       "...                                                  ...       ...   \n",
       "11325  POLYGON ((-77.02287173582094 38.92872061129889...      Node   \n",
       "11333  POLYGON ((-77.02319483620471 38.92824611145831...      Node   \n",
       "11356  POLYGON ((-77.04304645208329 38.90861112125315...      Node   \n",
       "11375  POLYGON ((-77.04222054254731 38.92040742084557...      Node   \n",
       "11412  POLYGON ((-77.00191846924483 38.8873634009606,...      Node   \n",
       "11432  POLYGON ((-77.06308745592837 38.90386253114137...      Node   \n",
       "11453  POLYGON ((-76.99632637067455 38.88559339820143...      Node   \n",
       "11453  POLYGON ((-76.99632637067455 38.88559339820143...      Node   \n",
       "11455  POLYGON ((-77.05113065662816 38.90299072524189...      Node   \n",
       "11459  POLYGON ((-77.0340131343131 38.93058781679601,...      Node   \n",
       "11489  POLYGON ((-76.99351507263877 38.88316159681433...      Node   \n",
       "11501  POLYGON ((-77.02211335075394 38.91025001092473...      Node   \n",
       "11524  POLYGON ((-77.0227185459681 38.91617071122333,...      Node   \n",
       "11510  POLYGON ((-77.02310234584991 38.91631701141268...      Node   \n",
       "11587  POLYGON ((-77.03228644752163 38.91425121594411...      Node   \n",
       "11589  POLYGON ((-77.03215154723922 38.91460051587757...      Node   \n",
       "11594  POLYGON ((-77.03168104665191 38.91532691564542...      Node   \n",
       "11595  POLYGON ((-77.0316488466537 38.91532471562952,...      Node   \n",
       "11596  POLYGON ((-77.03161264665417 38.91532411561166...      Node   \n",
       "11596  POLYGON ((-77.03161264665417 38.91532411561166...      Node   \n",
       "11597  POLYGON ((-77.03158284665504 38.91532301559696...      Node   \n",
       "11607  POLYGON ((-77.03210004953706 38.91175781585218...      Node   \n",
       "11616  POLYGON ((-77.03202144634457 38.91570721581337...      Node   \n",
       "11638  POLYGON ((-77.03203645104937 38.90988681582079...      Node   \n",
       "11747  POLYGON ((-77.02360943436715 38.93051841166285...      Node   \n",
       "11764  POLYGON ((-77.03211685245046 38.90815331586045...      Node   \n",
       "11764  POLYGON ((-77.03211685245046 38.90815331586045...      Node   \n",
       "11764  POLYGON ((-77.03211685245046 38.90815331586045...      Node   \n",
       "11772  POLYGON ((-77.04001105812317 38.90113631975548...  Relation   \n",
       "11772  POLYGON ((-77.04001105812317 38.90113631975548...  Relation   \n",
       "\n",
       "                        category_left  index_right                 tag_right  \\\n",
       "76          set([cycling facilities])        14338  Bike Rental / Bike Share   \n",
       "333         set([cycling facilities])        11518  Bike Rental / Bike Share   \n",
       "7103        set([cycling facilities])        11518  Bike Rental / Bike Share   \n",
       "11273              set([retail shop])        13576           Laundry Service   \n",
       "451         set([cycling facilities])         8882  Bike Rental / Bike Share   \n",
       "556         set([cycling facilities])        13780  Bike Rental / Bike Share   \n",
       "3404            set([transportation])        19206               Bus Station   \n",
       "7077                      set([food])         1759         Indian Restaurant   \n",
       "5121               set([retail shop])          413               Tailor Shop   \n",
       "1221      set([food, nightlife spot])        17341       American Restaurant   \n",
       "3347            set([transportation])        10603                  Bus Line   \n",
       "1354                      set([food])        14203               Coffee Shop   \n",
       "4674                      set([food])        14203               Coffee Shop   \n",
       "1355                      set([food])        16505               Coffee Shop   \n",
       "1365        set([schools&university])        13326         Elementary School   \n",
       "1365        set([schools&university])        13327         Elementary School   \n",
       "1442   set([outdoors and recreation])          889                      Park   \n",
       "4652            set([transportation])        10224               Bus Station   \n",
       "3463            set([transportation])        10229                  Bus Stop   \n",
       "4652            set([transportation])        10229                  Bus Stop   \n",
       "1506        set([schools&university])        14873         Elementary School   \n",
       "1573   set([outdoors and recreation])        19160                    Garden   \n",
       "1574   set([outdoors and recreation])        14306                      Park   \n",
       "1574   set([outdoors and recreation])        14279                      Park   \n",
       "1577   set([outdoors and recreation])         4536                    Church   \n",
       "1592   set([outdoors and recreation])         3341          Spiritual Center   \n",
       "1611   set([outdoors and recreation])         9325                Playground   \n",
       "1643   set([outdoors and recreation])         8600                    Garden   \n",
       "1648   set([outdoors and recreation])        10550                    Church   \n",
       "1709   set([outdoors and recreation])        12878                    Church   \n",
       "...                               ...          ...                       ...   \n",
       "11325              set([retail shop])        14105       Arts & Crafts Store   \n",
       "11333           set([transportation])        14127               Bus Station   \n",
       "11356     set([professional service])        19805                Non-Profit   \n",
       "11375  set([outdoors and recreation])        16099                    Hostel   \n",
       "11412       set([cycling facilities])        11091  Bike Rental / Bike Share   \n",
       "11432                     set([food])         3047                    Bakery   \n",
       "11453                     set([food])        11006              Dessert Shop   \n",
       "11453                     set([food])        10973                Bagel Shop   \n",
       "11455           set([transportation])         2912                  Bus Line   \n",
       "11459                     set([food])        13874              Noodle House   \n",
       "11489                     set([food])        11801                    Bakery   \n",
       "11501              set([retail shop])        19448                 Pet Store   \n",
       "11524                     set([food])        17194               Coffee Shop   \n",
       "11510              set([retail shop])        17257               Men's Store   \n",
       "11587           set([nightlife spot])        17983              Cocktail Bar   \n",
       "11589              set([retail shop])        17358                  Boutique   \n",
       "11594              set([retail shop])        17369        Salon / Barbershop   \n",
       "11595              set([retail shop])        17369        Salon / Barbershop   \n",
       "11596                      set([art])        17390               Art Gallery   \n",
       "11596                      set([art])        17389               Art Gallery   \n",
       "11597                      set([art])        17389               Art Gallery   \n",
       "11607     set([professional service])        18747                    Office   \n",
       "11616           set([transportation])        17382                  Bus Line   \n",
       "11638           set([transportation])        19604                  Bus Line   \n",
       "11747           set([nightlife spot])        13741                       Bar   \n",
       "11764                     set([food])        20458        Belgian Restaurant   \n",
       "11764                     set([food])        20459          Sushi Restaurant   \n",
       "11764                     set([food])        20460           Thai Restaurant   \n",
       "11772     set([professional service])         4162          Dentist's Office   \n",
       "11772     set([professional service])         4185          Dentist's Office   \n",
       "\n",
       "                       id_right                  category_right type_right  \n",
       "76     4e54f80ad4c0fe0342802d27       set([cycling facilities])         fq  \n",
       "333    4e1c41e4887735dda340d508       set([cycling facilities])         fq  \n",
       "7103   4e1c41e4887735dda340d508       set([cycling facilities])         fq  \n",
       "11273  505b4a96e4b03f672966fe16              set([retail shop])         fq  \n",
       "451    4d330ded6c7c721e7fd6b556       set([cycling facilities])         fq  \n",
       "556    4f84b7c4e4b015c04257f560       set([cycling facilities])         fq  \n",
       "3404   4f9c3f62e4b020e60f9d2dfc           set([transportation])         fq  \n",
       "7077   4726def6f964a520db4b1fe3                     set([food])         fq  \n",
       "5121   4aa569fcf964a5203e4820e3              set([retail shop])         fq  \n",
       "1221   3fd66200f964a520d3f11ee3                     set([food])         fq  \n",
       "3347   4f831890e4b0a458bc8b2802           set([transportation])         fq  \n",
       "1354   4ad89dd4f964a520e21221e3                     set([food])         fq  \n",
       "4674   4ad89dd4f964a520e21221e3                     set([food])         fq  \n",
       "1355   4ada52fbf964a520492121e3                     set([food])         fq  \n",
       "1365   4ce5464e7785a1cd78d418b9       set([schools&university])         fq  \n",
       "1365   4fa2d33be4b0bfaac0f1e698       set([schools&university])         fq  \n",
       "1442   4b1e5276f964a520bb1824e3  set([outdoors and recreation])         fq  \n",
       "4652   4f0f5754e4b07f0a590703f7           set([transportation])         fq  \n",
       "3463   4b68b0fdf964a52064872be3           set([transportation])         fq  \n",
       "4652   4b68b0fdf964a52064872be3           set([transportation])         fq  \n",
       "1506   4c33805616adc9281fbbc39c       set([schools&university])         fq  \n",
       "1573   50788dbee4b0e1f1379e301b  set([outdoors and recreation])         fq  \n",
       "1574   506fb3c2e4b0285db2ae500e  set([outdoors and recreation])         fq  \n",
       "1574   4bc391e374a9a59345bdd4f6  set([outdoors and recreation])         fq  \n",
       "1577   4d31f14aeefa8cfad21931b3  set([outdoors and recreation])         fq  \n",
       "1592   562d3c98498eccd0baadd3c2  set([outdoors and recreation])         fq  \n",
       "1611   4ba6a6a7f964a520326639e3  set([outdoors and recreation])         fq  \n",
       "1643   4bf3d99dd2fbef3badb1a4c5  set([outdoors and recreation])         fq  \n",
       "1648   4d3c5f15557d6dcb30293a44  set([outdoors and recreation])         fq  \n",
       "1709   53aae9a5498e89b5022b909a  set([outdoors and recreation])         fq  \n",
       "...                         ...                             ...        ...  \n",
       "11325  56647d22498e53d325050e1a              set([retail shop])         fq  \n",
       "11333  4d3473595c2db60c63d7d36c           set([transportation])         fq  \n",
       "11356  556897a2498e06099bad8ce9     set([professional service])         fq  \n",
       "11375  56c0892acd10403d3eb1a308  set([outdoors and recreation])         fq  \n",
       "11412  51f98cba498e667b75f3102d       set([cycling facilities])         fq  \n",
       "11432  5440cc89498e5277b68ddb64                     set([food])         fq  \n",
       "11453  54721c34498eff738d9cfb91                     set([food])         fq  \n",
       "11453  57d4058c498e4ecc015aa6ee                     set([food])         fq  \n",
       "11455  4de7c37e7d8b1f2dd2a00a4f           set([transportation])         fq  \n",
       "11459  4a075261f964a52049731fe3                     set([food])         fq  \n",
       "11489  553ebf13498ef071bfb6da83                     set([food])         fq  \n",
       "11501  5505b365498ec5a44f6cee1b              set([retail shop])         fq  \n",
       "11524  5634df5e498e59191d903307                     set([food])         fq  \n",
       "11510  5634e5db498ededd4376b4ad              set([retail shop])         fq  \n",
       "11587  521e8caf11d2f3f244ed29bd           set([nightlife spot])         fq  \n",
       "11589  4bb4df5a2ba29c746569ef2d              set([retail shop])         fq  \n",
       "11594  4c221e7911de20a18b4e84ce              set([retail shop])         fq  \n",
       "11595  4c221e7911de20a18b4e84ce              set([retail shop])         fq  \n",
       "11596  5079bd1fe4b08aa6be6ad637                      set([art])         fq  \n",
       "11596  4dd8035bd1647fcf3e5946a9                      set([art])         fq  \n",
       "11597  4dd8035bd1647fcf3e5946a9                      set([art])         fq  \n",
       "11607  54047018498e07039ec44d6e     set([professional service])         fq  \n",
       "11616  4fc00e08e4b00dd50de96b3b           set([transportation])         fq  \n",
       "11638  4c4edb6fea24c9b65b2a5c16           set([transportation])         fq  \n",
       "11747  57eb3114498e65b30d8036ce           set([nightlife spot])         fq  \n",
       "11764  511cffcde4b077257fe421b2                     set([food])         fq  \n",
       "11764  4cddd0fd78ddf04d56a29698                     set([food])         fq  \n",
       "11764  4a90346cf964a520891620e3                     set([food])         fq  \n",
       "11772  4c3f1eceb8b4be9a5509cdef     set([professional service])         fq  \n",
       "11772  55549420498ee703d3cf7d02     set([professional service])         fq  \n",
       "\n",
       "[954 rows x 10 columns]"
      ]
     },
     "execution_count": 113,
     "metadata": {},
     "output_type": "execute_result"
    }
   ],
   "source": [
    "fq_pts\n",
    "# over kill example\n",
    "fq_pts[(fq_pts.apply(lambda x: len(x.category_right - x.category_left)==0, axis=1))]\n",
    "# fq_pts[(fq_pts.id_left==2276095966)]"
   ]
  },
  {
   "cell_type": "code",
   "execution_count": 12,
   "metadata": {
    "collapsed": false
   },
   "outputs": [
    {
     "data": {
      "text/plain": [
       "(954, 10)"
      ]
     },
     "execution_count": 12,
     "metadata": {},
     "output_type": "execute_result"
    }
   ],
   "source": [
    "fq_pts_overlap = fq_pts[fq_pts.apply(lambda x: len(x.category_right - x.category_left)==0, axis=1)]\n",
    "fq_pts_overlap.shape"
   ]
  },
  {
   "cell_type": "code",
   "execution_count": 13,
   "metadata": {
    "collapsed": false
   },
   "outputs": [
    {
     "data": {
      "text/plain": [
       "((807L,), (795L,))"
      ]
     },
     "execution_count": 13,
     "metadata": {},
     "output_type": "execute_result"
    }
   ],
   "source": [
    "overlap_nodeid = np.unique(fq_pts_overlap.id_left)\n",
    "overlap_fqid = np.unique(fq_pts_overlap.id_right)\n",
    "overlap_nodeid.shape, overlap_fqid.shape"
   ]
  },
  {
   "cell_type": "code",
   "execution_count": 14,
   "metadata": {
    "collapsed": false
   },
   "outputs": [],
   "source": [
    "pts_not_overlap = pts_gpdf_bfr[~pts_gpdf_bfr.id.isin(overlap_nodeid)]\n",
    "fqs_not_overlap = venues_gpdf_bfr[~venues_gpdf_bfr.id.isin(overlap_fqid)]"
   ]
  },
  {
   "cell_type": "code",
   "execution_count": 15,
   "metadata": {
    "collapsed": false
   },
   "outputs": [],
   "source": [
    "overlap_merged = []\n",
    "for oid, grp in fq_pts_overlap.groupby('id_left'):\n",
    "    pts = [grp.geometry.values[0]]\n",
    "    for fqid in grp.id_right.values:\n",
    "        pts.append(venues_gpdf_bfr[venues_gpdf_bfr.id==fqid].geometry.values[0])\n",
    "    tag = str(grp.tag_left.values[0])+'<br>'+ '<br>'.join(grp.tag_right.values)\n",
    "    category = grp.category_left.values[0]\n",
    "    union_pts = cascaded_union(pts)\n",
    "    t = grp.type_left.values[0]+'_fq'\n",
    "    overlap_merged.append((oid, tag, category, union_pts,t))\n",
    "overlap_merged = gp.GeoDataFrame(overlap_merged,columns=['id','tag','category','geometry','type'])"
   ]
  },
  {
   "cell_type": "code",
   "execution_count": 16,
   "metadata": {
    "collapsed": false
   },
   "outputs": [],
   "source": [
    "pts_merged = pd.concat([pts_not_overlap, fqs_not_overlap, overlap_merged],ignore_index=True)"
   ]
  },
  {
   "cell_type": "markdown",
   "metadata": {},
   "source": [
    "#### overlap between osm ways"
   ]
  },
  {
   "cell_type": "code",
   "execution_count": 17,
   "metadata": {
    "collapsed": true
   },
   "outputs": [],
   "source": [
    "from Cycling_Safe.utils.geofunc import remove_equal_shpobj, merge_within"
   ]
  },
  {
   "cell_type": "code",
   "execution_count": 18,
   "metadata": {
    "collapsed": true
   },
   "outputs": [],
   "source": [
    "def get_sub_tree(tree_df, node_id, looping=0):\n",
    "    mask_node = (tree_df.node == node_id)\n",
    "    mask_children = (tree_df.parent == node_id)\n",
    "    assert looping < 100, 'looping too much nodeid:' + str(node_id)\n",
    "\n",
    "    node = tree_df[mask_node]\n",
    "    nid = node.node.values[0]\n",
    "    subtree = {nid}\n",
    "\n",
    "    children_id = tree_df[mask_children].node.values\n",
    "    if len(children_id) == 0:\n",
    "        return subtree, node.shape\n",
    "    \n",
    "    subtree.update(children_id)\n",
    "\n",
    "    for cid in children_id:\n",
    "        c_subtree, c_tree_shape = get_sub_tree(tree_df, cid, looping + 1)\n",
    "        subtree.update(c_subtree)\n",
    "    return subtree, node.shape"
   ]
  },
  {
   "cell_type": "code",
   "execution_count": 19,
   "metadata": {
    "collapsed": false
   },
   "outputs": [
    {
     "name": "stdout",
     "output_type": "stream",
     "text": [
      "begin merge within 2016-12-02 09:28:33.834000\n",
      "keep = 23319 equal pair = 637 (23319, 5) 2016-12-02 09:28:43.530000\n",
      "sjoin.shape = (34072, 10) 2016-12-02 09:29:25.551000\n",
      "messy tree shape = (34072, 2) 2016-12-02 09:29:25.578000\n",
      "clean tree shape = (23319, 3) 2016-12-02 09:29:38.614000\n"
     ]
    }
   ],
   "source": [
    "tree, tree_all_parent, tree_direct_parent, equal_pair_index = merge_within(lns_gpdf)\n",
    "tree = tree.apply(lambda x: x)"
   ]
  },
  {
   "cell_type": "code",
   "execution_count": 20,
   "metadata": {
    "collapsed": true
   },
   "outputs": [],
   "source": [
    "df_epi = pd.DataFrame(equal_pair_index,columns=['keep','equal'])"
   ]
  },
  {
   "cell_type": "code",
   "execution_count": 21,
   "metadata": {
    "collapsed": false
   },
   "outputs": [
    {
     "name": "stdout",
     "output_type": "stream",
     "text": [
      "1209\n",
      "2016-12-02 09:29:38.662000\n",
      "2016-12-02 09:29:52.212000\n",
      "0\n"
     ]
    }
   ],
   "source": [
    "nodes_have_children = tree_direct_parent[\n",
    "    (tree_direct_parent.node.isin(tree_direct_parent.parent.value_counts().index.tolist()))\n",
    "    & (tree_direct_parent.parent == -1)].node.tolist()\n",
    "print len(nodes_have_children)\n",
    "print datetime.datetime.now()\n",
    "sub_trees = []\n",
    "shape_error = []\n",
    "assert_error = []\n",
    "for node_id in nodes_have_children:\n",
    "    try:\n",
    "        subtree, shape = get_sub_tree(tree_direct_parent, node_id)\n",
    "    except Exception as e:\n",
    "        assert_error.append((node_id, e))\n",
    "        continue\n",
    "    if shape != (1, 7):\n",
    "        shape_error.append((node_id, subtree, shape))\n",
    "    sub_trees.append(subtree)\n",
    "print datetime.datetime.now()\n",
    "print len(assert_error)\n",
    "sub_trees = dict(zip(nodes_have_children, sub_trees))"
   ]
  },
  {
   "cell_type": "code",
   "execution_count": 22,
   "metadata": {
    "collapsed": false
   },
   "outputs": [],
   "source": [
    "new_category = []\n",
    "for idx, a in tree.iterrows():\n",
    "    equal_objs = lns_gpdf.loc[df_epi[df_epi.keep==idx].equal].category.values\n",
    "    c = set.union(*equal_objs) if len(equal_objs)>0 else set()\n",
    "    c.update(a.category)\n",
    "    if not idx in sub_trees:\n",
    "        new_category.append(c)\n",
    "    else:\n",
    "        subtree = sub_trees[idx]\n",
    "        c.update(set.union(*lns_gpdf.loc[list(subtree)].category.values))\n",
    "        new_category.append(c)\n"
   ]
  },
  {
   "cell_type": "code",
   "execution_count": 23,
   "metadata": {
    "collapsed": false,
    "scrolled": false
   },
   "outputs": [],
   "source": [
    "tree['category'] = new_category"
   ]
  },
  {
   "cell_type": "code",
   "execution_count": 24,
   "metadata": {
    "collapsed": false
   },
   "outputs": [
    {
     "data": {
      "text/plain": [
       "(14554, 5)"
      ]
     },
     "execution_count": 24,
     "metadata": {},
     "output_type": "execute_result"
    }
   ],
   "source": [
    "lns_merged = gp.GeoDataFrame(tree)\n",
    "\n",
    "lns_merged.crs={'init': 'epsg:4326', 'no_defs': True}\n",
    "lns_merged.shape"
   ]
  },
  {
   "cell_type": "markdown",
   "metadata": {},
   "source": [
    "####  old way"
   ]
  },
  {
   "cell_type": "code",
   "execution_count": 37,
   "metadata": {
    "collapsed": false,
    "scrolled": true
   },
   "outputs": [
    {
     "name": "stdout",
     "output_type": "stream",
     "text": [
      "(148, 18)\n",
      "678\n",
      "(14420, 5)\n",
      "(15057, 5)\n"
     ]
    }
   ],
   "source": [
    "# lns_within = gp.tools.sjoin(lns_gpdf, lns_gpdf,op='within')\n",
    "# lns_contains = gp.tools.sjoin(lns_gpdf, lns_gpdf,op='contains')\n",
    "\n",
    "# lns_within_exclude_self = lns_within[lns_within.id_left!=lns_within.id_right]\n",
    "# lns_contains_exclude_self = lns_contains[lns_contains.id_left!=lns_contains.id_right]\n",
    "# lns_equal_shps = lns_within_exclude_self.merge(lns_contains_exclude_self, left_on=['id_left','id_right'], right_on=['id_left','id_right'])\n",
    "\n",
    "# # it's ok if they are equal but with different categories\n",
    "# print lns_equal_shps[lns_equal_shps.category_left_x!=lns_equal_shps.category_right_x].shape\n",
    "\n",
    "# equal_pairs = lns_equal_shps.apply(lambda x: tuple(sorted([x.id_left, x.id_right])), axis=1).value_counts()\n",
    "# equal_pairs = equal_pairs[equal_pairs>1]\n",
    "# equal_retrieve = [x[0] for x in equal_pairs.index.values]\n",
    "# print len(equal_retrieve)\n",
    "\n",
    "# lns_not_contained = lns_gpdf[~lns_gpdf.id.isin(lns_contains_exclude_self.id_right)]\n",
    "# print lns_not_contained.shape\n",
    "# lns_merged = lns_not_contained.append(lns_gpdf[lns_gpdf.id.isin(equal_retrieve)],ignore_index=True)\n",
    "# print lns_merged.shape\n",
    "# lns_merged.crs={'init': 'epsg:4326', 'no_defs': True}\n"
   ]
  },
  {
   "cell_type": "markdown",
   "metadata": {},
   "source": [
    "####  overlap between ways and points"
   ]
  },
  {
   "cell_type": "code",
   "execution_count": 25,
   "metadata": {
    "collapsed": false
   },
   "outputs": [],
   "source": [
    "lns_pts_overlap = gp.tools.sjoin(lns_merged, pts_merged)\n",
    "# lns_pts_overlap = lns_pts_overlap[lns_pts_overlap.category_left==lns_pts_overlap.category_right]\n",
    "lns_pts_overlap = lns_pts_overlap[lns_pts_overlap.apply(lambda x: len(x.category_right - x.category_left)==0, axis=1)]\n",
    "pts_in_lns = pd.unique(lns_pts_overlap.index_right)\n",
    "pts_not_in_lns = pts_merged.drop(pts_in_lns)"
   ]
  },
  {
   "cell_type": "markdown",
   "metadata": {},
   "source": [
    "### visualize data on the map"
   ]
  },
  {
   "cell_type": "code",
   "execution_count": 34,
   "metadata": {
    "collapsed": false
   },
   "outputs": [],
   "source": [
    "lns_merged_vis = lns_merged.copy()\n",
    "lns_merged_vis['color'] = lns_merged_vis.apply(lambda x: {'Way':'#00F','Relation':'#0FF'}[x.type], axis=1)\n",
    "lns_merged_vis.category = lns_merged_vis.category.apply(str)\n",
    "\n",
    "pts_not_in_lns_vis = pts_not_in_lns.copy()\n",
    "pts_not_in_lns_vis['color'] = pts_not_in_lns_vis.apply(lambda x: {'Node':'#F00', 'fq':'#0F0', 'Node_fq':'#FF0','Relation_fq':'#FF0', 'Relation':'#0FF'}[x.type],axis=1)\n",
    "pts_not_in_lns_vis.category = pts_not_in_lns_vis.category.apply(str)\n",
    "\n",
    "import utils.leaflet_creation_v2;reload(utils.leaflet_creation_v2)\n",
    "from utils.leaflet_creation_v2 import get_color_for_df, create_map_visualization\n",
    "html_title = 'osm_frsq'\n",
    "file_path = '../data/'\n",
    "file_name = 'osm_frsq'\n",
    "lon, lat = -77.0163424758, 38.9047829846\n",
    "zoom = 12\n",
    "init_layer = ['light']\n",
    "map_layer = ['light','streets','satellite']\n",
    "binding_data = [['pts', 'points'], ['osm_lns','osm lines']]\n",
    "gpdfs = [pts_not_in_lns_vis, lns_merged_vis]\n",
    "create_map_visualization(html_title, file_path, file_name, lat, lon, zoom, init_layer, map_layer, binding_data, gpdfs)"
   ]
  },
  {
   "cell_type": "markdown",
   "metadata": {},
   "source": [
    "## output category distribution"
   ]
  },
  {
   "cell_type": "markdown",
   "metadata": {},
   "source": [
    "### get data near segment"
   ]
  },
  {
   "cell_type": "code",
   "execution_count": 69,
   "metadata": {
    "collapsed": true
   },
   "outputs": [],
   "source": [
    "def crs_prepossess(gpdf, init_crs, bfr_crs):\n",
    "    gpdf_crs = gpdf.copy()\n",
    "    if gpdf_crs.crs==None:\n",
    "        gpdf_crs.crs = {'init': u'epsg:{}'.format(init_crs)}\n",
    "    return gpdf_crs.to_crs(epsg=bfr_crs)\n",
    "\n",
    "def bfr_20m(seg):\n",
    "    return seg.geometry.buffer(20)\n",
    "\n",
    "def get_objs_nearby(segments, objs, bfr_func, init_crs, bfr_crs):\n",
    "    seg_crs = crs_prepossess(segments, init_crs, bfr_crs)\n",
    "    obj_crs = crs_prepossess(objs, init_crs, bfr_crs)\n",
    "    seg_crs.geometry = seg_crs.apply(bfr_20m,axis=1)\n",
    "\n",
    "    sjoin = gp.tools.sjoin(seg_crs, obj_crs,op='intersects')\n",
    "    obj_ids_nearby = set(sjoin.index_right)\n",
    "    objs_nearby = objs[objs.index.isin(obj_ids_nearby)]\n",
    "    return sjoin,objs_nearby\n"
   ]
  },
  {
   "cell_type": "code",
   "execution_count": 70,
   "metadata": {
    "collapsed": false
   },
   "outputs": [],
   "source": [
    "dc_segments = gp.read_file('../data/opendc_segments.geojson')\n",
    "semantic_data = lns_merged.append(pts_not_in_lns,ignore_index=True)\n",
    "semantic2seg, semantic_near = get_objs_nearby(dc_segments, semantic_data, bfr_20m, 4326, 3559)"
   ]
  },
  {
   "cell_type": "code",
   "execution_count": 71,
   "metadata": {
    "collapsed": false
   },
   "outputs": [
    {
     "data": {
      "text/plain": [
       "((95087, 27), (31722, 5))"
      ]
     },
     "execution_count": 71,
     "metadata": {},
     "output_type": "execute_result"
    }
   ],
   "source": [
    "semantic2seg.shape, semantic_near.shape"
   ]
  },
  {
   "cell_type": "markdown",
   "metadata": {},
   "source": [
    "### output category count distribution"
   ]
  },
  {
   "cell_type": "code",
   "execution_count": 50,
   "metadata": {
    "collapsed": false
   },
   "outputs": [
    {
     "data": {
      "text/plain": [
       "31722"
      ]
     },
     "execution_count": 50,
     "metadata": {},
     "output_type": "execute_result"
    }
   ],
   "source": [
    "list_mapped = semantic_near.category.values\n",
    "len(list_mapped)"
   ]
  },
  {
   "cell_type": "code",
   "execution_count": 51,
   "metadata": {
    "collapsed": false
   },
   "outputs": [],
   "source": [
    "from collections import defaultdict\n",
    "def get_sum_categories(list_mapped):\n",
    "    sum_categories = defaultdict(int)\n",
    "    for mapped in list_mapped:\n",
    "        for c in list(mapped):\n",
    "            sum_categories[c]+=1\n",
    "    return sum_categories\n",
    "pd.DataFrame(get_sum_categories(list_mapped).items(),columns=['category','osm_plus_fq']).to_csv('../data/category_osm_fq.csv')"
   ]
  },
  {
   "cell_type": "markdown",
   "metadata": {
    "collapsed": true
   },
   "source": [
    "### output category segment distribution"
   ]
  },
  {
   "cell_type": "code",
   "execution_count": 95,
   "metadata": {
    "collapsed": false
   },
   "outputs": [
    {
     "data": {
      "text/plain": [
       "(12522, (13522, 22))"
      ]
     },
     "execution_count": 95,
     "metadata": {},
     "output_type": "execute_result"
    }
   ],
   "source": [
    "semantic_per_segment = {}\n",
    "for segid, grp in semantic2seg.groupby('STREETSEGID'):  \n",
    "#     print segid\n",
    "    semantic_per_segment[segid] = dict(get_sum_categories(grp.category.values))\n",
    "len(semantic_per_segment), dc_segments.shape"
   ]
  },
  {
   "cell_type": "code",
   "execution_count": 96,
   "metadata": {
    "collapsed": false
   },
   "outputs": [],
   "source": [
    "dc_segment_category = dc_segments[['STREETSEGID']].merge(pd.DataFrame(semantic_per_segment.items(),columns=['STREETSEGID','category']),how='left')"
   ]
  },
  {
   "cell_type": "code",
   "execution_count": 97,
   "metadata": {
    "collapsed": false
   },
   "outputs": [],
   "source": [
    "dc_segment_category['total'] = dc_segment_category.category.apply(lambda x: sum(x.values()) if type(x)!=float else 0)"
   ]
  },
  {
   "cell_type": "code",
   "execution_count": 98,
   "metadata": {
    "collapsed": false
   },
   "outputs": [],
   "source": [
    "labels = ['art','outdoors and recreation', 'retail shop', 'professional service', 'food', 'nightlife spot','residence','schools&university','cycling facilities','transportation']\n",
    "for l in labels:\n",
    "    dc_segment_category[l] = dc_segment_category.category.apply(lambda x: x.get(l,0) if type(x)!=float else 0)"
   ]
  },
  {
   "cell_type": "code",
   "execution_count": 101,
   "metadata": {
    "collapsed": false
   },
   "outputs": [],
   "source": [
    "dc_segment_category.drop('category',axis=1).to_csv('../data/category_osm_fq_per_segment.csv')"
   ]
  },
  {
   "cell_type": "code",
   "execution_count": null,
   "metadata": {
    "collapsed": true
   },
   "outputs": [],
   "source": []
  },
  {
   "cell_type": "code",
   "execution_count": null,
   "metadata": {
    "collapsed": true
   },
   "outputs": [],
   "source": []
  },
  {
   "cell_type": "code",
   "execution_count": null,
   "metadata": {
    "collapsed": true
   },
   "outputs": [],
   "source": []
  },
  {
   "cell_type": "code",
   "execution_count": null,
   "metadata": {
    "collapsed": true
   },
   "outputs": [],
   "source": [
    "lns_gpdf_vis = lns_gpdf\n",
    "lns_gpdf_vis['color'] = '#00F'\n",
    "pts_gpdf_vis = pts_gpdf_crs.to_crs(epsg=4326)\n",
    "pts_gpdf_vis['color'] = '#F00'\n",
    "venues_gpdf_vis = venues_gpdf_crs.to_crs(epsg=4326)\n",
    "venues_gpdf_vis['color'] = '#0F0'\n",
    "\n",
    "import utils.leaflet_creation_v2;reload(utils.leaflet_creation_v2)\n",
    "from utils.leaflet_creation_v2 import get_color_for_df, create_map_visualization\n",
    "html_title = 'osm_pts_frsq'\n",
    "file_path = '../data/'\n",
    "file_name = 'osm_pts_frsq'\n",
    "lon, lat = -77.0163424758, 38.9047829846\n",
    "zoom = 12\n",
    "init_layer = ['light']\n",
    "map_layer = ['light','streets','satellite']\n",
    "binding_data = [['fq', 'foursqaure venues'],['osm_pts', 'osm points'], ['osm_lns','osm lines']]\n",
    "gpdfs = [venues_gpdf_vis, pts_gpdf_vis, lns_gpdf_vis]\n",
    "create_map_visualization(html_title, file_path, file_name, lat, lon, zoom, init_layer, map_layer, binding_data, gpdfs)"
   ]
  },
  {
   "cell_type": "code",
   "execution_count": null,
   "metadata": {
    "collapsed": true
   },
   "outputs": [],
   "source": []
  },
  {
   "cell_type": "code",
   "execution_count": null,
   "metadata": {
    "collapsed": true
   },
   "outputs": [],
   "source": []
  },
  {
   "cell_type": "code",
   "execution_count": null,
   "metadata": {
    "collapsed": true
   },
   "outputs": [],
   "source": []
  },
  {
   "cell_type": "code",
   "execution_count": null,
   "metadata": {
    "collapsed": true
   },
   "outputs": [],
   "source": []
  }
 ],
 "metadata": {
  "kernelspec": {
   "display_name": "Python 2",
   "language": "python",
   "name": "python2"
  },
  "language_info": {
   "codemirror_mode": {
    "name": "ipython",
    "version": 2
   },
   "file_extension": ".py",
   "mimetype": "text/x-python",
   "name": "python",
   "nbconvert_exporter": "python",
   "pygments_lexer": "ipython2",
   "version": "2.7.11"
  }
 },
 "nbformat": 4,
 "nbformat_minor": 0
}
