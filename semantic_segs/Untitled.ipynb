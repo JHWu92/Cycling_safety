{
 "cells": [
  {
   "cell_type": "code",
   "execution_count": 12,
   "metadata": {
    "collapsed": true
   },
   "outputs": [],
   "source": [
    "import datetime\n",
    "import sys\n",
    "import logging\n",
    "import os\n",
    "\n",
    "import geopandas as gp\n",
    "\n",
    "sys.path.insert(0, os.path.abspath('../../'))\n",
    "from Cycling_Safe.utils.osm.container import OSMContainer\n",
    "import Cycling_Safe.utils.osm.osm2shp \n",
    "reload(Cycling_Safe.utils.osm.osm2shp )\n",
    "from Cycling_Safe.utils.osm.osm2shp import *\n",
    "\n",
    "from Cycling_Safe.utils.osm.osmFliter import *\n",
    "from seg_nearby import get_osm_ids_near_dc_seg, bfr_20m\n",
    "import Cycling_Safe.utils.geofunc\n",
    "reload(Cycling_Safe.utils.geofunc)\n",
    "from Cycling_Safe.utils.geofunc import merge_within\n",
    "import pandas as pd\n",
    "from collections import defaultdict, Counter\n"
   ]
  },
  {
   "cell_type": "code",
   "execution_count": 6,
   "metadata": {
    "collapsed": true
   },
   "outputs": [],
   "source": [
    "\n",
    "def build_gpdf_list_from_osm(osm_data, nodes, ways, rltns):\n",
    "    columns = ['id', 'type', 'geometry']\n",
    "    shpobjs_from_nodes = [(node.id, 'Node', node2pt(node)) for node in nodes]\n",
    "    shpobjs_from_ways = [(way.id, 'Way', way2lineOrpoly(osm_data, way)) for way in ways]\n",
    "    shpobjs_from_rltns = [rltn2mergedFlattenListShp(osm_data, rltn) for rltn in rltns]\n",
    "    shpobjs_from_rltns = [r for r in shpobjs_from_rltns if r]\n",
    "    shpobjs_from_rltns = [(rltn.id, 'Relation', shpobj) for shpobjs in shpobjs_from_rltns for shpobj in shpobjs]\n",
    "    print 'build_gpdf_list len(shpobjs_from_nodes)={},len(shpobjs_from_ways)={},len(shpobjs_from_rltns)={}'.format(\n",
    "        len(shpobjs_from_nodes), len(shpobjs_from_ways), len(shpobjs_from_rltns))\n",
    "    shpobjs = []\n",
    "    shpobjs.extend(shpobjs_from_nodes)\n",
    "    shpobjs.extend(shpobjs_from_ways)\n",
    "    shpobjs.extend(shpobjs_from_rltns)\n",
    "    gpdf = gp.GeoDataFrame(shpobjs, columns=columns)\n",
    "    return gpdf\n"
   ]
  },
  {
   "cell_type": "code",
   "execution_count": 7,
   "metadata": {
    "collapsed": false
   },
   "outputs": [
    {
     "name": "stdout",
     "output_type": "stream",
     "text": [
      "begin OSM POI pipeline\n",
      "begin reading osm 2016-11-12 21:41:07.818000\n",
      "finish reading osm 2016-11-12 21:42:21.408000\n",
      "finished reading osm data\n",
      "2.\n",
      "retrieve osm within dc polygon\n"
     ]
    }
   ],
   "source": [
    "print 'begin OSM POI pipeline'\n",
    "data_dir = '../data/'\n",
    "osm_data_dir = data_dir + 'osm/'\n",
    "\n",
    "# 1. read OSM data\n",
    "start_time = datetime.datetime.now()\n",
    "path_osm_dc_bbox = osm_data_dir + 'osm_dc_bbox.osm'\n",
    "osm_dc_bbox = OSMContainer(path_osm_dc_bbox)\n",
    "print 'finished reading osm data'\n",
    "\n",
    "# 2. retrieve osm within dc polygon - from/data_prepro/getOSM_within_dc_poly\n",
    "print '2.'\n",
    "start_time = datetime.datetime.now()\n",
    "path_osm_ids_in_dc = osm_data_dir + 'osm_ids_within_dc_polygon.txt'\n",
    "with open(path_osm_ids_in_dc) as f:\n",
    "    osm_ids_in_dc = eval(f.readlines()[0])\n",
    "dc_nodes = filter_objs_by_ids(osm_dc_bbox.osm_objs['Node'], osm_ids_in_dc['Node'])\n",
    "dc_ways = filter_objs_by_ids(osm_dc_bbox.osm_objs['Way'], osm_ids_in_dc['Way'])\n",
    "dc_rltns = filter_objs_by_ids(osm_dc_bbox.osm_objs['Relation'], osm_ids_in_dc['Relation'])\n",
    "print 'retrieve osm within dc polygon'"
   ]
  },
  {
   "cell_type": "code",
   "execution_count": 8,
   "metadata": {
    "collapsed": false
   },
   "outputs": [
    {
     "name": "stdout",
     "output_type": "stream",
     "text": [
      "len with tags: node=37912, way=190931, relation=2552\n"
     ]
    }
   ],
   "source": [
    "dc_nodes_with_tag = filter_osm_data(dc_nodes)\n",
    "dc_ways_with_tag = filter_osm_data(dc_ways)\n",
    "dc_rltns_with_tag = filter_osm_data(dc_rltns)\n",
    "print 'len with tags: node={}, way={}, relation={}'.format(\n",
    "    len(dc_nodes_with_tag), len(dc_ways_with_tag), len(dc_rltns_with_tag))\n"
   ]
  },
  {
   "cell_type": "code",
   "execution_count": 9,
   "metadata": {
    "collapsed": true
   },
   "outputs": [],
   "source": [
    "\n",
    "path_opendc_segs = data_dir + 'opendc_segments.geojson'\n",
    "segs = gp.read_file(path_opendc_segs)"
   ]
  },
  {
   "cell_type": "code",
   "execution_count": 13,
   "metadata": {
    "collapsed": false,
    "scrolled": true
   },
   "outputs": [
    {
     "name": "stderr",
     "output_type": "stream",
     "text": [
      "Ring Self-intersection at or near point -77.020059900000007 38.815362499999999\n",
      "WARNING:shapely.geos:Ring Self-intersection at or near point -77.020059900000007 38.815362499999999\n",
      "D:\\���ѧϰ����\\Life in Maryland\\Research Project��CyclingSafe\\github\\Cycling_Safe\\utils\\osm\\osm2shp.py:30: UserWarning: way id=59249848 is not valid as a <class 'shapely.geometry.polygon.Polygon'>\n",
      "  warnings.warn(\"way id={} is not valid as a {}\".format(way.id, type(obj)))\n",
      "Self-intersection at or near point -77.047313000000003 38.907462299999999\n",
      "WARNING:shapely.geos:Self-intersection at or near point -77.047313000000003 38.907462299999999\n",
      "D:\\���ѧϰ����\\Life in Maryland\\Research Project��CyclingSafe\\github\\Cycling_Safe\\utils\\osm\\osm2shp.py:30: UserWarning: way id=66646317 is not valid as a <class 'shapely.geometry.polygon.Polygon'>\n",
      "  warnings.warn(\"way id={} is not valid as a {}\".format(way.id, type(obj)))\n",
      "Self-intersection at or near point -77.018634802813295 38.911758200000001\n",
      "WARNING:shapely.geos:Self-intersection at or near point -77.018634802813295 38.911758200000001\n",
      "D:\\���ѧϰ����\\Life in Maryland\\Research Project��CyclingSafe\\github\\Cycling_Safe\\utils\\osm\\osm2shp.py:30: UserWarning: way id=67232331 is not valid as a <class 'shapely.geometry.polygon.Polygon'>\n",
      "  warnings.warn(\"way id={} is not valid as a {}\".format(way.id, type(obj)))\n",
      "Self-intersection at or near point -77.021721999999997 38.919942800000001\n",
      "WARNING:shapely.geos:Self-intersection at or near point -77.021721999999997 38.919942800000001\n",
      "D:\\���ѧϰ����\\Life in Maryland\\Research Project��CyclingSafe\\github\\Cycling_Safe\\utils\\osm\\osm2shp.py:30: UserWarning: way id=226023224 is not valid as a <class 'shapely.geometry.polygon.Polygon'>\n",
      "  warnings.warn(\"way id={} is not valid as a {}\".format(way.id, type(obj)))\n",
      "Self-intersection at or near point -76.960937168640712 38.892445184048071\n",
      "WARNING:shapely.geos:Self-intersection at or near point -76.960937168640712 38.892445184048071\n"
     ]
    },
    {
     "name": "stdout",
     "output_type": "stream",
     "text": [
      "build_gpdf_list len(shpobjs_from_nodes)=37912,len(shpobjs_from_ways)=190931,len(shpobjs_from_rltns)=3174\n"
     ]
    },
    {
     "name": "stderr",
     "output_type": "stream",
     "text": [
      "D:\\���ѧϰ����\\Life in Maryland\\Research Project��CyclingSafe\\github\\Cycling_Safe\\utils\\osm\\osm2shp.py:30: UserWarning: way id=297747861 is not valid as a <class 'shapely.geometry.polygon.Polygon'>\n",
      "  warnings.warn(\"way id={} is not valid as a {}\".format(way.id, type(obj)))\n"
     ]
    }
   ],
   "source": [
    "\n",
    "def flatten_rltn_shpcltn(shpcltn):\n",
    "    flat_shpcltn = []\n",
    "    for shpobjs in shpcltn:\n",
    "        flat_shpcltn.extend(shpobjs)\n",
    "    return flat_shpcltn\n",
    "\n",
    "def build_gpdf_list_from_osm(osm_data, nodes, ways, rltns):\n",
    "    columns = ['id', 'type', 'geometry']\n",
    "    shpobjs_from_nodes = [(node.id, 'Node', node2pt(node)) for node in nodes]\n",
    "    shpobjs_from_ways = [(way.id, 'Way', way2lineOrpoly(osm_data, way)) for way in ways]\n",
    "    shpobjs_from_rltns = [(rltn.id,rltn2mergedFlattenListShp(osm_data,rltn)) for rltn in rltns]\n",
    "    shpobjs_from_rltns = [r for r in shpobjs_from_rltns if r[1]]\n",
    "    shpobjs_from_rltns = [(rid, 'Relation', shpobj) for (rid,shpobjs) in shpobjs_from_rltns for shpobj in shpobjs]\n",
    "    print 'build_gpdf_list len(shpobjs_from_nodes)={},len(shpobjs_from_ways)={},len(shpobjs_from_rltns)={}'.format(\n",
    "        len(shpobjs_from_nodes), len(shpobjs_from_ways), len(shpobjs_from_rltns))\n",
    "    shpobjs = []\n",
    "    shpobjs.extend(shpobjs_from_nodes)\n",
    "    shpobjs.extend(shpobjs_from_ways)\n",
    "    shpobjs.extend(shpobjs_from_rltns)\n",
    "    gpdf = gp.GeoDataFrame(shpobjs, columns=columns)\n",
    "    return gpdf\n",
    "osm_gpdf = build_gpdf_list_from_osm(osm_dc_bbox,dc_nodes_with_tag,dc_ways_with_tag, dc_rltns_with_tag)\n"
   ]
  },
  {
   "cell_type": "code",
   "execution_count": null,
   "metadata": {
    "collapsed": false
   },
   "outputs": [
    {
     "name": "stdout",
     "output_type": "stream",
     "text": [
      "seg nearby.py: get_osm_ids_near_dc_seg, len duplicated ids = 19386 len unique ids= 19386\n",
      "seg nearby.py: get_osm_ids_near_dc_seg, len duplicated ids = 2626 len unique ids= 2203\n",
      "seg nearby.py: get_osm_ids_near_dc_seg, len duplicated ids = 140629 len unique ids= 140629\n"
     ]
    }
   ],
   "source": [
    "\n",
    "osm_ids_near = get_osm_ids_near_dc_seg(segs, osm_gpdf, bfr_20m)\n"
   ]
  },
  {
   "cell_type": "code",
   "execution_count": null,
   "metadata": {
    "collapsed": false
   },
   "outputs": [
    {
     "name": "stdout",
     "output_type": "stream",
     "text": [
      "filter by id len ways = 140629, relations = 2203\n",
      "filter by tag len ways = 127877, relations = 1394"
     ]
    },
    {
     "name": "stderr",
     "output_type": "stream",
     "text": [
      "Ring Self-intersection at or near point -77.020059900000007 38.815362499999999\n",
      "WARNING:shapely.geos:Ring Self-intersection at or near point -77.020059900000007 38.815362499999999\n",
      "Self-intersection at or near point -77.047313000000003 38.907462299999999\n",
      "WARNING:shapely.geos:Self-intersection at or near point -77.047313000000003 38.907462299999999\n",
      "Self-intersection at or near point -77.018634802813295 38.911758200000001\n",
      "WARNING:shapely.geos:Self-intersection at or near point -77.018634802813295 38.911758200000001\n",
      "Self-intersection at or near point -77.021721999999997 38.919942800000001\n",
      "WARNING:shapely.geos:Self-intersection at or near point -77.021721999999997 38.919942800000001\n",
      "Self-intersection at or near point -76.960937168640712 38.892445184048071\n",
      "WARNING:shapely.geos:Self-intersection at or near point -76.960937168640712 38.892445184048071\n"
     ]
    }
   ],
   "source": [
    "osm_ids_for_merge = osm_ids_near\n",
    "# filter osm for merge\n",
    "dc_nodes_for_merge = filter_objs_by_ids(dc_nodes, osm_ids_for_merge['Node'])\n",
    "dc_ways_for_merge = filter_objs_by_ids(dc_ways, osm_ids_for_merge['Way'])\n",
    "dc_rltns_for_merge = filter_objs_by_ids(dc_rltns, osm_ids_for_merge['Relation'])\n",
    "print 'filter by id len ways = {}, relations = {}'.format(len(dc_ways_for_merge), len(dc_rltns_for_merge))\n",
    "\n",
    "filter_for_ways = [filter_isnot_admin, filter_isnot_motorway, filter_isnot_landuse]\n",
    "dc_ways_for_merge = filter_osm_data(dc_ways_for_merge, special_filters=filter_for_ways)\n",
    "filter_for_rltns = [filter_isnot_admin, filter_isnot_restriction, filter_isnot_landuse]\n",
    "dc_rltns_for_merge = filter_osm_data(dc_rltns_for_merge, special_filters=filter_for_rltns)\n",
    "print 'filter by tag len ways = {}, relations = {}'.format(len(dc_ways_for_merge), len(dc_rltns_for_merge))\n",
    "\n",
    "## do merge on filtered by ids\n",
    "gpdf_for_merge = build_gpdf_list_from_osm(osm_dc_bbox, dc_nodes_for_merge, dc_ways_for_merge, dc_rltns_for_merge)\n",
    "_, all_parents, direct_parent, osm_ids_equal_pair = merge_within(gpdf_for_merge)\n"
   ]
  }
 ],
 "metadata": {
  "kernelspec": {
   "display_name": "Python 2",
   "language": "python",
   "name": "python2"
  },
  "language_info": {
   "codemirror_mode": {
    "name": "ipython",
    "version": 2
   },
   "file_extension": ".py",
   "mimetype": "text/x-python",
   "name": "python",
   "nbconvert_exporter": "python",
   "pygments_lexer": "ipython2",
   "version": "2.7.11"
  }
 },
 "nbformat": 4,
 "nbformat_minor": 0
}
