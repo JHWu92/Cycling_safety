{
 "cells": [
  {
   "cell_type": "code",
   "execution_count": 41,
   "metadata": {
    "collapsed": true
   },
   "outputs": [],
   "source": [
    "from split_video_gpx import parse_gpx\n",
    "from geom_helper import pts2segs\n",
    "from itertools import chain\n",
    "import pandas as pd\n",
    "import geopandas as gp\n",
    "from shapely.geometry import Point\n",
    "from snap2road import snap2road\n",
    "from trace2seg import seg_disambiguation\n",
    "from utils import *"
   ]
  },
  {
   "cell_type": "code",
   "execution_count": 57,
   "metadata": {
    "collapsed": false
   },
   "outputs": [],
   "source": [
    "gpx = 'Sample Data/GPX/Track_2017-02-21 125536.gpx'\n",
    "# gpx = 'Sample Data/GPX/Track_2017-02-21 131933.gpx'\n",
    "\n",
    "vfile, raw_locs, tms = parse_gpx(gpx)\n",
    "snapped_res = snap2road(raw_locs,tms)\n",
    "snapped_df = pd.DataFrame.from_dict(snapped_res['snapped'])\n",
    "raw_df = pd.DataFrame.from_dict(snapped_res['raw'])\n"
   ]
  },
  {
   "cell_type": "code",
   "execution_count": 4,
   "metadata": {
    "collapsed": true
   },
   "outputs": [],
   "source": [
    "segs = gp.read_file(u'd:\\\\★★学习工作\\\\Life in Maryland\\\\Research Project：CyclingSafe\\\\Cycling_safety\\\\open_data_analysis\\\\data\\\\segments_dc.geojson')"
   ]
  },
  {
   "cell_type": "code",
   "execution_count": 58,
   "metadata": {
    "collapsed": false
   },
   "outputs": [],
   "source": [
    "trace = raw_locs\n",
    "tms = tms\n",
    "close_jn_dist=10\n",
    "far_jn_dist=30\n",
    "cnsectv_stepsize=3\n",
    "cnsectv_thres=0.08\n",
    "# def trace2segs(segs, trace, tms):\n",
    "\"\"\"\n",
    "segs: gpdf\n",
    "trace: list of (lon, lat) points\n",
    "tms: list of \"%Y-%m-%dT%H:%M:%SZ\"\n",
    "\"\"\"\n",
    "# snapped_res = snap2road(trace,tms)\n",
    "# snapped_df = pd.DataFrame.from_dict(snapped_res['snapped'])\n",
    "snapped_trace = list(chain(*snapped_df.snapped.values))"
   ]
  },
  {
   "cell_type": "code",
   "execution_count": 59,
   "metadata": {
    "collapsed": true
   },
   "outputs": [],
   "source": [
    "snapped_trace_gpdf = gp.GeoDataFrame([Point(x) for x in snapped_trace], columns=['geometry'])\n"
   ]
  },
  {
   "cell_type": "code",
   "execution_count": 60,
   "metadata": {
    "collapsed": true
   },
   "outputs": [],
   "source": [
    "pts_segs, _ = pts2segs(snapped_trace_gpdf, segs, bfr_crs=3559, close_jn_dist=close_jn_dist, far_jn_dist=far_jn_dist)\n"
   ]
  },
  {
   "cell_type": "code",
   "execution_count": 61,
   "metadata": {
    "collapsed": false
   },
   "outputs": [],
   "source": [
    "pts_idx_ln_idx = snapped_trace_gpdf.merge(pts_segs, left_index=True, right_on='index_pt').groupby('index_pt')['index_ln'].apply(list).to_frame()\n",
    "snapped_trace_gpdf = snapped_trace_gpdf.merge(pts_idx_ln_idx, left_index=True, right_index=True)"
   ]
  },
  {
   "cell_type": "code",
   "execution_count": 62,
   "metadata": {
    "collapsed": false
   },
   "outputs": [],
   "source": [
    "snapped_trace_gpdf['clean_seg'] = seg_disambiguation(snapped_trace_gpdf.index_ln.values, keep_tie=True)\n",
    "snapped_trace_gpdf['clean_seg2'] = seg_disambiguation(snapped_trace_gpdf.clean_seg.values)\n"
   ]
  },
  {
   "cell_type": "code",
   "execution_count": 63,
   "metadata": {
    "collapsed": false
   },
   "outputs": [],
   "source": [
    "trace_segs_idx = pd.unique(chain(*snapped_trace_gpdf.clean_seg2.values))\n",
    "segs_linear_reference = []\n",
    "for seg_index in trace_segs_idx:\n",
    "    seg = segs.loc[seg_index, 'geometry']\n",
    "    projected = snapped_trace_gpdf[snapped_trace_gpdf.index_ln.apply(lambda x: seg_index in x)].geometry.apply(\n",
    "        lambda x: seg.project(x, normalized=True))\n",
    "    for sub_indices in group_consecutive(projected.index.values, stepsize=cnsectv_stepsize):\n",
    "        sub = projected[sub_indices]\n",
    "        s, e = sub.min(), sub.max()\n",
    "        round_s, round_e = float_round(s, direction='down'), float_round(e, direction='up')\n",
    "        if e - s > cnsectv_thres:\n",
    "            segs_linear_reference.append((seg_index, round_s, round_e, round_e - round_s))\n"
   ]
  },
  {
   "cell_type": "code",
   "execution_count": null,
   "metadata": {
    "collapsed": true
   },
   "outputs": [],
   "source": []
  },
  {
   "cell_type": "code",
   "execution_count": 64,
   "metadata": {
    "collapsed": false
   },
   "outputs": [],
   "source": [
    "segs_lin = pd.DataFrame(segs_linear_reference, columns=['index', 'start','end', 'diff']).set_index('index')"
   ]
  },
  {
   "cell_type": "code",
   "execution_count": 65,
   "metadata": {
    "collapsed": true
   },
   "outputs": [],
   "source": [
    "from shapely.geometry import LineString"
   ]
  },
  {
   "cell_type": "code",
   "execution_count": null,
   "metadata": {
    "collapsed": false
   },
   "outputs": [],
   "source": []
  },
  {
   "cell_type": "code",
   "execution_count": 66,
   "metadata": {
    "collapsed": false
   },
   "outputs": [
    {
     "data": {
      "text/html": [
       "<div>\n",
       "<table border=\"1\" class=\"dataframe\">\n",
       "  <thead>\n",
       "    <tr style=\"text-align: right;\">\n",
       "      <th></th>\n",
       "      <th>geometry</th>\n",
       "      <th>color</th>\n",
       "    </tr>\n",
       "  </thead>\n",
       "  <tbody>\n",
       "    <tr>\n",
       "      <th>0</th>\n",
       "      <td>LINESTRING (-77.009486 38.902514, -77.00944699...</td>\n",
       "      <td>#aa0</td>\n",
       "    </tr>\n",
       "  </tbody>\n",
       "</table>\n",
       "</div>"
      ],
      "text/plain": [
       "                                            geometry color\n",
       "0  LINESTRING (-77.009486 38.902514, -77.00944699...  #aa0"
      ]
     },
     "execution_count": 66,
     "metadata": {},
     "output_type": "execute_result"
    }
   ],
   "source": [
    "snap_line"
   ]
  },
  {
   "cell_type": "code",
   "execution_count": 67,
   "metadata": {
    "collapsed": true
   },
   "outputs": [],
   "source": [
    "# visualize the trace and corresponding segments\n",
    "part_segs_dc_plt= segs[['geometry','STREETSEGID']].merge(segs_lin, left_index=True, right_index=True).reset_index()\n",
    "part_segs_dc_plt['color']='#0a0'\n",
    "\n",
    "snap_line = gp.GeoDataFrame([LineString(snapped_trace_gpdf.geometry.tolist())], columns=['geometry'])\n",
    "snap_line['color'] = '#aa0'\n",
    "\n",
    "snap_pts_gpdf_plt = snapped_trace_gpdf.reset_index()\n",
    "snap_pts_gpdf_plt['wkt'] = snap_pts_gpdf_plt.geometry.apply(lambda x: x.wkt)\n",
    "snap_pts_gpdf_plt.index_ln = snap_pts_gpdf_plt.index_ln.apply(str)\n",
    "snap_pts_gpdf_plt.clean_seg = snap_pts_gpdf_plt.clean_seg.apply(str)\n",
    "snap_pts_gpdf_plt.clean_seg2 = snap_pts_gpdf_plt.clean_seg2.apply(str)\n",
    "snap_pts_gpdf_plt.geometry = snap_pts_gpdf_plt.buffer(0.00002)\n",
    "snap_pts_gpdf_plt['color'] = '#a00'\n",
    "\n",
    "orgn_pts = gp.GeoDataFrame([Point(x) for x in raw_locs],columns=['geometry'])\n",
    "orgn_pts_plt = orgn_pts.reset_index()\n",
    "orgn_pts_plt['wkt'] = orgn_pts_plt.geometry.apply(lambda x: x.wkt)\n",
    "orgn_pts_plt.geometry = orgn_pts_plt.buffer(0.00002)\n",
    "orgn_pts_plt['color'] = '#00a'\n",
    "\n",
    "from leaflet_creation import create_map_visualization\n",
    "\n",
    "html_title = 'openstreetmap elements'\n",
    "file_path = ''\n",
    "file_name = 'vis snap2segs2'\n",
    "lon, lat = -77.0908494, 38.9045525  #D.C.\n",
    "zoom = 12\n",
    "init_layers = ['streets', 'stsg']\n",
    "map_layers = ['light','streets', 'satellite']\n",
    "binding_data=[['ly1','snap'],['ly2','orgn'],['ly3', 'segments'],['ly4','snap line']]\n",
    "gpdfs = [snap_pts_gpdf_plt, orgn_pts_plt, part_segs_dc_plt, snap_line]\n",
    "create_map_visualization(html_title, file_path, file_name, lat, lon, zoom, init_layers, map_layers, binding_data, gpdfs)"
   ]
  },
  {
   "cell_type": "code",
   "execution_count": null,
   "metadata": {
    "collapsed": true
   },
   "outputs": [],
   "source": []
  }
 ],
 "metadata": {
  "kernelspec": {
   "display_name": "Python 2",
   "language": "python",
   "name": "python2"
  },
  "language_info": {
   "codemirror_mode": {
    "name": "ipython",
    "version": 2
   },
   "file_extension": ".py",
   "mimetype": "text/x-python",
   "name": "python",
   "nbconvert_exporter": "python",
   "pygments_lexer": "ipython2",
   "version": "2.7.11"
  }
 },
 "nbformat": 4,
 "nbformat_minor": 2
}
