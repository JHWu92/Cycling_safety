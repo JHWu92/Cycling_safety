{
 "cells": [
  {
   "cell_type": "code",
   "execution_count": 1,
   "metadata": {
    "collapsed": false
   },
   "outputs": [],
   "source": [
    "# os.chdir('..')\n",
    "import split_video_gpx; reload(split_video_gpx)\n",
    "from split_video_gpx import *\n",
    "\n",
    "import utils; reload(utils)\n",
    "from utils import *"
   ]
  },
  {
   "cell_type": "code",
   "execution_count": 10,
   "metadata": {
    "collapsed": false,
    "scrolled": true
   },
   "outputs": [
    {
     "name": "stdout",
     "output_type": "stream",
     "text": [
      "/mnt/d/★★学习工作/Life in Maryland/Research Project：CyclingSafe/Cycling_safety/video_gpx/Sample Data\n"
     ]
    }
   ],
   "source": [
    "os.chdir('Sample Data/')\n",
    "print os.getcwd()\n",
    "gpx_files = glob.glob(\"GPX/*.gpx\")\n",
    "gpx_video_match = []\n",
    "parse_result = []\n",
    "bad_quality_thres=10\n",
    "stop_thres=0.05\n",
    "short_stop=10\n",
    "smooth=True\n",
    "largest_chunk_seconds = 30\n",
    "\n",
    "for gpx_f in gpx_files:\n",
    "    # extract information\n",
    "    video_name, lon_lats, timestamps, duration = parse_gpx(gpx_f)\n",
    "    # quality control\n",
    "    has_video = os.path.isfile(video_name)\n",
    "    is_bad_max = bad_quality_max_diff(timestamps, thres=bad_quality_thres)\n",
    "    is_bad_int = bad_quality_diff_not_int(timestamps)\n",
    "    gpx_video_match.append((gpx_f, video_name, has_video, is_bad_max, is_bad_int))\n",
    "\n",
    "    # skip parsing the trace, \n",
    "    # if the video for a gpx can't be found, or the quality of of gpx is bad\n",
    "    if not has_video or is_bad_max or is_bad_int:\n",
    "        continue\n",
    "    \n",
    "    # preprocess locations and timestamps\n",
    "    # fill in timestamps gap\n",
    "    fill_gpx, fill_timestamps = fill_gpx_gap(lon_lats, timestamps)\n",
    "    # alignment based on video duration\n",
    "    vdur_round = int(round(duration_of_video(video_name)))\n",
    "    aligned_gpx, aligned_timestamps = align_loc_ts_duration(fill_gpx, fill_timestamps,vdur_round)\n",
    "    aligned = zip(range(len(aligned_gpx)), aligned_gpx, aligned_timestamps)\n",
    "    \n",
    "    # find separate points by long stop\n",
    "    split_points = split_points_indices_by_stop(aligned_gpx, stop_thres=stop_thres, short_stop=short_stop, smooth=smooth)\n",
    "\n",
    "    # get chunks based on long stop and largest chunk second size\n",
    "    chunks = []\n",
    "    for i, j in split_points:\n",
    "        chunks.extend(list(even_chunks(aligned[i:j+1], largest_chunk_seconds)))\n",
    "    \n",
    "    parse_result.append((gpx_f, lon_lats, timestamps, duration_of_video(video_name),\n",
    "                         vdur_round, len(lon_lats), len(timestamps), len(aligned_gpx), split_points, chunks))\n",
    "    \n",
    "os.chdir('..')"
   ]
  },
  {
   "cell_type": "code",
   "execution_count": 11,
   "metadata": {
    "collapsed": false
   },
   "outputs": [],
   "source": [
    "df_match = pd.DataFrame(gpx_video_match, columns=['gpx', 'vfile', 'match', 'bad_max', 'bad_int'])\n"
   ]
  },
  {
   "cell_type": "code",
   "execution_count": 12,
   "metadata": {
    "collapsed": false
   },
   "outputs": [],
   "source": [
    "df_videos = pd.DataFrame(parse_result, columns=['gpx','lon_lats', 'timestamps', 'vdur', 'vdur_round', 'len_locs', 'len_ts',\n",
    "                                               'len_aligned', 'split_points', 'chunks'])"
   ]
  },
  {
   "cell_type": "code",
   "execution_count": null,
   "metadata": {
    "collapsed": true
   },
   "outputs": [],
   "source": []
  },
  {
   "cell_type": "code",
   "execution_count": 329,
   "metadata": {
    "collapsed": false,
    "scrolled": true
   },
   "outputs": [
    {
     "name": "stdout",
     "output_type": "stream",
     "text": [
      "12    DCIM/104_VIRB/VIRB0004.MP4\n",
      "Name: vfile, dtype: object\n"
     ]
    }
   ],
   "source": [
    "trace = df_videos.loc[7]\n",
    "print df_match[df_match.gpx==trace.gpx].vfile\n",
    "\n",
    "locs = trace.lon_lats\n",
    "lat_lons = [(lat, lon) for lon, lat in locs]\n",
    "\n",
    "dict_locs = {l:i for i, l in enumerate(list(set(locs)))}\n",
    "id2loc = {i:l for l, i in dict_locs.items()}\n",
    "locs_id = [dict_locs[l] for l in locs]\n",
    "\n",
    "ts = trace.timestamps\n",
    "\n",
    "pd.DataFrame([locs_id, ts]).T.to_csv('a.csv', sep='\\t')\n",
    "new_locs, new_ts = fill_gpx_gap(locs, ts)\n",
    "new_locs_id = [dict_locs[l] for l in new_locs]\n",
    "new_lat_lons = [(lat, lon) for lon, lat in new_locs]\n",
    "pd.DataFrame([new_locs_id, new_ts, new]).T.to_csv('b.csv', sep='\\t')"
   ]
  },
  {
   "cell_type": "code",
   "execution_count": 105,
   "metadata": {
    "collapsed": false
   },
   "outputs": [],
   "source": [
    "# vis the trace\n",
    "\n",
    "import geopandas as gp\n",
    "from shapely.geometry import Point\n",
    "\n",
    "\n",
    "from leaflet_creation import create_map_visualization\n",
    "gpdf = gp.GeoDataFrame(\n",
    "    zip(lat_lons, locs_id, ts, [Point(x) for x in locs]), columns=['lonlat', 'id','ts','geometry']).reset_index()\n",
    "gpdf.geometry = gpdf.buffer(0.000005)\n",
    "gpdf['color'] = '#aa0'\n",
    "\n",
    "\n",
    "html_title = 'vis trace'\n",
    "file_path = ''\n",
    "file_name = 'vis trace'\n",
    "lon, lat = -77.0908494, 38.9045525  #D.C.\n",
    "zoom = 12\n",
    "init_layers = ['streets', 'stsg']\n",
    "map_layers = ['light','streets', 'satellite']\n",
    "binding_data=[['ly', 'trace']]\n",
    "gpdfs = [gpdf]\n",
    "create_map_visualization(html_title, file_path, file_name, lat, lon, zoom, init_layers, map_layers, binding_data, gpdfs)"
   ]
  },
  {
   "cell_type": "code",
   "execution_count": null,
   "metadata": {
    "collapsed": true
   },
   "outputs": [],
   "source": []
  }
 ],
 "metadata": {
  "kernelspec": {
   "display_name": "Python 2",
   "language": "python",
   "name": "python2"
  },
  "language_info": {
   "codemirror_mode": {
    "name": "ipython",
    "version": 2
   },
   "file_extension": ".py",
   "mimetype": "text/x-python",
   "name": "python",
   "nbconvert_exporter": "python",
   "pygments_lexer": "ipython2",
   "version": "2.7.6"
  }
 },
 "nbformat": 4,
 "nbformat_minor": 2
}
