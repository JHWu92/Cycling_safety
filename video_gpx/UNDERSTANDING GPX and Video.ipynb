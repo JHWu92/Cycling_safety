{
 "cells": [
  {
   "cell_type": "code",
   "execution_count": 1,
   "metadata": {
    "collapsed": true
   },
   "outputs": [],
   "source": [
    "import os"
   ]
  },
  {
   "cell_type": "code",
   "execution_count": 2,
   "metadata": {
    "collapsed": false
   },
   "outputs": [],
   "source": [
    "import subprocess as sp\n",
    "import json\n",
    "\n",
    "def probe(vid_file_path):\n",
    "    ''' Give a json from ffprobe command line\n",
    "\n",
    "    @vid_file_path : The absolute (full) path of the video file, string.\n",
    "    '''\n",
    "\n",
    "    command = [\"ffprobe\", \"-loglevel\",  \"quiet\", \"-print_format\", \"json\",\n",
    "             \"-show_format\", \"-show_streams\",vid_file_path]\n",
    "\n",
    "    pipe = sp.Popen(command, stdout=sp.PIPE, stderr=sp.STDOUT)\n",
    "    out, err = pipe.communicate()\n",
    "    return json.loads(out)\n",
    "\n",
    "\n",
    "def duration(vid_file_path):\n",
    "    ''' Video's duration in seconds, return a float number\n",
    "    '''\n",
    "    _json = probe(vid_file_path)\n",
    "\n",
    "    if 'format' in _json:\n",
    "        if 'duration' in _json['format']:\n",
    "            return float(_json['format']['duration'])\n",
    "\n",
    "    if 'streams' in _json:\n",
    "        # commonly stream 0 is the video\n",
    "        for s in _json['streams']:\n",
    "            if 'duration' in s:\n",
    "                return float(s['duration'])\n",
    "\n",
    "    # if everything didn't happen,\n",
    "    # we got here because no single 'return' in the above happen.\n",
    "#     raise Exception('I found no duration')\n",
    "    return 'I found no duration'\n",
    "\n"
   ]
  },
  {
   "cell_type": "code",
   "execution_count": 7,
   "metadata": {
    "collapsed": false
   },
   "outputs": [],
   "source": [
    "\n",
    "# os.chdir('..')\n",
    "import split_video_gpx; reload(split_video_gpx)\n",
    "from split_video_gpx import *"
   ]
  },
  {
   "cell_type": "code",
   "execution_count": 4,
   "metadata": {
    "collapsed": false
   },
   "outputs": [],
   "source": [
    "# gpx_files = glob.glob(\"GPX/*.gpx\")\n",
    "gpx_files = ['GPX/Track_2015-10-15 060649.gpx','GPX/Track_2017-02-21 125536.gpx']"
   ]
  },
  {
   "cell_type": "code",
   "execution_count": 9,
   "metadata": {
    "collapsed": false
   },
   "outputs": [
    {
     "name": "stdout",
     "output_type": "stream",
     "text": [
      "/mnt/d/★★学习工作/Life in Maryland/Research Project：CyclingSafe/Cycling_safety/video_gpx/Sample Data\n"
     ]
    },
    {
     "ename": "ExpatError",
     "evalue": "not well-formed (invalid token): line 1, column 0",
     "output_type": "error",
     "traceback": [
      "\u001b[0;31m---------------------------------------------------------------------------\u001b[0m",
      "\u001b[0;31mExpatError\u001b[0m                                Traceback (most recent call last)",
      "\u001b[0;32m<ipython-input-9-6f0ead1dc4f7>\u001b[0m in \u001b[0;36m<module>\u001b[0;34m()\u001b[0m\n\u001b[1;32m      4\u001b[0m \u001b[0mgpx_video_match\u001b[0m \u001b[0;34m=\u001b[0m \u001b[0;34m[\u001b[0m\u001b[0;34m]\u001b[0m\u001b[0;34m\u001b[0m\u001b[0m\n\u001b[1;32m      5\u001b[0m \u001b[0;32mfor\u001b[0m \u001b[0mgpx_f\u001b[0m \u001b[0;32min\u001b[0m \u001b[0mgpx_files\u001b[0m\u001b[0;34m:\u001b[0m\u001b[0;34m\u001b[0m\u001b[0m\n\u001b[0;32m----> 6\u001b[0;31m     \u001b[0mvideo_name\u001b[0m\u001b[0;34m,\u001b[0m \u001b[0mlon_lats\u001b[0m\u001b[0;34m,\u001b[0m \u001b[0mtimestamps\u001b[0m \u001b[0;34m=\u001b[0m \u001b[0mparse_gpx\u001b[0m\u001b[0;34m(\u001b[0m\u001b[0mgpx_f\u001b[0m\u001b[0;34m)\u001b[0m\u001b[0;34m\u001b[0m\u001b[0m\n\u001b[0m\u001b[1;32m      7\u001b[0m \u001b[0;34m\u001b[0m\u001b[0m\n\u001b[1;32m      8\u001b[0m     \u001b[0;31m# record the (gpx, video) pair when the video for a gpx can't be found\u001b[0m\u001b[0;34m\u001b[0m\u001b[0;34m\u001b[0m\u001b[0m\n",
      "\u001b[0;32msplit_video_gpx.py\u001b[0m in \u001b[0;36mparse_gpx\u001b[0;34m(gpx_file)\u001b[0m\n",
      "\u001b[0;32m/usr/local/lib/python2.7/dist-packages/xmltodict.pyc\u001b[0m in \u001b[0;36mparse\u001b[0;34m(xml_input, encoding, expat, process_namespaces, namespace_separator, **kwargs)\u001b[0m\n\u001b[1;32m    309\u001b[0m         \u001b[0mparser\u001b[0m\u001b[0;34m.\u001b[0m\u001b[0mParseFile\u001b[0m\u001b[0;34m(\u001b[0m\u001b[0mxml_input\u001b[0m\u001b[0;34m)\u001b[0m\u001b[0;34m\u001b[0m\u001b[0m\n\u001b[1;32m    310\u001b[0m     \u001b[0;32mexcept\u001b[0m \u001b[0;34m(\u001b[0m\u001b[0mTypeError\u001b[0m\u001b[0;34m,\u001b[0m \u001b[0mAttributeError\u001b[0m\u001b[0;34m)\u001b[0m\u001b[0;34m:\u001b[0m\u001b[0;34m\u001b[0m\u001b[0m\n\u001b[0;32m--> 311\u001b[0;31m         \u001b[0mparser\u001b[0m\u001b[0;34m.\u001b[0m\u001b[0mParse\u001b[0m\u001b[0;34m(\u001b[0m\u001b[0mxml_input\u001b[0m\u001b[0;34m,\u001b[0m \u001b[0mTrue\u001b[0m\u001b[0;34m)\u001b[0m\u001b[0;34m\u001b[0m\u001b[0m\n\u001b[0m\u001b[1;32m    312\u001b[0m     \u001b[0;32mreturn\u001b[0m \u001b[0mhandler\u001b[0m\u001b[0;34m.\u001b[0m\u001b[0mitem\u001b[0m\u001b[0;34m\u001b[0m\u001b[0m\n\u001b[1;32m    313\u001b[0m \u001b[0;34m\u001b[0m\u001b[0m\n",
      "\u001b[0;31mExpatError\u001b[0m: not well-formed (invalid token): line 1, column 0"
     ]
    }
   ],
   "source": [
    "\n",
    "os.chdir('Sample Data/')\n",
    "print os.getcwd()\n",
    "gpx_video_match = []\n",
    "for gpx_f in gpx_files:\n",
    "    video_name, lon_lats, timestamps = parse_gpx(gpx_f)\n",
    "\n",
    "    # record the (gpx, video) pair when the video for a gpx can't be found\n",
    "    if not os.path.isfile(video_name):\n",
    "        gpx_video_match.append((gpx_f, video_name, False))\n",
    "#         print \"can't find video=%s for gpx=%s\" % (video_name, gpx_f)\n",
    "        continue\n",
    "    else:\n",
    "        print video_name, gpx_f, os.path.isfile(video_name), duration(video_name)\n",
    "        \n",
    "\n",
    "os.chdir('..')"
   ]
  },
  {
   "cell_type": "code",
   "execution_count": 23,
   "metadata": {
    "collapsed": false
   },
   "outputs": [
    {
     "data": {
      "text/plain": [
       "[]"
      ]
     },
     "execution_count": 23,
     "metadata": {},
     "output_type": "execute_result"
    }
   ],
   "source": [
    "gpx_files"
   ]
  }
 ],
 "metadata": {
  "kernelspec": {
   "display_name": "Python 2",
   "language": "python",
   "name": "python2"
  },
  "language_info": {
   "codemirror_mode": {
    "name": "ipython",
    "version": 2
   },
   "file_extension": ".py",
   "mimetype": "text/x-python",
   "name": "python",
   "nbconvert_exporter": "python",
   "pygments_lexer": "ipython2",
   "version": "2.7.6"
  }
 },
 "nbformat": 4,
 "nbformat_minor": 2
}
