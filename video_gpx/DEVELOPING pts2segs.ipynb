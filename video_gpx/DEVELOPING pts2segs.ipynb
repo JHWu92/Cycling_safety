{
 "cells": [
  {
   "cell_type": "code",
   "execution_count": 84,
   "metadata": {
    "collapsed": true
   },
   "outputs": [],
   "source": [
    "def extract_loc_ts_from_gpx(gpx_file_path):\n",
    "    import xmltodict\n",
    "    with open(gpx_file_path) as f:\n",
    "        doc = xmltodict.parse(f.read())['gpx']['trk']\n",
    "        raw_path = doc['link']['@href']\n",
    "        vid_name = raw_path[raw_path.rfind('\\\\')+1:]\n",
    "\n",
    "        locations = []\n",
    "        tss = []\n",
    "        for seg in doc['trkseg']['trkpt']:\n",
    "            lat = float(seg['@lat'])\n",
    "            lon = float(seg['@lon'])\n",
    "            loc = (lon,lat)\n",
    "            ts = seg['time']\n",
    "            locations.append(loc)\n",
    "            tss.append(ts)\n",
    "        # TODO: what does this length means\n",
    "        length = doc['extensions']['gpxtrkx:TrackStatsExtension']['gpxtrkx:TotalElapsedTime']\n",
    "    return locations, tss\n",
    "\n",
    "gpx_file = 'Sample Data/Track_2015-10-15 060649.gpx'\n",
    "\n",
    "locations, tss = extract_loc_ts_from_gpx(gpx_file)\n",
    "\n",
    "new_gps_nts, confidences_nts = snap2road(locations,return_confidence=True)\n",
    "new_gps = snap2road(locations, tss)"
   ]
  },
  {
   "cell_type": "code",
   "execution_count": 1,
   "metadata": {
    "collapsed": true
   },
   "outputs": [],
   "source": [
    "import mapbox as mp\n",
    "import pandas as pd\n",
    "import geopandas as gp\n",
    "import math\n",
    "import time\n",
    "from shapely.geometry import Point, LineString\n",
    "%matplotlib inline"
   ]
  },
  {
   "cell_type": "code",
   "execution_count": 66,
   "metadata": {
    "collapsed": true
   },
   "outputs": [],
   "source": [
    "from qgrid import show_grid"
   ]
  },
  {
   "cell_type": "code",
   "execution_count": 2,
   "metadata": {
    "collapsed": false
   },
   "outputs": [],
   "source": [
    "def even_chunks(array, max_chunk_size, indices=False):\n",
    "    import math\n",
    "    size = len(array)\n",
    "    num_chunks = math.ceil(size*1.0/max_chunk_size)\n",
    "    new_chunk_size = int(math.ceil(size*1.0 / num_chunks))\n",
    "    return chunks(array, new_chunk_size,indices)\n",
    "\n",
    "def chunks(array, chunk_size, indices=False):\n",
    "    \"\"\"Yield successive n-sized chunks from l.\"\"\"\n",
    "    for i in range(0, len(array), chunk_size):\n",
    "        if indices:\n",
    "            yield (i, i + chunk_size)\n",
    "        else:\n",
    "            yield array[i:i + chunk_size]"
   ]
  },
  {
   "cell_type": "code",
   "execution_count": 3,
   "metadata": {
    "collapsed": true
   },
   "outputs": [],
   "source": [
    "def snap2road(pts_lon_lat, timestamps=[], return_confidence=False):\n",
    "    \"\"\"\n",
    "    params:\n",
    "        pts_lon_lat: [[lon, lat], [], ...]\n",
    "        timestamps: ['2015-10-15T12:06:50Z', ...]\n",
    "    return: \n",
    "        new_gps: [[lon, lat], [], ...], len(new_gps) not necessarily equals to len(pts_lon_lat)\n",
    "        confidences: [ (which batch, # origin pts, # snapped pts, confidence), (), ..]\n",
    "    \"\"\"\n",
    "    import mapbox as mp\n",
    "    access = \"pk.eyJ1Ijoic3VyYWpuYWlyIiwiYSI6ImNpdWoyZGQzYjAwMXkyb285b2Q5NmV6amEifQ.WBQAX7ur2T3kOLyi11Nybw\"\n",
    "    service = mp.MapMatcher(access_token=access)\n",
    "    new_gps = []\n",
    "    confidences = []\n",
    "    for num_batch, (s, e) in enumerate(even_chunks(pts_lon_lat, 100, indices=True)):\n",
    "        batch_pts = pts_lon_lat[s:e]\n",
    "        batch_tss = timestamps[s:e]\n",
    "        geojson = {'type': 'Feature',\n",
    "                   'properties': {'coordTimes': batch_tss},\n",
    "                   'geometry': {'type': 'LineString',\n",
    "                                'coordinates': batch_pts}}\n",
    "        response = service.match(geojson, profile='mapbox.cycling')\n",
    "        var = response.geojson()\n",
    "        features = var['features']\n",
    "        for f in features:\n",
    "            coords = f['geometry']['coordinates']\n",
    "            new_gps.extend(coords)\n",
    "            properties = f['properties']\n",
    "            if return_confidence:\n",
    "                confidences.append((num_batch, len(batch_pts), len(coords), properties['confidence']))\n",
    "    if return_confidence:\n",
    "        return new_gps, confidences\n",
    "    return new_gps"
   ]
  },
  {
   "cell_type": "code",
   "execution_count": 4,
   "metadata": {
    "collapsed": false
   },
   "outputs": [],
   "source": [
    "\n",
    "import geom_helper; reload(geom_helper)\n",
    "from geom_helper import pts2segs"
   ]
  },
  {
   "cell_type": "code",
   "execution_count": 5,
   "metadata": {
    "collapsed": false
   },
   "outputs": [],
   "source": [
    "segs_dc = gp.read_file(u'd:\\\\★★学习工作\\\\Life in Maryland\\\\Research Project：CyclingSafe\\\\Cycling_safety\\\\open_data_analysis\\\\data\\\\segments_dc.geojson')"
   ]
  },
  {
   "cell_type": "markdown",
   "metadata": {},
   "source": [
    "### note for def seg_disambiguation:\n",
    "1. if the first/last point of trace is on segmentA, but the rest are on segmentB, then the first point would be mistakenly assigned to segmentB. E.g. test_pts2segs3.geojson; \n",
    "    - solution: increase weights(multiple by window_size) to self seg_cands\n",
    "        - Problem: window_size weights cause jump (test_pts2segs3[22:27])\n",
    "            - solution: seconde phrase clean use a decrease weight factor=0.5\n",
    "                - problem: still have jump (test_pts2segs3[22:26])\n",
    "    - solution2: assign self seg_cands' weight with: window_size * 2 - len(context_left) - len(context_right) + 1\n",
    "        - Problem: not good enough (test_pts2segs3[22:26] still jump)\n",
    "            - enhance solution: use clean seg as left context\n",
    "                - Problem: every point at intersection will be shifted to previous segment(especially when the last points are at intersection)            \n",
    "2. timestamps helps: test_pts2segs5 is messy without timestamps.\n",
    "3. random choice of tie seg isn't a good idea, because it's not garunteed that tie segs are one of the turning segs. e.g. test_pts2segs5 snapped.loc[137]\n",
    "    - Solution: keep tie for the 1st phrase clean up --> it also solve the problem of intersection shifted\n",
    "        - exception: test_pts2segs5 snapped.loc[83:87], because the orgn pts is messy"
   ]
  },
  {
   "cell_type": "code",
   "execution_count": 110,
   "metadata": {
    "collapsed": false
   },
   "outputs": [],
   "source": [
    "def seg_disambiguation(list_of_seg_candidates, window_size=3, debug=False, decrease_weight=0.0, keep_tie=False):\n",
    "    from itertools import chain\n",
    "    from collections import Counter\n",
    "    def debug_tie_count():\n",
    "        max_count = counter.most_common(1)[0][1]\n",
    "        tie_node = []\n",
    "        for node, count in counter.most_common():\n",
    "            if count>=max_count:\n",
    "                tie_node.append(node)\n",
    "        tie_count = len(tie_node)\n",
    "        if tie_count==2: print i, counter\n",
    "        assert tie_count<=3, ('index=',i, 'context_counter=', counter)\n",
    "    \n",
    "    def get_tie():\n",
    "        max_count = counter.most_common(1)[0][1]\n",
    "        tie_node = []\n",
    "        for node, count in counter.most_common():\n",
    "            if count>=max_count:\n",
    "                tie_node.append(node)\n",
    "        return tie_node\n",
    "    \n",
    "    clean_segs = []\n",
    "    list_size = len(list_of_seg_candidates)\n",
    "    for i, seg_cands in enumerate(list_of_seg_candidates):\n",
    "        left, right = max(0, i-window_size), min(list_size, i+window_size+1)\n",
    "        context_left = clean_segs[left: i]  # use clean seg instead of original seg_candidates\n",
    "        context_right = list_of_seg_candidates[i+1: right]\n",
    "        counter_left = Counter(list(chain(*context_left)))\n",
    "        counter_right = Counter(list(chain(*context_right)))\n",
    "#         counter_self = Counter(seg_cands * int(window_size * (1-decrease_weight)))  # solution1, doesn't work well\n",
    "        counter_self = Counter(seg_cands * (window_size * 2 - len(context_left) - len(context_right) + 1))\n",
    "        counter = counter_left + counter_right + counter_self\n",
    "        tie = get_tie()\n",
    "        if keep_tie:\n",
    "            seg = tie  # keep all tie\n",
    "        else:\n",
    "            seg = [tie[0]]  # keep the first element of tie\n",
    "        clean_segs.append(seg)\n",
    "        if debug:\n",
    "            debug_tie_count()\n",
    "    return clean_segs\n",
    "#         print counter_left.most_common(1),counter_right.most_common(1),counter.most_common(1)"
   ]
  },
  {
   "cell_type": "code",
   "execution_count": null,
   "metadata": {
    "collapsed": true
   },
   "outputs": [],
   "source": [
    "def trace2segs(trace_pts, segs, tss=[], return_confidence=False, close_jn_dist=10, far_jn_dist=30):\n",
    "    pts_lon_lat = list(orgn_pts.geometry.apply(lambda x: x.coords[0]).values)\n",
    "    snap_pts = snap2road(pts_lon_lat,tss, return_confidence=return_confidence)\n",
    "\n",
    "    if return_confidence:  # if return_confidence\n",
    "        snap_pts, confs = snap_pts   \n",
    "\n",
    "    snap_pts_gpdf = gp.GeoDataFrame([Point(x) for x in snap_pts],columns=['geometry'])\n",
    "    print snap_pts_gpdf.shape, confs\n",
    "\n",
    "    pts_segs, _ = pts2segs(snap_pts_gpdf, segs, bfr_crs=3559, close_jn_dist, far_jn_dist)\n",
    "\n",
    "    snap_pts_gpdf = snap_pts_gpdf.merge(\n",
    "        snap_pts_gpdf.merge(pts_segs, left_index=True, right_on='index_pt').groupby('index_pt')['index_ln'].apply(list).to_frame(), \n",
    "        left_index=True, right_index=True)\n",
    "    snap_pts_gpdf['clean_seg']=seg_disambiguation(snap_pts_gpdf.index_ln.values,keep_tie=True)\n",
    "\n",
    "    snap_pts_gpdf['clean_seg2']=seg_disambiguation(snap_pts_gpdf.clean_seg.values)"
   ]
  },
  {
   "cell_type": "code",
   "execution_count": 100,
   "metadata": {
    "collapsed": false
   },
   "outputs": [
    {
     "name": "stdout",
     "output_type": "stream",
     "text": [
      "(204, 1)\n",
      "(307, 1) [(0, 68, 116, 0.8553247543617214), (1, 68, 100, 0.919279313449731), (2, 68, 91, 0.6664026680287239)]\n"
     ]
    },
    {
     "data": {
      "text/plain": [
       "<matplotlib.axes._subplots.AxesSubplot at 0x214b59b0>"
      ]
     },
     "execution_count": 100,
     "metadata": {},
     "output_type": "execute_result"
    },
    {
     "data": {
      "image/png": "[encoded data removed]",
      "text/plain": [
       "<matplotlib.figure.Figure at 0x214b5f60>"
      ]
     },
     "metadata": {},
     "output_type": "display_data"
    }
   ],
   "source": [
    "orgn_pts = gp.read_file('test_pts2segs5.geojson')\n",
    "tss = [time.strftime('%Y-%m-%dT%H:%M:%SZ',time.gmtime(t+i*5)) for i in range(orgn_pts.shape[0])]\n",
    "print orgn_pts.shape\n",
    "\n",
    "return_confidence=True\n",
    "pts_lon_lat = list(orgn_pts.geometry.apply(lambda x: x.coords[0]).values)\n",
    "\n",
    "snap_pts = snap2road(pts_lon_lat,tss, return_confidence=return_confidence)\n",
    "\n",
    "if return_confidence:  # if return_confidence\n",
    "    snap_pts, confs = snap_pts   \n",
    "    \n",
    "snap_pts_gpdf = gp.GeoDataFrame([Point(x) for x in snap_pts],columns=['geometry'])\n",
    "print snap_pts_gpdf.shape, confs\n",
    "\n",
    "pts_segs, _ = pts2segs(snap_pts_gpdf, segs_dc, bfr_crs=3559, close_jn_dist=10, far_jn_dist=30)\n",
    "\n",
    "snap_pts_gpdf = snap_pts_gpdf.merge(\n",
    "    snap_pts_gpdf.merge(pts_segs, left_index=True, right_on='index_pt').groupby('index_pt')['index_ln'].apply(list).to_frame(), \n",
    "    left_index=True, right_index=True)\n",
    "\n",
    "segs_dc.loc[pts_segs.index_ln.value_counts().index.tolist()][['geometry']].append(snap_pts_gpdf).plot()"
   ]
  },
  {
   "cell_type": "code",
   "execution_count": 113,
   "metadata": {
    "collapsed": false,
    "scrolled": true
   },
   "outputs": [
    {
     "name": "stdout",
     "output_type": "stream",
     "text": [
      "5 Counter({2432: 4, 2431: 4, 2220: 1})\n",
      "37 Counter({2432: 4, 2025: 4, 2024: 1, 2134: 1})\n",
      "50 Counter({2025: 4, 2026: 4, 7903: 1})\n",
      "64 Counter({2026: 4, 2191: 4, 4804: 2, 2190: 2, 2192: 1})\n",
      "66 Counter({2190: 4, 2191: 4, 2026: 2, 4804: 2})\n",
      "73 Counter({5257: 4, 2190: 4, 7904: 2, 5258: 1})\n",
      "86 Counter({5257: 4, 5084: 4, 1051: 1, 1052: 1})\n",
      "113 Counter({5083: 4, 5084: 4, 1129: 1, 1130: 1})\n",
      "127 Counter({5082: 4, 5083: 4, 5112: 1})\n",
      "137 Counter({935: 5, 5111: 5, 5082: 3})\n",
      "155 Counter({935: 4, 934: 4, 2383: 2, 2384: 1})\n",
      "166 Counter({933: 4, 934: 4, 2136: 1, 2135: 1})\n",
      "175 Counter({932: 4, 933: 4, 2132: 1, 2131: 1})\n",
      "184 Counter({932: 4, 2430: 4, 2429: 1})\n",
      "198 Counter({2430: 4, 1126: 4, 2431: 1})\n",
      "203 Counter({2133: 4, 1126: 4, 2132: 1, 1127: 1})\n",
      "212 Counter({2133: 4, 2134: 4, 1175: 1})\n",
      "220 Counter({2134: 3, 1175: 3, 2025: 1})\n",
      "228 Counter({1050: 4, 1175: 4, 2137: 1})\n",
      "237 Counter({2385: 4, 1050: 4, 1051: 1})\n",
      "252 Counter({2384: 4, 2385: 4, 1128: 1, 1129: 1})\n",
      "274 Counter({2136: 4, 1127: 4, 2137: 1, 1128: 1})\n",
      "281 Counter({2132: 4, 1127: 4, 2133: 1, 1126: 1})\n",
      "292 Counter({2131: 4, 2132: 4, 932: 1, 933: 1})\n"
     ]
    }
   ],
   "source": [
    "snap_pts_gpdf['clean_seg']=seg_disambiguation(snap_pts_gpdf.index_ln.values,keep_tie=True)\n",
    "\n",
    "snap_pts_gpdf['clean_seg2']=seg_disambiguation(snap_pts_gpdf.clean_seg.values)\n",
    "\n",
    "show_grid(pd.DataFrame(snap_pts_gpdf.iloc[:,1:]))"
   ]
  },
  {
   "cell_type": "code",
   "execution_count": 115,
   "metadata": {
    "collapsed": false
   },
   "outputs": [],
   "source": [
    "part_segs_dc_plt= segs_dc.loc[pts_segs.index_ln.value_counts().index.tolist()][['geometry']].reset_index()\n",
    "part_segs_dc_plt['color']='#0a0'\n",
    "\n",
    "snap_line = gp.GeoDataFrame([LineString(snap_pts_gpdf.geometry.tolist())], columns=['geometry'])\n",
    "snap_line['color'] = '#aa0'\n",
    "\n",
    "snap_pts_gpdf_plt = snap_pts_gpdf.reset_index()\n",
    "snap_pts_gpdf_plt['wkt'] = snap_pts_gpdf_plt.geometry.apply(lambda x: x.wkt)\n",
    "snap_pts_gpdf_plt.index_ln = snap_pts_gpdf_plt.index_ln.apply(str)\n",
    "snap_pts_gpdf_plt.clean_seg = snap_pts_gpdf_plt.clean_seg.apply(str)\n",
    "snap_pts_gpdf_plt.clean_seg2 = snap_pts_gpdf_plt.clean_seg2.apply(str)\n",
    "snap_pts_gpdf_plt.geometry = snap_pts_gpdf_plt.buffer(0.00002)\n",
    "snap_pts_gpdf_plt['color'] = '#a00'\n",
    "\n",
    "orgn_pts_plt = orgn_pts.reset_index()\n",
    "orgn_pts_plt['wkt'] = orgn_pts_plt.geometry.apply(lambda x: x.wkt)\n",
    "orgn_pts_plt.geometry = orgn_pts_plt.buffer(0.00002)\n",
    "orgn_pts_plt['color'] = '#00a'\n",
    "\n",
    "from leaflet_creation import create_map_visualization\n",
    "\n",
    "html_title = 'openstreetmap elements'\n",
    "file_path = ''\n",
    "file_name = 'vis snap2segs'\n",
    "lon, lat = -77.0908494, 38.9045525  #D.C.\n",
    "zoom = 12\n",
    "init_layers = ['streets', 'stsg']\n",
    "map_layers = ['light','streets', 'satellite']\n",
    "binding_data=[['ly1','snap'],['ly2','orgn'],['ly3', 'segments'],['ly4','snap line']]\n",
    "gpdfs = [snap_pts_gpdf_plt, orgn_pts_plt, part_segs_dc_plt, snap_line]\n",
    "create_map_visualization(html_title, file_path, file_name, lat, lon, zoom, init_layers, map_layers, binding_data, gpdfs)"
   ]
  },
  {
   "cell_type": "code",
   "execution_count": 38,
   "metadata": {
    "collapsed": false
   },
   "outputs": [
    {
     "data": {
      "text/html": [
       "<div>\n",
       "<table border=\"1\" class=\"dataframe\">\n",
       "  <thead>\n",
       "    <tr style=\"text-align: right;\">\n",
       "      <th></th>\n",
       "      <th>geometry</th>\n",
       "    </tr>\n",
       "  </thead>\n",
       "  <tbody>\n",
       "    <tr>\n",
       "      <th>0</th>\n",
       "      <td>LINESTRING (-77.041314 38.928815, -77.041572 3...</td>\n",
       "    </tr>\n",
       "  </tbody>\n",
       "</table>\n",
       "</div>"
      ],
      "text/plain": [
       "                                            geometry\n",
       "0  LINESTRING (-77.041314 38.928815, -77.041572 3..."
      ]
     },
     "execution_count": 38,
     "metadata": {},
     "output_type": "execute_result"
    }
   ],
   "source": []
  },
  {
   "cell_type": "code",
   "execution_count": null,
   "metadata": {
    "collapsed": true
   },
   "outputs": [],
   "source": []
  },
  {
   "cell_type": "code",
   "execution_count": null,
   "metadata": {
    "collapsed": true
   },
   "outputs": [],
   "source": []
  },
  {
   "cell_type": "code",
   "execution_count": null,
   "metadata": {
    "collapsed": true
   },
   "outputs": [],
   "source": []
  },
  {
   "cell_type": "code",
   "execution_count": 109,
   "metadata": {
    "collapsed": false,
    "scrolled": true
   },
   "outputs": [
    {
     "name": "stdout",
     "output_type": "stream",
     "text": [
      "[(0, 51, 77, 0.2694488616952322)] 77\n"
     ]
    }
   ],
   "source": [
    "for i in range(1,2):\n",
    "    i+=1\n",
    "    data = gp.read_file('test_pts2segs{}.geojson'.format(i))\n",
    "    gps = data.geometry.apply(lambda x: x.coords[0]).values\n",
    "    gps_snap, conf = snap2road(list(gps))\n",
    "    print conf, len(gps_snap)\n",
    "    gps_snap_gpdf = gp.GeoDataFrame([Point(x) for x in gps_snap],columns=['geometry'])\n",
    "#     gps_snap_gpdf.geometry = gps_snap_gpdf.buffer(0.00005)\n",
    "#     gps_snap_gpdf.plot()\n",
    "#     gps_snap_gpdf.append(data[:100]).plot(figsize=(15,15))"
   ]
  },
  {
   "cell_type": "code",
   "execution_count": 82,
   "metadata": {
    "collapsed": true
   },
   "outputs": [],
   "source": [
    "list_gps = []\n",
    "for i in range(6):\n",
    "    i+=1\n",
    "    data = gp.read_file('test_pts2segs{}.geojson'.format(i))\n",
    "    gps = data.geometry.apply(lambda x: x.coords[0]).tolist()\n",
    "    list_gps.append(gps)"
   ]
  },
  {
   "cell_type": "code",
   "execution_count": 84,
   "metadata": {
    "collapsed": true
   },
   "outputs": [],
   "source": [
    "import datetime"
   ]
  },
  {
   "cell_type": "code",
   "execution_count": 100,
   "metadata": {
    "collapsed": true
   },
   "outputs": [],
   "source": [
    "import time\n",
    "def work_every_sec(sec=1):\n",
    "    sec = float(sec)\n",
    "    stop = sec - time.time() % sec\n",
    "    if stop>0.20:\n",
    "        time.sleep(stop)\n",
    "    else:\n",
    "        time.sleep(0.20)"
   ]
  },
  {
   "cell_type": "code",
   "execution_count": 101,
   "metadata": {
    "collapsed": false
   },
   "outputs": [
    {
     "name": "stdout",
     "output_type": "stream",
     "text": [
      "processed 1\n",
      "processed 21\n",
      "processed 41\n",
      "processed 61\n",
      "processed 81\n",
      "processed 101\n",
      "processed 121\n",
      "processed 141\n",
      "processed 161\n",
      "processed 181\n",
      "2017-02-07 15:34:54.636000\n",
      "2017-02-07 15:38:16\n",
      "0:03:21.364000\n",
      "201\n"
     ]
    }
   ],
   "source": [
    "sleep = True\n",
    "\n",
    "sd = datetime.datetime.now()\n",
    "for i in range(200):\n",
    "    ix = i % 6\n",
    "    gps = list_gps[ix]\n",
    "    gps_snap = snap2road(gps)\n",
    "    if sleep:\n",
    "        work_every_sec()\n",
    "    if i % 20 == 0:\n",
    "        print 'processed', i+1\n",
    "\n",
    "ed = datetime.datetime.now()\n",
    "print sd\n",
    "print ed\n",
    "print ed-sd\n",
    "print (ed-sd).seconds"
   ]
  },
  {
   "cell_type": "code",
   "execution_count": 123,
   "metadata": {
    "collapsed": false
   },
   "outputs": [
    {
     "data": {
      "text/plain": [
       "([[[-77.039973, 38.903739],\n",
       "   [-77.039931, 38.903739],\n",
       "   [-77.039879, 38.903739],\n",
       "   [-77.039801, 38.903739],\n",
       "   [-77.039748, 38.903739],\n",
       "   [-77.039662, 38.903739],\n",
       "   [-77.039568, 38.903739],\n",
       "   [-77.0395, 38.903739],\n",
       "   [-77.039414, 38.90374],\n",
       "   [-77.039407, 38.903739],\n",
       "   [-77.039329, 38.90374],\n",
       "   [-77.039299, 38.90374],\n",
       "   [-77.03924, 38.90374],\n",
       "   [-77.039168, 38.90374],\n",
       "   [-77.039095, 38.90374],\n",
       "   [-77.039036, 38.903741],\n",
       "   [-77.039023, 38.903741],\n",
       "   [-77.038898, 38.903741],\n",
       "   [-77.038949, 38.903741],\n",
       "   [-77.038777, 38.903741],\n",
       "   [-77.038744, 38.903741],\n",
       "   [-77.038647, 38.903741],\n",
       "   [-77.038589, 38.903741],\n",
       "   [-77.038562, 38.903741],\n",
       "   [-77.038519, 38.903741],\n",
       "   [-77.038515, 38.903742],\n",
       "   [-77.038515, 38.903741],\n",
       "   [-77.038515, 38.903778],\n",
       "   [-77.038514, 38.903785],\n",
       "   [-77.038514, 38.903844],\n",
       "   [-77.038514, 38.903893],\n",
       "   [-77.038514, 38.903975],\n",
       "   [-77.038513, 38.904079],\n",
       "   [-77.038513, 38.904135],\n",
       "   [-77.038513, 38.904212],\n",
       "   [-77.038513, 38.904257],\n",
       "   [-77.038512, 38.904296]]],\n",
       " [0.0008462380395294344],\n",
       " [80.8])"
      ]
     },
     "execution_count": 123,
     "metadata": {},
     "output_type": "execute_result"
    }
   ],
   "source": [
    "gps_snap2"
   ]
  },
  {
   "cell_type": "code",
   "execution_count": 118,
   "metadata": {
    "collapsed": false
   },
   "outputs": [
    {
     "data": {
      "text/plain": [
       "(0.8744916679690088, 267.8)"
      ]
     },
     "execution_count": 118,
     "metadata": {},
     "output_type": "execute_result"
    }
   ],
   "source": [
    "features = gps_snap2['features']\n",
    "assert len(features)==1, 'multiple features suggest poor snap to road quality'\n",
    "properties = features[0]['properties']\n",
    "confidence = properties['confidence']\n",
    "duration = properties['duration']\n",
    "confidence, duration"
   ]
  },
  {
   "cell_type": "code",
   "execution_count": 112,
   "metadata": {
    "collapsed": false
   },
   "outputs": [
    {
     "data": {
      "text/plain": [
       "{u'code': u'Ok',\n",
       " u'features': [{u'geometry': {u'coordinates': [[-77.044189, 38.932807],\n",
       "     [-77.044187, 38.932915],\n",
       "     [-77.044186, 38.933007],\n",
       "     [-77.044186, 38.933148],\n",
       "     [-77.044186, 38.933184],\n",
       "     [-77.044187, 38.933291],\n",
       "     [-77.044187, 38.933357],\n",
       "     [-77.044187, 38.933574],\n",
       "     [-77.044187, 38.933674],\n",
       "     [-77.044187, 38.933733],\n",
       "     [-77.044187, 38.933803],\n",
       "     [-77.044187, 38.93382],\n",
       "     [-77.044187, 38.933903],\n",
       "     [-77.044188, 38.933992],\n",
       "     [-77.044188, 38.934126],\n",
       "     [-77.044189, 38.934174],\n",
       "     [-77.044188, 38.934262],\n",
       "     [-77.044188, 38.934284],\n",
       "     [-77.044185, 38.934332],\n",
       "     [-77.044178, 38.93438],\n",
       "     [-77.044164, 38.934429],\n",
       "     [-77.044159, 38.934452],\n",
       "     [-77.044142, 38.934498],\n",
       "     [-77.044136, 38.934509],\n",
       "     [-77.044105, 38.934573],\n",
       "     [-77.044076, 38.934621],\n",
       "     [-77.044052, 38.934653],\n",
       "     [-77.044051, 38.934654],\n",
       "     [-77.044026, 38.934691],\n",
       "     [-77.043989, 38.934736],\n",
       "     [-77.043954, 38.934776],\n",
       "     [-77.04395, 38.934779],\n",
       "     [-77.043935, 38.934795],\n",
       "     [-77.043893, 38.934831],\n",
       "     [-77.043848, 38.934865],\n",
       "     [-77.043805, 38.934891],\n",
       "     [-77.0438, 38.934895],\n",
       "     [-77.043774, 38.934909],\n",
       "     [-77.043743, 38.934927],\n",
       "     [-77.043685, 38.934956],\n",
       "     [-77.043679, 38.93496],\n",
       "     [-77.043611, 38.93499],\n",
       "     [-77.043577, 38.935003],\n",
       "     [-77.043541, 38.935015],\n",
       "     [-77.043515, 38.935022],\n",
       "     [-77.043469, 38.935036],\n",
       "     [-77.043401, 38.935052],\n",
       "     [-77.043401, 38.935053],\n",
       "     [-77.043338, 38.935065],\n",
       "     [-77.043305, 38.93507],\n",
       "     [-77.043241, 38.935076],\n",
       "     [-77.043197, 38.935078],\n",
       "     [-77.043176, 38.935079],\n",
       "     [-77.043116, 38.935078],\n",
       "     [-77.042932, 38.935076],\n",
       "     [-77.042918, 38.935075],\n",
       "     [-77.042769, 38.935076],\n",
       "     [-77.042698, 38.935075],\n",
       "     [-77.042693, 38.935076],\n",
       "     [-77.04252, 38.935078],\n",
       "     [-77.042515, 38.935079],\n",
       "     [-77.042455, 38.935079],\n",
       "     [-77.042394, 38.935076],\n",
       "     [-77.042337, 38.935075],\n",
       "     [-77.042277, 38.935071],\n",
       "     [-77.042274, 38.93507],\n",
       "     [-77.042218, 38.935065],\n",
       "     [-77.042179, 38.935059],\n",
       "     [-77.042163, 38.935056],\n",
       "     [-77.042103, 38.935044],\n",
       "     [-77.042048, 38.935029],\n",
       "     [-77.042027, 38.935024],\n",
       "     [-77.041991, 38.935013],\n",
       "     [-77.041954, 38.935],\n",
       "     [-77.041936, 38.934992],\n",
       "     [-77.041884, 38.934972],\n",
       "     [-77.041875, 38.934968],\n",
       "     [-77.041849, 38.934956],\n",
       "     [-77.04181, 38.934937],\n",
       "     [-77.041771, 38.934916],\n",
       "     [-77.041734, 38.934894],\n",
       "     [-77.041722, 38.934886],\n",
       "     [-77.041698, 38.934871],\n",
       "     [-77.041676, 38.934855],\n",
       "     [-77.041664, 38.934846],\n",
       "     [-77.041631, 38.93482],\n",
       "     [-77.0416, 38.934793],\n",
       "     [-77.041574, 38.934769],\n",
       "     [-77.04157, 38.934765],\n",
       "     [-77.041542, 38.934736],\n",
       "     [-77.041515, 38.934706],\n",
       "     [-77.041508, 38.934698],\n",
       "     [-77.041452, 38.934633],\n",
       "     [-77.041428, 38.934601],\n",
       "     [-77.041419, 38.934588],\n",
       "     [-77.041393, 38.934548],\n",
       "     [-77.041376, 38.93452],\n",
       "     [-77.041369, 38.934508],\n",
       "     [-77.041349, 38.934469],\n",
       "     [-77.041347, 38.934466],\n",
       "     [-77.041331, 38.934434],\n",
       "     [-77.041317, 38.9344],\n",
       "     [-77.041305, 38.934366],\n",
       "     [-77.0413, 38.934347],\n",
       "     [-77.041296, 38.934332],\n",
       "     [-77.04129, 38.934297],\n",
       "     [-77.041287, 38.934262],\n",
       "     [-77.041287, 38.934234],\n",
       "     [-77.041287, 38.934195],\n",
       "     [-77.041288, 38.934168],\n",
       "     [-77.041288, 38.934038],\n",
       "     [-77.041288, 38.933963],\n",
       "     [-77.041288, 38.933854],\n",
       "     [-77.041288, 38.933813],\n",
       "     [-77.041288, 38.933796],\n",
       "     [-77.041289, 38.933737],\n",
       "     [-77.041289, 38.933658],\n",
       "     [-77.041289, 38.933587],\n",
       "     [-77.04129, 38.933429],\n",
       "     [-77.04129, 38.933333],\n",
       "     [-77.041291, 38.933286],\n",
       "     [-77.041308, 38.933286],\n",
       "     [-77.041388, 38.933286],\n",
       "     [-77.041496, 38.933286],\n",
       "     [-77.04156, 38.933286],\n",
       "     [-77.041598, 38.933286],\n",
       "     [-77.041683, 38.933286],\n",
       "     [-77.041802, 38.933286],\n",
       "     [-77.041903, 38.933286],\n",
       "     [-77.042, 38.933286],\n",
       "     [-77.042021, 38.933286],\n",
       "     [-77.04215, 38.933286],\n",
       "     [-77.042257, 38.933286],\n",
       "     [-77.042386, 38.933286],\n",
       "     [-77.042445, 38.933286],\n",
       "     [-77.042461, 38.933287],\n",
       "     [-77.042638, 38.933287],\n",
       "     [-77.042767, 38.933287],\n",
       "     [-77.042815, 38.933287],\n",
       "     [-77.042992, 38.933287],\n",
       "     [-77.0431, 38.933287],\n",
       "     [-77.043153, 38.933287],\n",
       "     [-77.043239, 38.933287],\n",
       "     [-77.043363, 38.933287],\n",
       "     [-77.043438, 38.933287],\n",
       "     [-77.043497, 38.933287],\n",
       "     [-77.043558, 38.933288],\n",
       "     [-77.0436, 38.933287],\n",
       "     [-77.043649, 38.933288],\n",
       "     [-77.043679, 38.933288],\n",
       "     [-77.043781, 38.933288],\n",
       "     [-77.043799, 38.933289],\n",
       "     [-77.043861, 38.933289],\n",
       "     [-77.044006, 38.93329],\n",
       "     [-77.044074, 38.933291],\n",
       "     [-77.044187, 38.933291],\n",
       "     [-77.044187, 38.93329],\n",
       "     [-77.044187, 38.933403],\n",
       "     [-77.044187, 38.933545],\n",
       "     [-77.044187, 38.933733],\n",
       "     [-77.04405, 38.933732],\n",
       "     [-77.043938, 38.933732],\n",
       "     [-77.043801, 38.933733],\n",
       "     [-77.043793, 38.933733],\n",
       "     [-77.043626, 38.933733],\n",
       "     [-77.043487, 38.933733],\n",
       "     [-77.043321, 38.933733],\n",
       "     [-77.043106, 38.933734],\n",
       "     [-77.04296, 38.933734],\n",
       "     [-77.042929, 38.933734],\n",
       "     [-77.042806, 38.933734],\n",
       "     [-77.042547, 38.933734]],\n",
       "    u'type': u'LineString'},\n",
       "   u'properties': {u'confidence': 0.8744916679690088,\n",
       "    u'distance': 1063.3,\n",
       "    u'duration': 267.8,\n",
       "    u'indices': [0,\n",
       "     1,\n",
       "     2,\n",
       "     3,\n",
       "     4,\n",
       "     5,\n",
       "     6,\n",
       "     7,\n",
       "     8,\n",
       "     9,\n",
       "     10,\n",
       "     11,\n",
       "     12,\n",
       "     13,\n",
       "     14,\n",
       "     15,\n",
       "     16,\n",
       "     17,\n",
       "     18,\n",
       "     19,\n",
       "     20,\n",
       "     21,\n",
       "     22,\n",
       "     23,\n",
       "     24,\n",
       "     25,\n",
       "     26,\n",
       "     27,\n",
       "     28,\n",
       "     29,\n",
       "     30,\n",
       "     31,\n",
       "     32,\n",
       "     33,\n",
       "     34,\n",
       "     35,\n",
       "     36,\n",
       "     37,\n",
       "     38,\n",
       "     39,\n",
       "     40,\n",
       "     41,\n",
       "     42,\n",
       "     43,\n",
       "     44,\n",
       "     45,\n",
       "     46,\n",
       "     47,\n",
       "     48,\n",
       "     49,\n",
       "     50,\n",
       "     51,\n",
       "     52,\n",
       "     53,\n",
       "     54,\n",
       "     55,\n",
       "     56,\n",
       "     57,\n",
       "     58,\n",
       "     59,\n",
       "     60,\n",
       "     61,\n",
       "     62,\n",
       "     63,\n",
       "     64,\n",
       "     65,\n",
       "     66,\n",
       "     67,\n",
       "     68,\n",
       "     69,\n",
       "     70,\n",
       "     71,\n",
       "     72,\n",
       "     73,\n",
       "     74,\n",
       "     75,\n",
       "     76,\n",
       "     77,\n",
       "     78,\n",
       "     79,\n",
       "     80,\n",
       "     81,\n",
       "     82,\n",
       "     83,\n",
       "     84,\n",
       "     85,\n",
       "     86,\n",
       "     87,\n",
       "     88,\n",
       "     89,\n",
       "     90],\n",
       "    u'matchedPoints': [[-77.044189, 38.932807],\n",
       "     [-77.044186, 38.933148],\n",
       "     [-77.044187, 38.933357],\n",
       "     [-77.044187, 38.933574],\n",
       "     [-77.044187, 38.933674],\n",
       "     [-77.044187, 38.93382],\n",
       "     [-77.044187, 38.933903],\n",
       "     [-77.044188, 38.933992],\n",
       "     [-77.044188, 38.934126],\n",
       "     [-77.044188, 38.934262],\n",
       "     [-77.044164, 38.934429],\n",
       "     [-77.044136, 38.934509],\n",
       "     [-77.044051, 38.934654],\n",
       "     [-77.04395, 38.934779],\n",
       "     [-77.043805, 38.934891],\n",
       "     [-77.043685, 38.934956],\n",
       "     [-77.043515, 38.935022],\n",
       "     [-77.043401, 38.935052],\n",
       "     [-77.043197, 38.935078],\n",
       "     [-77.043116, 38.935078],\n",
       "     [-77.042918, 38.935075],\n",
       "     [-77.042698, 38.935075],\n",
       "     [-77.04252, 38.935078],\n",
       "     [-77.042394, 38.935076],\n",
       "     [-77.042274, 38.93507],\n",
       "     [-77.042163, 38.935056],\n",
       "     [-77.042048, 38.935029],\n",
       "     [-77.041936, 38.934992],\n",
       "     [-77.041875, 38.934968],\n",
       "     [-77.041722, 38.934886],\n",
       "     [-77.041676, 38.934855],\n",
       "     [-77.041574, 38.934769],\n",
       "     [-77.041508, 38.934698],\n",
       "     [-77.041428, 38.934601],\n",
       "     [-77.041376, 38.93452],\n",
       "     [-77.041349, 38.934469],\n",
       "     [-77.0413, 38.934347],\n",
       "     [-77.041287, 38.934234],\n",
       "     [-77.041287, 38.934195],\n",
       "     [-77.041288, 38.934038],\n",
       "     [-77.041288, 38.933963],\n",
       "     [-77.041288, 38.933854],\n",
       "     [-77.041288, 38.933813],\n",
       "     [-77.041288, 38.933796],\n",
       "     [-77.041289, 38.933658],\n",
       "     [-77.041289, 38.933587],\n",
       "     [-77.04129, 38.933429],\n",
       "     [-77.04129, 38.933333],\n",
       "     [-77.041308, 38.933286],\n",
       "     [-77.041388, 38.933286],\n",
       "     [-77.041496, 38.933286],\n",
       "     [-77.04156, 38.933286],\n",
       "     [-77.041598, 38.933286],\n",
       "     [-77.041683, 38.933286],\n",
       "     [-77.041802, 38.933286],\n",
       "     [-77.041903, 38.933286],\n",
       "     [-77.042, 38.933286],\n",
       "     [-77.042021, 38.933286],\n",
       "     [-77.04215, 38.933286],\n",
       "     [-77.042257, 38.933286],\n",
       "     [-77.042386, 38.933286],\n",
       "     [-77.042445, 38.933286],\n",
       "     [-77.042638, 38.933287],\n",
       "     [-77.042767, 38.933287],\n",
       "     [-77.042815, 38.933287],\n",
       "     [-77.042992, 38.933287],\n",
       "     [-77.0431, 38.933287],\n",
       "     [-77.043153, 38.933287],\n",
       "     [-77.043239, 38.933287],\n",
       "     [-77.043363, 38.933287],\n",
       "     [-77.043438, 38.933287],\n",
       "     [-77.043497, 38.933287],\n",
       "     [-77.0436, 38.933287],\n",
       "     [-77.043679, 38.933288],\n",
       "     [-77.043781, 38.933288],\n",
       "     [-77.043861, 38.933289],\n",
       "     [-77.044006, 38.93329],\n",
       "     [-77.044187, 38.93329],\n",
       "     [-77.044187, 38.933403],\n",
       "     [-77.044187, 38.933545],\n",
       "     [-77.04405, 38.933732],\n",
       "     [-77.043938, 38.933732],\n",
       "     [-77.043793, 38.933733],\n",
       "     [-77.043626, 38.933733],\n",
       "     [-77.043487, 38.933733],\n",
       "     [-77.043321, 38.933733],\n",
       "     [-77.043106, 38.933734],\n",
       "     [-77.04296, 38.933734],\n",
       "     [-77.042929, 38.933734],\n",
       "     [-77.042806, 38.933734],\n",
       "     [-77.042547, 38.933734]]},\n",
       "   u'type': u'Feature'}],\n",
       " u'type': u'FeatureCollection'}"
      ]
     },
     "execution_count": 112,
     "metadata": {},
     "output_type": "execute_result"
    }
   ],
   "source": [
    "gps_snap2"
   ]
  },
  {
   "cell_type": "code",
   "execution_count": 109,
   "metadata": {
    "collapsed": false
   },
   "outputs": [
    {
     "name": "stdout",
     "output_type": "stream",
     "text": [
      "assertion error\n"
     ]
    }
   ],
   "source": [
    "try:\n",
    "    assert 1!=1, 'assertion error'\n",
    "except AssertionError as e:\n",
    "    print e"
   ]
  },
  {
   "cell_type": "code",
   "execution_count": null,
   "metadata": {
    "collapsed": true
   },
   "outputs": [],
   "source": [
    "\n"
   ]
  }
 ],
 "metadata": {
  "kernelspec": {
   "display_name": "Python 2",
   "language": "python",
   "name": "python2"
  },
  "language_info": {
   "codemirror_mode": {
    "name": "ipython",
    "version": 2
   },
   "file_extension": ".py",
   "mimetype": "text/x-python",
   "name": "python",
   "nbconvert_exporter": "python",
   "pygments_lexer": "ipython2",
   "version": "2.7.11"
  }
 },
 "nbformat": 4,
 "nbformat_minor": 2
}
