{
 "cells": [
  {
   "cell_type": "code",
   "execution_count": null,
   "metadata": {
    "collapsed": true
   },
   "outputs": [],
   "source": [
    "def snap2road(pts_lon_lat, timestamps=[], return_confidence=False):\n",
    "    \"\"\"\n",
    "    params:\n",
    "        pts_lon_lat: [[lon, lat], [], ...]\n",
    "        timestamps: ['2015-10-15T12:06:50Z', ...]\n",
    "    return: \n",
    "        new_gps: [[lon, lat], [], ...], len(new_gps) not necessarily equals to len(pts_lon_lat)\n",
    "        confidences: [ (which batch, # origin pts, # snapped pts, confidence), (), ..]\n",
    "    \"\"\"\n",
    "    import mapbox as mp\n",
    "    access = \"pk.eyJ1Ijoic3VyYWpuYWlyIiwiYSI6ImNpdWoyZGQzYjAwMXkyb285b2Q5NmV6amEifQ.WBQAX7ur2T3kOLyi11Nybw\"\n",
    "    service = mp.MapMatcher(access_token=access)\n",
    "    new_gps = []\n",
    "    confidences = []\n",
    "    for num_batch, (s, e) in enumerate(even_chunks(pts_lon_lat, 100, indices=True)):\n",
    "        batch_pts = pts_lon_lat[s:e]\n",
    "        batch_tss = timestamps[s:e]\n",
    "        geojson = {'type': 'Feature',\n",
    "                   'properties': {'coordTimes': batch_tss},\n",
    "                   'geometry': {'type': 'LineString',\n",
    "                                'coordinates': batch_pts}}\n",
    "        response = service.match(geojson, profile='mapbox.cycling')\n",
    "        var = response.geojson()\n",
    "        features = var['features']\n",
    "        for f in features:\n",
    "            coords = f['geometry']['coordinates']\n",
    "            new_gps.extend(coords)\n",
    "            properties = f['properties']\n",
    "            if return_confidence:\n",
    "                confidences.append((num_batch, len(batch_pts), len(coords), properties['confidence']))\n",
    "    if return_confidence:\n",
    "        return new_gps, confidences\n",
    "    return new_gps"
   ]
  }
 ],
 "metadata": {
  "kernelspec": {
   "display_name": "Python 2",
   "language": "python",
   "name": "python2"
  },
  "language_info": {
   "codemirror_mode": {
    "name": "ipython",
    "version": 2
   },
   "file_extension": ".py",
   "mimetype": "text/x-python",
   "name": "python",
   "nbconvert_exporter": "python",
   "pygments_lexer": "ipython2",
   "version": "2.7.11"
  }
 },
 "nbformat": 4,
 "nbformat_minor": 2
}
