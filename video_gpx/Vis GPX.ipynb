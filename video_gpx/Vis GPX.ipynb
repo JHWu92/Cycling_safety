{
 "cells": [
  {
   "cell_type": "code",
   "execution_count": 151,
   "metadata": {
    "collapsed": true
   },
   "outputs": [],
   "source": [
    "from shapely.geometry import Point\n",
    "import geopandas as gp"
   ]
  },
  {
   "cell_type": "code",
   "execution_count": 152,
   "metadata": {
    "collapsed": true
   },
   "outputs": [],
   "source": [
    "from leaflet_creation import create_map_visualization"
   ]
  },
  {
   "cell_type": "code",
   "execution_count": 153,
   "metadata": {
    "collapsed": true
   },
   "outputs": [],
   "source": [
    "raw_gpx_dir = 'Sample Data/'\n",
    "snapped_gpx_dir = 'Sample Data/split/'\n",
    "gpx_video_match_file = 'Sample Data/gpx_video_match.csv'"
   ]
  },
  {
   "cell_type": "code",
   "execution_count": 154,
   "metadata": {
    "collapsed": false
   },
   "outputs": [],
   "source": [
    "import pandas as pd\n",
    "gpx_video_match = pd.read_csv(gpx_video_match_file,index_col=0)\n",
    "gpx_video_match['snapped'] = gpx_video_match.vfile.apply(lambda x: snapped_gpx_dir + x.replace('.MP4', '.json'))\n",
    "gpx_video_match['gpx'] = gpx_video_match.gpx.apply(lambda x: raw_gpx_dir + x)\n",
    "gpx_video_match.drop('vfile', inplace=True, axis=1)"
   ]
  },
  {
   "cell_type": "code",
   "execution_count": 155,
   "metadata": {
    "collapsed": true
   },
   "outputs": [],
   "source": [
    "\n",
    "\n",
    "\n",
    "def conf2color(conf):\n",
    "    if conf>0.8:\n",
    "        return '#1CFF00'\n",
    "    if conf>0.5:\n",
    "        return '#4EFFC5'\n",
    "    if conf>0.1:\n",
    "        return '#E8AE19'\n",
    "    return '#FF100F'"
   ]
  },
  {
   "cell_type": "code",
   "execution_count": 156,
   "metadata": {
    "collapsed": true
   },
   "outputs": [],
   "source": [
    "from utils import find_files"
   ]
  },
  {
   "cell_type": "code",
   "execution_count": 157,
   "metadata": {
    "collapsed": false
   },
   "outputs": [],
   "source": [
    "raw_list = [x.replace('\\\\','/') for x in find_files(raw_gpx_dir, '*.gpx')]\n",
    "df_raw = pd.DataFrame(raw_list, columns=['gpx'])"
   ]
  },
  {
   "cell_type": "code",
   "execution_count": 158,
   "metadata": {
    "collapsed": false
   },
   "outputs": [],
   "source": [
    "snapped_list = [x.replace('\\\\','/') for x in find_files(snapped_gpx_dir, '*.json')]\n",
    "df_snapped = pd.DataFrame(snapped_list, columns=['snapped'])\n"
   ]
  },
  {
   "cell_type": "code",
   "execution_count": 159,
   "metadata": {
    "collapsed": true
   },
   "outputs": [],
   "source": [
    "from split_video_gpx import parse_gpx"
   ]
  },
  {
   "cell_type": "code",
   "execution_count": 174,
   "metadata": {
    "collapsed": false
   },
   "outputs": [
    {
     "data": {
      "text/plain": [
       "(1.0, 2.0)"
      ]
     },
     "execution_count": 174,
     "metadata": {},
     "output_type": "execute_result"
    }
   ],
   "source": [
    "Point(1,2).coords[0]"
   ]
  },
  {
   "cell_type": "code",
   "execution_count": 187,
   "metadata": {
    "collapsed": false
   },
   "outputs": [
    {
     "name": "stdout",
     "output_type": "stream",
     "text": [
      "3 Sample Data/GPX/Track_2017-02-21 110332.gpx Sample Data/split/DCIM/103_VIRB/VIRB0006.json\n",
      "4 Sample Data/GPX/Track_2017-02-21 110604.gpx Sample Data/split/DCIM/103_VIRB/VIRB0007.json\n",
      "5 Sample Data/GPX/Track_2017-02-21 113002.gpx Sample Data/split/DCIM/103_VIRB/VIRB0008.json\n",
      "6 Sample Data/GPX/Track_2017-02-21 114737.gpx Sample Data/split/DCIM/103_VIRB/VIRB0009.json\n",
      "7 Sample Data/GPX/Track_2017-02-21 120031.gpx Sample Data/split/DCIM/103_VIRB/VIRB0010.json\n",
      "10 Sample Data/GPX/Track_2017-02-21 125536.gpx Sample Data/split/DCIM/104_VIRB/VIRB0002.json\n",
      "11 Sample Data/GPX/Track_2017-02-21 131933.gpx Sample Data/split/DCIM/104_VIRB/VIRB0003.json\n",
      "split/DCIM/104_VIRB/VIRB0003_000.MP4 2\n",
      "split/DCIM/104_VIRB/VIRB0003_016.MP4 2\n",
      "12 Sample Data/GPX/Track_2017-02-21 134158.gpx Sample Data/split/DCIM/104_VIRB/VIRB0004.json\n"
     ]
    }
   ],
   "source": [
    "bfr = 0.000008\n",
    "gpdfs = []\n",
    "binding_data = []\n",
    "for i, raw_gpx in enumerate(raw_list):\n",
    "    vfile, locs, tms = parse_gpx(raw_gpx)\n",
    "    snapped = os.path.join(snapped_gpx_dir, vfile).replace('.MP4', '.json')\n",
    "    \n",
    "    if not os.path.isfile(snapped):\n",
    "        continue\n",
    "    print i, raw_gpx, snapped\n",
    "    \n",
    "    gpdf_raw = gp.GeoDataFrame(zip([Point(x) for x in locs], tms), columns=['geometry', 'timestamp']).reset_index()\n",
    "    gpdf_raw['lat_lon'] = gpdf_raw.geometry.apply(lambda x: (x.coords[0][1], x.coords[0][0]))\n",
    "    gpdf_raw['color'] = '#aaa'\n",
    "    gpdf_raw.geometry = gpdf_raw.buffer(bfr)\n",
    "    gpdfs.append(gpdf_raw)\n",
    "    binding_data.append(['ly%d'%(2*i), 'raw%d'%i])\n",
    "    \n",
    "    snapped_json = load_json_file(snapped)\n",
    "    gpdf_snapped = []\n",
    "    for subv in snapped_json:\n",
    "        vname = subv['video_name']\n",
    "        confidences = subv['confidences']\n",
    "        locs = subv['lonlat']\n",
    "        if len(confidences)>1:\n",
    "            print vname, len(confidences)\n",
    "        for batch in zip(confidences,locs):\n",
    "            raw = batch[0]['#origin_pts']\n",
    "            snap = batch[0]['#snap_pts']\n",
    "            batch_id = batch[0]['#batch']\n",
    "            conf = batch[0]['confidence']\n",
    "            color = conf2color(conf)\n",
    "            batch_locs = batch[1]\n",
    "            gpdf_snapped.extend([(vname, raw, snap, batch_id, conf,color, \n",
    "                                  Point(loc).buffer((1+int(batch_id)*0.5)*bfr),\n",
    "                                  (loc[1],loc[0])) for loc in batch_locs])\n",
    "    gpdf_snapped = gp.GeoDataFrame(gpdf_snapped, columns=['vname', '#raw_points', '#snapped_points', \n",
    "                                                          'batch_id','confidence', 'color', 'geometry', 'latlon']).reset_index()\n",
    "    gpdfs.append(gpdf_snapped)\n",
    "    binding_data.append(['ly%d'%(2*i+1), 'snapped%i'%i])\n"
   ]
  },
  {
   "cell_type": "code",
   "execution_count": 188,
   "metadata": {
    "collapsed": true
   },
   "outputs": [],
   "source": [
    "html_title = 'SNAP'\n",
    "file_path = ''\n",
    "file_name = 'SNAP'\n",
    "lon, lat = -77.0908494, 38.9045525  #D.C.\n",
    "zoom = 12\n",
    "init_layers = ['streets']\n",
    "map_layers = ['light','streets', 'satellite']\n",
    "create_map_visualization(html_title, file_path, file_name, lat, lon, zoom, init_layers, map_layers, binding_data, gpdfs)"
   ]
  },
  {
   "cell_type": "code",
   "execution_count": 166,
   "metadata": {
    "collapsed": false
   },
   "outputs": [
    {
     "data": {
      "text/plain": [
       "'00:13:43'"
      ]
     },
     "execution_count": 166,
     "metadata": {},
     "output_type": "execute_result"
    }
   ],
   "source": [
    "from split_video_gpx import second2vtime\n",
    "second2vtime(823)"
   ]
  },
  {
   "cell_type": "code",
   "execution_count": 178,
   "metadata": {
    "collapsed": true
   },
   "outputs": [],
   "source": [
    "from trace2seg import snap2road"
   ]
  },
  {
   "cell_type": "code",
   "execution_count": 191,
   "metadata": {
    "collapsed": true
   },
   "outputs": [],
   "source": [
    "gpx = 'Sample Data/GPX/Track_2017-02-21 125536.gpx'\n",
    "vfile, raw_locs, tms = parse_gpx(gpx)\n",
    "\n",
    "snapped_locs = snap2road(raw_locs)\n",
    "\n",
    "gpdf_raw = gp.GeoDataFrame([Point(x) for x in raw_locs], columns=['geometry']).reset_index()\n",
    "gpdf_raw.geometry = gpdf_raw.buffer(bfr)\n",
    "gpdf_raw['color'] = '#aaa'\n",
    "gpdf_snapped = gp.GeoDataFrame([Point(x) for x in snapped_locs], columns=['geometry']).reset_index()\n",
    "gpdf_snapped.geometry = gpdf_snapped.buffer(bfr)\n",
    "gpdf_snapped['color'] = '#800'\n",
    "gpdfs = [gpdf_raw, gpdf_snapped]\n",
    "binding_data = [['ly1', 'raw'], ['ly2','snapped']]\n",
    "\n",
    "html_title = 'anomaly1'\n",
    "file_path = ''\n",
    "file_name = 'anomaly1'\n",
    "lon, lat = -77.0908494, 38.9045525  #D.C.\n",
    "zoom = 12\n",
    "init_layers = ['streets']\n",
    "map_layers = ['light','streets', 'satellite']\n",
    "create_map_visualization(html_title, file_path, file_name, lat, lon, zoom, init_layers, map_layers, binding_data, gpdfs)"
   ]
  },
  {
   "cell_type": "code",
   "execution_count": 193,
   "metadata": {
    "collapsed": true
   },
   "outputs": [],
   "source": [
    "gpx = 'Sample Data/GPX/Track_2017-02-21 131933.gpx'\n",
    "vfile, raw_locs, tms = parse_gpx(gpx)\n",
    "\n",
    "snapped_locs = snap2road(raw_locs)\n",
    "\n",
    "gpdf_raw = gp.GeoDataFrame([Point(x) for x in raw_locs], columns=['geometry']).reset_index()\n",
    "gpdf_raw.geometry = gpdf_raw.buffer(bfr)\n",
    "gpdf_raw['color'] = '#aaa'\n",
    "gpdf_snapped = gp.GeoDataFrame([Point(x) for x in snapped_locs], columns=['geometry']).reset_index()\n",
    "gpdf_snapped.geometry = gpdf_snapped.buffer(bfr)\n",
    "gpdf_snapped['color'] = '#800'\n",
    "gpdfs = [gpdf_raw, gpdf_snapped]\n",
    "binding_data = [['ly1', 'raw'], ['ly2','snapped']]\n",
    "\n",
    "html_title = 'anomaly2'\n",
    "file_path = ''\n",
    "file_name = 'anomaly2'\n",
    "lon, lat = -77.0908494, 38.9045525  #D.C.\n",
    "zoom = 12\n",
    "init_layers = ['streets']\n",
    "map_layers = ['light','streets', 'satellite']\n",
    "create_map_visualization(html_title, file_path, file_name, lat, lon, zoom, init_layers, map_layers, binding_data, gpdfs)"
   ]
  },
  {
   "cell_type": "code",
   "execution_count": null,
   "metadata": {
    "collapsed": true
   },
   "outputs": [],
   "source": []
  }
 ],
 "metadata": {
  "kernelspec": {
   "display_name": "Python 2",
   "language": "python",
   "name": "python2"
  },
  "language_info": {
   "codemirror_mode": {
    "name": "ipython",
    "version": 2
   },
   "file_extension": ".py",
   "mimetype": "text/x-python",
   "name": "python",
   "nbconvert_exporter": "python",
   "pygments_lexer": "ipython2",
   "version": "2.7.11"
  }
 },
 "nbformat": 4,
 "nbformat_minor": 2
}
