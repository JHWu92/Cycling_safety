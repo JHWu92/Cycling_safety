{
 "cells": [
  {
   "cell_type": "code",
   "execution_count": 1,
   "metadata": {
    "collapsed": true
   },
   "outputs": [],
   "source": [
    "from vis_gpx import main"
   ]
  },
  {
   "cell_type": "code",
   "execution_count": 2,
   "metadata": {
    "collapsed": true
   },
   "outputs": [],
   "source": [
    "from collections import namedtuple\n",
    "Args = namedtuple('arguments', ['root_dir', 'match_file', 'segs_for_clips_csv', 'segs'])\n",
    "root_dir = 'test_data/'\n",
    "match_file = 'gpx_video_match.csv'\n",
    "segs_for_clips_csv = 'segs_for_clips.csv'\n",
    "segs = 'segments_dc.geojson'\n",
    "args = Args(root_dir, match_file, segs_for_clips_csv, segs)"
   ]
  },
  {
   "cell_type": "code",
   "execution_count": 3,
   "metadata": {
    "collapsed": false
   },
   "outputs": [],
   "source": [
    "main(args)"
   ]
  },
  {
   "cell_type": "code",
   "execution_count": null,
   "metadata": {
    "collapsed": true
   },
   "outputs": [],
   "source": []
  },
  {
   "cell_type": "code",
   "execution_count": null,
   "metadata": {
    "collapsed": true
   },
   "outputs": [],
   "source": []
  },
  {
   "cell_type": "code",
   "execution_count": null,
   "metadata": {
    "collapsed": true
   },
   "outputs": [],
   "source": []
  },
  {
   "cell_type": "code",
   "execution_count": null,
   "metadata": {
    "collapsed": true
   },
   "outputs": [],
   "source": []
  },
  {
   "cell_type": "code",
   "execution_count": null,
   "metadata": {
    "collapsed": true
   },
   "outputs": [],
   "source": []
  },
  {
   "cell_type": "markdown",
   "metadata": {},
   "source": [
    "# Abnomal examples"
   ]
  },
  {
   "cell_type": "code",
   "execution_count": 191,
   "metadata": {
    "collapsed": true
   },
   "outputs": [],
   "source": [
    "gpx = 'Sample Data/GPX/Track_2017-02-21 125536.gpx'\n",
    "vfile, raw_locs, tms = parse_gpx(gpx)\n",
    "\n",
    "snapped_locs = snap2road(raw_locs)\n",
    "\n",
    "gpdf_raw = gp.GeoDataFrame([Point(x) for x in raw_locs], columns=['geometry']).reset_index()\n",
    "gpdf_raw.geometry = gpdf_raw.buffer(bfr)\n",
    "gpdf_raw['color'] = '#aaa'\n",
    "gpdf_snapped = gp.GeoDataFrame([Point(x) for x in snapped_locs], columns=['geometry']).reset_index()\n",
    "gpdf_snapped.geometry = gpdf_snapped.buffer(bfr)\n",
    "gpdf_snapped['color'] = '#800'\n",
    "gpdfs = [gpdf_raw, gpdf_snapped]\n",
    "binding_data = [['ly1', 'raw'], ['ly2','snapped']]\n",
    "\n",
    "html_title = 'anomaly1'\n",
    "file_path = ''\n",
    "file_name = 'anomaly1'\n",
    "lon, lat = -77.0908494, 38.9045525  #D.C.\n",
    "zoom = 12\n",
    "init_layers = ['streets']\n",
    "map_layers = ['light','streets', 'satellite']\n",
    "create_map_visualization(html_title, file_path, file_name, lat, lon, zoom, init_layers, map_layers, binding_data, gpdfs)"
   ]
  },
  {
   "cell_type": "code",
   "execution_count": 193,
   "metadata": {
    "collapsed": true
   },
   "outputs": [],
   "source": [
    "gpx = 'Sample Data/GPX/Track_2017-02-21 131933.gpx'\n",
    "vfile, raw_locs, tms = parse_gpx(gpx)\n",
    "\n",
    "snapped_locs = snap2road(raw_locs)\n",
    "\n",
    "gpdf_raw = gp.GeoDataFrame([Point(x) for x in raw_locs], columns=['geometry']).reset_index()\n",
    "gpdf_raw.geometry = gpdf_raw.buffer(bfr)\n",
    "gpdf_raw['color'] = '#aaa'\n",
    "gpdf_snapped = gp.GeoDataFrame([Point(x) for x in snapped_locs], columns=['geometry']).reset_index()\n",
    "gpdf_snapped.geometry = gpdf_snapped.buffer(bfr)\n",
    "gpdf_snapped['color'] = '#800'\n",
    "gpdfs = [gpdf_raw, gpdf_snapped]\n",
    "binding_data = [['ly1', 'raw'], ['ly2','snapped']]\n",
    "\n",
    "html_title = 'anomaly2'\n",
    "file_path = ''\n",
    "file_name = 'anomaly2'\n",
    "lon, lat = -77.0908494, 38.9045525  #D.C.\n",
    "zoom = 12\n",
    "init_layers = ['streets']\n",
    "map_layers = ['light','streets', 'satellite']\n",
    "create_map_visualization(html_title, file_path, file_name, lat, lon, zoom, init_layers, map_layers, binding_data, gpdfs)"
   ]
  },
  {
   "cell_type": "code",
   "execution_count": null,
   "metadata": {
    "collapsed": true
   },
   "outputs": [],
   "source": []
  }
 ],
 "metadata": {
  "kernelspec": {
   "display_name": "Python 2",
   "language": "python",
   "name": "python2"
  },
  "language_info": {
   "codemirror_mode": {
    "name": "ipython",
    "version": 2
   },
   "file_extension": ".py",
   "mimetype": "text/x-python",
   "name": "python",
   "nbconvert_exporter": "python",
   "pygments_lexer": "ipython2",
   "version": "2.7.13"
  }
 },
 "nbformat": 4,
 "nbformat_minor": 2
}
