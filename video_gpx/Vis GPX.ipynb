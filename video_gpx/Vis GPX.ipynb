{
 "cells": [
  {
   "cell_type": "code",
   "execution_count": 36,
   "metadata": {
    "collapsed": true
   },
   "outputs": [],
   "source": [
    "from shapely.geometry import Point, LineString\n",
    "import geopandas as gp\n",
    "import os\n",
    "import pandas as pd\n",
    "from leaflet_creation import create_map_visualization\n",
    "\n",
    "from utils import find_files, load_json_file\n",
    "\n",
    "from split_video_gpx import parse_gpx"
   ]
  },
  {
   "cell_type": "code",
   "execution_count": 2,
   "metadata": {
    "collapsed": true
   },
   "outputs": [],
   "source": [
    "def conf2color(conf):\n",
    "    if conf>0.8:\n",
    "        return '#1CFF00'\n",
    "    if conf>0.5:\n",
    "        return '#4EFFC5'\n",
    "    if conf>0.1:\n",
    "        return '#E8AE19'\n",
    "    return '#FF100F'"
   ]
  },
  {
   "cell_type": "code",
   "execution_count": 61,
   "metadata": {
    "collapsed": true
   },
   "outputs": [],
   "source": [
    "from collections import namedtuple\n",
    "Args = namedtuple('arguments', ['root_dir', 'match_file', 'segs_for_clips_csv', 'segs'])"
   ]
  },
  {
   "cell_type": "code",
   "execution_count": 103,
   "metadata": {
    "collapsed": false,
    "scrolled": true
   },
   "outputs": [],
   "source": [
    "def concat_gpx_snapped(match_df):\n",
    "    raw_gpdfs = []\n",
    "    snapped_gpdfs = []\n",
    "    for gpx_file, js_file in match_df[match_df.match][['gpx', 'json_file']].values:\n",
    "        vfile, locs, tms = parse_gpx(gpx_file)\n",
    "        raw_line = LineString(locs)\n",
    "        raw_gpdfs.append((raw_line, '#00e', gpx_file, js_file))\n",
    "\n",
    "        snapped_json = load_json_file(js_file)    \n",
    "        for bidx, batch in enumerate(snapped_json):\n",
    "            clip_name = batch['clip_name']\n",
    "            start, end = batch['start'], batch['end']\n",
    "            for sbidx, sub_batch in enumerate(batch['snapped']):\n",
    "                conf = sub_batch['confidence']\n",
    "                snapped_line = LineString(sub_batch['snapped'])\n",
    "                snapped_gpdfs.append((snapped_line, conf2color(conf), bidx, sbidx, clip_name, start, end))\n",
    "\n",
    "    raw_gpdfs = gp.GeoDataFrame(raw_gpdfs, columns=['geometry', 'color', 'gpx_file', 'js_file']).reset_index()\n",
    "    snapped_gpdfs = gp.GeoDataFrame(snapped_gpdfs, columns=['geometry', 'color', 'batch_id', 'sub_batch_id', 'clip_name', 'start', 'end'])\n",
    "    return raw_gpdfs, snapped_gpdfs"
   ]
  },
  {
   "cell_type": "code",
   "execution_count": 97,
   "metadata": {
    "collapsed": false
   },
   "outputs": [],
   "source": [
    "root_dir = 'test_data/'\n",
    "match_file = 'gpx_video_match.csv'\n",
    "segs_for_clips_csv = 'segs_for_clips.csv'\n",
    "segs = 'segments_dc.geojson'\n",
    "args = Args(root_dir, match_file, segs_for_clips_csv, segs)"
   ]
  },
  {
   "cell_type": "code",
   "execution_count": 14,
   "metadata": {
    "collapsed": true
   },
   "outputs": [],
   "source": [
    "os.chdir(root_dir)"
   ]
  },
  {
   "cell_type": "code",
   "execution_count": 98,
   "metadata": {
    "collapsed": false
   },
   "outputs": [],
   "source": [
    "match_df = pd.read_csv(match_file)\n",
    "segs_for_clips_df = pd.read_csv(segs_for_clips_csv)\n",
    "segs = gp.read_file(args.segs)"
   ]
  },
  {
   "cell_type": "code",
   "execution_count": 99,
   "metadata": {
    "collapsed": false
   },
   "outputs": [],
   "source": [
    "covered_segs = segs_for_clips_df.groupby('index_seg').clip_name.apply(list).apply(lambda x: '<br>'.join(x)).to_frame('clip_name')\n",
    "covered_segs = segs[['geometry', 'STREETSEGID']].merge(covered_segs, left_index=True, right_index=True)\n",
    "covered_segs['color'] = '#555'"
   ]
  },
  {
   "cell_type": "code",
   "execution_count": 104,
   "metadata": {
    "collapsed": false
   },
   "outputs": [],
   "source": [
    "raw_gpdfs, snapped_gpdfs = concat_gpx_snapped(match_df)"
   ]
  },
  {
   "cell_type": "code",
   "execution_count": 105,
   "metadata": {
    "collapsed": false
   },
   "outputs": [],
   "source": [
    "html_title = 'raw_snap'\n",
    "file_path = ''\n",
    "file_name = 'raw_snap' \n",
    "lon, lat = -77.036484, 38.907215  #D.C.\n",
    "zoom = 12\n",
    "init_layers = ['streets']\n",
    "map_layers = ['light','streets', 'satellite']\n",
    "gpdfs = [raw_gpdfs, snapped_gpdfs, covered_segs]\n",
    "binding_data = [['ly1', 'raw traces'], ['ly2', 'snapped traces'], ['ly3', 'covered_segs']]\n",
    "create_map_visualization(html_title, file_path, file_name, lat, lon, zoom, init_layers, map_layers, binding_data, gpdfs)"
   ]
  },
  {
   "cell_type": "code",
   "execution_count": null,
   "metadata": {
    "collapsed": true
   },
   "outputs": [],
   "source": [
    "\n",
    "\n",
    "\n",
    "\n",
    "\n",
    "\n",
    "\n",
    "\n",
    "\n",
    "\n",
    "\n",
    "\n",
    "\n",
    "\n",
    "\n",
    "\n",
    "\n",
    "\n",
    "\n",
    "\n"
   ]
  },
  {
   "cell_type": "code",
   "execution_count": null,
   "metadata": {
    "collapsed": true
   },
   "outputs": [],
   "source": []
  },
  {
   "cell_type": "code",
   "execution_count": null,
   "metadata": {
    "collapsed": true
   },
   "outputs": [],
   "source": []
  },
  {
   "cell_type": "code",
   "execution_count": null,
   "metadata": {
    "collapsed": true
   },
   "outputs": [],
   "source": []
  },
  {
   "cell_type": "code",
   "execution_count": null,
   "metadata": {
    "collapsed": true
   },
   "outputs": [],
   "source": []
  },
  {
   "cell_type": "code",
   "execution_count": null,
   "metadata": {
    "collapsed": true
   },
   "outputs": [],
   "source": []
  },
  {
   "cell_type": "markdown",
   "metadata": {},
   "source": [
    "# Abnomal examples"
   ]
  },
  {
   "cell_type": "code",
   "execution_count": 191,
   "metadata": {
    "collapsed": true
   },
   "outputs": [],
   "source": [
    "gpx = 'Sample Data/GPX/Track_2017-02-21 125536.gpx'\n",
    "vfile, raw_locs, tms = parse_gpx(gpx)\n",
    "\n",
    "snapped_locs = snap2road(raw_locs)\n",
    "\n",
    "gpdf_raw = gp.GeoDataFrame([Point(x) for x in raw_locs], columns=['geometry']).reset_index()\n",
    "gpdf_raw.geometry = gpdf_raw.buffer(bfr)\n",
    "gpdf_raw['color'] = '#aaa'\n",
    "gpdf_snapped = gp.GeoDataFrame([Point(x) for x in snapped_locs], columns=['geometry']).reset_index()\n",
    "gpdf_snapped.geometry = gpdf_snapped.buffer(bfr)\n",
    "gpdf_snapped['color'] = '#800'\n",
    "gpdfs = [gpdf_raw, gpdf_snapped]\n",
    "binding_data = [['ly1', 'raw'], ['ly2','snapped']]\n",
    "\n",
    "html_title = 'anomaly1'\n",
    "file_path = ''\n",
    "file_name = 'anomaly1'\n",
    "lon, lat = -77.0908494, 38.9045525  #D.C.\n",
    "zoom = 12\n",
    "init_layers = ['streets']\n",
    "map_layers = ['light','streets', 'satellite']\n",
    "create_map_visualization(html_title, file_path, file_name, lat, lon, zoom, init_layers, map_layers, binding_data, gpdfs)"
   ]
  },
  {
   "cell_type": "code",
   "execution_count": 193,
   "metadata": {
    "collapsed": true
   },
   "outputs": [],
   "source": [
    "gpx = 'Sample Data/GPX/Track_2017-02-21 131933.gpx'\n",
    "vfile, raw_locs, tms = parse_gpx(gpx)\n",
    "\n",
    "snapped_locs = snap2road(raw_locs)\n",
    "\n",
    "gpdf_raw = gp.GeoDataFrame([Point(x) for x in raw_locs], columns=['geometry']).reset_index()\n",
    "gpdf_raw.geometry = gpdf_raw.buffer(bfr)\n",
    "gpdf_raw['color'] = '#aaa'\n",
    "gpdf_snapped = gp.GeoDataFrame([Point(x) for x in snapped_locs], columns=['geometry']).reset_index()\n",
    "gpdf_snapped.geometry = gpdf_snapped.buffer(bfr)\n",
    "gpdf_snapped['color'] = '#800'\n",
    "gpdfs = [gpdf_raw, gpdf_snapped]\n",
    "binding_data = [['ly1', 'raw'], ['ly2','snapped']]\n",
    "\n",
    "html_title = 'anomaly2'\n",
    "file_path = ''\n",
    "file_name = 'anomaly2'\n",
    "lon, lat = -77.0908494, 38.9045525  #D.C.\n",
    "zoom = 12\n",
    "init_layers = ['streets']\n",
    "map_layers = ['light','streets', 'satellite']\n",
    "create_map_visualization(html_title, file_path, file_name, lat, lon, zoom, init_layers, map_layers, binding_data, gpdfs)"
   ]
  },
  {
   "cell_type": "code",
   "execution_count": null,
   "metadata": {
    "collapsed": true
   },
   "outputs": [],
   "source": []
  }
 ],
 "metadata": {
  "kernelspec": {
   "display_name": "Python 2",
   "language": "python",
   "name": "python2"
  }
 },
 "nbformat": 4,
 "nbformat_minor": 2
}
