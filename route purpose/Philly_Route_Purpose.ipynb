{
 "cells": [
  {
   "cell_type": "code",
   "execution_count": 1,
   "metadata": {
    "collapsed": false
   },
   "outputs": [
    {
     "name": "stdout",
     "output_type": "stream",
     "text": [
      "Populating the interactive namespace from numpy and matplotlib\n"
     ]
    }
   ],
   "source": [
    "%pylab inline\n",
    "import geopandas as gpd\n",
    "from geopandas.tools import sjoin\n",
    "import pandas as pd\n",
    "from shapely.geometry import Point,LineString\n",
    "from IPython.display import display\n",
    "from pygeocoder import Geocoder\n",
    "import numpy as np\n",
    "import googlemaps,csv,math,os,re\n",
    "from collections import Counter\n",
    "from functools import reduce\n",
    "from operator import itemgetter\n",
    "import calendar"
   ]
  },
  {
   "cell_type": "markdown",
   "metadata": {},
   "source": [
    "### Load the data"
   ]
  },
  {
   "cell_type": "code",
   "execution_count": null,
   "metadata": {
    "collapsed": false
   },
   "outputs": [],
   "source": [
    "ph_str_gpd = gpd.read_file('data/Street_Centerline_qgis3.geojson')\n",
    "purp = gpd.read_file('data/tripbytrip_rd2_geojson.geojson')\n",
    "purp = purp[purp.geometry.type==\"LineString\"]\n",
    "purp.reset_index(inplace=True,drop=True)\n",
    "purp.head()"
   ]
  },
  {
   "cell_type": "code",
   "execution_count": null,
   "metadata": {
    "collapsed": true
   },
   "outputs": [],
   "source": [
    "ph_str_gpd.head().T"
   ]
  },
  {
   "cell_type": "code",
   "execution_count": null,
   "metadata": {
    "collapsed": true
   },
   "outputs": [],
   "source": [
    "new_ph.head().T"
   ]
  },
  {
   "cell_type": "markdown",
   "metadata": {},
   "source": [
    "### Point to Segment"
   ]
  },
  {
   "cell_type": "code",
   "execution_count": null,
   "metadata": {
    "collapsed": false
   },
   "outputs": [],
   "source": [
    "# coding=utf-8\n",
    "import geopandas as gp\n",
    "from shapely.geometry import Point, LineString, Polygon\n",
    "\n",
    "def haversine(lon1, lat1, lon2, lat2):\n",
    "    \"\"\"\n",
    "    Calculate the great circle distance between two points\n",
    "    on the earth (specified in decimal degrees)\n",
    "    \"\"\"\n",
    "    from math import radians, cos, sin, asin, sqrt\n",
    "    # convert decimal degrees to radians\n",
    "    lon1, lat1, lon2, lat2 = map(radians, [lon1, lat1, lon2, lat2])\n",
    "    # haversine formula\n",
    "    dlon = lon2 - lon1\n",
    "    dlat = lat2 - lat1\n",
    "    a = sin(dlat / 2) ** 2 + cos(lat1) * cos(lat2) * sin(dlon / 2) ** 2\n",
    "    c = 2 * asin(sqrt(a))\n",
    "    km = 6367 * c\n",
    "    m = km * 1000\n",
    "    return m\n",
    "\n",
    "\n",
    "def ptfromln(pt, ln):\n",
    "    \"\"\"\n",
    "    project pt to ln, compute haversine distance between projected pt and pt\n",
    "    :param pt: shapely.geometry.Point, (lon, lat) point\n",
    "    :param ln: shapely.geometry.LineString, [(lon,lat)] points\n",
    "    :return: distance in meters\n",
    "    \"\"\"\n",
    "    n_pt = ln.interpolate(ln.project(pt))\n",
    "    lon1, lat1 = n_pt.coords[0]\n",
    "    lon2, lat2 = pt.coords[0]\n",
    "    return haversine(lon1, lat1, lon2, lat2)\n",
    "\n",
    "def crs_prepossess(gpdf, init_crs, bfr_crs):\n",
    "    \"\"\"\n",
    "    create a shallow copy of gpdf; check the init crs of gpdf, if None, assign init_crs; change crs of copy to bfr_crs\n",
    "    :param gpdf: geopandas.GeoDataFrame\n",
    "    :param init_crs: init_crs epsg code\n",
    "    :param bfr_crs: target crs epsg code used for buffering\n",
    "    :return: a shallow copy of gpdf in bfr_crs\n",
    "    \"\"\"\n",
    "    gpdf_crs = gpdf.copy()\n",
    "    if gpdf_crs.crs == None:\n",
    "        gpdf_crs.crs = {'init': u'epsg:{}'.format(init_crs)}\n",
    "    return gpdf_crs.to_crs(epsg=bfr_crs)\n",
    "\n",
    "\n",
    "# ########## functions assigning ln(segment) to objs #############\n",
    "def pts2segs(pts, lns, bfr_crs, init_crs=4326, close_jn_dist=5, far_jn_dist=20):\n",
    "    \"\"\"\n",
    "    1. close jn: buffer pts in bfr_crs with close_jn_dist, use sjoin to find segment(s) intersected with buffered pts\n",
    "    2. far jn: for pts without any segment in close jn, buffer them with far_jn_dist and find nearest segment\n",
    "    :param pts: geopandas.GeoDataFrame\n",
    "    :param lns: geopandas.GeoDataFrame\n",
    "    :param bfr_crs: target crs epsg code used for buffering\n",
    "    :param init_crs: init_crs epsg code, default 4326(lat lon)\n",
    "    :param close_jn_dist: close join distance, allowing multiple segments for one point(assumed as intersection)\n",
    "    :param far_jn_dist: far join distance, find the nearest segment for one point\n",
    "    :return: pandas.DataFrame, columns=[pt_index, ln_index]\n",
    "    \"\"\"\n",
    "\n",
    "    import pandas as pd\n",
    "    index_pt, index_ln = 'index_pt', 'index_ln'\n",
    "\n",
    "    lns_crs = crs_prepossess(lns, init_crs, bfr_crs)\n",
    "    pts_crs = crs_prepossess(pts, init_crs, bfr_crs)\n",
    "\n",
    "    close_jn = pts_crs.copy()\n",
    "    close_jn.geometry = close_jn.buffer(close_jn_dist)\n",
    "    close_jn = gp.tools.sjoin(close_jn, lns_crs)[['index_right']]\n",
    "\n",
    "    close_jn_pts = set(pd.unique(close_jn.index))\n",
    "    far_jn = pts_crs[~pts_crs.index.isin(close_jn_pts)].copy()\n",
    "    \n",
    "    if not far_jn.empty:\n",
    "        far_jn.geometry = far_jn.buffer(far_jn_dist)\n",
    "        far_jn = gp.tools.sjoin(far_jn, lns_crs)[['index_right']]\n",
    "        # calculate haversine distance\n",
    "        far_jn = pd.merge(lns[['geometry']], far_jn, left_index=True, right_on=['index_right'])\n",
    "        far_jn = pd.merge(pts[['geometry']], far_jn, left_index=True, right_index=True)\n",
    "        far_jn['dis'] = far_jn.apply(lambda x: ptfromln(x.geometry_x, x.geometry_y), axis=1)\n",
    "        # keep ln with minimum distance to pt\n",
    "        far_jn = far_jn.groupby(level=0).apply(lambda x: x.iloc[x.dis.values.argmin()][['index_right']])\n",
    "        pts_has_ln = close_jn.append(far_jn).reset_index()\n",
    "    else:\n",
    "        pts_has_ln = close_jn.reset_index()\n",
    "\n",
    "    pts_has_ln.columns = [index_pt, index_ln]\n",
    "\n",
    "    pts_no_ln = pts[~pts.index.isin(pd.unique(pts_has_ln[index_pt]))].copy()\n",
    "    return pts_has_ln, pts_no_ln\n",
    "\n",
    "\n",
    "if __name__ == '__main__':\n",
    "    import geopandas as gp\n",
    "    # points are (lon, lat)\n",
    "    from shapely.geometry import Point\n",
    "#     lonlats = list(purp.geometry[0].coords)\n",
    "    pts = [Point(lonlat) for lonlat in new]\n",
    "    pts_gpdf = gp.GeoDataFrame(pts, columns=['geometry'])\n",
    "    # get segment index of segs for each point\n",
    "    pts_segs_idx, pts_no_segs = pts2segs(pts_gpdf, ph_str_gpd, bfr_crs=3559, init_crs=4326, close_jn_dist=1, far_jn_dist=30)\n",
    "    # get the STREETSEGID for each point\n",
    "    pts_segids = pts_segs_idx.merge(ph_str_gpd[['SEG_ID']], left_on=['index_ln'], right_index=True)\n",
    "    pts_segids.sort_values(by=['index_pt'],inplace=True)\n",
    "    pts_segids.reset_index(inplace=True,drop=True)\n",
    "    pts_segids.head().T\n"
   ]
  },
  {
   "cell_type": "code",
   "execution_count": null,
   "metadata": {
    "collapsed": false
   },
   "outputs": [],
   "source": [
    "pts_segids[(pts_segids['index_pt']>=20)&(pts_segids['index_pt']<=25)]"
   ]
  },
  {
   "cell_type": "code",
   "execution_count": null,
   "metadata": {
    "collapsed": false
   },
   "outputs": [],
   "source": [
    "pt_idx = [0,1,2,3,4]\n",
    "for ptx in pt_idx:\n",
    "    pt = pts_gpdf.geometry[ptx]\n",
    "\n",
    "    # the segments that are near pt 45\n",
    "    seg_indices = pts_segids[(pts_segids['index_pt']==ptx)].index_ln\n",
    "    print(\"Point Index: \"+str(ptx))\n",
    "    temp = ph_str_gpd.loc[seg_indices]['geometry'].index\n",
    "    temp2 = ph_str_gpd.loc[seg_indices]['geometry'].apply(lambda x: ptfromln(pt, x))\n",
    "    temp3 = ph_str_gpd.loc[seg_indices]['SEG_ID']\n",
    "    temp = sorted(list(zip(temp,temp3,temp2)),key=itemgetter(1))\n",
    "    for val in temp:\n",
    "        print(val)"
   ]
  },
  {
   "cell_type": "code",
   "execution_count": null,
   "metadata": {
    "collapsed": false
   },
   "outputs": [],
   "source": [
    "pts_segids[(pts_segids['index_pt']>=44)&(pts_segids['index_pt']<=46)]"
   ]
  },
  {
   "cell_type": "code",
   "execution_count": null,
   "metadata": {
    "collapsed": false
   },
   "outputs": [],
   "source": [
    "pt_idx = 45\n",
    "pt = pts_gpdf.geometry[pt_idx]\n",
    "\n",
    "# the segments that are near pt 45\n",
    "seg_indices = list(pts_segids[(pts_segids['index_pt']==pt_idx)].index_ln)\n",
    "seg_indices\n",
    "temp = ph_str_gpd.loc[seg_indices]['geometry'].index\n",
    "temp2 = ph_str_gpd.loc[seg_indices]['geometry'].apply(lambda x: ptfromln(pt, x))\n",
    "sorted(list(zip(temp,temp2)),key=itemgetter(1))"
   ]
  },
  {
   "cell_type": "code",
   "execution_count": null,
   "metadata": {
    "collapsed": false
   },
   "outputs": [],
   "source": [
    "# the pt with index 45\n",
    "pt_idx = [44,45,46]\n",
    "for ptx in pt_idx:\n",
    "    pt = pts_gpdf.geometry[ptx]\n",
    "\n",
    "    # the segments that are near pt 45\n",
    "    seg_indices = pts_segids[(pts_segids['index_pt']==ptx)].index_ln\n",
    "    print(\"Point Index: \"+str(ptx))\n",
    "    temp = ph_str_gpd.loc[seg_indices]['geometry'].index\n",
    "    temp2 = ph_str_gpd.loc[seg_indices]['geometry'].apply(lambda x: ptfromln(pt, x))\n",
    "    temp3 = ph_str_gpd.loc[seg_indices]['SEG_ID']\n",
    "    temp = sorted(list(zip(temp,temp3,temp2)),key=itemgetter(1))\n",
    "    for val in temp:\n",
    "        print(val)\n"
   ]
  },
  {
   "cell_type": "code",
   "execution_count": null,
   "metadata": {
    "collapsed": false
   },
   "outputs": [],
   "source": [
    "start = 50\n",
    "end = 67\n",
    "temp = pts_segids[(pts_segids['index_pt']>=start)&(pts_segids['index_pt']<=end)].index_ln\n",
    "inpt = ph_str_gpd.iloc[temp]\n",
    "otpt = pts[start:end+1]\n",
    "# gpdfs = [inpt, gpd.GeoDataFrame(otpt,columns=['geometry'])]\n",
    "gpdfs = [ph_str_gpd, gpd.GeoDataFrame(pts,columns=['geometry'])]\n",
    "create_map_visualization(html_title, file_path, file_name, lat, lon, zoom, init_layers, map_layers, binding_data, gpdfs)"
   ]
  },
  {
   "cell_type": "code",
   "execution_count": null,
   "metadata": {
    "collapsed": false
   },
   "outputs": [],
   "source": [
    "from leaflet_creation import create_map_visualization\n",
    "html_title = 'openstreetmap elements'\n",
    "file_path = ''\n",
    "file_name = 'test creation of leaflet'\n",
    "lon, lat = -75.17445310502671, 39.964070156312744  #D.C.\n",
    "zoom = 12\n",
    "init_layers = ['streets', 'stsg']\n",
    "map_layers = ['light','streets', 'satellite']\n",
    "binding_data=[['stsg','street segment'],['stsg1','street segment1']]\n",
    "ph_str_gpd['color'] = '#aa0'\n",
    "# gpdf2['color'] = '#0a0'\n",
    "inpt = \n",
    "otpt = pts[45:48]\n",
    "gpdfs = [ph_str_gpd, gpd.GeoDataFrame(pts,columns=['geometry'])]\n",
    "create_map_visualization(html_title, file_path, file_name, lat, lon, zoom, init_layers, map_layers, binding_data, gpdfs)"
   ]
  },
  {
   "cell_type": "code",
   "execution_count": null,
   "metadata": {
    "collapsed": true
   },
   "outputs": [],
   "source": [
    "def file_writer(new):\n",
    "    with open('trip.csv','w') as f:\n",
    "        writer = csv.writer(f)\n",
    "        writer.writerow([\"Longitude\",\"Latitude\"])\n",
    "        writer.writerows(new)"
   ]
  },
  {
   "cell_type": "code",
   "execution_count": null,
   "metadata": {
    "collapsed": true
   },
   "outputs": [],
   "source": [
    "Counter(sort(pts_seg.pt_index))"
   ]
  },
  {
   "cell_type": "markdown",
   "metadata": {},
   "source": [
    "### Feature Generation"
   ]
  },
  {
   "cell_type": "code",
   "execution_count": null,
   "metadata": {
    "collapsed": false
   },
   "outputs": [],
   "source": [
    "crime = pd.read_csv('../phillydata/Crime_Details.csv')\n",
    "park = pd.read_csv('../phillydata/Philly_Parking_Violation_Details_2014-2015.csv')\n",
    "p311 = pd.read_csv('../phillydata/Philly_311_Details_2015-16.csv')\n",
    "cols = pd.read_csv('../phillydata/Philly_Collision_Details_2013-14.csv')\n",
    "bike = pd.read_csv('../phillydata/Philly_Bikelanes.csv')\n",
    "slope = pd.read_csv('../phillydata/Slope_Segment.csv')\n",
    "\n",
    "temp = crime.groupby(['STREETSEGID']).sum().reset_index()\n",
    "feat = temp[['STREETSEGID','CRIME_COUNT']]\n",
    "feat.columns = ['SEG_ID','CRIME']\n",
    "\n",
    "temp = park.groupby(['STREETSEGID']).sum().reset_index()\n",
    "feat2 = temp[['STREETSEGID','TYPE_COUNT']]\n",
    "feat2.columns = ['SEG_ID','PARKING']\n",
    "\n",
    "temp = p311.groupby(['SEG_ID']).sum().reset_index()\n",
    "feat3 = temp[['SEG_ID','monthly_311_request_count']]\n",
    "feat3.columns = ['SEG_ID','311_REQUEST']\n",
    "\n",
    "temp = cols.groupby(['SEG_ID']).sum().reset_index()\n",
    "feat4 = temp[['SEG_ID','TOTAL_COLLISION_COUNT']]\n",
    "feat4.columns = ['SEG_ID','COLLISION']\n",
    "\n",
    "slope.reset_index()\n",
    "\n",
    "feat5 = ph_str_gpd[['SEG_ID','SHAPE_LEN']]\n",
    "\n",
    "dfs = [feat,feat2,feat3,feat4,bike,slope,feat5]\n",
    "feat_final = reduce(lambda left,right: pd.merge(left,right,on='SEG_ID',how='outer'), dfs)\n",
    "feat_final.fillna(0,inplace=True)\n",
    "feat_final.head()"
   ]
  },
  {
   "cell_type": "code",
   "execution_count": null,
   "metadata": {
    "collapsed": true
   },
   "outputs": [],
   "source": [
    "elev = pd.read_csv('../phillydata/Philly_Elevation_SegId.csv')\n",
    "seg_id = sort(list(set(elev['SEG_ID'])))\n",
    "slope = []\n",
    "for seg in seg_id:\n",
    "    temp2 = elev[elev['SEG_ID']==seg].Elevation\n",
    "    temp3 = max(temp2)-min(temp2)\n",
    "    if argmax(temp2)<argmin(temp2):\n",
    "        temp3 = -temp3\n",
    "    slope.append(temp3)\n",
    "slope"
   ]
  },
  {
   "cell_type": "code",
   "execution_count": null,
   "metadata": {
    "collapsed": false
   },
   "outputs": [],
   "source": [
    "feat6 = pd.DataFrame(list(zip(seg_id,slope)))\n",
    "feat6.columns = ['SEG_ID','ELEV_SLOPE']\n",
    "feat6.to_csv(\"../phillydata/Slope_Segment.csv\")"
   ]
  },
  {
   "cell_type": "code",
   "execution_count": null,
   "metadata": {
    "collapsed": false
   },
   "outputs": [],
   "source": [
    "Counter(purp[purp.UserId!='4'].Purpose)"
   ]
  },
  {
   "cell_type": "code",
   "execution_count": null,
   "metadata": {
    "collapsed": false
   },
   "outputs": [],
   "source": [
    "Counter(purp[purp.UserId!='4'].Purpose)"
   ]
  },
  {
   "cell_type": "code",
   "execution_count": null,
   "metadata": {
    "collapsed": false
   },
   "outputs": [],
   "source": [
    "for t in purp.geometry[165]:\n",
    "    print(list(t.coords))"
   ]
  },
  {
   "cell_type": "code",
   "execution_count": null,
   "metadata": {
    "collapsed": false
   },
   "outputs": [],
   "source": [
    "list(purp.geometry[0].coords)"
   ]
  },
  {
   "cell_type": "code",
   "execution_count": null,
   "metadata": {
    "collapsed": false
   },
   "outputs": [],
   "source": [
    "set([int(x) for x in purp.UserId])"
   ]
  },
  {
   "cell_type": "code",
   "execution_count": null,
   "metadata": {
    "collapsed": false
   },
   "outputs": [],
   "source": [
    "sorted(Counter(purp.UserId),key=itemgetter"
   ]
  },
  {
   "cell_type": "code",
   "execution_count": null,
   "metadata": {
    "collapsed": false
   },
   "outputs": [],
   "source": [
    "temp = Counter(list(zip(list(purp.UserId),list(purp.cycling_fr))))\n",
    "sorted(temp.items(), key=lambda pair: pair[1], reverse=True)"
   ]
  },
  {
   "cell_type": "code",
   "execution_count": null,
   "metadata": {
    "collapsed": false
   },
   "outputs": [],
   "source": [
    "comm = purp[purp.Purpose=='Commute']"
   ]
  },
  {
   "cell_type": "code",
   "execution_count": null,
   "metadata": {
    "collapsed": true
   },
   "outputs": [],
   "source": [
    "unique_set = [purp.geometry[0]]\n",
    "i = 0\n",
    "for temp in purp.geometry:\n",
    "    print(i)\n",
    "    if temp not in unique_set:\n",
    "        unique_set.append(temp)\n",
    "    i+=1"
   ]
  },
  {
   "cell_type": "code",
   "execution_count": null,
   "metadata": {
    "collapsed": false
   },
   "outputs": [],
   "source": [
    "catg = list(sorted(set(purp.Purpose)))\n",
    "count = [0]*len(catg)\n",
    "for temp in unique_set:\n",
    "    for i,t in enumerate(catg):\n",
    "        if temp in purp[purp.Purpose==t].geometry:\n",
    "            count[i]+=1\n",
    "            break\n",
    "count"
   ]
  },
  {
   "cell_type": "code",
   "execution_count": null,
   "metadata": {
    "collapsed": false
   },
   "outputs": [],
   "source": [
    "list(zip(catg,count))"
   ]
  },
  {
   "cell_type": "code",
   "execution_count": null,
   "metadata": {
    "collapsed": false
   },
   "outputs": [],
   "source": [
    "sum(count)"
   ]
  },
  {
   "cell_type": "code",
   "execution_count": null,
   "metadata": {
    "collapsed": false
   },
   "outputs": [],
   "source": [
    "import pickle as pkl\n",
    "pkl.dump(unique_set,open('Unique_Geometry.pkl','wb'))\n",
    "temp = pkl.load(open('Unique_Geometry.pkl','rb'))"
   ]
  },
  {
   "cell_type": "code",
   "execution_count": null,
   "metadata": {
    "collapsed": false
   },
   "outputs": [],
   "source": [
    "import datetime\n",
    "a = datetime.datetime(100,1,1,12,10,10)\n",
    "samay = [(a+datetime.timedelta(0,10*k)).strftime('%H:%M:%S') for k in range(len(pts))]\n",
    "len(samay)"
   ]
  },
  {
   "cell_type": "code",
   "execution_count": null,
   "metadata": {
    "collapsed": false
   },
   "outputs": [],
   "source": [
    "rang = list(zip(*list(purp.geometry[0].coords)))\n",
    "rang = [list(temp) for temp in rang]\n",
    "df = list(zip(samay,rang[0],rang[1]))\n",
    "data = pd.DataFrame(df,columns=['time','longitude','latitude'])\n",
    "data.head().T"
   ]
  },
  {
   "cell_type": "code",
   "execution_count": null,
   "metadata": {
    "collapsed": false
   },
   "outputs": [],
   "source": [
    "import mapbox\n",
    "from snap_to_road import *\n",
    "\n",
    "service = mp.MapMatcher()\n",
    "gps = snap_to_road(service,data)\n",
    "new = [item for it in gps for item in it]"
   ]
  },
  {
   "cell_type": "code",
   "execution_count": null,
   "metadata": {
    "collapsed": false
   },
   "outputs": [],
   "source": [
    "temp = list()\n",
    "for i in range(len(new)-1):\n",
    "    t = set(pts_segids[pts_segids['index_pt']==i+1].index_ln) & set(pts_segids[pts_segids['index_pt']==i].index_ln)\n",
    "    if not t:\n",
    "        print(set(pts_segids[pts_segids['index_pt']==i+1].index_ln))\n",
    "        print(set(pts_segids[pts_segids['index_pt']==i].index_ln))\n",
    "    temp.append(list(t))\n",
    "[idx for idx,t in enumerate(temp) if not t]"
   ]
  },
  {
   "cell_type": "code",
   "execution_count": null,
   "metadata": {
    "collapsed": false
   },
   "outputs": [],
   "source": [
    "unq_set = set()\n",
    "bfr = set()\n",
    "for i in range(0,50):#len(new)):\n",
    "    temp = set(pts_segids[pts_segids['index_pt']==i].index_ln)\n",
    "    t1 = ','.join(str(v) for v in temp)\n",
    "    t2 = ','.join(str(v) for v in bfr)\n",
    "    t3 = ','.join(str(v) for v in unq_set)\n",
    "    print(str(i)+\" Current: \"+t1+\" Buffer: \"+t2+\" Total: \"+t3)\n",
    "    if not bfr:\n",
    "        if not len(temp & unq_set):\n",
    "            bfr = bfr | temp\n",
    "        continue\n",
    "    if len(temp)==1:\n",
    "        unq_set = unq_set | temp\n",
    "        val = list(temp)[0]\n",
    "        if val in bfr:\n",
    "            bfr = set()\n",
    "            continue\n",
    "        else: \n",
    "            print(i)\n",
    "    bfr = bfr & temp\n",
    "    if not bfr:\n",
    "        print(\"P1 \"+str(i))\n",
    "    if len(bfr)==1:\n",
    "        val = list(bfr)[0]\n",
    "        if not val in unq_set:\n",
    "            print(\"P2\")\n",
    "            unq_set = unq_set | bfr\n",
    "        bfr = set()"
   ]
  },
  {
   "cell_type": "code",
   "execution_count": null,
   "metadata": {
    "collapsed": false
   },
   "outputs": [],
   "source": [
    "for i in range(0,len(new)):\n",
    "    if not (unq_set & set(pts_segids[pts_segids['index_pt']==i].index_ln)):\n",
    "        print(i)"
   ]
  },
  {
   "cell_type": "code",
   "execution_count": null,
   "metadata": {
    "collapsed": false
   },
   "outputs": [],
   "source": [
    "pts_segids[(pts_segids['index_pt']>=13)&(pts_segids['index_pt']<=29)]"
   ]
  },
  {
   "cell_type": "code",
   "execution_count": null,
   "metadata": {
    "collapsed": false
   },
   "outputs": [],
   "source": [
    "x = Counter(pts_segids.index_ln)\n",
    "sorted(x.items(), key=lambda pair: pair[1], reverse=True)"
   ]
  },
  {
   "cell_type": "code",
   "execution_count": null,
   "metadata": {
    "collapsed": false
   },
   "outputs": [],
   "source": [
    "trip = gpd.read_file('cyclephilly_rd2_geojson/cyclephilly_rd2_geojson.geojson')\n",
    "trip.head().T"
   ]
  },
  {
   "cell_type": "code",
   "execution_count": null,
   "metadata": {
    "collapsed": false
   },
   "outputs": [],
   "source": [
    "trip.geometry[0]"
   ]
  },
  {
   "cell_type": "code",
   "execution_count": null,
   "metadata": {
    "collapsed": true
   },
   "outputs": [],
   "source": [
    "temp = gpd.read_file('trip_detail_rd2_shp/trip_detail_rd2.shp')"
   ]
  },
  {
   "cell_type": "code",
   "execution_count": null,
   "metadata": {
    "collapsed": false
   },
   "outputs": [],
   "source": [
    "temp.head().T"
   ]
  },
  {
   "cell_type": "code",
   "execution_count": null,
   "metadata": {
    "collapsed": false
   },
   "outputs": [],
   "source": [
    "Counter(temp.Purpose)"
   ]
  },
  {
   "cell_type": "code",
   "execution_count": null,
   "metadata": {
    "collapsed": false
   },
   "outputs": [],
   "source": [
    "Counter(temp.cycling_fr)"
   ]
  },
  {
   "cell_type": "code",
   "execution_count": null,
   "metadata": {
    "collapsed": false
   },
   "outputs": [],
   "source": [
    "trip = gpd.read_file('nodes_geojson/CyclePhilly_Network_nodes.geojson')\n",
    "print(trip.shape)\n",
    "trip.head().T"
   ]
  },
  {
   "cell_type": "code",
   "execution_count": null,
   "metadata": {
    "collapsed": false
   },
   "outputs": [],
   "source": [
    "trip2 = gpd.read_file('nodes_shp/CyclePhilly_Network_nodes.shp')"
   ]
  },
  {
   "cell_type": "code",
   "execution_count": null,
   "metadata": {
    "collapsed": false
   },
   "outputs": [],
   "source": [
    "sum(trip.NO.isin([823213]))"
   ]
  },
  {
   "cell_type": "code",
   "execution_count": null,
   "metadata": {
    "collapsed": false
   },
   "outputs": [],
   "source": [
    "hist = np.array([len(t.coords) for t in temp.geometry])\n",
    "print(len(hist[hist>30]))\n",
    "print(mean(hist))"
   ]
  },
  {
   "cell_type": "code",
   "execution_count": null,
   "metadata": {
    "collapsed": false
   },
   "outputs": [],
   "source": [
    "print(len(hist[hist>20]))"
   ]
  },
  {
   "cell_type": "code",
   "execution_count": null,
   "metadata": {
    "collapsed": false
   },
   "outputs": [],
   "source": [
    "Counter(hist)"
   ]
  },
  {
   "cell_type": "code",
   "execution_count": null,
   "metadata": {
    "collapsed": false
   },
   "outputs": [],
   "source": [
    "hist2 = np.array([len(t.coords) for t in purp.geometry if t.type!=\"MultiLineString\"])\n",
    "print(len(hist2[hist2>30]))\n",
    "print(median(hist2))"
   ]
  },
  {
   "cell_type": "code",
   "execution_count": null,
   "metadata": {
    "collapsed": true
   },
   "outputs": [],
   "source": [
    "len(temp)"
   ]
  },
  {
   "cell_type": "code",
   "execution_count": 181,
   "metadata": {
    "collapsed": false
   },
   "outputs": [
    {
     "name": "stdout",
     "output_type": "stream",
     "text": [
      "Commute 3642 3642\n",
      "Errand 4167 4167\n",
      "Exercise 4632 4632\n",
      "Other 4987 4987\n",
      "School 5146 5146\n",
      "Shopping 5428 5428\n",
      "Social 6496 6496\n",
      "Work-Related 6937 6937\n"
     ]
    }
   ],
   "source": [
    "catg = list(sorted(set(purp.Purpose)))\n",
    "total_set = []\n",
    "for cat in catg:\n",
    "    subst = purp[purp.Purpose==cat]\n",
    "    temp = [list(temp.coords) for temp in subst.geometry]\n",
    "    temp = list(set(map(tuple, temp)))\n",
    "    temp = list(map(LineString,temp)) #subst[subst.geom_equals(t)].index[0]\n",
    "    unique_set = []\n",
    "    for t in temp:\n",
    "        for idx,tr in subst.iterrows():\n",
    "            if tr.geometry==t: \n",
    "                unique_set.append(idx)\n",
    "                break \n",
    "    total_set.extend(unique_set)\n",
    "    print(cat,len(set(total_set)),len(total_set))"
   ]
  },
  {
   "cell_type": "code",
   "execution_count": 184,
   "metadata": {
    "collapsed": false
   },
   "outputs": [],
   "source": [
    "filtered_purp = purp.ix[total_set]"
   ]
  },
  {
   "cell_type": "code",
   "execution_count": 189,
   "metadata": {
    "collapsed": false
   },
   "outputs": [],
   "source": [
    "filtered_purp.to_pickle('Route_Purpose.pkl')"
   ]
  },
  {
   "cell_type": "code",
   "execution_count": 3,
   "metadata": {
    "collapsed": false
   },
   "outputs": [
    {
     "name": "stdout",
     "output_type": "stream",
     "text": [
      "Traceback (most recent call last):\n",
      "  File \"//anaconda/lib/python3.5/site-packages/pandas/io/pickle.py\", line 51, in try_read\n",
      "    with open(path, 'rb') as fh:\n",
      "FileNotFoundError: [Errno 2] No such file or directory: 'Route_Purpose.pkl'\n",
      "\n",
      "During handling of the above exception, another exception occurred:\n",
      "\n",
      "Traceback (most recent call last):\n",
      "  File \"//anaconda/lib/python3.5/site-packages/pandas/io/pickle.py\", line 56, in try_read\n",
      "    with open(path, 'rb') as fh:\n",
      "FileNotFoundError: [Errno 2] No such file or directory: 'Route_Purpose.pkl'\n",
      "\n",
      "During handling of the above exception, another exception occurred:\n",
      "\n",
      "Traceback (most recent call last):\n",
      "  File \"//anaconda/lib/python3.5/site-packages/pandas/io/pickle.py\", line 65, in read_pickle\n",
      "    return try_read(path)\n",
      "  File \"//anaconda/lib/python3.5/site-packages/pandas/io/pickle.py\", line 61, in try_read\n",
      "    with open(path, 'rb') as fh:\n",
      "FileNotFoundError: [Errno 2] No such file or directory: 'Route_Purpose.pkl'\n",
      "\n",
      "During handling of the above exception, another exception occurred:\n",
      "\n",
      "Traceback (most recent call last):\n",
      "  File \"//anaconda/lib/python3.5/site-packages/pandas/io/pickle.py\", line 51, in try_read\n",
      "    with open(path, 'rb') as fh:\n",
      "FileNotFoundError: [Errno 2] No such file or directory: 'Route_Purpose.pkl'\n",
      "\n",
      "During handling of the above exception, another exception occurred:\n",
      "\n",
      "Traceback (most recent call last):\n",
      "  File \"//anaconda/lib/python3.5/site-packages/pandas/io/pickle.py\", line 56, in try_read\n",
      "    with open(path, 'rb') as fh:\n",
      "FileNotFoundError: [Errno 2] No such file or directory: 'Route_Purpose.pkl'\n",
      "\n",
      "During handling of the above exception, another exception occurred:\n",
      "\n",
      "Traceback (most recent call last):\n",
      "  File \"//anaconda/lib/python3.5/site-packages/IPython/core/interactiveshell.py\", line 2885, in run_code\n",
      "    exec(code_obj, self.user_global_ns, self.user_ns)\n",
      "  File \"<ipython-input-3-95d21b5e4808>\", line 1, in <module>\n",
      "    purp = pd.read_pickle('Route_Purpose.pkl')\n",
      "  File \"//anaconda/lib/python3.5/site-packages/pandas/io/pickle.py\", line 68, in read_pickle\n",
      "    return try_read(path, encoding='latin1')\n",
      "  File \"//anaconda/lib/python3.5/site-packages/pandas/io/pickle.py\", line 61, in try_read\n",
      "    with open(path, 'rb') as fh:\n",
      "FileNotFoundError: [Errno 2] No such file or directory: 'Route_Purpose.pkl'\n",
      "\n",
      "During handling of the above exception, another exception occurred:\n",
      "\n",
      "Traceback (most recent call last):\n",
      "  File \"//anaconda/lib/python3.5/site-packages/IPython/core/interactiveshell.py\", line 1827, in showtraceback\n",
      "    stb = value._render_traceback_()\n",
      "AttributeError: 'FileNotFoundError' object has no attribute '_render_traceback_'\n",
      "\n",
      "During handling of the above exception, another exception occurred:\n",
      "\n",
      "Traceback (most recent call last):\n",
      "  File \"//anaconda/lib/python3.5/site-packages/IPython/core/ultratb.py\", line 1120, in get_records\n",
      "    return _fixed_getinnerframes(etb, number_of_lines_of_context, tb_offset)\n",
      "  File \"//anaconda/lib/python3.5/site-packages/IPython/core/ultratb.py\", line 301, in wrapped\n",
      "    return f(*args, **kwargs)\n",
      "  File \"//anaconda/lib/python3.5/site-packages/IPython/core/ultratb.py\", line 346, in _fixed_getinnerframes\n",
      "    records = fix_frame_records_filenames(inspect.getinnerframes(etb, context))\n",
      "  File \"//anaconda/lib/python3.5/inspect.py\", line 1453, in getinnerframes\n",
      "    frameinfo = (tb.tb_frame,) + getframeinfo(tb, context)\n",
      "  File \"//anaconda/lib/python3.5/inspect.py\", line 1410, in getframeinfo\n",
      "    filename = getsourcefile(frame) or getfile(frame)\n",
      "  File \"//anaconda/lib/python3.5/inspect.py\", line 672, in getsourcefile\n",
      "    if getattr(getmodule(object, filename), '__loader__', None) is not None:\n",
      "  File \"//anaconda/lib/python3.5/inspect.py\", line 701, in getmodule\n",
      "    file = getabsfile(object, _filename)\n",
      "  File \"//anaconda/lib/python3.5/inspect.py\", line 685, in getabsfile\n",
      "    return os.path.normcase(os.path.abspath(_filename))\n",
      "  File \"//anaconda/lib/python3.5/posixpath.py\", line 361, in abspath\n",
      "    cwd = os.getcwd()\n",
      "FileNotFoundError: [Errno 2] No such file or directory\n",
      "Traceback (most recent call last):\n",
      "  File \"//anaconda/lib/python3.5/site-packages/pandas/io/pickle.py\", line 51, in try_read\n",
      "    with open(path, 'rb') as fh:\n",
      "FileNotFoundError: [Errno 2] No such file or directory: 'Route_Purpose.pkl'\n",
      "\n",
      "During handling of the above exception, another exception occurred:\n",
      "\n",
      "Traceback (most recent call last):\n",
      "  File \"//anaconda/lib/python3.5/site-packages/pandas/io/pickle.py\", line 56, in try_read\n",
      "    with open(path, 'rb') as fh:\n",
      "FileNotFoundError: [Errno 2] No such file or directory: 'Route_Purpose.pkl'\n",
      "\n",
      "During handling of the above exception, another exception occurred:\n",
      "\n",
      "Traceback (most recent call last):\n",
      "  File \"//anaconda/lib/python3.5/site-packages/pandas/io/pickle.py\", line 65, in read_pickle\n",
      "    return try_read(path)\n",
      "  File \"//anaconda/lib/python3.5/site-packages/pandas/io/pickle.py\", line 61, in try_read\n",
      "    with open(path, 'rb') as fh:\n",
      "FileNotFoundError: [Errno 2] No such file or directory: 'Route_Purpose.pkl'\n",
      "\n",
      "During handling of the above exception, another exception occurred:\n",
      "\n",
      "Traceback (most recent call last):\n",
      "  File \"//anaconda/lib/python3.5/site-packages/pandas/io/pickle.py\", line 51, in try_read\n",
      "    with open(path, 'rb') as fh:\n",
      "FileNotFoundError: [Errno 2] No such file or directory: 'Route_Purpose.pkl'\n",
      "\n",
      "During handling of the above exception, another exception occurred:\n",
      "\n",
      "Traceback (most recent call last):\n",
      "  File \"//anaconda/lib/python3.5/site-packages/pandas/io/pickle.py\", line 56, in try_read\n",
      "    with open(path, 'rb') as fh:\n",
      "FileNotFoundError: [Errno 2] No such file or directory: 'Route_Purpose.pkl'\n",
      "\n",
      "During handling of the above exception, another exception occurred:\n",
      "\n",
      "Traceback (most recent call last):\n",
      "  File \"//anaconda/lib/python3.5/site-packages/IPython/core/interactiveshell.py\", line 2885, in run_code\n",
      "    exec(code_obj, self.user_global_ns, self.user_ns)\n",
      "  File \"<ipython-input-3-95d21b5e4808>\", line 1, in <module>\n",
      "    purp = pd.read_pickle('Route_Purpose.pkl')\n",
      "  File \"//anaconda/lib/python3.5/site-packages/pandas/io/pickle.py\", line 68, in read_pickle\n",
      "    return try_read(path, encoding='latin1')\n",
      "  File \"//anaconda/lib/python3.5/site-packages/pandas/io/pickle.py\", line 61, in try_read\n",
      "    with open(path, 'rb') as fh:\n",
      "FileNotFoundError: [Errno 2] No such file or directory: 'Route_Purpose.pkl'\n",
      "\n",
      "During handling of the above exception, another exception occurred:\n",
      "\n",
      "Traceback (most recent call last):\n",
      "  File \"//anaconda/lib/python3.5/site-packages/IPython/core/interactiveshell.py\", line 1827, in showtraceback\n",
      "    stb = value._render_traceback_()\n",
      "AttributeError: 'FileNotFoundError' object has no attribute '_render_traceback_'\n",
      "\n",
      "During handling of the above exception, another exception occurred:\n",
      "\n",
      "Traceback (most recent call last):\n",
      "  File \"//anaconda/lib/python3.5/site-packages/IPython/core/interactiveshell.py\", line 2825, in run_ast_nodes\n",
      "    if self.run_code(code, result):\n",
      "  File \"//anaconda/lib/python3.5/site-packages/IPython/core/interactiveshell.py\", line 2902, in run_code\n",
      "    self.showtraceback()\n",
      "  File \"//anaconda/lib/python3.5/site-packages/IPython/core/interactiveshell.py\", line 1830, in showtraceback\n",
      "    value, tb, tb_offset=tb_offset)\n",
      "  File \"//anaconda/lib/python3.5/site-packages/IPython/core/ultratb.py\", line 1394, in structured_traceback\n",
      "    self, etype, value, tb, tb_offset, number_of_lines_of_context)\n",
      "  File \"//anaconda/lib/python3.5/site-packages/IPython/core/ultratb.py\", line 1302, in structured_traceback\n",
      "    self, etype, value, tb, tb_offset, number_of_lines_of_context\n",
      "  File \"//anaconda/lib/python3.5/site-packages/IPython/core/ultratb.py\", line 1164, in structured_traceback\n",
      "    formatted_exceptions += self.prepare_chained_exception_message(evalue.__cause__)\n",
      "TypeError: Can't convert 'list' object to str implicitly\n",
      "\n",
      "During handling of the above exception, another exception occurred:\n",
      "\n",
      "Traceback (most recent call last):\n",
      "  File \"//anaconda/lib/python3.5/site-packages/IPython/core/interactiveshell.py\", line 1827, in showtraceback\n",
      "    stb = value._render_traceback_()\n",
      "AttributeError: 'TypeError' object has no attribute '_render_traceback_'\n",
      "\n",
      "During handling of the above exception, another exception occurred:\n",
      "\n",
      "Traceback (most recent call last):\n",
      "  File \"//anaconda/lib/python3.5/site-packages/IPython/core/ultratb.py\", line 1120, in get_records\n",
      "    return _fixed_getinnerframes(etb, number_of_lines_of_context, tb_offset)\n",
      "  File \"//anaconda/lib/python3.5/site-packages/IPython/core/ultratb.py\", line 301, in wrapped\n",
      "    return f(*args, **kwargs)\n",
      "  File \"//anaconda/lib/python3.5/site-packages/IPython/core/ultratb.py\", line 346, in _fixed_getinnerframes\n",
      "    records = fix_frame_records_filenames(inspect.getinnerframes(etb, context))\n",
      "  File \"//anaconda/lib/python3.5/inspect.py\", line 1453, in getinnerframes\n",
      "    frameinfo = (tb.tb_frame,) + getframeinfo(tb, context)\n",
      "  File \"//anaconda/lib/python3.5/inspect.py\", line 1410, in getframeinfo\n",
      "    filename = getsourcefile(frame) or getfile(frame)\n",
      "  File \"//anaconda/lib/python3.5/inspect.py\", line 672, in getsourcefile\n",
      "    if getattr(getmodule(object, filename), '__loader__', None) is not None:\n",
      "  File \"//anaconda/lib/python3.5/inspect.py\", line 701, in getmodule\n",
      "    file = getabsfile(object, _filename)\n",
      "  File \"//anaconda/lib/python3.5/inspect.py\", line 685, in getabsfile\n",
      "    return os.path.normcase(os.path.abspath(_filename))\n",
      "  File \"//anaconda/lib/python3.5/posixpath.py\", line 361, in abspath\n",
      "    cwd = os.getcwd()\n",
      "FileNotFoundError: [Errno 2] No such file or directory\n"
     ]
    },
    {
     "name": "stderr",
     "output_type": "stream",
     "text": [
      "ERROR: Internal Python error in the inspect module.\n",
      "Below is the traceback from this internal error.\n",
      "\n",
      "\n",
      "Unfortunately, your original traceback can not be constructed.\n",
      "\n",
      "ERROR: Internal Python error in the inspect module.\n",
      "Below is the traceback from this internal error.\n",
      "\n",
      "\n",
      "Unfortunately, your original traceback can not be constructed.\n",
      "\n"
     ]
    },
    {
     "ename": "TypeError",
     "evalue": "Can't convert 'list' object to str implicitly",
     "output_type": "error",
     "traceback": [
      "\u001b[0;31m---------------------------------------------------------------------------\u001b[0m",
      "\u001b[0;31mFileNotFoundError\u001b[0m                         Traceback (most recent call last)",
      "\u001b[0;32m//anaconda/lib/python3.5/site-packages/pandas/io/pickle.py\u001b[0m in \u001b[0;36mtry_read\u001b[0;34m(path, encoding)\u001b[0m\n\u001b[1;32m     50\u001b[0m         \u001b[0;32mtry\u001b[0m\u001b[0;34m:\u001b[0m\u001b[0;34m\u001b[0m\u001b[0m\n\u001b[0;32m---> 51\u001b[0;31m             \u001b[0;32mwith\u001b[0m \u001b[0mopen\u001b[0m\u001b[0;34m(\u001b[0m\u001b[0mpath\u001b[0m\u001b[0;34m,\u001b[0m \u001b[0;34m'rb'\u001b[0m\u001b[0;34m)\u001b[0m \u001b[0;32mas\u001b[0m \u001b[0mfh\u001b[0m\u001b[0;34m:\u001b[0m\u001b[0;34m\u001b[0m\u001b[0m\n\u001b[0m\u001b[1;32m     52\u001b[0m                 \u001b[0;32mreturn\u001b[0m \u001b[0mpkl\u001b[0m\u001b[0;34m.\u001b[0m\u001b[0mload\u001b[0m\u001b[0;34m(\u001b[0m\u001b[0mfh\u001b[0m\u001b[0;34m)\u001b[0m\u001b[0;34m\u001b[0m\u001b[0m\n",
      "\u001b[0;31mFileNotFoundError\u001b[0m: [Errno 2] No such file or directory: 'Route_Purpose.pkl'",
      "\nDuring handling of the above exception, another exception occurred:\n",
      "\u001b[0;31mFileNotFoundError\u001b[0m                         Traceback (most recent call last)",
      "\u001b[0;32m//anaconda/lib/python3.5/site-packages/pandas/io/pickle.py\u001b[0m in \u001b[0;36mtry_read\u001b[0;34m(path, encoding)\u001b[0m\n\u001b[1;32m     55\u001b[0m             \u001b[0;32mtry\u001b[0m\u001b[0;34m:\u001b[0m\u001b[0;34m\u001b[0m\u001b[0m\n\u001b[0;32m---> 56\u001b[0;31m                 \u001b[0;32mwith\u001b[0m \u001b[0mopen\u001b[0m\u001b[0;34m(\u001b[0m\u001b[0mpath\u001b[0m\u001b[0;34m,\u001b[0m \u001b[0;34m'rb'\u001b[0m\u001b[0;34m)\u001b[0m \u001b[0;32mas\u001b[0m \u001b[0mfh\u001b[0m\u001b[0;34m:\u001b[0m\u001b[0;34m\u001b[0m\u001b[0m\n\u001b[0m\u001b[1;32m     57\u001b[0m                     \u001b[0;32mreturn\u001b[0m \u001b[0mpc\u001b[0m\u001b[0;34m.\u001b[0m\u001b[0mload\u001b[0m\u001b[0;34m(\u001b[0m\u001b[0mfh\u001b[0m\u001b[0;34m,\u001b[0m \u001b[0mencoding\u001b[0m\u001b[0;34m=\u001b[0m\u001b[0mencoding\u001b[0m\u001b[0;34m,\u001b[0m \u001b[0mcompat\u001b[0m\u001b[0;34m=\u001b[0m\u001b[0;32mFalse\u001b[0m\u001b[0;34m)\u001b[0m\u001b[0;34m\u001b[0m\u001b[0m\n",
      "\u001b[0;31mFileNotFoundError\u001b[0m: [Errno 2] No such file or directory: 'Route_Purpose.pkl'",
      "\nDuring handling of the above exception, another exception occurred:\n",
      "\u001b[0;31mFileNotFoundError\u001b[0m                         Traceback (most recent call last)",
      "\u001b[0;32m//anaconda/lib/python3.5/site-packages/pandas/io/pickle.py\u001b[0m in \u001b[0;36mread_pickle\u001b[0;34m(path)\u001b[0m\n\u001b[1;32m     64\u001b[0m     \u001b[0;32mtry\u001b[0m\u001b[0;34m:\u001b[0m\u001b[0;34m\u001b[0m\u001b[0m\n\u001b[0;32m---> 65\u001b[0;31m         \u001b[0;32mreturn\u001b[0m \u001b[0mtry_read\u001b[0m\u001b[0;34m(\u001b[0m\u001b[0mpath\u001b[0m\u001b[0;34m)\u001b[0m\u001b[0;34m\u001b[0m\u001b[0m\n\u001b[0m\u001b[1;32m     66\u001b[0m     \u001b[0;32mexcept\u001b[0m\u001b[0;34m:\u001b[0m\u001b[0;34m\u001b[0m\u001b[0m\n",
      "\u001b[0;32m//anaconda/lib/python3.5/site-packages/pandas/io/pickle.py\u001b[0m in \u001b[0;36mtry_read\u001b[0;34m(path, encoding)\u001b[0m\n\u001b[1;32m     60\u001b[0m             \u001b[0;32mexcept\u001b[0m\u001b[0;34m:\u001b[0m\u001b[0;34m\u001b[0m\u001b[0m\n\u001b[0;32m---> 61\u001b[0;31m                 \u001b[0;32mwith\u001b[0m \u001b[0mopen\u001b[0m\u001b[0;34m(\u001b[0m\u001b[0mpath\u001b[0m\u001b[0;34m,\u001b[0m \u001b[0;34m'rb'\u001b[0m\u001b[0;34m)\u001b[0m \u001b[0;32mas\u001b[0m \u001b[0mfh\u001b[0m\u001b[0;34m:\u001b[0m\u001b[0;34m\u001b[0m\u001b[0m\n\u001b[0m\u001b[1;32m     62\u001b[0m                     \u001b[0;32mreturn\u001b[0m \u001b[0mpc\u001b[0m\u001b[0;34m.\u001b[0m\u001b[0mload\u001b[0m\u001b[0;34m(\u001b[0m\u001b[0mfh\u001b[0m\u001b[0;34m,\u001b[0m \u001b[0mencoding\u001b[0m\u001b[0;34m=\u001b[0m\u001b[0mencoding\u001b[0m\u001b[0;34m,\u001b[0m \u001b[0mcompat\u001b[0m\u001b[0;34m=\u001b[0m\u001b[0;32mTrue\u001b[0m\u001b[0;34m)\u001b[0m\u001b[0;34m\u001b[0m\u001b[0m\n",
      "\u001b[0;31mFileNotFoundError\u001b[0m: [Errno 2] No such file or directory: 'Route_Purpose.pkl'",
      "\nDuring handling of the above exception, another exception occurred:\n",
      "\u001b[0;31mFileNotFoundError\u001b[0m                         Traceback (most recent call last)",
      "\u001b[0;32m//anaconda/lib/python3.5/site-packages/pandas/io/pickle.py\u001b[0m in \u001b[0;36mtry_read\u001b[0;34m(path, encoding)\u001b[0m\n\u001b[1;32m     50\u001b[0m         \u001b[0;32mtry\u001b[0m\u001b[0;34m:\u001b[0m\u001b[0;34m\u001b[0m\u001b[0m\n\u001b[0;32m---> 51\u001b[0;31m             \u001b[0;32mwith\u001b[0m \u001b[0mopen\u001b[0m\u001b[0;34m(\u001b[0m\u001b[0mpath\u001b[0m\u001b[0;34m,\u001b[0m \u001b[0;34m'rb'\u001b[0m\u001b[0;34m)\u001b[0m \u001b[0;32mas\u001b[0m \u001b[0mfh\u001b[0m\u001b[0;34m:\u001b[0m\u001b[0;34m\u001b[0m\u001b[0m\n\u001b[0m\u001b[1;32m     52\u001b[0m                 \u001b[0;32mreturn\u001b[0m \u001b[0mpkl\u001b[0m\u001b[0;34m.\u001b[0m\u001b[0mload\u001b[0m\u001b[0;34m(\u001b[0m\u001b[0mfh\u001b[0m\u001b[0;34m)\u001b[0m\u001b[0;34m\u001b[0m\u001b[0m\n",
      "\u001b[0;31mFileNotFoundError\u001b[0m: [Errno 2] No such file or directory: 'Route_Purpose.pkl'",
      "\nDuring handling of the above exception, another exception occurred:\n",
      "\u001b[0;31mFileNotFoundError\u001b[0m                         Traceback (most recent call last)",
      "\u001b[0;32m//anaconda/lib/python3.5/site-packages/pandas/io/pickle.py\u001b[0m in \u001b[0;36mtry_read\u001b[0;34m(path, encoding)\u001b[0m\n\u001b[1;32m     55\u001b[0m             \u001b[0;32mtry\u001b[0m\u001b[0;34m:\u001b[0m\u001b[0;34m\u001b[0m\u001b[0m\n\u001b[0;32m---> 56\u001b[0;31m                 \u001b[0;32mwith\u001b[0m \u001b[0mopen\u001b[0m\u001b[0;34m(\u001b[0m\u001b[0mpath\u001b[0m\u001b[0;34m,\u001b[0m \u001b[0;34m'rb'\u001b[0m\u001b[0;34m)\u001b[0m \u001b[0;32mas\u001b[0m \u001b[0mfh\u001b[0m\u001b[0;34m:\u001b[0m\u001b[0;34m\u001b[0m\u001b[0m\n\u001b[0m\u001b[1;32m     57\u001b[0m                     \u001b[0;32mreturn\u001b[0m \u001b[0mpc\u001b[0m\u001b[0;34m.\u001b[0m\u001b[0mload\u001b[0m\u001b[0;34m(\u001b[0m\u001b[0mfh\u001b[0m\u001b[0;34m,\u001b[0m \u001b[0mencoding\u001b[0m\u001b[0;34m=\u001b[0m\u001b[0mencoding\u001b[0m\u001b[0;34m,\u001b[0m \u001b[0mcompat\u001b[0m\u001b[0;34m=\u001b[0m\u001b[0;32mFalse\u001b[0m\u001b[0;34m)\u001b[0m\u001b[0;34m\u001b[0m\u001b[0m\n",
      "\u001b[0;31mFileNotFoundError\u001b[0m: [Errno 2] No such file or directory: 'Route_Purpose.pkl'",
      "\nDuring handling of the above exception, another exception occurred:\n",
      "\nDuring handling of the above exception, another exception occurred:\n",
      "\u001b[0;31mAttributeError\u001b[0m                            Traceback (most recent call last)",
      "\u001b[0;32m//anaconda/lib/python3.5/site-packages/IPython/core/interactiveshell.py\u001b[0m in \u001b[0;36mshowtraceback\u001b[0;34m(self, exc_tuple, filename, tb_offset, exception_only)\u001b[0m\n\u001b[1;32m   1826\u001b[0m                         \u001b[0;31m# in the engines. This should return a list of strings.\u001b[0m\u001b[0;34m\u001b[0m\u001b[0;34m\u001b[0m\u001b[0m\n\u001b[0;32m-> 1827\u001b[0;31m                         \u001b[0mstb\u001b[0m \u001b[0;34m=\u001b[0m \u001b[0mvalue\u001b[0m\u001b[0;34m.\u001b[0m\u001b[0m_render_traceback_\u001b[0m\u001b[0;34m(\u001b[0m\u001b[0;34m)\u001b[0m\u001b[0;34m\u001b[0m\u001b[0m\n\u001b[0m\u001b[1;32m   1828\u001b[0m                     \u001b[0;32mexcept\u001b[0m \u001b[0mException\u001b[0m\u001b[0;34m:\u001b[0m\u001b[0;34m\u001b[0m\u001b[0m\n",
      "\u001b[0;31mAttributeError\u001b[0m: 'FileNotFoundError' object has no attribute '_render_traceback_'",
      "\nDuring handling of the above exception, another exception occurred:\n",
      "\u001b[0;31mTypeError\u001b[0m                                 Traceback (most recent call last)",
      "\u001b[0;32m//anaconda/lib/python3.5/site-packages/IPython/core/interactiveshell.py\u001b[0m in \u001b[0;36mrun_code\u001b[0;34m(self, code_obj, result)\u001b[0m\n\u001b[1;32m   2900\u001b[0m             \u001b[0;32mif\u001b[0m \u001b[0mresult\u001b[0m \u001b[0;32mis\u001b[0m \u001b[0;32mnot\u001b[0m \u001b[0;32mNone\u001b[0m\u001b[0;34m:\u001b[0m\u001b[0;34m\u001b[0m\u001b[0m\n\u001b[1;32m   2901\u001b[0m                 \u001b[0mresult\u001b[0m\u001b[0;34m.\u001b[0m\u001b[0merror_in_exec\u001b[0m \u001b[0;34m=\u001b[0m \u001b[0msys\u001b[0m\u001b[0;34m.\u001b[0m\u001b[0mexc_info\u001b[0m\u001b[0;34m(\u001b[0m\u001b[0;34m)\u001b[0m\u001b[0;34m[\u001b[0m\u001b[0;36m1\u001b[0m\u001b[0;34m]\u001b[0m\u001b[0;34m\u001b[0m\u001b[0m\n\u001b[0;32m-> 2902\u001b[0;31m             \u001b[0mself\u001b[0m\u001b[0;34m.\u001b[0m\u001b[0mshowtraceback\u001b[0m\u001b[0;34m(\u001b[0m\u001b[0;34m)\u001b[0m\u001b[0;34m\u001b[0m\u001b[0m\n\u001b[0m\u001b[1;32m   2903\u001b[0m         \u001b[0;32melse\u001b[0m\u001b[0;34m:\u001b[0m\u001b[0;34m\u001b[0m\u001b[0m\n\u001b[1;32m   2904\u001b[0m             \u001b[0moutflag\u001b[0m \u001b[0;34m=\u001b[0m \u001b[0;36m0\u001b[0m\u001b[0;34m\u001b[0m\u001b[0m\n",
      "\u001b[0;32m//anaconda/lib/python3.5/site-packages/IPython/core/interactiveshell.py\u001b[0m in \u001b[0;36mshowtraceback\u001b[0;34m(self, exc_tuple, filename, tb_offset, exception_only)\u001b[0m\n\u001b[1;32m   1828\u001b[0m                     \u001b[0;32mexcept\u001b[0m \u001b[0mException\u001b[0m\u001b[0;34m:\u001b[0m\u001b[0;34m\u001b[0m\u001b[0m\n\u001b[1;32m   1829\u001b[0m                         stb = self.InteractiveTB.structured_traceback(etype,\n\u001b[0;32m-> 1830\u001b[0;31m                                             value, tb, tb_offset=tb_offset)\n\u001b[0m\u001b[1;32m   1831\u001b[0m \u001b[0;34m\u001b[0m\u001b[0m\n\u001b[1;32m   1832\u001b[0m                     \u001b[0mself\u001b[0m\u001b[0;34m.\u001b[0m\u001b[0m_showtraceback\u001b[0m\u001b[0;34m(\u001b[0m\u001b[0metype\u001b[0m\u001b[0;34m,\u001b[0m \u001b[0mvalue\u001b[0m\u001b[0;34m,\u001b[0m \u001b[0mstb\u001b[0m\u001b[0;34m)\u001b[0m\u001b[0;34m\u001b[0m\u001b[0m\n",
      "\u001b[0;32m//anaconda/lib/python3.5/site-packages/IPython/core/ultratb.py\u001b[0m in \u001b[0;36mstructured_traceback\u001b[0;34m(self, etype, value, tb, tb_offset, number_of_lines_of_context)\u001b[0m\n\u001b[1;32m   1392\u001b[0m         \u001b[0mself\u001b[0m\u001b[0;34m.\u001b[0m\u001b[0mtb\u001b[0m \u001b[0;34m=\u001b[0m \u001b[0mtb\u001b[0m\u001b[0;34m\u001b[0m\u001b[0m\n\u001b[1;32m   1393\u001b[0m         return FormattedTB.structured_traceback(\n\u001b[0;32m-> 1394\u001b[0;31m             self, etype, value, tb, tb_offset, number_of_lines_of_context)\n\u001b[0m\u001b[1;32m   1395\u001b[0m \u001b[0;34m\u001b[0m\u001b[0m\n\u001b[1;32m   1396\u001b[0m \u001b[0;34m\u001b[0m\u001b[0m\n",
      "\u001b[0;32m//anaconda/lib/python3.5/site-packages/IPython/core/ultratb.py\u001b[0m in \u001b[0;36mstructured_traceback\u001b[0;34m(self, etype, value, tb, tb_offset, number_of_lines_of_context)\u001b[0m\n\u001b[1;32m   1300\u001b[0m             \u001b[0;31m# Verbose modes need a full traceback\u001b[0m\u001b[0;34m\u001b[0m\u001b[0;34m\u001b[0m\u001b[0m\n\u001b[1;32m   1301\u001b[0m             return VerboseTB.structured_traceback(\n\u001b[0;32m-> 1302\u001b[0;31m                 \u001b[0mself\u001b[0m\u001b[0;34m,\u001b[0m \u001b[0metype\u001b[0m\u001b[0;34m,\u001b[0m \u001b[0mvalue\u001b[0m\u001b[0;34m,\u001b[0m \u001b[0mtb\u001b[0m\u001b[0;34m,\u001b[0m \u001b[0mtb_offset\u001b[0m\u001b[0;34m,\u001b[0m \u001b[0mnumber_of_lines_of_context\u001b[0m\u001b[0;34m\u001b[0m\u001b[0m\n\u001b[0m\u001b[1;32m   1303\u001b[0m             )\n\u001b[1;32m   1304\u001b[0m         \u001b[0;32melse\u001b[0m\u001b[0;34m:\u001b[0m\u001b[0;34m\u001b[0m\u001b[0m\n",
      "\u001b[0;32m//anaconda/lib/python3.5/site-packages/IPython/core/ultratb.py\u001b[0m in \u001b[0;36mstructured_traceback\u001b[0;34m(self, etype, evalue, etb, tb_offset, number_of_lines_of_context)\u001b[0m\n\u001b[1;32m   1162\u001b[0m             \u001b[0mexception\u001b[0m \u001b[0;34m=\u001b[0m \u001b[0mself\u001b[0m\u001b[0;34m.\u001b[0m\u001b[0mget_parts_of_chained_exception\u001b[0m\u001b[0;34m(\u001b[0m\u001b[0mevalue\u001b[0m\u001b[0;34m)\u001b[0m\u001b[0;34m\u001b[0m\u001b[0m\n\u001b[1;32m   1163\u001b[0m             \u001b[0;32mif\u001b[0m \u001b[0mexception\u001b[0m\u001b[0;34m:\u001b[0m\u001b[0;34m\u001b[0m\u001b[0m\n\u001b[0;32m-> 1164\u001b[0;31m                 \u001b[0mformatted_exceptions\u001b[0m \u001b[0;34m+=\u001b[0m \u001b[0mself\u001b[0m\u001b[0;34m.\u001b[0m\u001b[0mprepare_chained_exception_message\u001b[0m\u001b[0;34m(\u001b[0m\u001b[0mevalue\u001b[0m\u001b[0;34m.\u001b[0m\u001b[0m__cause__\u001b[0m\u001b[0;34m)\u001b[0m\u001b[0;34m\u001b[0m\u001b[0m\n\u001b[0m\u001b[1;32m   1165\u001b[0m                 \u001b[0metype\u001b[0m\u001b[0;34m,\u001b[0m \u001b[0mevalue\u001b[0m\u001b[0;34m,\u001b[0m \u001b[0metb\u001b[0m \u001b[0;34m=\u001b[0m \u001b[0mexception\u001b[0m\u001b[0;34m\u001b[0m\u001b[0m\n\u001b[1;32m   1166\u001b[0m             \u001b[0;32melse\u001b[0m\u001b[0;34m:\u001b[0m\u001b[0;34m\u001b[0m\u001b[0m\n",
      "\u001b[0;31mTypeError\u001b[0m: Can't convert 'list' object to str implicitly"
     ]
    }
   ],
   "source": [
    "purp = pd.read_pickle('Route_Purpose.pkl')\n",
    "print(purp.shape)\n",
    "purp.head().T"
   ]
  },
  {
   "cell_type": "code",
   "execution_count": 161,
   "metadata": {
    "collapsed": false
   },
   "outputs": [
    {
     "data": {
      "text/html": [
       "<div>\n",
       "<table border=\"1\" class=\"dataframe\">\n",
       "  <thead>\n",
       "    <tr style=\"text-align: right;\">\n",
       "      <th></th>\n",
       "      <th>Purpose</th>\n",
       "      <th>Start</th>\n",
       "      <th>Stop</th>\n",
       "      <th>TripID</th>\n",
       "      <th>UserId</th>\n",
       "      <th>age</th>\n",
       "      <th>cycling_fr</th>\n",
       "      <th>ethnicity</th>\n",
       "      <th>gender</th>\n",
       "      <th>geometry</th>\n",
       "      <th>income</th>\n",
       "      <th>rider_hist</th>\n",
       "      <th>rider_type</th>\n",
       "    </tr>\n",
       "  </thead>\n",
       "  <tbody>\n",
       "    <tr>\n",
       "      <th>513</th>\n",
       "      <td>Commute</td>\n",
       "      <td>2014-09-05T08:33:16</td>\n",
       "      <td>2014-09-05T08:36:32</td>\n",
       "      <td>9457</td>\n",
       "      <td>128</td>\n",
       "      <td>45 - 54</td>\n",
       "      <td>Less than once a month</td>\n",
       "      <td>White</td>\n",
       "      <td>Male</td>\n",
       "      <td>LINESTRING (-75.38672539985726 39.921296000410...</td>\n",
       "      <td>&gt; $100,000</td>\n",
       "      <td>Since childhood</td>\n",
       "      <td>Enthused &amp; Confident</td>\n",
       "    </tr>\n",
       "    <tr>\n",
       "      <th>514</th>\n",
       "      <td>Commute</td>\n",
       "      <td>2014-09-05T18:42:52</td>\n",
       "      <td>2014-09-05T18:46:34</td>\n",
       "      <td>9475</td>\n",
       "      <td>128</td>\n",
       "      <td>45 - 54</td>\n",
       "      <td>Less than once a month</td>\n",
       "      <td>White</td>\n",
       "      <td>Male</td>\n",
       "      <td>LINESTRING (-75.383042300162 39.91876399965889...</td>\n",
       "      <td>&gt; $100,000</td>\n",
       "      <td>Since childhood</td>\n",
       "      <td>Enthused &amp; Confident</td>\n",
       "    </tr>\n",
       "    <tr>\n",
       "      <th>515</th>\n",
       "      <td>Commute</td>\n",
       "      <td>2014-09-12T17:30:17</td>\n",
       "      <td>2014-09-12T17:34:08</td>\n",
       "      <td>9615</td>\n",
       "      <td>128</td>\n",
       "      <td>45 - 54</td>\n",
       "      <td>Less than once a month</td>\n",
       "      <td>White</td>\n",
       "      <td>Male</td>\n",
       "      <td>LINESTRING (-75.383042300162 39.91876399965889...</td>\n",
       "      <td>&gt; $100,000</td>\n",
       "      <td>Since childhood</td>\n",
       "      <td>Enthused &amp; Confident</td>\n",
       "    </tr>\n",
       "  </tbody>\n",
       "</table>\n",
       "</div>"
      ],
      "text/plain": [
       "     Purpose                Start                 Stop TripID UserId      age  \\\n",
       "513  Commute  2014-09-05T08:33:16  2014-09-05T08:36:32   9457    128  45 - 54   \n",
       "514  Commute  2014-09-05T18:42:52  2014-09-05T18:46:34   9475    128  45 - 54   \n",
       "515  Commute  2014-09-12T17:30:17  2014-09-12T17:34:08   9615    128  45 - 54   \n",
       "\n",
       "                 cycling_fr ethnicity gender  \\\n",
       "513  Less than once a month     White   Male   \n",
       "514  Less than once a month     White   Male   \n",
       "515  Less than once a month     White   Male   \n",
       "\n",
       "                                              geometry      income  \\\n",
       "513  LINESTRING (-75.38672539985726 39.921296000410...  > $100,000   \n",
       "514  LINESTRING (-75.383042300162 39.91876399965889...  > $100,000   \n",
       "515  LINESTRING (-75.383042300162 39.91876399965889...  > $100,000   \n",
       "\n",
       "          rider_hist            rider_type  \n",
       "513  Since childhood  Enthused & Confident  \n",
       "514  Since childhood  Enthused & Confident  \n",
       "515  Since childhood  Enthused & Confident  "
      ]
     },
     "execution_count": 161,
     "metadata": {},
     "output_type": "execute_result"
    }
   ],
   "source": [
    "purp[purp.geom_equals(purp.geometry[515])]"
   ]
  },
  {
   "cell_type": "code",
   "execution_count": 171,
   "metadata": {
    "collapsed": false
   },
   "outputs": [],
   "source": [
    "temp = purp.geometry[0:20]"
   ]
  },
  {
   "cell_type": "code",
   "execution_count": 166,
   "metadata": {
    "collapsed": false
   },
   "outputs": [
    {
     "data": {
      "text/plain": [
       "0    True\n",
       "1    True\n",
       "dtype: bool"
      ]
     },
     "execution_count": 166,
     "metadata": {},
     "output_type": "execute_result"
    }
   ],
   "source": [
    "temp.reset_index(inplace=True,drop=True)\n",
    "temp.geom_equals(temp.geometry[0])"
   ]
  },
  {
   "cell_type": "code",
   "execution_count": 191,
   "metadata": {
    "collapsed": false
   },
   "outputs": [
    {
     "data": {
      "text/html": [
       "<div>\n",
       "<table border=\"1\" class=\"dataframe\">\n",
       "  <thead>\n",
       "    <tr style=\"text-align: right;\">\n",
       "      <th></th>\n",
       "      <th>0</th>\n",
       "      <th>1</th>\n",
       "      <th>2</th>\n",
       "      <th>3</th>\n",
       "      <th>4</th>\n",
       "    </tr>\n",
       "  </thead>\n",
       "  <tbody>\n",
       "    <tr>\n",
       "      <th>Purpose</th>\n",
       "      <td>Commute</td>\n",
       "      <td>Commute</td>\n",
       "      <td>Commute</td>\n",
       "      <td>Commute</td>\n",
       "      <td>Commute</td>\n",
       "    </tr>\n",
       "    <tr>\n",
       "      <th>Start</th>\n",
       "      <td>2015-03-08T10:14:00</td>\n",
       "      <td>2015-04-15T17:53:00</td>\n",
       "      <td>2014-05-12T11:43:37</td>\n",
       "      <td>2015-05-26T09:01:00</td>\n",
       "      <td>2015-06-26T08:53:00</td>\n",
       "    </tr>\n",
       "    <tr>\n",
       "      <th>Stop</th>\n",
       "      <td>2015-03-08T10:32:00</td>\n",
       "      <td>2015-04-15T18:10:00</td>\n",
       "      <td>2014-05-12T11:59:05</td>\n",
       "      <td>2015-05-26T09:13:00</td>\n",
       "      <td>2015-06-26T09:02:00</td>\n",
       "    </tr>\n",
       "    <tr>\n",
       "      <th>TripID</th>\n",
       "      <td>12572</td>\n",
       "      <td>13114</td>\n",
       "      <td>1336</td>\n",
       "      <td>14248</td>\n",
       "      <td>15017</td>\n",
       "    </tr>\n",
       "    <tr>\n",
       "      <th>UserId</th>\n",
       "      <td>4</td>\n",
       "      <td>4</td>\n",
       "      <td>4</td>\n",
       "      <td>4</td>\n",
       "      <td>4</td>\n",
       "    </tr>\n",
       "    <tr>\n",
       "      <th>age</th>\n",
       "      <td>no data</td>\n",
       "      <td>no data</td>\n",
       "      <td>no data</td>\n",
       "      <td>no data</td>\n",
       "      <td>no data</td>\n",
       "    </tr>\n",
       "    <tr>\n",
       "      <th>cycling_fr</th>\n",
       "      <td>no data</td>\n",
       "      <td>no data</td>\n",
       "      <td>no data</td>\n",
       "      <td>no data</td>\n",
       "      <td>no data</td>\n",
       "    </tr>\n",
       "    <tr>\n",
       "      <th>ethnicity</th>\n",
       "      <td>no data</td>\n",
       "      <td>no data</td>\n",
       "      <td>no data</td>\n",
       "      <td>no data</td>\n",
       "      <td>no data</td>\n",
       "    </tr>\n",
       "    <tr>\n",
       "      <th>gender</th>\n",
       "      <td>no data</td>\n",
       "      <td>no data</td>\n",
       "      <td>no data</td>\n",
       "      <td>no data</td>\n",
       "      <td>no data</td>\n",
       "    </tr>\n",
       "    <tr>\n",
       "      <th>geometry</th>\n",
       "      <td>LINESTRING (-75.1625742281181 39.9395684976880...</td>\n",
       "      <td>LINESTRING (-75.16225129596052 39.953245133755...</td>\n",
       "      <td>LINESTRING (-75.13337403538338 39.974091209241...</td>\n",
       "      <td>LINESTRING (-75.16732257927356 39.925330932876...</td>\n",
       "      <td>LINESTRING (-75.179402654309 39.97140465550052...</td>\n",
       "    </tr>\n",
       "    <tr>\n",
       "      <th>income</th>\n",
       "      <td>no data</td>\n",
       "      <td>no data</td>\n",
       "      <td>no data</td>\n",
       "      <td>no data</td>\n",
       "      <td>no data</td>\n",
       "    </tr>\n",
       "    <tr>\n",
       "      <th>rider_hist</th>\n",
       "      <td>no data</td>\n",
       "      <td>no data</td>\n",
       "      <td>no data</td>\n",
       "      <td>no data</td>\n",
       "      <td>no data</td>\n",
       "    </tr>\n",
       "    <tr>\n",
       "      <th>rider_type</th>\n",
       "      <td>no data</td>\n",
       "      <td>no data</td>\n",
       "      <td>no data</td>\n",
       "      <td>no data</td>\n",
       "      <td>no data</td>\n",
       "    </tr>\n",
       "  </tbody>\n",
       "</table>\n",
       "</div>"
      ],
      "text/plain": [
       "                                                            0  \\\n",
       "Purpose                                               Commute   \n",
       "Start                                     2015-03-08T10:14:00   \n",
       "Stop                                      2015-03-08T10:32:00   \n",
       "TripID                                                  12572   \n",
       "UserId                                                      4   \n",
       "age                                                   no data   \n",
       "cycling_fr                                            no data   \n",
       "ethnicity                                             no data   \n",
       "gender                                                no data   \n",
       "geometry    LINESTRING (-75.1625742281181 39.9395684976880...   \n",
       "income                                                no data   \n",
       "rider_hist                                            no data   \n",
       "rider_type                                            no data   \n",
       "\n",
       "                                                            1  \\\n",
       "Purpose                                               Commute   \n",
       "Start                                     2015-04-15T17:53:00   \n",
       "Stop                                      2015-04-15T18:10:00   \n",
       "TripID                                                  13114   \n",
       "UserId                                                      4   \n",
       "age                                                   no data   \n",
       "cycling_fr                                            no data   \n",
       "ethnicity                                             no data   \n",
       "gender                                                no data   \n",
       "geometry    LINESTRING (-75.16225129596052 39.953245133755...   \n",
       "income                                                no data   \n",
       "rider_hist                                            no data   \n",
       "rider_type                                            no data   \n",
       "\n",
       "                                                            2  \\\n",
       "Purpose                                               Commute   \n",
       "Start                                     2014-05-12T11:43:37   \n",
       "Stop                                      2014-05-12T11:59:05   \n",
       "TripID                                                   1336   \n",
       "UserId                                                      4   \n",
       "age                                                   no data   \n",
       "cycling_fr                                            no data   \n",
       "ethnicity                                             no data   \n",
       "gender                                                no data   \n",
       "geometry    LINESTRING (-75.13337403538338 39.974091209241...   \n",
       "income                                                no data   \n",
       "rider_hist                                            no data   \n",
       "rider_type                                            no data   \n",
       "\n",
       "                                                            3  \\\n",
       "Purpose                                               Commute   \n",
       "Start                                     2015-05-26T09:01:00   \n",
       "Stop                                      2015-05-26T09:13:00   \n",
       "TripID                                                  14248   \n",
       "UserId                                                      4   \n",
       "age                                                   no data   \n",
       "cycling_fr                                            no data   \n",
       "ethnicity                                             no data   \n",
       "gender                                                no data   \n",
       "geometry    LINESTRING (-75.16732257927356 39.925330932876...   \n",
       "income                                                no data   \n",
       "rider_hist                                            no data   \n",
       "rider_type                                            no data   \n",
       "\n",
       "                                                            4  \n",
       "Purpose                                               Commute  \n",
       "Start                                     2015-06-26T08:53:00  \n",
       "Stop                                      2015-06-26T09:02:00  \n",
       "TripID                                                  15017  \n",
       "UserId                                                      4  \n",
       "age                                                   no data  \n",
       "cycling_fr                                            no data  \n",
       "ethnicity                                             no data  \n",
       "gender                                                no data  \n",
       "geometry    LINESTRING (-75.179402654309 39.97140465550052...  \n",
       "income                                                no data  \n",
       "rider_hist                                            no data  \n",
       "rider_type                                            no data  "
      ]
     },
     "execution_count": 191,
     "metadata": {},
     "output_type": "execute_result"
    }
   ],
   "source": [
    "purp.head().T"
   ]
  },
  {
   "cell_type": "code",
   "execution_count": 6,
   "metadata": {
    "collapsed": false
   },
   "outputs": [
    {
     "name": "stdout",
     "output_type": "stream",
     "text": [
      "Traceback (most recent call last):\n",
      "  File \"//anaconda/lib/python3.5/site-packages/IPython/core/interactiveshell.py\", line 2885, in run_code\n",
      "    exec(code_obj, self.user_global_ns, self.user_ns)\n",
      "  File \"<ipython-input-6-14546bfd8007>\", line 1, in <module>\n",
      "    start = [datetime.strptime(temp, '%Y-%m-%dT%H:%M:%S')for temp in purp.Start]\n",
      "NameError: name 'purp' is not defined\n",
      "\n",
      "During handling of the above exception, another exception occurred:\n",
      "\n",
      "Traceback (most recent call last):\n",
      "  File \"//anaconda/lib/python3.5/site-packages/IPython/core/interactiveshell.py\", line 1827, in showtraceback\n",
      "    stb = value._render_traceback_()\n",
      "AttributeError: 'NameError' object has no attribute '_render_traceback_'\n",
      "\n",
      "During handling of the above exception, another exception occurred:\n",
      "\n",
      "Traceback (most recent call last):\n",
      "  File \"//anaconda/lib/python3.5/site-packages/IPython/core/ultratb.py\", line 1120, in get_records\n",
      "    return _fixed_getinnerframes(etb, number_of_lines_of_context, tb_offset)\n",
      "  File \"//anaconda/lib/python3.5/site-packages/IPython/core/ultratb.py\", line 301, in wrapped\n",
      "    return f(*args, **kwargs)\n",
      "  File \"//anaconda/lib/python3.5/site-packages/IPython/core/ultratb.py\", line 346, in _fixed_getinnerframes\n",
      "    records = fix_frame_records_filenames(inspect.getinnerframes(etb, context))\n",
      "  File \"//anaconda/lib/python3.5/inspect.py\", line 1453, in getinnerframes\n",
      "    frameinfo = (tb.tb_frame,) + getframeinfo(tb, context)\n",
      "  File \"//anaconda/lib/python3.5/inspect.py\", line 1410, in getframeinfo\n",
      "    filename = getsourcefile(frame) or getfile(frame)\n",
      "  File \"//anaconda/lib/python3.5/inspect.py\", line 672, in getsourcefile\n",
      "    if getattr(getmodule(object, filename), '__loader__', None) is not None:\n",
      "  File \"//anaconda/lib/python3.5/inspect.py\", line 701, in getmodule\n",
      "    file = getabsfile(object, _filename)\n",
      "  File \"//anaconda/lib/python3.5/inspect.py\", line 685, in getabsfile\n",
      "    return os.path.normcase(os.path.abspath(_filename))\n",
      "  File \"//anaconda/lib/python3.5/posixpath.py\", line 361, in abspath\n",
      "    cwd = os.getcwd()\n",
      "FileNotFoundError: [Errno 2] No such file or directory\n"
     ]
    },
    {
     "name": "stderr",
     "output_type": "stream",
     "text": [
      "ERROR: Internal Python error in the inspect module.\n",
      "Below is the traceback from this internal error.\n",
      "\n",
      "\n",
      "Unfortunately, your original traceback can not be constructed.\n",
      "\n"
     ]
    },
    {
     "ename": "NameError",
     "evalue": "name 'purp' is not defined",
     "output_type": "error",
     "traceback": [
      "\u001b[0;31m---------------------------------------------------------------------------\u001b[0m"
     ]
    }
   ],
   "source": [
    "start = [datetime.strptime(temp, '%Y-%m-%dT%H:%M:%S')for temp in purp.Start]\n",
    "start"
   ]
  },
  {
   "cell_type": "code",
   "execution_count": 7,
   "metadata": {
    "collapsed": false
   },
   "outputs": [
    {
     "name": "stdout",
     "output_type": "stream",
     "text": [
      "Traceback (most recent call last):\n",
      "  File \"//anaconda/lib/python3.5/site-packages/IPython/core/interactiveshell.py\", line 2885, in run_code\n",
      "    exec(code_obj, self.user_global_ns, self.user_ns)\n",
      "  File \"<ipython-input-7-0df16abef72e>\", line 12, in <module>\n",
      "    month = [temp.month for temp in start]\n",
      "NameError: name 'start' is not defined\n",
      "\n",
      "During handling of the above exception, another exception occurred:\n",
      "\n",
      "Traceback (most recent call last):\n",
      "  File \"//anaconda/lib/python3.5/site-packages/IPython/core/interactiveshell.py\", line 1827, in showtraceback\n",
      "    stb = value._render_traceback_()\n",
      "AttributeError: 'NameError' object has no attribute '_render_traceback_'\n",
      "\n",
      "During handling of the above exception, another exception occurred:\n",
      "\n",
      "Traceback (most recent call last):\n",
      "  File \"//anaconda/lib/python3.5/site-packages/IPython/core/ultratb.py\", line 1120, in get_records\n",
      "    return _fixed_getinnerframes(etb, number_of_lines_of_context, tb_offset)\n",
      "  File \"//anaconda/lib/python3.5/site-packages/IPython/core/ultratb.py\", line 301, in wrapped\n",
      "    return f(*args, **kwargs)\n",
      "  File \"//anaconda/lib/python3.5/site-packages/IPython/core/ultratb.py\", line 346, in _fixed_getinnerframes\n",
      "    records = fix_frame_records_filenames(inspect.getinnerframes(etb, context))\n",
      "  File \"//anaconda/lib/python3.5/inspect.py\", line 1453, in getinnerframes\n",
      "    frameinfo = (tb.tb_frame,) + getframeinfo(tb, context)\n",
      "  File \"//anaconda/lib/python3.5/inspect.py\", line 1410, in getframeinfo\n",
      "    filename = getsourcefile(frame) or getfile(frame)\n",
      "  File \"//anaconda/lib/python3.5/inspect.py\", line 672, in getsourcefile\n",
      "    if getattr(getmodule(object, filename), '__loader__', None) is not None:\n",
      "  File \"//anaconda/lib/python3.5/inspect.py\", line 701, in getmodule\n",
      "    file = getabsfile(object, _filename)\n",
      "  File \"//anaconda/lib/python3.5/inspect.py\", line 685, in getabsfile\n",
      "    return os.path.normcase(os.path.abspath(_filename))\n",
      "  File \"//anaconda/lib/python3.5/posixpath.py\", line 361, in abspath\n",
      "    cwd = os.getcwd()\n",
      "FileNotFoundError: [Errno 2] No such file or directory\n"
     ]
    },
    {
     "name": "stderr",
     "output_type": "stream",
     "text": [
      "ERROR: Internal Python error in the inspect module.\n",
      "Below is the traceback from this internal error.\n",
      "\n",
      "\n",
      "Unfortunately, your original traceback can not be constructed.\n",
      "\n"
     ]
    },
    {
     "ename": "NameError",
     "evalue": "name 'start' is not defined",
     "output_type": "error",
     "traceback": [
      "\u001b[0;31m---------------------------------------------------------------------------\u001b[0m"
     ]
    }
   ],
   "source": [
    "# plt.set_xticklabels(list(range(1,2)),names)\n",
    "def autolabel(rects):\n",
    "    \"\"\"\n",
    "    Attach a text label above each bar displaying its height\n",
    "    \"\"\"\n",
    "    for rect in rects:\n",
    "        height = rect.get_height()\n",
    "        plt.text(rect.get_x() + rect.get_width()/2., height,\n",
    "                '%d' % int(height),\n",
    "                ha='center', va='bottom')\n",
    "        \n",
    "month = [temp.month for temp in start]\n",
    "names = list(calendar.month_abbr)[1:]\n",
    "data = Counter(month)\n",
    "data = list(data.items())\n",
    "temp = list(zip(*data))\n",
    "mon = temp[0]\n",
    "count = temp[1]\n",
    "index = np.arange(12)\n",
    "bar_width = 0.9\n",
    "rect = plt.bar(index,count,bar_width)\n",
    "const = 200\n",
    "plt.title('Trips/Month',fontsize=16)\n",
    "plt.ylabel('Number of Trips',fontsize=12)\n",
    "plt.xlabel('Month',fontsize=12)\n",
    "plt.yticks(np.arange(0,max(count)+2*const,const))\n",
    "plt.xticks(index + bar_width / 2, names)\n",
    "plt.xlim([-1,13])\n",
    "autolabel(rect)\n",
    "# plt.show()\n",
    "savefig('Total_by_Month.jpg')"
   ]
  },
  {
   "cell_type": "code",
   "execution_count": 491,
   "metadata": {
    "collapsed": false
   },
   "outputs": [
    {
     "data": {
      "image/png": "[encoded data removed]",
      "text/plain": [
       "<matplotlib.figure.Figure at 0x12dd21c50>"
      ]
     },
     "metadata": {},
     "output_type": "display_data"
    }
   ],
   "source": [
    "day = [temp.strftime(\"%a\") for temp in start]\n",
    "data = Counter(day)\n",
    "names = list(calendar.day_abbr)\n",
    "count = [data[t] for t in names]\n",
    "\n",
    "index = np.arange(7)\n",
    "bar_width = 0.9\n",
    "rect = plt.bar(index,count,bar_width)\n",
    "const = 200\n",
    "plt.title('Bikers/Day',fontsize=16)\n",
    "plt.ylabel('Number of Bikers',fontsize=12)\n",
    "plt.xlabel('Day',fontsize=12)\n",
    "plt.yticks(np.arange(0,max(count)+2*const,const))\n",
    "plt.xticks(index + bar_width / 2, names)\n",
    "autolabel(rect)\n",
    "plt.xlim([-1,8])\n",
    "# plt.show()\n",
    "savefig('Total_by_Day.jpg')"
   ]
  },
  {
   "cell_type": "code",
   "execution_count": 487,
   "metadata": {
    "collapsed": false
   },
   "outputs": [
    {
     "data": {
      "image/png": "[encoded data removed]",
      "text/plain": [
       "<matplotlib.figure.Figure at 0x11f70ad30>"
      ]
     },
     "metadata": {},
     "output_type": "display_data"
    }
   ],
   "source": [
    "hour = [temp.hour for temp in start]\n",
    "data = Counter(hour)\n",
    "data = list(data.items())\n",
    "temp = list(zip(*data))\n",
    "mon = temp[0]\n",
    "count = temp[1]\n",
    "names = list(range(24))\n",
    "index = np.arange(0,48,2)\n",
    "bar_width = 1\n",
    "fig,ax = plt.subplots()\n",
    "rect = ax.bar(index,count,bar_width)\n",
    "const = 200\n",
    "\n",
    "plt.title('Bikers/Hours',fontsize=16)\n",
    "plt.ylabel('Number of Bikers',fontsize=12)\n",
    "plt.xlabel('Hours',fontsize=12)\n",
    "plt.yticks(np.arange(0,max(count)+2*const,const))\n",
    "ax.set_xticks(index+bar_width)\n",
    "ax.set_xlim(-2, 50)\n",
    "plt.xticks(index + bar_width / 2, names)\n",
    "autolabel(rect)\n",
    "# plt.show()\n",
    "savefig('Total_by_hours.jpg')"
   ]
  },
  {
   "cell_type": "code",
   "execution_count": 496,
   "metadata": {
    "collapsed": false
   },
   "outputs": [
    {
     "data": {
      "text/html": [
       "<div>\n",
       "<table border=\"1\" class=\"dataframe\">\n",
       "  <thead>\n",
       "    <tr style=\"text-align: right;\">\n",
       "      <th></th>\n",
       "      <th>0</th>\n",
       "      <th>1</th>\n",
       "      <th>2</th>\n",
       "      <th>3</th>\n",
       "      <th>4</th>\n",
       "    </tr>\n",
       "  </thead>\n",
       "  <tbody>\n",
       "    <tr>\n",
       "      <th>Purpose</th>\n",
       "      <td>Commute</td>\n",
       "      <td>Commute</td>\n",
       "      <td>Commute</td>\n",
       "      <td>Commute</td>\n",
       "      <td>Commute</td>\n",
       "    </tr>\n",
       "    <tr>\n",
       "      <th>Start</th>\n",
       "      <td>2015-03-08T10:14:00</td>\n",
       "      <td>2015-04-15T17:53:00</td>\n",
       "      <td>2014-05-12T11:43:37</td>\n",
       "      <td>2015-05-26T09:01:00</td>\n",
       "      <td>2015-06-26T08:53:00</td>\n",
       "    </tr>\n",
       "    <tr>\n",
       "      <th>Stop</th>\n",
       "      <td>2015-03-08T10:32:00</td>\n",
       "      <td>2015-04-15T18:10:00</td>\n",
       "      <td>2014-05-12T11:59:05</td>\n",
       "      <td>2015-05-26T09:13:00</td>\n",
       "      <td>2015-06-26T09:02:00</td>\n",
       "    </tr>\n",
       "    <tr>\n",
       "      <th>TripID</th>\n",
       "      <td>12572</td>\n",
       "      <td>13114</td>\n",
       "      <td>1336</td>\n",
       "      <td>14248</td>\n",
       "      <td>15017</td>\n",
       "    </tr>\n",
       "    <tr>\n",
       "      <th>UserId</th>\n",
       "      <td>4</td>\n",
       "      <td>4</td>\n",
       "      <td>4</td>\n",
       "      <td>4</td>\n",
       "      <td>4</td>\n",
       "    </tr>\n",
       "    <tr>\n",
       "      <th>age</th>\n",
       "      <td>no data</td>\n",
       "      <td>no data</td>\n",
       "      <td>no data</td>\n",
       "      <td>no data</td>\n",
       "      <td>no data</td>\n",
       "    </tr>\n",
       "    <tr>\n",
       "      <th>cycling_fr</th>\n",
       "      <td>no data</td>\n",
       "      <td>no data</td>\n",
       "      <td>no data</td>\n",
       "      <td>no data</td>\n",
       "      <td>no data</td>\n",
       "    </tr>\n",
       "    <tr>\n",
       "      <th>ethnicity</th>\n",
       "      <td>no data</td>\n",
       "      <td>no data</td>\n",
       "      <td>no data</td>\n",
       "      <td>no data</td>\n",
       "      <td>no data</td>\n",
       "    </tr>\n",
       "    <tr>\n",
       "      <th>gender</th>\n",
       "      <td>no data</td>\n",
       "      <td>no data</td>\n",
       "      <td>no data</td>\n",
       "      <td>no data</td>\n",
       "      <td>no data</td>\n",
       "    </tr>\n",
       "    <tr>\n",
       "      <th>geometry</th>\n",
       "      <td>LINESTRING (-75.1625742281181 39.9395684976880...</td>\n",
       "      <td>LINESTRING (-75.16225129596052 39.953245133755...</td>\n",
       "      <td>LINESTRING (-75.13337403538338 39.974091209241...</td>\n",
       "      <td>LINESTRING (-75.16732257927356 39.925330932876...</td>\n",
       "      <td>LINESTRING (-75.179402654309 39.97140465550052...</td>\n",
       "    </tr>\n",
       "    <tr>\n",
       "      <th>income</th>\n",
       "      <td>no data</td>\n",
       "      <td>no data</td>\n",
       "      <td>no data</td>\n",
       "      <td>no data</td>\n",
       "      <td>no data</td>\n",
       "    </tr>\n",
       "    <tr>\n",
       "      <th>rider_hist</th>\n",
       "      <td>no data</td>\n",
       "      <td>no data</td>\n",
       "      <td>no data</td>\n",
       "      <td>no data</td>\n",
       "      <td>no data</td>\n",
       "    </tr>\n",
       "    <tr>\n",
       "      <th>rider_type</th>\n",
       "      <td>no data</td>\n",
       "      <td>no data</td>\n",
       "      <td>no data</td>\n",
       "      <td>no data</td>\n",
       "      <td>no data</td>\n",
       "    </tr>\n",
       "  </tbody>\n",
       "</table>\n",
       "</div>"
      ],
      "text/plain": [
       "                                                            0  \\\n",
       "Purpose                                               Commute   \n",
       "Start                                     2015-03-08T10:14:00   \n",
       "Stop                                      2015-03-08T10:32:00   \n",
       "TripID                                                  12572   \n",
       "UserId                                                      4   \n",
       "age                                                   no data   \n",
       "cycling_fr                                            no data   \n",
       "ethnicity                                             no data   \n",
       "gender                                                no data   \n",
       "geometry    LINESTRING (-75.1625742281181 39.9395684976880...   \n",
       "income                                                no data   \n",
       "rider_hist                                            no data   \n",
       "rider_type                                            no data   \n",
       "\n",
       "                                                            1  \\\n",
       "Purpose                                               Commute   \n",
       "Start                                     2015-04-15T17:53:00   \n",
       "Stop                                      2015-04-15T18:10:00   \n",
       "TripID                                                  13114   \n",
       "UserId                                                      4   \n",
       "age                                                   no data   \n",
       "cycling_fr                                            no data   \n",
       "ethnicity                                             no data   \n",
       "gender                                                no data   \n",
       "geometry    LINESTRING (-75.16225129596052 39.953245133755...   \n",
       "income                                                no data   \n",
       "rider_hist                                            no data   \n",
       "rider_type                                            no data   \n",
       "\n",
       "                                                            2  \\\n",
       "Purpose                                               Commute   \n",
       "Start                                     2014-05-12T11:43:37   \n",
       "Stop                                      2014-05-12T11:59:05   \n",
       "TripID                                                   1336   \n",
       "UserId                                                      4   \n",
       "age                                                   no data   \n",
       "cycling_fr                                            no data   \n",
       "ethnicity                                             no data   \n",
       "gender                                                no data   \n",
       "geometry    LINESTRING (-75.13337403538338 39.974091209241...   \n",
       "income                                                no data   \n",
       "rider_hist                                            no data   \n",
       "rider_type                                            no data   \n",
       "\n",
       "                                                            3  \\\n",
       "Purpose                                               Commute   \n",
       "Start                                     2015-05-26T09:01:00   \n",
       "Stop                                      2015-05-26T09:13:00   \n",
       "TripID                                                  14248   \n",
       "UserId                                                      4   \n",
       "age                                                   no data   \n",
       "cycling_fr                                            no data   \n",
       "ethnicity                                             no data   \n",
       "gender                                                no data   \n",
       "geometry    LINESTRING (-75.16732257927356 39.925330932876...   \n",
       "income                                                no data   \n",
       "rider_hist                                            no data   \n",
       "rider_type                                            no data   \n",
       "\n",
       "                                                            4  \n",
       "Purpose                                               Commute  \n",
       "Start                                     2015-06-26T08:53:00  \n",
       "Stop                                      2015-06-26T09:02:00  \n",
       "TripID                                                  15017  \n",
       "UserId                                                      4  \n",
       "age                                                   no data  \n",
       "cycling_fr                                            no data  \n",
       "ethnicity                                             no data  \n",
       "gender                                                no data  \n",
       "geometry    LINESTRING (-75.179402654309 39.97140465550052...  \n",
       "income                                                no data  \n",
       "rider_hist                                            no data  \n",
       "rider_type                                            no data  "
      ]
     },
     "execution_count": 496,
     "metadata": {},
     "output_type": "execute_result"
    }
   ],
   "source": [
    "purp.head().T"
   ]
  },
  {
   "cell_type": "code",
   "execution_count": 498,
   "metadata": {
    "collapsed": false
   },
   "outputs": [
    {
     "data": {
      "text/plain": [
       "Purpose                                                 Commute\n",
       "Start                                       2014-08-07T18:16:06\n",
       "Stop                                        2014-08-07T18:27:05\n",
       "TripID                                                     8148\n",
       "UserId                                                      273\n",
       "age                                                     no data\n",
       "cycling_fr                                                Daily\n",
       "ethnicity                                               no data\n",
       "gender                                                  no data\n",
       "geometry      LINESTRING (-75.16409941265772 39.950094512751...\n",
       "income                                                  no data\n",
       "rider_hist                                        Several years\n",
       "rider_type                                 Enthused & Confident\n",
       "Name: 40, dtype: object"
      ]
     },
     "execution_count": 498,
     "metadata": {},
     "output_type": "execute_result"
    }
   ],
   "source": [
    "purp.iloc[40]"
   ]
  },
  {
   "cell_type": "code",
   "execution_count": 502,
   "metadata": {
    "collapsed": false
   },
   "outputs": [
    {
     "data": {
      "text/plain": [
       "3685"
      ]
     },
     "execution_count": 502,
     "metadata": {},
     "output_type": "execute_result"
    }
   ],
   "source": [
    "len(purp[purp.ethnicity=='no data'])"
   ]
  },
  {
   "cell_type": "code",
   "execution_count": 555,
   "metadata": {
    "collapsed": false
   },
   "outputs": [
    {
     "data": {
      "text/plain": [
       "age      gender   ethnicity         income           \n",
       "18 - 24  Female   African American  $20,000 - $39,999       2\n",
       "                                    < $20,000               7\n",
       "                  Asian             $20,000 - $39,999       1\n",
       "                                    no data                 2\n",
       "                  White             $20,000 - $39,999      19\n",
       "                                    $40,000 - $59,999      14\n",
       "                                    < $20,000               8\n",
       "         Male     Asian             $20,000 - $39,999       7\n",
       "                  Multi-racial      < $20,000               1\n",
       "                  Other             $40,000 - $59,999       5\n",
       "                                    < $20,000              12\n",
       "                  White             $20,000 - $39,999      10\n",
       "                                    $40,000 - $59,999      28\n",
       "                                    $60,000 - $74,999       1\n",
       "                                    < $20,000              14\n",
       "                                    no data                11\n",
       "25 - 34  Female   African American  no data                 2\n",
       "                  Asian             $20,000 - $39,999       1\n",
       "                                    $40,000 - $59,999      21\n",
       "                                    no data                 2\n",
       "                  Multi-racial      no data                 3\n",
       "                  White             $20,000 - $39,999      53\n",
       "                                    $40,000 - $59,999     117\n",
       "                                    $60,000 - $74,999      40\n",
       "                                    $75,000 - $99,999      37\n",
       "                                    < $20,000               6\n",
       "                                    > $100,000             84\n",
       "                                    no data                 7\n",
       "                  no data           no data               135\n",
       "         Male     African American  $60,000 - $74,999       3\n",
       "                                                         ... \n",
       "35 - 44  no data  no data           no data                 6\n",
       "45 - 54  Female   Other             > $100,000              8\n",
       "                  White             > $100,000              1\n",
       "                                    no data                13\n",
       "                  no data           no data                 5\n",
       "         Male     African American  $20,000 - $39,999       3\n",
       "                  White             $60,000 - $74,999      21\n",
       "                                    $75,000 - $99,999       2\n",
       "                                    > $100,000             91\n",
       "                                    no data                85\n",
       "                  no data           > $100,000              1\n",
       "                                    no data                 1\n",
       "55 - 65  Female   White             $40,000 - $59,999       8\n",
       "                                    $60,000 - $74,999       2\n",
       "         Male     African American  $75,000 - $99,999       2\n",
       "                                    > $100,000              2\n",
       "                  Other             no data                 3\n",
       "                  White             $40,000 - $59,999       8\n",
       "                                    $60,000 - $74,999       8\n",
       "                                    $75,000 - $99,999       5\n",
       "                                    > $100,000              9\n",
       "                                    no data                 1\n",
       "> 65     Female   White             $40,000 - $59,999       1\n",
       "                                    $75,000 - $99,999       9\n",
       "         Male     White             $20,000 - $39,999      17\n",
       "                                    $75,000 - $99,999     119\n",
       "no data  Female   no data           no data                 2\n",
       "         Male     no data           no data                 2\n",
       "         no data  White             no data                42\n",
       "                  no data           no data              3473\n",
       "dtype: int64"
      ]
     },
     "execution_count": 555,
     "metadata": {},
     "output_type": "execute_result"
    }
   ],
   "source": [
    "counts = purp.groupby(['age','gender','ethnicity','income']).size()\n",
    "counts"
   ]
  },
  {
   "cell_type": "code",
   "execution_count": 556,
   "metadata": {
    "collapsed": false
   },
   "outputs": [],
   "source": [
    "temp = list(counts.index)"
   ]
  },
  {
   "cell_type": "code",
   "execution_count": 557,
   "metadata": {
    "collapsed": false
   },
   "outputs": [
    {
     "data": {
      "text/plain": [
       "[('18 - 24', 'Female', 'African American', '$20,000 - $39,999'),\n",
       " ('18 - 24', 'Female', 'African American', '< $20,000'),\n",
       " ('18 - 24', 'Female', 'Asian', '$20,000 - $39,999'),\n",
       " ('18 - 24', 'Female', 'White', '$20,000 - $39,999'),\n",
       " ('18 - 24', 'Female', 'White', '$40,000 - $59,999'),\n",
       " ('18 - 24', 'Female', 'White', '< $20,000'),\n",
       " ('18 - 24', 'Male', 'Asian', '$20,000 - $39,999'),\n",
       " ('18 - 24', 'Male', 'Multi-racial', '< $20,000'),\n",
       " ('18 - 24', 'Male', 'Other', '$40,000 - $59,999'),\n",
       " ('18 - 24', 'Male', 'Other', '< $20,000'),\n",
       " ('18 - 24', 'Male', 'White', '$20,000 - $39,999'),\n",
       " ('18 - 24', 'Male', 'White', '$40,000 - $59,999'),\n",
       " ('18 - 24', 'Male', 'White', '$60,000 - $74,999'),\n",
       " ('18 - 24', 'Male', 'White', '< $20,000'),\n",
       " ('25 - 34', 'Female', 'Asian', '$20,000 - $39,999'),\n",
       " ('25 - 34', 'Female', 'Asian', '$40,000 - $59,999'),\n",
       " ('25 - 34', 'Female', 'White', '$20,000 - $39,999'),\n",
       " ('25 - 34', 'Female', 'White', '$40,000 - $59,999'),\n",
       " ('25 - 34', 'Female', 'White', '$60,000 - $74,999'),\n",
       " ('25 - 34', 'Female', 'White', '$75,000 - $99,999'),\n",
       " ('25 - 34', 'Female', 'White', '< $20,000'),\n",
       " ('25 - 34', 'Female', 'White', '> $100,000'),\n",
       " ('25 - 34', 'Male', 'African American', '$60,000 - $74,999'),\n",
       " ('25 - 34', 'Male', 'African American', '$75,000 - $99,999'),\n",
       " ('25 - 34', 'Male', 'African American', '> $100,000'),\n",
       " ('25 - 34', 'Male', 'Other', '$20,000 - $39,999'),\n",
       " ('25 - 34', 'Male', 'Other', '$75,000 - $99,999'),\n",
       " ('25 - 34', 'Male', 'White', '$20,000 - $39,999'),\n",
       " ('25 - 34', 'Male', 'White', '$40,000 - $59,999'),\n",
       " ('25 - 34', 'Male', 'White', '$60,000 - $74,999'),\n",
       " ('25 - 34', 'Male', 'White', '$75,000 - $99,999'),\n",
       " ('25 - 34', 'Male', 'White', '< $20,000'),\n",
       " ('25 - 34', 'Male', 'White', '> $100,000'),\n",
       " ('35 - 44', 'Female', 'Asian', '$40,000 - $59,999'),\n",
       " ('35 - 44', 'Female', 'White', '$40,000 - $59,999'),\n",
       " ('35 - 44', 'Female', 'White', '$60,000 - $74,999'),\n",
       " ('35 - 44', 'Female', 'White', '$75,000 - $99,999'),\n",
       " ('35 - 44', 'Female', 'White', '> $100,000'),\n",
       " ('35 - 44', 'Male', 'African American', '$40,000 - $59,999'),\n",
       " ('35 - 44', 'Male', 'Asian', '$20,000 - $39,999'),\n",
       " ('35 - 44', 'Male', 'Asian', '$75,000 - $99,999'),\n",
       " ('35 - 44', 'Male', 'Multi-racial', '$40,000 - $59,999'),\n",
       " ('35 - 44', 'Male', 'Other', '> $100,000'),\n",
       " ('35 - 44', 'Male', 'White', '$20,000 - $39,999'),\n",
       " ('35 - 44', 'Male', 'White', '$40,000 - $59,999'),\n",
       " ('35 - 44', 'Male', 'White', '$60,000 - $74,999'),\n",
       " ('35 - 44', 'Male', 'White', '$75,000 - $99,999'),\n",
       " ('35 - 44', 'Male', 'White', '< $20,000'),\n",
       " ('35 - 44', 'Male', 'White', '> $100,000'),\n",
       " ('45 - 54', 'Female', 'Other', '> $100,000'),\n",
       " ('45 - 54', 'Female', 'White', '> $100,000'),\n",
       " ('45 - 54', 'Male', 'African American', '$20,000 - $39,999'),\n",
       " ('45 - 54', 'Male', 'White', '$60,000 - $74,999'),\n",
       " ('45 - 54', 'Male', 'White', '$75,000 - $99,999'),\n",
       " ('45 - 54', 'Male', 'White', '> $100,000'),\n",
       " ('55 - 65', 'Female', 'White', '$40,000 - $59,999'),\n",
       " ('55 - 65', 'Female', 'White', '$60,000 - $74,999'),\n",
       " ('55 - 65', 'Male', 'African American', '$75,000 - $99,999'),\n",
       " ('55 - 65', 'Male', 'African American', '> $100,000'),\n",
       " ('55 - 65', 'Male', 'White', '$40,000 - $59,999'),\n",
       " ('55 - 65', 'Male', 'White', '$60,000 - $74,999'),\n",
       " ('55 - 65', 'Male', 'White', '$75,000 - $99,999'),\n",
       " ('55 - 65', 'Male', 'White', '> $100,000'),\n",
       " ('> 65', 'Female', 'White', '$40,000 - $59,999'),\n",
       " ('> 65', 'Female', 'White', '$75,000 - $99,999'),\n",
       " ('> 65', 'Male', 'White', '$20,000 - $39,999'),\n",
       " ('> 65', 'Male', 'White', '$75,000 - $99,999')]"
      ]
     },
     "execution_count": 557,
     "metadata": {},
     "output_type": "execute_result"
    }
   ],
   "source": [
    "def f(x):\n",
    "    if not re.findall('no',x):\n",
    "        return True\n",
    "    return False\n",
    "t = [t for t in temp if False not in list(map(f,t))]\n",
    "t"
   ]
  },
  {
   "cell_type": "code",
   "execution_count": 559,
   "metadata": {
    "collapsed": false
   },
   "outputs": [
    {
     "data": {
      "text/plain": [
       "[2,\n",
       " 7,\n",
       " 1,\n",
       " 19,\n",
       " 14,\n",
       " 8,\n",
       " 7,\n",
       " 1,\n",
       " 5,\n",
       " 12,\n",
       " 10,\n",
       " 28,\n",
       " 1,\n",
       " 14,\n",
       " 1,\n",
       " 21,\n",
       " 53,\n",
       " 117,\n",
       " 40,\n",
       " 37,\n",
       " 6,\n",
       " 84,\n",
       " 3,\n",
       " 1,\n",
       " 34,\n",
       " 1,\n",
       " 1,\n",
       " 34,\n",
       " 320,\n",
       " 129,\n",
       " 70,\n",
       " 39,\n",
       " 212,\n",
       " 6,\n",
       " 3,\n",
       " 3,\n",
       " 26,\n",
       " 304,\n",
       " 2,\n",
       " 3,\n",
       " 51,\n",
       " 1,\n",
       " 38,\n",
       " 37,\n",
       " 123,\n",
       " 64,\n",
       " 239,\n",
       " 89,\n",
       " 77,\n",
       " 8,\n",
       " 1,\n",
       " 3,\n",
       " 21,\n",
       " 2,\n",
       " 91,\n",
       " 8,\n",
       " 2,\n",
       " 2,\n",
       " 2,\n",
       " 8,\n",
       " 8,\n",
       " 5,\n",
       " 9,\n",
       " 1,\n",
       " 9,\n",
       " 17,\n",
       " 119]"
      ]
     },
     "execution_count": 559,
     "metadata": {},
     "output_type": "execute_result"
    }
   ],
   "source": [
    "t2 = [counts[temp] for temp in t]\n",
    "t2"
   ]
  },
  {
   "cell_type": "code",
   "execution_count": 554,
   "metadata": {
    "collapsed": false
   },
   "outputs": [
    {
     "data": {
      "text/html": [
       "<div>\n",
       "<table border=\"1\" class=\"dataframe\">\n",
       "  <thead>\n",
       "    <tr style=\"text-align: right;\">\n",
       "      <th></th>\n",
       "      <th>0</th>\n",
       "      <th>1</th>\n",
       "      <th>2</th>\n",
       "      <th>3</th>\n",
       "      <th>4</th>\n",
       "    </tr>\n",
       "  </thead>\n",
       "  <tbody>\n",
       "    <tr>\n",
       "      <th>Purpose</th>\n",
       "      <td>Commute</td>\n",
       "      <td>Commute</td>\n",
       "      <td>Commute</td>\n",
       "      <td>Commute</td>\n",
       "      <td>Commute</td>\n",
       "    </tr>\n",
       "    <tr>\n",
       "      <th>Start</th>\n",
       "      <td>2015-03-08T10:14:00</td>\n",
       "      <td>2015-04-15T17:53:00</td>\n",
       "      <td>2014-05-12T11:43:37</td>\n",
       "      <td>2015-05-26T09:01:00</td>\n",
       "      <td>2015-06-26T08:53:00</td>\n",
       "    </tr>\n",
       "    <tr>\n",
       "      <th>Stop</th>\n",
       "      <td>2015-03-08T10:32:00</td>\n",
       "      <td>2015-04-15T18:10:00</td>\n",
       "      <td>2014-05-12T11:59:05</td>\n",
       "      <td>2015-05-26T09:13:00</td>\n",
       "      <td>2015-06-26T09:02:00</td>\n",
       "    </tr>\n",
       "    <tr>\n",
       "      <th>TripID</th>\n",
       "      <td>12572</td>\n",
       "      <td>13114</td>\n",
       "      <td>1336</td>\n",
       "      <td>14248</td>\n",
       "      <td>15017</td>\n",
       "    </tr>\n",
       "    <tr>\n",
       "      <th>UserId</th>\n",
       "      <td>4</td>\n",
       "      <td>4</td>\n",
       "      <td>4</td>\n",
       "      <td>4</td>\n",
       "      <td>4</td>\n",
       "    </tr>\n",
       "    <tr>\n",
       "      <th>age</th>\n",
       "      <td>no data</td>\n",
       "      <td>no data</td>\n",
       "      <td>no data</td>\n",
       "      <td>no data</td>\n",
       "      <td>no data</td>\n",
       "    </tr>\n",
       "    <tr>\n",
       "      <th>cycling_fr</th>\n",
       "      <td>no data</td>\n",
       "      <td>no data</td>\n",
       "      <td>no data</td>\n",
       "      <td>no data</td>\n",
       "      <td>no data</td>\n",
       "    </tr>\n",
       "    <tr>\n",
       "      <th>ethnicity</th>\n",
       "      <td>no data</td>\n",
       "      <td>no data</td>\n",
       "      <td>no data</td>\n",
       "      <td>no data</td>\n",
       "      <td>no data</td>\n",
       "    </tr>\n",
       "    <tr>\n",
       "      <th>gender</th>\n",
       "      <td>no data</td>\n",
       "      <td>no data</td>\n",
       "      <td>no data</td>\n",
       "      <td>no data</td>\n",
       "      <td>no data</td>\n",
       "    </tr>\n",
       "    <tr>\n",
       "      <th>geometry</th>\n",
       "      <td>LINESTRING (-75.1625742281181 39.9395684976880...</td>\n",
       "      <td>LINESTRING (-75.16225129596052 39.953245133755...</td>\n",
       "      <td>LINESTRING (-75.13337403538338 39.974091209241...</td>\n",
       "      <td>LINESTRING (-75.16732257927356 39.925330932876...</td>\n",
       "      <td>LINESTRING (-75.179402654309 39.97140465550052...</td>\n",
       "    </tr>\n",
       "    <tr>\n",
       "      <th>income</th>\n",
       "      <td>no data</td>\n",
       "      <td>no data</td>\n",
       "      <td>no data</td>\n",
       "      <td>no data</td>\n",
       "      <td>no data</td>\n",
       "    </tr>\n",
       "    <tr>\n",
       "      <th>rider_hist</th>\n",
       "      <td>no data</td>\n",
       "      <td>no data</td>\n",
       "      <td>no data</td>\n",
       "      <td>no data</td>\n",
       "      <td>no data</td>\n",
       "    </tr>\n",
       "    <tr>\n",
       "      <th>rider_type</th>\n",
       "      <td>no data</td>\n",
       "      <td>no data</td>\n",
       "      <td>no data</td>\n",
       "      <td>no data</td>\n",
       "      <td>no data</td>\n",
       "    </tr>\n",
       "  </tbody>\n",
       "</table>\n",
       "</div>"
      ],
      "text/plain": [
       "                                                            0  \\\n",
       "Purpose                                               Commute   \n",
       "Start                                     2015-03-08T10:14:00   \n",
       "Stop                                      2015-03-08T10:32:00   \n",
       "TripID                                                  12572   \n",
       "UserId                                                      4   \n",
       "age                                                   no data   \n",
       "cycling_fr                                            no data   \n",
       "ethnicity                                             no data   \n",
       "gender                                                no data   \n",
       "geometry    LINESTRING (-75.1625742281181 39.9395684976880...   \n",
       "income                                                no data   \n",
       "rider_hist                                            no data   \n",
       "rider_type                                            no data   \n",
       "\n",
       "                                                            1  \\\n",
       "Purpose                                               Commute   \n",
       "Start                                     2015-04-15T17:53:00   \n",
       "Stop                                      2015-04-15T18:10:00   \n",
       "TripID                                                  13114   \n",
       "UserId                                                      4   \n",
       "age                                                   no data   \n",
       "cycling_fr                                            no data   \n",
       "ethnicity                                             no data   \n",
       "gender                                                no data   \n",
       "geometry    LINESTRING (-75.16225129596052 39.953245133755...   \n",
       "income                                                no data   \n",
       "rider_hist                                            no data   \n",
       "rider_type                                            no data   \n",
       "\n",
       "                                                            2  \\\n",
       "Purpose                                               Commute   \n",
       "Start                                     2014-05-12T11:43:37   \n",
       "Stop                                      2014-05-12T11:59:05   \n",
       "TripID                                                   1336   \n",
       "UserId                                                      4   \n",
       "age                                                   no data   \n",
       "cycling_fr                                            no data   \n",
       "ethnicity                                             no data   \n",
       "gender                                                no data   \n",
       "geometry    LINESTRING (-75.13337403538338 39.974091209241...   \n",
       "income                                                no data   \n",
       "rider_hist                                            no data   \n",
       "rider_type                                            no data   \n",
       "\n",
       "                                                            3  \\\n",
       "Purpose                                               Commute   \n",
       "Start                                     2015-05-26T09:01:00   \n",
       "Stop                                      2015-05-26T09:13:00   \n",
       "TripID                                                  14248   \n",
       "UserId                                                      4   \n",
       "age                                                   no data   \n",
       "cycling_fr                                            no data   \n",
       "ethnicity                                             no data   \n",
       "gender                                                no data   \n",
       "geometry    LINESTRING (-75.16732257927356 39.925330932876...   \n",
       "income                                                no data   \n",
       "rider_hist                                            no data   \n",
       "rider_type                                            no data   \n",
       "\n",
       "                                                            4  \n",
       "Purpose                                               Commute  \n",
       "Start                                     2015-06-26T08:53:00  \n",
       "Stop                                      2015-06-26T09:02:00  \n",
       "TripID                                                  15017  \n",
       "UserId                                                      4  \n",
       "age                                                   no data  \n",
       "cycling_fr                                            no data  \n",
       "ethnicity                                             no data  \n",
       "gender                                                no data  \n",
       "geometry    LINESTRING (-75.179402654309 39.97140465550052...  \n",
       "income                                                no data  \n",
       "rider_hist                                            no data  \n",
       "rider_type                                            no data  "
      ]
     },
     "execution_count": 554,
     "metadata": {},
     "output_type": "execute_result"
    }
   ],
   "source": [
    "purp.head().T"
   ]
  },
  {
   "cell_type": "code",
   "execution_count": 567,
   "metadata": {
    "collapsed": false
   },
   "outputs": [
    {
     "data": {
      "text/html": [
       "<div>\n",
       "<table border=\"1\" class=\"dataframe\">\n",
       "  <thead>\n",
       "    <tr style=\"text-align: right;\">\n",
       "      <th></th>\n",
       "      <th>Purpose</th>\n",
       "      <th>Start</th>\n",
       "      <th>Stop</th>\n",
       "      <th>TripID</th>\n",
       "      <th>UserId</th>\n",
       "      <th>age</th>\n",
       "      <th>cycling_fr</th>\n",
       "      <th>ethnicity</th>\n",
       "      <th>gender</th>\n",
       "      <th>geometry</th>\n",
       "      <th>income</th>\n",
       "      <th>rider_hist</th>\n",
       "      <th>rider_type</th>\n",
       "    </tr>\n",
       "  </thead>\n",
       "  <tbody>\n",
       "    <tr>\n",
       "      <th>40</th>\n",
       "      <td>Commute</td>\n",
       "      <td>2014-08-07T18:16:06</td>\n",
       "      <td>2014-08-07T18:27:05</td>\n",
       "      <td>8148</td>\n",
       "      <td>273</td>\n",
       "      <td>no data</td>\n",
       "      <td>Daily</td>\n",
       "      <td>no data</td>\n",
       "      <td>no data</td>\n",
       "      <td>LINESTRING (-75.16409941265772 39.950094512751...</td>\n",
       "      <td>no data</td>\n",
       "      <td>Several years</td>\n",
       "      <td>Enthused &amp; Confident</td>\n",
       "    </tr>\n",
       "    <tr>\n",
       "      <th>1299</th>\n",
       "      <td>Commute</td>\n",
       "      <td>2014-08-07T08:55:07</td>\n",
       "      <td>2014-08-07T09:08:54</td>\n",
       "      <td>8122</td>\n",
       "      <td>273</td>\n",
       "      <td>no data</td>\n",
       "      <td>Daily</td>\n",
       "      <td>no data</td>\n",
       "      <td>no data</td>\n",
       "      <td>LINESTRING (-75.17440143447857 39.932964603233...</td>\n",
       "      <td>no data</td>\n",
       "      <td>Several years</td>\n",
       "      <td>Enthused &amp; Confident</td>\n",
       "    </tr>\n",
       "    <tr>\n",
       "      <th>1749</th>\n",
       "      <td>Commute</td>\n",
       "      <td>2014-08-06T17:19:56</td>\n",
       "      <td>2014-08-06T18:00:08</td>\n",
       "      <td>8085</td>\n",
       "      <td>273</td>\n",
       "      <td>no data</td>\n",
       "      <td>Daily</td>\n",
       "      <td>no data</td>\n",
       "      <td>no data</td>\n",
       "      <td>LINESTRING (-75.16577456364513 39.950319197572...</td>\n",
       "      <td>no data</td>\n",
       "      <td>Several years</td>\n",
       "      <td>Enthused &amp; Confident</td>\n",
       "    </tr>\n",
       "    <tr>\n",
       "      <th>2954</th>\n",
       "      <td>Commute</td>\n",
       "      <td>2014-08-06T08:44:00</td>\n",
       "      <td>2014-08-06T09:10:06</td>\n",
       "      <td>8123</td>\n",
       "      <td>273</td>\n",
       "      <td>no data</td>\n",
       "      <td>Daily</td>\n",
       "      <td>no data</td>\n",
       "      <td>no data</td>\n",
       "      <td>LINESTRING (-75.17368658766583 39.936276296414...</td>\n",
       "      <td>no data</td>\n",
       "      <td>Several years</td>\n",
       "      <td>Enthused &amp; Confident</td>\n",
       "    </tr>\n",
       "    <tr>\n",
       "      <th>3774</th>\n",
       "      <td>Errand</td>\n",
       "      <td>2014-08-05T12:01:50</td>\n",
       "      <td>2014-08-05T12:26:27</td>\n",
       "      <td>8041</td>\n",
       "      <td>273</td>\n",
       "      <td>no data</td>\n",
       "      <td>Daily</td>\n",
       "      <td>no data</td>\n",
       "      <td>no data</td>\n",
       "      <td>LINESTRING (-75.16426973436069 39.949343571648...</td>\n",
       "      <td>no data</td>\n",
       "      <td>Several years</td>\n",
       "      <td>Enthused &amp; Confident</td>\n",
       "    </tr>\n",
       "    <tr>\n",
       "      <th>3795</th>\n",
       "      <td>Errand</td>\n",
       "      <td>2014-08-05T12:26:36</td>\n",
       "      <td>2014-08-05T12:46:56</td>\n",
       "      <td>7998</td>\n",
       "      <td>273</td>\n",
       "      <td>no data</td>\n",
       "      <td>Daily</td>\n",
       "      <td>no data</td>\n",
       "      <td>no data</td>\n",
       "      <td>LINESTRING (-75.14729268171186 39.942854855167...</td>\n",
       "      <td>no data</td>\n",
       "      <td>Several years</td>\n",
       "      <td>Enthused &amp; Confident</td>\n",
       "    </tr>\n",
       "    <tr>\n",
       "      <th>5872</th>\n",
       "      <td>Social</td>\n",
       "      <td>2014-08-05T20:19:37</td>\n",
       "      <td>2014-08-05T20:30:41</td>\n",
       "      <td>8028</td>\n",
       "      <td>273</td>\n",
       "      <td>no data</td>\n",
       "      <td>Daily</td>\n",
       "      <td>no data</td>\n",
       "      <td>no data</td>\n",
       "      <td>LINESTRING (-75.1775562481223 39.9333660785817...</td>\n",
       "      <td>no data</td>\n",
       "      <td>Several years</td>\n",
       "      <td>Enthused &amp; Confident</td>\n",
       "    </tr>\n",
       "    <tr>\n",
       "      <th>6047</th>\n",
       "      <td>Social</td>\n",
       "      <td>2014-08-05T20:45:18</td>\n",
       "      <td>2014-08-05T20:54:30</td>\n",
       "      <td>8033</td>\n",
       "      <td>273</td>\n",
       "      <td>no data</td>\n",
       "      <td>Daily</td>\n",
       "      <td>no data</td>\n",
       "      <td>no data</td>\n",
       "      <td>LINESTRING (-75.17182114642873 39.937462718929...</td>\n",
       "      <td>no data</td>\n",
       "      <td>Several years</td>\n",
       "      <td>Enthused &amp; Confident</td>\n",
       "    </tr>\n",
       "  </tbody>\n",
       "</table>\n",
       "</div>"
      ],
      "text/plain": [
       "      Purpose                Start                 Stop TripID UserId  \\\n",
       "40    Commute  2014-08-07T18:16:06  2014-08-07T18:27:05   8148    273   \n",
       "1299  Commute  2014-08-07T08:55:07  2014-08-07T09:08:54   8122    273   \n",
       "1749  Commute  2014-08-06T17:19:56  2014-08-06T18:00:08   8085    273   \n",
       "2954  Commute  2014-08-06T08:44:00  2014-08-06T09:10:06   8123    273   \n",
       "3774   Errand  2014-08-05T12:01:50  2014-08-05T12:26:27   8041    273   \n",
       "3795   Errand  2014-08-05T12:26:36  2014-08-05T12:46:56   7998    273   \n",
       "5872   Social  2014-08-05T20:19:37  2014-08-05T20:30:41   8028    273   \n",
       "6047   Social  2014-08-05T20:45:18  2014-08-05T20:54:30   8033    273   \n",
       "\n",
       "          age cycling_fr ethnicity   gender  \\\n",
       "40    no data      Daily   no data  no data   \n",
       "1299  no data      Daily   no data  no data   \n",
       "1749  no data      Daily   no data  no data   \n",
       "2954  no data      Daily   no data  no data   \n",
       "3774  no data      Daily   no data  no data   \n",
       "3795  no data      Daily   no data  no data   \n",
       "5872  no data      Daily   no data  no data   \n",
       "6047  no data      Daily   no data  no data   \n",
       "\n",
       "                                               geometry   income  \\\n",
       "40    LINESTRING (-75.16409941265772 39.950094512751...  no data   \n",
       "1299  LINESTRING (-75.17440143447857 39.932964603233...  no data   \n",
       "1749  LINESTRING (-75.16577456364513 39.950319197572...  no data   \n",
       "2954  LINESTRING (-75.17368658766583 39.936276296414...  no data   \n",
       "3774  LINESTRING (-75.16426973436069 39.949343571648...  no data   \n",
       "3795  LINESTRING (-75.14729268171186 39.942854855167...  no data   \n",
       "5872  LINESTRING (-75.1775562481223 39.9333660785817...  no data   \n",
       "6047  LINESTRING (-75.17182114642873 39.937462718929...  no data   \n",
       "\n",
       "         rider_hist            rider_type  \n",
       "40    Several years  Enthused & Confident  \n",
       "1299  Several years  Enthused & Confident  \n",
       "1749  Several years  Enthused & Confident  \n",
       "2954  Several years  Enthused & Confident  \n",
       "3774  Several years  Enthused & Confident  \n",
       "3795  Several years  Enthused & Confident  \n",
       "5872  Several years  Enthused & Confident  \n",
       "6047  Several years  Enthused & Confident  "
      ]
     },
     "execution_count": 567,
     "metadata": {},
     "output_type": "execute_result"
    }
   ],
   "source": [
    "purp[purp.UserId=='273']"
   ]
  },
  {
   "cell_type": "code",
   "execution_count": 599,
   "metadata": {
    "collapsed": false
   },
   "outputs": [
    {
     "data": {
      "text/plain": [
       "[0, 0, 0, 0, 0, 3519, 3416, 3685, 3594, 0, 4104, 3381, 3418]"
      ]
     },
     "execution_count": 599,
     "metadata": {},
     "output_type": "execute_result"
    }
   ],
   "source": [
    "temp = [sum(purp[column]=='no data') for column in purp]\n",
    "temp"
   ]
  },
  {
   "cell_type": "code",
   "execution_count": 612,
   "metadata": {
    "collapsed": false
   },
   "outputs": [
    {
     "data": {
      "text/plain": [
       "3155"
      ]
     },
     "execution_count": 612,
     "metadata": {},
     "output_type": "execute_result"
    }
   ],
   "source": [
    "len(purp[purp.UserId=='4'])"
   ]
  },
  {
   "cell_type": "code",
   "execution_count": 611,
   "metadata": {
    "collapsed": false
   },
   "outputs": [
    {
     "data": {
      "text/plain": [
       "[('Purpose', 0),\n",
       " ('Start', 0),\n",
       " ('Stop', 0),\n",
       " ('TripID', 0),\n",
       " ('UserId', 0),\n",
       " ('age', 3519),\n",
       " ('cycling_fr', 3416),\n",
       " ('ethnicity', 3685),\n",
       " ('gender', 3594),\n",
       " ('geometry', 0),\n",
       " ('income', 4104),\n",
       " ('rider_hist', 3381),\n",
       " ('rider_type', 3418)]"
      ]
     },
     "execution_count": 611,
     "metadata": {},
     "output_type": "execute_result"
    }
   ],
   "source": [
    "t1 = list(zip(list(purp.columns),temp))\n",
    "t1"
   ]
  },
  {
   "cell_type": "code",
   "execution_count": 614,
   "metadata": {
    "collapsed": false
   },
   "outputs": [
    {
     "data": {
      "text/plain": [
       "[0, 0, 0, 0, 0, 3155, 3155, 3155, 3155, 0, 3155, 3155, 3155]"
      ]
     },
     "execution_count": 614,
     "metadata": {},
     "output_type": "execute_result"
    }
   ],
   "source": [
    "temp2 = [Counter(purp[purp[column]=='no data'].UserId) for column in purp]\n",
    "t2 = [t[\"4\"] for t in temp2]\n",
    "t2"
   ]
  },
  {
   "cell_type": "code",
   "execution_count": 598,
   "metadata": {
    "collapsed": false
   },
   "outputs": [
    {
     "data": {
      "text/plain": [
       "[('Purpose', 0),\n",
       " ('Start', 0),\n",
       " ('Stop', 0),\n",
       " ('TripID', 0),\n",
       " ('UserId', 0),\n",
       " ('age', 364),\n",
       " ('cycling_fr', 261),\n",
       " ('ethnicity', 530),\n",
       " ('gender', 439),\n",
       " ('geometry', 0),\n",
       " ('income', 949),\n",
       " ('rider_hist', 226),\n",
       " ('rider_type', 263)]"
      ]
     },
     "execution_count": 598,
     "metadata": {},
     "output_type": "execute_result"
    }
   ],
   "source": [
    "list(zip(list(purp.columns),list(np.array(temp)-np.array(t2))))"
   ]
  },
  {
   "cell_type": "code",
   "execution_count": 626,
   "metadata": {
    "collapsed": false
   },
   "outputs": [
    {
     "data": {
      "text/plain": [
       "[set(),\n",
       " set(),\n",
       " set(),\n",
       " set(),\n",
       " set(),\n",
       " {'119',\n",
       "  '12',\n",
       "  '133',\n",
       "  '143',\n",
       "  '148',\n",
       "  '212',\n",
       "  '222',\n",
       "  '223',\n",
       "  '24',\n",
       "  '25',\n",
       "  '273',\n",
       "  '274',\n",
       "  '305',\n",
       "  '310',\n",
       "  '314',\n",
       "  '320',\n",
       "  '342',\n",
       "  '344',\n",
       "  '35',\n",
       "  '382',\n",
       "  '4',\n",
       "  '400',\n",
       "  '47',\n",
       "  '74',\n",
       "  '90'},\n",
       " {'100',\n",
       "  '108',\n",
       "  '119',\n",
       "  '122',\n",
       "  '129',\n",
       "  '133',\n",
       "  '143',\n",
       "  '148',\n",
       "  '152',\n",
       "  '166',\n",
       "  '175',\n",
       "  '212',\n",
       "  '220',\n",
       "  '24',\n",
       "  '25',\n",
       "  '270',\n",
       "  '278',\n",
       "  '293',\n",
       "  '305',\n",
       "  '314',\n",
       "  '320',\n",
       "  '333',\n",
       "  '338',\n",
       "  '342',\n",
       "  '344',\n",
       "  '35',\n",
       "  '357',\n",
       "  '379',\n",
       "  '382',\n",
       "  '4',\n",
       "  '405',\n",
       "  '50',\n",
       "  '74',\n",
       "  '81',\n",
       "  '90'},\n",
       " {'119',\n",
       "  '12',\n",
       "  '129',\n",
       "  '133',\n",
       "  '143',\n",
       "  '148',\n",
       "  '168',\n",
       "  '212',\n",
       "  '219',\n",
       "  '223',\n",
       "  '234',\n",
       "  '24',\n",
       "  '25',\n",
       "  '267',\n",
       "  '273',\n",
       "  '274',\n",
       "  '305',\n",
       "  '310',\n",
       "  '314',\n",
       "  '320',\n",
       "  '327',\n",
       "  '342',\n",
       "  '344',\n",
       "  '35',\n",
       "  '37',\n",
       "  '379',\n",
       "  '382',\n",
       "  '4',\n",
       "  '400',\n",
       "  '407',\n",
       "  '43',\n",
       "  '47',\n",
       "  '74',\n",
       "  '87',\n",
       "  '90'},\n",
       " {'119',\n",
       "  '12',\n",
       "  '133',\n",
       "  '143',\n",
       "  '148',\n",
       "  '212',\n",
       "  '222',\n",
       "  '223',\n",
       "  '24',\n",
       "  '25',\n",
       "  '263',\n",
       "  '273',\n",
       "  '305',\n",
       "  '310',\n",
       "  '314',\n",
       "  '320',\n",
       "  '342',\n",
       "  '344',\n",
       "  '35',\n",
       "  '382',\n",
       "  '389',\n",
       "  '4',\n",
       "  '46',\n",
       "  '47',\n",
       "  '74',\n",
       "  '87',\n",
       "  '90'},\n",
       " set(),\n",
       " {'108',\n",
       "  '111',\n",
       "  '115',\n",
       "  '119',\n",
       "  '12',\n",
       "  '122',\n",
       "  '129',\n",
       "  '133',\n",
       "  '143',\n",
       "  '146',\n",
       "  '148',\n",
       "  '150',\n",
       "  '158',\n",
       "  '160',\n",
       "  '168',\n",
       "  '171',\n",
       "  '172',\n",
       "  '212',\n",
       "  '219',\n",
       "  '222',\n",
       "  '223',\n",
       "  '225',\n",
       "  '234',\n",
       "  '24',\n",
       "  '244',\n",
       "  '25',\n",
       "  '263',\n",
       "  '264',\n",
       "  '267',\n",
       "  '270',\n",
       "  '273',\n",
       "  '274',\n",
       "  '278',\n",
       "  '279',\n",
       "  '290',\n",
       "  '295',\n",
       "  '30',\n",
       "  '300',\n",
       "  '304',\n",
       "  '305',\n",
       "  '307',\n",
       "  '310',\n",
       "  '312',\n",
       "  '314',\n",
       "  '320',\n",
       "  '327',\n",
       "  '334',\n",
       "  '342',\n",
       "  '344',\n",
       "  '347',\n",
       "  '35',\n",
       "  '350',\n",
       "  '361',\n",
       "  '37',\n",
       "  '373',\n",
       "  '376',\n",
       "  '379',\n",
       "  '382',\n",
       "  '4',\n",
       "  '400',\n",
       "  '407',\n",
       "  '411',\n",
       "  '414',\n",
       "  '47',\n",
       "  '52',\n",
       "  '60',\n",
       "  '65',\n",
       "  '74',\n",
       "  '87',\n",
       "  '90',\n",
       "  '99'},\n",
       " {'119',\n",
       "  '12',\n",
       "  '133',\n",
       "  '143',\n",
       "  '148',\n",
       "  '212',\n",
       "  '220',\n",
       "  '24',\n",
       "  '25',\n",
       "  '270',\n",
       "  '305',\n",
       "  '314',\n",
       "  '320',\n",
       "  '333',\n",
       "  '342',\n",
       "  '344',\n",
       "  '35',\n",
       "  '382',\n",
       "  '4',\n",
       "  '74',\n",
       "  '90'},\n",
       " {'119',\n",
       "  '12',\n",
       "  '133',\n",
       "  '143',\n",
       "  '148',\n",
       "  '212',\n",
       "  '220',\n",
       "  '24',\n",
       "  '25',\n",
       "  '305',\n",
       "  '314',\n",
       "  '320',\n",
       "  '333',\n",
       "  '342',\n",
       "  '344',\n",
       "  '35',\n",
       "  '382',\n",
       "  '4',\n",
       "  '60',\n",
       "  '74',\n",
       "  '90',\n",
       "  '99'}]"
      ]
     },
     "execution_count": 626,
     "metadata": {},
     "output_type": "execute_result"
    }
   ],
   "source": [
    "temp3 = [set(purp[purp[column]=='no data'].UserId) for column in purp]\n",
    "temp3"
   ]
  },
  {
   "cell_type": "code",
   "execution_count": 629,
   "metadata": {
    "collapsed": false
   },
   "outputs": [],
   "source": [
    "temp3 = [t for t in temp3 if t]\n"
   ]
  },
  {
   "cell_type": "code",
   "execution_count": 633,
   "metadata": {
    "collapsed": false
   },
   "outputs": [],
   "source": [
    "t4 = set.intersection(*temp3)"
   ]
  },
  {
   "cell_type": "code",
   "execution_count": 635,
   "metadata": {
    "collapsed": false
   },
   "outputs": [
    {
     "data": {
      "text/plain": [
       "[('212', 12),\n",
       " ('344', 29),\n",
       " ('314', 3),\n",
       " ('320', 9),\n",
       " ('119', 1),\n",
       " ('74', 3),\n",
       " ('133', 4),\n",
       " ('305', 9),\n",
       " ('90', 5),\n",
       " ('143', 1),\n",
       " ('35', 1),\n",
       " ('382', 1),\n",
       " ('4', 3155),\n",
       " ('148', 1),\n",
       " ('25', 5),\n",
       " ('342', 4),\n",
       " ('24', 124)]"
      ]
     },
     "execution_count": 635,
     "metadata": {},
     "output_type": "execute_result"
    }
   ],
   "source": [
    "temp4 = Counter(purp.UserId)\n",
    "t5 = [temp4[t] for t in t4]\n",
    "list(zip(t4,t5))"
   ]
  },
  {
   "cell_type": "code",
   "execution_count": null,
   "metadata": {
    "collapsed": true
   },
   "outputs": [],
   "source": []
  }
 ],
 "metadata": {
  "anaconda-cloud": {},
  "kernelspec": {
   "display_name": "Python [Root]",
   "language": "python",
   "name": "Python [Root]"
  },
  "language_info": {
   "codemirror_mode": {
    "name": "ipython",
    "version": 3
   },
   "file_extension": ".py",
   "mimetype": "text/x-python",
   "name": "python",
   "nbconvert_exporter": "python",
   "pygments_lexer": "ipython3",
   "version": "3.5.2"
  }
 },
 "nbformat": 4,
 "nbformat_minor": 0
}
