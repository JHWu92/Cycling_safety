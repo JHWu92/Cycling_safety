{
 "cells": [
  {
   "cell_type": "code",
   "execution_count": 19,
   "metadata": {
    "collapsed": false
   },
   "outputs": [],
   "source": [
    "js_path = '../data/frsq/foursquare-taxonomy.json'\n",
    "import json\n",
    "with open(js_path) as f:\n",
    "    JS = json.load(f)"
   ]
  },
  {
   "cell_type": "code",
   "execution_count": 20,
   "metadata": {
    "collapsed": false
   },
   "outputs": [],
   "source": [
    "def parse_categories(js,parent_id,level):\n",
    "    result = []\n",
    "    for order,cate in enumerate(js):\n",
    "        cid, pluralName, shortName, name, icon = cate['id'], cate['pluralName'], cate['shortName'], cate['name'], cate['icon']        \n",
    "        sub_result=[]\n",
    "        if 'categories' in cate and cate['categories']:\n",
    "            sub_result = parse_categories(cate['categories'], cid, level+1)\n",
    "        result.append([parent_id, cid, pluralName.strip(), shortName.strip(), name.strip(), icon, level,order])\n",
    "        result.extend(sub_result)\n",
    "#         break\n",
    "    return result\n",
    "import pandas as pd\n",
    "df = pd.DataFrame(parse_categories(JS,'root',1))\n",
    "df.columns = ['parent_id', 'cid', 'pluralName', 'shortName', 'name', 'icon', 'level','order']"
   ]
  },
  {
   "cell_type": "code",
   "execution_count": 21,
   "metadata": {
    "collapsed": false
   },
   "outputs": [
    {
     "name": "stdout",
     "output_type": "stream",
     "text": [
      "(10, 8) (1L,)\n",
      "(437, 8) (10L,)\n",
      "(345, 8) (49L,)\n"
     ]
    }
   ],
   "source": [
    "for i in range(1,4):\n",
    "    sub_df = df.query('level==%d' %i)\n",
    "    print sub_df.shape, sub_df.parent_id.value_counts().shape"
   ]
  },
  {
   "cell_type": "code",
   "execution_count": 22,
   "metadata": {
    "collapsed": false
   },
   "outputs": [
    {
     "name": "stdout",
     "output_type": "stream",
     "text": [
      "(10, 8) (1L,)\n",
      "(437, 8) (10L,)\n",
      "(345, 8) (49L,)\n"
     ]
    }
   ],
   "source": [
    "for i in range(1,4):\n",
    "    sub_df = df.query('level==%d' %i)\n",
    "    print sub_df.shape, sub_df.parent_id.value_counts().shape"
   ]
  },
  {
   "cell_type": "code",
   "execution_count": 23,
   "metadata": {
    "collapsed": false,
    "scrolled": true
   },
   "outputs": [
    {
     "data": {
      "text/plain": [
       "False    867\n",
       "True      19\n",
       "dtype: int64"
      ]
     },
     "execution_count": 23,
     "metadata": {},
     "output_type": "execute_result"
    }
   ],
   "source": [
    "(df.name==df.pluralName).value_counts()"
   ]
  },
  {
   "cell_type": "code",
   "execution_count": 24,
   "metadata": {
    "collapsed": false
   },
   "outputs": [],
   "source": [
    "df.drop('icon', axis=1).to_csv('../data/frsq/frsq_taxonomy_tree.csv', encoding='utf-8')"
   ]
  },
  {
   "cell_type": "code",
   "execution_count": 67,
   "metadata": {
    "collapsed": false,
    "scrolled": true
   },
   "outputs": [],
   "source": [
    "with open('frsq_taxonomy_tree.txt','w') as f:\n",
    "    f.write('\\n'.join(df.apply(lambda x:'{}{}'.format('\\t'*x.level, x['name'].encode('utf-8')), axis=1).values))"
   ]
  },
  {
   "cell_type": "code",
   "execution_count": 65,
   "metadata": {
    "collapsed": false
   },
   "outputs": [
    {
     "data": {
      "text/plain": [
       "parent_id\n",
       "4bf58dd8d48988d103951735    [parent_id, cid, pluralName, shortName, name, ...\n",
       "4bf58dd8d48988d104941735    [parent_id, cid, pluralName, shortName, name, ...\n",
       "4bf58dd8d48988d10f941735    [parent_id, cid, pluralName, shortName, name, ...\n",
       "4bf58dd8d48988d124941735    [parent_id, cid, pluralName, shortName, name, ...\n",
       "4bf58dd8d48988d126941735    [parent_id, cid, pluralName, shortName, name, ...\n",
       "4bf58dd8d48988d129951735    [parent_id, cid, pluralName, shortName, name, ...\n",
       "4bf58dd8d48988d131941735    [parent_id, cid, pluralName, shortName, name, ...\n",
       "4bf58dd8d48988d13b941735    [parent_id, cid, pluralName, shortName, name, ...\n",
       "4bf58dd8d48988d145941735    [parent_id, cid, pluralName, shortName, name, ...\n",
       "4bf58dd8d48988d150941735    [parent_id, cid, pluralName, shortName, name, ...\n",
       "4bf58dd8d48988d175941735    [parent_id, cid, pluralName, shortName, name, ...\n",
       "4bf58dd8d48988d17f941735    [parent_id, cid, pluralName, shortName, name, ...\n",
       "4bf58dd8d48988d181941735    [parent_id, cid, pluralName, shortName, name, ...\n",
       "4bf58dd8d48988d182941735    [parent_id, cid, pluralName, shortName, name, ...\n",
       "4bf58dd8d48988d184941735    [parent_id, cid, pluralName, shortName, name, ...\n",
       "4bf58dd8d48988d198941735    [parent_id, cid, pluralName, shortName, name, ...\n",
       "4bf58dd8d48988d1b4941735    [parent_id, cid, pluralName, shortName, name, ...\n",
       "4bf58dd8d48988d1be941735    [parent_id, cid, pluralName, shortName, name, ...\n",
       "4bf58dd8d48988d1e2941735    [parent_id, cid, pluralName, shortName, name, ...\n",
       "4bf58dd8d48988d1e5931735    [parent_id, cid, pluralName, shortName, name, ...\n",
       "4bf58dd8d48988d1e9941735    [parent_id, cid, pluralName, shortName, name, ...\n",
       "4bf58dd8d48988d1ed931735    [parent_id, cid, pluralName, shortName, name, ...\n",
       "4bf58dd8d48988d1f2931735    [parent_id, cid, pluralName, shortName, name, ...\n",
       "4bf58dd8d48988d1f9941735    [parent_id, cid, pluralName, shortName, name, ...\n",
       "4bf58dd8d48988d1fa931735    [parent_id, cid, pluralName, shortName, name, ...\n",
       "4bf58dd8d48988d1fe931735    [parent_id, cid, pluralName, shortName, name, ...\n",
       "4bf58dd8d48988d1ff931735    [parent_id, cid, pluralName, shortName, name, ...\n",
       "4d4b7104d754a06370d81259    [parent_id, cid, pluralName, shortName, name, ...\n",
       "4d4b7105d754a06372d81259    [parent_id, cid, pluralName, shortName, name, ...\n",
       "4d4b7105d754a06373d81259    [parent_id, cid, pluralName, shortName, name, ...\n",
       "4d4b7105d754a06374d81259    [parent_id, cid, pluralName, shortName, name, ...\n",
       "4d4b7105d754a06375d81259    [parent_id, cid, pluralName, shortName, name, ...\n",
       "4d4b7105d754a06376d81259    [parent_id, cid, pluralName, shortName, name, ...\n",
       "4d4b7105d754a06377d81259    [parent_id, cid, pluralName, shortName, name, ...\n",
       "4d4b7105d754a06378d81259    [parent_id, cid, pluralName, shortName, name, ...\n",
       "4d4b7105d754a06379d81259    [parent_id, cid, pluralName, shortName, name, ...\n",
       "4e67e38e036454776db1fb3a    [parent_id, cid, pluralName, shortName, name, ...\n",
       "4f4528bc4b90abdf24c9de85    [parent_id, cid, pluralName, shortName, name, ...\n",
       "530e33ccbcbc57f1066bbfe4    [parent_id, cid, pluralName, shortName, name, ...\n",
       "none                        [parent_id, cid, pluralName, shortName, name, ...\n",
       "dtype: object"
      ]
     },
     "execution_count": 65,
     "metadata": {},
     "output_type": "execute_result"
    }
   ],
   "source": [
    "df.groupby('parent_id').apply(list)"
   ]
  }
 ],
 "metadata": {
  "kernelspec": {
   "display_name": "Python 2",
   "language": "python",
   "name": "python2"
  },
  "language_info": {
   "codemirror_mode": {
    "name": "ipython",
    "version": 2
   },
   "file_extension": ".py",
   "mimetype": "text/x-python",
   "name": "python",
   "nbconvert_exporter": "python",
   "pygments_lexer": "ipython2",
   "version": "2.7.11"
  }
 },
 "nbformat": 4,
 "nbformat_minor": 0
}
